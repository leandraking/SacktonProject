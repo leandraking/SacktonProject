{
 "cells": [
  {
   "cell_type": "code",
   "execution_count": 2,
   "metadata": {
    "collapsed": false
   },
   "outputs": [
    {
     "name": "stderr",
     "output_type": "stream",
     "text": [
      "//anaconda/lib/python2.7/site-packages/matplotlib/__init__.py:872: UserWarning: axes.color_cycle is deprecated and replaced with axes.prop_cycle; please use the latter.\n",
      "  warnings.warn(self.msg_depr % (key, alt_key))\n"
     ]
    }
   ],
   "source": [
    "%matplotlib inline\n",
    "import numpy as np\n",
    "import scipy as sp\n",
    "import matplotlib as mpl\n",
    "import matplotlib.cm as cm\n",
    "import matplotlib.pyplot as plt\n",
    "import pandas as pd\n",
    "pd.set_option('display.width', 200)\n",
    "pd.set_option('display.max_columns', 100)\n",
    "pd.set_option('display.notebook_repr_html', True)\n",
    "import seaborn as sns\n",
    "sns.set_style(\"whitegrid\")\n",
    "sns.set_context(\"poster\")\n",
    "from PIL import Image\n",
    "from sklearn.decomposition import PCA\n",
    "import glob\n",
    "import string"
   ]
  },
  {
   "cell_type": "markdown",
   "metadata": {},
   "source": [
    "# Load files"
   ]
  },
  {
   "cell_type": "code",
   "execution_count": 3,
   "metadata": {
    "collapsed": false
   },
   "outputs": [],
   "source": [
    "files_dict={}\n",
    "\n",
    "for fl in glob.glob(\"../20160223_BamData/NoA/*\"):\n",
    "    a= (fl.split('/')[-1]).split('_cut')[0]\n",
    "    if a:\n",
    "        files_dict[a]=pd.read_csv(fl, sep=\"\\t\", header=None)[3]\n",
    "NoA=pd.DataFrame(files_dict)\n",
    "     \n",
    "files_dict={}\n",
    "for fl in glob.glob(\"../20160223_BamData/AdRp/*\"):\n",
    "    a= (fl.split('/')[-1]).split('_cut')[0]\n",
    "    if a:\n",
    "        files_dict[a]=pd.read_csv(fl, sep=\"\\t\", header=None)[3]   \n",
    "AdRp=pd.DataFrame(files_dict)"
   ]
  },
  {
   "cell_type": "markdown",
   "metadata": {},
   "source": [
    "Check that columns are in same order (ie. Zi257C4 in AdRp corresponds to Zi257C4 in NoA).  True"
   ]
  },
  {
   "cell_type": "code",
   "execution_count": 4,
   "metadata": {
    "collapsed": false
   },
   "outputs": [
    {
     "data": {
      "text/plain": [
       "True"
      ]
     },
     "execution_count": 4,
     "metadata": {},
     "output_type": "execute_result"
    }
   ],
   "source": [
    "#Remove NoA and AdRp label from columns\n",
    "AdRp.columns=[ele[:-5] for ele in AdRp.columns]\n",
    "NoA.columns=[ele[:-4] for ele in NoA.columns]\n",
    "\n",
    "all(AdRp.columns.values == NoA.columns.values) \n"
   ]
  },
  {
   "cell_type": "markdown",
   "metadata": {},
   "source": [
    "Check that all rows are the same, so the same gene locations are explored in all datasets.  True."
   ]
  },
  {
   "cell_type": "code",
   "execution_count": 5,
   "metadata": {
    "collapsed": false
   },
   "outputs": [
    {
     "name": "stdout",
     "output_type": "stream",
     "text": [
      "True\n"
     ]
    }
   ],
   "source": [
    "Locations = [pd.read_csv(fl, sep=\"\\t\", header=None, usecols=range(3)) for fl in glob.glob(\"../20160223_BamData/NoA/*\")]\n",
    "print all([df1.equals(df2) for df1 in Locations for df2 in Locations])\n",
    "Locations=Locations[0]"
   ]
  },
  {
   "cell_type": "markdown",
   "metadata": {},
   "source": [
    "We print the various locations that were sequenced (not base pair numbers).  We notice there is mitochondrion dna: 'mitochondrion_genome'.  We will want to remove that.\n",
    "\n",
    "Question: if we're interested in gene expression across the autosomes, should we be removing information from the Y too?"
   ]
  },
  {
   "cell_type": "code",
   "execution_count": 6,
   "metadata": {
    "collapsed": false
   },
   "outputs": [
    {
     "data": {
      "text/html": [
       "<div>\n",
       "<table border=\"1\" class=\"dataframe\">\n",
       "  <thead>\n",
       "    <tr style=\"text-align: right;\">\n",
       "      <th></th>\n",
       "      <th>1</th>\n",
       "      <th>2</th>\n",
       "    </tr>\n",
       "    <tr>\n",
       "      <th>0</th>\n",
       "      <th></th>\n",
       "      <th></th>\n",
       "    </tr>\n",
       "  </thead>\n",
       "  <tbody>\n",
       "    <tr>\n",
       "      <th>211000022278049</th>\n",
       "      <td>34</td>\n",
       "      <td>34</td>\n",
       "    </tr>\n",
       "    <tr>\n",
       "      <th>211000022278185</th>\n",
       "      <td>7</td>\n",
       "      <td>7</td>\n",
       "    </tr>\n",
       "    <tr>\n",
       "      <th>211000022278217</th>\n",
       "      <td>6</td>\n",
       "      <td>6</td>\n",
       "    </tr>\n",
       "    <tr>\n",
       "      <th>211000022278269</th>\n",
       "      <td>2</td>\n",
       "      <td>2</td>\n",
       "    </tr>\n",
       "    <tr>\n",
       "      <th>211000022278273</th>\n",
       "      <td>15</td>\n",
       "      <td>15</td>\n",
       "    </tr>\n",
       "    <tr>\n",
       "      <th>211000022278279</th>\n",
       "      <td>5</td>\n",
       "      <td>5</td>\n",
       "    </tr>\n",
       "    <tr>\n",
       "      <th>211000022278354</th>\n",
       "      <td>14</td>\n",
       "      <td>14</td>\n",
       "    </tr>\n",
       "    <tr>\n",
       "      <th>211000022278390</th>\n",
       "      <td>6</td>\n",
       "      <td>6</td>\n",
       "    </tr>\n",
       "    <tr>\n",
       "      <th>211000022278399</th>\n",
       "      <td>4</td>\n",
       "      <td>4</td>\n",
       "    </tr>\n",
       "    <tr>\n",
       "      <th>211000022278415</th>\n",
       "      <td>40</td>\n",
       "      <td>40</td>\n",
       "    </tr>\n",
       "    <tr>\n",
       "      <th>211000022278498</th>\n",
       "      <td>15</td>\n",
       "      <td>15</td>\n",
       "    </tr>\n",
       "    <tr>\n",
       "      <th>211000022278549</th>\n",
       "      <td>8</td>\n",
       "      <td>8</td>\n",
       "    </tr>\n",
       "    <tr>\n",
       "      <th>211000022278653</th>\n",
       "      <td>8</td>\n",
       "      <td>8</td>\n",
       "    </tr>\n",
       "    <tr>\n",
       "      <th>211000022278686</th>\n",
       "      <td>3</td>\n",
       "      <td>3</td>\n",
       "    </tr>\n",
       "    <tr>\n",
       "      <th>211000022278777</th>\n",
       "      <td>3</td>\n",
       "      <td>3</td>\n",
       "    </tr>\n",
       "    <tr>\n",
       "      <th>211000022278849</th>\n",
       "      <td>6</td>\n",
       "      <td>6</td>\n",
       "    </tr>\n",
       "    <tr>\n",
       "      <th>211000022278875</th>\n",
       "      <td>2</td>\n",
       "      <td>2</td>\n",
       "    </tr>\n",
       "    <tr>\n",
       "      <th>211000022278916</th>\n",
       "      <td>6</td>\n",
       "      <td>6</td>\n",
       "    </tr>\n",
       "    <tr>\n",
       "      <th>211000022278974</th>\n",
       "      <td>10</td>\n",
       "      <td>10</td>\n",
       "    </tr>\n",
       "    <tr>\n",
       "      <th>211000022278978</th>\n",
       "      <td>29</td>\n",
       "      <td>29</td>\n",
       "    </tr>\n",
       "    <tr>\n",
       "      <th>211000022279001</th>\n",
       "      <td>4</td>\n",
       "      <td>4</td>\n",
       "    </tr>\n",
       "    <tr>\n",
       "      <th>211000022279008</th>\n",
       "      <td>7</td>\n",
       "      <td>7</td>\n",
       "    </tr>\n",
       "    <tr>\n",
       "      <th>211000022279009</th>\n",
       "      <td>4</td>\n",
       "      <td>4</td>\n",
       "    </tr>\n",
       "    <tr>\n",
       "      <th>211000022279022</th>\n",
       "      <td>9</td>\n",
       "      <td>9</td>\n",
       "    </tr>\n",
       "    <tr>\n",
       "      <th>211000022279094</th>\n",
       "      <td>8</td>\n",
       "      <td>8</td>\n",
       "    </tr>\n",
       "    <tr>\n",
       "      <th>211000022279098</th>\n",
       "      <td>12</td>\n",
       "      <td>12</td>\n",
       "    </tr>\n",
       "    <tr>\n",
       "      <th>211000022279114</th>\n",
       "      <td>11</td>\n",
       "      <td>11</td>\n",
       "    </tr>\n",
       "    <tr>\n",
       "      <th>211000022279146</th>\n",
       "      <td>3</td>\n",
       "      <td>3</td>\n",
       "    </tr>\n",
       "    <tr>\n",
       "      <th>211000022279189</th>\n",
       "      <td>17</td>\n",
       "      <td>17</td>\n",
       "    </tr>\n",
       "    <tr>\n",
       "      <th>211000022279276</th>\n",
       "      <td>7</td>\n",
       "      <td>7</td>\n",
       "    </tr>\n",
       "    <tr>\n",
       "      <th>...</th>\n",
       "      <td>...</td>\n",
       "      <td>...</td>\n",
       "    </tr>\n",
       "    <tr>\n",
       "      <th>Unmapped_Scaffold_45_D1673</th>\n",
       "      <td>62</td>\n",
       "      <td>62</td>\n",
       "    </tr>\n",
       "    <tr>\n",
       "      <th>Unmapped_Scaffold_46_D1675</th>\n",
       "      <td>38</td>\n",
       "      <td>38</td>\n",
       "    </tr>\n",
       "    <tr>\n",
       "      <th>Unmapped_Scaffold_48_D1678</th>\n",
       "      <td>48</td>\n",
       "      <td>48</td>\n",
       "    </tr>\n",
       "    <tr>\n",
       "      <th>Unmapped_Scaffold_4_D1555_D1692</th>\n",
       "      <td>189</td>\n",
       "      <td>189</td>\n",
       "    </tr>\n",
       "    <tr>\n",
       "      <th>Unmapped_Scaffold_51_D1697</th>\n",
       "      <td>26</td>\n",
       "      <td>26</td>\n",
       "    </tr>\n",
       "    <tr>\n",
       "      <th>Unmapped_Scaffold_52_D1739</th>\n",
       "      <td>91</td>\n",
       "      <td>91</td>\n",
       "    </tr>\n",
       "    <tr>\n",
       "      <th>Unmapped_Scaffold_54_D1776</th>\n",
       "      <td>41</td>\n",
       "      <td>41</td>\n",
       "    </tr>\n",
       "    <tr>\n",
       "      <th>Unmapped_Scaffold_58_D1862</th>\n",
       "      <td>40</td>\n",
       "      <td>40</td>\n",
       "    </tr>\n",
       "    <tr>\n",
       "      <th>Unmapped_Scaffold_60_D1601</th>\n",
       "      <td>51</td>\n",
       "      <td>51</td>\n",
       "    </tr>\n",
       "    <tr>\n",
       "      <th>Unmapped_Scaffold_8_D1580_D1567</th>\n",
       "      <td>203</td>\n",
       "      <td>203</td>\n",
       "    </tr>\n",
       "    <tr>\n",
       "      <th>X</th>\n",
       "      <td>67353</td>\n",
       "      <td>67353</td>\n",
       "    </tr>\n",
       "    <tr>\n",
       "      <th>X3X4_mapped_Scaffold_14_D1732</th>\n",
       "      <td>59</td>\n",
       "      <td>59</td>\n",
       "    </tr>\n",
       "    <tr>\n",
       "      <th>X3X4_mapped_Scaffold_6_D1712</th>\n",
       "      <td>77</td>\n",
       "      <td>77</td>\n",
       "    </tr>\n",
       "    <tr>\n",
       "      <th>XY_mapped_Scaffold_42_D1648</th>\n",
       "      <td>125</td>\n",
       "      <td>125</td>\n",
       "    </tr>\n",
       "    <tr>\n",
       "      <th>XY_mapped_Scaffold_7_D1574</th>\n",
       "      <td>114</td>\n",
       "      <td>114</td>\n",
       "    </tr>\n",
       "    <tr>\n",
       "      <th>Y</th>\n",
       "      <td>9936</td>\n",
       "      <td>9936</td>\n",
       "    </tr>\n",
       "    <tr>\n",
       "      <th>Y_mapped_Scaffold_12_D1771</th>\n",
       "      <td>184</td>\n",
       "      <td>184</td>\n",
       "    </tr>\n",
       "    <tr>\n",
       "      <th>Y_mapped_Scaffold_15_D1727</th>\n",
       "      <td>100</td>\n",
       "      <td>100</td>\n",
       "    </tr>\n",
       "    <tr>\n",
       "      <th>Y_mapped_Scaffold_18_D1698</th>\n",
       "      <td>63</td>\n",
       "      <td>63</td>\n",
       "    </tr>\n",
       "    <tr>\n",
       "      <th>Y_mapped_Scaffold_20_D1762_D1719</th>\n",
       "      <td>117</td>\n",
       "      <td>117</td>\n",
       "    </tr>\n",
       "    <tr>\n",
       "      <th>Y_mapped_Scaffold_21_D1683_D1693</th>\n",
       "      <td>67</td>\n",
       "      <td>67</td>\n",
       "    </tr>\n",
       "    <tr>\n",
       "      <th>Y_mapped_Scaffold_23_D1638</th>\n",
       "      <td>115</td>\n",
       "      <td>115</td>\n",
       "    </tr>\n",
       "    <tr>\n",
       "      <th>Y_mapped_Scaffold_26_D1717</th>\n",
       "      <td>55</td>\n",
       "      <td>55</td>\n",
       "    </tr>\n",
       "    <tr>\n",
       "      <th>Y_mapped_Scaffold_30_D1720</th>\n",
       "      <td>51</td>\n",
       "      <td>51</td>\n",
       "    </tr>\n",
       "    <tr>\n",
       "      <th>Y_mapped_Scaffold_34_D1584</th>\n",
       "      <td>67</td>\n",
       "      <td>67</td>\n",
       "    </tr>\n",
       "    <tr>\n",
       "      <th>Y_mapped_Scaffold_53_D1765</th>\n",
       "      <td>125</td>\n",
       "      <td>125</td>\n",
       "    </tr>\n",
       "    <tr>\n",
       "      <th>Y_mapped_Scaffold_5_D1748_D1610</th>\n",
       "      <td>228</td>\n",
       "      <td>228</td>\n",
       "    </tr>\n",
       "    <tr>\n",
       "      <th>Y_mapped_Scaffold_9_D1573</th>\n",
       "      <td>144</td>\n",
       "      <td>144</td>\n",
       "    </tr>\n",
       "    <tr>\n",
       "      <th>mitochondrion_genome</th>\n",
       "      <td>27</td>\n",
       "      <td>27</td>\n",
       "    </tr>\n",
       "    <tr>\n",
       "      <th>rDNA</th>\n",
       "      <td>143</td>\n",
       "      <td>143</td>\n",
       "    </tr>\n",
       "  </tbody>\n",
       "</table>\n",
       "<p>119 rows × 2 columns</p>\n",
       "</div>"
      ],
      "text/plain": [
       "                                      1      2\n",
       "0                                             \n",
       "211000022278049                      34     34\n",
       "211000022278185                       7      7\n",
       "211000022278217                       6      6\n",
       "211000022278269                       2      2\n",
       "211000022278273                      15     15\n",
       "211000022278279                       5      5\n",
       "211000022278354                      14     14\n",
       "211000022278390                       6      6\n",
       "211000022278399                       4      4\n",
       "211000022278415                      40     40\n",
       "211000022278498                      15     15\n",
       "211000022278549                       8      8\n",
       "211000022278653                       8      8\n",
       "211000022278686                       3      3\n",
       "211000022278777                       3      3\n",
       "211000022278849                       6      6\n",
       "211000022278875                       2      2\n",
       "211000022278916                       6      6\n",
       "211000022278974                      10     10\n",
       "211000022278978                      29     29\n",
       "211000022279001                       4      4\n",
       "211000022279008                       7      7\n",
       "211000022279009                       4      4\n",
       "211000022279022                       9      9\n",
       "211000022279094                       8      8\n",
       "211000022279098                      12     12\n",
       "211000022279114                      11     11\n",
       "211000022279146                       3      3\n",
       "211000022279189                      17     17\n",
       "211000022279276                       7      7\n",
       "...                                 ...    ...\n",
       "Unmapped_Scaffold_45_D1673           62     62\n",
       "Unmapped_Scaffold_46_D1675           38     38\n",
       "Unmapped_Scaffold_48_D1678           48     48\n",
       "Unmapped_Scaffold_4_D1555_D1692     189    189\n",
       "Unmapped_Scaffold_51_D1697           26     26\n",
       "Unmapped_Scaffold_52_D1739           91     91\n",
       "Unmapped_Scaffold_54_D1776           41     41\n",
       "Unmapped_Scaffold_58_D1862           40     40\n",
       "Unmapped_Scaffold_60_D1601           51     51\n",
       "Unmapped_Scaffold_8_D1580_D1567     203    203\n",
       "X                                 67353  67353\n",
       "X3X4_mapped_Scaffold_14_D1732        59     59\n",
       "X3X4_mapped_Scaffold_6_D1712         77     77\n",
       "XY_mapped_Scaffold_42_D1648         125    125\n",
       "XY_mapped_Scaffold_7_D1574          114    114\n",
       "Y                                  9936   9936\n",
       "Y_mapped_Scaffold_12_D1771          184    184\n",
       "Y_mapped_Scaffold_15_D1727          100    100\n",
       "Y_mapped_Scaffold_18_D1698           63     63\n",
       "Y_mapped_Scaffold_20_D1762_D1719    117    117\n",
       "Y_mapped_Scaffold_21_D1683_D1693     67     67\n",
       "Y_mapped_Scaffold_23_D1638          115    115\n",
       "Y_mapped_Scaffold_26_D1717           55     55\n",
       "Y_mapped_Scaffold_30_D1720           51     51\n",
       "Y_mapped_Scaffold_34_D1584           67     67\n",
       "Y_mapped_Scaffold_53_D1765          125    125\n",
       "Y_mapped_Scaffold_5_D1748_D1610     228    228\n",
       "Y_mapped_Scaffold_9_D1573           144    144\n",
       "mitochondrion_genome                 27     27\n",
       "rDNA                                143    143\n",
       "\n",
       "[119 rows x 2 columns]"
      ]
     },
     "execution_count": 6,
     "metadata": {},
     "output_type": "execute_result"
    }
   ],
   "source": [
    "Locations[0].unique()\n",
    "Locations.groupby(Locations[0]).count()"
   ]
  },
  {
   "cell_type": "markdown",
   "metadata": {},
   "source": [
    "We remove mitochondrial information in NoA and AdRp, and create new dataframes NoA_noMtDNA and AdRp_noMtDNA.  There are 27 rows that have mitochondrial dna information.  "
   ]
  },
  {
   "cell_type": "code",
   "execution_count": 7,
   "metadata": {
    "collapsed": false
   },
   "outputs": [
    {
     "data": {
      "text/plain": [
       "27"
      ]
     },
     "execution_count": 7,
     "metadata": {},
     "output_type": "execute_result"
    }
   ],
   "source": [
    "sum(Locations[0]=='mitochondrion_genome')"
   ]
  },
  {
   "cell_type": "code",
   "execution_count": 8,
   "metadata": {
    "collapsed": false
   },
   "outputs": [
    {
     "name": "stdout",
     "output_type": "stream",
     "text": [
      "(388634, 108) NoA df shape, before mitochondrion genome entries removed\n",
      "(388607, 108) NoA_noMtDNA shape, after mitochondrion genome removed (27 less values)\n",
      "(388634, 108) AdRp df shape, before mitochondrion genome entries removed\n",
      "(388607, 108) AdRp_noMtDNA shape, after mitochondrion genome removed (27 less values)\n"
     ]
    }
   ],
   "source": [
    "print NoA.shape, \"NoA df shape, before mitochondrion genome entries removed\"\n",
    "NoA_noMtDNA= NoA[Locations[0]!='mitochondrion_genome']\n",
    "print NoA_noMtDNA.shape, \"NoA_noMtDNA shape, after mitochondrion genome removed (27 less values)\"\n",
    "\n",
    "print AdRp.shape, \"AdRp df shape, before mitochondrion genome entries removed\"\n",
    "AdRp_noMtDNA= AdRp[Locations[0]!='mitochondrion_genome']\n",
    "print AdRp_noMtDNA.shape, \"AdRp_noMtDNA shape, after mitochondrion genome removed (27 less values)\""
   ]
  },
  {
   "cell_type": "code",
   "execution_count": 9,
   "metadata": {
    "collapsed": false
   },
   "outputs": [
    {
     "data": {
      "text/plain": [
       "True"
      ]
     },
     "execution_count": 9,
     "metadata": {},
     "output_type": "execute_result"
    }
   ],
   "source": [
    "all(AdRp_noMtDNA.index == NoA_noMtDNA.index)\n",
    "#AdRp_noMtDNA.index=range(388607)\n",
    "#NoA_noMtDNA.index=range(388607)"
   ]
  },
  {
   "cell_type": "markdown",
   "metadata": {},
   "source": [
    "Remove mitochondrion genome from Locations dataframe.  Write dataframe to file entitled \"Locations\""
   ]
  },
  {
   "cell_type": "code",
   "execution_count": 10,
   "metadata": {
    "collapsed": false
   },
   "outputs": [
    {
     "name": "stdout",
     "output_type": "stream",
     "text": [
      "(388634, 3)\n",
      "(388607, 3)\n"
     ]
    }
   ],
   "source": [
    "print Locations.shape\n",
    "Locations_noMtDNA = Locations[Locations[0]!='mitochondrion_genome']\n",
    "Locations_noMtDNA.to_csv(\"Locations\")\n",
    "print Locations_noMtDNA.shape"
   ]
  },
  {
   "cell_type": "markdown",
   "metadata": {},
   "source": [
    "We can see that the mitochondrial DNA counts were much much larger (left subplot= no mitochondrion genome, right subplot = mitochondrion genome)"
   ]
  },
  {
   "cell_type": "code",
   "execution_count": 11,
   "metadata": {
    "collapsed": false
   },
   "outputs": [
    {
     "data": {
      "image/png": "[encoded data removed]",
      "text/plain": [
       "<matplotlib.figure.Figure at 0x1099c4ed0>"
      ]
     },
     "metadata": {},
     "output_type": "display_data"
    }
   ],
   "source": [
    "fig = plt.figure()\n",
    "fig.add_subplot(221)\n",
    "_=plt.hist(AdRp_noMtDNA[\"damID-Dam_Fr188_C1\"], bins=10)\n",
    "fig.add_subplot(222)\n",
    "_=plt.hist(AdRp[Locations[0]==\"mitochondrion_genome\"][\"damID-Dam_Fr188_C1\"].values, bins=10)\n"
   ]
  },
  {
   "cell_type": "markdown",
   "metadata": {},
   "source": [
    "# Correlate dataframes"
   ]
  },
  {
   "cell_type": "markdown",
   "metadata": {},
   "source": [
    "Here we correlate the dataframes.  They aren't very correlated.  \n",
    "\n",
    "[As a first pass, we hadn't removed mitochondrial DNA information, so the datasets looked much more correlated]"
   ]
  },
  {
   "cell_type": "code",
   "execution_count": 12,
   "metadata": {
    "collapsed": false
   },
   "outputs": [
    {
     "data": {
      "image/png": "[encoded data removed]",
      "text/plain": [
       "<matplotlib.figure.Figure at 0x10a670e90>"
      ]
     },
     "metadata": {},
     "output_type": "display_data"
    }
   ],
   "source": [
    "AdRp_NoA_correls = AdRp_noMtDNA.corrwith(NoA_noMtDNA)\n",
    "_=plt.hist(AdRp_NoA_correls)\n",
    "_=plt.title(\"Correlating AdRp with NoA\")\n"
   ]
  },
  {
   "cell_type": "code",
   "execution_count": 13,
   "metadata": {
    "collapsed": false
   },
   "outputs": [
    {
     "data": {
      "text/plain": [
       "damID-Dam_Fr188_C1    0.607154\n",
       "damID-Dam_Fr188_C2    0.598112\n",
       "damID-Dam_Fr188_C3    0.286491\n",
       "damID-Dam_Fr188_C4    0.629674\n",
       "damID-Dam_Fr188_T3    0.294185\n",
       "dtype: float64"
      ]
     },
     "execution_count": 13,
     "metadata": {},
     "output_type": "execute_result"
    }
   ],
   "source": [
    "#We print out the correlations\n",
    "AdRp_NoA_correls.head()"
   ]
  },
  {
   "cell_type": "markdown",
   "metadata": {},
   "source": [
    "We plot scatter the first column (damID-Dam_Fr188_C1) of both datasets (AdRp and NoA) to get a clearer picture.  This had a correlation of 0.607154."
   ]
  },
  {
   "cell_type": "code",
   "execution_count": 14,
   "metadata": {
    "collapsed": false
   },
   "outputs": [
    {
     "name": "stdout",
     "output_type": "stream",
     "text": [
      "[[ 1.          0.60715398]\n",
      " [ 0.60715398  1.        ]]\n"
     ]
    },
    {
     "data": {
      "text/plain": [
       "<matplotlib.collections.PathCollection at 0x10afb20d0>"
      ]
     },
     "execution_count": 14,
     "metadata": {},
     "output_type": "execute_result"
    },
    {
     "data": {
      "image/png": "[encoded data removed]",
      "text/plain": [
       "<matplotlib.figure.Figure at 0x10a26bdd0>"
      ]
     },
     "metadata": {},
     "output_type": "display_data"
    }
   ],
   "source": [
    "print np.corrcoef(NoA_noMtDNA[\"damID-Dam_Fr188_C1\"],AdRp_noMtDNA[\"damID-Dam_Fr188_C1\"])\n",
    "plt.xlabel(\"NoA noMtDNA damID-Dam_Fr188_C1\")\n",
    "plt.ylabel(\"AdRp noMtDNA damID-Dam_Fr188_C1\")\n",
    "\n",
    "plt.scatter(NoA_noMtDNA[\"damID-Dam_Fr188_C1\"], AdRp_noMtDNA[\"damID-Dam_Fr188_C1\"])"
   ]
  },
  {
   "cell_type": "markdown",
   "metadata": {},
   "source": [
    "It's a little difficult to see because of the outlier point.  We zoom in.  I'm actually surprised this has a correlation of .6. Looks pretty noisy to me"
   ]
  },
  {
   "cell_type": "code",
   "execution_count": 15,
   "metadata": {
    "collapsed": false
   },
   "outputs": [
    {
     "data": {
      "text/plain": [
       "<matplotlib.text.Text at 0x10a6665d0>"
      ]
     },
     "execution_count": 15,
     "metadata": {},
     "output_type": "execute_result"
    },
    {
     "data": {
      "image/png": "[encoded data removed]",
      "text/plain": [
       "<matplotlib.figure.Figure at 0x10b591e90>"
      ]
     },
     "metadata": {},
     "output_type": "display_data"
    }
   ],
   "source": [
    "plt.scatter(NoA_noMtDNA[\"damID-Dam_Fr188_C1\"], AdRp_noMtDNA[\"damID-Dam_Fr188_C1\"])\n",
    "plt.xlim([0,4000])\n",
    "plt.ylim([0,1000])\n",
    "plt.xlabel(\"NoA noMtDNA damID-Dam_Fr188_C1\")\n",
    "plt.ylabel(\"AdRp noMtDNA damID-Dam_Fr188_C1\")"
   ]
  },
  {
   "cell_type": "markdown",
   "metadata": {},
   "source": [
    "What was the outlier point?"
   ]
  },
  {
   "cell_type": "code",
   "execution_count": 16,
   "metadata": {
    "collapsed": false
   },
   "outputs": [
    {
     "data": {
      "text/html": [
       "<div>\n",
       "<table border=\"1\" class=\"dataframe\">\n",
       "  <thead>\n",
       "    <tr style=\"text-align: right;\">\n",
       "      <th></th>\n",
       "      <th>damID-Dam_Fr188_C1</th>\n",
       "      <th>damID-Dam_Fr188_C2</th>\n",
       "      <th>damID-Dam_Fr188_C3</th>\n",
       "      <th>damID-Dam_Fr188_C4</th>\n",
       "      <th>damID-Dam_Fr188_T3</th>\n",
       "      <th>damID-Dam_Fr188_T4</th>\n",
       "      <th>damID-Dam_Zi257_C1</th>\n",
       "      <th>damID-Dam_Zi257_C2</th>\n",
       "      <th>damID-Dam_Zi257_C3</th>\n",
       "      <th>damID-Dam_Zi257_W</th>\n",
       "      <th>damID-Dam_Zi275_T1</th>\n",
       "      <th>damID-Lam_Fr188_C1</th>\n",
       "      <th>damID-Lam_Fr188_C2</th>\n",
       "      <th>damID-Lam_Fr188_C3</th>\n",
       "      <th>damID-Lam_Fr188_C</th>\n",
       "      <th>damID-Lam_Fr188_T2</th>\n",
       "      <th>damID-Lam_Fr188_T3</th>\n",
       "      <th>damID-Lam_Zi257_C1</th>\n",
       "      <th>damID-Lam_Zi257_C2</th>\n",
       "      <th>damID-Lam_Zi257_C3</th>\n",
       "      <th>damID-Lam_Zi257_T1</th>\n",
       "      <th>damID-Lam_Zi257_T2</th>\n",
       "      <th>damID-Lam_Zi257_T3</th>\n",
       "      <th>damID2-D1_Fr188_C1</th>\n",
       "      <th>damID2-D1_Fr188_C2</th>\n",
       "      <th>damID2-D1_Fr188_C3</th>\n",
       "      <th>damID2-D1_Fr188_T2</th>\n",
       "      <th>damID2-D1_Fr188_T3</th>\n",
       "      <th>damID2-D1_Fr89_C1</th>\n",
       "      <th>damID2-D1_Fr89_C2</th>\n",
       "      <th>damID2-D1_Fr89_C3</th>\n",
       "      <th>damID2-D1_Fr89_T2</th>\n",
       "      <th>damID2-D1_Fr89_T3</th>\n",
       "      <th>damID2-D1_Zi238_C1</th>\n",
       "      <th>damID2-D1_Zi238_C2</th>\n",
       "      <th>damID2-D1_Zi238_C3</th>\n",
       "      <th>damID2-D1_Zi238_T2</th>\n",
       "      <th>damID2-D1_Zi238_T3</th>\n",
       "      <th>damID2-D1_Zi257_C1</th>\n",
       "      <th>damID2-D1_Zi257_C2</th>\n",
       "      <th>damID2-D1_Zi257_C3</th>\n",
       "      <th>damID2-D1_Zi257_T1</th>\n",
       "      <th>damID2-D1_Zi257_T2</th>\n",
       "      <th>damID2-D1_Zi257_T3</th>\n",
       "      <th>damID2-Dam_Fr188_w</th>\n",
       "      <th>damID2-Dam_Fr89_C1</th>\n",
       "      <th>damID2-Dam_Fr89_C3</th>\n",
       "      <th>damID2-Dam_Fr89_T1</th>\n",
       "      <th>damID2-Dam_Fr89_T2</th>\n",
       "      <th>damID2-Dam_Fr89_T3</th>\n",
       "      <th>...</th>\n",
       "      <th>damID2-Lam_Zi238_C3</th>\n",
       "      <th>damID2-Lam_Zi257_C4</th>\n",
       "      <th>damID3-D1_Fr188_T</th>\n",
       "      <th>damID3-D1_Fr188_w1</th>\n",
       "      <th>damID3-D1_Fr188_w2</th>\n",
       "      <th>damID3-D1_Fr188_w3</th>\n",
       "      <th>damID3-D1_Fr89_w1</th>\n",
       "      <th>damID3-D1_Fr89_w2</th>\n",
       "      <th>damID3-D1_Fr89_w3</th>\n",
       "      <th>damID3-D1_Zi238_T</th>\n",
       "      <th>damID3-D1_Zi238_w1</th>\n",
       "      <th>damID3-D1_Zi238_w2</th>\n",
       "      <th>damID3-D1_Zi238_w3</th>\n",
       "      <th>damID3-D1_Zi257_T</th>\n",
       "      <th>damID3-D1_Zi257_w1</th>\n",
       "      <th>damID3-D1_Zi257_w2</th>\n",
       "      <th>damID3-D1_Zi257_w3</th>\n",
       "      <th>damID3-Dam_Fr188_T2</th>\n",
       "      <th>damID3-Dam_Fr188_w1</th>\n",
       "      <th>damID3-Dam_Fr188_w2</th>\n",
       "      <th>damID3-Dam_Fr188_w3</th>\n",
       "      <th>damID3-Dam_Fr89_w1</th>\n",
       "      <th>damID3-Dam_Fr89_w2</th>\n",
       "      <th>damID3-Dam_Fr89_w3</th>\n",
       "      <th>damID3-Dam_Zi238_T1</th>\n",
       "      <th>damID3-Dam_Zi238_T2</th>\n",
       "      <th>damID3-Dam_Zi238_w1</th>\n",
       "      <th>damID3-Dam_Zi238_w2</th>\n",
       "      <th>damID3-Dam_Zi238_w3</th>\n",
       "      <th>damID3-Dam_Zi257_T1</th>\n",
       "      <th>damID3-Dam_Zi257_T2</th>\n",
       "      <th>damID3-Dam_Zi257_w1</th>\n",
       "      <th>damID3-Dam_Zi257_w2</th>\n",
       "      <th>damID3-Dam_Zi257_w3</th>\n",
       "      <th>damID3-Lam_Fr188_T1</th>\n",
       "      <th>damID3-Lam_Fr188_T4</th>\n",
       "      <th>damID3-Lam_Fr188_w1</th>\n",
       "      <th>damID3-Lam_Fr188_w2</th>\n",
       "      <th>damID3-Lam_Fr188_w3</th>\n",
       "      <th>damID3-Lam_Fr89_T1</th>\n",
       "      <th>damID3-Lam_Fr89_T2</th>\n",
       "      <th>damID3-Lam_Fr89_w1</th>\n",
       "      <th>damID3-Lam_Fr89_w2</th>\n",
       "      <th>damID3-Lam_Fr89_w3</th>\n",
       "      <th>damID3-Lam_Zi238_w1</th>\n",
       "      <th>damID3-Lam_Zi238_w2</th>\n",
       "      <th>damID3-Lam_Zi238_w3</th>\n",
       "      <th>damID3-Lam_Zi257_w1</th>\n",
       "      <th>damID3-Lam_Zi257_w2</th>\n",
       "      <th>damID3-Lam_Zi257_w3</th>\n",
       "    </tr>\n",
       "  </thead>\n",
       "  <tbody>\n",
       "    <tr>\n",
       "      <th>220136</th>\n",
       "      <td>12746</td>\n",
       "      <td>8667</td>\n",
       "      <td>38708</td>\n",
       "      <td>4302</td>\n",
       "      <td>32059</td>\n",
       "      <td>56732</td>\n",
       "      <td>115</td>\n",
       "      <td>345</td>\n",
       "      <td>3370</td>\n",
       "      <td>7934</td>\n",
       "      <td>70770</td>\n",
       "      <td>33</td>\n",
       "      <td>36</td>\n",
       "      <td>2148</td>\n",
       "      <td>784</td>\n",
       "      <td>122</td>\n",
       "      <td>53</td>\n",
       "      <td>4827</td>\n",
       "      <td>3454</td>\n",
       "      <td>2433</td>\n",
       "      <td>8516</td>\n",
       "      <td>4030</td>\n",
       "      <td>9672</td>\n",
       "      <td>89</td>\n",
       "      <td>1427</td>\n",
       "      <td>16220</td>\n",
       "      <td>157</td>\n",
       "      <td>2724</td>\n",
       "      <td>74</td>\n",
       "      <td>21202</td>\n",
       "      <td>16271</td>\n",
       "      <td>78</td>\n",
       "      <td>184</td>\n",
       "      <td>12978</td>\n",
       "      <td>12543</td>\n",
       "      <td>17925</td>\n",
       "      <td>79</td>\n",
       "      <td>187</td>\n",
       "      <td>8273</td>\n",
       "      <td>17247</td>\n",
       "      <td>13679</td>\n",
       "      <td>8662</td>\n",
       "      <td>262</td>\n",
       "      <td>630</td>\n",
       "      <td>258</td>\n",
       "      <td>17423</td>\n",
       "      <td>47816</td>\n",
       "      <td>11174</td>\n",
       "      <td>21256</td>\n",
       "      <td>32627</td>\n",
       "      <td>...</td>\n",
       "      <td>4375</td>\n",
       "      <td>2966</td>\n",
       "      <td>573</td>\n",
       "      <td>793</td>\n",
       "      <td>377</td>\n",
       "      <td>141</td>\n",
       "      <td>530</td>\n",
       "      <td>1281</td>\n",
       "      <td>118</td>\n",
       "      <td>1584</td>\n",
       "      <td>239</td>\n",
       "      <td>66</td>\n",
       "      <td>136</td>\n",
       "      <td>1633</td>\n",
       "      <td>958</td>\n",
       "      <td>463</td>\n",
       "      <td>166</td>\n",
       "      <td>1023</td>\n",
       "      <td>415</td>\n",
       "      <td>674</td>\n",
       "      <td>511</td>\n",
       "      <td>103</td>\n",
       "      <td>558</td>\n",
       "      <td>622</td>\n",
       "      <td>2027</td>\n",
       "      <td>1766</td>\n",
       "      <td>890</td>\n",
       "      <td>915</td>\n",
       "      <td>849</td>\n",
       "      <td>1731</td>\n",
       "      <td>1835</td>\n",
       "      <td>226</td>\n",
       "      <td>401</td>\n",
       "      <td>93</td>\n",
       "      <td>952</td>\n",
       "      <td>556</td>\n",
       "      <td>95</td>\n",
       "      <td>80</td>\n",
       "      <td>105</td>\n",
       "      <td>1220</td>\n",
       "      <td>1061</td>\n",
       "      <td>104</td>\n",
       "      <td>106</td>\n",
       "      <td>168</td>\n",
       "      <td>191</td>\n",
       "      <td>76</td>\n",
       "      <td>145</td>\n",
       "      <td>138</td>\n",
       "      <td>191</td>\n",
       "      <td>131</td>\n",
       "    </tr>\n",
       "    <tr>\n",
       "      <th>220137</th>\n",
       "      <td>12747</td>\n",
       "      <td>8668</td>\n",
       "      <td>38711</td>\n",
       "      <td>4303</td>\n",
       "      <td>32061</td>\n",
       "      <td>56733</td>\n",
       "      <td>116</td>\n",
       "      <td>346</td>\n",
       "      <td>3372</td>\n",
       "      <td>7935</td>\n",
       "      <td>70770</td>\n",
       "      <td>33</td>\n",
       "      <td>38</td>\n",
       "      <td>2150</td>\n",
       "      <td>798</td>\n",
       "      <td>122</td>\n",
       "      <td>53</td>\n",
       "      <td>4828</td>\n",
       "      <td>3456</td>\n",
       "      <td>2434</td>\n",
       "      <td>8516</td>\n",
       "      <td>4033</td>\n",
       "      <td>9672</td>\n",
       "      <td>89</td>\n",
       "      <td>1427</td>\n",
       "      <td>16220</td>\n",
       "      <td>157</td>\n",
       "      <td>2724</td>\n",
       "      <td>74</td>\n",
       "      <td>21202</td>\n",
       "      <td>16271</td>\n",
       "      <td>78</td>\n",
       "      <td>184</td>\n",
       "      <td>12978</td>\n",
       "      <td>12543</td>\n",
       "      <td>17925</td>\n",
       "      <td>79</td>\n",
       "      <td>187</td>\n",
       "      <td>8274</td>\n",
       "      <td>17248</td>\n",
       "      <td>13679</td>\n",
       "      <td>8662</td>\n",
       "      <td>262</td>\n",
       "      <td>630</td>\n",
       "      <td>258</td>\n",
       "      <td>17423</td>\n",
       "      <td>47817</td>\n",
       "      <td>11174</td>\n",
       "      <td>21256</td>\n",
       "      <td>32627</td>\n",
       "      <td>...</td>\n",
       "      <td>4375</td>\n",
       "      <td>2966</td>\n",
       "      <td>573</td>\n",
       "      <td>793</td>\n",
       "      <td>377</td>\n",
       "      <td>142</td>\n",
       "      <td>530</td>\n",
       "      <td>1281</td>\n",
       "      <td>118</td>\n",
       "      <td>1584</td>\n",
       "      <td>239</td>\n",
       "      <td>65</td>\n",
       "      <td>136</td>\n",
       "      <td>1633</td>\n",
       "      <td>958</td>\n",
       "      <td>464</td>\n",
       "      <td>165</td>\n",
       "      <td>1023</td>\n",
       "      <td>415</td>\n",
       "      <td>674</td>\n",
       "      <td>511</td>\n",
       "      <td>103</td>\n",
       "      <td>558</td>\n",
       "      <td>622</td>\n",
       "      <td>2027</td>\n",
       "      <td>1766</td>\n",
       "      <td>890</td>\n",
       "      <td>915</td>\n",
       "      <td>849</td>\n",
       "      <td>1731</td>\n",
       "      <td>1835</td>\n",
       "      <td>226</td>\n",
       "      <td>401</td>\n",
       "      <td>93</td>\n",
       "      <td>952</td>\n",
       "      <td>556</td>\n",
       "      <td>96</td>\n",
       "      <td>80</td>\n",
       "      <td>105</td>\n",
       "      <td>1220</td>\n",
       "      <td>1061</td>\n",
       "      <td>104</td>\n",
       "      <td>106</td>\n",
       "      <td>168</td>\n",
       "      <td>191</td>\n",
       "      <td>76</td>\n",
       "      <td>145</td>\n",
       "      <td>138</td>\n",
       "      <td>191</td>\n",
       "      <td>131</td>\n",
       "    </tr>\n",
       "  </tbody>\n",
       "</table>\n",
       "<p>2 rows × 108 columns</p>\n",
       "</div>"
      ],
      "text/plain": [
       "        damID-Dam_Fr188_C1  damID-Dam_Fr188_C2  damID-Dam_Fr188_C3  damID-Dam_Fr188_C4  damID-Dam_Fr188_T3  damID-Dam_Fr188_T4  damID-Dam_Zi257_C1  damID-Dam_Zi257_C2  damID-Dam_Zi257_C3  \\\n",
       "220136               12746                8667               38708                4302               32059               56732                 115                 345                3370   \n",
       "220137               12747                8668               38711                4303               32061               56733                 116                 346                3372   \n",
       "\n",
       "        damID-Dam_Zi257_W  damID-Dam_Zi275_T1  damID-Lam_Fr188_C1  damID-Lam_Fr188_C2  damID-Lam_Fr188_C3  damID-Lam_Fr188_C  damID-Lam_Fr188_T2  damID-Lam_Fr188_T3  damID-Lam_Zi257_C1  \\\n",
       "220136               7934               70770                  33                  36                2148                784                 122                  53                4827   \n",
       "220137               7935               70770                  33                  38                2150                798                 122                  53                4828   \n",
       "\n",
       "        damID-Lam_Zi257_C2  damID-Lam_Zi257_C3  damID-Lam_Zi257_T1  damID-Lam_Zi257_T2  damID-Lam_Zi257_T3  damID2-D1_Fr188_C1  damID2-D1_Fr188_C2  damID2-D1_Fr188_C3  damID2-D1_Fr188_T2  \\\n",
       "220136                3454                2433                8516                4030                9672                  89                1427               16220                 157   \n",
       "220137                3456                2434                8516                4033                9672                  89                1427               16220                 157   \n",
       "\n",
       "        damID2-D1_Fr188_T3  damID2-D1_Fr89_C1  damID2-D1_Fr89_C2  damID2-D1_Fr89_C3  damID2-D1_Fr89_T2  damID2-D1_Fr89_T3  damID2-D1_Zi238_C1  damID2-D1_Zi238_C2  damID2-D1_Zi238_C3  \\\n",
       "220136                2724                 74              21202              16271                 78                184               12978               12543               17925   \n",
       "220137                2724                 74              21202              16271                 78                184               12978               12543               17925   \n",
       "\n",
       "        damID2-D1_Zi238_T2  damID2-D1_Zi238_T3  damID2-D1_Zi257_C1  damID2-D1_Zi257_C2  damID2-D1_Zi257_C3  damID2-D1_Zi257_T1  damID2-D1_Zi257_T2  damID2-D1_Zi257_T3  damID2-Dam_Fr188_w  \\\n",
       "220136                  79                 187                8273               17247               13679                8662                 262                 630                 258   \n",
       "220137                  79                 187                8274               17248               13679                8662                 262                 630                 258   \n",
       "\n",
       "        damID2-Dam_Fr89_C1  damID2-Dam_Fr89_C3  damID2-Dam_Fr89_T1  damID2-Dam_Fr89_T2  damID2-Dam_Fr89_T3         ...           damID2-Lam_Zi238_C3  damID2-Lam_Zi257_C4  damID3-D1_Fr188_T  \\\n",
       "220136               17423               47816               11174               21256               32627         ...                          4375                 2966                573   \n",
       "220137               17423               47817               11174               21256               32627         ...                          4375                 2966                573   \n",
       "\n",
       "        damID3-D1_Fr188_w1  damID3-D1_Fr188_w2  damID3-D1_Fr188_w3  damID3-D1_Fr89_w1  damID3-D1_Fr89_w2  damID3-D1_Fr89_w3  damID3-D1_Zi238_T  damID3-D1_Zi238_w1  damID3-D1_Zi238_w2  \\\n",
       "220136                 793                 377                 141                530               1281                118               1584                 239                  66   \n",
       "220137                 793                 377                 142                530               1281                118               1584                 239                  65   \n",
       "\n",
       "        damID3-D1_Zi238_w3  damID3-D1_Zi257_T  damID3-D1_Zi257_w1  damID3-D1_Zi257_w2  damID3-D1_Zi257_w3  damID3-Dam_Fr188_T2  damID3-Dam_Fr188_w1  damID3-Dam_Fr188_w2  damID3-Dam_Fr188_w3  \\\n",
       "220136                 136               1633                 958                 463                 166                 1023                  415                  674                  511   \n",
       "220137                 136               1633                 958                 464                 165                 1023                  415                  674                  511   \n",
       "\n",
       "        damID3-Dam_Fr89_w1  damID3-Dam_Fr89_w2  damID3-Dam_Fr89_w3  damID3-Dam_Zi238_T1  damID3-Dam_Zi238_T2  damID3-Dam_Zi238_w1  damID3-Dam_Zi238_w2  damID3-Dam_Zi238_w3  damID3-Dam_Zi257_T1  \\\n",
       "220136                 103                 558                 622                 2027                 1766                  890                  915                  849                 1731   \n",
       "220137                 103                 558                 622                 2027                 1766                  890                  915                  849                 1731   \n",
       "\n",
       "        damID3-Dam_Zi257_T2  damID3-Dam_Zi257_w1  damID3-Dam_Zi257_w2  damID3-Dam_Zi257_w3  damID3-Lam_Fr188_T1  damID3-Lam_Fr188_T4  damID3-Lam_Fr188_w1  damID3-Lam_Fr188_w2  damID3-Lam_Fr188_w3  \\\n",
       "220136                 1835                  226                  401                   93                  952                  556                   95                   80                  105   \n",
       "220137                 1835                  226                  401                   93                  952                  556                   96                   80                  105   \n",
       "\n",
       "        damID3-Lam_Fr89_T1  damID3-Lam_Fr89_T2  damID3-Lam_Fr89_w1  damID3-Lam_Fr89_w2  damID3-Lam_Fr89_w3  damID3-Lam_Zi238_w1  damID3-Lam_Zi238_w2  damID3-Lam_Zi238_w3  damID3-Lam_Zi257_w1  \\\n",
       "220136                1220                1061                 104                 106                 168                  191                   76                  145                  138   \n",
       "220137                1220                1061                 104                 106                 168                  191                   76                  145                  138   \n",
       "\n",
       "        damID3-Lam_Zi257_w2  damID3-Lam_Zi257_w3  \n",
       "220136                  191                  131  \n",
       "220137                  191                  131  \n",
       "\n",
       "[2 rows x 108 columns]"
      ]
     },
     "execution_count": 16,
     "metadata": {},
     "output_type": "execute_result"
    }
   ],
   "source": [
    "NoA_noMtDNA[NoA_noMtDNA[\"damID-Dam_Fr188_C1\"]>5000]"
   ]
  },
  {
   "cell_type": "code",
   "execution_count": 17,
   "metadata": {
    "collapsed": false
   },
   "outputs": [
    {
     "name": "stdout",
     "output_type": "stream",
     "text": [
      "3R\n",
      "3R\n"
     ]
    }
   ],
   "source": [
    "print Locations[0][220136]\n",
    "print Locations[0][220137]"
   ]
  },
  {
   "cell_type": "markdown",
   "metadata": {},
   "source": [
    "# Add values in dataframes that are correlated by more than 70%"
   ]
  },
  {
   "cell_type": "markdown",
   "metadata": {},
   "source": [
    "Unfortunately, we're down to only 23 columns..."
   ]
  },
  {
   "cell_type": "code",
   "execution_count": 176,
   "metadata": {
    "collapsed": false
   },
   "outputs": [],
   "source": [
    "# Take only entries where correlation greater than .70\n",
    "New_NoA= NoA_noMtDNA[AdRp_NoA_correls[AdRp_NoA_correls>.70].index]\n",
    "New_AdRp= AdRp_noMtDNA[AdRp_NoA_correls[AdRp_NoA_correls>.70].index]"
   ]
  },
  {
   "cell_type": "code",
   "execution_count": 192,
   "metadata": {
    "collapsed": false
   },
   "outputs": [
    {
     "name": "stdout",
     "output_type": "stream",
     "text": [
      "(388607, 23)\n"
     ]
    },
    {
     "data": {
      "text/plain": [
       "True"
      ]
     },
     "execution_count": 192,
     "metadata": {},
     "output_type": "execute_result"
    }
   ],
   "source": [
    "print New_NoA.shape\n",
    "New_NoA.shape ==New_AdRp.shape"
   ]
  },
  {
   "cell_type": "markdown",
   "metadata": {},
   "source": [
    "Merge NoA and AdRp datasets"
   ]
  },
  {
   "cell_type": "code",
   "execution_count": 178,
   "metadata": {
    "collapsed": false
   },
   "outputs": [
    {
     "data": {
      "text/html": [
       "<div>\n",
       "<table border=\"1\" class=\"dataframe\">\n",
       "  <thead>\n",
       "    <tr style=\"text-align: right;\">\n",
       "      <th></th>\n",
       "      <th>damID-Lam_Fr188_C</th>\n",
       "      <th>damID-Lam_Fr188_T2</th>\n",
       "      <th>damID-Lam_Zi257_C3</th>\n",
       "      <th>damID3-D1_Fr188_T</th>\n",
       "      <th>damID3-D1_Fr188_w1</th>\n",
       "      <th>damID3-D1_Fr188_w2</th>\n",
       "      <th>damID3-D1_Fr89_w1</th>\n",
       "      <th>damID3-D1_Fr89_w2</th>\n",
       "      <th>damID3-D1_Zi238_T</th>\n",
       "      <th>damID3-D1_Zi238_w1</th>\n",
       "      <th>damID3-D1_Zi257_T</th>\n",
       "      <th>damID3-D1_Zi257_w1</th>\n",
       "      <th>damID3-Dam_Fr188_T2</th>\n",
       "      <th>damID3-Dam_Zi238_T1</th>\n",
       "      <th>damID3-Dam_Zi238_T2</th>\n",
       "      <th>damID3-Dam_Zi257_T1</th>\n",
       "      <th>damID3-Dam_Zi257_T2</th>\n",
       "      <th>damID3-Lam_Fr188_T1</th>\n",
       "      <th>damID3-Lam_Fr188_T4</th>\n",
       "      <th>damID3-Lam_Fr89_T1</th>\n",
       "      <th>damID3-Lam_Fr89_T2</th>\n",
       "      <th>damID3-Lam_Fr89_w3</th>\n",
       "      <th>damID3-Lam_Zi238_w1</th>\n",
       "    </tr>\n",
       "  </thead>\n",
       "  <tbody>\n",
       "    <tr>\n",
       "      <th>0</th>\n",
       "      <td>2</td>\n",
       "      <td>3</td>\n",
       "      <td>0</td>\n",
       "      <td>0</td>\n",
       "      <td>1</td>\n",
       "      <td>0</td>\n",
       "      <td>1</td>\n",
       "      <td>2</td>\n",
       "      <td>1</td>\n",
       "      <td>1</td>\n",
       "      <td>1</td>\n",
       "      <td>0</td>\n",
       "      <td>2</td>\n",
       "      <td>0</td>\n",
       "      <td>1</td>\n",
       "      <td>0</td>\n",
       "      <td>0</td>\n",
       "      <td>0</td>\n",
       "      <td>0</td>\n",
       "      <td>0</td>\n",
       "      <td>1</td>\n",
       "      <td>2</td>\n",
       "      <td>1</td>\n",
       "    </tr>\n",
       "    <tr>\n",
       "      <th>1</th>\n",
       "      <td>1</td>\n",
       "      <td>3</td>\n",
       "      <td>0</td>\n",
       "      <td>0</td>\n",
       "      <td>1</td>\n",
       "      <td>0</td>\n",
       "      <td>1</td>\n",
       "      <td>1</td>\n",
       "      <td>0</td>\n",
       "      <td>1</td>\n",
       "      <td>1</td>\n",
       "      <td>0</td>\n",
       "      <td>2</td>\n",
       "      <td>0</td>\n",
       "      <td>1</td>\n",
       "      <td>0</td>\n",
       "      <td>0</td>\n",
       "      <td>0</td>\n",
       "      <td>0</td>\n",
       "      <td>0</td>\n",
       "      <td>1</td>\n",
       "      <td>1</td>\n",
       "      <td>0</td>\n",
       "    </tr>\n",
       "    <tr>\n",
       "      <th>2</th>\n",
       "      <td>1</td>\n",
       "      <td>3</td>\n",
       "      <td>0</td>\n",
       "      <td>0</td>\n",
       "      <td>1</td>\n",
       "      <td>0</td>\n",
       "      <td>2</td>\n",
       "      <td>1</td>\n",
       "      <td>0</td>\n",
       "      <td>1</td>\n",
       "      <td>1</td>\n",
       "      <td>0</td>\n",
       "      <td>2</td>\n",
       "      <td>0</td>\n",
       "      <td>1</td>\n",
       "      <td>0</td>\n",
       "      <td>0</td>\n",
       "      <td>0</td>\n",
       "      <td>0</td>\n",
       "      <td>0</td>\n",
       "      <td>1</td>\n",
       "      <td>2</td>\n",
       "      <td>0</td>\n",
       "    </tr>\n",
       "    <tr>\n",
       "      <th>3</th>\n",
       "      <td>1</td>\n",
       "      <td>4</td>\n",
       "      <td>1</td>\n",
       "      <td>1</td>\n",
       "      <td>3</td>\n",
       "      <td>1</td>\n",
       "      <td>2</td>\n",
       "      <td>2</td>\n",
       "      <td>0</td>\n",
       "      <td>2</td>\n",
       "      <td>1</td>\n",
       "      <td>2</td>\n",
       "      <td>2</td>\n",
       "      <td>0</td>\n",
       "      <td>0</td>\n",
       "      <td>0</td>\n",
       "      <td>0</td>\n",
       "      <td>2</td>\n",
       "      <td>2</td>\n",
       "      <td>1</td>\n",
       "      <td>1</td>\n",
       "      <td>3</td>\n",
       "      <td>2</td>\n",
       "    </tr>\n",
       "    <tr>\n",
       "      <th>4</th>\n",
       "      <td>3</td>\n",
       "      <td>4</td>\n",
       "      <td>2</td>\n",
       "      <td>0</td>\n",
       "      <td>0</td>\n",
       "      <td>0</td>\n",
       "      <td>0</td>\n",
       "      <td>0</td>\n",
       "      <td>1</td>\n",
       "      <td>0</td>\n",
       "      <td>0</td>\n",
       "      <td>1</td>\n",
       "      <td>1</td>\n",
       "      <td>0</td>\n",
       "      <td>0</td>\n",
       "      <td>1</td>\n",
       "      <td>0</td>\n",
       "      <td>0</td>\n",
       "      <td>0</td>\n",
       "      <td>0</td>\n",
       "      <td>1</td>\n",
       "      <td>2</td>\n",
       "      <td>0</td>\n",
       "    </tr>\n",
       "  </tbody>\n",
       "</table>\n",
       "</div>"
      ],
      "text/plain": [
       "   damID-Lam_Fr188_C  damID-Lam_Fr188_T2  damID-Lam_Zi257_C3  damID3-D1_Fr188_T  damID3-D1_Fr188_w1  damID3-D1_Fr188_w2  damID3-D1_Fr89_w1  damID3-D1_Fr89_w2  damID3-D1_Zi238_T  damID3-D1_Zi238_w1  \\\n",
       "0                  2                   3                   0                  0                   1                   0                  1                  2                  1                   1   \n",
       "1                  1                   3                   0                  0                   1                   0                  1                  1                  0                   1   \n",
       "2                  1                   3                   0                  0                   1                   0                  2                  1                  0                   1   \n",
       "3                  1                   4                   1                  1                   3                   1                  2                  2                  0                   2   \n",
       "4                  3                   4                   2                  0                   0                   0                  0                  0                  1                   0   \n",
       "\n",
       "   damID3-D1_Zi257_T  damID3-D1_Zi257_w1  damID3-Dam_Fr188_T2  damID3-Dam_Zi238_T1  damID3-Dam_Zi238_T2  damID3-Dam_Zi257_T1  damID3-Dam_Zi257_T2  damID3-Lam_Fr188_T1  damID3-Lam_Fr188_T4  \\\n",
       "0                  1                   0                    2                    0                    1                    0                    0                    0                    0   \n",
       "1                  1                   0                    2                    0                    1                    0                    0                    0                    0   \n",
       "2                  1                   0                    2                    0                    1                    0                    0                    0                    0   \n",
       "3                  1                   2                    2                    0                    0                    0                    0                    2                    2   \n",
       "4                  0                   1                    1                    0                    0                    1                    0                    0                    0   \n",
       "\n",
       "   damID3-Lam_Fr89_T1  damID3-Lam_Fr89_T2  damID3-Lam_Fr89_w3  damID3-Lam_Zi238_w1  \n",
       "0                   0                   1                   2                    1  \n",
       "1                   0                   1                   1                    0  \n",
       "2                   0                   1                   2                    0  \n",
       "3                   1                   1                   3                    2  \n",
       "4                   0                   1                   2                    0  "
      ]
     },
     "execution_count": 178,
     "metadata": {},
     "output_type": "execute_result"
    }
   ],
   "source": [
    "Merged = New_NoA.add(New_AdRp)\n",
    "Merged.to_csv(\"Merged\")\n",
    "Merged.head()"
   ]
  },
  {
   "cell_type": "markdown",
   "metadata": {},
   "source": [
    "## Giving up on merging dataframes"
   ]
  },
  {
   "cell_type": "markdown",
   "metadata": {},
   "source": [
    "Because there is such little overlap, we might want to just use one of the datasets.  Here we plot a histogram of the sum of the counts "
   ]
  },
  {
   "cell_type": "code",
   "execution_count": 46,
   "metadata": {
    "collapsed": false
   },
   "outputs": [
    {
     "name": "stdout",
     "output_type": "stream",
     "text": [
      "158393 15605563 101 NoA: Min, max, num columns with counts greater than 500000\n",
      "115035 5954727 99 AdRp: Min, max,  num columns with counts greater than 500000\n"
     ]
    },
    {
     "data": {
      "image/png": "[encoded data removed]",
      "text/plain": [
       "<matplotlib.figure.Figure at 0x20b35c290>"
      ]
     },
     "metadata": {},
     "output_type": "display_data"
    }
   ],
   "source": [
    "plt.figure()\n",
    "bins = np.linspace(start=0, stop=16000000, num=20)\n",
    "_=plt.hist(NoA_noMtDNA.sum(axis=0), bins, label=\"NoA\", alpha=.5)\n",
    "_=plt.hist(AdRp_noMtDNA.sum(axis=0), bins, label=\"AdRp\", alpha=.5)\n",
    "plt.legend()\n",
    "\n",
    "print min(NoA_noMtDNA.sum(axis=0)),max(NoA_noMtDNA.sum(axis=0)) , sum(NoA_noMtDNA.sum(axis=0)>500000),\"NoA: Min, max, num columns with counts greater than 500000\"\n",
    "print min(AdRp_noMtDNA.sum(axis=0)),max(AdRp_noMtDNA.sum(axis=0)),  sum(AdRp_noMtDNA.sum(axis=0)>500000), \"AdRp: Min, max,  num columns with counts greater than 500000\"\n"
   ]
  },
  {
   "cell_type": "markdown",
   "metadata": {},
   "source": [
    "# Keep only columns with combined counts greater than 500000 (in Merged)"
   ]
  },
  {
   "cell_type": "markdown",
   "metadata": {},
   "source": [
    "Actually there was nothing to do here because the minimum column counts was 2703509."
   ]
  },
  {
   "cell_type": "code",
   "execution_count": 179,
   "metadata": {
    "collapsed": false
   },
   "outputs": [
    {
     "data": {
      "text/plain": [
       "2703509"
      ]
     },
     "execution_count": 179,
     "metadata": {},
     "output_type": "execute_result"
    }
   ],
   "source": [
    "min(Merged.sum(axis=0))"
   ]
  },
  {
   "cell_type": "code",
   "execution_count": 180,
   "metadata": {
    "collapsed": false
   },
   "outputs": [
    {
     "data": {
      "image/png": "[encoded data removed]",
      "text/plain": [
       "<matplotlib.figure.Figure at 0x1a62a4810>"
      ]
     },
     "metadata": {},
     "output_type": "display_data"
    }
   ],
   "source": [
    "_=plt.hist(Merged.sum(axis=0))"
   ]
  },
  {
   "cell_type": "markdown",
   "metadata": {},
   "source": [
    "# Making PCAs of each protein/tissue combination"
   ]
  },
  {
   "cell_type": "markdown",
   "metadata": {},
   "source": [
    "First let's turn column names into a dataframe, so that we can easily separate out tissue, protein, country, line, etc"
   ]
  },
  {
   "cell_type": "code",
   "execution_count": 181,
   "metadata": {
    "collapsed": false
   },
   "outputs": [
    {
     "data": {
      "text/html": [
       "<div>\n",
       "<table border=\"1\" class=\"dataframe\">\n",
       "  <thead>\n",
       "    <tr style=\"text-align: right;\">\n",
       "      <th></th>\n",
       "      <th>Rep</th>\n",
       "      <th>Tissue</th>\n",
       "      <th>Country</th>\n",
       "      <th>Line</th>\n",
       "      <th>NotSureProtein</th>\n",
       "      <th>protein</th>\n",
       "    </tr>\n",
       "  </thead>\n",
       "  <tbody>\n",
       "    <tr>\n",
       "      <th>damID-Lam_Fr188_C</th>\n",
       "      <td>NaN</td>\n",
       "      <td>C</td>\n",
       "      <td>Fr</td>\n",
       "      <td>188</td>\n",
       "      <td>damID</td>\n",
       "      <td>Lam</td>\n",
       "    </tr>\n",
       "    <tr>\n",
       "      <th>damID-Lam_Fr188_T2</th>\n",
       "      <td>2</td>\n",
       "      <td>T</td>\n",
       "      <td>Fr</td>\n",
       "      <td>188</td>\n",
       "      <td>damID</td>\n",
       "      <td>Lam</td>\n",
       "    </tr>\n",
       "    <tr>\n",
       "      <th>damID-Lam_Zi257_C3</th>\n",
       "      <td>3</td>\n",
       "      <td>C</td>\n",
       "      <td>Zi</td>\n",
       "      <td>257</td>\n",
       "      <td>damID</td>\n",
       "      <td>Lam</td>\n",
       "    </tr>\n",
       "    <tr>\n",
       "      <th>damID3-D1_Fr188_T</th>\n",
       "      <td>NaN</td>\n",
       "      <td>T</td>\n",
       "      <td>Fr</td>\n",
       "      <td>188</td>\n",
       "      <td>damID3</td>\n",
       "      <td>D1</td>\n",
       "    </tr>\n",
       "    <tr>\n",
       "      <th>damID3-D1_Fr188_w1</th>\n",
       "      <td>1</td>\n",
       "      <td>w</td>\n",
       "      <td>Fr</td>\n",
       "      <td>188</td>\n",
       "      <td>damID3</td>\n",
       "      <td>D1</td>\n",
       "    </tr>\n",
       "    <tr>\n",
       "      <th>damID3-D1_Fr188_w2</th>\n",
       "      <td>2</td>\n",
       "      <td>w</td>\n",
       "      <td>Fr</td>\n",
       "      <td>188</td>\n",
       "      <td>damID3</td>\n",
       "      <td>D1</td>\n",
       "    </tr>\n",
       "    <tr>\n",
       "      <th>damID3-D1_Fr89_w1</th>\n",
       "      <td>1</td>\n",
       "      <td>w</td>\n",
       "      <td>Fr</td>\n",
       "      <td>89</td>\n",
       "      <td>damID3</td>\n",
       "      <td>D1</td>\n",
       "    </tr>\n",
       "    <tr>\n",
       "      <th>damID3-D1_Fr89_w2</th>\n",
       "      <td>2</td>\n",
       "      <td>w</td>\n",
       "      <td>Fr</td>\n",
       "      <td>89</td>\n",
       "      <td>damID3</td>\n",
       "      <td>D1</td>\n",
       "    </tr>\n",
       "    <tr>\n",
       "      <th>damID3-D1_Zi238_T</th>\n",
       "      <td>NaN</td>\n",
       "      <td>T</td>\n",
       "      <td>Zi</td>\n",
       "      <td>238</td>\n",
       "      <td>damID3</td>\n",
       "      <td>D1</td>\n",
       "    </tr>\n",
       "    <tr>\n",
       "      <th>damID3-D1_Zi238_w1</th>\n",
       "      <td>1</td>\n",
       "      <td>w</td>\n",
       "      <td>Zi</td>\n",
       "      <td>238</td>\n",
       "      <td>damID3</td>\n",
       "      <td>D1</td>\n",
       "    </tr>\n",
       "    <tr>\n",
       "      <th>damID3-D1_Zi257_T</th>\n",
       "      <td>NaN</td>\n",
       "      <td>T</td>\n",
       "      <td>Zi</td>\n",
       "      <td>257</td>\n",
       "      <td>damID3</td>\n",
       "      <td>D1</td>\n",
       "    </tr>\n",
       "    <tr>\n",
       "      <th>damID3-D1_Zi257_w1</th>\n",
       "      <td>1</td>\n",
       "      <td>w</td>\n",
       "      <td>Zi</td>\n",
       "      <td>257</td>\n",
       "      <td>damID3</td>\n",
       "      <td>D1</td>\n",
       "    </tr>\n",
       "    <tr>\n",
       "      <th>damID3-Dam_Fr188_T2</th>\n",
       "      <td>2</td>\n",
       "      <td>T</td>\n",
       "      <td>Fr</td>\n",
       "      <td>188</td>\n",
       "      <td>damID3</td>\n",
       "      <td>Dam</td>\n",
       "    </tr>\n",
       "    <tr>\n",
       "      <th>damID3-Dam_Zi238_T1</th>\n",
       "      <td>1</td>\n",
       "      <td>T</td>\n",
       "      <td>Zi</td>\n",
       "      <td>238</td>\n",
       "      <td>damID3</td>\n",
       "      <td>Dam</td>\n",
       "    </tr>\n",
       "    <tr>\n",
       "      <th>damID3-Dam_Zi238_T2</th>\n",
       "      <td>2</td>\n",
       "      <td>T</td>\n",
       "      <td>Zi</td>\n",
       "      <td>238</td>\n",
       "      <td>damID3</td>\n",
       "      <td>Dam</td>\n",
       "    </tr>\n",
       "    <tr>\n",
       "      <th>damID3-Dam_Zi257_T1</th>\n",
       "      <td>1</td>\n",
       "      <td>T</td>\n",
       "      <td>Zi</td>\n",
       "      <td>257</td>\n",
       "      <td>damID3</td>\n",
       "      <td>Dam</td>\n",
       "    </tr>\n",
       "    <tr>\n",
       "      <th>damID3-Dam_Zi257_T2</th>\n",
       "      <td>2</td>\n",
       "      <td>T</td>\n",
       "      <td>Zi</td>\n",
       "      <td>257</td>\n",
       "      <td>damID3</td>\n",
       "      <td>Dam</td>\n",
       "    </tr>\n",
       "    <tr>\n",
       "      <th>damID3-Lam_Fr188_T1</th>\n",
       "      <td>1</td>\n",
       "      <td>T</td>\n",
       "      <td>Fr</td>\n",
       "      <td>188</td>\n",
       "      <td>damID3</td>\n",
       "      <td>Lam</td>\n",
       "    </tr>\n",
       "    <tr>\n",
       "      <th>damID3-Lam_Fr188_T4</th>\n",
       "      <td>4</td>\n",
       "      <td>T</td>\n",
       "      <td>Fr</td>\n",
       "      <td>188</td>\n",
       "      <td>damID3</td>\n",
       "      <td>Lam</td>\n",
       "    </tr>\n",
       "    <tr>\n",
       "      <th>damID3-Lam_Fr89_T1</th>\n",
       "      <td>1</td>\n",
       "      <td>T</td>\n",
       "      <td>Fr</td>\n",
       "      <td>89</td>\n",
       "      <td>damID3</td>\n",
       "      <td>Lam</td>\n",
       "    </tr>\n",
       "    <tr>\n",
       "      <th>damID3-Lam_Fr89_T2</th>\n",
       "      <td>2</td>\n",
       "      <td>T</td>\n",
       "      <td>Fr</td>\n",
       "      <td>89</td>\n",
       "      <td>damID3</td>\n",
       "      <td>Lam</td>\n",
       "    </tr>\n",
       "    <tr>\n",
       "      <th>damID3-Lam_Fr89_w3</th>\n",
       "      <td>3</td>\n",
       "      <td>w</td>\n",
       "      <td>Fr</td>\n",
       "      <td>89</td>\n",
       "      <td>damID3</td>\n",
       "      <td>Lam</td>\n",
       "    </tr>\n",
       "    <tr>\n",
       "      <th>damID3-Lam_Zi238_w1</th>\n",
       "      <td>1</td>\n",
       "      <td>w</td>\n",
       "      <td>Zi</td>\n",
       "      <td>238</td>\n",
       "      <td>damID3</td>\n",
       "      <td>Lam</td>\n",
       "    </tr>\n",
       "  </tbody>\n",
       "</table>\n",
       "</div>"
      ],
      "text/plain": [
       "                     Rep Tissue Country Line NotSureProtein protein\n",
       "damID-Lam_Fr188_C    NaN      C      Fr  188          damID     Lam\n",
       "damID-Lam_Fr188_T2     2      T      Fr  188          damID     Lam\n",
       "damID-Lam_Zi257_C3     3      C      Zi  257          damID     Lam\n",
       "damID3-D1_Fr188_T    NaN      T      Fr  188         damID3      D1\n",
       "damID3-D1_Fr188_w1     1      w      Fr  188         damID3      D1\n",
       "damID3-D1_Fr188_w2     2      w      Fr  188         damID3      D1\n",
       "damID3-D1_Fr89_w1      1      w      Fr   89         damID3      D1\n",
       "damID3-D1_Fr89_w2      2      w      Fr   89         damID3      D1\n",
       "damID3-D1_Zi238_T    NaN      T      Zi  238         damID3      D1\n",
       "damID3-D1_Zi238_w1     1      w      Zi  238         damID3      D1\n",
       "damID3-D1_Zi257_T    NaN      T      Zi  257         damID3      D1\n",
       "damID3-D1_Zi257_w1     1      w      Zi  257         damID3      D1\n",
       "damID3-Dam_Fr188_T2    2      T      Fr  188         damID3     Dam\n",
       "damID3-Dam_Zi238_T1    1      T      Zi  238         damID3     Dam\n",
       "damID3-Dam_Zi238_T2    2      T      Zi  238         damID3     Dam\n",
       "damID3-Dam_Zi257_T1    1      T      Zi  257         damID3     Dam\n",
       "damID3-Dam_Zi257_T2    2      T      Zi  257         damID3     Dam\n",
       "damID3-Lam_Fr188_T1    1      T      Fr  188         damID3     Lam\n",
       "damID3-Lam_Fr188_T4    4      T      Fr  188         damID3     Lam\n",
       "damID3-Lam_Fr89_T1     1      T      Fr   89         damID3     Lam\n",
       "damID3-Lam_Fr89_T2     2      T      Fr   89         damID3     Lam\n",
       "damID3-Lam_Fr89_w3     3      w      Fr   89         damID3     Lam\n",
       "damID3-Lam_Zi238_w1    1      w      Zi  238         damID3     Lam"
      ]
     },
     "execution_count": 181,
     "metadata": {},
     "output_type": "execute_result"
    }
   ],
   "source": [
    "def split_names(row):\n",
    "    labels=[\"RunProtein\", \"CountryLine\", \"TissueRep\", \"dataset\", \"notSure1\", \"notSure2\"]\n",
    "    d = {lab:ele for lab,ele in zip(labels, row.split(\"_\"))}\n",
    "    return d\n",
    "\n",
    "def split_TissueRep(TissueRep):\n",
    "    return {label:ele for label, ele in zip([\"Tissue\", \"Rep\"], TissueRep)}\n",
    "\n",
    "def split_CountryLine(CL): \n",
    "    return {label:ele for label, ele in zip([\"Country\", \"Line\"], [CL[:2], CL[2:]])}\n",
    "\n",
    "def separate_protein(RunProtein):\n",
    "    return {label:ele for label, ele in zip([\"NotSureProtein\", \"protein\"], RunProtein.split(\"-\"))}\n",
    "\n",
    "file_names = Merged.columns\n",
    "\n",
    "ind = [row.split(\"_cut\")[0] for row in file_names]\n",
    "\n",
    "file_names=pd.DataFrame([split_names(row) for row in file_names])\n",
    "\n",
    "file_names=pd.concat([file_names, pd.DataFrame([split_TissueRep(row) for row in file_names[\"TissueRep\"]])], axis=1)\n",
    "del file_names[\"TissueRep\"]\n",
    "\n",
    "file_names=pd.concat([file_names, pd.DataFrame([split_CountryLine(row) for row in file_names[\"CountryLine\"]])], axis=1)\n",
    "del file_names[\"CountryLine\"]\n",
    "\n",
    "file_names=pd.concat([file_names, pd.DataFrame([separate_protein(row) for row in file_names[\"RunProtein\"]])], axis=1)\n",
    "del file_names[\"RunProtein\"]\n",
    "\n",
    "file_names.index=ind\n",
    "\n",
    "file_names"
   ]
  },
  {
   "cell_type": "code",
   "execution_count": 182,
   "metadata": {
    "collapsed": true
   },
   "outputs": [],
   "source": [
    "file_names.to_csv(\"file_names\")"
   ]
  },
  {
   "cell_type": "markdown",
   "metadata": {},
   "source": [
    "Next, let's make protein/tissue masks"
   ]
  },
  {
   "cell_type": "code",
   "execution_count": 183,
   "metadata": {
    "collapsed": false
   },
   "outputs": [],
   "source": [
    "#Protein masks\n",
    "DamMask = [file_names.loc[name].protein==\"Dam\" for name in Merged.columns]\n",
    "LamMask = [file_names.loc[name].protein==\"Lam\" for name in Merged.columns]\n",
    "D1Mask = [file_names.loc[name].protein==\"D1\" for name in Merged.columns]\n",
    "\n",
    "#Tissue masks\n",
    "TMask = [file_names.loc[name].Tissue==\"T\" for name in Merged.columns]\n",
    "CMask = [file_names.loc[name].Tissue==\"C\" for name in Merged.columns]\n",
    "WMask = [(file_names.loc[name].Tissue==\"W\" or file_names.loc[name].Tissue==\"w\") for name in Merged.columns]\n"
   ]
  },
  {
   "cell_type": "code",
   "execution_count": 184,
   "metadata": {
    "collapsed": false
   },
   "outputs": [],
   "source": [
    "DamTMask = [a and b for a, b in zip(DamMask, TMask)]\n",
    "DamCMask = [a and b for a, b in zip(DamMask, CMask)]\n",
    "DamWMask = [a and b for a, b in zip(DamMask, WMask)]\n",
    "\n",
    "LamTMask = [a and b for a, b in zip(LamMask, TMask)]\n",
    "LamCMask = [a and b for a, b in zip(LamMask, CMask)]\n",
    "LamWMask = [a and b for a, b in zip(LamMask, WMask)]\n",
    "\n",
    "D1TMask = [a and b for a, b in zip(D1Mask, TMask)]\n",
    "D1CMask = [a and b for a, b in zip(D1Mask, CMask)]\n",
    "D1WMask = [a and b for a, b in zip(D1Mask, WMask)]"
   ]
  },
  {
   "cell_type": "markdown",
   "metadata": {},
   "source": [
    "Let's normalize the Merged dataset by column counts"
   ]
  },
  {
   "cell_type": "code",
   "execution_count": 185,
   "metadata": {
    "collapsed": false
   },
   "outputs": [
    {
     "data": {
      "text/html": [
       "<div>\n",
       "<table border=\"1\" class=\"dataframe\">\n",
       "  <thead>\n",
       "    <tr style=\"text-align: right;\">\n",
       "      <th></th>\n",
       "      <th>damID-Lam_Fr188_C</th>\n",
       "      <th>damID-Lam_Fr188_T2</th>\n",
       "      <th>damID-Lam_Zi257_C3</th>\n",
       "      <th>damID3-D1_Fr188_T</th>\n",
       "      <th>damID3-D1_Fr188_w1</th>\n",
       "      <th>damID3-D1_Fr188_w2</th>\n",
       "      <th>damID3-D1_Fr89_w1</th>\n",
       "      <th>damID3-D1_Fr89_w2</th>\n",
       "      <th>damID3-D1_Zi238_T</th>\n",
       "      <th>damID3-D1_Zi238_w1</th>\n",
       "      <th>damID3-D1_Zi257_T</th>\n",
       "      <th>damID3-D1_Zi257_w1</th>\n",
       "      <th>damID3-Dam_Fr188_T2</th>\n",
       "      <th>damID3-Dam_Zi238_T1</th>\n",
       "      <th>damID3-Dam_Zi238_T2</th>\n",
       "      <th>damID3-Dam_Zi257_T1</th>\n",
       "      <th>damID3-Dam_Zi257_T2</th>\n",
       "      <th>damID3-Lam_Fr188_T1</th>\n",
       "      <th>damID3-Lam_Fr188_T4</th>\n",
       "      <th>damID3-Lam_Fr89_T1</th>\n",
       "      <th>damID3-Lam_Fr89_T2</th>\n",
       "      <th>damID3-Lam_Fr89_w3</th>\n",
       "      <th>damID3-Lam_Zi238_w1</th>\n",
       "    </tr>\n",
       "  </thead>\n",
       "  <tbody>\n",
       "    <tr>\n",
       "      <th>0</th>\n",
       "      <td>1.911296e-07</td>\n",
       "      <td>2.707044e-07</td>\n",
       "      <td>0.000000e+00</td>\n",
       "      <td>0.000000e+00</td>\n",
       "      <td>2.074980e-07</td>\n",
       "      <td>0.000000e+00</td>\n",
       "      <td>1.317960e-07</td>\n",
       "      <td>4.745490e-07</td>\n",
       "      <td>3.542948e-07</td>\n",
       "      <td>1.196173e-07</td>\n",
       "      <td>3.698897e-07</td>\n",
       "      <td>0.000000e+00</td>\n",
       "      <td>1.925403e-07</td>\n",
       "      <td>0</td>\n",
       "      <td>1.447931e-07</td>\n",
       "      <td>0.000000e+00</td>\n",
       "      <td>0</td>\n",
       "      <td>0.000000e+00</td>\n",
       "      <td>0.000000e+00</td>\n",
       "      <td>0.000000e+00</td>\n",
       "      <td>1.050302e-07</td>\n",
       "      <td>2.118684e-07</td>\n",
       "      <td>1.104141e-07</td>\n",
       "    </tr>\n",
       "    <tr>\n",
       "      <th>1</th>\n",
       "      <td>9.556479e-08</td>\n",
       "      <td>2.707044e-07</td>\n",
       "      <td>0.000000e+00</td>\n",
       "      <td>0.000000e+00</td>\n",
       "      <td>2.074980e-07</td>\n",
       "      <td>0.000000e+00</td>\n",
       "      <td>1.317960e-07</td>\n",
       "      <td>2.372745e-07</td>\n",
       "      <td>0.000000e+00</td>\n",
       "      <td>1.196173e-07</td>\n",
       "      <td>3.698897e-07</td>\n",
       "      <td>0.000000e+00</td>\n",
       "      <td>1.925403e-07</td>\n",
       "      <td>0</td>\n",
       "      <td>1.447931e-07</td>\n",
       "      <td>0.000000e+00</td>\n",
       "      <td>0</td>\n",
       "      <td>0.000000e+00</td>\n",
       "      <td>0.000000e+00</td>\n",
       "      <td>0.000000e+00</td>\n",
       "      <td>1.050302e-07</td>\n",
       "      <td>1.059342e-07</td>\n",
       "      <td>0.000000e+00</td>\n",
       "    </tr>\n",
       "    <tr>\n",
       "      <th>2</th>\n",
       "      <td>9.556479e-08</td>\n",
       "      <td>2.707044e-07</td>\n",
       "      <td>0.000000e+00</td>\n",
       "      <td>0.000000e+00</td>\n",
       "      <td>2.074980e-07</td>\n",
       "      <td>0.000000e+00</td>\n",
       "      <td>2.635920e-07</td>\n",
       "      <td>2.372745e-07</td>\n",
       "      <td>0.000000e+00</td>\n",
       "      <td>1.196173e-07</td>\n",
       "      <td>3.698897e-07</td>\n",
       "      <td>0.000000e+00</td>\n",
       "      <td>1.925403e-07</td>\n",
       "      <td>0</td>\n",
       "      <td>1.447931e-07</td>\n",
       "      <td>0.000000e+00</td>\n",
       "      <td>0</td>\n",
       "      <td>0.000000e+00</td>\n",
       "      <td>0.000000e+00</td>\n",
       "      <td>0.000000e+00</td>\n",
       "      <td>1.050302e-07</td>\n",
       "      <td>2.118684e-07</td>\n",
       "      <td>0.000000e+00</td>\n",
       "    </tr>\n",
       "    <tr>\n",
       "      <th>3</th>\n",
       "      <td>9.556479e-08</td>\n",
       "      <td>3.609392e-07</td>\n",
       "      <td>4.638157e-08</td>\n",
       "      <td>1.324061e-07</td>\n",
       "      <td>6.224941e-07</td>\n",
       "      <td>1.744665e-07</td>\n",
       "      <td>2.635920e-07</td>\n",
       "      <td>4.745490e-07</td>\n",
       "      <td>0.000000e+00</td>\n",
       "      <td>2.392346e-07</td>\n",
       "      <td>3.698897e-07</td>\n",
       "      <td>5.295522e-07</td>\n",
       "      <td>1.925403e-07</td>\n",
       "      <td>0</td>\n",
       "      <td>0.000000e+00</td>\n",
       "      <td>0.000000e+00</td>\n",
       "      <td>0</td>\n",
       "      <td>1.808979e-07</td>\n",
       "      <td>2.419740e-07</td>\n",
       "      <td>1.039315e-07</td>\n",
       "      <td>1.050302e-07</td>\n",
       "      <td>3.178025e-07</td>\n",
       "      <td>2.208282e-07</td>\n",
       "    </tr>\n",
       "    <tr>\n",
       "      <th>4</th>\n",
       "      <td>2.866944e-07</td>\n",
       "      <td>3.609392e-07</td>\n",
       "      <td>9.276313e-08</td>\n",
       "      <td>0.000000e+00</td>\n",
       "      <td>0.000000e+00</td>\n",
       "      <td>0.000000e+00</td>\n",
       "      <td>0.000000e+00</td>\n",
       "      <td>0.000000e+00</td>\n",
       "      <td>3.542948e-07</td>\n",
       "      <td>0.000000e+00</td>\n",
       "      <td>0.000000e+00</td>\n",
       "      <td>2.647761e-07</td>\n",
       "      <td>9.627016e-08</td>\n",
       "      <td>0</td>\n",
       "      <td>0.000000e+00</td>\n",
       "      <td>2.148937e-07</td>\n",
       "      <td>0</td>\n",
       "      <td>0.000000e+00</td>\n",
       "      <td>0.000000e+00</td>\n",
       "      <td>0.000000e+00</td>\n",
       "      <td>1.050302e-07</td>\n",
       "      <td>2.118684e-07</td>\n",
       "      <td>0.000000e+00</td>\n",
       "    </tr>\n",
       "  </tbody>\n",
       "</table>\n",
       "</div>"
      ],
      "text/plain": [
       "   damID-Lam_Fr188_C  damID-Lam_Fr188_T2  damID-Lam_Zi257_C3  damID3-D1_Fr188_T  damID3-D1_Fr188_w1  damID3-D1_Fr188_w2  damID3-D1_Fr89_w1  damID3-D1_Fr89_w2  damID3-D1_Zi238_T  damID3-D1_Zi238_w1  \\\n",
       "0       1.911296e-07        2.707044e-07        0.000000e+00       0.000000e+00        2.074980e-07        0.000000e+00       1.317960e-07       4.745490e-07       3.542948e-07        1.196173e-07   \n",
       "1       9.556479e-08        2.707044e-07        0.000000e+00       0.000000e+00        2.074980e-07        0.000000e+00       1.317960e-07       2.372745e-07       0.000000e+00        1.196173e-07   \n",
       "2       9.556479e-08        2.707044e-07        0.000000e+00       0.000000e+00        2.074980e-07        0.000000e+00       2.635920e-07       2.372745e-07       0.000000e+00        1.196173e-07   \n",
       "3       9.556479e-08        3.609392e-07        4.638157e-08       1.324061e-07        6.224941e-07        1.744665e-07       2.635920e-07       4.745490e-07       0.000000e+00        2.392346e-07   \n",
       "4       2.866944e-07        3.609392e-07        9.276313e-08       0.000000e+00        0.000000e+00        0.000000e+00       0.000000e+00       0.000000e+00       3.542948e-07        0.000000e+00   \n",
       "\n",
       "   damID3-D1_Zi257_T  damID3-D1_Zi257_w1  damID3-Dam_Fr188_T2  damID3-Dam_Zi238_T1  damID3-Dam_Zi238_T2  damID3-Dam_Zi257_T1  damID3-Dam_Zi257_T2  damID3-Lam_Fr188_T1  damID3-Lam_Fr188_T4  \\\n",
       "0       3.698897e-07        0.000000e+00         1.925403e-07                    0         1.447931e-07         0.000000e+00                    0         0.000000e+00         0.000000e+00   \n",
       "1       3.698897e-07        0.000000e+00         1.925403e-07                    0         1.447931e-07         0.000000e+00                    0         0.000000e+00         0.000000e+00   \n",
       "2       3.698897e-07        0.000000e+00         1.925403e-07                    0         1.447931e-07         0.000000e+00                    0         0.000000e+00         0.000000e+00   \n",
       "3       3.698897e-07        5.295522e-07         1.925403e-07                    0         0.000000e+00         0.000000e+00                    0         1.808979e-07         2.419740e-07   \n",
       "4       0.000000e+00        2.647761e-07         9.627016e-08                    0         0.000000e+00         2.148937e-07                    0         0.000000e+00         0.000000e+00   \n",
       "\n",
       "   damID3-Lam_Fr89_T1  damID3-Lam_Fr89_T2  damID3-Lam_Fr89_w3  damID3-Lam_Zi238_w1  \n",
       "0        0.000000e+00        1.050302e-07        2.118684e-07         1.104141e-07  \n",
       "1        0.000000e+00        1.050302e-07        1.059342e-07         0.000000e+00  \n",
       "2        0.000000e+00        1.050302e-07        2.118684e-07         0.000000e+00  \n",
       "3        1.039315e-07        1.050302e-07        3.178025e-07         2.208282e-07  \n",
       "4        0.000000e+00        1.050302e-07        2.118684e-07         0.000000e+00  "
      ]
     },
     "execution_count": 185,
     "metadata": {},
     "output_type": "execute_result"
    }
   ],
   "source": [
    "MergedNormalized=Merged.div(Merged.sum(axis=0), axis=1)\n",
    "MergedNormalized.head()"
   ]
  },
  {
   "cell_type": "code",
   "execution_count": 186,
   "metadata": {
    "collapsed": true
   },
   "outputs": [],
   "source": [
    "#here you can choose to input the normalized or not normalized merged dataset\n",
    "\n",
    "def create_subdfs(Merged):\n",
    "\n",
    "    LamT=Merged.ix[:,LamTMask]\n",
    "    DamT=Merged.ix[:,DamTMask]\n",
    "    D1T=Merged.ix[:,D1TMask]\n",
    "\n",
    "    LamC=Merged.ix[:,LamCMask]\n",
    "    DamC=Merged.ix[:,DamCMask]\n",
    "    D1C=Merged.ix[:,D1CMask]\n",
    "\n",
    "    LamW=Merged.ix[:,LamWMask]\n",
    "    DamW=Merged.ix[:,DamWMask]\n",
    "    D1W=Merged.ix[:,D1WMask]\n",
    "    \n",
    "    return LamT, DamT, D1T, LamC, DamC, D1C, LamW, DamW, D1W\n",
    "\n",
    "LamT, DamT, D1T, LamC, DamC, D1C, LamW, DamW, D1W = create_subdfs(MergedNormalized)"
   ]
  },
  {
   "cell_type": "markdown",
   "metadata": {},
   "source": [
    "Now we run PCA for each tissue/protein combo."
   ]
  },
  {
   "cell_type": "code",
   "execution_count": 187,
   "metadata": {
    "collapsed": false
   },
   "outputs": [
    {
     "data": {
      "image/png": "[encoded data removed]",
      "text/plain": [
       "<matplotlib.figure.Figure at 0x1a60c7550>"
      ]
     },
     "metadata": {},
     "output_type": "display_data"
    }
   ],
   "source": [
    "def plot_PCA(data, subplot_spec, title):\n",
    "    \n",
    "    pca = PCA(n_components=10)\n",
    "    X = pca.fit_transform(data.transpose())\n",
    "    #print pca.explained_variance_ratio_.sum(), \"percentage var explained\"\n",
    "    #print pca.explained_variance_ratio_*100, \"explained by first PCs\"\n",
    "    \n",
    "    df=pd.DataFrame()\n",
    "    for i in range(pca.explained_variance_ratio_.shape[0]):\n",
    "        df[\"pc%i\" % (i+1)] = X[:,i]\n",
    "\n",
    "    colors = [\"blue\", \"red\", \"yellow\", 'green']\n",
    "    labels= [\"188\",\"238\",\"257\", \"89\"]\n",
    "    \n",
    "    ax1 = fig.add_subplot(subplot_spec, xticklabels=[], yticklabels=[])\n",
    "    \n",
    "    for label, color in zip(labels, colors):\n",
    "        mask = [file_names.loc[name].Line==label for name in data.columns]\n",
    "        _=ax1.scatter(df[mask]['pc1'], df[mask]['pc2'], c=color, label=label, alpha=.5, s =50)\n",
    "    ax1.set_title(title)\n",
    "    ax1.grid(b=False)\n",
    "    #ax1.axis(\"off\")\n",
    "    #plt.legend()\n",
    "    #plt.grid(False)\n",
    "    #plt.show()\n",
    "\n",
    "fig = plt.figure()\n",
    "\n",
    "#plot_PCA(DamC, 331, \"DamC\")\n",
    "plot_PCA(DamT, 332, \"DamT\")\n",
    "#plot_PCA(DamW, 333, \"DamW\")\n",
    "plot_PCA(LamC, 334, \"LamC\")\n",
    "plot_PCA(LamT, 335, \"LamT\")\n",
    "plot_PCA(LamW, 336, \"LamW\")\n",
    "#plot_PCA(D1C, 337, \"D1C\")\n",
    "plot_PCA(D1T, 338, \"D1T\")\n",
    "plot_PCA(D1W, 339, \"D1W\")\n",
    "\n"
   ]
  },
  {
   "cell_type": "markdown",
   "metadata": {},
   "source": [
    "Blue and green are Fr strains, yellow and red are Zi strains"
   ]
  },
  {
   "cell_type": "markdown",
   "metadata": {},
   "source": [
    "# Normalizing each data set value by mean(Dam-only) value"
   ]
  },
  {
   "cell_type": "markdown",
   "metadata": {},
   "source": [
    "The final step would be to take mean(D1) / mean(Dam-only) and mean(Lam) / mean(Dam-only) for each line/tissue combination and look at how those values cluster. This should be a very crude way to account for background noise. Note that you'll need to normalize by counts first before averaging across replicates."
   ]
  },
  {
   "cell_type": "code",
   "execution_count": 188,
   "metadata": {
    "collapsed": false
   },
   "outputs": [],
   "source": [
    "CMean=DamC.mean(axis=1)\n",
    "TMean=DamT.mean(axis=1)\n",
    "WMean=DamW.mean(axis=1)"
   ]
  },
  {
   "cell_type": "code",
   "execution_count": 189,
   "metadata": {
    "collapsed": true
   },
   "outputs": [],
   "source": [
    "LamCNorm = LamC.div(CMean, axis='index')\n",
    "LamTNorm = LamT.div(TMean, axis='index')\n",
    "LamWNorm = LamW.div(WMean, axis='index')\n",
    "\n",
    "D1CNorm = D1C.div(CMean, axis='index')\n",
    "D1TNorm = D1T.div(TMean, axis='index')\n",
    "D1WNorm = D1W.div(WMean, axis='index')\n",
    "\n",
    "DamCNorm = DamC.div(CMean, axis='index')"
   ]
  },
  {
   "cell_type": "markdown",
   "metadata": {},
   "source": [
    "Drop any rows where there are inf values"
   ]
  },
  {
   "cell_type": "code",
   "execution_count": 190,
   "metadata": {
    "collapsed": false
   },
   "outputs": [],
   "source": [
    "LamCNorm=LamCNorm.replace([np.inf, -np.inf], np.nan).dropna()\n",
    "LamTNorm=LamTNorm.replace([np.inf, -np.inf], np.nan).dropna()\n",
    "LamWNorm=LamWNorm.replace([np.inf, -np.inf], np.nan).dropna()\n",
    "\n",
    "D1CNorm=D1CNorm.replace([np.inf, -np.inf], np.nan).dropna()\n",
    "D1TNorm=D1TNorm.replace([np.inf, -np.inf], np.nan).dropna()\n",
    "D1WNorm=D1WNorm.replace([np.inf, -np.inf], np.nan).dropna()\n",
    "\n",
    "DamCNorm=DamCNorm.replace([np.inf, -np.inf], np.nan).dropna()"
   ]
  },
  {
   "cell_type": "code",
   "execution_count": 191,
   "metadata": {
    "collapsed": false
   },
   "outputs": [
    {
     "data": {
      "image/png": "[encoded data removed]",
      "text/plain": [
       "<matplotlib.figure.Figure at 0x1ac025ed0>"
      ]
     },
     "metadata": {},
     "output_type": "display_data"
    }
   ],
   "source": [
    "fig = plt.figure()\n",
    "\n",
    "#plot_PCA(LamCNorm, 231, \"LamC\")\n",
    "plot_PCA(LamTNorm, 232, \"LamT\")\n",
    "#plot_PCA(LamWNorm, 233, \"LamW\")\n",
    "#plot_PCA(D1CNorm, 234, \"D1C\")\n",
    "plot_PCA(D1TNorm, 235, \"D1T\")\n",
    "#plot_PCA(D1WNorm, 236, \"D1W\")"
   ]
  },
  {
   "cell_type": "code",
   "execution_count": null,
   "metadata": {
    "collapsed": true
   },
   "outputs": [],
   "source": []
  },
  {
   "cell_type": "code",
   "execution_count": null,
   "metadata": {
    "collapsed": true
   },
   "outputs": [],
   "source": []
  },
  {
   "cell_type": "code",
   "execution_count": null,
   "metadata": {
    "collapsed": true
   },
   "outputs": [],
   "source": []
  },
  {
   "cell_type": "code",
   "execution_count": null,
   "metadata": {
    "collapsed": true
   },
   "outputs": [],
   "source": []
  },
  {
   "cell_type": "code",
   "execution_count": null,
   "metadata": {
    "collapsed": true
   },
   "outputs": [],
   "source": []
  },
  {
   "cell_type": "code",
   "execution_count": null,
   "metadata": {
    "collapsed": true
   },
   "outputs": [],
   "source": []
  },
  {
   "cell_type": "code",
   "execution_count": null,
   "metadata": {
    "collapsed": true
   },
   "outputs": [],
   "source": []
  },
  {
   "cell_type": "markdown",
   "metadata": {},
   "source": [
    "# Ignore"
   ]
  },
  {
   "cell_type": "markdown",
   "metadata": {},
   "source": [
    "First we need to get averages for each line/tissue combo in the Dam dataset"
   ]
  },
  {
   "cell_type": "code",
   "execution_count": 141,
   "metadata": {
    "collapsed": true
   },
   "outputs": [],
   "source": [
    "Mask188C = [file_names.loc[name].Line==\"188\" for name in DamC.columns]\n",
    "Mask238C = [file_names.loc[name].Line==\"238\" for name in DamC.columns]\n",
    "Mask257C = [file_names.loc[name].Line==\"257\" for name in DamC.columns]\n",
    "Mask89C = [file_names.loc[name].Line==\"89\" for name in DamC.columns]\n",
    "\n",
    "Mask188T = [file_names.loc[name].Line==\"188\" for name in DamT.columns]\n",
    "Mask238T = [file_names.loc[name].Line==\"238\" for name in DamT.columns]\n",
    "Mask257T = [file_names.loc[name].Line==\"257\" for name in DamT.columns]\n",
    "Mask89T = [file_names.loc[name].Line==\"89\" for name in DamT.columns]\n",
    "\n",
    "Mask188W = [file_names.loc[name].Line==\"188\" for name in DamW.columns]\n",
    "Mask238W = [file_names.loc[name].Line==\"238\" for name in DamW.columns]\n",
    "Mask257W = [file_names.loc[name].Line==\"257\" for name in DamW.columns]\n",
    "Mask89W = [file_names.loc[name].Line==\"89\" for name in DamW.columns]"
   ]
  },
  {
   "cell_type": "code",
   "execution_count": 147,
   "metadata": {
    "collapsed": false
   },
   "outputs": [],
   "source": [
    "C188=DamC.iloc[:,Mask188C].mean(axis=1)\n",
    "C89=DamC.iloc[:,Mask89C].mean(axis=1)\n",
    "C238=DamC.iloc[:,Mask238C].mean(axis=1)\n",
    "C257=DamC.iloc[:,Mask257C].mean(axis=1)\n",
    "\n",
    "T188=DamT.iloc[:,Mask188T].mean(axis=1)\n",
    "T89=DamT.iloc[:,Mask89T].mean(axis=1)\n",
    "T238=DamT.iloc[:,Mask238T].mean(axis=1)\n",
    "T257=DamT.iloc[:,Mask257T].mean(axis=1)\n",
    "\n",
    "T188=DamW.iloc[:,Mask188W].mean(axis=1)\n",
    "T89=DamW.iloc[:,Mask89W].mean(axis=1)\n",
    "T238=DamW.iloc[:,Mask238W].mean(axis=1)\n",
    "T257=DamW.iloc[:,Mask257W].mean(axis=1)"
   ]
  },
  {
   "cell_type": "code",
   "execution_count": null,
   "metadata": {
    "collapsed": true
   },
   "outputs": [],
   "source": []
  }
 ],
 "metadata": {
  "kernelspec": {
   "display_name": "Python 2",
   "language": "python",
   "name": "python2"
  },
  "language_info": {
   "codemirror_mode": {
    "name": "ipython",
    "version": 2
   },
   "file_extension": ".py",
   "mimetype": "text/x-python",
   "name": "python",
   "nbconvert_exporter": "python",
   "pygments_lexer": "ipython2",
   "version": "2.7.11"
  }
 },
 "nbformat": 4,
 "nbformat_minor": 0
}
