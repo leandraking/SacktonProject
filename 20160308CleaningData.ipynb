{
 "cells": [
  {
   "cell_type": "code",
   "execution_count": 158,
   "metadata": {
    "collapsed": false
   },
   "outputs": [],
   "source": [
    "%matplotlib inline\n",
    "import numpy as np\n",
    "import scipy as sp\n",
    "import matplotlib as mpl\n",
    "import matplotlib.cm as cm\n",
    "import matplotlib.pyplot as plt\n",
    "import pandas as pd\n",
    "pd.set_option('display.width', 200)\n",
    "pd.set_option('display.max_columns', 100)\n",
    "pd.set_option('display.notebook_repr_html', True)\n",
    "import seaborn as sns\n",
    "sns.set_style(\"whitegrid\")\n",
    "sns.set_context(\"poster\")\n",
    "from PIL import Image\n",
    "from sklearn.decomposition import PCA\n",
    "import glob\n",
    "import string"
   ]
  },
  {
   "cell_type": "markdown",
   "metadata": {},
   "source": [
    "# Load files"
   ]
  },
  {
   "cell_type": "code",
   "execution_count": 159,
   "metadata": {
    "collapsed": false
   },
   "outputs": [],
   "source": [
    "files_dict={}\n",
    "\n",
    "for fl in glob.glob(\"../20160223_BamData/NoA/*\"):\n",
    "    a= (fl.split('/')[-1]).split('_cut')[0]\n",
    "    if a:\n",
    "        files_dict[a]=pd.read_csv(fl, sep=\"\\t\", header=None)[3]\n",
    "NoA=pd.DataFrame(files_dict)\n",
    "     \n",
    "files_dict={}\n",
    "for fl in glob.glob(\"../20160223_BamData/AdRp/*\"):\n",
    "    a= (fl.split('/')[-1]).split('_cut')[0]\n",
    "    if a:\n",
    "        files_dict[a]=pd.read_csv(fl, sep=\"\\t\", header=None)[3]   \n",
    "AdRp=pd.DataFrame(files_dict)"
   ]
  },
  {
   "cell_type": "markdown",
   "metadata": {},
   "source": [
    "Check that columns are in same order (ie. Zi257C4 in AdRp corresponds to Zi257C4 in NoA).  True"
   ]
  },
  {
   "cell_type": "code",
   "execution_count": 160,
   "metadata": {
    "collapsed": false
   },
   "outputs": [
    {
     "data": {
      "text/plain": [
       "True"
      ]
     },
     "execution_count": 160,
     "metadata": {},
     "output_type": "execute_result"
    }
   ],
   "source": [
    "#Remove NoA and AdRp label from columns\n",
    "AdRp.columns=[ele[:-5] for ele in AdRp.columns]\n",
    "NoA.columns=[ele[:-4] for ele in NoA.columns]\n",
    "\n",
    "sum(AdRp.columns.values == NoA.columns.values) == len(AdRp.columns)\n"
   ]
  },
  {
   "cell_type": "markdown",
   "metadata": {},
   "source": [
    "Check that all rows are the same, so the same gene locations are explored in all datasets.  True."
   ]
  },
  {
   "cell_type": "code",
   "execution_count": 168,
   "metadata": {
    "collapsed": false
   },
   "outputs": [
    {
     "name": "stdout",
     "output_type": "stream",
     "text": [
      "True\n"
     ]
    }
   ],
   "source": [
    "Locations = [pd.read_csv(fl, sep=\"\\t\", header=None, usecols=range(3)) for fl in glob.glob(\"../20160223_BamData/NoA/*\")]\n",
    "print all([df1.equals(df2) for df1 in Locations for df2 in Locations])\n",
    "Locations=Locations[0]"
   ]
  },
  {
   "cell_type": "markdown",
   "metadata": {},
   "source": [
    "We print the various locations that were sequenced (not base pair numbers).  We notice there is mitochondrion dna: 'mitochondrion_genome'.  We will want to remove that."
   ]
  },
  {
   "cell_type": "code",
   "execution_count": 169,
   "metadata": {
    "collapsed": false
   },
   "outputs": [
    {
     "data": {
      "text/plain": [
       "array(['211000022278049', '211000022278185', '211000022278217',\n",
       "       '211000022278269', '211000022278273', '211000022278279',\n",
       "       '211000022278354', '211000022278390', '211000022278399',\n",
       "       '211000022278415', '211000022278498', '211000022278549',\n",
       "       '211000022278653', '211000022278686', '211000022278777',\n",
       "       '211000022278849', '211000022278875', '211000022278916',\n",
       "       '211000022278974', '211000022278978', '211000022279001',\n",
       "       '211000022279008', '211000022279009', '211000022279022',\n",
       "       '211000022279094', '211000022279098', '211000022279114',\n",
       "       '211000022279146', '211000022279189', '211000022279276',\n",
       "       '211000022279345', '211000022279420', '211000022279423',\n",
       "       '211000022279446', '211000022279456', '211000022279503',\n",
       "       '211000022279523', '211000022279556', '211000022279579',\n",
       "       '211000022279594', '211000022279637', '211000022279676',\n",
       "       '211000022279681', '211000022279719', '211000022279754',\n",
       "       '211000022279762', '211000022279829', '211000022279836',\n",
       "       '211000022279892', '211000022279893', '211000022280042',\n",
       "       '211000022280064', '211000022280187', '211000022280237',\n",
       "       '211000022280259', '211000022280270', '211000022280328',\n",
       "       '211000022280541', '211000022280659', '211000022280742',\n",
       "       '211000022280761', '211000022280763', '211000022280772',\n",
       "       '2Cen_mapped_Scaffold_10_D1684', '2Cen_mapped_Scaffold_43_D1668',\n",
       "       '2L', '2R', '2R2_mapped_Scaffold_56_D1828',\n",
       "       '3Cen_mapped_Scaffold_1_D1896_D1895',\n",
       "       '3Cen_mapped_Scaffold_27_D1777',\n",
       "       '3Cen_mapped_Scaffold_31_D1643_D1653_D1791',\n",
       "       '3Cen_mapped_Scaffold_36_D1605', '3Cen_mapped_Scaffold_41_D1641',\n",
       "       '3Cen_mapped_Scaffold_50_D1686', '3L', '3R', '4',\n",
       "       'Unmapped_Scaffold_11_D1754', 'Unmapped_Scaffold_13_D1782',\n",
       "       'Unmapped_Scaffold_17_D1756_D1775', 'Unmapped_Scaffold_22_D1753',\n",
       "       'Unmapped_Scaffold_24_D1707', 'Unmapped_Scaffold_28_D1723',\n",
       "       'Unmapped_Scaffold_29_D1705', 'Unmapped_Scaffold_32_D1773',\n",
       "       'Unmapped_Scaffold_35_D1599', 'Unmapped_Scaffold_37_D1608',\n",
       "       'Unmapped_Scaffold_38_D1625', 'Unmapped_Scaffold_44_D1670',\n",
       "       'Unmapped_Scaffold_45_D1673', 'Unmapped_Scaffold_46_D1675',\n",
       "       'Unmapped_Scaffold_48_D1678', 'Unmapped_Scaffold_4_D1555_D1692',\n",
       "       'Unmapped_Scaffold_51_D1697', 'Unmapped_Scaffold_52_D1739',\n",
       "       'Unmapped_Scaffold_54_D1776', 'Unmapped_Scaffold_58_D1862',\n",
       "       'Unmapped_Scaffold_60_D1601', 'Unmapped_Scaffold_8_D1580_D1567',\n",
       "       'X', 'X3X4_mapped_Scaffold_14_D1732',\n",
       "       'X3X4_mapped_Scaffold_6_D1712', 'XY_mapped_Scaffold_42_D1648',\n",
       "       'XY_mapped_Scaffold_7_D1574', 'Y', 'Y_mapped_Scaffold_12_D1771',\n",
       "       'Y_mapped_Scaffold_15_D1727', 'Y_mapped_Scaffold_18_D1698',\n",
       "       'Y_mapped_Scaffold_20_D1762_D1719',\n",
       "       'Y_mapped_Scaffold_21_D1683_D1693', 'Y_mapped_Scaffold_23_D1638',\n",
       "       'Y_mapped_Scaffold_26_D1717', 'Y_mapped_Scaffold_30_D1720',\n",
       "       'Y_mapped_Scaffold_34_D1584', 'Y_mapped_Scaffold_53_D1765',\n",
       "       'Y_mapped_Scaffold_5_D1748_D1610', 'Y_mapped_Scaffold_9_D1573',\n",
       "       'mitochondrion_genome', 'rDNA'], dtype=object)"
      ]
     },
     "execution_count": 169,
     "metadata": {},
     "output_type": "execute_result"
    }
   ],
   "source": [
    "Locations[0].unique()"
   ]
  },
  {
   "cell_type": "markdown",
   "metadata": {},
   "source": [
    "We remove mitochondrial information in NoA and AdRp, and create new dataframes NoA_noMtDNA and AdRp_noMtDNA.  There are 27 rows that have mitochondrial dna information.  "
   ]
  },
  {
   "cell_type": "code",
   "execution_count": 170,
   "metadata": {
    "collapsed": false
   },
   "outputs": [
    {
     "data": {
      "text/plain": [
       "27"
      ]
     },
     "execution_count": 170,
     "metadata": {},
     "output_type": "execute_result"
    }
   ],
   "source": [
    "sum(Locations[0]=='mitochondrion_genome')"
   ]
  },
  {
   "cell_type": "code",
   "execution_count": 171,
   "metadata": {
    "collapsed": false
   },
   "outputs": [
    {
     "name": "stdout",
     "output_type": "stream",
     "text": [
      "(388634, 108) NoA df shape, before mitochondrion genome entries removed\n",
      "(388607, 108) NoA_noMtDNA shape, after mitochondrion genome removed (27 less values)\n",
      "(388634, 108) AdRp df shape, before mitochondrion genome entries removed\n",
      "(388607, 108) AdRp_noMtDNA shape, after mitochondrion genome removed (27 less values)\n"
     ]
    }
   ],
   "source": [
    "print NoA.shape, \"NoA df shape, before mitochondrion genome entries removed\"\n",
    "NoA_noMtDNA= NoA[Locations[0]!='mitochondrion_genome']\n",
    "print NoA_noMtDNA.shape, \"NoA_noMtDNA shape, after mitochondrion genome removed (27 less values)\"\n",
    "\n",
    "print AdRp.shape, \"AdRp df shape, before mitochondrion genome entries removed\"\n",
    "AdRp_noMtDNA= AdRp[Locations[0]!='mitochondrion_genome']\n",
    "print AdRp_noMtDNA.shape, \"AdRp_noMtDNA shape, after mitochondrion genome removed (27 less values)\""
   ]
  },
  {
   "cell_type": "code",
   "execution_count": 172,
   "metadata": {
    "collapsed": false
   },
   "outputs": [
    {
     "data": {
      "text/plain": [
       "True"
      ]
     },
     "execution_count": 172,
     "metadata": {},
     "output_type": "execute_result"
    }
   ],
   "source": [
    "all(AdRp_noMtDNA.index == NoA_noMtDNA.index)\n",
    "#AdRp_noMtDNA.index=range(388607)\n",
    "#NoA_noMtDNA.index=range(388607)"
   ]
  },
  {
   "cell_type": "markdown",
   "metadata": {},
   "source": [
    "Remove mitochondrion genome from Locations dataframe.  Write dataframe to file entitled \"Locations\""
   ]
  },
  {
   "cell_type": "code",
   "execution_count": 173,
   "metadata": {
    "collapsed": false
   },
   "outputs": [
    {
     "name": "stdout",
     "output_type": "stream",
     "text": [
      "(388634, 3)\n",
      "(388607, 3)\n"
     ]
    }
   ],
   "source": [
    "print Locations.shape\n",
    "Locations_noMtDNA = Locations[Locations[0]!='mitochondrion_genome']\n",
    "Locations_noMtDNA.to_csv(\"Locations\")\n",
    "print Locations_noMtDNA.shape"
   ]
  },
  {
   "cell_type": "markdown",
   "metadata": {},
   "source": [
    "We can see that the mitochondrial DNA counts were much much larger."
   ]
  },
  {
   "cell_type": "code",
   "execution_count": 174,
   "metadata": {
    "collapsed": false
   },
   "outputs": [
    {
     "data": {
      "image/png": "[encoded data removed]",
      "text/plain": [
       "<matplotlib.figure.Figure at 0x1a660e790>"
      ]
     },
     "metadata": {},
     "output_type": "display_data"
    }
   ],
   "source": [
    "fig = plt.figure()\n",
    "fig.add_subplot(221)\n",
    "_=plt.hist(AdRp_noMtDNA[\"damID-Dam_Fr188_C1\"], bins=10)\n",
    "fig.add_subplot(222)\n",
    "_=plt.hist(AdRp[Locations[0]==\"mitochondrion_genome\"][\"damID-Dam_Fr188_C1\"].values, bins=10)\n"
   ]
  },
  {
   "cell_type": "markdown",
   "metadata": {},
   "source": [
    "# Correlate dataframes"
   ]
  },
  {
   "cell_type": "markdown",
   "metadata": {},
   "source": [
    "Here we correlate the dataframes.  They aren't very correlated.  \n",
    "\n",
    "[As a first pass, we hadn't removed mitochondrial DNA information, so the datasets looked much more correlated]"
   ]
  },
  {
   "cell_type": "code",
   "execution_count": 175,
   "metadata": {
    "collapsed": false
   },
   "outputs": [
    {
     "data": {
      "image/png": "[encoded data removed]",
      "text/plain": [
       "<matplotlib.figure.Figure at 0x1a2af8a90>"
      ]
     },
     "metadata": {},
     "output_type": "display_data"
    }
   ],
   "source": [
    "AdRp_NoA_correls = AdRp_noMtDNA.corrwith(NoA_noMtDNA)\n",
    "_=plt.hist(AdRp_NoA_correls)\n",
    "_=plt.title(\"Correlating AdRp with NoA\")\n"
   ]
  },
  {
   "cell_type": "markdown",
   "metadata": {},
   "source": [
    "# Add values in dataframes that are correlated by more than 70%"
   ]
  },
  {
   "cell_type": "markdown",
   "metadata": {},
   "source": [
    "Unfortunately, we're down to only 23 columns..."
   ]
  },
  {
   "cell_type": "code",
   "execution_count": 176,
   "metadata": {
    "collapsed": false
   },
   "outputs": [],
   "source": [
    "# Take only entries where correlation greater than .70\n",
    "New_NoA= NoA_noMtDNA[AdRp_NoA_correls[AdRp_NoA_correls>.70].index]\n",
    "New_AdRp= AdRp_noMtDNA[AdRp_NoA_correls[AdRp_NoA_correls>.70].index]"
   ]
  },
  {
   "cell_type": "code",
   "execution_count": 192,
   "metadata": {
    "collapsed": false
   },
   "outputs": [
    {
     "name": "stdout",
     "output_type": "stream",
     "text": [
      "(388607, 23)\n"
     ]
    },
    {
     "data": {
      "text/plain": [
       "True"
      ]
     },
     "execution_count": 192,
     "metadata": {},
     "output_type": "execute_result"
    }
   ],
   "source": [
    "print New_NoA.shape\n",
    "New_NoA.shape ==New_AdRp.shape"
   ]
  },
  {
   "cell_type": "markdown",
   "metadata": {},
   "source": [
    "Merge NoA and AdRp datasets"
   ]
  },
  {
   "cell_type": "code",
   "execution_count": 178,
   "metadata": {
    "collapsed": false
   },
   "outputs": [
    {
     "data": {
      "text/html": [
       "<div>\n",
       "<table border=\"1\" class=\"dataframe\">\n",
       "  <thead>\n",
       "    <tr style=\"text-align: right;\">\n",
       "      <th></th>\n",
       "      <th>damID-Lam_Fr188_C</th>\n",
       "      <th>damID-Lam_Fr188_T2</th>\n",
       "      <th>damID-Lam_Zi257_C3</th>\n",
       "      <th>damID3-D1_Fr188_T</th>\n",
       "      <th>damID3-D1_Fr188_w1</th>\n",
       "      <th>damID3-D1_Fr188_w2</th>\n",
       "      <th>damID3-D1_Fr89_w1</th>\n",
       "      <th>damID3-D1_Fr89_w2</th>\n",
       "      <th>damID3-D1_Zi238_T</th>\n",
       "      <th>damID3-D1_Zi238_w1</th>\n",
       "      <th>damID3-D1_Zi257_T</th>\n",
       "      <th>damID3-D1_Zi257_w1</th>\n",
       "      <th>damID3-Dam_Fr188_T2</th>\n",
       "      <th>damID3-Dam_Zi238_T1</th>\n",
       "      <th>damID3-Dam_Zi238_T2</th>\n",
       "      <th>damID3-Dam_Zi257_T1</th>\n",
       "      <th>damID3-Dam_Zi257_T2</th>\n",
       "      <th>damID3-Lam_Fr188_T1</th>\n",
       "      <th>damID3-Lam_Fr188_T4</th>\n",
       "      <th>damID3-Lam_Fr89_T1</th>\n",
       "      <th>damID3-Lam_Fr89_T2</th>\n",
       "      <th>damID3-Lam_Fr89_w3</th>\n",
       "      <th>damID3-Lam_Zi238_w1</th>\n",
       "    </tr>\n",
       "  </thead>\n",
       "  <tbody>\n",
       "    <tr>\n",
       "      <th>0</th>\n",
       "      <td>2</td>\n",
       "      <td>3</td>\n",
       "      <td>0</td>\n",
       "      <td>0</td>\n",
       "      <td>1</td>\n",
       "      <td>0</td>\n",
       "      <td>1</td>\n",
       "      <td>2</td>\n",
       "      <td>1</td>\n",
       "      <td>1</td>\n",
       "      <td>1</td>\n",
       "      <td>0</td>\n",
       "      <td>2</td>\n",
       "      <td>0</td>\n",
       "      <td>1</td>\n",
       "      <td>0</td>\n",
       "      <td>0</td>\n",
       "      <td>0</td>\n",
       "      <td>0</td>\n",
       "      <td>0</td>\n",
       "      <td>1</td>\n",
       "      <td>2</td>\n",
       "      <td>1</td>\n",
       "    </tr>\n",
       "    <tr>\n",
       "      <th>1</th>\n",
       "      <td>1</td>\n",
       "      <td>3</td>\n",
       "      <td>0</td>\n",
       "      <td>0</td>\n",
       "      <td>1</td>\n",
       "      <td>0</td>\n",
       "      <td>1</td>\n",
       "      <td>1</td>\n",
       "      <td>0</td>\n",
       "      <td>1</td>\n",
       "      <td>1</td>\n",
       "      <td>0</td>\n",
       "      <td>2</td>\n",
       "      <td>0</td>\n",
       "      <td>1</td>\n",
       "      <td>0</td>\n",
       "      <td>0</td>\n",
       "      <td>0</td>\n",
       "      <td>0</td>\n",
       "      <td>0</td>\n",
       "      <td>1</td>\n",
       "      <td>1</td>\n",
       "      <td>0</td>\n",
       "    </tr>\n",
       "    <tr>\n",
       "      <th>2</th>\n",
       "      <td>1</td>\n",
       "      <td>3</td>\n",
       "      <td>0</td>\n",
       "      <td>0</td>\n",
       "      <td>1</td>\n",
       "      <td>0</td>\n",
       "      <td>2</td>\n",
       "      <td>1</td>\n",
       "      <td>0</td>\n",
       "      <td>1</td>\n",
       "      <td>1</td>\n",
       "      <td>0</td>\n",
       "      <td>2</td>\n",
       "      <td>0</td>\n",
       "      <td>1</td>\n",
       "      <td>0</td>\n",
       "      <td>0</td>\n",
       "      <td>0</td>\n",
       "      <td>0</td>\n",
       "      <td>0</td>\n",
       "      <td>1</td>\n",
       "      <td>2</td>\n",
       "      <td>0</td>\n",
       "    </tr>\n",
       "    <tr>\n",
       "      <th>3</th>\n",
       "      <td>1</td>\n",
       "      <td>4</td>\n",
       "      <td>1</td>\n",
       "      <td>1</td>\n",
       "      <td>3</td>\n",
       "      <td>1</td>\n",
       "      <td>2</td>\n",
       "      <td>2</td>\n",
       "      <td>0</td>\n",
       "      <td>2</td>\n",
       "      <td>1</td>\n",
       "      <td>2</td>\n",
       "      <td>2</td>\n",
       "      <td>0</td>\n",
       "      <td>0</td>\n",
       "      <td>0</td>\n",
       "      <td>0</td>\n",
       "      <td>2</td>\n",
       "      <td>2</td>\n",
       "      <td>1</td>\n",
       "      <td>1</td>\n",
       "      <td>3</td>\n",
       "      <td>2</td>\n",
       "    </tr>\n",
       "    <tr>\n",
       "      <th>4</th>\n",
       "      <td>3</td>\n",
       "      <td>4</td>\n",
       "      <td>2</td>\n",
       "      <td>0</td>\n",
       "      <td>0</td>\n",
       "      <td>0</td>\n",
       "      <td>0</td>\n",
       "      <td>0</td>\n",
       "      <td>1</td>\n",
       "      <td>0</td>\n",
       "      <td>0</td>\n",
       "      <td>1</td>\n",
       "      <td>1</td>\n",
       "      <td>0</td>\n",
       "      <td>0</td>\n",
       "      <td>1</td>\n",
       "      <td>0</td>\n",
       "      <td>0</td>\n",
       "      <td>0</td>\n",
       "      <td>0</td>\n",
       "      <td>1</td>\n",
       "      <td>2</td>\n",
       "      <td>0</td>\n",
       "    </tr>\n",
       "  </tbody>\n",
       "</table>\n",
       "</div>"
      ],
      "text/plain": [
       "   damID-Lam_Fr188_C  damID-Lam_Fr188_T2  damID-Lam_Zi257_C3  damID3-D1_Fr188_T  damID3-D1_Fr188_w1  damID3-D1_Fr188_w2  damID3-D1_Fr89_w1  damID3-D1_Fr89_w2  damID3-D1_Zi238_T  damID3-D1_Zi238_w1  \\\n",
       "0                  2                   3                   0                  0                   1                   0                  1                  2                  1                   1   \n",
       "1                  1                   3                   0                  0                   1                   0                  1                  1                  0                   1   \n",
       "2                  1                   3                   0                  0                   1                   0                  2                  1                  0                   1   \n",
       "3                  1                   4                   1                  1                   3                   1                  2                  2                  0                   2   \n",
       "4                  3                   4                   2                  0                   0                   0                  0                  0                  1                   0   \n",
       "\n",
       "   damID3-D1_Zi257_T  damID3-D1_Zi257_w1  damID3-Dam_Fr188_T2  damID3-Dam_Zi238_T1  damID3-Dam_Zi238_T2  damID3-Dam_Zi257_T1  damID3-Dam_Zi257_T2  damID3-Lam_Fr188_T1  damID3-Lam_Fr188_T4  \\\n",
       "0                  1                   0                    2                    0                    1                    0                    0                    0                    0   \n",
       "1                  1                   0                    2                    0                    1                    0                    0                    0                    0   \n",
       "2                  1                   0                    2                    0                    1                    0                    0                    0                    0   \n",
       "3                  1                   2                    2                    0                    0                    0                    0                    2                    2   \n",
       "4                  0                   1                    1                    0                    0                    1                    0                    0                    0   \n",
       "\n",
       "   damID3-Lam_Fr89_T1  damID3-Lam_Fr89_T2  damID3-Lam_Fr89_w3  damID3-Lam_Zi238_w1  \n",
       "0                   0                   1                   2                    1  \n",
       "1                   0                   1                   1                    0  \n",
       "2                   0                   1                   2                    0  \n",
       "3                   1                   1                   3                    2  \n",
       "4                   0                   1                   2                    0  "
      ]
     },
     "execution_count": 178,
     "metadata": {},
     "output_type": "execute_result"
    }
   ],
   "source": [
    "Merged = New_NoA.add(New_AdRp)\n",
    "Merged.to_csv(\"Merged\")\n",
    "Merged.head()"
   ]
  },
  {
   "cell_type": "markdown",
   "metadata": {},
   "source": [
    "# Keep only columns with combined counts greater than 500000"
   ]
  },
  {
   "cell_type": "markdown",
   "metadata": {},
   "source": [
    "Actually there was nothing to do here because the minimum column counts was 2703509."
   ]
  },
  {
   "cell_type": "code",
   "execution_count": 179,
   "metadata": {
    "collapsed": false
   },
   "outputs": [
    {
     "data": {
      "text/plain": [
       "2703509"
      ]
     },
     "execution_count": 179,
     "metadata": {},
     "output_type": "execute_result"
    }
   ],
   "source": [
    "min(Merged.sum(axis=0))"
   ]
  },
  {
   "cell_type": "code",
   "execution_count": 180,
   "metadata": {
    "collapsed": false
   },
   "outputs": [
    {
     "data": {
      "image/png": "[encoded data removed]",
      "text/plain": [
       "<matplotlib.figure.Figure at 0x1a62a4810>"
      ]
     },
     "metadata": {},
     "output_type": "display_data"
    }
   ],
   "source": [
    "_=plt.hist(Merged.sum(axis=0))"
   ]
  },
  {
   "cell_type": "markdown",
   "metadata": {},
   "source": [
    "# Making PCAs of each protein/tissue combination"
   ]
  },
  {
   "cell_type": "markdown",
   "metadata": {},
   "source": [
    "First let's turn column names into a dataframe, so that we can easily separate out tissue, protein, country, line, etc"
   ]
  },
  {
   "cell_type": "code",
   "execution_count": 181,
   "metadata": {
    "collapsed": false
   },
   "outputs": [
    {
     "data": {
      "text/html": [
       "<div>\n",
       "<table border=\"1\" class=\"dataframe\">\n",
       "  <thead>\n",
       "    <tr style=\"text-align: right;\">\n",
       "      <th></th>\n",
       "      <th>Rep</th>\n",
       "      <th>Tissue</th>\n",
       "      <th>Country</th>\n",
       "      <th>Line</th>\n",
       "      <th>NotSureProtein</th>\n",
       "      <th>protein</th>\n",
       "    </tr>\n",
       "  </thead>\n",
       "  <tbody>\n",
       "    <tr>\n",
       "      <th>damID-Lam_Fr188_C</th>\n",
       "      <td>NaN</td>\n",
       "      <td>C</td>\n",
       "      <td>Fr</td>\n",
       "      <td>188</td>\n",
       "      <td>damID</td>\n",
       "      <td>Lam</td>\n",
       "    </tr>\n",
       "    <tr>\n",
       "      <th>damID-Lam_Fr188_T2</th>\n",
       "      <td>2</td>\n",
       "      <td>T</td>\n",
       "      <td>Fr</td>\n",
       "      <td>188</td>\n",
       "      <td>damID</td>\n",
       "      <td>Lam</td>\n",
       "    </tr>\n",
       "    <tr>\n",
       "      <th>damID-Lam_Zi257_C3</th>\n",
       "      <td>3</td>\n",
       "      <td>C</td>\n",
       "      <td>Zi</td>\n",
       "      <td>257</td>\n",
       "      <td>damID</td>\n",
       "      <td>Lam</td>\n",
       "    </tr>\n",
       "    <tr>\n",
       "      <th>damID3-D1_Fr188_T</th>\n",
       "      <td>NaN</td>\n",
       "      <td>T</td>\n",
       "      <td>Fr</td>\n",
       "      <td>188</td>\n",
       "      <td>damID3</td>\n",
       "      <td>D1</td>\n",
       "    </tr>\n",
       "    <tr>\n",
       "      <th>damID3-D1_Fr188_w1</th>\n",
       "      <td>1</td>\n",
       "      <td>w</td>\n",
       "      <td>Fr</td>\n",
       "      <td>188</td>\n",
       "      <td>damID3</td>\n",
       "      <td>D1</td>\n",
       "    </tr>\n",
       "    <tr>\n",
       "      <th>damID3-D1_Fr188_w2</th>\n",
       "      <td>2</td>\n",
       "      <td>w</td>\n",
       "      <td>Fr</td>\n",
       "      <td>188</td>\n",
       "      <td>damID3</td>\n",
       "      <td>D1</td>\n",
       "    </tr>\n",
       "    <tr>\n",
       "      <th>damID3-D1_Fr89_w1</th>\n",
       "      <td>1</td>\n",
       "      <td>w</td>\n",
       "      <td>Fr</td>\n",
       "      <td>89</td>\n",
       "      <td>damID3</td>\n",
       "      <td>D1</td>\n",
       "    </tr>\n",
       "    <tr>\n",
       "      <th>damID3-D1_Fr89_w2</th>\n",
       "      <td>2</td>\n",
       "      <td>w</td>\n",
       "      <td>Fr</td>\n",
       "      <td>89</td>\n",
       "      <td>damID3</td>\n",
       "      <td>D1</td>\n",
       "    </tr>\n",
       "    <tr>\n",
       "      <th>damID3-D1_Zi238_T</th>\n",
       "      <td>NaN</td>\n",
       "      <td>T</td>\n",
       "      <td>Zi</td>\n",
       "      <td>238</td>\n",
       "      <td>damID3</td>\n",
       "      <td>D1</td>\n",
       "    </tr>\n",
       "    <tr>\n",
       "      <th>damID3-D1_Zi238_w1</th>\n",
       "      <td>1</td>\n",
       "      <td>w</td>\n",
       "      <td>Zi</td>\n",
       "      <td>238</td>\n",
       "      <td>damID3</td>\n",
       "      <td>D1</td>\n",
       "    </tr>\n",
       "    <tr>\n",
       "      <th>damID3-D1_Zi257_T</th>\n",
       "      <td>NaN</td>\n",
       "      <td>T</td>\n",
       "      <td>Zi</td>\n",
       "      <td>257</td>\n",
       "      <td>damID3</td>\n",
       "      <td>D1</td>\n",
       "    </tr>\n",
       "    <tr>\n",
       "      <th>damID3-D1_Zi257_w1</th>\n",
       "      <td>1</td>\n",
       "      <td>w</td>\n",
       "      <td>Zi</td>\n",
       "      <td>257</td>\n",
       "      <td>damID3</td>\n",
       "      <td>D1</td>\n",
       "    </tr>\n",
       "    <tr>\n",
       "      <th>damID3-Dam_Fr188_T2</th>\n",
       "      <td>2</td>\n",
       "      <td>T</td>\n",
       "      <td>Fr</td>\n",
       "      <td>188</td>\n",
       "      <td>damID3</td>\n",
       "      <td>Dam</td>\n",
       "    </tr>\n",
       "    <tr>\n",
       "      <th>damID3-Dam_Zi238_T1</th>\n",
       "      <td>1</td>\n",
       "      <td>T</td>\n",
       "      <td>Zi</td>\n",
       "      <td>238</td>\n",
       "      <td>damID3</td>\n",
       "      <td>Dam</td>\n",
       "    </tr>\n",
       "    <tr>\n",
       "      <th>damID3-Dam_Zi238_T2</th>\n",
       "      <td>2</td>\n",
       "      <td>T</td>\n",
       "      <td>Zi</td>\n",
       "      <td>238</td>\n",
       "      <td>damID3</td>\n",
       "      <td>Dam</td>\n",
       "    </tr>\n",
       "    <tr>\n",
       "      <th>damID3-Dam_Zi257_T1</th>\n",
       "      <td>1</td>\n",
       "      <td>T</td>\n",
       "      <td>Zi</td>\n",
       "      <td>257</td>\n",
       "      <td>damID3</td>\n",
       "      <td>Dam</td>\n",
       "    </tr>\n",
       "    <tr>\n",
       "      <th>damID3-Dam_Zi257_T2</th>\n",
       "      <td>2</td>\n",
       "      <td>T</td>\n",
       "      <td>Zi</td>\n",
       "      <td>257</td>\n",
       "      <td>damID3</td>\n",
       "      <td>Dam</td>\n",
       "    </tr>\n",
       "    <tr>\n",
       "      <th>damID3-Lam_Fr188_T1</th>\n",
       "      <td>1</td>\n",
       "      <td>T</td>\n",
       "      <td>Fr</td>\n",
       "      <td>188</td>\n",
       "      <td>damID3</td>\n",
       "      <td>Lam</td>\n",
       "    </tr>\n",
       "    <tr>\n",
       "      <th>damID3-Lam_Fr188_T4</th>\n",
       "      <td>4</td>\n",
       "      <td>T</td>\n",
       "      <td>Fr</td>\n",
       "      <td>188</td>\n",
       "      <td>damID3</td>\n",
       "      <td>Lam</td>\n",
       "    </tr>\n",
       "    <tr>\n",
       "      <th>damID3-Lam_Fr89_T1</th>\n",
       "      <td>1</td>\n",
       "      <td>T</td>\n",
       "      <td>Fr</td>\n",
       "      <td>89</td>\n",
       "      <td>damID3</td>\n",
       "      <td>Lam</td>\n",
       "    </tr>\n",
       "    <tr>\n",
       "      <th>damID3-Lam_Fr89_T2</th>\n",
       "      <td>2</td>\n",
       "      <td>T</td>\n",
       "      <td>Fr</td>\n",
       "      <td>89</td>\n",
       "      <td>damID3</td>\n",
       "      <td>Lam</td>\n",
       "    </tr>\n",
       "    <tr>\n",
       "      <th>damID3-Lam_Fr89_w3</th>\n",
       "      <td>3</td>\n",
       "      <td>w</td>\n",
       "      <td>Fr</td>\n",
       "      <td>89</td>\n",
       "      <td>damID3</td>\n",
       "      <td>Lam</td>\n",
       "    </tr>\n",
       "    <tr>\n",
       "      <th>damID3-Lam_Zi238_w1</th>\n",
       "      <td>1</td>\n",
       "      <td>w</td>\n",
       "      <td>Zi</td>\n",
       "      <td>238</td>\n",
       "      <td>damID3</td>\n",
       "      <td>Lam</td>\n",
       "    </tr>\n",
       "  </tbody>\n",
       "</table>\n",
       "</div>"
      ],
      "text/plain": [
       "                     Rep Tissue Country Line NotSureProtein protein\n",
       "damID-Lam_Fr188_C    NaN      C      Fr  188          damID     Lam\n",
       "damID-Lam_Fr188_T2     2      T      Fr  188          damID     Lam\n",
       "damID-Lam_Zi257_C3     3      C      Zi  257          damID     Lam\n",
       "damID3-D1_Fr188_T    NaN      T      Fr  188         damID3      D1\n",
       "damID3-D1_Fr188_w1     1      w      Fr  188         damID3      D1\n",
       "damID3-D1_Fr188_w2     2      w      Fr  188         damID3      D1\n",
       "damID3-D1_Fr89_w1      1      w      Fr   89         damID3      D1\n",
       "damID3-D1_Fr89_w2      2      w      Fr   89         damID3      D1\n",
       "damID3-D1_Zi238_T    NaN      T      Zi  238         damID3      D1\n",
       "damID3-D1_Zi238_w1     1      w      Zi  238         damID3      D1\n",
       "damID3-D1_Zi257_T    NaN      T      Zi  257         damID3      D1\n",
       "damID3-D1_Zi257_w1     1      w      Zi  257         damID3      D1\n",
       "damID3-Dam_Fr188_T2    2      T      Fr  188         damID3     Dam\n",
       "damID3-Dam_Zi238_T1    1      T      Zi  238         damID3     Dam\n",
       "damID3-Dam_Zi238_T2    2      T      Zi  238         damID3     Dam\n",
       "damID3-Dam_Zi257_T1    1      T      Zi  257         damID3     Dam\n",
       "damID3-Dam_Zi257_T2    2      T      Zi  257         damID3     Dam\n",
       "damID3-Lam_Fr188_T1    1      T      Fr  188         damID3     Lam\n",
       "damID3-Lam_Fr188_T4    4      T      Fr  188         damID3     Lam\n",
       "damID3-Lam_Fr89_T1     1      T      Fr   89         damID3     Lam\n",
       "damID3-Lam_Fr89_T2     2      T      Fr   89         damID3     Lam\n",
       "damID3-Lam_Fr89_w3     3      w      Fr   89         damID3     Lam\n",
       "damID3-Lam_Zi238_w1    1      w      Zi  238         damID3     Lam"
      ]
     },
     "execution_count": 181,
     "metadata": {},
     "output_type": "execute_result"
    }
   ],
   "source": [
    "def split_names(row):\n",
    "    labels=[\"RunProtein\", \"CountryLine\", \"TissueRep\", \"dataset\", \"notSure1\", \"notSure2\"]\n",
    "    d = {lab:ele for lab,ele in zip(labels, row.split(\"_\"))}\n",
    "    return d\n",
    "\n",
    "def split_TissueRep(TissueRep):\n",
    "    return {label:ele for label, ele in zip([\"Tissue\", \"Rep\"], TissueRep)}\n",
    "\n",
    "def split_CountryLine(CL): \n",
    "    return {label:ele for label, ele in zip([\"Country\", \"Line\"], [CL[:2], CL[2:]])}\n",
    "\n",
    "def separate_protein(RunProtein):\n",
    "    return {label:ele for label, ele in zip([\"NotSureProtein\", \"protein\"], RunProtein.split(\"-\"))}\n",
    "\n",
    "file_names = Merged.columns\n",
    "\n",
    "ind = [row.split(\"_cut\")[0] for row in file_names]\n",
    "\n",
    "file_names=pd.DataFrame([split_names(row) for row in file_names])\n",
    "\n",
    "file_names=pd.concat([file_names, pd.DataFrame([split_TissueRep(row) for row in file_names[\"TissueRep\"]])], axis=1)\n",
    "del file_names[\"TissueRep\"]\n",
    "\n",
    "file_names=pd.concat([file_names, pd.DataFrame([split_CountryLine(row) for row in file_names[\"CountryLine\"]])], axis=1)\n",
    "del file_names[\"CountryLine\"]\n",
    "\n",
    "file_names=pd.concat([file_names, pd.DataFrame([separate_protein(row) for row in file_names[\"RunProtein\"]])], axis=1)\n",
    "del file_names[\"RunProtein\"]\n",
    "\n",
    "file_names.index=ind\n",
    "\n",
    "file_names"
   ]
  },
  {
   "cell_type": "code",
   "execution_count": 182,
   "metadata": {
    "collapsed": true
   },
   "outputs": [],
   "source": [
    "file_names.to_csv(\"file_names\")"
   ]
  },
  {
   "cell_type": "markdown",
   "metadata": {},
   "source": [
    "Next, let's make protein/tissue masks"
   ]
  },
  {
   "cell_type": "code",
   "execution_count": 183,
   "metadata": {
    "collapsed": false
   },
   "outputs": [],
   "source": [
    "#Protein masks\n",
    "DamMask = [file_names.loc[name].protein==\"Dam\" for name in Merged.columns]\n",
    "LamMask = [file_names.loc[name].protein==\"Lam\" for name in Merged.columns]\n",
    "D1Mask = [file_names.loc[name].protein==\"D1\" for name in Merged.columns]\n",
    "\n",
    "#Tissue masks\n",
    "TMask = [file_names.loc[name].Tissue==\"T\" for name in Merged.columns]\n",
    "CMask = [file_names.loc[name].Tissue==\"C\" for name in Merged.columns]\n",
    "WMask = [(file_names.loc[name].Tissue==\"W\" or file_names.loc[name].Tissue==\"w\") for name in Merged.columns]\n"
   ]
  },
  {
   "cell_type": "code",
   "execution_count": 184,
   "metadata": {
    "collapsed": false
   },
   "outputs": [],
   "source": [
    "DamTMask = [a and b for a, b in zip(DamMask, TMask)]\n",
    "DamCMask = [a and b for a, b in zip(DamMask, CMask)]\n",
    "DamWMask = [a and b for a, b in zip(DamMask, WMask)]\n",
    "\n",
    "LamTMask = [a and b for a, b in zip(LamMask, TMask)]\n",
    "LamCMask = [a and b for a, b in zip(LamMask, CMask)]\n",
    "LamWMask = [a and b for a, b in zip(LamMask, WMask)]\n",
    "\n",
    "D1TMask = [a and b for a, b in zip(D1Mask, TMask)]\n",
    "D1CMask = [a and b for a, b in zip(D1Mask, CMask)]\n",
    "D1WMask = [a and b for a, b in zip(D1Mask, WMask)]"
   ]
  },
  {
   "cell_type": "markdown",
   "metadata": {},
   "source": [
    "Let's normalize the Merged dataset by column counts"
   ]
  },
  {
   "cell_type": "code",
   "execution_count": 185,
   "metadata": {
    "collapsed": false
   },
   "outputs": [
    {
     "data": {
      "text/html": [
       "<div>\n",
       "<table border=\"1\" class=\"dataframe\">\n",
       "  <thead>\n",
       "    <tr style=\"text-align: right;\">\n",
       "      <th></th>\n",
       "      <th>damID-Lam_Fr188_C</th>\n",
       "      <th>damID-Lam_Fr188_T2</th>\n",
       "      <th>damID-Lam_Zi257_C3</th>\n",
       "      <th>damID3-D1_Fr188_T</th>\n",
       "      <th>damID3-D1_Fr188_w1</th>\n",
       "      <th>damID3-D1_Fr188_w2</th>\n",
       "      <th>damID3-D1_Fr89_w1</th>\n",
       "      <th>damID3-D1_Fr89_w2</th>\n",
       "      <th>damID3-D1_Zi238_T</th>\n",
       "      <th>damID3-D1_Zi238_w1</th>\n",
       "      <th>damID3-D1_Zi257_T</th>\n",
       "      <th>damID3-D1_Zi257_w1</th>\n",
       "      <th>damID3-Dam_Fr188_T2</th>\n",
       "      <th>damID3-Dam_Zi238_T1</th>\n",
       "      <th>damID3-Dam_Zi238_T2</th>\n",
       "      <th>damID3-Dam_Zi257_T1</th>\n",
       "      <th>damID3-Dam_Zi257_T2</th>\n",
       "      <th>damID3-Lam_Fr188_T1</th>\n",
       "      <th>damID3-Lam_Fr188_T4</th>\n",
       "      <th>damID3-Lam_Fr89_T1</th>\n",
       "      <th>damID3-Lam_Fr89_T2</th>\n",
       "      <th>damID3-Lam_Fr89_w3</th>\n",
       "      <th>damID3-Lam_Zi238_w1</th>\n",
       "    </tr>\n",
       "  </thead>\n",
       "  <tbody>\n",
       "    <tr>\n",
       "      <th>0</th>\n",
       "      <td>1.911296e-07</td>\n",
       "      <td>2.707044e-07</td>\n",
       "      <td>0.000000e+00</td>\n",
       "      <td>0.000000e+00</td>\n",
       "      <td>2.074980e-07</td>\n",
       "      <td>0.000000e+00</td>\n",
       "      <td>1.317960e-07</td>\n",
       "      <td>4.745490e-07</td>\n",
       "      <td>3.542948e-07</td>\n",
       "      <td>1.196173e-07</td>\n",
       "      <td>3.698897e-07</td>\n",
       "      <td>0.000000e+00</td>\n",
       "      <td>1.925403e-07</td>\n",
       "      <td>0</td>\n",
       "      <td>1.447931e-07</td>\n",
       "      <td>0.000000e+00</td>\n",
       "      <td>0</td>\n",
       "      <td>0.000000e+00</td>\n",
       "      <td>0.000000e+00</td>\n",
       "      <td>0.000000e+00</td>\n",
       "      <td>1.050302e-07</td>\n",
       "      <td>2.118684e-07</td>\n",
       "      <td>1.104141e-07</td>\n",
       "    </tr>\n",
       "    <tr>\n",
       "      <th>1</th>\n",
       "      <td>9.556479e-08</td>\n",
       "      <td>2.707044e-07</td>\n",
       "      <td>0.000000e+00</td>\n",
       "      <td>0.000000e+00</td>\n",
       "      <td>2.074980e-07</td>\n",
       "      <td>0.000000e+00</td>\n",
       "      <td>1.317960e-07</td>\n",
       "      <td>2.372745e-07</td>\n",
       "      <td>0.000000e+00</td>\n",
       "      <td>1.196173e-07</td>\n",
       "      <td>3.698897e-07</td>\n",
       "      <td>0.000000e+00</td>\n",
       "      <td>1.925403e-07</td>\n",
       "      <td>0</td>\n",
       "      <td>1.447931e-07</td>\n",
       "      <td>0.000000e+00</td>\n",
       "      <td>0</td>\n",
       "      <td>0.000000e+00</td>\n",
       "      <td>0.000000e+00</td>\n",
       "      <td>0.000000e+00</td>\n",
       "      <td>1.050302e-07</td>\n",
       "      <td>1.059342e-07</td>\n",
       "      <td>0.000000e+00</td>\n",
       "    </tr>\n",
       "    <tr>\n",
       "      <th>2</th>\n",
       "      <td>9.556479e-08</td>\n",
       "      <td>2.707044e-07</td>\n",
       "      <td>0.000000e+00</td>\n",
       "      <td>0.000000e+00</td>\n",
       "      <td>2.074980e-07</td>\n",
       "      <td>0.000000e+00</td>\n",
       "      <td>2.635920e-07</td>\n",
       "      <td>2.372745e-07</td>\n",
       "      <td>0.000000e+00</td>\n",
       "      <td>1.196173e-07</td>\n",
       "      <td>3.698897e-07</td>\n",
       "      <td>0.000000e+00</td>\n",
       "      <td>1.925403e-07</td>\n",
       "      <td>0</td>\n",
       "      <td>1.447931e-07</td>\n",
       "      <td>0.000000e+00</td>\n",
       "      <td>0</td>\n",
       "      <td>0.000000e+00</td>\n",
       "      <td>0.000000e+00</td>\n",
       "      <td>0.000000e+00</td>\n",
       "      <td>1.050302e-07</td>\n",
       "      <td>2.118684e-07</td>\n",
       "      <td>0.000000e+00</td>\n",
       "    </tr>\n",
       "    <tr>\n",
       "      <th>3</th>\n",
       "      <td>9.556479e-08</td>\n",
       "      <td>3.609392e-07</td>\n",
       "      <td>4.638157e-08</td>\n",
       "      <td>1.324061e-07</td>\n",
       "      <td>6.224941e-07</td>\n",
       "      <td>1.744665e-07</td>\n",
       "      <td>2.635920e-07</td>\n",
       "      <td>4.745490e-07</td>\n",
       "      <td>0.000000e+00</td>\n",
       "      <td>2.392346e-07</td>\n",
       "      <td>3.698897e-07</td>\n",
       "      <td>5.295522e-07</td>\n",
       "      <td>1.925403e-07</td>\n",
       "      <td>0</td>\n",
       "      <td>0.000000e+00</td>\n",
       "      <td>0.000000e+00</td>\n",
       "      <td>0</td>\n",
       "      <td>1.808979e-07</td>\n",
       "      <td>2.419740e-07</td>\n",
       "      <td>1.039315e-07</td>\n",
       "      <td>1.050302e-07</td>\n",
       "      <td>3.178025e-07</td>\n",
       "      <td>2.208282e-07</td>\n",
       "    </tr>\n",
       "    <tr>\n",
       "      <th>4</th>\n",
       "      <td>2.866944e-07</td>\n",
       "      <td>3.609392e-07</td>\n",
       "      <td>9.276313e-08</td>\n",
       "      <td>0.000000e+00</td>\n",
       "      <td>0.000000e+00</td>\n",
       "      <td>0.000000e+00</td>\n",
       "      <td>0.000000e+00</td>\n",
       "      <td>0.000000e+00</td>\n",
       "      <td>3.542948e-07</td>\n",
       "      <td>0.000000e+00</td>\n",
       "      <td>0.000000e+00</td>\n",
       "      <td>2.647761e-07</td>\n",
       "      <td>9.627016e-08</td>\n",
       "      <td>0</td>\n",
       "      <td>0.000000e+00</td>\n",
       "      <td>2.148937e-07</td>\n",
       "      <td>0</td>\n",
       "      <td>0.000000e+00</td>\n",
       "      <td>0.000000e+00</td>\n",
       "      <td>0.000000e+00</td>\n",
       "      <td>1.050302e-07</td>\n",
       "      <td>2.118684e-07</td>\n",
       "      <td>0.000000e+00</td>\n",
       "    </tr>\n",
       "  </tbody>\n",
       "</table>\n",
       "</div>"
      ],
      "text/plain": [
       "   damID-Lam_Fr188_C  damID-Lam_Fr188_T2  damID-Lam_Zi257_C3  damID3-D1_Fr188_T  damID3-D1_Fr188_w1  damID3-D1_Fr188_w2  damID3-D1_Fr89_w1  damID3-D1_Fr89_w2  damID3-D1_Zi238_T  damID3-D1_Zi238_w1  \\\n",
       "0       1.911296e-07        2.707044e-07        0.000000e+00       0.000000e+00        2.074980e-07        0.000000e+00       1.317960e-07       4.745490e-07       3.542948e-07        1.196173e-07   \n",
       "1       9.556479e-08        2.707044e-07        0.000000e+00       0.000000e+00        2.074980e-07        0.000000e+00       1.317960e-07       2.372745e-07       0.000000e+00        1.196173e-07   \n",
       "2       9.556479e-08        2.707044e-07        0.000000e+00       0.000000e+00        2.074980e-07        0.000000e+00       2.635920e-07       2.372745e-07       0.000000e+00        1.196173e-07   \n",
       "3       9.556479e-08        3.609392e-07        4.638157e-08       1.324061e-07        6.224941e-07        1.744665e-07       2.635920e-07       4.745490e-07       0.000000e+00        2.392346e-07   \n",
       "4       2.866944e-07        3.609392e-07        9.276313e-08       0.000000e+00        0.000000e+00        0.000000e+00       0.000000e+00       0.000000e+00       3.542948e-07        0.000000e+00   \n",
       "\n",
       "   damID3-D1_Zi257_T  damID3-D1_Zi257_w1  damID3-Dam_Fr188_T2  damID3-Dam_Zi238_T1  damID3-Dam_Zi238_T2  damID3-Dam_Zi257_T1  damID3-Dam_Zi257_T2  damID3-Lam_Fr188_T1  damID3-Lam_Fr188_T4  \\\n",
       "0       3.698897e-07        0.000000e+00         1.925403e-07                    0         1.447931e-07         0.000000e+00                    0         0.000000e+00         0.000000e+00   \n",
       "1       3.698897e-07        0.000000e+00         1.925403e-07                    0         1.447931e-07         0.000000e+00                    0         0.000000e+00         0.000000e+00   \n",
       "2       3.698897e-07        0.000000e+00         1.925403e-07                    0         1.447931e-07         0.000000e+00                    0         0.000000e+00         0.000000e+00   \n",
       "3       3.698897e-07        5.295522e-07         1.925403e-07                    0         0.000000e+00         0.000000e+00                    0         1.808979e-07         2.419740e-07   \n",
       "4       0.000000e+00        2.647761e-07         9.627016e-08                    0         0.000000e+00         2.148937e-07                    0         0.000000e+00         0.000000e+00   \n",
       "\n",
       "   damID3-Lam_Fr89_T1  damID3-Lam_Fr89_T2  damID3-Lam_Fr89_w3  damID3-Lam_Zi238_w1  \n",
       "0        0.000000e+00        1.050302e-07        2.118684e-07         1.104141e-07  \n",
       "1        0.000000e+00        1.050302e-07        1.059342e-07         0.000000e+00  \n",
       "2        0.000000e+00        1.050302e-07        2.118684e-07         0.000000e+00  \n",
       "3        1.039315e-07        1.050302e-07        3.178025e-07         2.208282e-07  \n",
       "4        0.000000e+00        1.050302e-07        2.118684e-07         0.000000e+00  "
      ]
     },
     "execution_count": 185,
     "metadata": {},
     "output_type": "execute_result"
    }
   ],
   "source": [
    "MergedNormalized=Merged.div(Merged.sum(axis=0), axis=1)\n",
    "MergedNormalized.head()"
   ]
  },
  {
   "cell_type": "code",
   "execution_count": 186,
   "metadata": {
    "collapsed": true
   },
   "outputs": [],
   "source": [
    "#here you can choose to input the normalized or not normalized merged dataset\n",
    "\n",
    "def create_subdfs(Merged):\n",
    "\n",
    "    LamT=Merged.ix[:,LamTMask]\n",
    "    DamT=Merged.ix[:,DamTMask]\n",
    "    D1T=Merged.ix[:,D1TMask]\n",
    "\n",
    "    LamC=Merged.ix[:,LamCMask]\n",
    "    DamC=Merged.ix[:,DamCMask]\n",
    "    D1C=Merged.ix[:,D1CMask]\n",
    "\n",
    "    LamW=Merged.ix[:,LamWMask]\n",
    "    DamW=Merged.ix[:,DamWMask]\n",
    "    D1W=Merged.ix[:,D1WMask]\n",
    "    \n",
    "    return LamT, DamT, D1T, LamC, DamC, D1C, LamW, DamW, D1W\n",
    "\n",
    "LamT, DamT, D1T, LamC, DamC, D1C, LamW, DamW, D1W = create_subdfs(MergedNormalized)"
   ]
  },
  {
   "cell_type": "markdown",
   "metadata": {},
   "source": [
    "Now we run PCA for each tissue/protein combo."
   ]
  },
  {
   "cell_type": "code",
   "execution_count": 187,
   "metadata": {
    "collapsed": false
   },
   "outputs": [
    {
     "data": {
      "image/png": "[encoded data removed]",
      "text/plain": [
       "<matplotlib.figure.Figure at 0x1a60c7550>"
      ]
     },
     "metadata": {},
     "output_type": "display_data"
    }
   ],
   "source": [
    "def plot_PCA(data, subplot_spec, title):\n",
    "    \n",
    "    pca = PCA(n_components=10)\n",
    "    X = pca.fit_transform(data.transpose())\n",
    "    #print pca.explained_variance_ratio_.sum(), \"percentage var explained\"\n",
    "    #print pca.explained_variance_ratio_*100, \"explained by first PCs\"\n",
    "    \n",
    "    df=pd.DataFrame()\n",
    "    for i in range(pca.explained_variance_ratio_.shape[0]):\n",
    "        df[\"pc%i\" % (i+1)] = X[:,i]\n",
    "\n",
    "    colors = [\"blue\", \"red\", \"yellow\", 'green']\n",
    "    labels= [\"188\",\"238\",\"257\", \"89\"]\n",
    "    \n",
    "    ax1 = fig.add_subplot(subplot_spec, xticklabels=[], yticklabels=[])\n",
    "    \n",
    "    for label, color in zip(labels, colors):\n",
    "        mask = [file_names.loc[name].Line==label for name in data.columns]\n",
    "        _=ax1.scatter(df[mask]['pc1'], df[mask]['pc2'], c=color, label=label, alpha=.5, s =50)\n",
    "    ax1.set_title(title)\n",
    "    ax1.grid(b=False)\n",
    "    #ax1.axis(\"off\")\n",
    "    #plt.legend()\n",
    "    #plt.grid(False)\n",
    "    #plt.show()\n",
    "\n",
    "fig = plt.figure()\n",
    "\n",
    "#plot_PCA(DamC, 331, \"DamC\")\n",
    "plot_PCA(DamT, 332, \"DamT\")\n",
    "#plot_PCA(DamW, 333, \"DamW\")\n",
    "plot_PCA(LamC, 334, \"LamC\")\n",
    "plot_PCA(LamT, 335, \"LamT\")\n",
    "plot_PCA(LamW, 336, \"LamW\")\n",
    "#plot_PCA(D1C, 337, \"D1C\")\n",
    "plot_PCA(D1T, 338, \"D1T\")\n",
    "plot_PCA(D1W, 339, \"D1W\")\n",
    "\n"
   ]
  },
  {
   "cell_type": "markdown",
   "metadata": {},
   "source": [
    "Blue and green are Fr strains, yellow and red are Zi strains"
   ]
  },
  {
   "cell_type": "markdown",
   "metadata": {},
   "source": [
    "# Normalizing each data set value by mean(Dam-only) value"
   ]
  },
  {
   "cell_type": "markdown",
   "metadata": {},
   "source": [
    "The final step would be to take mean(D1) / mean(Dam-only) and mean(Lam) / mean(Dam-only) for each line/tissue combination and look at how those values cluster. This should be a very crude way to account for background noise. Note that you'll need to normalize by counts first before averaging across replicates."
   ]
  },
  {
   "cell_type": "code",
   "execution_count": 188,
   "metadata": {
    "collapsed": false
   },
   "outputs": [],
   "source": [
    "CMean=DamC.mean(axis=1)\n",
    "TMean=DamT.mean(axis=1)\n",
    "WMean=DamW.mean(axis=1)"
   ]
  },
  {
   "cell_type": "code",
   "execution_count": 189,
   "metadata": {
    "collapsed": true
   },
   "outputs": [],
   "source": [
    "LamCNorm = LamC.div(CMean, axis='index')\n",
    "LamTNorm = LamT.div(TMean, axis='index')\n",
    "LamWNorm = LamW.div(WMean, axis='index')\n",
    "\n",
    "D1CNorm = D1C.div(CMean, axis='index')\n",
    "D1TNorm = D1T.div(TMean, axis='index')\n",
    "D1WNorm = D1W.div(WMean, axis='index')\n",
    "\n",
    "DamCNorm = DamC.div(CMean, axis='index')"
   ]
  },
  {
   "cell_type": "markdown",
   "metadata": {},
   "source": [
    "Drop any rows where there are inf values"
   ]
  },
  {
   "cell_type": "code",
   "execution_count": 190,
   "metadata": {
    "collapsed": false
   },
   "outputs": [],
   "source": [
    "LamCNorm=LamCNorm.replace([np.inf, -np.inf], np.nan).dropna()\n",
    "LamTNorm=LamTNorm.replace([np.inf, -np.inf], np.nan).dropna()\n",
    "LamWNorm=LamWNorm.replace([np.inf, -np.inf], np.nan).dropna()\n",
    "\n",
    "D1CNorm=D1CNorm.replace([np.inf, -np.inf], np.nan).dropna()\n",
    "D1TNorm=D1TNorm.replace([np.inf, -np.inf], np.nan).dropna()\n",
    "D1WNorm=D1WNorm.replace([np.inf, -np.inf], np.nan).dropna()\n",
    "\n",
    "DamCNorm=DamCNorm.replace([np.inf, -np.inf], np.nan).dropna()"
   ]
  },
  {
   "cell_type": "code",
   "execution_count": 191,
   "metadata": {
    "collapsed": false
   },
   "outputs": [
    {
     "data": {
      "image/png": "[encoded data removed]",
      "text/plain": [
       "<matplotlib.figure.Figure at 0x1ac025ed0>"
      ]
     },
     "metadata": {},
     "output_type": "display_data"
    }
   ],
   "source": [
    "fig = plt.figure()\n",
    "\n",
    "#plot_PCA(LamCNorm, 231, \"LamC\")\n",
    "plot_PCA(LamTNorm, 232, \"LamT\")\n",
    "#plot_PCA(LamWNorm, 233, \"LamW\")\n",
    "#plot_PCA(D1CNorm, 234, \"D1C\")\n",
    "plot_PCA(D1TNorm, 235, \"D1T\")\n",
    "#plot_PCA(D1WNorm, 236, \"D1W\")"
   ]
  },
  {
   "cell_type": "code",
   "execution_count": null,
   "metadata": {
    "collapsed": true
   },
   "outputs": [],
   "source": []
  },
  {
   "cell_type": "code",
   "execution_count": null,
   "metadata": {
    "collapsed": true
   },
   "outputs": [],
   "source": []
  },
  {
   "cell_type": "code",
   "execution_count": null,
   "metadata": {
    "collapsed": true
   },
   "outputs": [],
   "source": []
  },
  {
   "cell_type": "code",
   "execution_count": null,
   "metadata": {
    "collapsed": true
   },
   "outputs": [],
   "source": []
  },
  {
   "cell_type": "code",
   "execution_count": null,
   "metadata": {
    "collapsed": true
   },
   "outputs": [],
   "source": []
  },
  {
   "cell_type": "code",
   "execution_count": null,
   "metadata": {
    "collapsed": true
   },
   "outputs": [],
   "source": []
  },
  {
   "cell_type": "code",
   "execution_count": null,
   "metadata": {
    "collapsed": true
   },
   "outputs": [],
   "source": []
  },
  {
   "cell_type": "markdown",
   "metadata": {},
   "source": [
    "# Ignore"
   ]
  },
  {
   "cell_type": "markdown",
   "metadata": {},
   "source": [
    "First we need to get averages for each line/tissue combo in the Dam dataset"
   ]
  },
  {
   "cell_type": "code",
   "execution_count": 141,
   "metadata": {
    "collapsed": true
   },
   "outputs": [],
   "source": [
    "Mask188C = [file_names.loc[name].Line==\"188\" for name in DamC.columns]\n",
    "Mask238C = [file_names.loc[name].Line==\"238\" for name in DamC.columns]\n",
    "Mask257C = [file_names.loc[name].Line==\"257\" for name in DamC.columns]\n",
    "Mask89C = [file_names.loc[name].Line==\"89\" for name in DamC.columns]\n",
    "\n",
    "Mask188T = [file_names.loc[name].Line==\"188\" for name in DamT.columns]\n",
    "Mask238T = [file_names.loc[name].Line==\"238\" for name in DamT.columns]\n",
    "Mask257T = [file_names.loc[name].Line==\"257\" for name in DamT.columns]\n",
    "Mask89T = [file_names.loc[name].Line==\"89\" for name in DamT.columns]\n",
    "\n",
    "Mask188W = [file_names.loc[name].Line==\"188\" for name in DamW.columns]\n",
    "Mask238W = [file_names.loc[name].Line==\"238\" for name in DamW.columns]\n",
    "Mask257W = [file_names.loc[name].Line==\"257\" for name in DamW.columns]\n",
    "Mask89W = [file_names.loc[name].Line==\"89\" for name in DamW.columns]"
   ]
  },
  {
   "cell_type": "code",
   "execution_count": 147,
   "metadata": {
    "collapsed": false
   },
   "outputs": [],
   "source": [
    "C188=DamC.iloc[:,Mask188C].mean(axis=1)\n",
    "C89=DamC.iloc[:,Mask89C].mean(axis=1)\n",
    "C238=DamC.iloc[:,Mask238C].mean(axis=1)\n",
    "C257=DamC.iloc[:,Mask257C].mean(axis=1)\n",
    "\n",
    "T188=DamT.iloc[:,Mask188T].mean(axis=1)\n",
    "T89=DamT.iloc[:,Mask89T].mean(axis=1)\n",
    "T238=DamT.iloc[:,Mask238T].mean(axis=1)\n",
    "T257=DamT.iloc[:,Mask257T].mean(axis=1)\n",
    "\n",
    "T188=DamW.iloc[:,Mask188W].mean(axis=1)\n",
    "T89=DamW.iloc[:,Mask89W].mean(axis=1)\n",
    "T238=DamW.iloc[:,Mask238W].mean(axis=1)\n",
    "T257=DamW.iloc[:,Mask257W].mean(axis=1)"
   ]
  },
  {
   "cell_type": "code",
   "execution_count": null,
   "metadata": {
    "collapsed": true
   },
   "outputs": [],
   "source": []
  }
 ],
 "metadata": {
  "kernelspec": {
   "display_name": "Python 2",
   "language": "python",
   "name": "python2"
  },
  "language_info": {
   "codemirror_mode": {
    "name": "ipython",
    "version": 2
   },
   "file_extension": ".py",
   "mimetype": "text/x-python",
   "name": "python",
   "nbconvert_exporter": "python",
   "pygments_lexer": "ipython2",
   "version": "2.7.11"
  }
 },
 "nbformat": 4,
 "nbformat_minor": 0
}
