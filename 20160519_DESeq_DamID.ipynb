{
 "cells": [
  {
   "cell_type": "code",
   "execution_count": 1,
   "metadata": {
    "collapsed": false
   },
   "outputs": [
    {
     "name": "stderr",
     "output_type": "stream",
     "text": [
      "Loading required package: S4Vectors\n",
      "Loading required package: stats4\n",
      "Loading required package: BiocGenerics\n",
      "Loading required package: parallel\n",
      "\n",
      "Attaching package: ‘BiocGenerics’\n",
      "\n",
      "The following objects are masked from ‘package:parallel’:\n",
      "\n",
      "    clusterApply, clusterApplyLB, clusterCall, clusterEvalQ,\n",
      "    clusterExport, clusterMap, parApply, parCapply, parLapply,\n",
      "    parLapplyLB, parRapply, parSapply, parSapplyLB\n",
      "\n",
      "The following objects are masked from ‘package:stats’:\n",
      "\n",
      "    IQR, mad, xtabs\n",
      "\n",
      "The following objects are masked from ‘package:base’:\n",
      "\n",
      "    anyDuplicated, append, as.data.frame, as.vector, cbind, colnames,\n",
      "    do.call, duplicated, eval, evalq, Filter, Find, get, grep, grepl,\n",
      "    intersect, is.unsorted, lapply, lengths, Map, mapply, match, mget,\n",
      "    order, paste, pmax, pmax.int, pmin, pmin.int, Position, rank,\n",
      "    rbind, Reduce, rownames, sapply, setdiff, sort, table, tapply,\n",
      "    union, unique, unlist, unsplit\n",
      "\n",
      "Loading required package: IRanges\n",
      "Loading required package: GenomicRanges\n",
      "Loading required package: GenomeInfoDb\n",
      "Loading required package: SummarizedExperiment\n",
      "Loading required package: Biobase\n",
      "Welcome to Bioconductor\n",
      "\n",
      "    Vignettes contain introductory material; view with\n",
      "    'browseVignettes()'. To cite Bioconductor, see\n",
      "    'citation(\"Biobase\")', and for packages 'citation(\"pkgname\")'.\n",
      "\n",
      "Loading required package: Rcpp\n",
      "Loading required package: RcppArmadillo\n",
      "Warning message:\n",
      ": package ‘RcppArmadillo’ was built under R version 3.2.3Warning message:\n",
      ": replacing previous import by ‘ggplot2::Position’ when loading ‘DESeq2’"
     ]
    }
   ],
   "source": [
    "library(DESeq2)"
   ]
  },
  {
   "cell_type": "markdown",
   "metadata": {},
   "source": [
    "Load the files, see what they look like"
   ]
  },
  {
   "cell_type": "code",
   "execution_count": 2,
   "metadata": {
    "collapsed": true
   },
   "outputs": [],
   "source": [
    "#This file is the AdRp file, with columns with counts less than 500000 removed, and with rows with rDNA or MtDNA removed\n",
    "damid<-read.csv(\"AdRp_noMtDNA\")\n",
    "loc<-read.csv(\"Locations\")\n",
    "metadata<-read.csv(\"file_names\")"
   ]
  },
  {
   "cell_type": "code",
   "execution_count": 3,
   "metadata": {
    "collapsed": false
   },
   "outputs": [
    {
     "data": {
      "text/html": [
       "<table>\n",
       "<thead><tr><th></th><th scope=col>X</th><th scope=col>X0</th><th scope=col>X1</th><th scope=col>X2</th></tr></thead>\n",
       "<tbody>\n",
       "\t<tr><th scope=row>1</th><td>0</td><td>211000022278049</td><td>390</td><td>394</td></tr>\n",
       "\t<tr><th scope=row>2</th><td>1</td><td>211000022278049</td><td>537</td><td>541</td></tr>\n",
       "\t<tr><th scope=row>3</th><td>2</td><td>211000022278049</td><td>573</td><td>577</td></tr>\n",
       "\t<tr><th scope=row>4</th><td>3</td><td>211000022278049</td><td>837</td><td>841</td></tr>\n",
       "\t<tr><th scope=row>5</th><td>4</td><td>211000022278049</td><td>1613</td><td>1617</td></tr>\n",
       "\t<tr><th scope=row>6</th><td>5</td><td>211000022278049</td><td>1618</td><td>1622</td></tr>\n",
       "</tbody>\n",
       "</table>\n"
      ],
      "text/latex": [
       "\\begin{tabular}{r|llll}\n",
       "  & X & X0 & X1 & X2\\\\\n",
       "\\hline\n",
       "\t1 & 0 & 211000022278049 & 390 & 394\\\\\n",
       "\t2 & 1 & 211000022278049 & 537 & 541\\\\\n",
       "\t3 & 2 & 211000022278049 & 573 & 577\\\\\n",
       "\t4 & 3 & 211000022278049 & 837 & 841\\\\\n",
       "\t5 & 4 & 211000022278049 & 1613 & 1617\\\\\n",
       "\t6 & 5 & 211000022278049 & 1618 & 1622\\\\\n",
       "\\end{tabular}\n"
      ],
      "text/plain": [
       "  X              X0   X1   X2\n",
       "1 0 211000022278049  390  394\n",
       "2 1 211000022278049  537  541\n",
       "3 2 211000022278049  573  577\n",
       "4 3 211000022278049  837  841\n",
       "5 4 211000022278049 1613 1617\n",
       "6 5 211000022278049 1618 1622"
      ]
     },
     "execution_count": 3,
     "metadata": {},
     "output_type": "execute_result"
    },
    {
     "data": {
      "text/html": [
       "4"
      ],
      "text/latex": [
       "4"
      ],
      "text/markdown": [
       "4"
      ],
      "text/plain": [
       "[1] 4"
      ]
     },
     "execution_count": 3,
     "metadata": {},
     "output_type": "execute_result"
    }
   ],
   "source": [
    "head(loc)\n",
    "length(loc)"
   ]
  },
  {
   "cell_type": "markdown",
   "metadata": {},
   "source": [
    "have new locations list"
   ]
  },
  {
   "cell_type": "code",
   "execution_count": 4,
   "metadata": {
    "collapsed": true
   },
   "outputs": [],
   "source": [
    "loc=paste(loc$X0, \":\", loc$X1, \"-\", loc$X2, sep=\"\")"
   ]
  },
  {
   "cell_type": "code",
   "execution_count": 5,
   "metadata": {
    "collapsed": false
   },
   "outputs": [
    {
     "data": {
      "text/html": [
       "<ol class=list-inline>\n",
       "\t<li>'211000022278049:390-394'</li>\n",
       "\t<li>'211000022278049:537-541'</li>\n",
       "\t<li>'211000022278049:573-577'</li>\n",
       "\t<li>'211000022278049:837-841'</li>\n",
       "\t<li>'211000022278049:1613-1617'</li>\n",
       "\t<li>'211000022278049:1618-1622'</li>\n",
       "</ol>\n"
      ],
      "text/latex": [
       "\\begin{enumerate*}\n",
       "\\item '211000022278049:390-394'\n",
       "\\item '211000022278049:537-541'\n",
       "\\item '211000022278049:573-577'\n",
       "\\item '211000022278049:837-841'\n",
       "\\item '211000022278049:1613-1617'\n",
       "\\item '211000022278049:1618-1622'\n",
       "\\end{enumerate*}\n"
      ],
      "text/markdown": [
       "1. '211000022278049:390-394'\n",
       "2. '211000022278049:537-541'\n",
       "3. '211000022278049:573-577'\n",
       "4. '211000022278049:837-841'\n",
       "5. '211000022278049:1613-1617'\n",
       "6. '211000022278049:1618-1622'\n",
       "\n",
       "\n"
      ],
      "text/plain": [
       "[1] \"211000022278049:390-394\"   \"211000022278049:537-541\"  \n",
       "[3] \"211000022278049:573-577\"   \"211000022278049:837-841\"  \n",
       "[5] \"211000022278049:1613-1617\" \"211000022278049:1618-1622\""
      ]
     },
     "execution_count": 5,
     "metadata": {},
     "output_type": "execute_result"
    }
   ],
   "source": [
    "head(loc)"
   ]
  },
  {
   "cell_type": "code",
   "execution_count": 6,
   "metadata": {
    "collapsed": false
   },
   "outputs": [
    {
     "data": {
      "text/html": [
       "<table>\n",
       "<thead><tr><th></th><th scope=col>X</th><th scope=col>Rep</th><th scope=col>Tissue</th><th scope=col>Country</th><th scope=col>Line</th><th scope=col>NotSureProtein</th><th scope=col>protein</th></tr></thead>\n",
       "<tbody>\n",
       "\t<tr><th scope=row>1</th><td>damID-Dam_Fr188_C1</td><td>1</td><td>C</td><td>Fr</td><td>188</td><td>damID</td><td>Dam</td></tr>\n",
       "\t<tr><th scope=row>2</th><td>damID-Dam_Fr188_C2</td><td>2</td><td>C</td><td>Fr</td><td>188</td><td>damID</td><td>Dam</td></tr>\n",
       "\t<tr><th scope=row>3</th><td>damID-Dam_Fr188_C3</td><td>3</td><td>C</td><td>Fr</td><td>188</td><td>damID</td><td>Dam</td></tr>\n",
       "\t<tr><th scope=row>4</th><td>damID-Dam_Fr188_C4</td><td>4</td><td>C</td><td>Fr</td><td>188</td><td>damID</td><td>Dam</td></tr>\n",
       "\t<tr><th scope=row>5</th><td>damID-Dam_Fr188_T3</td><td>3</td><td>T</td><td>Fr</td><td>188</td><td>damID</td><td>Dam</td></tr>\n",
       "\t<tr><th scope=row>6</th><td>damID-Dam_Fr188_T4</td><td>4</td><td>T</td><td>Fr</td><td>188</td><td>damID</td><td>Dam</td></tr>\n",
       "</tbody>\n",
       "</table>\n"
      ],
      "text/latex": [
       "\\begin{tabular}{r|lllllll}\n",
       "  & X & Rep & Tissue & Country & Line & NotSureProtein & protein\\\\\n",
       "\\hline\n",
       "\t1 & damID-Dam_Fr188_C1 & 1 & C & Fr & 188 & damID & Dam\\\\\n",
       "\t2 & damID-Dam_Fr188_C2 & 2 & C & Fr & 188 & damID & Dam\\\\\n",
       "\t3 & damID-Dam_Fr188_C3 & 3 & C & Fr & 188 & damID & Dam\\\\\n",
       "\t4 & damID-Dam_Fr188_C4 & 4 & C & Fr & 188 & damID & Dam\\\\\n",
       "\t5 & damID-Dam_Fr188_T3 & 3 & T & Fr & 188 & damID & Dam\\\\\n",
       "\t6 & damID-Dam_Fr188_T4 & 4 & T & Fr & 188 & damID & Dam\\\\\n",
       "\\end{tabular}\n"
      ],
      "text/plain": [
       "                   X Rep Tissue Country Line NotSureProtein protein\n",
       "1 damID-Dam_Fr188_C1   1      C      Fr  188          damID     Dam\n",
       "2 damID-Dam_Fr188_C2   2      C      Fr  188          damID     Dam\n",
       "3 damID-Dam_Fr188_C3   3      C      Fr  188          damID     Dam\n",
       "4 damID-Dam_Fr188_C4   4      C      Fr  188          damID     Dam\n",
       "5 damID-Dam_Fr188_T3   3      T      Fr  188          damID     Dam\n",
       "6 damID-Dam_Fr188_T4   4      T      Fr  188          damID     Dam"
      ]
     },
     "execution_count": 6,
     "metadata": {},
     "output_type": "execute_result"
    }
   ],
   "source": [
    "head(metadata)"
   ]
  },
  {
   "cell_type": "code",
   "execution_count": 7,
   "metadata": {
    "collapsed": false
   },
   "outputs": [
    {
     "data": {
      "text/html": [
       "<ol class=list-inline>\n",
       "\t<li>1</li>\n",
       "\t<li>2</li>\n",
       "\t<li>3</li>\n",
       "\t<li>4</li>\n",
       "\t<li>NA</li>\n",
       "</ol>\n"
      ],
      "text/latex": [
       "\\begin{enumerate*}\n",
       "\\item 1\n",
       "\\item 2\n",
       "\\item 3\n",
       "\\item 4\n",
       "\\item NA\n",
       "\\end{enumerate*}\n"
      ],
      "text/markdown": [
       "1. 1\n",
       "2. 2\n",
       "3. 3\n",
       "4. 4\n",
       "5. NA\n",
       "\n",
       "\n"
      ],
      "text/plain": [
       "[1]  1  2  3  4 NA"
      ]
     },
     "execution_count": 7,
     "metadata": {},
     "output_type": "execute_result"
    },
    {
     "data": {
      "text/html": [
       "<ol class=list-inline>\n",
       "\t<li>C</li>\n",
       "\t<li>T</li>\n",
       "\t<li>W</li>\n",
       "\t<li>w</li>\n",
       "</ol>\n"
      ],
      "text/latex": [
       "\\begin{enumerate*}\n",
       "\\item C\n",
       "\\item T\n",
       "\\item W\n",
       "\\item w\n",
       "\\end{enumerate*}\n"
      ],
      "text/markdown": [
       "1. C\n",
       "2. T\n",
       "3. W\n",
       "4. w\n",
       "\n",
       "\n"
      ],
      "text/plain": [
       "[1] C T W w\n",
       "Levels: C T w W"
      ]
     },
     "execution_count": 7,
     "metadata": {},
     "output_type": "execute_result"
    },
    {
     "data": {
      "text/html": [
       "<ol class=list-inline>\n",
       "\t<li>Fr</li>\n",
       "\t<li>Zi</li>\n",
       "</ol>\n"
      ],
      "text/latex": [
       "\\begin{enumerate*}\n",
       "\\item Fr\n",
       "\\item Zi\n",
       "\\end{enumerate*}\n"
      ],
      "text/markdown": [
       "1. Fr\n",
       "2. Zi\n",
       "\n",
       "\n"
      ],
      "text/plain": [
       "[1] Fr Zi\n",
       "Levels: Fr Zi"
      ]
     },
     "execution_count": 7,
     "metadata": {},
     "output_type": "execute_result"
    },
    {
     "data": {
      "text/html": [
       "<ol class=list-inline>\n",
       "\t<li>188</li>\n",
       "\t<li>257</li>\n",
       "\t<li>275</li>\n",
       "\t<li>89</li>\n",
       "\t<li>238</li>\n",
       "</ol>\n"
      ],
      "text/latex": [
       "\\begin{enumerate*}\n",
       "\\item 188\n",
       "\\item 257\n",
       "\\item 275\n",
       "\\item 89\n",
       "\\item 238\n",
       "\\end{enumerate*}\n"
      ],
      "text/markdown": [
       "1. 188\n",
       "2. 257\n",
       "3. 275\n",
       "4. 89\n",
       "5. 238\n",
       "\n",
       "\n"
      ],
      "text/plain": [
       "[1] 188 257 275  89 238"
      ]
     },
     "execution_count": 7,
     "metadata": {},
     "output_type": "execute_result"
    },
    {
     "data": {
      "text/html": [
       "<ol class=list-inline>\n",
       "\t<li>damID</li>\n",
       "\t<li>damID2</li>\n",
       "\t<li>damID3</li>\n",
       "</ol>\n"
      ],
      "text/latex": [
       "\\begin{enumerate*}\n",
       "\\item damID\n",
       "\\item damID2\n",
       "\\item damID3\n",
       "\\end{enumerate*}\n"
      ],
      "text/markdown": [
       "1. damID\n",
       "2. damID2\n",
       "3. damID3\n",
       "\n",
       "\n"
      ],
      "text/plain": [
       "[1] damID  damID2 damID3\n",
       "Levels: damID damID2 damID3"
      ]
     },
     "execution_count": 7,
     "metadata": {},
     "output_type": "execute_result"
    },
    {
     "data": {
      "text/html": [
       "<ol class=list-inline>\n",
       "\t<li>Dam</li>\n",
       "\t<li>Lam</li>\n",
       "\t<li>D1</li>\n",
       "</ol>\n"
      ],
      "text/latex": [
       "\\begin{enumerate*}\n",
       "\\item Dam\n",
       "\\item Lam\n",
       "\\item D1\n",
       "\\end{enumerate*}\n"
      ],
      "text/markdown": [
       "1. Dam\n",
       "2. Lam\n",
       "3. D1\n",
       "\n",
       "\n"
      ],
      "text/plain": [
       "[1] Dam Lam D1 \n",
       "Levels: D1 Dam Lam"
      ]
     },
     "execution_count": 7,
     "metadata": {},
     "output_type": "execute_result"
    }
   ],
   "source": [
    "unique(metadata$Rep)\n",
    "unique(metadata$Tissue)\n",
    "unique(metadata$Country)\n",
    "unique(metadata$Line)\n",
    "unique(metadata$NotSureProtein) #this is batch\n",
    "unique(metadata$protein)"
   ]
  },
  {
   "cell_type": "code",
   "execution_count": 8,
   "metadata": {
    "collapsed": false
   },
   "outputs": [
    {
     "data": {
      "text/html": [
       "<ol class=list-inline>\n",
       "\t<li>1</li>\n",
       "\t<li>2</li>\n",
       "\t<li>3</li>\n",
       "\t<li>4</li>\n",
       "\t<li>0</li>\n",
       "</ol>\n"
      ],
      "text/latex": [
       "\\begin{enumerate*}\n",
       "\\item 1\n",
       "\\item 2\n",
       "\\item 3\n",
       "\\item 4\n",
       "\\item 0\n",
       "\\end{enumerate*}\n"
      ],
      "text/markdown": [
       "1. 1\n",
       "2. 2\n",
       "3. 3\n",
       "4. 4\n",
       "5. 0\n",
       "\n",
       "\n"
      ],
      "text/plain": [
       "[1] 1 2 3 4 0"
      ]
     },
     "execution_count": 8,
     "metadata": {},
     "output_type": "execute_result"
    },
    {
     "data": {
      "text/html": [
       "<ol class=list-inline>\n",
       "\t<li>'C'</li>\n",
       "\t<li>'T'</li>\n",
       "\t<li>'W'</li>\n",
       "</ol>\n"
      ],
      "text/latex": [
       "\\begin{enumerate*}\n",
       "\\item 'C'\n",
       "\\item 'T'\n",
       "\\item 'W'\n",
       "\\end{enumerate*}\n"
      ],
      "text/markdown": [
       "1. 'C'\n",
       "2. 'T'\n",
       "3. 'W'\n",
       "\n",
       "\n"
      ],
      "text/plain": [
       "[1] \"C\" \"T\" \"W\""
      ]
     },
     "execution_count": 8,
     "metadata": {},
     "output_type": "execute_result"
    },
    {
     "data": {
      "text/html": [
       "<table>\n",
       "<thead><tr><th></th><th scope=col>Rep</th><th scope=col>Tissue</th><th scope=col>Country</th><th scope=col>Line</th><th scope=col>Protein</th><th scope=col>Batch</th></tr></thead>\n",
       "<tbody>\n",
       "\t<tr><th scope=row>damID.Dam_Fr188_C1</th><td>1</td><td>C</td><td>Fr</td><td>188</td><td>Dam</td><td>damID</td></tr>\n",
       "\t<tr><th scope=row>damID.Dam_Fr188_C2</th><td>2</td><td>C</td><td>Fr</td><td>188</td><td>Dam</td><td>damID</td></tr>\n",
       "\t<tr><th scope=row>damID.Dam_Fr188_C3</th><td>3</td><td>C</td><td>Fr</td><td>188</td><td>Dam</td><td>damID</td></tr>\n",
       "\t<tr><th scope=row>damID.Dam_Fr188_C4</th><td>4</td><td>C</td><td>Fr</td><td>188</td><td>Dam</td><td>damID</td></tr>\n",
       "\t<tr><th scope=row>damID.Dam_Fr188_T3</th><td>3</td><td>T</td><td>Fr</td><td>188</td><td>Dam</td><td>damID</td></tr>\n",
       "\t<tr><th scope=row>damID.Dam_Fr188_T4</th><td>4</td><td>T</td><td>Fr</td><td>188</td><td>Dam</td><td>damID</td></tr>\n",
       "</tbody>\n",
       "</table>\n"
      ],
      "text/latex": [
       "\\begin{tabular}{r|llllll}\n",
       "  & Rep & Tissue & Country & Line & Protein & Batch\\\\\n",
       "\\hline\n",
       "\tdamID.Dam_Fr188_C1 & 1 & C & Fr & 188 & Dam & damID\\\\\n",
       "\tdamID.Dam_Fr188_C2 & 2 & C & Fr & 188 & Dam & damID\\\\\n",
       "\tdamID.Dam_Fr188_C3 & 3 & C & Fr & 188 & Dam & damID\\\\\n",
       "\tdamID.Dam_Fr188_C4 & 4 & C & Fr & 188 & Dam & damID\\\\\n",
       "\tdamID.Dam_Fr188_T3 & 3 & T & Fr & 188 & Dam & damID\\\\\n",
       "\tdamID.Dam_Fr188_T4 & 4 & T & Fr & 188 & Dam & damID\\\\\n",
       "\\end{tabular}\n"
      ],
      "text/plain": [
       "                   Rep Tissue Country Line Protein Batch\n",
       "damID.Dam_Fr188_C1   1      C      Fr  188     Dam damID\n",
       "damID.Dam_Fr188_C2   2      C      Fr  188     Dam damID\n",
       "damID.Dam_Fr188_C3   3      C      Fr  188     Dam damID\n",
       "damID.Dam_Fr188_C4   4      C      Fr  188     Dam damID\n",
       "damID.Dam_Fr188_T3   3      T      Fr  188     Dam damID\n",
       "damID.Dam_Fr188_T4   4      T      Fr  188     Dam damID"
      ]
     },
     "execution_count": 8,
     "metadata": {},
     "output_type": "execute_result"
    }
   ],
   "source": [
    "#metadata<-read.csv(\"file_names\")\n",
    "\n",
    "#Replace the Na reps with 0\n",
    "metadata[is.na(metadata)] <- 0\n",
    "unique(metadata$Rep)\n",
    "\n",
    "#Replace 'w' with 'W'\n",
    "metadata$Tissue <- toupper(metadata$Tissue)\n",
    "unique(metadata$Tissue)\n",
    "\n",
    "#Replace metadata row names to conform to column names in damid (introduced in next cell)\n",
    "rownames(metadata)=gsub('-', '.', metadata$X)\n",
    "metadata$X = NULL\n",
    "\n",
    "#Change to factors\n",
    "metadata$Country<-factor(metadata$Country)\n",
    "metadata$Line<-factor(metadata$Line)\n",
    "metadata$Protein<-factor(metadata$protein)\n",
    "metadata$Batch<-factor(metadata$NotSureProtein)\n",
    "\n",
    "#Clean up names\n",
    "metadata$protein<-NULL\n",
    "metadata$NotSureProtein<-NULL\n",
    "\n",
    "head(metadata)"
   ]
  },
  {
   "cell_type": "code",
   "execution_count": 9,
   "metadata": {
    "collapsed": false
   },
   "outputs": [
    {
     "data": {
      "text/html": [
       "<table>\n",
       "<thead><tr><th></th><th scope=col>X</th><th scope=col>damID.Dam_Fr188_C1</th><th scope=col>damID.Dam_Fr188_C2</th><th scope=col>damID.Dam_Fr188_C3</th><th scope=col>damID.Dam_Fr188_C4</th><th scope=col>damID.Dam_Fr188_T3</th><th scope=col>damID.Dam_Fr188_T4</th><th scope=col>damID.Dam_Zi257_C1</th><th scope=col>damID.Dam_Zi257_C2</th><th scope=col>damID.Dam_Zi257_C3</th><th scope=col>ellip.h</th><th scope=col>damID3.Lam_Fr89_T2</th><th scope=col>damID3.Lam_Fr89_w1</th><th scope=col>damID3.Lam_Fr89_w2</th><th scope=col>damID3.Lam_Fr89_w3</th><th scope=col>damID3.Lam_Zi238_w1</th><th scope=col>damID3.Lam_Zi238_w2</th><th scope=col>damID3.Lam_Zi238_w3</th><th scope=col>damID3.Lam_Zi257_w1</th><th scope=col>damID3.Lam_Zi257_w2</th><th scope=col>damID3.Lam_Zi257_w3</th></tr></thead>\n",
       "<tbody>\n",
       "\t<tr><th scope=row>1</th><td>0</td><td>3</td><td>1</td><td>0</td><td>0</td><td>3</td><td>3</td><td>1</td><td>2</td><td>0</td><td>⋯</td><td>1</td><td>0</td><td>1</td><td>2</td><td>1</td><td>0</td><td>0</td><td>0</td><td>1</td><td>0</td></tr>\n",
       "\t<tr><th scope=row>2</th><td>1</td><td>3</td><td>0</td><td>0</td><td>0</td><td>2</td><td>3</td><td>1</td><td>1</td><td>0</td><td>⋯</td><td>1</td><td>0</td><td>0</td><td>1</td><td>0</td><td>1</td><td>0</td><td>1</td><td>0</td><td>0</td></tr>\n",
       "\t<tr><th scope=row>3</th><td>2</td><td>3</td><td>0</td><td>0</td><td>0</td><td>2</td><td>3</td><td>1</td><td>1</td><td>0</td><td>⋯</td><td>1</td><td>0</td><td>0</td><td>1</td><td>0</td><td>1</td><td>1</td><td>1</td><td>0</td><td>0</td></tr>\n",
       "\t<tr><th scope=row>4</th><td>3</td><td>1</td><td>0</td><td>0</td><td>0</td><td>2</td><td>1</td><td>2</td><td>1</td><td>1</td><td>⋯</td><td>1</td><td>0</td><td>2</td><td>0</td><td>0</td><td>1</td><td>1</td><td>1</td><td>0</td><td>0</td></tr>\n",
       "\t<tr><th scope=row>5</th><td>4</td><td>0</td><td>2</td><td>2</td><td>2</td><td>0</td><td>1</td><td>1</td><td>2</td><td>0</td><td>⋯</td><td>1</td><td>1</td><td>1</td><td>1</td><td>0</td><td>0</td><td>1</td><td>0</td><td>1</td><td>2</td></tr>\n",
       "\t<tr><th scope=row>6</th><td>5</td><td>0</td><td>2</td><td>2</td><td>2</td><td>0</td><td>1</td><td>1</td><td>2</td><td>0</td><td>⋯</td><td>1</td><td>1</td><td>1</td><td>1</td><td>0</td><td>0</td><td>1</td><td>0</td><td>1</td><td>2</td></tr>\n",
       "</tbody>\n",
       "</table>\n"
      ],
      "text/latex": [
       "\\begin{tabular}{r|llllllllllllllllllllllllllllllllllllllllllllllllllllllllllllllllllllllllllllllllllllllllllllllllllll}\n",
       "  & X & damID.Dam_Fr188_C1 & damID.Dam_Fr188_C2 & damID.Dam_Fr188_C3 & damID.Dam_Fr188_C4 & damID.Dam_Fr188_T3 & damID.Dam_Fr188_T4 & damID.Dam_Zi257_C1 & damID.Dam_Zi257_C2 & damID.Dam_Zi257_C3 & ellip.h & damID3.Lam_Fr89_T2 & damID3.Lam_Fr89_w1 & damID3.Lam_Fr89_w2 & damID3.Lam_Fr89_w3 & damID3.Lam_Zi238_w1 & damID3.Lam_Zi238_w2 & damID3.Lam_Zi238_w3 & damID3.Lam_Zi257_w1 & damID3.Lam_Zi257_w2 & damID3.Lam_Zi257_w3\\\\\n",
       "\\hline\n",
       "\t1 & 0 & 3 & 1 & 0 & 0 & 3 & 3 & 1 & 2 & 0 & ⋯ & 1 & 0 & 1 & 2 & 1 & 0 & 0 & 0 & 1 & 0\\\\\n",
       "\t2 & 1 & 3 & 0 & 0 & 0 & 2 & 3 & 1 & 1 & 0 & ⋯ & 1 & 0 & 0 & 1 & 0 & 1 & 0 & 1 & 0 & 0\\\\\n",
       "\t3 & 2 & 3 & 0 & 0 & 0 & 2 & 3 & 1 & 1 & 0 & ⋯ & 1 & 0 & 0 & 1 & 0 & 1 & 1 & 1 & 0 & 0\\\\\n",
       "\t4 & 3 & 1 & 0 & 0 & 0 & 2 & 1 & 2 & 1 & 1 & ⋯ & 1 & 0 & 2 & 0 & 0 & 1 & 1 & 1 & 0 & 0\\\\\n",
       "\t5 & 4 & 0 & 2 & 2 & 2 & 0 & 1 & 1 & 2 & 0 & ⋯ & 1 & 1 & 1 & 1 & 0 & 0 & 1 & 0 & 1 & 2\\\\\n",
       "\t6 & 5 & 0 & 2 & 2 & 2 & 0 & 1 & 1 & 2 & 0 & ⋯ & 1 & 1 & 1 & 1 & 0 & 0 & 1 & 0 & 1 & 2\\\\\n",
       "\\end{tabular}\n"
      ],
      "text/plain": [
       "  X damID.Dam_Fr188_C1 damID.Dam_Fr188_C2 damID.Dam_Fr188_C3 damID.Dam_Fr188_C4\n",
       "1 0                  3                  1                  0                  0\n",
       "2 1                  3                  0                  0                  0\n",
       "3 2                  3                  0                  0                  0\n",
       "4 3                  1                  0                  0                  0\n",
       "5 4                  0                  2                  2                  2\n",
       "6 5                  0                  2                  2                  2\n",
       "  damID.Dam_Fr188_T3 damID.Dam_Fr188_T4 damID.Dam_Zi257_C1 damID.Dam_Zi257_C2\n",
       "1                  3                  3                  1                  2\n",
       "2                  2                  3                  1                  1\n",
       "3                  2                  3                  1                  1\n",
       "4                  2                  1                  2                  1\n",
       "5                  0                  1                  1                  2\n",
       "6                  0                  1                  1                  2\n",
       "  damID.Dam_Zi257_C3 damID.Dam_Zi257_W damID.Dam_Zi275_T1 damID.Lam_Fr188_C1\n",
       "1                  0                 0                  1                  3\n",
       "2                  0                 0                  0                  2\n",
       "3                  0                 0                  0                  2\n",
       "4                  1                 0                  0                  0\n",
       "5                  0                 3                  1                  0\n",
       "6                  0                 3                  1                  0\n",
       "  damID.Lam_Fr188_C2 damID.Lam_Fr188_C3 damID.Lam_Fr188_C damID.Lam_Fr188_T2\n",
       "1                  3                  0                 2                  3\n",
       "2                  3                  0                 1                  3\n",
       "3                  3                  0                 1                  3\n",
       "4                  1                  2                 0                  1\n",
       "5                  1                  1                 3                  4\n",
       "6                  1                  1                 3                  4\n",
       "  damID.Lam_Fr188_T3 damID.Lam_Zi257_C1 damID.Lam_Zi257_C2 damID.Lam_Zi257_C3\n",
       "1                  2                  4                  1                  0\n",
       "2                  2                  3                  1                  0\n",
       "3                  2                  2                  0                  0\n",
       "4                  0                  0                  0                  0\n",
       "5                  0                  3                  0                  0\n",
       "6                  0                  3                  0                  0\n",
       "  damID.Lam_Zi257_T1 damID.Lam_Zi257_T2 damID.Lam_Zi257_T3 damID2.D1_Fr188_C3\n",
       "1                  3                  2                  1                  0\n",
       "2                  3                  2                  1                  0\n",
       "3                  3                  2                  1                  0\n",
       "4                  0                  1                  0                  1\n",
       "5                  1                  1                  0                  0\n",
       "6                  1                  1                  0                  0\n",
       "  damID2.D1_Fr188_T3 damID2.D1_Fr89_C2 damID2.D1_Fr89_C3 damID2.D1_Fr89_T3\n",
       "1                  0                 0                 1                 0\n",
       "2                  0                 0                 0                 0\n",
       "3                  0                 0                 0                 0\n",
       "4                  0                 0                 0                 1\n",
       "5                  0                 1                 0                 0\n",
       "6                  0                 1                 0                 0\n",
       "  damID2.D1_Zi238_C1 damID2.D1_Zi238_C3 damID2.D1_Zi238_T3 damID2.D1_Zi257_C1\n",
       "1                  0                  0                  2                  0\n",
       "2                  0                  0                  0                  0\n",
       "3                  0                  0                  0                  0\n",
       "4                  0                  0                  0                  0\n",
       "5                  0                  0                  0                  0\n",
       "6                  0                  0                  0                  0\n",
       "  damID2.D1_Zi257_C2 damID2.D1_Zi257_C3 damID2.D1_Zi257_T2 damID2.D1_Zi257_T3\n",
       "1                  1                  0                  9                  1\n",
       "2                  1                  0                  9                  1\n",
       "3                  1                  0                  9                  1\n",
       "4                  1                  0                  0                  0\n",
       "5                  0                  1                  1                  0\n",
       "6                  0                  1                  1                  0\n",
       "  damID2.Dam_Fr188_w damID2.Dam_Fr89_C1 damID2.Dam_Fr89_C3 damID2.Dam_Fr89_T1\n",
       "1                  3                  0                  0                  0\n",
       "2                  2                  1                  0                  0\n",
       "3                  2                  1                  0                  0\n",
       "4                  1                  1                  0                  0\n",
       "5                  0                  0                  1                  0\n",
       "6                  0                  0                  1                  0\n",
       "  damID2.Dam_Fr89_T2 damID2.Dam_Zi238_C1 damID2.Dam_Zi238_C2\n",
       "1                  0                   1                   0\n",
       "2                  0                   1                   0\n",
       "3                  0                   1                   1\n",
       "4                  0                   0                   2\n",
       "5                  0                   0                   1\n",
       "6                  0                   0                   1\n",
       "  damID2.Dam_Zi238_C3 damID2.Dam_Zi257_w damID2.Lam_Fr89_C1 damID2.Lam_Fr89_C2\n",
       "1                   0                  2                  0                  1\n",
       "2                   0                  2                  0                  1\n",
       "3                   0                  4                  0                  1\n",
       "4                   2                  2                  0                  0\n",
       "5                   0                  1                  2                  2\n",
       "6                   0                  0                  2                  2\n",
       "  damID2.Lam_Zi238_C1 damID2.Lam_Zi238_C2 damID2.Lam_Zi238_C3\n",
       "1                   0                   2                   2\n",
       "2                   0                   2                   2\n",
       "3                   0                   2                   2\n",
       "4                   1                   0                   1\n",
       "5                   0                   0                   0\n",
       "6                   0                   0                   0\n",
       "  damID2.Lam_Zi257_C4 damID3.D1_Fr188_T damID3.D1_Fr188_w1 damID3.D1_Fr188_w2\n",
       "1                   1                 0                  1                  0\n",
       "2                   1                 0                  1                  0\n",
       "3                   1                 0                  1                  0\n",
       "4                   0                 0                  1                  1\n",
       "5                   0                 0                  0                  0\n",
       "6                   0                 0                  0                  0\n",
       "  damID3.D1_Fr188_w3 damID3.D1_Fr89_w1 damID3.D1_Fr89_w2 damID3.D1_Fr89_w3\n",
       "1                  0                 1                 1                 1\n",
       "2                  0                 1                 1                 0\n",
       "3                  0                 1                 1                 0\n",
       "4                  0                 0                 0                 0\n",
       "5                  0                 0                 0                 0\n",
       "6                  0                 0                 0                 0\n",
       "  damID3.D1_Zi238_T damID3.D1_Zi238_w1 damID3.D1_Zi238_w2 damID3.D1_Zi238_w3\n",
       "1                 1                  0                  0                  1\n",
       "2                 0                  0                  0                  1\n",
       "3                 0                  0                  0                  1\n",
       "4                 0                  1                  0                  1\n",
       "5                 1                  0                  0                  0\n",
       "6                 1                  0                  0                  0\n",
       "  damID3.D1_Zi257_T damID3.D1_Zi257_w1 damID3.D1_Zi257_w2 damID3.D1_Zi257_w3\n",
       "1                 1                  0                  1                  1\n",
       "2                 1                  0                  0                  0\n",
       "3                 1                  0                  0                  0\n",
       "4                 1                  1                  0                  2\n",
       "5                 0                  1                  0                  0\n",
       "6                 0                  1                  0                  0\n",
       "  damID3.Dam_Fr188_T2 damID3.Dam_Fr188_w1 damID3.Dam_Fr188_w2\n",
       "1                   1                   1                   0\n",
       "2                   1                   1                   0\n",
       "3                   2                   1                   0\n",
       "4                   1                   0                   1\n",
       "5                   1                   1                   1\n",
       "6                   1                   1                   1\n",
       "  damID3.Dam_Fr188_w3 damID3.Dam_Fr89_w1 damID3.Dam_Fr89_w2 damID3.Dam_Fr89_w3\n",
       "1                   2                  0                  2                  0\n",
       "2                   3                  0                  2                  1\n",
       "3                   3                  0                  2                  1\n",
       "4                   1                  1                  0                  2\n",
       "5                   0                  1                  0                  1\n",
       "6                   0                  1                  0                  1\n",
       "  damID3.Dam_Zi238_T1 damID3.Dam_Zi238_T2 damID3.Dam_Zi238_w1\n",
       "1                   0                   1                   0\n",
       "2                   0                   1                   0\n",
       "3                   0                   1                   0\n",
       "4                   0                   0                   1\n",
       "5                   0                   0                   0\n",
       "6                   0                   0                   0\n",
       "  damID3.Dam_Zi238_w2 damID3.Dam_Zi238_w3 damID3.Dam_Zi257_T1\n",
       "1                   0                   0                   0\n",
       "2                   0                   0                   0\n",
       "3                   0                   0                   0\n",
       "4                   0                   0                   0\n",
       "5                   0                   0                   1\n",
       "6                   0                   0                   1\n",
       "  damID3.Dam_Zi257_T2 damID3.Dam_Zi257_w1 damID3.Dam_Zi257_w2\n",
       "1                   0                   0                   2\n",
       "2                   0                   0                   2\n",
       "3                   0                   0                   2\n",
       "4                   0                   0                   1\n",
       "5                   0                   0                   1\n",
       "6                   0                   0                   1\n",
       "  damID3.Dam_Zi257_w3 damID3.Lam_Fr188_T1 damID3.Lam_Fr188_T4\n",
       "1                   0                   0                   0\n",
       "2                   0                   0                   0\n",
       "3                   0                   0                   0\n",
       "4                   0                   0                   0\n",
       "5                   0                   0                   0\n",
       "6                   0                   0                   0\n",
       "  damID3.Lam_Fr188_w1 damID3.Lam_Fr188_w2 damID3.Lam_Fr188_w3\n",
       "1                   1                   0                   0\n",
       "2                   1                   0                   0\n",
       "3                   1                   0                   0\n",
       "4                   0                   0                   0\n",
       "5                   0                   0                   0\n",
       "6                   0                   0                   0\n",
       "  damID3.Lam_Fr89_T1 damID3.Lam_Fr89_T2 damID3.Lam_Fr89_w1 damID3.Lam_Fr89_w2\n",
       "1                  0                  1                  0                  1\n",
       "2                  0                  1                  0                  0\n",
       "3                  0                  1                  0                  0\n",
       "4                  0                  1                  0                  2\n",
       "5                  0                  1                  1                  1\n",
       "6                  0                  1                  1                  1\n",
       "  damID3.Lam_Fr89_w3 damID3.Lam_Zi238_w1 damID3.Lam_Zi238_w2\n",
       "1                  2                   1                   0\n",
       "2                  1                   0                   1\n",
       "3                  1                   0                   1\n",
       "4                  0                   0                   1\n",
       "5                  1                   0                   0\n",
       "6                  1                   0                   0\n",
       "  damID3.Lam_Zi238_w3 damID3.Lam_Zi257_w1 damID3.Lam_Zi257_w2\n",
       "1                   0                   0                   1\n",
       "2                   0                   1                   0\n",
       "3                   1                   1                   0\n",
       "4                   1                   1                   0\n",
       "5                   1                   0                   1\n",
       "6                   1                   0                   1\n",
       "  damID3.Lam_Zi257_w3\n",
       "1                   0\n",
       "2                   0\n",
       "3                   0\n",
       "4                   0\n",
       "5                   2\n",
       "6                   2"
      ]
     },
     "execution_count": 9,
     "metadata": {},
     "output_type": "execute_result"
    },
    {
     "data": {
      "text/html": [
       "'dimensions of damid'"
      ],
      "text/latex": [
       "'dimensions of damid'"
      ],
      "text/markdown": [
       "'dimensions of damid'"
      ],
      "text/plain": [
       "[1] \"dimensions of damid\""
      ]
     },
     "execution_count": 9,
     "metadata": {},
     "output_type": "execute_result"
    },
    {
     "data": {
      "text/html": [
       "<ol class=list-inline>\n",
       "\t<li>388464</li>\n",
       "\t<li>100</li>\n",
       "</ol>\n"
      ],
      "text/latex": [
       "\\begin{enumerate*}\n",
       "\\item 388464\n",
       "\\item 100\n",
       "\\end{enumerate*}\n"
      ],
      "text/markdown": [
       "1. 388464\n",
       "2. 100\n",
       "\n",
       "\n"
      ],
      "text/plain": [
       "[1] 388464    100"
      ]
     },
     "execution_count": 9,
     "metadata": {},
     "output_type": "execute_result"
    }
   ],
   "source": [
    "head(damid)\n",
    "\"dimensions of damid\"\n",
    "dim(damid)"
   ]
  },
  {
   "cell_type": "markdown",
   "metadata": {},
   "source": [
    "### Separating the dataset into testes/carcass/whole lam/d1"
   ]
  },
  {
   "cell_type": "markdown",
   "metadata": {},
   "source": [
    "We want to separate carcass and testes, because that's what we did in our analysis of gene expression data."
   ]
  },
  {
   "cell_type": "code",
   "execution_count": 87,
   "metadata": {
    "collapsed": false
   },
   "outputs": [],
   "source": [
    "colsC<-c(grep(\"_C\", names(damid)))\n",
    "colsT<-c(grep(\"_T\", names(damid)))\n",
    "colsW<-c(grep(\"_W\", names(damid)))\n",
    "colsDam<-c(grep(\"Dam_\", names(damid)))\n",
    "colsLam<-c(grep(\"Lam_\", names(damid)))\n",
    "colsD1<-c(grep(\"D1_\", names(damid)))\n",
    "\n",
    "#do C-Lam vs C-Dam\n",
    "colsCLam<-intersect(colsC,union(colsDam,colsLam))\n",
    "metadataCLam<-metadata[metadata$Tissue==\"C\" & (metadata$Protein==\"Lam\" | metadata$Protein==\"Dam\"),]\n",
    "\n",
    "#do C-D1 vs C-Dam\n",
    "colsCD1<-intersect(colsC,union(colsDam,colsD1))\n",
    "metadataCD1<-metadata[metadata$Tissue==\"C\" & (metadata$Protein==\"D1\" | metadata$Protein==\"Dam\"),]\n",
    "\n",
    "#do T-Lam vs T-Dam\n",
    "colsTLam<-intersect(colsT,union(colsDam,colsLam))\n",
    "metadataTLam<-metadata[metadata$Tissue==\"T\" & (metadata$Protein==\"Lam\" | metadata$Protein==\"Dam\"),]\n",
    "\n",
    "#do T-D1 vs T-Dam\n",
    "colsTD1<-intersect(colsT,union(colsDam,colsD1))\n",
    "metadataTD1<-metadata[metadata$Tissue==\"T\" & (metadata$Protein==\"D1\" | metadata$Protein==\"Dam\"),]\n",
    "\n",
    "#do W-Lam vs W-Dam\n",
    "colsWLam<-intersect(colsW,union(colsDam,colsLam))\n",
    "metadataWLam<-metadata[metadata$Tissue==\"W\" & (metadata$Protein==\"Lam\" | metadata$Protein==\"Dam\"),]\n",
    "\n",
    "#do W-D1 vs W-Dam\n",
    "colsWD1<-intersect(colsW,union(colsDam,colsD1))\n",
    "metadataWD1<-metadata[metadata$Tissue==\"W\" & (metadata$Protein==\"D1\" | metadata$Protein==\"Dam\"),]"
   ]
  },
  {
   "cell_type": "code",
   "execution_count": 116,
   "metadata": {
    "collapsed": false
   },
   "outputs": [
    {
     "name": "stderr",
     "output_type": "stream",
     "text": [
      "factor levels were dropped which had no samples\n",
      "estimating size factors\n",
      "estimating dispersions\n",
      "gene-wise dispersion estimates\n",
      "mean-dispersion relationship\n",
      "final dispersion estimates\n",
      "fitting model and testing\n"
     ]
    }
   ],
   "source": [
    "datasetCLam <- DESeqDataSetFromMatrix(countData = damid[,colsCLam],\n",
    "                                   colData = metadataCLam,\n",
    "                                   design = ~Line + Protein + Line:Protein + Batch)\n",
    "suppressWarnings(ddsCLam<-DESeq(datasetCLam))"
   ]
  },
  {
   "cell_type": "code",
   "execution_count": 118,
   "metadata": {
    "collapsed": false
   },
   "outputs": [
    {
     "name": "stderr",
     "output_type": "stream",
     "text": [
      "found results columns, replacing these\n"
     ]
    },
    {
     "name": "stdout",
     "output_type": "stream",
     "text": [
      "\n",
      "out of 388607 with nonzero total read count\n",
      "adjusted p-value < 0.1\n",
      "LFC > 0 (up)     : 1706, 0.44% \n",
      "LFC < 0 (down)   : 6482, 1.7% \n",
      "outliers [1]     : 703, 0.18% \n",
      "low counts [2]   : 218489, 56% \n",
      "(mean count < 4)\n",
      "[1] see 'cooksCutoff' argument of ?results\n",
      "[2] see 'independentFiltering' argument of ?results\n",
      "\n"
     ]
    }
   ],
   "source": [
    "#Testing batch\n",
    "ddsCLam.line<-nbinomLRT(ddsCLam, reduced= ~Line + Protein + Line:Protein)\n",
    "#ddsC.line<-DESeq(ddsC)\n",
    "results.line.CLam<-results(ddsCLam.line)\n",
    "\n",
    "summary(results.line.CLam)"
   ]
  },
  {
   "cell_type": "code",
   "execution_count": 119,
   "metadata": {
    "collapsed": false
   },
   "outputs": [
    {
     "name": "stderr",
     "output_type": "stream",
     "text": [
      "found results columns, replacing these\n"
     ]
    },
    {
     "name": "stdout",
     "output_type": "stream",
     "text": [
      "\n",
      "out of 388607 with nonzero total read count\n",
      "adjusted p-value < 0.1\n",
      "LFC > 0 (up)     : 30378, 7.8% \n",
      "LFC < 0 (down)   : 43107, 11% \n",
      "outliers [1]     : 703, 0.18% \n",
      "low counts [2]   : 97945, 25% \n",
      "(mean count < 2)\n",
      "[1] see 'cooksCutoff' argument of ?results\n",
      "[2] see 'independentFiltering' argument of ?results\n",
      "\n"
     ]
    }
   ],
   "source": [
    "#Testing interaction\n",
    "ddsCLam.line<-nbinomLRT(ddsCLam, reduced= ~Line + Protein + Batch)\n",
    "#ddsC.line<-DESeq(ddsC)\n",
    "results.line.CLam<-results(ddsCLam.line)\n",
    "\n",
    "summary(results.line.CLam)"
   ]
  },
  {
   "cell_type": "code",
   "execution_count": 120,
   "metadata": {
    "collapsed": false
   },
   "outputs": [
    {
     "name": "stderr",
     "output_type": "stream",
     "text": [
      "factor levels were dropped which had no samples\n",
      "estimating size factors\n",
      "estimating dispersions\n",
      "gene-wise dispersion estimates\n",
      "mean-dispersion relationship\n",
      "final dispersion estimates\n",
      "fitting model and testing\n",
      "found results columns, replacing these\n"
     ]
    },
    {
     "name": "stdout",
     "output_type": "stream",
     "text": [
      "\n",
      "out of 388607 with nonzero total read count\n",
      "adjusted p-value < 0.1\n",
      "LFC > 0 (up)     : 45893, 12% \n",
      "LFC < 0 (down)   : 90658, 23% \n",
      "outliers [1]     : 3353, 0.86% \n",
      "low counts [2]   : 37669, 9.7% \n",
      "(mean count < 1)\n",
      "[1] see 'cooksCutoff' argument of ?results\n",
      "[2] see 'independentFiltering' argument of ?results\n",
      "\n"
     ]
    }
   ],
   "source": [
    "datasetCLam_NoInteract <- DESeqDataSetFromMatrix(countData = damid[,colsCLam],\n",
    "                                   colData = metadataCLam,\n",
    "                                   design = ~Line + Protein + Batch)\n",
    "suppressWarnings(ddsCLam_NoInteract<-DESeq(datasetCLam_NoInteract))\n",
    "\n",
    "#Testing main effect\n",
    "ddsCLam.line_NoInteract<-nbinomLRT(ddsCLam_NoInteract, reduced= ~Line + Batch)\n",
    "results.line.CLam_NoInteract<-results(ddsCLam.line_NoInteract)\n",
    "\n",
    "summary(results.line.CLam_NoInteract)"
   ]
  },
  {
   "cell_type": "code",
   "execution_count": 12,
   "metadata": {
    "collapsed": false
   },
   "outputs": [
    {
     "name": "stderr",
     "output_type": "stream",
     "text": [
      "factor levels were dropped which had no samples\n",
      "estimating size factors\n",
      "estimating dispersions\n",
      "gene-wise dispersion estimates\n",
      "mean-dispersion relationship\n",
      "final dispersion estimates\n",
      "fitting model and testing\n"
     ]
    }
   ],
   "source": [
    "#metadataCD1\n",
    "datasetCD1 <- DESeqDataSetFromMatrix(countData = damid[,colsCD1],\n",
    "                                   colData = metadataCD1,\n",
    "                                   design = ~Line + Protein + Line:Protein) #Batch needs to be removed for data to be full rank\n",
    "suppressWarnings(ddsCD1<-DESeq(datasetCD1))"
   ]
  },
  {
   "cell_type": "code",
   "execution_count": 14,
   "metadata": {
    "collapsed": false
   },
   "outputs": [
    {
     "name": "stderr",
     "output_type": "stream",
     "text": [
      "found results columns, replacing these\n"
     ]
    },
    {
     "name": "stdout",
     "output_type": "stream",
     "text": [
      "\n",
      "out of 388606 with nonzero total read count\n",
      "adjusted p-value < 0.1\n",
      "LFC > 0 (up)     : 2488, 0.64% \n",
      "LFC < 0 (down)   : 1620, 0.42% \n",
      "outliers [1]     : 14, 0.0036% \n",
      "low counts [2]   : 323970, 83% \n",
      "(mean count < 5)\n",
      "[1] see 'cooksCutoff' argument of ?results\n",
      "[2] see 'independentFiltering' argument of ?results\n",
      "\n"
     ]
    }
   ],
   "source": [
    "#Testing interaction\n",
    "ddsCD1.line<-nbinomLRT(ddsCD1, reduced= ~Line + Protein)\n",
    "results.line.CD1<-results(ddsCD1.line)\n",
    "\n",
    "summary(results.line.CD1)"
   ]
  },
  {
   "cell_type": "code",
   "execution_count": 15,
   "metadata": {
    "collapsed": false
   },
   "outputs": [
    {
     "name": "stderr",
     "output_type": "stream",
     "text": [
      "factor levels were dropped which had no samples\n",
      "estimating size factors\n",
      "estimating dispersions\n",
      "gene-wise dispersion estimates\n",
      "mean-dispersion relationship\n",
      "final dispersion estimates\n",
      "fitting model and testing\n"
     ]
    },
    {
     "ename": "ERROR",
     "evalue": "Error in nbinomLRT(ddsCD1_NoInteract, reduced = ~Line + Protein): less than one degree of freedom, perhaps full and reduced models are not in the correct order\n",
     "output_type": "error",
     "traceback": [
      "Error in nbinomLRT(ddsCD1_NoInteract, reduced = ~Line + Protein): less than one degree of freedom, perhaps full and reduced models are not in the correct order\n"
     ]
    },
    {
     "ename": "ERROR",
     "evalue": "Error in \"results\" %in% mcols(mcols(object))$type: error in evaluating the argument 'table' in selecting a method for function '%in%': Error in mcols(mcols(object)) : \n  error in evaluating the argument 'x' in selecting a method for function 'mcols': Error in mcols(object) : \n  error in evaluating the argument 'x' in selecting a method for function 'mcols': Error: object 'ddsCD1_NoInteract.line' not found\n\n",
     "output_type": "error",
     "traceback": [
      "Error in \"results\" %in% mcols(mcols(object))$type: error in evaluating the argument 'table' in selecting a method for function '%in%': Error in mcols(mcols(object)) : \n  error in evaluating the argument 'x' in selecting a method for function 'mcols': Error in mcols(object) : \n  error in evaluating the argument 'x' in selecting a method for function 'mcols': Error: object 'ddsCD1_NoInteract.line' not found\n\n"
     ]
    },
    {
     "ename": "ERROR",
     "evalue": "Error in summary(results.line.CD1_NoInteract): error in evaluating the argument 'object' in selecting a method for function 'summary': Error: object 'results.line.CD1_NoInteract' not found\n\n",
     "output_type": "error",
     "traceback": [
      "Error in summary(results.line.CD1_NoInteract): error in evaluating the argument 'object' in selecting a method for function 'summary': Error: object 'results.line.CD1_NoInteract' not found\n\n"
     ]
    }
   ],
   "source": [
    "#metadataCD1\n",
    "datasetCD1_NoInteract <- DESeqDataSetFromMatrix(countData = damid[,colsCD1],\n",
    "                                   colData = metadataCD1,\n",
    "                                   design = ~Line + Protein) #Batch needs to be removed for data to be full rank\n",
    "suppressWarnings(ddsCD1_NoInteract<-DESeq(datasetCD1_NoInteract))\n",
    "\n",
    "#Testing main\n",
    "ddsCD1.line_NoInteract<-nbinomLRT(ddsCD1_NoInteract, reduced= ~Line)\n",
    "results.line.CD1_NoInteract<-results(ddsCD1_NoInteract.line)\n",
    "\n",
    "summary(results.line.CD1_NoInteract)"
   ]
  },
  {
   "cell_type": "code",
   "execution_count": 17,
   "metadata": {
    "collapsed": false
   },
   "outputs": [
    {
     "name": "stderr",
     "output_type": "stream",
     "text": [
      "found results columns, replacing these\n"
     ]
    },
    {
     "name": "stdout",
     "output_type": "stream",
     "text": [
      "\n",
      "out of 388606 with nonzero total read count\n",
      "adjusted p-value < 0.1\n",
      "LFC > 0 (up)     : 3871, 1% \n",
      "LFC < 0 (down)   : 3411, 0.88% \n",
      "outliers [1]     : 68, 0.017% \n",
      "low counts [2]   : 248622, 64% \n",
      "(mean count < 2)\n",
      "[1] see 'cooksCutoff' argument of ?results\n",
      "[2] see 'independentFiltering' argument of ?results\n",
      "\n"
     ]
    }
   ],
   "source": [
    "#Testing main\n",
    "ddsCD1.line_NoInteract<-nbinomLRT(ddsCD1_NoInteract, reduced= ~Line)\n",
    "results.line.CD1_NoInteract<-results(ddsCD1.line_NoInteract)\n",
    "\n",
    "summary(results.line.CD1_NoInteract)"
   ]
  },
  {
   "cell_type": "markdown",
   "metadata": {},
   "source": [
    "Questions: \n",
    "Do I want to separate by tissue type, or is this not important?\n",
    "Why aren't we interested in testing whether or not line is important, like we did in the gene expression data?\n",
    "Why does D1 effect + interaction look less significant than LAM?\n"
   ]
  },
  {
   "cell_type": "markdown",
   "metadata": {},
   "source": [
    "Extract the adjusted p-vals to get data frame with 2 cols, p-adj main and p-adj interact."
   ]
  },
  {
   "cell_type": "code",
   "execution_count": 33,
   "metadata": {
    "collapsed": false
   },
   "outputs": [
    {
     "data": {
      "text/html": [
       "<table>\n",
       "<thead><tr><th></th><th scope=col>MainEffect</th><th scope=col>Interaction</th></tr></thead>\n",
       "<tbody>\n",
       "\t<tr><th scope=row>1</th><td>NA</td><td>NA</td></tr>\n",
       "\t<tr><th scope=row>2</th><td>NA</td><td>NA</td></tr>\n",
       "\t<tr><th scope=row>3</th><td>NA</td><td>NA</td></tr>\n",
       "\t<tr><th scope=row>4</th><td>NA</td><td>NA</td></tr>\n",
       "\t<tr><th scope=row>5</th><td>NA</td><td>NA</td></tr>\n",
       "\t<tr><th scope=row>6</th><td>NA</td><td>NA</td></tr>\n",
       "</tbody>\n",
       "</table>\n"
      ],
      "text/latex": [
       "\\begin{tabular}{r|ll}\n",
       "  & MainEffect & Interaction\\\\\n",
       "\\hline\n",
       "\t1 & NA & NA\\\\\n",
       "\t2 & NA & NA\\\\\n",
       "\t3 & NA & NA\\\\\n",
       "\t4 & NA & NA\\\\\n",
       "\t5 & NA & NA\\\\\n",
       "\t6 & NA & NA\\\\\n",
       "\\end{tabular}\n"
      ],
      "text/plain": [
       "  MainEffect Interaction\n",
       "1         NA          NA\n",
       "2         NA          NA\n",
       "3         NA          NA\n",
       "4         NA          NA\n",
       "5         NA          NA\n",
       "6         NA          NA"
      ]
     },
     "execution_count": 33,
     "metadata": {},
     "output_type": "execute_result"
    }
   ],
   "source": [
    "adjusted_pvals_CD1<-cbind(as.data.frame(results.line.CD1_NoInteract$padj), as.data.frame(results.line.CD1$padj))\n",
    "colnames(adjusted_pvals_CD1)=c(\"MainEffect\",\"Interaction\")\n",
    "head(adjusted_pvals_CD1)"
   ]
  },
  {
   "cell_type": "code",
   "execution_count": 51,
   "metadata": {
    "collapsed": false
   },
   "outputs": [],
   "source": [
    "adjusted_pvals_CD1$color<-\"black\"\n",
    "adjusted_pvals_CD1$color[adjusted_pvals_CD1$MainEffect < 0.05]<-\"blue\"\n",
    "adjusted_pvals_CD1$color[adjusted_pvals_CD1$Interaction < 0.05]<-\"red\"\n",
    "adjusted_pvals_CD1$color[adjusted_pvals_CD1$MainEffect < 0.05 & adjusted_pvals_CD1$Interaction < 0.05]<-\"purple\"\n",
    "\n",
    "adjusted_pvals_CD1$loc<-loc"
   ]
  },
  {
   "cell_type": "code",
   "execution_count": 52,
   "metadata": {
    "collapsed": false
   },
   "outputs": [],
   "source": [
    "adjusted_pvals_CD1$good = is.na(adjusted_pvals_CD1$MainEffect) + is.na(adjusted_pvals_CD1$Interaction)\n",
    "adjusted_pvals_CD1.good = subset(adjusted_pvals_CD1, good == 0)\n",
    "\n"
   ]
  },
  {
   "cell_type": "code",
   "execution_count": 53,
   "metadata": {
    "collapsed": false
   },
   "outputs": [
    {
     "data": {
      "text/html": [
       "<table>\n",
       "<thead><tr><th></th><th scope=col>MainEffect</th><th scope=col>Interaction</th><th scope=col>color</th><th scope=col>good</th><th scope=col>loc</th></tr></thead>\n",
       "<tbody>\n",
       "\t<tr><th scope=row>324</th><td>0.009575947</td><td>0.6781905</td><td>blue</td><td>0</td><td>211000022279446:333-337</td></tr>\n",
       "\t<tr><th scope=row>325</th><td>0.009907629</td><td>0.6806446</td><td>blue</td><td>0</td><td>211000022279446:487-491</td></tr>\n",
       "\t<tr><th scope=row>326</th><td>0.8516225</td><td>0.9975297</td><td>black</td><td>0</td><td>211000022279446:1284-1288</td></tr>\n",
       "\t<tr><th scope=row>457</th><td>0.02664032</td><td>0.5384281</td><td>blue</td><td>0</td><td>211000022279676:2263-2267</td></tr>\n",
       "\t<tr><th scope=row>458</th><td>0.02720073</td><td>0.5347825</td><td>blue</td><td>0</td><td>211000022279676:2394-2398</td></tr>\n",
       "\t<tr><th scope=row>588</th><td>0.5512823</td><td>0.4131721</td><td>black</td><td>0</td><td>211000022280328:7106-7110</td></tr>\n",
       "</tbody>\n",
       "</table>\n"
      ],
      "text/latex": [
       "\\begin{tabular}{r|lllll}\n",
       "  & MainEffect & Interaction & color & good & loc\\\\\n",
       "\\hline\n",
       "\t324 & 0.009575947 & 0.6781905 & blue & 0 & 211000022279446:333-337\\\\\n",
       "\t325 & 0.009907629 & 0.6806446 & blue & 0 & 211000022279446:487-491\\\\\n",
       "\t326 & 0.8516225 & 0.9975297 & black & 0 & 211000022279446:1284-1288\\\\\n",
       "\t457 & 0.02664032 & 0.5384281 & blue & 0 & 211000022279676:2263-2267\\\\\n",
       "\t458 & 0.02720073 & 0.5347825 & blue & 0 & 211000022279676:2394-2398\\\\\n",
       "\t588 & 0.5512823 & 0.4131721 & black & 0 & 211000022280328:7106-7110\\\\\n",
       "\\end{tabular}\n"
      ],
      "text/plain": [
       "     MainEffect Interaction color good                       loc\n",
       "324 0.009575947   0.6781905  blue    0   211000022279446:333-337\n",
       "325 0.009907629   0.6806446  blue    0   211000022279446:487-491\n",
       "326 0.851622463   0.9975297 black    0 211000022279446:1284-1288\n",
       "457 0.026640320   0.5384281  blue    0 211000022279676:2263-2267\n",
       "458 0.027200730   0.5347825  blue    0 211000022279676:2394-2398\n",
       "588 0.551282318   0.4131721 black    0 211000022280328:7106-7110"
      ]
     },
     "execution_count": 53,
     "metadata": {},
     "output_type": "execute_result"
    }
   ],
   "source": [
    "head(adjusted_pvals_CD1.good)"
   ]
  },
  {
   "cell_type": "code",
   "execution_count": 55,
   "metadata": {
    "collapsed": false
   },
   "outputs": [
    {
     "data": {
      "text/plain": [
       "\n",
       " black   blue purple    red \n",
       " 59164   3155    107   2154 "
      ]
     },
     "execution_count": 55,
     "metadata": {},
     "output_type": "execute_result"
    },
    {
     "data": {
      "text/plain": [
       "\n",
       "     0      1      2 \n",
       " 64580  75378 248649 "
      ]
     },
     "execution_count": 55,
     "metadata": {},
     "output_type": "execute_result"
    }
   ],
   "source": [
    "table(adjusted_pvals_CD1.good$color)\n",
    "table(adjusted_pvals_CD1$good)"
   ]
  },
  {
   "cell_type": "code",
   "execution_count": 61,
   "metadata": {
    "collapsed": false
   },
   "outputs": [],
   "source": [
    "datasetCD1_normalized<-counts(ddsCD1_NoInteract, normalized=TRUE)"
   ]
  },
  {
   "cell_type": "code",
   "execution_count": 62,
   "metadata": {
    "collapsed": false
   },
   "outputs": [
    {
     "data": {
      "text/html": [
       "<table>\n",
       "<thead><tr><th scope=col>damID.Dam_Fr188_C1</th><th scope=col>damID.Dam_Fr188_C2</th><th scope=col>damID.Dam_Fr188_C3</th><th scope=col>damID.Dam_Fr188_C4</th><th scope=col>damID.Dam_Zi257_C1</th><th scope=col>damID.Dam_Zi257_C2</th><th scope=col>damID.Dam_Zi257_C3</th><th scope=col>damID2.D1_Fr188_C3</th><th scope=col>damID2.D1_Fr89_C2</th><th scope=col>damID2.D1_Fr89_C3</th><th scope=col>damID2.D1_Zi238_C1</th><th scope=col>damID2.D1_Zi238_C3</th><th scope=col>damID2.D1_Zi257_C1</th><th scope=col>damID2.D1_Zi257_C2</th><th scope=col>damID2.D1_Zi257_C3</th><th scope=col>damID2.Dam_Fr89_C1</th><th scope=col>damID2.Dam_Fr89_C3</th><th scope=col>damID2.Dam_Zi238_C1</th><th scope=col>damID2.Dam_Zi238_C2</th><th scope=col>damID2.Dam_Zi238_C3</th></tr></thead>\n",
       "<tbody>\n",
       "\t<tr><td>1.6216583</td><td>0.6230573</td><td>0.0000000</td><td>0.0000000</td><td>1.1164931</td><td>1.1805205</td><td>0.0000000</td><td>0.0000000</td><td>0.0000000</td><td>2.3939056</td><td>0.0000000</td><td>0.0000000</td><td>0.0000000</td><td>0.9312672</td><td>0.0000000</td><td>0.0000000</td><td>0.0000000</td><td>1.4719918</td><td>0.0000000</td><td>0.0000000</td></tr>\n",
       "\t<tr><td>1.6216583</td><td>0.0000000</td><td>0.0000000</td><td>0.0000000</td><td>1.1164931</td><td>0.5902603</td><td>0.0000000</td><td>0.0000000</td><td>0.0000000</td><td>0.0000000</td><td>0.0000000</td><td>0.0000000</td><td>0.0000000</td><td>0.9312672</td><td>0.0000000</td><td>0.8050486</td><td>0.0000000</td><td>1.4719918</td><td>0.0000000</td><td>0.0000000</td></tr>\n",
       "\t<tr><td>1.6216583</td><td>0.0000000</td><td>0.0000000</td><td>0.0000000</td><td>1.1164931</td><td>0.5902603</td><td>0.0000000</td><td>0.0000000</td><td>0.0000000</td><td>0.0000000</td><td>0.0000000</td><td>0.0000000</td><td>0.0000000</td><td>0.9312672</td><td>0.0000000</td><td>0.8050486</td><td>0.0000000</td><td>1.4719918</td><td>0.8705439</td><td>0.0000000</td></tr>\n",
       "\t<tr><td>0.5405528</td><td>0.0000000</td><td>0.0000000</td><td>0.0000000</td><td>2.2329861</td><td>0.5902603</td><td>0.4825623</td><td>1.1107974</td><td>0.0000000</td><td>0.0000000</td><td>0.0000000</td><td>0.0000000</td><td>0.0000000</td><td>0.9312672</td><td>0.0000000</td><td>0.8050486</td><td>0.0000000</td><td>0.0000000</td><td>1.7410877</td><td>3.0018667</td></tr>\n",
       "\t<tr><td>0.0000000</td><td>1.2461146</td><td>0.8414357</td><td>1.0579076</td><td>1.1164931</td><td>1.1805205</td><td>0.0000000</td><td>0.0000000</td><td>1.3716247</td><td>0.0000000</td><td>0.0000000</td><td>0.0000000</td><td>0.0000000</td><td>0.0000000</td><td>0.8734159</td><td>0.0000000</td><td>1.3565434</td><td>0.0000000</td><td>0.8705439</td><td>0.0000000</td></tr>\n",
       "\t<tr><td>0.0000000</td><td>1.2461146</td><td>0.8414357</td><td>1.0579076</td><td>1.1164931</td><td>1.1805205</td><td>0.0000000</td><td>0.0000000</td><td>1.3716247</td><td>0.0000000</td><td>0.0000000</td><td>0.0000000</td><td>0.0000000</td><td>0.0000000</td><td>0.8734159</td><td>0.0000000</td><td>1.3565434</td><td>0.0000000</td><td>0.8705439</td><td>0.0000000</td></tr>\n",
       "</tbody>\n",
       "</table>\n"
      ],
      "text/latex": [
       "\\begin{tabular}{llllllllllllllllllll}\n",
       " damID.Dam_Fr188_C1 & damID.Dam_Fr188_C2 & damID.Dam_Fr188_C3 & damID.Dam_Fr188_C4 & damID.Dam_Zi257_C1 & damID.Dam_Zi257_C2 & damID.Dam_Zi257_C3 & damID2.D1_Fr188_C3 & damID2.D1_Fr89_C2 & damID2.D1_Fr89_C3 & damID2.D1_Zi238_C1 & damID2.D1_Zi238_C3 & damID2.D1_Zi257_C1 & damID2.D1_Zi257_C2 & damID2.D1_Zi257_C3 & damID2.Dam_Fr89_C1 & damID2.Dam_Fr89_C3 & damID2.Dam_Zi238_C1 & damID2.Dam_Zi238_C2 & damID2.Dam_Zi238_C3\\\\\n",
       "\\hline\n",
       "\t 1.6216583 & 0.6230573 & 0.0000000 & 0.0000000 & 1.1164931 & 1.1805205 & 0.0000000 & 0.0000000 & 0.0000000 & 2.3939056 & 0.0000000 & 0.0000000 & 0.0000000 & 0.9312672 & 0.0000000 & 0.0000000 & 0.0000000 & 1.4719918 & 0.0000000 & 0.0000000\\\\\n",
       "\t 1.6216583 & 0.0000000 & 0.0000000 & 0.0000000 & 1.1164931 & 0.5902603 & 0.0000000 & 0.0000000 & 0.0000000 & 0.0000000 & 0.0000000 & 0.0000000 & 0.0000000 & 0.9312672 & 0.0000000 & 0.8050486 & 0.0000000 & 1.4719918 & 0.0000000 & 0.0000000\\\\\n",
       "\t 1.6216583 & 0.0000000 & 0.0000000 & 0.0000000 & 1.1164931 & 0.5902603 & 0.0000000 & 0.0000000 & 0.0000000 & 0.0000000 & 0.0000000 & 0.0000000 & 0.0000000 & 0.9312672 & 0.0000000 & 0.8050486 & 0.0000000 & 1.4719918 & 0.8705439 & 0.0000000\\\\\n",
       "\t 0.5405528 & 0.0000000 & 0.0000000 & 0.0000000 & 2.2329861 & 0.5902603 & 0.4825623 & 1.1107974 & 0.0000000 & 0.0000000 & 0.0000000 & 0.0000000 & 0.0000000 & 0.9312672 & 0.0000000 & 0.8050486 & 0.0000000 & 0.0000000 & 1.7410877 & 3.0018667\\\\\n",
       "\t 0.0000000 & 1.2461146 & 0.8414357 & 1.0579076 & 1.1164931 & 1.1805205 & 0.0000000 & 0.0000000 & 1.3716247 & 0.0000000 & 0.0000000 & 0.0000000 & 0.0000000 & 0.0000000 & 0.8734159 & 0.0000000 & 1.3565434 & 0.0000000 & 0.8705439 & 0.0000000\\\\\n",
       "\t 0.0000000 & 1.2461146 & 0.8414357 & 1.0579076 & 1.1164931 & 1.1805205 & 0.0000000 & 0.0000000 & 1.3716247 & 0.0000000 & 0.0000000 & 0.0000000 & 0.0000000 & 0.0000000 & 0.8734159 & 0.0000000 & 1.3565434 & 0.0000000 & 0.8705439 & 0.0000000\\\\\n",
       "\\end{tabular}\n"
      ],
      "text/markdown": [
       "1. 1.62165826570998\n",
       "2. 1.62165826570998\n",
       "3. 1.62165826570998\n",
       "4. 0.540552755236659\n",
       "5. 0\n",
       "6. 0\n",
       "7. 0.623057277013151\n",
       "8. 0\n",
       "9. 0\n",
       "10. 0\n",
       "11. 1.2461145540263\n",
       "12. 1.2461145540263\n",
       "13. 0\n",
       "14. 0\n",
       "15. 0\n",
       "16. 0\n",
       "17. 0.841435696674416\n",
       "18. 0.841435696674416\n",
       "19. 0\n",
       "20. 0\n",
       "21. 0\n",
       "22. 0\n",
       "23. 1.05790755656843\n",
       "24. 1.05790755656843\n",
       "25. 1.11649305244668\n",
       "26. 1.11649305244668\n",
       "27. 1.11649305244668\n",
       "28. 2.23298610489335\n",
       "29. 1.11649305244668\n",
       "30. 1.11649305244668\n",
       "31. 1.18052050720738\n",
       "32. 0.590260253603689\n",
       "33. 0.590260253603689\n",
       "34. 0.590260253603689\n",
       "35. 1.18052050720738\n",
       "36. 1.18052050720738\n",
       "37. 0\n",
       "38. 0\n",
       "39. 0\n",
       "40. 0.482562289176732\n",
       "41. 0\n",
       "42. 0\n",
       "43. 0\n",
       "44. 0\n",
       "45. 0\n",
       "46. 1.11079742213987\n",
       "47. 0\n",
       "48. 0\n",
       "49. 0\n",
       "50. 0\n",
       "51. 0\n",
       "52. 0\n",
       "53. 1.3716246727271\n",
       "54. 1.3716246727271\n",
       "55. 2.39390559424639\n",
       "56. 0\n",
       "57. 0\n",
       "58. 0\n",
       "59. 0\n",
       "60. 0\n",
       "61. 0\n",
       "62. 0\n",
       "63. 0\n",
       "64. 0\n",
       "65. 0\n",
       "66. 0\n",
       "67. 0\n",
       "68. 0\n",
       "69. 0\n",
       "70. 0\n",
       "71. 0\n",
       "72. 0\n",
       "73. 0\n",
       "74. 0\n",
       "75. 0\n",
       "76. 0\n",
       "77. 0\n",
       "78. 0\n",
       "79. 0.931267222546321\n",
       "80. 0.931267222546321\n",
       "81. 0.931267222546321\n",
       "82. 0.931267222546321\n",
       "83. 0\n",
       "84. 0\n",
       "85. 0\n",
       "86. 0\n",
       "87. 0\n",
       "88. 0\n",
       "89. 0.87341586665141\n",
       "90. 0.87341586665141\n",
       "91. 0\n",
       "92. 0.805048639322208\n",
       "93. 0.805048639322208\n",
       "94. 0.805048639322208\n",
       "95. 0\n",
       "96. 0\n",
       "97. 0\n",
       "98. 0\n",
       "99. 0\n",
       "100. 0\n",
       "101. 1.35654339091986\n",
       "102. 1.35654339091986\n",
       "103. 1.47199176711236\n",
       "104. 1.47199176711236\n",
       "105. 1.47199176711236\n",
       "106. 0\n",
       "107. 0\n",
       "108. 0\n",
       "109. 0\n",
       "110. 0\n",
       "111. 0.87054385226924\n",
       "112. 1.74108770453848\n",
       "113. 0.87054385226924\n",
       "114. 0.87054385226924\n",
       "115. 0\n",
       "116. 0\n",
       "117. 0\n",
       "118. 3.00186668361831\n",
       "119. 0\n",
       "120. 0\n",
       "\n",
       "\n"
      ],
      "text/plain": [
       "     damID.Dam_Fr188_C1 damID.Dam_Fr188_C2 damID.Dam_Fr188_C3\n",
       "[1,]          1.6216583          0.6230573          0.0000000\n",
       "[2,]          1.6216583          0.0000000          0.0000000\n",
       "[3,]          1.6216583          0.0000000          0.0000000\n",
       "[4,]          0.5405528          0.0000000          0.0000000\n",
       "[5,]          0.0000000          1.2461146          0.8414357\n",
       "[6,]          0.0000000          1.2461146          0.8414357\n",
       "     damID.Dam_Fr188_C4 damID.Dam_Zi257_C1 damID.Dam_Zi257_C2\n",
       "[1,]           0.000000           1.116493          1.1805205\n",
       "[2,]           0.000000           1.116493          0.5902603\n",
       "[3,]           0.000000           1.116493          0.5902603\n",
       "[4,]           0.000000           2.232986          0.5902603\n",
       "[5,]           1.057908           1.116493          1.1805205\n",
       "[6,]           1.057908           1.116493          1.1805205\n",
       "     damID.Dam_Zi257_C3 damID2.D1_Fr188_C3 damID2.D1_Fr89_C2 damID2.D1_Fr89_C3\n",
       "[1,]          0.0000000           0.000000          0.000000          2.393906\n",
       "[2,]          0.0000000           0.000000          0.000000          0.000000\n",
       "[3,]          0.0000000           0.000000          0.000000          0.000000\n",
       "[4,]          0.4825623           1.110797          0.000000          0.000000\n",
       "[5,]          0.0000000           0.000000          1.371625          0.000000\n",
       "[6,]          0.0000000           0.000000          1.371625          0.000000\n",
       "     damID2.D1_Zi238_C1 damID2.D1_Zi238_C3 damID2.D1_Zi257_C1\n",
       "[1,]                  0                  0                  0\n",
       "[2,]                  0                  0                  0\n",
       "[3,]                  0                  0                  0\n",
       "[4,]                  0                  0                  0\n",
       "[5,]                  0                  0                  0\n",
       "[6,]                  0                  0                  0\n",
       "     damID2.D1_Zi257_C2 damID2.D1_Zi257_C3 damID2.Dam_Fr89_C1\n",
       "[1,]          0.9312672          0.0000000          0.0000000\n",
       "[2,]          0.9312672          0.0000000          0.8050486\n",
       "[3,]          0.9312672          0.0000000          0.8050486\n",
       "[4,]          0.9312672          0.0000000          0.8050486\n",
       "[5,]          0.0000000          0.8734159          0.0000000\n",
       "[6,]          0.0000000          0.8734159          0.0000000\n",
       "     damID2.Dam_Fr89_C3 damID2.Dam_Zi238_C1 damID2.Dam_Zi238_C2\n",
       "[1,]           0.000000            1.471992           0.0000000\n",
       "[2,]           0.000000            1.471992           0.0000000\n",
       "[3,]           0.000000            1.471992           0.8705439\n",
       "[4,]           0.000000            0.000000           1.7410877\n",
       "[5,]           1.356543            0.000000           0.8705439\n",
       "[6,]           1.356543            0.000000           0.8705439\n",
       "     damID2.Dam_Zi238_C3\n",
       "[1,]            0.000000\n",
       "[2,]            0.000000\n",
       "[3,]            0.000000\n",
       "[4,]            3.001867\n",
       "[5,]            0.000000\n",
       "[6,]            0.000000"
      ]
     },
     "execution_count": 62,
     "metadata": {},
     "output_type": "execute_result"
    }
   ],
   "source": [
    "head(datasetCD1_normalized)"
   ]
  },
  {
   "cell_type": "code",
   "execution_count": 64,
   "metadata": {
    "collapsed": false
   },
   "outputs": [
    {
     "data": {
      "text/html": [
       "<table>\n",
       "<thead><tr><th></th><th scope=col>MainEffect</th><th scope=col>Interaction</th><th scope=col>color</th><th scope=col>good</th><th scope=col>loc</th></tr></thead>\n",
       "<tbody>\n",
       "\t<tr><th scope=row>4016</th><td>0.01534578</td><td>0.03062948</td><td>purple</td><td>0</td><td>2L:1052718-1052722</td></tr>\n",
       "\t<tr><th scope=row>4017</th><td>0.01582456</td><td>0.0287978</td><td>purple</td><td>0</td><td>2L:1052751-1052755</td></tr>\n",
       "\t<tr><th scope=row>4018</th><td>0.01482598</td><td>0.02706408</td><td>purple</td><td>0</td><td>2L:1052807-1052811</td></tr>\n",
       "\t<tr><th scope=row>8425</th><td>0.03321958</td><td>0.03501106</td><td>purple</td><td>0</td><td>2L:2804734-2804738</td></tr>\n",
       "\t<tr><th scope=row>8426</th><td>0.03358275</td><td>0.03637039</td><td>purple</td><td>0</td><td>2L:2804801-2804805</td></tr>\n",
       "\t<tr><th scope=row>8823</th><td>0.03764906</td><td>0.03182787</td><td>purple</td><td>0</td><td>2L:2946837-2946841</td></tr>\n",
       "</tbody>\n",
       "</table>\n"
      ],
      "text/latex": [
       "\\begin{tabular}{r|lllll}\n",
       "  & MainEffect & Interaction & color & good & loc\\\\\n",
       "\\hline\n",
       "\t4016 & 0.01534578 & 0.03062948 & purple & 0 & 2L:1052718-1052722\\\\\n",
       "\t4017 & 0.01582456 & 0.0287978 & purple & 0 & 2L:1052751-1052755\\\\\n",
       "\t4018 & 0.01482598 & 0.02706408 & purple & 0 & 2L:1052807-1052811\\\\\n",
       "\t8425 & 0.03321958 & 0.03501106 & purple & 0 & 2L:2804734-2804738\\\\\n",
       "\t8426 & 0.03358275 & 0.03637039 & purple & 0 & 2L:2804801-2804805\\\\\n",
       "\t8823 & 0.03764906 & 0.03182787 & purple & 0 & 2L:2946837-2946841\\\\\n",
       "\\end{tabular}\n"
      ],
      "text/plain": [
       "     MainEffect Interaction  color good                loc\n",
       "4016 0.01534578  0.03062948 purple    0 2L:1052718-1052722\n",
       "4017 0.01582456  0.02879780 purple    0 2L:1052751-1052755\n",
       "4018 0.01482598  0.02706408 purple    0 2L:1052807-1052811\n",
       "8425 0.03321958  0.03501106 purple    0 2L:2804734-2804738\n",
       "8426 0.03358275  0.03637039 purple    0 2L:2804801-2804805\n",
       "8823 0.03764906  0.03182787 purple    0 2L:2946837-2946841"
      ]
     },
     "execution_count": 64,
     "metadata": {},
     "output_type": "execute_result"
    }
   ],
   "source": [
    "head(adjusted_pvals_CD1.good[adjusted_pvals_CD1.good$color==\"purple\",])"
   ]
  },
  {
   "cell_type": "code",
   "execution_count": 69,
   "metadata": {
    "collapsed": false
   },
   "outputs": [
    {
     "data": {
      "text/html": [
       "<dl class=dl-horizontal>\n",
       "\t<dt>damID.Dam_Fr188_C1</dt>\n",
       "\t\t<dd>44.325325929406</dd>\n",
       "\t<dt>damID.Dam_Fr188_C2</dt>\n",
       "\t\t<dd>42.3678948368942</dd>\n",
       "\t<dt>damID.Dam_Fr188_C3</dt>\n",
       "\t\t<dd>42.492502682058</dd>\n",
       "\t<dt>damID.Dam_Fr188_C4</dt>\n",
       "\t\t<dd>30.6793191404844</dd>\n",
       "\t<dt>damID.Dam_Zi257_C1</dt>\n",
       "\t\t<dd>40.1937498880803</dd>\n",
       "\t<dt>damID.Dam_Zi257_C2</dt>\n",
       "\t\t<dd>36.5961357234287</dd>\n",
       "\t<dt>damID.Dam_Zi257_C3</dt>\n",
       "\t\t<dd>31.3665487964876</dd>\n",
       "\t<dt>damID2.D1_Fr188_C3</dt>\n",
       "\t\t<dd>3.33239226641961</dd>\n",
       "\t<dt>damID2.D1_Fr89_C2</dt>\n",
       "\t\t<dd>1.3716246727271</dd>\n",
       "\t<dt>damID2.D1_Fr89_C3</dt>\n",
       "\t\t<dd>4.78781118849278</dd>\n",
       "\t<dt>damID2.D1_Zi238_C1</dt>\n",
       "\t\t<dd>2.05754697375041</dd>\n",
       "\t<dt>damID2.D1_Zi238_C3</dt>\n",
       "\t\t<dd>3.9873528050901</dd>\n",
       "\t<dt>damID2.D1_Zi257_C1</dt>\n",
       "\t\t<dd>2.77427737052276</dd>\n",
       "\t<dt>damID2.D1_Zi257_C2</dt>\n",
       "\t\t<dd>0.931267222546321</dd>\n",
       "\t<dt>damID2.D1_Zi257_C3</dt>\n",
       "\t\t<dd>6.11391106655987</dd>\n",
       "\t<dt>damID2.Dam_Fr89_C1</dt>\n",
       "\t\t<dd>1.61009727864442</dd>\n",
       "\t<dt>damID2.Dam_Fr89_C3</dt>\n",
       "\t\t<dd>1.35654339091986</dd>\n",
       "\t<dt>damID2.Dam_Zi238_C1</dt>\n",
       "\t\t<dd>5.88796706844945</dd>\n",
       "\t<dt>damID2.Dam_Zi238_C2</dt>\n",
       "\t\t<dd>0</dd>\n",
       "\t<dt>damID2.Dam_Zi238_C3</dt>\n",
       "\t\t<dd>3.00186668361831</dd>\n",
       "</dl>\n"
      ],
      "text/latex": [
       "\\begin{description*}\n",
       "\\item[damID.Dam_Fr188_C1] 44.325325929406\n",
       "\\item[damID.Dam_Fr188_C2] 42.3678948368942\n",
       "\\item[damID.Dam_Fr188_C3] 42.492502682058\n",
       "\\item[damID.Dam_Fr188_C4] 30.6793191404844\n",
       "\\item[damID.Dam_Zi257_C1] 40.1937498880803\n",
       "\\item[damID.Dam_Zi257_C2] 36.5961357234287\n",
       "\\item[damID.Dam_Zi257_C3] 31.3665487964876\n",
       "\\item[damID2.D1_Fr188_C3] 3.33239226641961\n",
       "\\item[damID2.D1_Fr89_C2] 1.3716246727271\n",
       "\\item[damID2.D1_Fr89_C3] 4.78781118849278\n",
       "\\item[damID2.D1_Zi238_C1] 2.05754697375041\n",
       "\\item[damID2.D1_Zi238_C3] 3.9873528050901\n",
       "\\item[damID2.D1_Zi257_C1] 2.77427737052276\n",
       "\\item[damID2.D1_Zi257_C2] 0.931267222546321\n",
       "\\item[damID2.D1_Zi257_C3] 6.11391106655987\n",
       "\\item[damID2.Dam_Fr89_C1] 1.61009727864442\n",
       "\\item[damID2.Dam_Fr89_C3] 1.35654339091986\n",
       "\\item[damID2.Dam_Zi238_C1] 5.88796706844945\n",
       "\\item[damID2.Dam_Zi238_C2] 0\n",
       "\\item[damID2.Dam_Zi238_C3] 3.00186668361831\n",
       "\\end{description*}\n"
      ],
      "text/markdown": [
       "damID.Dam_Fr188_C1\n",
       ":   44.325325929406damID.Dam_Fr188_C2\n",
       ":   42.3678948368942damID.Dam_Fr188_C3\n",
       ":   42.492502682058damID.Dam_Fr188_C4\n",
       ":   30.6793191404844damID.Dam_Zi257_C1\n",
       ":   40.1937498880803damID.Dam_Zi257_C2\n",
       ":   36.5961357234287damID.Dam_Zi257_C3\n",
       ":   31.3665487964876damID2.D1_Fr188_C3\n",
       ":   3.33239226641961damID2.D1_Fr89_C2\n",
       ":   1.3716246727271damID2.D1_Fr89_C3\n",
       ":   4.78781118849278damID2.D1_Zi238_C1\n",
       ":   2.05754697375041damID2.D1_Zi238_C3\n",
       ":   3.9873528050901damID2.D1_Zi257_C1\n",
       ":   2.77427737052276damID2.D1_Zi257_C2\n",
       ":   0.931267222546321damID2.D1_Zi257_C3\n",
       ":   6.11391106655987damID2.Dam_Fr89_C1\n",
       ":   1.61009727864442damID2.Dam_Fr89_C3\n",
       ":   1.35654339091986damID2.Dam_Zi238_C1\n",
       ":   5.88796706844945damID2.Dam_Zi238_C2\n",
       ":   0damID2.Dam_Zi238_C3\n",
       ":   3.00186668361831\n",
       "\n"
      ],
      "text/plain": [
       " damID.Dam_Fr188_C1  damID.Dam_Fr188_C2  damID.Dam_Fr188_C3  damID.Dam_Fr188_C4 \n",
       "         44.3253259          42.3678948          42.4925027          30.6793191 \n",
       " damID.Dam_Zi257_C1  damID.Dam_Zi257_C2  damID.Dam_Zi257_C3  damID2.D1_Fr188_C3 \n",
       "         40.1937499          36.5961357          31.3665488           3.3323923 \n",
       "  damID2.D1_Fr89_C2   damID2.D1_Fr89_C3  damID2.D1_Zi238_C1  damID2.D1_Zi238_C3 \n",
       "          1.3716247           4.7878112           2.0575470           3.9873528 \n",
       " damID2.D1_Zi257_C1  damID2.D1_Zi257_C2  damID2.D1_Zi257_C3  damID2.Dam_Fr89_C1 \n",
       "          2.7742774           0.9312672           6.1139111           1.6100973 \n",
       " damID2.Dam_Fr89_C3 damID2.Dam_Zi238_C1 damID2.Dam_Zi238_C2 damID2.Dam_Zi238_C3 \n",
       "          1.3565434           5.8879671           0.0000000           3.0018667 "
      ]
     },
     "execution_count": 69,
     "metadata": {},
     "output_type": "execute_result"
    }
   ],
   "source": [
    "datasetCD1_normalized[8823,]"
   ]
  },
  {
   "cell_type": "code",
   "execution_count": 70,
   "metadata": {
    "collapsed": false
   },
   "outputs": [
    {
     "data": {
      "text/plain": [
       "log2 fold change (MLE): Protein Dam vs D1 \n",
       "LRT p-value: '~ Line + Protein' vs '~ Line' \n",
       "DataFrame with 6 rows and 6 columns\n",
       "   baseMean log2FoldChange     lfcSE      stat    pvalue      padj\n",
       "  <numeric>      <numeric> <numeric> <numeric> <numeric> <numeric>\n",
       "1 0.4669447      0.7193877  1.561041 0.1865579 0.6657970        NA\n",
       "2 0.3268360      1.9249873  1.937699 1.0448408 0.3066983        NA\n",
       "3 0.3703632      2.0825049  1.834251 1.3591694 0.2436815        NA\n",
       "4 0.5718215      1.2466371  1.397092 0.8175045 0.3659108        NA\n",
       "5 0.4957300      1.2429586  1.456521 0.7416033 0.3891478        NA\n",
       "6 0.4957300      1.2429586  1.456521 0.7416033 0.3891478        NA"
      ]
     },
     "execution_count": 70,
     "metadata": {},
     "output_type": "execute_result"
    }
   ],
   "source": [
    "head(results.line.CD1_NoInteract)"
   ]
  },
  {
   "cell_type": "code",
   "execution_count": 74,
   "metadata": {
    "collapsed": false
   },
   "outputs": [
    {
     "data": {
      "text/html": [
       "<ol class=list-inline>\n",
       "\t<li>'Intercept'</li>\n",
       "\t<li>'Line_188_vs_89'</li>\n",
       "\t<li>'Line_238_vs_89'</li>\n",
       "\t<li>'Line_257_vs_89'</li>\n",
       "\t<li>'Protein_Dam_vs_D1'</li>\n",
       "\t<li>'Line188.ProteinDam'</li>\n",
       "\t<li>'Line238.ProteinDam'</li>\n",
       "\t<li>'Line257.ProteinDam'</li>\n",
       "</ol>\n"
      ],
      "text/latex": [
       "\\begin{enumerate*}\n",
       "\\item 'Intercept'\n",
       "\\item 'Line_188_vs_89'\n",
       "\\item 'Line_238_vs_89'\n",
       "\\item 'Line_257_vs_89'\n",
       "\\item 'Protein_Dam_vs_D1'\n",
       "\\item 'Line188.ProteinDam'\n",
       "\\item 'Line238.ProteinDam'\n",
       "\\item 'Line257.ProteinDam'\n",
       "\\end{enumerate*}\n"
      ],
      "text/markdown": [
       "1. 'Intercept'\n",
       "2. 'Line_188_vs_89'\n",
       "3. 'Line_238_vs_89'\n",
       "4. 'Line_257_vs_89'\n",
       "5. 'Protein_Dam_vs_D1'\n",
       "6. 'Line188.ProteinDam'\n",
       "7. 'Line238.ProteinDam'\n",
       "8. 'Line257.ProteinDam'\n",
       "\n",
       "\n"
      ],
      "text/plain": [
       "[1] \"Intercept\"          \"Line_188_vs_89\"     \"Line_238_vs_89\"    \n",
       "[4] \"Line_257_vs_89\"     \"Protein_Dam_vs_D1\"  \"Line188.ProteinDam\"\n",
       "[7] \"Line238.ProteinDam\" \"Line257.ProteinDam\""
      ]
     },
     "execution_count": 74,
     "metadata": {},
     "output_type": "execute_result"
    }
   ],
   "source": [
    "resultsNames(ddsCD1.line)"
   ]
  },
  {
   "cell_type": "code",
   "execution_count": 76,
   "metadata": {
    "collapsed": false
   },
   "outputs": [],
   "source": [
    "resultsFr188<-results(ddsCD1.line, contrast=list(c('Protein_Dam_vs_D1', 'Line188.ProteinDam')))"
   ]
  },
  {
   "cell_type": "code",
   "execution_count": 77,
   "metadata": {
    "collapsed": false
   },
   "outputs": [
    {
     "name": "stdout",
     "output_type": "stream",
     "text": [
      "\n",
      "out of 388606 with nonzero total read count\n",
      "adjusted p-value < 0.1\n",
      "LFC > 0 (up)     : 2515, 0.65% \n",
      "LFC < 0 (down)   : 1593, 0.41% \n",
      "outliers [1]     : 14, 0.0036% \n",
      "low counts [2]   : 323970, 83% \n",
      "(mean count < 5)\n",
      "[1] see 'cooksCutoff' argument of ?results\n",
      "[2] see 'independentFiltering' argument of ?results\n",
      "\n"
     ]
    }
   ],
   "source": [
    "summary(resultsFr188)"
   ]
  },
  {
   "cell_type": "code",
   "execution_count": 78,
   "metadata": {
    "collapsed": false
   },
   "outputs": [
    {
     "data": {
      "text/plain": [
       "log2 fold change (MLE): Protein_Dam_vs_D1+Line188.ProteinDam effect \n",
       "LRT p-value: '~ Line + Protein + Line:Protein' vs '~ Line + Protein' \n",
       "DataFrame with 6 rows and 6 columns\n",
       "   baseMean log2FoldChange     lfcSE      stat    pvalue      padj\n",
       "  <numeric>      <numeric> <numeric> <numeric> <numeric> <numeric>\n",
       "1 0.4669447       3.755676  5.422717 2.4454220 0.4852353        NA\n",
       "2 0.3268360       3.301886  5.804021 0.4369583 0.9325063        NA\n",
       "3 0.3703632       3.299816  5.571954 0.6392428 0.8873928        NA\n",
       "4 0.5718215      -3.073766  3.039778 3.5183633 0.3183883        NA\n",
       "5 0.4957300       4.260818  5.198488 0.8883880 0.8282291        NA\n",
       "6 0.4957300       4.260818  5.198488 0.8883880 0.8282291        NA"
      ]
     },
     "execution_count": 78,
     "metadata": {},
     "output_type": "execute_result"
    }
   ],
   "source": [
    "head(resultsFr188)"
   ]
  },
  {
   "cell_type": "code",
   "execution_count": 79,
   "metadata": {
    "collapsed": false
   },
   "outputs": [
    {
     "ename": "ERROR",
     "evalue": "Error in designAndArgChecker(object, betaPrior): betaPrior=FALSE should be used for designs with interactions\n",
     "output_type": "error",
     "traceback": [
      "Error in designAndArgChecker(object, betaPrior): betaPrior=FALSE should be used for designs with interactions\n"
     ]
    }
   ],
   "source": [
    "ddsCD1.line_deSeq<-DESeq(ddsCD1, test=\"LRT\", reduced= ~Line + Protein, betaPrior=T)"
   ]
  },
  {
   "cell_type": "code",
   "execution_count": null,
   "metadata": {
    "collapsed": true
   },
   "outputs": [],
   "source": []
  },
  {
   "cell_type": "code",
   "execution_count": null,
   "metadata": {
    "collapsed": true
   },
   "outputs": [],
   "source": []
  },
  {
   "cell_type": "code",
   "execution_count": null,
   "metadata": {
    "collapsed": true
   },
   "outputs": [],
   "source": []
  },
  {
   "cell_type": "code",
   "execution_count": null,
   "metadata": {
    "collapsed": true
   },
   "outputs": [],
   "source": []
  },
  {
   "cell_type": "code",
   "execution_count": null,
   "metadata": {
    "collapsed": true
   },
   "outputs": [],
   "source": []
  },
  {
   "cell_type": "code",
   "execution_count": null,
   "metadata": {
    "collapsed": true
   },
   "outputs": [],
   "source": []
  },
  {
   "cell_type": "code",
   "execution_count": null,
   "metadata": {
    "collapsed": true
   },
   "outputs": [],
   "source": []
  },
  {
   "cell_type": "code",
   "execution_count": 46,
   "metadata": {
    "collapsed": false
   },
   "outputs": [],
   "source": [
    "#Adding lines\n",
    "\n",
    "colsC<-c(grep(\"_C\", names(damid)))\n",
    "colsT<-c(grep(\"_T\", names(damid)))\n",
    "colsW<-c(grep(\"_W\", names(damid)))\n",
    "colsDam<-c(grep(\"Dam_\", names(damid)))\n",
    "colsLam<-c(grep(\"Lam_\", names(damid)))\n",
    "colsD1<-c(grep(\"D1_\", names(damid)))\n",
    "cols238<-c(grep(\"238\", names(damid)))\n",
    "cols257<-c(grep(\"257\", names(damid)))\n",
    "cols188<-c(grep(\"188\", names(damid)))\n",
    "cols89<-c(grep(\"89\", names(damid)))\n",
    "\n",
    "#do C-Lam vs C-Dam 238\n",
    "colsCLam238<-intersect(intersect(colsC,cols238),union(colsDam,colsLam))\n",
    "metadataCLam238<-metadata[metadata$Tissue==\"C\" & (metadata$Protein==\"Lam\" | metadata$Protein==\"Dam\") & metadata$Line==\"238\",]\n",
    "\n",
    "#do C-Lam vs C-Dam 257\n",
    "colsCLam257<-intersect(intersect(colsC,cols257),union(colsDam,colsLam))\n",
    "metadataCLam257<-metadata[metadata$Tissue==\"C\" & (metadata$Protein==\"Lam\" | metadata$Protein==\"Dam\") & metadata$Line==\"257\",]\n",
    "\n",
    "#do C-Lam vs C-Dam 188\n",
    "colsCLam188<-intersect(intersect(colsC,cols188),union(colsDam,colsLam))\n",
    "metadataCLam188<-metadata[metadata$Tissue==\"C\" & (metadata$Protein==\"Lam\" | metadata$Protein==\"Dam\") & metadata$Line==\"188\",]\n",
    "\n",
    "#do C-Lam vs C-Dam 89\n",
    "colsCLam89<-intersect(intersect(colsC,cols89),union(colsDam,colsLam))\n",
    "metadataCLam89<-metadata[metadata$Tissue==\"C\" & (metadata$Protein==\"Lam\" | metadata$Protein==\"Dam\") & metadata$Line==\"89\",]\n",
    "\n",
    "\n",
    "\n",
    "#do C-D1 vs C-Dam\n",
    "colsCD1<-intersect(colsC,union(colsDam,colsD1))\n",
    "metadataCD1<-metadata[metadata$Tissue==\"C\" & (metadata$Protein==\"D1\" | metadata$Protein==\"Dam\"),]\n",
    "\n",
    "#do T-Lam vs T-Dam\n",
    "colsTLam<-intersect(colsT,union(colsDam,colsLam))\n",
    "metadataTLam<-metadata[metadata$Tissue==\"T\" & (metadata$Protein==\"Lam\" | metadata$Protein==\"Dam\"),]\n",
    "\n",
    "#do T-D1 vs T-Dam\n",
    "colsTD1<-intersect(colsT,union(colsDam,colsD1))\n",
    "metadataTD1<-metadata[metadata$Tissue==\"T\" & (metadata$Protein==\"D1\" | metadata$Protein==\"Dam\"),]\n",
    "\n",
    "#do W-Lam vs W-Dam\n",
    "colsWLam<-intersect(colsW,union(colsDam,colsLam))\n",
    "metadataWLam<-metadata[metadata$Tissue==\"W\" & (metadata$Protein==\"Lam\" | metadata$Protein==\"Dam\"),]\n",
    "\n",
    "#do W-D1 vs W-Dam\n",
    "colsWD1<-intersect(colsW,union(colsDam,colsD1))\n",
    "metadataWD1<-metadata[metadata$Tissue==\"W\" & (metadata$Protein==\"D1\" | metadata$Protein==\"Dam\"),]"
   ]
  },
  {
   "cell_type": "code",
   "execution_count": 20,
   "metadata": {
    "collapsed": false
   },
   "outputs": [
    {
     "name": "stderr",
     "output_type": "stream",
     "text": [
      "factor levels were dropped which had no samples\n",
      "estimating size factors\n",
      "estimating dispersions\n",
      "gene-wise dispersion estimates\n",
      "mean-dispersion relationship\n",
      "final dispersion estimates\n",
      "fitting model and testing\n"
     ]
    }
   ],
   "source": [
    "datasetCLam238 <- DESeqDataSetFromMatrix(countData = damid[,colsCLam238],\n",
    "                                   colData = metadataCLam238,\n",
    "                                   design = ~Protein)\n",
    "suppressWarnings(ddsCLam238<-DESeq(datasetCLam238))"
   ]
  },
  {
   "cell_type": "code",
   "execution_count": 21,
   "metadata": {
    "collapsed": true
   },
   "outputs": [],
   "source": [
    "res.ddsCLam238<-results(ddsCLam238)"
   ]
  },
  {
   "cell_type": "code",
   "execution_count": 22,
   "metadata": {
    "collapsed": false
   },
   "outputs": [
    {
     "data": {
      "text/plain": [
       "log2 fold change (MAP): Protein Lam vs Dam \n",
       "Wald test p-value: Protein Lam vs Dam \n",
       "DataFrame with 6 rows and 6 columns\n",
       "   baseMean log2FoldChange     lfcSE        stat    pvalue      padj\n",
       "  <numeric>      <numeric> <numeric>   <numeric> <numeric> <numeric>\n",
       "1 0.7212878     0.64463859  1.745913  0.36922715 0.7119584        NA\n",
       "2 0.7212878     0.64463859  1.745913  0.36922715 0.7119584        NA\n",
       "3 0.8893814     0.06647236  1.623521  0.04094334 0.9673411        NA\n",
       "4 1.0761746    -1.55539513  1.571576 -0.98970418 0.3223187        NA\n",
       "5 0.1680936    -1.48744906  1.839987 -0.80840181 0.4188593        NA\n",
       "6 0.1680936    -1.48744906  1.839987 -0.80840181 0.4188593        NA"
      ]
     },
     "execution_count": 22,
     "metadata": {},
     "output_type": "execute_result"
    }
   ],
   "source": [
    "head(res.ddsCLam238)"
   ]
  },
  {
   "cell_type": "code",
   "execution_count": 29,
   "metadata": {
    "collapsed": false
   },
   "outputs": [
    {
     "data": {
      "image/png": "[encoded data removed]",
      "image/svg+xml": [
       "<?xml version=\"1.0\" encoding=\"UTF-8\"?>\n",
       "<svg xmlns=\"http://www.w3.org/2000/svg\" xmlns:xlink=\"http://www.w3.org/1999/xlink\" width=\"504pt\" height=\"504pt\" viewBox=\"0 0 504 504\" version=\"1.1\">\n",
       "<defs>\n",
       "<g>\n",
       "<symbol overflow=\"visible\" id=\"glyph0-0\">\n",
       "<path style=\"stroke:none;\" d=\"M 0.390625 0 L 0.390625 -8.609375 L 7.21875 -8.609375 L 7.21875 0 Z M 6.140625 -1.078125 L 6.140625 -7.53125 L 1.46875 -7.53125 L 1.46875 -1.078125 Z \"/>\n",
       "</symbol>\n",
       "<symbol overflow=\"visible\" id=\"glyph0-1\">\n",
       "<path style=\"stroke:none;\" d=\"M 3.25 -8.390625 C 4.332031 -8.390625 5.117188 -7.941406 5.609375 -7.046875 C 5.984375 -6.359375 6.171875 -5.410156 6.171875 -4.203125 C 6.171875 -3.066406 6 -2.125 5.65625 -1.375 C 5.164062 -0.300781 4.359375 0.234375 3.234375 0.234375 C 2.234375 0.234375 1.484375 -0.203125 0.984375 -1.078125 C 0.578125 -1.816406 0.375 -2.800781 0.375 -4.03125 C 0.375 -4.976562 0.5 -5.796875 0.75 -6.484375 C 1.207031 -7.753906 2.039062 -8.390625 3.25 -8.390625 Z M 3.234375 -0.734375 C 3.785156 -0.734375 4.222656 -0.972656 4.546875 -1.453125 C 4.867188 -1.941406 5.03125 -2.847656 5.03125 -4.171875 C 5.03125 -5.117188 4.910156 -5.898438 4.671875 -6.515625 C 4.441406 -7.128906 3.988281 -7.4375 3.3125 -7.4375 C 2.6875 -7.4375 2.226562 -7.144531 1.9375 -6.5625 C 1.65625 -5.976562 1.515625 -5.117188 1.515625 -3.984375 C 1.515625 -3.128906 1.609375 -2.441406 1.796875 -1.921875 C 2.078125 -1.128906 2.554688 -0.734375 3.234375 -0.734375 Z \"/>\n",
       "</symbol>\n",
       "<symbol overflow=\"visible\" id=\"glyph0-2\">\n",
       "<path style=\"stroke:none;\" d=\"M 0.375 0 C 0.414062 -0.71875 0.566406 -1.34375 0.828125 -1.875 C 1.085938 -2.414062 1.59375 -2.90625 2.34375 -3.34375 L 3.46875 -4 C 3.96875 -4.289062 4.320312 -4.539062 4.53125 -4.75 C 4.851562 -5.070312 5.015625 -5.441406 5.015625 -5.859375 C 5.015625 -6.347656 4.863281 -6.734375 4.5625 -7.015625 C 4.269531 -7.304688 3.882812 -7.453125 3.40625 -7.453125 C 2.675781 -7.453125 2.175781 -7.179688 1.90625 -6.640625 C 1.75 -6.335938 1.664062 -5.929688 1.65625 -5.421875 L 0.578125 -5.421875 C 0.585938 -6.148438 0.722656 -6.742188 0.984375 -7.203125 C 1.441406 -8.015625 2.25 -8.421875 3.40625 -8.421875 C 4.363281 -8.421875 5.0625 -8.160156 5.5 -7.640625 C 5.945312 -7.117188 6.171875 -6.539062 6.171875 -5.90625 C 6.171875 -5.238281 5.9375 -4.664062 5.46875 -4.1875 C 5.195312 -3.90625 4.707031 -3.566406 4 -3.171875 L 3.1875 -2.734375 C 2.8125 -2.523438 2.515625 -2.320312 2.296875 -2.125 C 1.898438 -1.789062 1.648438 -1.414062 1.546875 -1 L 6.140625 -1 L 6.140625 0 Z \"/>\n",
       "</symbol>\n",
       "<symbol overflow=\"visible\" id=\"glyph0-3\">\n",
       "<path style=\"stroke:none;\" d=\"M 3.96875 -2.96875 L 3.96875 -6.78125 L 1.28125 -2.96875 Z M 3.984375 0 L 3.984375 -2.046875 L 0.3125 -2.046875 L 0.3125 -3.078125 L 4.15625 -8.421875 L 5.046875 -8.421875 L 5.046875 -2.96875 L 6.28125 -2.96875 L 6.28125 -2.046875 L 5.046875 -2.046875 L 5.046875 0 Z \"/>\n",
       "</symbol>\n",
       "<symbol overflow=\"visible\" id=\"glyph0-4\">\n",
       "<path style=\"stroke:none;\" d=\"M 3.515625 -8.421875 C 4.453125 -8.421875 5.101562 -8.175781 5.46875 -7.6875 C 5.84375 -7.207031 6.03125 -6.707031 6.03125 -6.1875 L 4.984375 -6.1875 C 4.921875 -6.519531 4.820312 -6.78125 4.6875 -6.96875 C 4.425781 -7.320312 4.039062 -7.5 3.53125 -7.5 C 2.9375 -7.5 2.460938 -7.222656 2.109375 -6.671875 C 1.765625 -6.128906 1.578125 -5.351562 1.546875 -4.34375 C 1.785156 -4.695312 2.085938 -4.960938 2.453125 -5.140625 C 2.785156 -5.296875 3.160156 -5.375 3.578125 -5.375 C 4.285156 -5.375 4.898438 -5.148438 5.421875 -4.703125 C 5.941406 -4.253906 6.203125 -3.582031 6.203125 -2.6875 C 6.203125 -1.925781 5.953125 -1.25 5.453125 -0.65625 C 4.960938 -0.0703125 4.257812 0.21875 3.34375 0.21875 C 2.550781 0.21875 1.867188 -0.078125 1.296875 -0.671875 C 0.734375 -1.273438 0.453125 -2.28125 0.453125 -3.6875 C 0.453125 -4.726562 0.578125 -5.613281 0.828125 -6.34375 C 1.316406 -7.726562 2.210938 -8.421875 3.515625 -8.421875 Z M 3.4375 -0.71875 C 3.988281 -0.71875 4.398438 -0.90625 4.671875 -1.28125 C 4.953125 -1.65625 5.09375 -2.097656 5.09375 -2.609375 C 5.09375 -3.035156 4.96875 -3.441406 4.71875 -3.828125 C 4.476562 -4.210938 4.03125 -4.40625 3.375 -4.40625 C 2.925781 -4.40625 2.53125 -4.253906 2.1875 -3.953125 C 1.84375 -3.660156 1.671875 -3.210938 1.671875 -2.609375 C 1.671875 -2.078125 1.828125 -1.628906 2.140625 -1.265625 C 2.453125 -0.898438 2.882812 -0.71875 3.4375 -0.71875 Z \"/>\n",
       "</symbol>\n",
       "<symbol overflow=\"visible\" id=\"glyph0-5\">\n",
       "<path style=\"stroke:none;\" d=\"M 3.265625 -4.875 C 3.734375 -4.875 4.097656 -5.003906 4.359375 -5.265625 C 4.617188 -5.523438 4.75 -5.832031 4.75 -6.1875 C 4.75 -6.5 4.625 -6.785156 4.375 -7.046875 C 4.125 -7.316406 3.742188 -7.453125 3.234375 -7.453125 C 2.722656 -7.453125 2.351562 -7.316406 2.125 -7.046875 C 1.894531 -6.785156 1.78125 -6.484375 1.78125 -6.140625 C 1.78125 -5.742188 1.925781 -5.429688 2.21875 -5.203125 C 2.519531 -4.984375 2.867188 -4.875 3.265625 -4.875 Z M 3.328125 -0.71875 C 3.816406 -0.71875 4.222656 -0.847656 4.546875 -1.109375 C 4.867188 -1.378906 5.03125 -1.773438 5.03125 -2.296875 C 5.03125 -2.835938 4.863281 -3.25 4.53125 -3.53125 C 4.195312 -3.8125 3.769531 -3.953125 3.25 -3.953125 C 2.75 -3.953125 2.335938 -3.804688 2.015625 -3.515625 C 1.703125 -3.234375 1.546875 -2.835938 1.546875 -2.328125 C 1.546875 -1.890625 1.691406 -1.507812 1.984375 -1.1875 C 2.273438 -0.875 2.722656 -0.71875 3.328125 -0.71875 Z M 1.828125 -4.46875 C 1.535156 -4.59375 1.304688 -4.738281 1.140625 -4.90625 C 0.835938 -5.21875 0.6875 -5.625 0.6875 -6.125 C 0.6875 -6.75 0.910156 -7.285156 1.359375 -7.734375 C 1.816406 -8.191406 2.457031 -8.421875 3.28125 -8.421875 C 4.09375 -8.421875 4.722656 -8.207031 5.171875 -7.78125 C 5.628906 -7.351562 5.859375 -6.859375 5.859375 -6.296875 C 5.859375 -5.773438 5.726562 -5.347656 5.46875 -5.015625 C 5.320312 -4.835938 5.09375 -4.660156 4.78125 -4.484375 C 5.125 -4.328125 5.394531 -4.144531 5.59375 -3.9375 C 5.96875 -3.539062 6.15625 -3.03125 6.15625 -2.40625 C 6.15625 -1.664062 5.90625 -1.039062 5.40625 -0.53125 C 4.914062 -0.0195312 4.21875 0.234375 3.3125 0.234375 C 2.488281 0.234375 1.796875 0.015625 1.234375 -0.421875 C 0.671875 -0.867188 0.390625 -1.515625 0.390625 -2.359375 C 0.390625 -2.847656 0.507812 -3.273438 0.75 -3.640625 C 0.988281 -4.003906 1.347656 -4.28125 1.828125 -4.46875 Z \"/>\n",
       "</symbol>\n",
       "<symbol overflow=\"visible\" id=\"glyph0-6\">\n",
       "<path style=\"stroke:none;\" d=\"M 1.15625 -5.9375 L 1.15625 -6.75 C 1.914062 -6.820312 2.441406 -6.945312 2.734375 -7.125 C 3.035156 -7.300781 3.265625 -7.710938 3.421875 -8.359375 L 4.25 -8.359375 L 4.25 0 L 3.125 0 L 3.125 -5.9375 Z \"/>\n",
       "</symbol>\n",
       "<symbol overflow=\"visible\" id=\"glyph0-7\">\n",
       "<path style=\"stroke:none;\" d=\"M 1.171875 -8.609375 L 2.359375 -8.609375 L 2.359375 0 L 1.171875 0 Z \"/>\n",
       "</symbol>\n",
       "<symbol overflow=\"visible\" id=\"glyph0-8\">\n",
       "<path style=\"stroke:none;\" d=\"M 0.78125 -6.28125 L 1.78125 -6.28125 L 1.78125 -5.390625 C 2.070312 -5.753906 2.382812 -6.015625 2.71875 -6.171875 C 3.050781 -6.335938 3.421875 -6.421875 3.828125 -6.421875 C 4.710938 -6.421875 5.3125 -6.109375 5.625 -5.484375 C 5.800781 -5.140625 5.890625 -4.65625 5.890625 -4.03125 L 5.890625 0 L 4.8125 0 L 4.8125 -3.953125 C 4.8125 -4.335938 4.753906 -4.644531 4.640625 -4.875 C 4.453125 -5.269531 4.113281 -5.46875 3.625 -5.46875 C 3.375 -5.46875 3.171875 -5.441406 3.015625 -5.390625 C 2.722656 -5.304688 2.46875 -5.132812 2.25 -4.875 C 2.070312 -4.664062 1.957031 -4.453125 1.90625 -4.234375 C 1.851562 -4.015625 1.828125 -3.695312 1.828125 -3.28125 L 1.828125 0 L 0.78125 0 Z M 3.25 -6.421875 Z \"/>\n",
       "</symbol>\n",
       "<symbol overflow=\"visible\" id=\"glyph0-9\">\n",
       "<path style=\"stroke:none;\" d=\"M 1.4375 -3.0625 C 1.4375 -2.394531 1.578125 -1.832031 1.859375 -1.375 C 2.148438 -0.925781 2.609375 -0.703125 3.234375 -0.703125 C 3.722656 -0.703125 4.125 -0.910156 4.4375 -1.328125 C 4.757812 -1.742188 4.921875 -2.347656 4.921875 -3.140625 C 4.921875 -3.929688 4.753906 -4.515625 4.421875 -4.890625 C 4.097656 -5.273438 3.703125 -5.46875 3.234375 -5.46875 C 2.703125 -5.46875 2.269531 -5.265625 1.9375 -4.859375 C 1.601562 -4.453125 1.4375 -3.851562 1.4375 -3.0625 Z M 3.03125 -6.390625 C 3.507812 -6.390625 3.910156 -6.285156 4.234375 -6.078125 C 4.421875 -5.960938 4.632812 -5.757812 4.875 -5.46875 L 4.875 -8.640625 L 5.890625 -8.640625 L 5.890625 0 L 4.9375 0 L 4.9375 -0.875 C 4.695312 -0.488281 4.40625 -0.207031 4.0625 -0.03125 C 3.726562 0.132812 3.34375 0.21875 2.90625 0.21875 C 2.207031 0.21875 1.601562 -0.0703125 1.09375 -0.65625 C 0.582031 -1.25 0.328125 -2.03125 0.328125 -3 C 0.328125 -3.914062 0.5625 -4.707031 1.03125 -5.375 C 1.5 -6.050781 2.164062 -6.390625 3.03125 -6.390625 Z \"/>\n",
       "</symbol>\n",
       "<symbol overflow=\"visible\" id=\"glyph0-10\">\n",
       "<path style=\"stroke:none;\" d=\"M 3.390625 -6.421875 C 3.835938 -6.421875 4.269531 -6.316406 4.6875 -6.109375 C 5.101562 -5.898438 5.421875 -5.628906 5.640625 -5.296875 C 5.847656 -4.972656 5.988281 -4.601562 6.0625 -4.1875 C 6.125 -3.894531 6.15625 -3.429688 6.15625 -2.796875 L 1.546875 -2.796875 C 1.566406 -2.160156 1.71875 -1.648438 2 -1.265625 C 2.28125 -0.878906 2.71875 -0.6875 3.3125 -0.6875 C 3.863281 -0.6875 4.300781 -0.867188 4.625 -1.234375 C 4.8125 -1.441406 4.945312 -1.6875 5.03125 -1.96875 L 6.0625 -1.96875 C 6.039062 -1.738281 5.953125 -1.484375 5.796875 -1.203125 C 5.640625 -0.921875 5.46875 -0.6875 5.28125 -0.5 C 4.957031 -0.1875 4.554688 0.0195312 4.078125 0.125 C 3.828125 0.1875 3.539062 0.21875 3.21875 0.21875 C 2.4375 0.21875 1.773438 -0.0625 1.234375 -0.625 C 0.691406 -1.195312 0.421875 -1.992188 0.421875 -3.015625 C 0.421875 -4.023438 0.691406 -4.84375 1.234375 -5.46875 C 1.785156 -6.101562 2.503906 -6.421875 3.390625 -6.421875 Z M 5.0625 -3.640625 C 5.019531 -4.097656 4.921875 -4.460938 4.765625 -4.734375 C 4.484375 -5.242188 4.003906 -5.5 3.328125 -5.5 C 2.835938 -5.5 2.425781 -5.320312 2.09375 -4.96875 C 1.769531 -4.625 1.597656 -4.179688 1.578125 -3.640625 Z M 3.28125 -6.421875 Z \"/>\n",
       "</symbol>\n",
       "<symbol overflow=\"visible\" id=\"glyph0-11\">\n",
       "<path style=\"stroke:none;\" d=\"M 0.171875 -6.28125 L 1.546875 -6.28125 L 2.984375 -4.0625 L 4.4375 -6.28125 L 5.71875 -6.25 L 3.609375 -3.21875 L 5.8125 0 L 4.46875 0 L 2.90625 -2.359375 L 1.40625 0 L 0.0625 0 L 2.28125 -3.21875 Z \"/>\n",
       "</symbol>\n",
       "<symbol overflow=\"visible\" id=\"glyph1-0\">\n",
       "<path style=\"stroke:none;\" d=\"M 0 -0.390625 L -8.609375 -0.390625 L -8.609375 -7.21875 L 0 -7.21875 Z M -1.078125 -6.140625 L -7.53125 -6.140625 L -7.53125 -1.46875 L -1.078125 -1.46875 Z \"/>\n",
       "</symbol>\n",
       "<symbol overflow=\"visible\" id=\"glyph1-1\">\n",
       "<path style=\"stroke:none;\" d=\"M -8.390625 -3.25 C -8.390625 -4.332031 -7.941406 -5.117188 -7.046875 -5.609375 C -6.359375 -5.984375 -5.410156 -6.171875 -4.203125 -6.171875 C -3.066406 -6.171875 -2.125 -6 -1.375 -5.65625 C -0.300781 -5.164062 0.234375 -4.359375 0.234375 -3.234375 C 0.234375 -2.234375 -0.203125 -1.484375 -1.078125 -0.984375 C -1.816406 -0.578125 -2.800781 -0.375 -4.03125 -0.375 C -4.976562 -0.375 -5.796875 -0.5 -6.484375 -0.75 C -7.753906 -1.207031 -8.390625 -2.039062 -8.390625 -3.25 Z M -0.734375 -3.234375 C -0.734375 -3.785156 -0.972656 -4.222656 -1.453125 -4.546875 C -1.941406 -4.867188 -2.847656 -5.03125 -4.171875 -5.03125 C -5.117188 -5.03125 -5.898438 -4.910156 -6.515625 -4.671875 C -7.128906 -4.441406 -7.4375 -3.988281 -7.4375 -3.3125 C -7.4375 -2.6875 -7.144531 -2.226562 -6.5625 -1.9375 C -5.976562 -1.65625 -5.117188 -1.515625 -3.984375 -1.515625 C -3.128906 -1.515625 -2.441406 -1.609375 -1.921875 -1.796875 C -1.128906 -2.078125 -0.734375 -2.554688 -0.734375 -3.234375 Z \"/>\n",
       "</symbol>\n",
       "<symbol overflow=\"visible\" id=\"glyph1-2\">\n",
       "<path style=\"stroke:none;\" d=\"M -2.140625 -1.484375 C -1.535156 -1.554688 -1.117188 -1.835938 -0.890625 -2.328125 C -0.773438 -2.578125 -0.71875 -2.863281 -0.71875 -3.1875 C -0.71875 -3.8125 -0.914062 -4.273438 -1.3125 -4.578125 C -1.707031 -4.878906 -2.148438 -5.03125 -2.640625 -5.03125 C -3.222656 -5.03125 -3.675781 -4.847656 -4 -4.484375 C -4.320312 -4.128906 -4.484375 -3.703125 -4.484375 -3.203125 C -4.484375 -2.835938 -4.410156 -2.523438 -4.265625 -2.265625 C -4.128906 -2.003906 -3.9375 -1.785156 -3.6875 -1.609375 L -3.734375 -0.6875 L -8.25 -1.328125 L -8.25 -5.6875 L -7.234375 -5.6875 L -7.234375 -2.125 L -4.90625 -1.765625 C -5.050781 -1.960938 -5.160156 -2.148438 -5.234375 -2.328125 C -5.359375 -2.640625 -5.421875 -3 -5.421875 -3.40625 C -5.421875 -4.175781 -5.171875 -4.828125 -4.671875 -5.359375 C -4.179688 -5.898438 -3.554688 -6.171875 -2.796875 -6.171875 C -2.003906 -6.171875 -1.300781 -5.921875 -0.6875 -5.421875 C -0.0820312 -4.929688 0.21875 -4.148438 0.21875 -3.078125 C 0.21875 -2.398438 0.0234375 -1.796875 -0.359375 -1.265625 C -0.742188 -0.742188 -1.335938 -0.453125 -2.140625 -0.390625 Z \"/>\n",
       "</symbol>\n",
       "<symbol overflow=\"visible\" id=\"glyph1-3\">\n",
       "<path style=\"stroke:none;\" d=\"M -5.9375 -1.15625 L -6.75 -1.15625 C -6.820312 -1.914062 -6.945312 -2.441406 -7.125 -2.734375 C -7.300781 -3.035156 -7.710938 -3.265625 -8.359375 -3.421875 L -8.359375 -4.25 L 0 -4.25 L 0 -3.125 L -5.9375 -3.125 Z \"/>\n",
       "</symbol>\n",
       "<symbol overflow=\"visible\" id=\"glyph1-4\">\n",
       "<path style=\"stroke:none;\" d=\"M -6.28125 -0.796875 L -6.28125 -1.8125 L -5.1875 -1.8125 C -5.40625 -1.882812 -5.664062 -2.082031 -5.96875 -2.40625 C -6.269531 -2.726562 -6.421875 -3.097656 -6.421875 -3.515625 C -6.421875 -3.535156 -6.414062 -3.566406 -6.40625 -3.609375 C -6.40625 -3.660156 -6.398438 -3.742188 -6.390625 -3.859375 L -5.28125 -3.859375 C -5.289062 -3.796875 -5.296875 -3.738281 -5.296875 -3.6875 C -5.296875 -3.632812 -5.296875 -3.578125 -5.296875 -3.515625 C -5.296875 -2.984375 -5.125 -2.570312 -4.78125 -2.28125 C -4.445312 -2 -4.054688 -1.859375 -3.609375 -1.859375 L 0 -1.859375 L 0 -0.796875 Z \"/>\n",
       "</symbol>\n",
       "<symbol overflow=\"visible\" id=\"glyph1-5\">\n",
       "<path style=\"stroke:none;\" d=\"M -6.421875 -3.390625 C -6.421875 -3.835938 -6.316406 -4.269531 -6.109375 -4.6875 C -5.898438 -5.101562 -5.628906 -5.421875 -5.296875 -5.640625 C -4.972656 -5.847656 -4.601562 -5.988281 -4.1875 -6.0625 C -3.894531 -6.125 -3.429688 -6.15625 -2.796875 -6.15625 L -2.796875 -1.546875 C -2.160156 -1.566406 -1.648438 -1.71875 -1.265625 -2 C -0.878906 -2.28125 -0.6875 -2.71875 -0.6875 -3.3125 C -0.6875 -3.863281 -0.867188 -4.300781 -1.234375 -4.625 C -1.441406 -4.8125 -1.6875 -4.945312 -1.96875 -5.03125 L -1.96875 -6.0625 C -1.738281 -6.039062 -1.484375 -5.953125 -1.203125 -5.796875 C -0.921875 -5.640625 -0.6875 -5.46875 -0.5 -5.28125 C -0.1875 -4.957031 0.0195312 -4.554688 0.125 -4.078125 C 0.1875 -3.828125 0.21875 -3.539062 0.21875 -3.21875 C 0.21875 -2.4375 -0.0625 -1.773438 -0.625 -1.234375 C -1.195312 -0.691406 -1.992188 -0.421875 -3.015625 -0.421875 C -4.023438 -0.421875 -4.84375 -0.691406 -5.46875 -1.234375 C -6.101562 -1.785156 -6.421875 -2.503906 -6.421875 -3.390625 Z M -3.640625 -5.0625 C -4.097656 -5.019531 -4.460938 -4.921875 -4.734375 -4.765625 C -5.242188 -4.484375 -5.5 -4.003906 -5.5 -3.328125 C -5.5 -2.835938 -5.320312 -2.425781 -4.96875 -2.09375 C -4.625 -1.769531 -4.179688 -1.597656 -3.640625 -1.578125 Z M -6.421875 -3.28125 Z \"/>\n",
       "</symbol>\n",
       "<symbol overflow=\"visible\" id=\"glyph1-6\">\n",
       "<path style=\"stroke:none;\" d=\"M -1.96875 -1.40625 C -1.613281 -1.4375 -1.34375 -1.523438 -1.15625 -1.671875 C -0.820312 -1.929688 -0.65625 -2.390625 -0.65625 -3.046875 C -0.65625 -3.441406 -0.738281 -3.785156 -0.90625 -4.078125 C -1.070312 -4.378906 -1.332031 -4.53125 -1.6875 -4.53125 C -1.957031 -4.53125 -2.164062 -4.410156 -2.3125 -4.171875 C -2.394531 -4.015625 -2.492188 -3.710938 -2.609375 -3.265625 L -2.8125 -2.421875 C -2.945312 -1.890625 -3.097656 -1.5 -3.265625 -1.25 C -3.546875 -0.789062 -3.941406 -0.5625 -4.453125 -0.5625 C -5.046875 -0.5625 -5.523438 -0.773438 -5.890625 -1.203125 C -6.253906 -1.628906 -6.4375 -2.207031 -6.4375 -2.9375 C -6.4375 -3.875 -6.160156 -4.550781 -5.609375 -4.96875 C -5.253906 -5.238281 -4.875 -5.367188 -4.46875 -5.359375 L -4.46875 -4.359375 C -4.707031 -4.335938 -4.925781 -4.253906 -5.125 -4.109375 C -5.394531 -3.867188 -5.53125 -3.445312 -5.53125 -2.84375 C -5.53125 -2.445312 -5.453125 -2.144531 -5.296875 -1.9375 C -5.148438 -1.738281 -4.953125 -1.640625 -4.703125 -1.640625 C -4.429688 -1.640625 -4.210938 -1.773438 -4.046875 -2.046875 C -3.953125 -2.203125 -3.867188 -2.429688 -3.796875 -2.734375 L -3.625 -3.421875 C -3.4375 -4.179688 -3.257812 -4.691406 -3.09375 -4.953125 C -2.820312 -5.359375 -2.394531 -5.5625 -1.8125 -5.5625 C -1.257812 -5.5625 -0.78125 -5.347656 -0.375 -4.921875 C 0.03125 -4.503906 0.234375 -3.863281 0.234375 -3 C 0.234375 -2.0625 0.0234375 -1.394531 -0.390625 -1 C -0.816406 -0.613281 -1.34375 -0.410156 -1.96875 -0.390625 Z M -6.421875 -2.953125 Z \"/>\n",
       "</symbol>\n",
       "<symbol overflow=\"visible\" id=\"glyph1-7\">\n",
       "<path style=\"stroke:none;\" d=\"M -1.28125 -1.03125 L -1.28125 -2.25 L 0 -2.25 L 0 -1.03125 Z \"/>\n",
       "</symbol>\n",
       "<symbol overflow=\"visible\" id=\"glyph1-8\">\n",
       "<path style=\"stroke:none;\" d=\"M -3.0625 -1.4375 C -2.394531 -1.4375 -1.832031 -1.578125 -1.375 -1.859375 C -0.925781 -2.148438 -0.703125 -2.609375 -0.703125 -3.234375 C -0.703125 -3.722656 -0.910156 -4.125 -1.328125 -4.4375 C -1.742188 -4.757812 -2.347656 -4.921875 -3.140625 -4.921875 C -3.929688 -4.921875 -4.515625 -4.753906 -4.890625 -4.421875 C -5.273438 -4.097656 -5.46875 -3.703125 -5.46875 -3.234375 C -5.46875 -2.703125 -5.265625 -2.269531 -4.859375 -1.9375 C -4.453125 -1.601562 -3.851562 -1.4375 -3.0625 -1.4375 Z M -6.390625 -3.03125 C -6.390625 -3.507812 -6.285156 -3.910156 -6.078125 -4.234375 C -5.960938 -4.421875 -5.757812 -4.632812 -5.46875 -4.875 L -8.640625 -4.875 L -8.640625 -5.890625 L 0 -5.890625 L 0 -4.9375 L -0.875 -4.9375 C -0.488281 -4.695312 -0.207031 -4.40625 -0.03125 -4.0625 C 0.132812 -3.726562 0.21875 -3.34375 0.21875 -2.90625 C 0.21875 -2.207031 -0.0703125 -1.601562 -0.65625 -1.09375 C -1.25 -0.582031 -2.03125 -0.328125 -3 -0.328125 C -3.914062 -0.328125 -4.707031 -0.5625 -5.375 -1.03125 C -6.050781 -1.5 -6.390625 -2.164062 -6.390625 -3.03125 Z \"/>\n",
       "</symbol>\n",
       "<symbol overflow=\"visible\" id=\"glyph1-9\">\n",
       "<path style=\"stroke:none;\" d=\"M -8.84375 -4.546875 C -8.84375 -5.628906 -8.554688 -6.472656 -7.984375 -7.078125 C -7.410156 -7.679688 -6.757812 -8.015625 -6.03125 -8.078125 L -6.03125 -6.9375 C -6.582031 -6.8125 -7.019531 -6.554688 -7.34375 -6.171875 C -7.664062 -5.785156 -7.828125 -5.242188 -7.828125 -4.546875 C -7.828125 -3.703125 -7.53125 -3.019531 -6.9375 -2.5 C -6.34375 -1.976562 -5.429688 -1.71875 -4.203125 -1.71875 C -3.191406 -1.71875 -2.367188 -1.953125 -1.734375 -2.421875 C -1.109375 -2.890625 -0.796875 -3.59375 -0.796875 -4.53125 C -0.796875 -5.382812 -1.128906 -6.039062 -1.796875 -6.5 C -2.140625 -6.726562 -2.597656 -6.90625 -3.171875 -7.03125 L -3.171875 -8.15625 C -2.265625 -8.0625 -1.503906 -7.726562 -0.890625 -7.15625 C -0.148438 -6.46875 0.21875 -5.546875 0.21875 -4.390625 C 0.21875 -3.390625 -0.0820312 -2.550781 -0.6875 -1.875 C -1.488281 -0.976562 -2.722656 -0.53125 -4.390625 -0.53125 C -5.660156 -0.53125 -6.703125 -0.863281 -7.515625 -1.53125 C -8.398438 -2.257812 -8.84375 -3.265625 -8.84375 -4.546875 Z M -8.84375 -4.3125 Z \"/>\n",
       "</symbol>\n",
       "<symbol overflow=\"visible\" id=\"glyph1-10\">\n",
       "<path style=\"stroke:none;\" d=\"M -8.609375 -0.921875 L -8.609375 -2.078125 L -1.03125 -2.078125 L -1.03125 -6.4375 L 0 -6.4375 L 0 -0.921875 Z \"/>\n",
       "</symbol>\n",
       "<symbol overflow=\"visible\" id=\"glyph1-11\">\n",
       "<path style=\"stroke:none;\" d=\"M -1.671875 -1.578125 C -1.367188 -1.578125 -1.128906 -1.6875 -0.953125 -1.90625 C -0.773438 -2.132812 -0.6875 -2.398438 -0.6875 -2.703125 C -0.6875 -3.078125 -0.769531 -3.4375 -0.9375 -3.78125 C -1.226562 -4.375 -1.695312 -4.671875 -2.34375 -4.671875 L -3.1875 -4.671875 C -3.113281 -4.535156 -3.046875 -4.363281 -2.984375 -4.15625 C -2.929688 -3.957031 -2.894531 -3.757812 -2.875 -3.5625 L -2.796875 -2.9375 C -2.742188 -2.550781 -2.660156 -2.257812 -2.546875 -2.0625 C -2.367188 -1.738281 -2.078125 -1.578125 -1.671875 -1.578125 Z M -3.796875 -4.140625 C -3.828125 -4.378906 -3.929688 -4.539062 -4.109375 -4.625 C -4.203125 -4.664062 -4.335938 -4.6875 -4.515625 -4.6875 C -4.867188 -4.6875 -5.125 -4.554688 -5.28125 -4.296875 C -5.445312 -4.046875 -5.53125 -3.6875 -5.53125 -3.21875 C -5.53125 -2.664062 -5.382812 -2.273438 -5.09375 -2.046875 C -4.925781 -1.910156 -4.679688 -1.820312 -4.359375 -1.78125 L -4.359375 -0.796875 C -5.128906 -0.816406 -5.664062 -1.066406 -5.96875 -1.546875 C -6.269531 -2.035156 -6.421875 -2.597656 -6.421875 -3.234375 C -6.421875 -3.972656 -6.28125 -4.570312 -6 -5.03125 C -5.71875 -5.488281 -5.28125 -5.71875 -4.6875 -5.71875 L -1.078125 -5.71875 C -0.972656 -5.71875 -0.882812 -5.738281 -0.8125 -5.78125 C -0.75 -5.832031 -0.71875 -5.929688 -0.71875 -6.078125 C -0.71875 -6.117188 -0.71875 -6.164062 -0.71875 -6.21875 C -0.726562 -6.28125 -0.738281 -6.347656 -0.75 -6.421875 L 0.03125 -6.421875 C 0.0703125 -6.253906 0.0976562 -6.125 0.109375 -6.03125 C 0.128906 -5.945312 0.140625 -5.832031 0.140625 -5.6875 C 0.140625 -5.320312 0.0078125 -5.0625 -0.25 -4.90625 C -0.382812 -4.8125 -0.578125 -4.75 -0.828125 -4.71875 C -0.546875 -4.5 -0.300781 -4.1875 -0.09375 -3.78125 C 0.113281 -3.382812 0.21875 -2.945312 0.21875 -2.46875 C 0.21875 -1.882812 0.0390625 -1.40625 -0.3125 -1.03125 C -0.664062 -0.664062 -1.109375 -0.484375 -1.640625 -0.484375 C -2.222656 -0.484375 -2.675781 -0.664062 -3 -1.03125 C -3.320312 -1.394531 -3.519531 -1.867188 -3.59375 -2.453125 Z M -6.421875 -3.265625 Z \"/>\n",
       "</symbol>\n",
       "<symbol overflow=\"visible\" id=\"glyph1-12\">\n",
       "<path style=\"stroke:none;\" d=\"M -6.28125 -0.78125 L -6.28125 -1.8125 L -5.390625 -1.8125 C -5.691406 -2.0625 -5.914062 -2.289062 -6.0625 -2.5 C -6.300781 -2.84375 -6.421875 -3.238281 -6.421875 -3.6875 C -6.421875 -4.1875 -6.296875 -4.585938 -6.046875 -4.890625 C -5.910156 -5.054688 -5.703125 -5.210938 -5.421875 -5.359375 C -5.765625 -5.585938 -6.015625 -5.859375 -6.171875 -6.171875 C -6.335938 -6.492188 -6.421875 -6.851562 -6.421875 -7.25 C -6.421875 -8.09375 -6.113281 -8.664062 -5.5 -8.96875 C -5.175781 -9.132812 -4.734375 -9.21875 -4.171875 -9.21875 L 0 -9.21875 L 0 -8.125 L -4.359375 -8.125 C -4.773438 -8.125 -5.0625 -8.019531 -5.21875 -7.8125 C -5.375 -7.601562 -5.453125 -7.347656 -5.453125 -7.046875 C -5.453125 -6.628906 -5.3125 -6.269531 -5.03125 -5.96875 C -4.757812 -5.675781 -4.300781 -5.53125 -3.65625 -5.53125 L 0 -5.53125 L 0 -4.453125 L -4.09375 -4.453125 C -4.519531 -4.453125 -4.832031 -4.398438 -5.03125 -4.296875 C -5.320312 -4.140625 -5.46875 -3.84375 -5.46875 -3.40625 C -5.46875 -3.007812 -5.3125 -2.644531 -5 -2.3125 C -4.695312 -1.988281 -4.140625 -1.828125 -3.328125 -1.828125 L 0 -1.828125 L 0 -0.78125 Z \"/>\n",
       "</symbol>\n",
       "<symbol overflow=\"visible\" id=\"glyph1-13\">\n",
       "<path style=\"stroke:none;\" d=\"M 0 -0.375 C -0.71875 -0.414062 -1.34375 -0.566406 -1.875 -0.828125 C -2.414062 -1.085938 -2.90625 -1.59375 -3.34375 -2.34375 L -4 -3.46875 C -4.289062 -3.96875 -4.539062 -4.320312 -4.75 -4.53125 C -5.070312 -4.851562 -5.441406 -5.015625 -5.859375 -5.015625 C -6.347656 -5.015625 -6.734375 -4.863281 -7.015625 -4.5625 C -7.304688 -4.269531 -7.453125 -3.882812 -7.453125 -3.40625 C -7.453125 -2.675781 -7.179688 -2.175781 -6.640625 -1.90625 C -6.335938 -1.75 -5.929688 -1.664062 -5.421875 -1.65625 L -5.421875 -0.578125 C -6.148438 -0.585938 -6.742188 -0.722656 -7.203125 -0.984375 C -8.015625 -1.441406 -8.421875 -2.25 -8.421875 -3.40625 C -8.421875 -4.363281 -8.160156 -5.0625 -7.640625 -5.5 C -7.117188 -5.945312 -6.539062 -6.171875 -5.90625 -6.171875 C -5.238281 -6.171875 -4.664062 -5.9375 -4.1875 -5.46875 C -3.90625 -5.195312 -3.566406 -4.707031 -3.171875 -4 L -2.734375 -3.1875 C -2.523438 -2.8125 -2.320312 -2.515625 -2.125 -2.296875 C -1.789062 -1.898438 -1.414062 -1.648438 -1 -1.546875 L -1 -6.140625 L 0 -6.140625 Z \"/>\n",
       "</symbol>\n",
       "<symbol overflow=\"visible\" id=\"glyph1-14\">\n",
       "<path style=\"stroke:none;\" d=\"M 0.234375 -3.125 C 0.234375 -2.125 -0.0351562 -1.398438 -0.578125 -0.953125 C -1.128906 -0.503906 -1.796875 -0.28125 -2.578125 -0.28125 L -2.578125 -1.390625 C -2.035156 -1.429688 -1.640625 -1.53125 -1.390625 -1.6875 C -0.953125 -1.96875 -0.734375 -2.460938 -0.734375 -3.171875 C -0.734375 -3.734375 -0.878906 -4.179688 -1.171875 -4.515625 C -1.472656 -4.847656 -1.859375 -5.015625 -2.328125 -5.015625 C -2.898438 -5.015625 -3.300781 -4.835938 -3.53125 -4.484375 C -3.769531 -4.128906 -3.890625 -3.640625 -3.890625 -3.015625 C -3.890625 -2.941406 -3.882812 -2.867188 -3.875 -2.796875 C -3.875 -2.722656 -3.875 -2.648438 -3.875 -2.578125 L -4.8125 -2.578125 C -4.789062 -2.691406 -4.78125 -2.785156 -4.78125 -2.859375 C -4.78125 -2.929688 -4.78125 -3.007812 -4.78125 -3.09375 C -4.78125 -3.488281 -4.84375 -3.8125 -4.96875 -4.0625 C -5.1875 -4.507812 -5.578125 -4.734375 -6.140625 -4.734375 C -6.554688 -4.734375 -6.875 -4.582031 -7.09375 -4.28125 C -7.320312 -3.988281 -7.4375 -3.644531 -7.4375 -3.25 C -7.4375 -2.550781 -7.203125 -2.066406 -6.734375 -1.796875 C -6.484375 -1.648438 -6.117188 -1.566406 -5.640625 -1.546875 L -5.640625 -0.5 C -6.265625 -0.5 -6.796875 -0.625 -7.234375 -0.875 C -8.015625 -1.300781 -8.40625 -2.054688 -8.40625 -3.140625 C -8.40625 -3.992188 -8.210938 -4.65625 -7.828125 -5.125 C -7.453125 -5.59375 -6.898438 -5.828125 -6.171875 -5.828125 C -5.660156 -5.828125 -5.242188 -5.691406 -4.921875 -5.421875 C -4.722656 -5.242188 -4.566406 -5.019531 -4.453125 -4.75 C -4.328125 -5.1875 -4.09375 -5.53125 -3.75 -5.78125 C -3.40625 -6.03125 -2.984375 -6.15625 -2.484375 -6.15625 C -1.679688 -6.15625 -1.023438 -5.890625 -0.515625 -5.359375 C -0.015625 -4.835938 0.234375 -4.09375 0.234375 -3.125 Z \"/>\n",
       "</symbol>\n",
       "<symbol overflow=\"visible\" id=\"glyph1-15\">\n",
       "<path style=\"stroke:none;\" d=\"M -4.875 -3.265625 C -4.875 -3.734375 -5.003906 -4.097656 -5.265625 -4.359375 C -5.523438 -4.617188 -5.832031 -4.75 -6.1875 -4.75 C -6.5 -4.75 -6.785156 -4.625 -7.046875 -4.375 C -7.316406 -4.125 -7.453125 -3.742188 -7.453125 -3.234375 C -7.453125 -2.722656 -7.316406 -2.351562 -7.046875 -2.125 C -6.785156 -1.894531 -6.484375 -1.78125 -6.140625 -1.78125 C -5.742188 -1.78125 -5.429688 -1.925781 -5.203125 -2.21875 C -4.984375 -2.519531 -4.875 -2.867188 -4.875 -3.265625 Z M -0.71875 -3.328125 C -0.71875 -3.816406 -0.847656 -4.222656 -1.109375 -4.546875 C -1.378906 -4.867188 -1.773438 -5.03125 -2.296875 -5.03125 C -2.835938 -5.03125 -3.25 -4.863281 -3.53125 -4.53125 C -3.8125 -4.195312 -3.953125 -3.769531 -3.953125 -3.25 C -3.953125 -2.75 -3.804688 -2.335938 -3.515625 -2.015625 C -3.234375 -1.703125 -2.835938 -1.546875 -2.328125 -1.546875 C -1.890625 -1.546875 -1.507812 -1.691406 -1.1875 -1.984375 C -0.875 -2.273438 -0.71875 -2.722656 -0.71875 -3.328125 Z M -4.46875 -1.828125 C -4.59375 -1.535156 -4.738281 -1.304688 -4.90625 -1.140625 C -5.21875 -0.835938 -5.625 -0.6875 -6.125 -0.6875 C -6.75 -0.6875 -7.285156 -0.910156 -7.734375 -1.359375 C -8.191406 -1.816406 -8.421875 -2.457031 -8.421875 -3.28125 C -8.421875 -4.09375 -8.207031 -4.722656 -7.78125 -5.171875 C -7.351562 -5.628906 -6.859375 -5.859375 -6.296875 -5.859375 C -5.773438 -5.859375 -5.347656 -5.726562 -5.015625 -5.46875 C -4.835938 -5.320312 -4.660156 -5.09375 -4.484375 -4.78125 C -4.328125 -5.125 -4.144531 -5.394531 -3.9375 -5.59375 C -3.539062 -5.96875 -3.03125 -6.15625 -2.40625 -6.15625 C -1.664062 -6.15625 -1.039062 -5.90625 -0.53125 -5.40625 C -0.0195312 -4.914062 0.234375 -4.21875 0.234375 -3.3125 C 0.234375 -2.488281 0.015625 -1.796875 -0.421875 -1.234375 C -0.867188 -0.671875 -1.515625 -0.390625 -2.359375 -0.390625 C -2.847656 -0.390625 -3.273438 -0.507812 -3.640625 -0.75 C -4.003906 -0.988281 -4.28125 -1.347656 -4.46875 -1.828125 Z \"/>\n",
       "</symbol>\n",
       "<symbol overflow=\"visible\" id=\"glyph1-16\">\n",
       "<path style=\"stroke:none;\" d=\"M -0.609375 -3.578125 C -0.640625 -4.242188 -0.882812 -4.707031 -1.34375 -4.96875 C -1.570312 -5.09375 -1.84375 -5.15625 -2.15625 -5.15625 C -2.644531 -5.15625 -3.015625 -4.976562 -3.265625 -4.625 C -3.421875 -4.414062 -3.5625 -4.066406 -3.6875 -3.578125 Z M -6.265625 -1.59375 C -5.878906 -1.59375 -5.578125 -1.71875 -5.359375 -1.96875 C -5.140625 -2.226562 -4.988281 -2.578125 -4.90625 -3.015625 L -7.65625 -3.015625 C -7.632812 -2.503906 -7.476562 -2.140625 -7.1875 -1.921875 C -6.894531 -1.703125 -6.585938 -1.59375 -6.265625 -1.59375 Z M -6.1875 -0.546875 C -6.78125 -0.546875 -7.316406 -0.757812 -7.796875 -1.1875 C -8.273438 -1.625 -8.519531 -2.238281 -8.53125 -3.03125 L -9.3125 -3.03125 L -9.3125 -3.578125 L -8.53125 -3.578125 C -8.476562 -4.359375 -8.25 -4.957031 -7.84375 -5.375 C -7.445312 -5.789062 -6.914062 -6.007812 -6.25 -6.03125 L -6.25 -5 C -6.539062 -4.96875 -6.796875 -4.890625 -7.015625 -4.765625 C -7.410156 -4.515625 -7.617188 -4.117188 -7.640625 -3.578125 L -4.78125 -3.578125 C -4.53125 -4.484375 -4.296875 -5.097656 -4.078125 -5.421875 C -3.703125 -5.953125 -3.15625 -6.21875 -2.4375 -6.21875 C -1.40625 -6.21875 -0.671875 -5.878906 -0.234375 -5.203125 C 0.015625 -4.828125 0.175781 -4.285156 0.25 -3.578125 L 1.390625 -3.578125 L 1.390625 -3.03125 L 0.25 -3.03125 C 0.175781 -1.882812 -0.222656 -1.109375 -0.953125 -0.703125 C -1.347656 -0.484375 -1.882812 -0.375 -2.5625 -0.375 L -2.5625 -1.40625 C -2.019531 -1.4375 -1.628906 -1.523438 -1.390625 -1.671875 C -0.941406 -1.910156 -0.691406 -2.359375 -0.640625 -3.015625 L -3.828125 -3.015625 C -3.992188 -2.171875 -4.265625 -1.546875 -4.640625 -1.140625 C -5.015625 -0.742188 -5.53125 -0.546875 -6.1875 -0.546875 Z \"/>\n",
       "</symbol>\n",
       "<symbol overflow=\"visible\" id=\"glyph1-17\">\n",
       "<path style=\"stroke:none;\" d=\"M -8.640625 -0.6875 L -8.640625 -1.71875 L -5.515625 -1.71875 C -5.816406 -1.945312 -6.046875 -2.222656 -6.203125 -2.546875 C -6.359375 -2.867188 -6.4375 -3.21875 -6.4375 -3.59375 C -6.4375 -4.375 -6.164062 -5.003906 -5.625 -5.484375 C -5.09375 -5.972656 -4.304688 -6.21875 -3.265625 -6.21875 C -2.265625 -6.21875 -1.4375 -5.976562 -0.78125 -5.5 C -0.125 -5.019531 0.203125 -4.351562 0.203125 -3.5 C 0.203125 -3.019531 0.0859375 -2.617188 -0.140625 -2.296875 C -0.285156 -2.097656 -0.503906 -1.890625 -0.796875 -1.671875 L 0 -1.671875 L 0 -0.6875 Z M -0.734375 -3.4375 C -0.734375 -4.007812 -0.957031 -4.4375 -1.40625 -4.71875 C -1.863281 -5 -2.460938 -5.140625 -3.203125 -5.140625 C -3.867188 -5.140625 -4.414062 -5 -4.84375 -4.71875 C -5.28125 -4.4375 -5.5 -4.019531 -5.5 -3.46875 C -5.5 -2.988281 -5.320312 -2.566406 -4.96875 -2.203125 C -4.613281 -1.835938 -4.023438 -1.65625 -3.203125 -1.65625 C -2.617188 -1.65625 -2.140625 -1.726562 -1.765625 -1.875 C -1.078125 -2.15625 -0.734375 -2.675781 -0.734375 -3.4375 Z \"/>\n",
       "</symbol>\n",
       "<symbol overflow=\"visible\" id=\"glyph1-18\">\n",
       "<path style=\"stroke:none;\" d=\"M -8.609375 -0.890625 L -8.609375 -2.5625 L -1.328125 -5.03125 L -8.609375 -7.484375 L -8.609375 -9.140625 L 0 -9.140625 L 0 -8.03125 L -5.078125 -8.03125 C -5.253906 -8.03125 -5.546875 -8.03125 -5.953125 -8.03125 C -6.359375 -8.039062 -6.796875 -8.046875 -7.265625 -8.046875 L 0 -5.59375 L 0 -4.4375 L -7.265625 -1.96875 L -7 -1.96875 C -6.789062 -1.96875 -6.46875 -1.972656 -6.03125 -1.984375 C -5.601562 -1.992188 -5.285156 -2 -5.078125 -2 L 0 -2 L 0 -0.890625 Z \"/>\n",
       "</symbol>\n",
       "<symbol overflow=\"visible\" id=\"glyph1-19\">\n",
       "<path style=\"stroke:none;\" d=\"M -6.28125 -0.78125 L -6.28125 -1.78125 L -5.390625 -1.78125 C -5.753906 -2.070312 -6.015625 -2.382812 -6.171875 -2.71875 C -6.335938 -3.050781 -6.421875 -3.421875 -6.421875 -3.828125 C -6.421875 -4.710938 -6.109375 -5.3125 -5.484375 -5.625 C -5.140625 -5.800781 -4.65625 -5.890625 -4.03125 -5.890625 L 0 -5.890625 L 0 -4.8125 L -3.953125 -4.8125 C -4.335938 -4.8125 -4.644531 -4.753906 -4.875 -4.640625 C -5.269531 -4.453125 -5.46875 -4.113281 -5.46875 -3.625 C -5.46875 -3.375 -5.441406 -3.171875 -5.390625 -3.015625 C -5.304688 -2.722656 -5.132812 -2.46875 -4.875 -2.25 C -4.664062 -2.070312 -4.453125 -1.957031 -4.234375 -1.90625 C -4.015625 -1.851562 -3.695312 -1.828125 -3.28125 -1.828125 L 0 -1.828125 L 0 -0.78125 Z M -6.421875 -3.25 Z \"/>\n",
       "</symbol>\n",
       "<symbol overflow=\"visible\" id=\"glyph1-20\">\n",
       "<path style=\"stroke:none;\" d=\"M -8.671875 -0.75 L -8.671875 -3 L -7.8125 -3 L -7.8125 -1.75 L 1.5 -1.75 L 1.5 -3 L 2.359375 -3 L 2.359375 -0.75 Z \"/>\n",
       "</symbol>\n",
       "<symbol overflow=\"visible\" id=\"glyph1-21\">\n",
       "<path style=\"stroke:none;\" d=\"M -6.1875 -1.328125 L -6.1875 -2.5625 L -4.921875 -2.5625 L -4.921875 -1.328125 Z M -1.28125 -1.328125 L -1.28125 -2.5625 L 0 -2.5625 L 0 -1.328125 Z \"/>\n",
       "</symbol>\n",
       "<symbol overflow=\"visible\" id=\"glyph1-22\">\n",
       "<path style=\"stroke:none;\" d=\"M 1.5 -0.28125 L 1.5 -1.53125 L -7.8125 -1.53125 L -7.8125 -0.28125 L -8.671875 -0.28125 L -8.671875 -2.53125 L 2.359375 -2.53125 L 2.359375 -0.28125 Z \"/>\n",
       "</symbol>\n",
       "</g>\n",
       "</defs>\n",
       "<g id=\"surface26\">\n",
       "<rect x=\"0\" y=\"0\" width=\"504\" height=\"504\" style=\"fill:rgb(100%,100%,100%);fill-opacity:1;stroke:none;\"/>\n",
       "<path style=\"fill:none;stroke-width:0.75;stroke-linecap:round;stroke-linejoin:round;stroke:rgb(0%,0%,0%);stroke-opacity:1;stroke-miterlimit:10;\" d=\"M 74.398438 415.507812 L 74.4375 415.507812 L 74.476562 415.207031 L 74.515625 414.875 L 74.554688 416.5 L 74.59375 416.5 L 74.628906 414.636719 L 74.667969 416.269531 L 74.746094 416.269531 L 74.785156 416.234375 L 74.824219 416.234375 L 74.859375 416.535156 L 74.898438 416.074219 L 74.9375 415.808594 L 74.976562 415.09375 L 75.015625 415.328125 L 75.054688 415.144531 L 75.089844 416.535156 L 75.128906 416.5 L 75.167969 416.234375 L 75.207031 415.351562 L 75.246094 415.820312 L 75.285156 415.972656 L 75.320312 416.042969 L 75.359375 416.042969 L 75.398438 415.324219 L 75.4375 415.550781 L 75.476562 416.078125 L 75.515625 416.199219 L 75.550781 415.28125 L 75.589844 416.042969 L 75.628906 416.386719 L 75.667969 416.386719 L 75.707031 416.234375 L 75.742188 416.097656 L 75.78125 416.097656 L 75.820312 416.027344 L 75.859375 416.5 L 75.898438 413.195312 L 75.9375 413.65625 L 75.972656 416.199219 L 76.011719 415.820312 L 76.050781 412.253906 L 76.089844 412.402344 L 76.128906 416.535156 L 76.167969 416.535156 L 76.203125 415.402344 L 76.242188 415.402344 L 76.28125 416.800781 L 76.320312 416.800781 L 76.359375 416.234375 L 76.398438 416.234375 L 76.433594 416.648438 L 76.472656 416.800781 L 76.511719 416.648438 L 76.550781 416.5 L 76.589844 412.46875 L 76.628906 414.996094 L 76.664062 415.304688 L 76.703125 416.648438 L 76.742188 416.175781 L 76.78125 415.230469 L 76.820312 415.230469 L 76.859375 415.761719 L 76.894531 416.386719 L 76.972656 416.386719 L 77.011719 416.800781 L 77.050781 407.230469 L 77.089844 413.601562 L 77.125 416.800781 L 77.164062 416.023438 L 77.203125 416.328125 L 77.242188 415.3125 L 77.28125 415.582031 L 77.320312 414.996094 L 77.355469 414.996094 L 77.394531 415.546875 L 77.433594 415.480469 L 77.472656 415.105469 L 77.511719 415.40625 L 77.550781 416.269531 L 77.585938 413.011719 L 77.625 412.78125 L 77.664062 414.800781 L 77.703125 413.316406 L 77.742188 413.316406 L 77.78125 413.46875 L 77.816406 416.347656 L 77.855469 415.671875 L 77.894531 416.042969 L 77.933594 415.109375 L 77.972656 416.308594 L 78.011719 416.308594 L 78.046875 415.847656 L 78.085938 416.074219 L 78.125 415.773438 L 78.164062 415.773438 L 78.203125 415.542969 L 78.242188 415.542969 L 78.277344 416.109375 L 78.316406 416.339844 L 78.355469 415.386719 L 78.394531 415.847656 L 78.433594 415.363281 L 78.472656 414.90625 L 78.507812 416.007812 L 78.546875 416.039062 L 78.585938 415.222656 L 78.625 414.75 L 78.664062 415.894531 L 78.703125 416.195312 L 78.738281 415.488281 L 78.777344 415.488281 L 78.816406 415.660156 L 78.855469 415.660156 L 78.894531 416.007812 L 78.933594 416.234375 L 78.96875 416.386719 L 79.007812 415.929688 L 79.046875 415.960938 L 79.085938 415.960938 L 79.125 414.617188 L 79.160156 414.617188 L 79.199219 416.800781 L 79.238281 416.648438 L 79.277344 416.175781 L 79.316406 415.875 L 79.355469 416.1875 L 79.390625 416.648438 L 79.429688 416.800781 L 79.46875 416.800781 L 79.507812 415.578125 L 79.546875 415.507812 L 79.585938 414.828125 L 79.621094 415.621094 L 79.660156 416.1875 L 79.738281 416.1875 L 79.777344 416.648438 L 79.816406 416.386719 L 79.851562 416.386719 L 79.890625 416.800781 L 79.929688 414.375 L 79.96875 414.375 L 80.007812 416.0625 L 80.046875 416.535156 L 80.082031 414.46875 L 80.121094 416.535156 L 80.160156 415.714844 L 80.199219 416.078125 L 80.238281 416.078125 L 80.277344 416.574219 L 80.3125 415.472656 L 80.351562 409.902344 L 80.390625 415.703125 L 80.429688 415.703125 L 80.46875 415.867188 L 80.507812 415.96875 L 80.542969 415.96875 L 80.582031 415.285156 L 80.621094 415.285156 L 80.660156 415.058594 L 80.699219 414.96875 L 80.738281 414.96875 L 80.773438 416.800781 L 80.8125 414.492188 L 80.851562 415.023438 L 80.890625 415.171875 L 80.929688 409.152344 L 80.96875 415.09375 L 81.082031 415.09375 L 81.121094 416.648438 L 81.160156 416.0625 L 81.199219 415.1875 L 81.234375 416.386719 L 81.273438 416.648438 L 81.3125 415.894531 L 81.351562 415.894531 L 81.390625 416.34375 L 81.429688 416.535156 L 81.464844 416.328125 L 81.503906 415.1875 L 81.542969 415.125 L 81.582031 416.535156 L 81.621094 416.648438 L 81.695312 416.648438 L 81.734375 416.800781 L 81.773438 416.800781 L 81.8125 416.234375 L 81.851562 414.875 L 81.890625 416.121094 L 81.925781 415.441406 L 81.964844 415.117188 L 82.003906 415.347656 L 82.042969 416.308594 L 82.082031 416.351562 L 82.121094 416.5 L 82.15625 414.890625 L 82.195312 414.890625 L 82.234375 415.921875 L 82.273438 416.074219 L 82.3125 416.074219 L 82.347656 416.535156 L 82.386719 415.773438 L 82.464844 415.773438 L 82.503906 415.65625 L 82.542969 415.882812 L 82.578125 416.078125 L 82.617188 416.078125 L 82.65625 416.800781 L 82.695312 416.421875 L 82.734375 416.15625 L 82.773438 414.875 L 82.808594 414.910156 L 82.847656 415.332031 L 82.886719 416.097656 L 82.925781 416.097656 L 82.964844 416.800781 L 83.003906 413.925781 L 83.078125 413.925781 L 83.117188 416.1875 L 83.15625 414.445312 L 83.195312 414.128906 L 83.234375 414.191406 L 83.269531 414.191406 L 83.308594 415.175781 L 83.347656 410.980469 L 83.386719 415.171875 L 83.425781 414.367188 L 83.464844 413.90625 L 83.5 415.160156 L 83.539062 415.390625 L 83.578125 415.390625 L 83.617188 415.011719 L 83.65625 415.285156 L 83.695312 412.585938 L 83.730469 413.195312 L 83.769531 413.195312 L 83.808594 413.34375 L 83.847656 416.269531 L 83.886719 415.660156 L 83.925781 415.820312 L 83.960938 416.648438 L 84 416.648438 L 84.039062 415.859375 L 84.078125 414.792969 L 84.117188 414.792969 L 84.15625 415.050781 L 84.191406 415.960938 L 84.230469 415.773438 L 84.269531 415.460938 L 84.308594 413.425781 L 84.347656 413.726562 L 84.421875 413.726562 L 84.460938 413.9375 L 84.539062 413.9375 L 84.578125 413.578125 L 84.617188 413.578125 L 84.652344 416.023438 L 84.691406 415.507812 L 84.730469 415.234375 L 84.769531 415.234375 L 84.808594 415.824219 L 84.847656 415.824219 L 84.882812 415.589844 L 84.921875 414.285156 L 85 414.285156 L 85.039062 414.757812 L 85.078125 415.703125 L 85.113281 415.832031 L 85.152344 416.421875 L 85.191406 416.039062 L 85.230469 414.90625 L 85.269531 414.414062 L 85.308594 414.257812 L 85.34375 415.625 L 85.382812 414.035156 L 85.460938 414.035156 L 85.5 414.074219 L 85.539062 414.074219 L 85.574219 415.738281 L 85.613281 415.4375 L 85.652344 412.023438 L 85.691406 412.519531 L 85.730469 412.671875 L 85.765625 414.941406 L 85.804688 414.820312 L 85.84375 416.648438 L 85.882812 416.5 L 85.921875 414.125 L 85.960938 410.65625 L 85.996094 408.828125 L 86.035156 409.054688 L 86.074219 415.511719 L 86.113281 414.875 L 86.152344 414.34375 L 86.191406 414.976562 L 86.226562 415.140625 L 86.265625 415.140625 L 86.304688 415.671875 L 86.34375 416.234375 L 86.382812 416.800781 L 86.421875 416.339844 L 86.457031 415.324219 L 86.496094 415.660156 L 86.535156 415.207031 L 86.574219 415.667969 L 86.613281 415.929688 L 86.652344 415.855469 L 86.6875 411.574219 L 86.726562 416.800781 L 86.765625 416.800781 L 86.804688 72.800781 L 86.84375 72.800781 L 86.882812 410.730469 L 86.917969 416.648438 L 86.957031 416.648438 L 86.996094 416.535156 L 87.035156 415.425781 L 87.074219 416.5 L 87.113281 416.042969 L 87.148438 416.042969 L 87.1875 416.800781 L 87.226562 415.605469 L 87.265625 414.851562 L 87.304688 414.851562 L 87.34375 416.574219 L 87.378906 416.648438 L 87.574219 416.648438 L 87.609375 415.761719 L 87.648438 415.496094 L 87.6875 416.109375 L 87.726562 414.507812 L 87.765625 415.882812 L 87.804688 415.882812 L 87.839844 416.339844 L 87.878906 415.402344 L 87.917969 414.640625 L 87.957031 414.640625 L 87.996094 414.886719 L 88.035156 415.648438 L 88.070312 416.574219 L 88.109375 416.800781 L 88.148438 416.574219 L 88.1875 416.574219 L 88.226562 415.882812 L 88.265625 416.5 L 88.300781 416.5 L 88.339844 415.628906 L 88.378906 414.988281 L 88.417969 414.722656 L 88.457031 414.460938 L 88.496094 414.347656 L 88.53125 414.347656 L 88.570312 414.988281 L 88.609375 416.0625 L 88.648438 415.261719 L 88.726562 415.261719 L 88.761719 416.109375 L 88.800781 416.574219 L 88.992188 416.574219 L 89.03125 416.328125 L 89.109375 416.328125 L 89.148438 416.234375 L 89.183594 416.234375 L 89.222656 416.800781 L 89.261719 416.800781 L 89.300781 416.535156 L 89.414062 416.535156 L 89.453125 416.800781 L 89.492188 416.535156 L 89.570312 416.535156 L 89.609375 416.5 L 89.644531 416.5 L 89.683594 415.878906 L 89.722656 415.878906 L 89.761719 416.328125 L 89.800781 416.328125 L 89.839844 416.175781 L 89.875 415.875 L 89.914062 416.347656 L 89.953125 416.5 L 89.992188 416.234375 L 90.03125 416.800781 L 90.070312 416.800781 L 90.105469 416.648438 L 90.144531 416.421875 L 90.183594 416.421875 L 90.222656 416.574219 L 90.261719 416.800781 L 90.335938 416.800781 L 90.375 416.023438 L 90.414062 416.023438 L 90.453125 416.234375 L 90.53125 416.234375 L 90.566406 416.5 L 90.605469 416.074219 L 90.644531 415.613281 L 90.683594 415.878906 L 90.761719 415.878906 L 90.796875 416.339844 L 90.835938 415.015625 L 90.875 415.015625 L 90.914062 416.648438 L 90.953125 412.492188 L 90.992188 412.226562 L 91.027344 416.648438 L 91.066406 415.722656 L 91.105469 415.722656 L 91.144531 415.734375 L 91.183594 415.734375 L 91.222656 414.507812 L 91.257812 415.421875 L 91.296875 415.234375 L 91.335938 416.15625 L 91.375 414.976562 L 91.414062 415.390625 L 91.453125 415.703125 L 91.488281 415.703125 L 91.527344 416.421875 L 91.566406 416.328125 L 91.605469 416.097656 L 91.644531 416.097656 L 91.683594 416.648438 L 91.71875 416.648438 L 91.757812 416.421875 L 91.796875 416.574219 L 91.835938 415.832031 L 91.875 415.832031 L 91.914062 178.929688 L 91.949219 178.78125 L 91.988281 415.648438 L 92.027344 416.421875 L 92.066406 415.929688 L 92.105469 413.804688 L 92.140625 414.296875 L 92.179688 414.675781 L 92.21875 416.273438 L 92.257812 415.300781 L 92.296875 414.898438 L 92.335938 416.421875 L 92.371094 415.582031 L 92.410156 412.5 L 92.449219 415.808594 L 92.488281 415.808594 L 92.527344 415.65625 L 92.566406 416.648438 L 92.640625 416.648438 L 92.679688 416.007812 L 92.71875 415.695312 L 92.757812 416.5 L 92.796875 416.386719 L 92.832031 414.851562 L 92.871094 416.039062 L 92.910156 414.554688 L 92.949219 415.8125 L 92.988281 415.402344 L 93.027344 415.714844 L 93.0625 415.558594 L 93.101562 415.558594 L 93.140625 415.40625 L 93.179688 415.558594 L 93.21875 416.339844 L 93.257812 416.5 L 93.371094 416.5 L 93.410156 416.800781 L 93.449219 415.394531 L 93.488281 415.394531 L 93.523438 415.886719 L 93.5625 415.886719 L 93.601562 416.648438 L 93.640625 415.140625 L 93.679688 414.265625 L 93.71875 416.109375 L 93.753906 416.574219 L 93.792969 414.515625 L 93.832031 416.085938 L 93.871094 416.273438 L 93.910156 415.742188 L 93.949219 415.625 L 93.984375 415.851562 L 94.023438 415.648438 L 94.0625 415.648438 L 94.101562 415.421875 L 94.140625 415.421875 L 94.179688 415.027344 L 94.214844 415.949219 L 94.253906 415.59375 L 94.292969 414.039062 L 94.332031 414.039062 L 94.371094 413.964844 L 94.410156 413.851562 L 94.445312 414.832031 L 94.484375 415.910156 L 94.523438 415.761719 L 94.5625 415.761719 L 94.601562 415.773438 L 94.675781 415.773438 L 94.714844 415.613281 L 94.753906 416.574219 L 94.792969 415.972656 L 94.832031 416.347656 L 94.871094 416.5 L 94.90625 416.023438 L 94.945312 414.160156 L 94.984375 414.425781 L 95.023438 414.425781 L 95.0625 415.761719 L 95.101562 416.023438 L 95.136719 416.800781 L 95.253906 416.800781 L 95.292969 412.503906 L 95.332031 412.503906 L 95.367188 414.433594 L 95.40625 414.46875 L 95.445312 415.878906 L 95.484375 414.679688 L 95.523438 414.679688 L 95.558594 415.027344 L 95.597656 415.28125 L 95.636719 415.28125 L 95.675781 415.367188 L 95.714844 415.59375 L 95.753906 415.867188 L 95.789062 416.5 L 95.828125 415.300781 L 95.867188 415.714844 L 95.90625 416.1875 L 95.945312 415.359375 L 95.984375 416.648438 L 96.019531 416.1875 L 96.058594 416.800781 L 96.097656 416.328125 L 96.136719 416.039062 L 96.214844 416.039062 L 96.25 414.589844 L 96.289062 414.589844 L 96.328125 416.535156 L 96.367188 416.535156 L 96.40625 416.34375 L 96.445312 414.652344 L 96.480469 414.503906 L 96.519531 415.4375 L 96.558594 415.589844 L 96.597656 415.355469 L 96.636719 415.355469 L 96.675781 416.648438 L 96.710938 416.648438 L 96.75 416.800781 L 96.789062 416.800781 L 96.828125 414.988281 L 96.867188 413.785156 L 96.90625 413.785156 L 96.941406 398.15625 L 96.980469 398.007812 L 97.019531 416.199219 L 97.058594 415.960938 L 97.097656 415.960938 L 97.136719 416.535156 L 97.171875 413.78125 L 97.210938 414.015625 L 97.25 414.277344 L 97.289062 414.277344 L 97.328125 414.808594 L 97.367188 415.648438 L 97.402344 415.359375 L 97.441406 413.574219 L 97.480469 415.441406 L 97.519531 415.441406 L 97.558594 416.082031 L 97.597656 416.347656 L 97.632812 416.347656 L 97.671875 415.390625 L 97.710938 415.253906 L 97.75 415.253906 L 97.789062 414.535156 L 97.863281 414.535156 L 97.902344 416.339844 L 97.941406 416.121094 L 97.980469 416.421875 L 98.019531 416.800781 L 98.058594 416.5 L 98.09375 416.5 L 98.132812 416.800781 L 98.402344 416.800781 L 98.441406 416.117188 L 98.480469 416.117188 L 98.519531 416.535156 L 98.554688 416.535156 L 98.59375 416.800781 L 98.632812 416.800781 L 98.671875 416.039062 L 98.710938 416.039062 L 98.746094 416.535156 L 98.785156 416.535156 L 98.824219 416.648438 L 98.863281 416.648438 L 98.902344 416.535156 L 98.976562 416.535156 L 99.015625 416.800781 L 99.054688 416.648438 L 99.132812 416.648438 L 99.171875 415.4375 L 99.207031 416.421875 L 99.246094 414.277344 L 99.285156 413.273438 L 99.324219 416.648438 L 99.363281 415.933594 L 99.402344 415.933594 L 99.4375 416.234375 L 99.476562 416.082031 L 99.515625 415.910156 L 99.554688 416.339844 L 99.59375 416.199219 L 99.632812 416.199219 L 99.667969 416.351562 L 99.707031 415.875 L 99.746094 415.613281 L 99.785156 415.796875 L 99.824219 416.269531 L 99.863281 416.308594 L 99.898438 415.324219 L 99.9375 415.058594 L 99.976562 415.019531 L 100.015625 415.136719 L 100.054688 415.402344 L 100.128906 415.402344 L 100.167969 416.386719 L 100.207031 415.921875 L 100.246094 416.800781 L 100.285156 414.640625 L 100.324219 416.121094 L 100.359375 416.121094 L 100.398438 415.382812 L 100.4375 415.3125 L 100.476562 416.800781 L 100.515625 416.5 L 100.628906 416.5 L 100.667969 416.273438 L 100.707031 416.648438 L 100.746094 416.800781 L 100.820312 416.800781 L 100.859375 414.203125 L 100.898438 415.585938 L 100.9375 415.019531 L 100.976562 415.019531 L 101.015625 416.15625 L 101.050781 416.574219 L 101.089844 416.800781 L 101.128906 416.648438 L 101.167969 415.425781 L 101.207031 414.953125 L 101.246094 415.707031 L 101.28125 415.621094 L 101.320312 416.269531 L 101.359375 415.808594 L 101.398438 415.960938 L 101.4375 413.824219 L 101.476562 413.972656 L 101.511719 413.671875 L 101.550781 415.277344 L 101.589844 416.574219 L 101.628906 416.574219 L 101.667969 416.175781 L 101.707031 416.648438 L 101.742188 416.800781 L 101.78125 416.574219 L 101.820312 415.300781 L 101.859375 415.113281 L 101.898438 414.964844 L 101.9375 414.964844 L 101.972656 416.800781 L 102.011719 411.078125 L 102.050781 414.84375 L 102.089844 416.269531 L 102.128906 414.953125 L 102.164062 415.1875 L 102.203125 415.1875 L 102.242188 412.597656 L 102.28125 412.371094 L 102.320312 409.777344 L 102.359375 415.28125 L 102.394531 416.574219 L 102.511719 416.574219 L 102.550781 416.308594 L 102.589844 416.308594 L 102.625 416.078125 L 102.664062 416.078125 L 102.703125 416.308594 L 102.742188 416.308594 L 102.78125 416.535156 L 102.820312 416.648438 L 102.855469 416.648438 L 102.894531 416.386719 L 102.933594 416.535156 L 102.972656 415.082031 L 103.011719 415.308594 L 103.050781 416.007812 L 103.085938 415.535156 L 103.125 414.46875 L 103.164062 412.890625 L 103.203125 415.703125 L 103.242188 413.585938 L 103.28125 403.851562 L 103.316406 416.234375 L 103.355469 416.234375 L 103.394531 415.660156 L 103.472656 415.660156 L 103.511719 415.394531 L 103.546875 416.386719 L 103.585938 416.386719 L 103.625 412.722656 L 103.664062 415.082031 L 103.703125 416.195312 L 103.742188 416.195312 L 103.777344 416.34375 L 103.816406 416.421875 L 103.855469 415.921875 L 103.894531 416.5 L 103.933594 416.046875 L 103.972656 416.046875 L 104.007812 416.195312 L 104.046875 416.109375 L 104.085938 385.441406 L 104.125 415.308594 L 104.164062 415.746094 L 104.203125 408.546875 L 104.238281 405.953125 L 104.277344 395.664062 L 104.316406 399.617188 L 104.355469 413.105469 L 104.394531 409.488281 L 104.433594 414.234375 L 104.46875 413.546875 L 104.507812 411.75 L 104.546875 412.058594 L 104.585938 411.679688 L 104.625 411.09375 L 104.664062 410.792969 L 104.699219 410.605469 L 104.738281 411.953125 L 104.777344 411.863281 L 104.816406 412.046875 L 104.855469 413.164062 L 104.894531 413.46875 L 104.929688 413.734375 L 104.96875 413.089844 L 105.007812 413.515625 L 105.046875 412.304688 L 105.085938 411.292969 L 105.125 411.027344 L 105.160156 411.785156 L 105.199219 412.796875 L 105.238281 410.277344 L 105.277344 408.917969 L 105.316406 408.6875 L 105.351562 410.570312 L 105.390625 411.402344 L 105.429688 410.878906 L 105.46875 410.960938 L 105.507812 411.339844 L 105.546875 412.359375 L 105.582031 412.367188 L 105.621094 412.148438 L 105.660156 411.664062 L 105.699219 413.433594 L 105.738281 413.140625 L 105.777344 413.140625 L 105.8125 409.984375 L 105.851562 410.398438 L 105.890625 406.226562 L 105.929688 406.226562 L 105.96875 412.191406 L 106.007812 412.191406 L 106.042969 414.1875 L 106.082031 416.121094 L 106.121094 415.808594 L 106.160156 416.269531 L 106.199219 416.535156 L 106.238281 413.640625 L 106.273438 415.339844 L 106.3125 416.109375 L 106.351562 412.296875 L 106.390625 414.171875 L 106.429688 412.507812 L 106.46875 413.847656 L 106.503906 414.757812 L 106.542969 415.816406 L 106.582031 413.492188 L 106.660156 413.492188 L 106.699219 413.019531 L 106.734375 413.265625 L 106.773438 411.644531 L 106.8125 410.640625 L 106.851562 412.21875 L 106.890625 412.5 L 106.929688 412.835938 L 106.964844 414.328125 L 107.003906 414.871094 L 107.042969 412.140625 L 107.082031 412.636719 L 107.121094 409.808594 L 107.160156 408.359375 L 107.195312 408.359375 L 107.234375 394.296875 L 107.273438 396.453125 L 107.3125 415.855469 L 107.351562 411.941406 L 107.390625 397.972656 L 107.425781 397.972656 L 107.464844 399.179688 L 107.503906 402.207031 L 107.542969 415.242188 L 107.582031 415.035156 L 107.621094 415.386719 L 107.65625 415.3125 L 107.773438 415.3125 L 107.8125 410.257812 L 107.851562 394.769531 L 107.886719 405.0625 L 107.925781 415.5 L 107.964844 415.035156 L 108.003906 413.714844 L 108.042969 413.714844 L 108.082031 414.621094 L 108.117188 414.621094 L 108.15625 414.507812 L 108.195312 414.46875 L 108.234375 413.980469 L 108.273438 413.984375 L 108.3125 412.238281 L 108.347656 412.324219 L 108.386719 414.289062 L 108.425781 413.984375 L 108.464844 413.984375 L 108.503906 416.648438 L 108.539062 416.386719 L 108.578125 416.386719 L 108.617188 414.683594 L 108.65625 411.269531 L 108.695312 411.003906 L 108.734375 409.214844 L 108.769531 406.558594 L 108.808594 403.507812 L 108.847656 407.425781 L 108.886719 414.070312 L 108.925781 413.382812 L 108.964844 416.421875 L 109 416.421875 L 109.039062 415.585938 L 109.078125 411.546875 L 109.117188 411.546875 L 109.15625 412.039062 L 109.195312 408.53125 L 109.230469 408.53125 L 109.269531 403.539062 L 109.308594 382.3125 L 109.347656 381.460938 L 109.386719 395.738281 L 109.425781 405.375 L 109.460938 404.636719 L 109.5 404.472656 L 109.539062 404.324219 L 109.578125 399.640625 L 109.617188 399.640625 L 109.65625 415.738281 L 109.691406 394.683594 L 109.730469 401.933594 L 109.769531 401.933594 L 109.808594 404.039062 L 109.847656 403.546875 L 109.886719 411.605469 L 109.921875 413.933594 L 109.960938 401.367188 L 110 400.90625 L 110.039062 412.074219 L 110.078125 412.207031 L 110.117188 408.917969 L 110.152344 408.917969 L 110.191406 407.226562 L 110.230469 407.6875 L 110.269531 407.421875 L 110.308594 407.261719 L 110.347656 411.015625 L 110.382812 414.125 L 110.421875 414.125 L 110.460938 410.71875 L 110.5 410.71875 L 110.539062 392.46875 L 110.578125 388.472656 L 110.613281 388.472656 L 110.652344 406.117188 L 110.691406 409.519531 L 110.730469 403.742188 L 110.769531 407.753906 L 110.808594 407.753906 L 110.84375 407.589844 L 110.882812 404.25 L 110.921875 407.785156 L 110.960938 388.226562 L 111 396.394531 L 111.039062 396.621094 L 111.074219 406.765625 L 111.113281 407.066406 L 111.152344 414.679688 L 111.191406 413.652344 L 111.230469 411.304688 L 111.269531 411.304688 L 111.304688 412.996094 L 111.34375 410.015625 L 111.382812 406.753906 L 111.421875 407.019531 L 111.460938 411.800781 L 111.5 410.492188 L 111.535156 398.511719 L 111.574219 398.511719 L 111.613281 393.273438 L 111.652344 382.992188 L 111.691406 382.992188 L 111.730469 403.316406 L 111.765625 403.777344 L 111.804688 408.960938 L 111.84375 408.960938 L 111.882812 411.539062 L 111.921875 404.0625 L 111.957031 406.164062 L 111.996094 405.792969 L 112.035156 412.207031 L 112.113281 412.207031 L 112.152344 409.222656 L 112.1875 405.691406 L 112.226562 408.566406 L 112.265625 406.785156 L 112.304688 400.078125 L 112.34375 268.289062 L 112.382812 267.828125 L 112.417969 252.378906 L 112.457031 410.109375 L 112.496094 410.335938 L 112.535156 410.8125 L 112.574219 410.335938 L 112.613281 412.960938 L 112.648438 413.125 L 112.6875 413.125 L 112.726562 412.066406 L 112.765625 412.066406 L 112.804688 414.144531 L 112.84375 409.792969 L 112.878906 411.539062 L 112.917969 411.539062 L 112.957031 391.199219 L 112.996094 391.199219 L 113.035156 389.445312 L 113.074219 409.996094 L 113.109375 411.5 L 113.148438 413.488281 L 113.1875 410.640625 L 113.226562 411.1875 L 113.265625 407.785156 L 113.304688 393.597656 L 113.339844 398.207031 L 113.378906 399.542969 L 113.417969 399.542969 L 113.457031 408.859375 L 113.496094 405.871094 L 113.535156 410.746094 L 113.570312 413.296875 L 113.609375 413.296875 L 113.648438 415.5 L 113.6875 415.5 L 113.726562 412.28125 L 113.765625 411.554688 L 113.800781 413.488281 L 113.839844 413.640625 L 113.878906 383.429688 L 113.917969 383.429688 L 113.957031 382.097656 L 113.996094 402.140625 L 114.03125 408.996094 L 114.070312 407.800781 L 114.109375 412.070312 L 114.148438 414.160156 L 114.1875 412.933594 L 114.226562 410.082031 L 114.261719 400.390625 L 114.300781 406.230469 L 114.339844 406.378906 L 114.378906 404.976562 L 114.417969 409.941406 L 114.457031 409.421875 L 114.492188 409.421875 L 114.53125 410.828125 L 114.570312 404.363281 L 114.609375 404.363281 L 114.648438 404.117188 L 114.6875 413.792969 L 114.722656 407.851562 L 114.761719 408.589844 L 114.800781 408.441406 L 114.839844 403.128906 L 114.878906 402.863281 L 114.917969 398.945312 L 114.953125 408.132812 L 114.992188 404.773438 L 115.03125 412.039062 L 115.070312 412.039062 L 115.109375 413.699219 L 115.144531 391.667969 L 115.183594 391.519531 L 115.222656 353.824219 L 115.261719 353.546875 L 115.300781 382.582031 L 115.339844 382.28125 L 115.375 413 L 115.414062 414.714844 L 115.492188 414.714844 L 115.53125 414.113281 L 115.570312 407.410156 L 115.605469 407.410156 L 115.644531 391.503906 L 115.683594 392.1875 L 115.722656 370.21875 L 115.761719 370.21875 L 115.800781 415.3125 L 115.835938 415.3125 L 115.875 403.964844 L 115.914062 406.253906 L 115.953125 406.03125 L 115.992188 402.519531 L 116.03125 404.144531 L 116.066406 403.804688 L 116.105469 412.464844 L 116.144531 406.011719 L 116.222656 406.011719 L 116.261719 359.652344 L 116.296875 359.652344 L 116.335938 358.105469 L 116.375 379.984375 L 116.414062 380.433594 L 116.453125 403.472656 L 116.492188 399.035156 L 116.566406 399.035156 L 116.605469 399.335938 L 116.644531 409 L 116.683594 412.070312 L 116.722656 411.996094 L 116.757812 410 L 116.796875 407.707031 L 116.835938 407.707031 L 116.875 407.792969 L 116.914062 405.589844 L 116.953125 405.324219 L 116.988281 404.871094 L 117.027344 413.890625 L 117.066406 415.695312 L 117.105469 414.488281 L 117.183594 414.488281 L 117.21875 415.363281 L 117.257812 409.5625 L 117.296875 409.640625 L 117.335938 404.28125 L 117.375 404.28125 L 117.414062 410.914062 L 117.449219 407.738281 L 117.488281 407.589844 L 117.527344 400.171875 L 117.566406 400.160156 L 117.605469 410.441406 L 117.644531 403.546875 L 117.679688 408.515625 L 117.71875 414.152344 L 117.757812 405.800781 L 117.796875 407.160156 L 117.835938 348.457031 L 117.875 388.609375 L 117.910156 386.320312 L 117.949219 411.175781 L 117.988281 412.738281 L 118.027344 414.65625 L 118.066406 413.679688 L 118.105469 407.496094 L 118.140625 408.675781 L 118.179688 408.375 L 118.21875 397.070312 L 118.257812 397.070312 L 118.296875 358.042969 L 118.335938 415.746094 L 118.371094 411.585938 L 118.410156 412.066406 L 118.449219 412.335938 L 118.488281 412.601562 L 118.527344 411.472656 L 118.5625 409.941406 L 118.601562 411.878906 L 118.640625 412.03125 L 118.679688 386.386719 L 118.71875 386.386719 L 118.757812 409.058594 L 118.792969 409.058594 L 118.832031 386.394531 L 118.871094 397.359375 L 118.910156 396.6875 L 118.949219 396.914062 L 118.988281 412.273438 L 119.023438 413.171875 L 119.0625 413.507812 L 119.101562 408.136719 L 119.140625 403.917969 L 119.179688 403.917969 L 119.21875 343.644531 L 119.253906 344.121094 L 119.292969 343.539062 L 119.332031 413.234375 L 119.371094 413.234375 L 119.410156 413.988281 L 119.449219 411.910156 L 119.484375 408.761719 L 119.523438 408.007812 L 119.5625 411.71875 L 119.601562 407.671875 L 119.640625 407.898438 L 119.679688 405.480469 L 119.714844 411.808594 L 119.753906 412.566406 L 119.792969 411.714844 L 119.832031 413.132812 L 119.871094 412.605469 L 119.910156 411.914062 L 119.945312 412.195312 L 119.984375 409.757812 L 120.023438 411.269531 L 120.0625 409.828125 L 120.101562 410.238281 L 120.140625 415.855469 L 120.175781 413.488281 L 120.253906 413.488281 L 120.292969 414.414062 L 120.332031 410.40625 L 120.371094 409.933594 L 120.40625 400.496094 L 120.445312 400.347656 L 120.484375 406.597656 L 120.523438 406.191406 L 120.5625 406.191406 L 120.601562 398.027344 L 120.636719 398.179688 L 120.675781 398.800781 L 120.714844 412.332031 L 120.753906 413.519531 L 120.792969 409.429688 L 120.832031 409.429688 L 120.867188 408.953125 L 120.90625 398.109375 L 120.945312 402.234375 L 121.023438 402.234375 L 121.0625 402.046875 L 121.097656 414.875 L 121.136719 415.554688 L 121.175781 415.554688 L 121.214844 415.96875 L 121.253906 415.636719 L 121.292969 415.636719 L 121.328125 413.714844 L 121.367188 413.714844 L 121.40625 409.035156 L 121.445312 414.832031 L 121.484375 405.019531 L 121.523438 405.019531 L 121.558594 406.472656 L 121.597656 406.316406 L 121.636719 415.628906 L 121.675781 415.628906 L 121.714844 415.894531 L 121.75 415.726562 L 121.789062 414.769531 L 121.828125 413.992188 L 121.867188 415.550781 L 121.90625 414.734375 L 121.980469 414.734375 L 122.019531 414.765625 L 122.058594 410.164062 L 122.097656 409.804688 L 122.136719 409.636719 L 122.175781 411.96875 L 122.210938 408.585938 L 122.25 408.632812 L 122.289062 410.820312 L 122.328125 388.539062 L 122.367188 415.796875 L 122.40625 378.417969 L 122.441406 416.042969 L 122.480469 415.703125 L 122.519531 415.703125 L 122.558594 416.800781 L 122.597656 414.257812 L 122.636719 413.640625 L 122.671875 412.296875 L 122.710938 414.699219 L 122.75 413.246094 L 122.789062 409.605469 L 122.828125 410.320312 L 122.867188 388.777344 L 122.902344 395.144531 L 122.941406 394.820312 L 122.980469 413.609375 L 123.019531 412.121094 L 123.058594 413.316406 L 123.097656 413.089844 L 123.132812 411.925781 L 123.171875 408.625 L 123.210938 409.828125 L 123.25 397.882812 L 123.289062 408.292969 L 123.328125 413.246094 L 123.363281 414.261719 L 123.402344 414.835938 L 123.441406 416.175781 L 123.480469 416.175781 L 123.519531 415.566406 L 123.558594 415.566406 L 123.59375 414.941406 L 123.632812 414.675781 L 123.671875 413.226562 L 123.710938 413.226562 L 123.75 409.890625 L 123.789062 403.429688 L 123.824219 405.019531 L 123.863281 411.648438 L 123.902344 412.070312 L 123.941406 401.414062 L 123.980469 403.371094 L 124.019531 397.261719 L 124.054688 407.414062 L 124.09375 405.695312 L 124.132812 411.15625 L 124.171875 408.332031 L 124.210938 406.128906 L 124.25 405.773438 L 124.285156 406.511719 L 124.324219 407.835938 L 124.363281 404.792969 L 124.402344 404.792969 L 124.441406 414.230469 L 124.480469 414.308594 L 124.515625 415.292969 L 124.554688 415.855469 L 124.59375 414.15625 L 124.632812 414.386719 L 124.671875 414.800781 L 124.710938 414.066406 L 124.746094 414.066406 L 124.785156 412.625 L 124.824219 413.988281 L 124.863281 413.097656 L 124.902344 414.125 L 124.941406 408.539062 L 124.976562 409.578125 L 125.015625 399.480469 L 125.054688 409.089844 L 125.09375 413.621094 L 125.132812 413.621094 L 125.167969 411.367188 L 125.207031 407.753906 L 125.246094 407.722656 L 125.285156 407.722656 L 125.324219 396.5625 L 125.363281 389.4375 L 125.398438 408.386719 L 125.4375 404.789062 L 125.476562 400.140625 L 125.515625 400.601562 L 125.554688 400 L 125.59375 411.308594 L 125.628906 403.390625 L 125.667969 403.617188 L 125.707031 410.046875 L 125.746094 412.523438 L 125.785156 410.042969 L 125.824219 411.542969 L 125.859375 408.695312 L 125.898438 411.875 L 125.9375 409.011719 L 125.976562 409.011719 L 126.015625 406.257812 L 126.054688 404.65625 L 126.089844 406.707031 L 126.128906 414.097656 L 126.167969 414.097656 L 126.207031 415.480469 L 126.246094 415.480469 L 126.285156 411.867188 L 126.320312 410.140625 L 126.359375 412.179688 L 126.398438 414.175781 L 126.4375 416.175781 L 126.476562 412.976562 L 126.515625 413.300781 L 126.550781 414.667969 L 126.628906 414.667969 L 126.667969 416.421875 L 126.746094 416.421875 L 126.78125 415.949219 L 126.820312 415.417969 L 126.859375 414.710938 L 126.898438 413.789062 L 126.9375 413.777344 L 126.976562 413.925781 L 127.011719 415.324219 L 127.050781 413.996094 L 127.089844 413.355469 L 127.128906 413.921875 L 127.167969 413.921875 L 127.207031 410.980469 L 127.242188 411.476562 L 127.28125 411.476562 L 127.320312 412.257812 L 127.359375 412.050781 L 127.398438 406.917969 L 127.4375 405.273438 L 127.472656 397.078125 L 127.511719 410.292969 L 127.550781 412.332031 L 127.589844 412.332031 L 127.628906 411.628906 L 127.667969 413.902344 L 127.703125 413.636719 L 127.742188 414.050781 L 127.78125 412.613281 L 127.820312 410.621094 L 127.859375 410.621094 L 127.898438 409.355469 L 127.933594 414.0625 L 127.972656 411.964844 L 128.011719 408.097656 L 128.050781 407.199219 L 128.089844 407.464844 L 128.128906 409.488281 L 128.164062 410.421875 L 128.203125 410.648438 L 128.242188 409.695312 L 128.28125 409.078125 L 128.320312 410.703125 L 128.355469 412.378906 L 128.394531 412.945312 L 128.433594 408.066406 L 128.472656 408.214844 L 128.511719 408.628906 L 128.550781 408.929688 L 128.585938 416.351562 L 128.625 400.046875 L 128.664062 399.886719 L 128.703125 396.53125 L 128.742188 412.21875 L 128.78125 412.519531 L 128.816406 414.234375 L 128.855469 411.859375 L 128.894531 411.78125 L 128.933594 381.695312 L 128.972656 381.695312 L 129.011719 381.546875 L 129.046875 380.496094 L 129.085938 411.011719 L 129.125 412.257812 L 129.203125 412.257812 L 129.242188 369.515625 L 129.277344 369.515625 L 129.316406 390.957031 L 129.394531 390.957031 L 129.433594 390.65625 L 129.472656 415.511719 L 129.507812 398.117188 L 129.546875 397.542969 L 129.585938 409.273438 L 129.625 409.273438 L 129.664062 407.679688 L 129.703125 408.257812 L 129.738281 409.863281 L 129.777344 409.429688 L 129.816406 414.816406 L 129.855469 412.652344 L 129.894531 413.359375 L 129.933594 414.683594 L 129.96875 415.363281 L 130.007812 416.082031 L 130.046875 412.714844 L 130.085938 410.515625 L 130.125 411.71875 L 130.164062 412.796875 L 130.199219 412.945312 L 130.238281 412.484375 L 130.277344 414.316406 L 130.316406 409.8125 L 130.355469 409.339844 L 130.394531 406.476562 L 130.429688 406.476562 L 130.46875 407.097656 L 130.507812 407.953125 L 130.546875 404.96875 L 130.585938 404.96875 L 130.625 405.195312 L 130.660156 408.515625 L 130.699219 415.085938 L 130.738281 400.378906 L 130.777344 401.082031 L 130.816406 401.082031 L 130.855469 400.953125 L 130.890625 410.179688 L 130.929688 410.179688 L 130.96875 408.761719 L 131.007812 412.628906 L 131.046875 411.003906 L 131.085938 409.507812 L 131.121094 410.035156 L 131.160156 410.035156 L 131.199219 409.253906 L 131.238281 414.863281 L 131.277344 408.09375 L 131.316406 393.6875 L 131.351562 393.6875 L 131.390625 412.621094 L 131.429688 415.1875 L 131.46875 416.535156 L 131.507812 416.535156 L 131.542969 409.683594 L 131.582031 409.683594 L 131.621094 411.050781 L 131.660156 411.199219 L 131.699219 410.878906 L 131.738281 411.675781 L 131.773438 411.449219 L 131.8125 412.675781 L 131.851562 412.828125 L 131.890625 412.828125 L 131.929688 412.351562 L 131.96875 410.738281 L 132.003906 407.476562 L 132.042969 410.570312 L 132.082031 411.046875 L 132.121094 407.457031 L 132.160156 410.363281 L 132.199219 410.097656 L 132.234375 410.25 L 132.273438 411.039062 L 132.3125 414.609375 L 132.351562 415.550781 L 132.390625 412.777344 L 132.429688 415.726562 L 132.464844 415.265625 L 132.503906 408.292969 L 132.542969 408.292969 L 132.582031 407.820312 L 132.621094 407.820312 L 132.660156 412.226562 L 132.695312 411.1875 L 132.734375 410.960938 L 132.773438 414.136719 L 132.8125 414.136719 L 132.851562 413.386719 L 132.890625 415.707031 L 132.925781 411.464844 L 133.003906 411.464844 L 133.042969 411.730469 L 133.082031 414.753906 L 133.121094 414.753906 L 133.15625 414.375 L 133.195312 413.335938 L 133.234375 413.335938 L 133.273438 413.070312 L 133.3125 414.65625 L 133.351562 414.054688 L 133.386719 414.320312 L 133.425781 413.300781 L 133.464844 413.425781 L 133.503906 413.425781 L 133.542969 414.175781 L 133.582031 413.875 L 133.617188 412.511719 L 133.65625 411.644531 L 133.695312 405.292969 L 133.734375 406.753906 L 133.773438 407.910156 L 133.8125 412.664062 L 133.847656 412.363281 L 133.886719 414.945312 L 133.925781 415.269531 L 133.964844 415.253906 L 134.003906 414.675781 L 134.042969 415.773438 L 134.078125 411.734375 L 134.117188 411.734375 L 134.15625 411.894531 L 134.195312 411.785156 L 134.234375 410.980469 L 134.273438 410.109375 L 134.308594 410.527344 L 134.347656 410.375 L 134.386719 410.550781 L 134.425781 410.078125 L 134.464844 410.226562 L 134.503906 413.582031 L 134.539062 415.242188 L 134.578125 415.242188 L 134.617188 415.820312 L 134.65625 415.820312 L 134.695312 416.800781 L 134.734375 416.800781 L 134.769531 414.179688 L 134.808594 409.828125 L 134.847656 407.507812 L 134.925781 407.507812 L 134.960938 413.898438 L 135 413.824219 L 135.039062 411.179688 L 135.078125 412.316406 L 135.117188 412.316406 L 135.15625 413.089844 L 135.191406 413.011719 L 135.230469 412.902344 L 135.269531 412.902344 L 135.308594 414.269531 L 135.347656 413.894531 L 135.386719 413.894531 L 135.421875 406.625 L 135.460938 405.769531 L 135.5 408.90625 L 135.539062 411.675781 L 135.578125 402.625 L 135.617188 374.640625 L 135.652344 389.375 L 135.691406 405.03125 L 135.730469 405.03125 L 135.769531 407.367188 L 135.808594 411.714844 L 135.882812 411.714844 L 135.921875 410.960938 L 135.960938 409.246094 L 136 410.074219 L 136.039062 410.074219 L 136.078125 408.832031 L 136.113281 408.351562 L 136.152344 407.109375 L 136.191406 406.089844 L 136.230469 403.304688 L 136.269531 406.238281 L 136.308594 409.070312 L 136.34375 411.535156 L 136.382812 412.875 L 136.460938 412.875 L 136.5 414.460938 L 136.539062 412.992188 L 136.574219 413.453125 L 136.613281 412.492188 L 136.652344 411.347656 L 136.691406 411.347656 L 136.730469 413.367188 L 136.769531 413.632812 L 136.804688 415.0625 L 136.882812 415.0625 L 136.921875 414.867188 L 136.960938 414.867188 L 137 416.042969 L 137.035156 415.597656 L 137.074219 413.632812 L 137.113281 413.21875 L 137.152344 415.472656 L 137.191406 414.230469 L 137.230469 414.878906 L 137.265625 414.71875 L 137.304688 413.835938 L 137.421875 413.835938 L 137.460938 381.03125 L 137.496094 396.203125 L 137.535156 411.59375 L 137.574219 411.59375 L 137.613281 409.839844 L 137.652344 412.503906 L 137.691406 412.238281 L 137.726562 411.902344 L 137.765625 413.71875 L 137.804688 413.71875 L 137.84375 413.058594 L 137.882812 408.722656 L 137.921875 408.625 L 137.957031 410.484375 L 137.996094 413.332031 L 138.074219 413.332031 L 138.113281 410.324219 L 138.148438 410.324219 L 138.1875 397.59375 L 138.226562 397.59375 L 138.265625 389.816406 L 138.304688 401.800781 L 138.34375 389.316406 L 138.378906 389.988281 L 138.417969 390.554688 L 138.457031 394.148438 L 138.496094 410.042969 L 138.535156 407.273438 L 138.574219 407.121094 L 138.609375 413.613281 L 138.648438 399.675781 L 138.6875 399.675781 L 138.726562 396.917969 L 138.804688 396.917969 L 138.839844 396.230469 L 138.878906 411.890625 L 138.917969 411.664062 L 138.957031 415.078125 L 138.996094 412.824219 L 139.035156 413.300781 L 139.070312 389.351562 L 139.109375 393.484375 L 139.148438 411.722656 L 139.1875 415.933594 L 139.226562 415.441406 L 139.265625 413.824219 L 139.300781 413.824219 L 139.339844 410.355469 L 139.378906 395.832031 L 139.417969 394.84375 L 139.457031 411.050781 L 139.496094 384.882812 L 139.53125 385.410156 L 139.570312 394.445312 L 139.609375 385.476562 L 139.648438 398.691406 L 139.761719 398.691406 L 139.800781 408.390625 L 139.839844 408.542969 L 139.878906 404.671875 L 139.917969 413.035156 L 139.957031 408.546875 L 139.992188 408.953125 L 140.03125 408.953125 L 140.070312 405.855469 L 140.109375 405.855469 L 140.148438 405.066406 L 140.1875 399.460938 L 140.222656 402.699219 L 140.261719 395.210938 L 140.300781 411.28125 L 140.339844 411.898438 L 140.378906 409.589844 L 140.417969 407.664062 L 140.453125 406.816406 L 140.492188 409.328125 L 140.53125 403.59375 L 140.570312 403.59375 L 140.609375 399.847656 L 140.648438 399.703125 L 140.683594 405.476562 L 140.722656 401.714844 L 140.800781 401.714844 L 140.839844 386.386719 L 140.878906 389.628906 L 140.914062 389.628906 L 140.953125 402.5 L 140.992188 399.796875 L 141.03125 399.796875 L 141.070312 399.183594 L 141.109375 399.183594 L 141.144531 399.476562 L 141.183594 399.328125 L 141.222656 400.632812 L 141.261719 400.632812 L 141.300781 397.53125 L 141.339844 398.855469 L 141.375 399.082031 L 141.414062 403.878906 L 141.453125 403.878906 L 141.492188 406.472656 L 141.53125 405.605469 L 141.566406 405.230469 L 141.605469 403.976562 L 141.644531 404.839844 L 141.683594 411.683594 L 141.722656 416.007812 L 141.761719 414.753906 L 141.796875 414.765625 L 141.835938 414.765625 L 141.875 408.71875 L 141.914062 409.320312 L 141.953125 410.191406 L 141.992188 411.566406 L 142.027344 411.40625 L 142.066406 411.394531 L 142.105469 411.394531 L 142.144531 402.511719 L 142.183594 402.890625 L 142.222656 410.828125 L 142.257812 412.449219 L 142.296875 412.597656 L 142.335938 412.632812 L 142.414062 412.632812 L 142.453125 399.082031 L 142.488281 399.082031 L 142.527344 399.347656 L 142.566406 411.070312 L 142.605469 411.070312 L 142.644531 408.054688 L 142.683594 408.769531 L 142.71875 409.371094 L 142.757812 410.492188 L 142.796875 412.304688 L 142.835938 412.304688 L 142.875 405.535156 L 142.914062 401.261719 L 142.949219 401.261719 L 142.988281 376.871094 L 143.027344 377.597656 L 143.066406 377.109375 L 143.105469 377.109375 L 143.144531 407.84375 L 143.179688 407.480469 L 143.21875 384.8125 L 143.257812 410.117188 L 143.296875 408.453125 L 143.335938 408.492188 L 143.375 408.492188 L 143.410156 412.164062 L 143.449219 411.988281 L 143.488281 409.234375 L 143.527344 410.863281 L 143.566406 409.414062 L 143.605469 409.679688 L 143.640625 414.234375 L 143.679688 413.101562 L 143.71875 411.035156 L 143.757812 406.367188 L 143.796875 406.367188 L 143.835938 415.324219 L 143.871094 410.105469 L 143.910156 410.105469 L 143.949219 406.527344 L 143.988281 403.757812 L 144.027344 412.289062 L 144.066406 413.164062 L 144.101562 413.164062 L 144.140625 413.992188 L 144.179688 405.730469 L 144.21875 400.636719 L 144.257812 401.667969 L 144.296875 406.613281 L 144.332031 408.15625 L 144.371094 408.15625 L 144.410156 413.621094 L 144.449219 413.203125 L 144.488281 411.507812 L 144.527344 413.402344 L 144.5625 413.292969 L 144.601562 414.484375 L 144.640625 414.597656 L 144.679688 414.449219 L 144.71875 414.449219 L 144.753906 414.460938 L 144.792969 414.726562 L 144.832031 414.238281 L 144.871094 414.253906 L 144.910156 415.324219 L 144.949219 413.4375 L 144.984375 413.734375 L 145.023438 413.429688 L 145.0625 413.578125 L 145.101562 413.628906 L 145.140625 414.230469 L 145.179688 414.238281 L 145.214844 414.042969 L 145.253906 414.375 L 145.292969 412.660156 L 145.332031 413.175781 L 145.371094 413.542969 L 145.410156 415.175781 L 145.445312 412.707031 L 145.484375 411.671875 L 145.523438 411.945312 L 145.5625 412.691406 L 145.601562 411.097656 L 145.640625 411.707031 L 145.675781 411.707031 L 145.714844 412.125 L 145.753906 410.175781 L 145.792969 409.441406 L 145.832031 410.609375 L 145.871094 413.4375 L 145.90625 413.285156 L 145.945312 413.4375 L 146.023438 413.4375 L 146.0625 414.417969 L 146.101562 415.746094 L 146.136719 415.746094 L 146.175781 413.882812 L 146.214844 413.421875 L 146.253906 413.6875 L 146.292969 415.117188 L 146.332031 412.628906 L 146.367188 412.550781 L 146.40625 413.027344 L 146.445312 413.027344 L 146.484375 412.972656 L 146.523438 412.972656 L 146.5625 412.195312 L 146.597656 414.59375 L 146.636719 415.816406 L 146.675781 415.222656 L 146.714844 415.046875 L 146.792969 415.046875 L 146.828125 415.96875 L 146.867188 415.742188 L 146.90625 412.785156 L 146.945312 412.746094 L 146.984375 409.1875 L 147.023438 409.878906 L 147.058594 413.476562 L 147.097656 413.476562 L 147.136719 413.25 L 147.175781 415.222656 L 147.214844 411.074219 L 147.253906 411.699219 L 147.289062 413.160156 L 147.445312 413.160156 L 147.484375 412.445312 L 147.519531 412.277344 L 147.558594 410.785156 L 147.597656 408.171875 L 147.636719 408.988281 L 147.675781 407.898438 L 147.714844 407.898438 L 147.75 412.359375 L 147.789062 413.1875 L 147.828125 409.289062 L 147.867188 409.289062 L 147.90625 380.390625 L 147.941406 381.8125 L 147.980469 383.210938 L 148.019531 396.195312 L 148.097656 396.195312 L 148.136719 375.085938 L 148.25 375.085938 L 148.289062 410.125 L 148.402344 410.125 L 148.441406 408.839844 L 148.480469 409.058594 L 148.519531 412.835938 L 148.558594 412.683594 L 148.597656 415.328125 L 148.632812 408.039062 L 148.671875 403.660156 L 148.710938 403.660156 L 148.75 406.328125 L 148.789062 403.828125 L 148.828125 397.777344 L 148.863281 397.777344 L 148.902344 404.90625 L 148.941406 405.953125 L 148.980469 405.605469 L 149.019531 410.589844 L 149.058594 412.839844 L 149.09375 409.230469 L 149.132812 407.199219 L 149.171875 407.199219 L 149.210938 407.050781 L 149.25 405.609375 L 149.289062 405.609375 L 149.324219 407.777344 L 149.363281 409.722656 L 149.402344 400.925781 L 149.441406 378.542969 L 149.480469 380.878906 L 149.519531 380.878906 L 149.554688 379.363281 L 149.59375 379.210938 L 149.632812 379.6875 L 149.671875 374.1875 L 149.710938 399.738281 L 149.75 401.726562 L 149.785156 406.382812 L 149.824219 406.382812 L 149.863281 414.207031 L 149.902344 414.207031 L 149.941406 414.613281 L 149.980469 414.457031 L 150.015625 414.457031 L 150.054688 415.515625 L 150.09375 415.648438 L 150.132812 415.496094 L 150.171875 414.769531 L 150.210938 414.769531 L 150.246094 409.183594 L 150.285156 409.300781 L 150.324219 413.890625 L 150.363281 413.511719 L 150.402344 413.511719 L 150.441406 412.277344 L 150.476562 412.8125 L 150.515625 413.558594 L 150.554688 412.550781 L 150.59375 405.15625 L 150.632812 404.984375 L 150.671875 405.71875 L 150.707031 410.09375 L 150.746094 391.097656 L 150.785156 392.273438 L 150.824219 392.722656 L 150.902344 392.722656 L 150.9375 409.203125 L 150.976562 395.761719 L 151.015625 395.15625 L 151.054688 395.15625 L 151.09375 399.316406 L 151.132812 416.339844 L 151.167969 415.011719 L 151.207031 406.523438 L 151.246094 406.375 L 151.285156 406.71875 L 151.324219 407.914062 L 151.359375 413.890625 L 151.398438 408.878906 L 151.4375 400.082031 L 151.476562 394.066406 L 151.515625 393.800781 L 151.554688 401.757812 L 151.589844 401.109375 L 151.628906 406.316406 L 151.667969 397.875 L 151.707031 403.523438 L 151.746094 404.152344 L 151.785156 407.832031 L 151.820312 402.902344 L 151.859375 406.804688 L 151.898438 407.21875 L 151.9375 406.355469 L 151.976562 407.464844 L 152.015625 408.855469 L 152.050781 414.851562 L 152.089844 409.339844 L 152.128906 409.339844 L 152.167969 412.070312 L 152.207031 410.5625 L 152.246094 411.550781 L 152.28125 406.296875 L 152.359375 406.296875 L 152.398438 404.789062 L 152.4375 404.894531 L 152.476562 384.355469 L 152.511719 384.355469 L 152.550781 384.277344 L 152.589844 392.785156 L 152.628906 390.28125 L 152.667969 393.351562 L 152.707031 396.226562 L 152.742188 396.226562 L 152.78125 395.996094 L 152.820312 410.863281 L 152.859375 410.632812 L 152.898438 415.847656 L 152.9375 413.011719 L 152.972656 411.953125 L 153.011719 411.464844 L 153.050781 412.03125 L 153.089844 411.128906 L 153.128906 406.953125 L 153.167969 408.015625 L 153.242188 408.015625 L 153.28125 408.582031 L 153.320312 409.261719 L 153.359375 409.109375 L 153.398438 408.28125 L 153.433594 411.175781 L 153.472656 413.078125 L 153.511719 413.757812 L 153.550781 413.757812 L 153.589844 412.648438 L 153.664062 412.648438 L 153.703125 416.039062 L 153.742188 416.039062 L 153.78125 416.5 L 153.820312 415.890625 L 153.859375 412.835938 L 153.894531 412.835938 L 153.933594 412.609375 L 153.972656 412.609375 L 154.011719 409.753906 L 154.050781 409.753906 L 154.089844 414.121094 L 154.125 415.371094 L 154.164062 408.191406 L 154.203125 408.191406 L 154.242188 409.742188 L 154.28125 415.101562 L 154.320312 415.335938 L 154.355469 414.589844 L 154.394531 396.144531 L 154.433594 391.742188 L 154.472656 391.210938 L 154.511719 391.210938 L 154.546875 415.96875 L 154.585938 415.5 L 154.625 416.421875 L 154.664062 410.414062 L 154.703125 410.414062 L 154.742188 413.003906 L 154.777344 412.300781 L 154.816406 412.300781 L 154.855469 400.554688 L 154.894531 401.726562 L 154.933594 406.222656 L 154.972656 406.261719 L 155.007812 405.882812 L 155.046875 405.882812 L 155.085938 406.9375 L 155.125 407.3125 L 155.164062 396.472656 L 155.203125 396.472656 L 155.238281 395.144531 L 155.277344 404.015625 L 155.355469 404.015625 L 155.394531 404.976562 L 155.433594 407.539062 L 155.46875 407.390625 L 155.507812 407.390625 L 155.546875 398.660156 L 155.585938 398.355469 L 155.625 392.8125 L 155.664062 396.683594 L 155.699219 394.445312 L 155.738281 403.769531 L 155.777344 403.769531 L 155.816406 406.0625 L 155.855469 404.847656 L 155.894531 399.355469 L 155.929688 403.175781 L 155.96875 400.964844 L 156.007812 398.296875 L 156.046875 408.738281 L 156.085938 409.878906 L 156.125 409.652344 L 156.160156 412.9375 L 156.199219 412.9375 L 156.238281 401.105469 L 156.277344 393.785156 L 156.316406 404.222656 L 156.355469 413.6875 L 156.390625 405.785156 L 156.429688 405.785156 L 156.46875 409.246094 L 156.507812 410.570312 L 156.546875 410.609375 L 156.585938 410.910156 L 156.621094 410.332031 L 156.660156 410.03125 L 156.699219 413.765625 L 156.738281 413.832031 L 156.777344 410.429688 L 156.851562 410.429688 L 156.890625 410.742188 L 156.929688 412.453125 L 156.96875 411.539062 L 157.007812 411.539062 L 157.046875 411.519531 L 157.082031 410.746094 L 157.121094 410.773438 L 157.160156 410.773438 L 157.199219 411.074219 L 157.238281 413.078125 L 157.277344 413.078125 L 157.3125 411.109375 L 157.351562 411.109375 L 157.390625 409.507812 L 157.429688 409.242188 L 157.46875 408.785156 L 157.507812 408.824219 L 157.542969 409.929688 L 157.582031 409.929688 L 157.621094 411.09375 L 157.660156 411.8125 L 157.699219 398.027344 L 157.738281 413.363281 L 157.773438 411.320312 L 157.8125 409.625 L 157.851562 414.835938 L 157.890625 402.691406 L 157.929688 398.605469 L 157.964844 398.132812 L 158.003906 398.859375 L 158.042969 400.046875 L 158.082031 398 L 158.121094 401.714844 L 158.160156 401.714844 L 158.195312 400.785156 L 158.234375 408.578125 L 158.3125 408.578125 L 158.351562 385.539062 L 158.390625 399.9375 L 158.425781 404.953125 L 158.464844 406.339844 L 158.503906 408.566406 L 158.542969 411.066406 L 158.582031 411.066406 L 158.621094 412.101562 L 158.65625 411.949219 L 158.695312 411.382812 L 158.734375 411.835938 L 158.773438 414.183594 L 158.8125 413.035156 L 158.851562 381.285156 L 158.886719 395.894531 L 158.925781 413.214844 L 158.964844 414.378906 L 159.003906 414.234375 L 159.042969 413.140625 L 159.082031 412.683594 L 159.117188 412.535156 L 159.15625 412.535156 L 159.195312 412.796875 L 159.234375 412.839844 L 159.3125 412.839844 L 159.347656 413.242188 L 159.386719 413.941406 L 159.425781 413.027344 L 159.464844 413.84375 L 159.503906 410.011719 L 159.542969 403.917969 L 159.578125 404.148438 L 159.617188 403.917969 L 159.65625 401.730469 L 159.695312 400.546875 L 159.734375 400.546875 L 159.773438 398.476562 L 159.808594 398.476562 L 159.847656 409.667969 L 159.886719 411.007812 L 159.925781 408.71875 L 159.964844 410.480469 L 160.003906 408.8125 L 160.039062 406.25 L 160.078125 406.25 L 160.117188 405.652344 L 160.15625 408.824219 L 160.195312 409.804688 L 160.234375 409.804688 L 160.269531 409.617188 L 160.308594 411.433594 L 160.347656 410.34375 L 160.386719 410.34375 L 160.425781 410.558594 L 160.464844 407.988281 L 160.5 404.964844 L 160.539062 406.207031 L 160.578125 407.148438 L 160.617188 407.074219 L 160.65625 407.71875 L 160.695312 409.4375 L 160.730469 416.042969 L 160.769531 414.074219 L 160.808594 413.246094 L 160.847656 403.632812 L 160.886719 406.0625 L 160.925781 392.058594 L 160.960938 399.117188 L 161 403.648438 L 161.039062 403.648438 L 161.078125 403.1875 L 161.117188 403.925781 L 161.152344 414.898438 L 161.191406 412.875 L 161.230469 413.386719 L 161.269531 411.6875 L 161.308594 413.964844 L 161.347656 408.507812 L 161.382812 408.425781 L 161.421875 409.945312 L 161.460938 409.632812 L 161.5 411.035156 L 161.539062 404.308594 L 161.578125 402.316406 L 161.613281 400.707031 L 161.652344 411.824219 L 161.691406 399.691406 L 161.730469 400.296875 L 161.769531 395.675781 L 161.808594 395.824219 L 161.84375 403.6875 L 161.882812 410.949219 L 161.921875 405.957031 L 161.960938 405.226562 L 162 394.394531 L 162.039062 333.871094 L 162.074219 409.335938 L 162.113281 398.125 L 162.152344 398.125 L 162.191406 406.765625 L 162.230469 379.050781 L 162.269531 408.761719 L 162.304688 408.761719 L 162.34375 412.679688 L 162.382812 411.027344 L 162.421875 411.027344 L 162.460938 411.40625 L 162.5 411.40625 L 162.535156 404.144531 L 162.574219 403.996094 L 162.613281 404.210938 L 162.652344 400.398438 L 162.691406 405.613281 L 162.730469 406.867188 L 162.765625 406.652344 L 162.804688 406.652344 L 162.84375 412.226562 L 162.882812 411.386719 L 162.921875 415.109375 L 162.960938 414.746094 L 162.996094 415.011719 L 163.035156 411.359375 L 163.074219 411.972656 L 163.113281 415.820312 L 163.152344 411.507812 L 163.191406 412.1875 L 163.226562 411.726562 L 163.265625 410.59375 L 163.304688 410.328125 L 163.34375 412.128906 L 163.382812 409.476562 L 163.421875 396.613281 L 163.457031 397.734375 L 163.496094 395.167969 L 163.535156 408.878906 L 163.574219 408.878906 L 163.613281 409.476562 L 163.652344 411.328125 L 163.6875 411.632812 L 163.765625 411.632812 L 163.804688 413.953125 L 163.84375 413.953125 L 163.882812 408.015625 L 163.917969 407.542969 L 163.957031 407.40625 L 163.996094 406.765625 L 164.035156 412.617188 L 164.074219 408.523438 L 164.113281 408.0625 L 164.148438 407.796875 L 164.1875 412.042969 L 164.226562 412.238281 L 164.265625 406.109375 L 164.304688 408.515625 L 164.339844 405.015625 L 164.378906 407.589844 L 164.417969 408.90625 L 164.457031 411.414062 L 164.496094 411.414062 L 164.535156 409.789062 L 164.570312 409.175781 L 164.609375 410.550781 L 164.648438 412.425781 L 164.6875 409.730469 L 164.765625 409.730469 L 164.800781 409.054688 L 164.839844 409.207031 L 164.878906 411.117188 L 164.917969 410.894531 L 164.957031 411.371094 L 164.996094 411.371094 L 165.03125 411.0625 L 165.070312 411.523438 L 165.109375 407.433594 L 165.148438 407.773438 L 165.1875 410.382812 L 165.226562 410.15625 L 165.261719 410.757812 L 165.300781 415.851562 L 165.339844 415.058594 L 165.378906 408.914062 L 165.417969 412.195312 L 165.492188 412.195312 L 165.53125 414.230469 L 165.570312 408.875 L 165.609375 408.402344 L 165.648438 405.730469 L 165.6875 405.730469 L 165.722656 406.191406 L 165.761719 412.59375 L 165.800781 413.75 L 165.839844 404.269531 L 165.878906 404.535156 L 165.917969 403.957031 L 165.953125 403.730469 L 165.992188 404.597656 L 166.03125 406.21875 L 166.070312 402.671875 L 166.109375 403.96875 L 166.148438 404.046875 L 166.183594 411.550781 L 166.222656 411.851562 L 166.261719 411.621094 L 166.300781 410.875 L 166.339844 410.875 L 166.378906 414.722656 L 166.414062 413.851562 L 166.453125 404.335938 L 166.492188 403.140625 L 166.53125 407.058594 L 166.570312 411.117188 L 166.609375 400.1875 L 166.644531 400.414062 L 166.683594 389.871094 L 166.722656 389.871094 L 166.761719 380.179688 L 166.800781 390.078125 L 166.839844 388.011719 L 166.875 379.839844 L 166.914062 383.992188 L 166.953125 395.613281 L 166.992188 393.847656 L 167.03125 406.878906 L 167.070312 408.972656 L 167.105469 409.328125 L 167.144531 409.328125 L 167.183594 409.027344 L 167.222656 410.992188 L 167.261719 410.992188 L 167.300781 410.949219 L 167.335938 410.949219 L 167.375 411.398438 L 167.414062 411.625 L 167.453125 411.398438 L 167.492188 415.097656 L 167.53125 408.179688 L 167.605469 408.179688 L 167.644531 406.746094 L 167.683594 406.746094 L 167.722656 410.824219 L 167.757812 414.464844 L 167.796875 411.214844 L 167.835938 406.722656 L 167.875 410.460938 L 167.914062 410.460938 L 167.953125 414.085938 L 167.988281 414.085938 L 168.027344 411.75 L 168.066406 410.699219 L 168.105469 409.40625 L 168.144531 410.808594 L 168.183594 413.117188 L 168.21875 412.058594 L 168.257812 414.140625 L 168.296875 414.601562 L 168.335938 413.746094 L 168.375 412.6875 L 168.414062 413.4375 L 168.449219 413.664062 L 168.488281 413.664062 L 168.527344 415.910156 L 168.566406 415.910156 L 168.605469 413.9375 L 168.644531 414.203125 L 168.679688 414.203125 L 168.71875 414.101562 L 168.757812 416.234375 L 168.796875 415.367188 L 168.835938 415.519531 L 168.910156 415.519531 L 168.949219 415.785156 L 168.988281 416.234375 L 169.027344 415.578125 L 169.066406 415.726562 L 169.105469 413.96875 L 169.140625 414.15625 L 169.179688 415.25 L 169.21875 415.480469 L 169.257812 415.480469 L 169.296875 413.722656 L 169.335938 414.539062 L 169.371094 412.152344 L 169.410156 413.074219 L 169.449219 412.171875 L 169.488281 413.695312 L 169.527344 415.246094 L 169.566406 415.246094 L 169.601562 415.550781 L 169.71875 415.550781 L 169.757812 389.710938 L 169.796875 389.90625 L 169.871094 389.90625 L 169.910156 389.640625 L 170.027344 389.640625 L 170.0625 410.609375 L 170.101562 410.609375 L 170.140625 380.117188 L 170.179688 380.679688 L 170.21875 380.679688 L 170.257812 401.355469 L 170.292969 387.140625 L 170.332031 396.125 L 170.371094 393.554688 L 170.410156 400.734375 L 170.449219 404.53125 L 170.488281 384.019531 L 170.523438 387.761719 L 170.5625 388.992188 L 170.601562 388.992188 L 170.640625 364.527344 L 170.679688 382.96875 L 170.71875 382.96875 L 170.753906 315.773438 L 170.792969 335.347656 L 170.832031 332.785156 L 170.871094 332.902344 L 170.910156 406.171875 L 170.945312 410.980469 L 170.984375 410.980469 L 171.023438 409.175781 L 171.0625 401.6875 L 171.101562 407.617188 L 171.140625 411.761719 L 171.175781 411.609375 L 171.214844 410.96875 L 171.253906 412.476562 L 171.292969 405.902344 L 171.332031 398.308594 L 171.371094 399.828125 L 171.40625 407.128906 L 171.445312 396.351562 L 171.484375 401.261719 L 171.523438 400 L 171.5625 416.648438 L 171.601562 415.890625 L 171.636719 415.28125 L 171.675781 414.992188 L 171.714844 416.050781 L 171.792969 416.050781 L 171.832031 406.964844 L 171.867188 406.816406 L 171.90625 406.195312 L 171.945312 406.195312 L 171.984375 405.933594 L 172.023438 415.175781 L 172.0625 415.027344 L 172.097656 414.085938 L 172.136719 414.535156 L 172.175781 414.535156 L 172.214844 414.574219 L 172.253906 414 L 172.328125 414 L 172.367188 412.796875 L 172.40625 412.382812 L 172.445312 413.757812 L 172.484375 413.292969 L 172.523438 416.5 L 172.558594 416.046875 L 172.597656 415.816406 L 172.636719 406.792969 L 172.675781 406.316406 L 172.714844 406.316406 L 172.753906 405.242188 L 172.828125 405.242188 L 172.867188 410.566406 L 172.945312 410.566406 L 172.984375 414.351562 L 173.019531 404.144531 L 173.058594 403.683594 L 173.097656 403.683594 L 173.136719 410.339844 L 173.175781 413.738281 L 173.214844 413.738281 L 173.25 410.359375 L 173.289062 412.917969 L 173.328125 411.1875 L 173.367188 411.789062 L 173.40625 400.617188 L 173.445312 400.617188 L 173.480469 402.273438 L 173.519531 402.539062 L 173.558594 402.203125 L 173.597656 400.617188 L 173.636719 400.617188 L 173.675781 412.757812 L 173.710938 413.664062 L 173.75 413.515625 L 173.789062 344.570312 L 173.828125 368.074219 L 173.867188 368.074219 L 173.90625 356.492188 L 173.941406 391.988281 L 173.980469 409.261719 L 174.019531 409.261719 L 174.058594 408.019531 L 174.097656 407.789062 L 174.136719 407.328125 L 174.171875 413.851562 L 174.210938 410.964844 L 174.25 412.671875 L 174.289062 404.890625 L 174.328125 410.765625 L 174.363281 413.441406 L 174.402344 413.441406 L 174.441406 413.480469 L 174.480469 413.480469 L 174.519531 415.382812 L 174.558594 415.3125 L 174.59375 415.574219 L 174.632812 416.050781 L 174.671875 415.472656 L 174.75 415.472656 L 174.789062 413.664062 L 174.941406 413.664062 L 174.980469 413.960938 L 175.019531 413.8125 L 175.054688 414.867188 L 175.09375 415.167969 L 175.132812 414.832031 L 175.171875 414.679688 L 175.25 414.679688 L 175.285156 416.175781 L 175.324219 416.574219 L 175.363281 416.574219 L 175.402344 414.578125 L 175.441406 414.199219 L 175.480469 415.660156 L 175.515625 415.511719 L 175.554688 415.671875 L 175.59375 415.328125 L 175.632812 415.328125 L 175.671875 415.214844 L 175.710938 415.214844 L 175.746094 414 L 175.785156 414 L 175.824219 413.847656 L 175.863281 413.949219 L 175.902344 414.824219 L 175.941406 412.558594 L 175.976562 410.90625 L 176.015625 413.023438 L 176.054688 413.664062 L 176.207031 413.664062 L 176.246094 416.5 L 176.285156 415.820312 L 176.324219 413.46875 L 176.363281 415.132812 L 176.402344 414.40625 L 176.4375 414.40625 L 176.476562 415.085938 L 176.515625 415.085938 L 176.554688 415.3125 L 176.59375 415.3125 L 176.632812 415.890625 L 176.667969 415.566406 L 176.707031 414.6875 L 176.746094 414.6875 L 176.785156 414.8125 L 176.824219 413.742188 L 176.863281 411.417969 L 176.898438 413.984375 L 176.9375 413.054688 L 176.976562 410.535156 L 177.015625 412.921875 L 177.054688 416.121094 L 177.09375 414.132812 L 177.128906 411.214844 L 177.167969 411.214844 L 177.207031 411.175781 L 177.246094 411.175781 L 177.285156 401.738281 L 177.324219 398.015625 L 177.359375 410.375 L 177.398438 410.851562 L 177.4375 406.847656 L 177.476562 414.335938 L 177.515625 410.886719 L 177.550781 411.34375 L 177.589844 397.308594 L 177.667969 397.308594 L 177.707031 397.046875 L 177.746094 397.046875 L 177.78125 409.542969 L 177.820312 409.542969 L 177.859375 399.890625 L 177.9375 399.890625 L 177.976562 413.523438 L 178.011719 412.839844 L 178.050781 412.539062 L 178.089844 411.824219 L 178.128906 412.730469 L 178.167969 412.507812 L 178.207031 410.738281 L 178.242188 403.398438 L 178.28125 401.820312 L 178.320312 401.9375 L 178.359375 403.214844 L 178.398438 410.71875 L 178.4375 399.742188 L 178.589844 399.742188 L 178.628906 398.417969 L 178.667969 400.144531 L 178.703125 406.519531 L 178.742188 409.421875 L 178.78125 402.652344 L 178.820312 393.457031 L 178.859375 393.457031 L 178.898438 398.835938 L 178.933594 398.835938 L 178.972656 400.425781 L 179.011719 398.367188 L 179.050781 386.707031 L 179.089844 387.234375 L 179.128906 393.855469 L 179.164062 393.855469 L 179.203125 389.429688 L 179.242188 400.878906 L 179.28125 405.996094 L 179.320312 404.371094 L 179.359375 397.347656 L 179.394531 396.40625 L 179.433594 400.464844 L 179.472656 393.820312 L 179.511719 404.046875 L 179.550781 401.097656 L 179.589844 408.578125 L 179.625 400.667969 L 179.664062 400.667969 L 179.703125 400.519531 L 179.742188 394.1875 L 179.78125 396.375 L 179.820312 367.046875 L 179.894531 367.046875 L 179.933594 396.523438 L 179.972656 380.269531 L 180.011719 380.269531 L 180.050781 380.535156 L 180.085938 383.890625 L 180.125 383.890625 L 180.164062 402.5625 L 180.203125 392.261719 L 180.242188 392.632812 L 180.28125 392.949219 L 180.316406 392.949219 L 180.355469 399.976562 L 180.394531 405.3125 L 180.433594 411.472656 L 180.472656 408.292969 L 180.511719 397.988281 L 180.546875 400.867188 L 180.585938 401.019531 L 180.625 411.566406 L 180.664062 405.574219 L 180.703125 407.902344 L 180.738281 410.074219 L 180.777344 410.074219 L 180.816406 415.011719 L 180.855469 415.472656 L 180.894531 414.199219 L 180.933594 410.664062 L 180.96875 410.757812 L 181.007812 412.132812 L 181.046875 412.132812 L 181.085938 406.019531 L 181.125 406.339844 L 181.164062 411.554688 L 181.199219 409.746094 L 181.238281 409.667969 L 181.277344 409.667969 L 181.316406 410.410156 L 181.355469 412.757812 L 181.394531 406.25 L 181.46875 406.25 L 181.507812 409.566406 L 181.546875 410.269531 L 181.585938 414.46875 L 181.625 414.46875 L 181.660156 413.515625 L 181.699219 413.515625 L 181.738281 408.632812 L 181.777344 410.335938 L 181.816406 410.035156 L 181.855469 398.640625 L 181.890625 399.3125 L 181.929688 402.261719 L 181.96875 402.261719 L 182.007812 388.847656 L 182.046875 382.027344 L 182.085938 382.839844 L 182.121094 390.316406 L 182.160156 397.289062 L 182.199219 380.515625 L 182.238281 380.515625 L 182.277344 410.8125 L 182.316406 403.558594 L 182.351562 396.867188 L 182.390625 395.277344 L 182.429688 404.738281 L 182.46875 409.570312 L 182.507812 406.230469 L 182.546875 406.230469 L 182.582031 410.765625 L 182.621094 410.765625 L 182.660156 407.773438 L 182.699219 406.636719 L 182.738281 408.328125 L 182.777344 402.589844 L 182.8125 401.96875 L 182.851562 401.96875 L 182.890625 397.402344 L 182.929688 408.035156 L 182.96875 409.390625 L 183.007812 414.542969 L 183.042969 412.960938 L 183.082031 412.714844 L 183.121094 400.386719 L 183.160156 399.777344 L 183.199219 408.363281 L 183.238281 408.511719 L 183.273438 396.664062 L 183.3125 396.664062 L 183.351562 391.945312 L 183.390625 391.945312 L 183.429688 398.359375 L 183.46875 398.359375 L 183.503906 394.746094 L 183.542969 394.746094 L 183.582031 395.484375 L 183.621094 406.4375 L 183.660156 401.1875 L 183.699219 405.871094 L 183.734375 408.605469 L 183.773438 408.605469 L 183.8125 400.164062 L 183.851562 400.164062 L 183.890625 398.042969 L 183.929688 392.574219 L 183.964844 402.769531 L 184.003906 402.085938 L 184.042969 412.722656 L 184.082031 413.4375 L 184.121094 414.453125 L 184.15625 413.378906 L 184.195312 408.898438 L 184.234375 407.066406 L 184.273438 409.679688 L 184.3125 410.4375 L 184.351562 408.75 L 184.386719 408.023438 L 184.425781 410.3125 L 184.464844 410.164062 L 184.503906 411.535156 L 184.542969 408.339844 L 184.582031 407.546875 L 184.617188 403.65625 L 184.65625 401.835938 L 184.695312 403.578125 L 184.734375 402.371094 L 184.773438 396.800781 L 184.8125 396.238281 L 184.847656 396.238281 L 184.886719 358.902344 L 184.925781 365.554688 L 184.964844 365.554688 L 185.003906 368.082031 L 185.042969 368.460938 L 185.078125 374.441406 L 185.117188 373.53125 L 185.15625 369.6875 L 185.195312 360.78125 L 185.234375 369.113281 L 185.273438 391.097656 L 185.308594 392.984375 L 185.347656 392.984375 L 185.386719 394.488281 L 185.425781 400.421875 L 185.464844 400.421875 L 185.503906 389.242188 L 185.539062 390.109375 L 185.578125 394.90625 L 185.617188 393.4375 L 185.695312 393.4375 L 185.734375 412.464844 L 185.769531 412.464844 L 185.808594 391.449219 L 185.847656 390.875 L 185.886719 390.875 L 185.925781 402.480469 L 185.964844 398.324219 L 186 399.839844 L 186.039062 399.839844 L 186.078125 410.039062 L 186.117188 410.425781 L 186.15625 412.808594 L 186.195312 412.410156 L 186.230469 414.746094 L 186.269531 402.480469 L 186.308594 401.273438 L 186.347656 408.714844 L 186.386719 414.402344 L 186.425781 405.859375 L 186.460938 408.929688 L 186.5 411.996094 L 186.539062 409.152344 L 186.578125 405.226562 L 186.65625 405.226562 L 186.691406 405.929688 L 186.730469 388.726562 L 186.769531 395.023438 L 186.808594 395.933594 L 186.847656 396.160156 L 186.886719 395.628906 L 186.921875 395.628906 L 186.960938 406.132812 L 187 395.175781 L 187.039062 394.714844 L 187.078125 394.714844 L 187.117188 411.703125 L 187.152344 412.234375 L 187.191406 413.675781 L 187.230469 407.78125 L 187.269531 408.082031 L 187.308594 412.0625 L 187.34375 398.371094 L 187.382812 398.921875 L 187.421875 398.921875 L 187.460938 393.875 L 187.5 393.574219 L 187.539062 388.441406 L 187.574219 395.046875 L 187.613281 403.285156 L 187.652344 403.285156 L 187.691406 403.832031 L 187.730469 397.945312 L 187.769531 397.945312 L 187.804688 400.382812 L 187.84375 401.679688 L 187.882812 403.527344 L 187.921875 407.082031 L 187.960938 397.984375 L 188 397.984375 L 188.035156 398.132812 L 188.074219 408.871094 L 188.113281 411.621094 L 188.152344 413.152344 L 188.191406 410.226562 L 188.230469 401.757812 L 188.265625 405.324219 L 188.34375 405.324219 L 188.382812 410.355469 L 188.421875 411 L 188.460938 416.386719 L 188.496094 413.953125 L 188.535156 409.792969 L 188.574219 403.207031 L 188.613281 402.074219 L 188.726562 402.074219 L 188.765625 411.402344 L 188.804688 413.316406 L 188.84375 413.316406 L 188.882812 403.933594 L 188.921875 411.757812 L 188.957031 403.605469 L 188.996094 404.78125 L 189.035156 404.011719 L 189.074219 403.140625 L 189.113281 407.71875 L 189.152344 411.46875 L 189.1875 401.9375 L 189.226562 404.15625 L 189.265625 392.75 L 189.304688 398.21875 L 189.34375 401.847656 L 189.382812 400.027344 L 189.417969 400.472656 L 189.457031 409.167969 L 189.496094 409.015625 L 189.535156 411.441406 L 189.574219 403.363281 L 189.613281 400.984375 L 189.648438 400.347656 L 189.6875 375.03125 L 189.726562 376.75 L 189.765625 379.308594 L 189.804688 383.957031 L 189.84375 383.796875 L 189.917969 383.796875 L 189.957031 383.945312 L 189.996094 410.179688 L 190.035156 397.304688 L 190.074219 404.402344 L 190.109375 408.984375 L 190.148438 410.34375 L 190.1875 403.382812 L 190.226562 400.945312 L 190.265625 400.792969 L 190.304688 404.210938 L 190.339844 390.097656 L 190.378906 398.046875 L 190.417969 392.484375 L 190.457031 392.785156 L 190.496094 398.457031 L 190.535156 395.746094 L 190.570312 408.394531 L 190.609375 409.722656 L 190.648438 409.722656 L 190.6875 410.980469 L 190.726562 410.980469 L 190.761719 414.628906 L 190.800781 412.105469 L 190.839844 410.140625 L 190.878906 403.183594 L 190.917969 403.804688 L 190.957031 402.765625 L 190.992188 404.523438 L 191.03125 404.753906 L 191.070312 406.128906 L 191.109375 395.597656 L 191.148438 395.597656 L 191.1875 406.863281 L 191.222656 406.070312 L 191.261719 412.089844 L 191.300781 414.679688 L 191.339844 414.753906 L 191.378906 414.753906 L 191.417969 407.667969 L 191.453125 400.515625 L 191.492188 410.726562 L 191.53125 399.605469 L 191.570312 408.089844 L 191.609375 410.023438 L 191.648438 410.933594 L 191.683594 412.535156 L 191.722656 412.535156 L 191.761719 413.882812 L 191.800781 413.234375 L 191.839844 412.359375 L 191.878906 413.984375 L 191.914062 414.320312 L 191.953125 414.171875 L 191.992188 414.34375 L 192.03125 414.34375 L 192.070312 414.757812 L 192.109375 412.566406 L 192.144531 410.773438 L 192.183594 406.109375 L 192.222656 398.109375 L 192.261719 399.507812 L 192.300781 399.507812 L 192.339844 401.148438 L 192.375 398.617188 L 192.414062 406.800781 L 192.453125 406.800781 L 192.492188 401.296875 L 192.53125 398.21875 L 192.570312 388.910156 L 192.605469 392.613281 L 192.644531 397.027344 L 192.683594 407.113281 L 192.722656 393.867188 L 192.761719 394.765625 L 192.800781 392.722656 L 192.835938 402.6875 L 192.875 400.820312 L 192.914062 400.820312 L 192.953125 398.863281 L 192.992188 402.339844 L 193.03125 390.550781 L 193.066406 392.242188 L 193.144531 392.242188 L 193.183594 382.773438 L 193.222656 396.804688 L 193.296875 396.804688 L 193.335938 410.941406 L 193.375 397.074219 L 193.414062 397.074219 L 193.453125 411.714844 L 193.492188 409.523438 L 193.566406 409.523438 L 193.605469 395.28125 L 193.644531 395.015625 L 193.683594 395.039062 L 193.722656 408.105469 L 193.757812 401.214844 L 193.796875 400.308594 L 193.835938 399.589844 L 193.949219 399.589844 L 193.988281 399.359375 L 194.027344 406.335938 L 194.066406 407.027344 L 194.105469 410.535156 L 194.144531 411.082031 L 194.179688 411.082031 L 194.21875 405.613281 L 194.257812 406.777344 L 194.296875 401.980469 L 194.335938 385.601562 L 194.375 385.601562 L 194.410156 378.332031 L 194.449219 378.332031 L 194.488281 392.425781 L 194.527344 406.488281 L 194.566406 412.210938 L 194.605469 376.03125 L 194.640625 373.921875 L 194.679688 366.46875 L 194.71875 393.976562 L 194.757812 392.289062 L 194.796875 392.289062 L 194.835938 400.613281 L 194.871094 395.074219 L 194.910156 394.601562 L 194.949219 394.601562 L 194.988281 390.527344 L 195.027344 404.972656 L 195.066406 402.507812 L 195.101562 398.53125 L 195.140625 407.933594 L 195.179688 411.886719 L 195.21875 412.035156 L 195.257812 412.035156 L 195.296875 414.230469 L 195.332031 410.277344 L 195.371094 395.382812 L 195.410156 395.613281 L 195.449219 395.613281 L 195.488281 393.027344 L 195.527344 393.027344 L 195.5625 394.652344 L 195.601562 390.113281 L 195.640625 377.480469 L 195.679688 391.527344 L 195.71875 388.785156 L 195.757812 403.289062 L 195.792969 405.441406 L 195.832031 410.804688 L 195.871094 412.347656 L 195.910156 411.402344 L 195.949219 412.855469 L 195.988281 413.578125 L 196.023438 413.199219 L 196.0625 412.957031 L 196.101562 413.484375 L 196.140625 409.359375 L 196.179688 408.027344 L 196.21875 411.417969 L 196.253906 410.289062 L 196.292969 410.0625 L 196.332031 414.253906 L 196.371094 414.253906 L 196.410156 414.136719 L 196.449219 413.410156 L 196.484375 404.574219 L 196.523438 397.472656 L 196.601562 397.472656 L 196.640625 410.273438 L 196.679688 410.046875 L 196.714844 411.996094 L 196.753906 411.996094 L 196.792969 412.0625 L 196.832031 410.269531 L 196.871094 409.425781 L 196.910156 399.585938 L 196.945312 392.824219 L 196.984375 392.824219 L 197.023438 393.484375 L 197.0625 402.921875 L 197.101562 397.4375 L 197.140625 405.445312 L 197.175781 408.515625 L 197.214844 413.074219 L 197.292969 413.074219 L 197.332031 407.414062 L 197.367188 407.414062 L 197.40625 414.367188 L 197.445312 414.292969 L 197.484375 412.972656 L 197.523438 412.117188 L 197.5625 415.117188 L 197.675781 415.117188 L 197.714844 415.265625 L 197.753906 415.160156 L 197.792969 414.785156 L 197.828125 415.558594 L 197.867188 411.277344 L 197.90625 411.804688 L 197.945312 411.476562 L 198.097656 411.476562 L 198.136719 410.261719 L 198.175781 410.261719 L 198.214844 411.875 L 198.253906 414.085938 L 198.289062 412.414062 L 198.328125 415.667969 L 198.367188 415.832031 L 198.40625 416.308594 L 198.445312 415 L 198.519531 415 L 198.558594 412.773438 L 198.597656 412.773438 L 198.636719 412.449219 L 198.675781 414.203125 L 198.714844 413.601562 L 198.75 412.507812 L 198.789062 412.96875 L 198.828125 411.652344 L 198.867188 413.679688 L 198.980469 413.679688 L 199.019531 412.902344 L 199.058594 412.375 L 199.097656 412.375 L 199.136719 415.367188 L 199.175781 415.101562 L 199.210938 414.417969 L 199.25 414.566406 L 199.289062 410.546875 L 199.328125 411.863281 L 199.367188 411.863281 L 199.40625 412.65625 L 199.441406 415.359375 L 199.480469 414.511719 L 199.519531 412.632812 L 199.558594 408.765625 L 199.597656 410.492188 L 199.636719 414.960938 L 199.671875 414.285156 L 199.710938 413.417969 L 199.75 414.941406 L 199.789062 414.585938 L 199.828125 414.941406 L 199.867188 415.722656 L 199.902344 414.457031 L 199.941406 414.515625 L 199.980469 414.78125 L 200.019531 415.761719 L 200.058594 413.425781 L 200.097656 414.335938 L 200.132812 415.78125 L 200.25 415.78125 L 200.289062 413.832031 L 200.328125 413.566406 L 200.363281 415.3125 L 200.402344 415.3125 L 200.441406 411.957031 L 200.480469 412.949219 L 200.519531 414.976562 L 200.554688 414.300781 L 200.59375 415.21875 L 200.632812 413.960938 L 200.671875 413.960938 L 200.710938 414.414062 L 200.75 415.402344 L 200.785156 413.992188 L 200.824219 413.761719 L 200.863281 412.136719 L 200.902344 411.863281 L 200.941406 411.863281 L 200.980469 413.003906 L 201.015625 413.132812 L 201.054688 413.359375 L 201.09375 414.953125 L 201.132812 414.6875 L 201.171875 414 L 201.210938 414.742188 L 201.246094 415.066406 L 201.285156 416.648438 L 201.324219 414.566406 L 201.402344 414.566406 L 201.441406 414.285156 L 201.476562 415.550781 L 201.515625 415.066406 L 201.554688 415.066406 L 201.59375 415.820312 L 201.632812 415.820312 L 201.671875 415.59375 L 201.707031 415.378906 L 201.746094 414.324219 L 201.785156 414.09375 L 201.824219 414.359375 L 201.863281 414.058594 L 201.9375 414.058594 L 201.976562 414.324219 L 202.015625 414.914062 L 202.054688 415.554688 L 202.09375 413.671875 L 202.132812 413.375 L 202.167969 412.957031 L 202.207031 411.667969 L 202.246094 413.285156 L 202.285156 413.65625 L 202.324219 414.53125 L 202.363281 415.742188 L 202.398438 415.742188 L 202.4375 416.046875 L 202.476562 415.246094 L 202.515625 415.496094 L 202.554688 415.496094 L 202.59375 415.347656 L 202.628906 414.910156 L 202.667969 414.679688 L 202.707031 415.882812 L 202.746094 413.894531 L 202.785156 413.265625 L 202.824219 414.894531 L 202.859375 414.734375 L 202.898438 416.269531 L 202.9375 415.796875 L 202.976562 414.714844 L 203.015625 414.414062 L 203.054688 416.648438 L 203.089844 416.234375 L 203.128906 415.910156 L 203.167969 413.425781 L 203.207031 411.683594 L 203.246094 409.84375 L 203.285156 409.84375 L 203.320312 412.433594 L 203.359375 416.269531 L 203.398438 414.363281 L 203.4375 414.097656 L 203.476562 414.710938 L 203.515625 415.714844 L 203.550781 415.4375 L 203.589844 415.894531 L 203.628906 415.667969 L 203.667969 415.898438 L 203.707031 415.039062 L 203.742188 415.039062 L 203.78125 414.28125 L 203.820312 414.28125 L 203.859375 414.039062 L 203.898438 415.023438 L 203.9375 414.867188 L 203.972656 415.015625 L 204.011719 412.863281 L 204.050781 413.035156 L 204.089844 414.484375 L 204.128906 411.515625 L 204.167969 411.515625 L 204.203125 412.019531 L 204.242188 410.039062 L 204.28125 411.570312 L 204.320312 413.457031 L 204.359375 410.789062 L 204.398438 410.789062 L 204.433594 412.769531 L 204.472656 412.769531 L 204.511719 411.601562 L 204.550781 416.800781 L 204.589844 416.5 L 204.664062 416.5 L 204.703125 413.636719 L 204.742188 411.367188 L 204.78125 410.222656 L 204.820312 410.222656 L 204.859375 409.761719 L 204.894531 415.050781 L 204.933594 415.246094 L 204.972656 415.246094 L 205.011719 409.617188 L 205.050781 409.964844 L 205.089844 416.648438 L 205.125 414.40625 L 205.164062 408.332031 L 205.203125 408.558594 L 205.242188 400.027344 L 205.28125 391.875 L 205.320312 411.378906 L 205.355469 411.378906 L 205.394531 408.09375 L 205.433594 412.476562 L 205.472656 411.34375 L 205.511719 410.511719 L 205.550781 409.910156 L 205.585938 410.175781 L 205.625 409.945312 L 205.664062 409.375 L 205.703125 410.921875 L 205.742188 411.488281 L 205.78125 411.179688 L 205.816406 410.878906 L 205.855469 405.957031 L 205.894531 406.335938 L 205.933594 409.101562 L 205.972656 409.25 L 206.011719 409.25 L 206.046875 415.441406 L 206.085938 408.757812 L 206.125 398.242188 L 206.164062 398.242188 L 206.203125 398.734375 L 206.242188 397.535156 L 206.277344 400.585938 L 206.316406 404.503906 L 206.355469 404.652344 L 206.394531 399.867188 L 206.433594 407.867188 L 206.472656 408.167969 L 206.507812 409.945312 L 206.546875 409.679688 L 206.585938 409.679688 L 206.625 403.261719 L 206.664062 406.554688 L 206.703125 396.625 L 206.777344 396.625 L 206.816406 397.339844 L 206.855469 404.761719 L 206.894531 399.503906 L 206.933594 409.195312 L 206.96875 410.144531 L 207.007812 403.140625 L 207.046875 402.761719 L 207.085938 402.300781 L 207.125 408.894531 L 207.160156 395.394531 L 207.199219 410.195312 L 207.238281 410.195312 L 207.277344 403.96875 L 207.316406 409.199219 L 207.355469 409.199219 L 207.390625 407.992188 L 207.429688 408.453125 L 207.46875 406.917969 L 207.507812 404.351562 L 207.546875 413.019531 L 207.585938 413.292969 L 207.621094 413.292969 L 207.660156 408.757812 L 207.699219 408.757812 L 207.738281 411.464844 L 207.777344 372.761719 L 207.851562 372.761719 L 207.890625 385.464844 L 207.929688 372.851562 L 207.96875 394.671875 L 208.007812 349.421875 L 208.046875 347.113281 L 208.082031 346.652344 L 208.121094 387.175781 L 208.160156 387.738281 L 208.199219 409.640625 L 208.238281 378.972656 L 208.3125 378.972656 L 208.351562 408.46875 L 208.390625 407.339844 L 208.429688 398.640625 L 208.46875 402.042969 L 208.507812 402.042969 L 208.542969 394.460938 L 208.582031 412.300781 L 208.621094 413.46875 L 208.660156 413.316406 L 208.699219 413.28125 L 208.738281 413.28125 L 208.773438 414.09375 L 208.8125 416.5 L 208.851562 412.589844 L 208.929688 412.589844 L 208.96875 412.363281 L 209.003906 412.363281 L 209.042969 414.484375 L 209.082031 414.148438 L 209.121094 413.882812 L 209.160156 413.800781 L 209.199219 413.800781 L 209.234375 410.488281 L 209.273438 416.175781 L 209.3125 413.910156 L 209.351562 414.535156 L 209.390625 414.535156 L 209.429688 409.082031 L 209.464844 409.082031 L 209.503906 413.390625 L 209.542969 413.863281 L 209.582031 416.097656 L 209.621094 415.832031 L 209.660156 413.222656 L 209.695312 413.695312 L 209.734375 413.023438 L 209.773438 412.875 L 209.8125 414.375 L 209.851562 413.996094 L 209.890625 414.144531 L 209.925781 412.96875 L 209.964844 413.429688 L 210.003906 413.808594 L 210.042969 409.78125 L 210.082031 409.320312 L 210.121094 409.320312 L 210.15625 411.742188 L 210.195312 407.945312 L 210.234375 407.945312 L 210.273438 410.132812 L 210.3125 407.957031 L 210.347656 409.320312 L 210.386719 409.167969 L 210.425781 410.773438 L 210.464844 408.765625 L 210.503906 408.914062 L 210.542969 411.5 L 210.578125 409.230469 L 210.617188 408.96875 L 210.65625 408.496094 L 210.847656 408.496094 L 210.886719 398.65625 L 210.925781 398.65625 L 210.964844 409.625 L 211.003906 410.191406 L 211.039062 411.433594 L 211.078125 410.5625 L 211.117188 410.296875 L 211.15625 410.222656 L 211.195312 412.632812 L 211.234375 411.789062 L 211.269531 411.789062 L 211.308594 410.808594 L 211.347656 411.972656 L 211.386719 409.835938 L 211.425781 410 L 211.464844 409.371094 L 211.578125 409.371094 L 211.617188 408.042969 L 211.65625 411.765625 L 211.695312 411.21875 L 211.730469 414.800781 L 211.769531 411.679688 L 211.808594 413.453125 L 211.847656 412.886719 L 211.886719 411.539062 L 211.925781 411.539062 L 211.960938 409.910156 L 212 410.625 L 212.039062 411.570312 L 212.078125 411.796875 L 212.117188 415.671875 L 212.15625 412.949219 L 212.191406 411.359375 L 212.230469 413.136719 L 212.269531 377.851562 L 212.308594 377.378906 L 212.347656 377.378906 L 212.386719 363.191406 L 212.421875 375.597656 L 212.460938 387.929688 L 212.5 404.6875 L 212.539062 413.816406 L 212.578125 414.882812 L 212.617188 415.570312 L 212.652344 415.570312 L 212.691406 415.628906 L 212.730469 415.628906 L 212.769531 415.742188 L 212.808594 415.269531 L 212.847656 415.910156 L 212.882812 392.855469 L 212.921875 410.035156 L 212.960938 405.535156 L 213 395.570312 L 213.039062 394.832031 L 213.078125 411.917969 L 213.113281 412.722656 L 213.152344 410.4375 L 213.191406 410.171875 L 213.230469 410.890625 L 213.269531 399.789062 L 213.308594 399.789062 L 213.34375 407.253906 L 213.382812 410.164062 L 213.421875 409.855469 L 213.460938 410.976562 L 213.5 410.976562 L 213.539062 412.835938 L 213.574219 409.648438 L 213.613281 411.066406 L 213.652344 408.472656 L 213.691406 408.472656 L 213.730469 411.480469 L 213.765625 411.480469 L 213.804688 409.699219 L 213.84375 411.054688 L 213.882812 411.054688 L 213.921875 411.503906 L 213.960938 412.835938 L 213.996094 411.476562 L 214.035156 411.628906 L 214.074219 408.074219 L 214.113281 408.074219 L 214.152344 408.566406 L 214.191406 408.566406 L 214.226562 414.210938 L 214.265625 412.308594 L 214.304688 412.007812 L 214.34375 412.007812 L 214.382812 409.566406 L 214.421875 409.566406 L 214.457031 410.847656 L 214.496094 413.300781 L 214.535156 413.78125 L 214.574219 409.257812 L 214.613281 413.796875 L 214.652344 412.871094 L 214.6875 413.101562 L 214.726562 414.492188 L 214.765625 414.265625 L 214.804688 414.667969 L 214.84375 414.667969 L 214.882812 415.589844 L 214.917969 415.589844 L 214.957031 416.121094 L 214.996094 414.621094 L 215.035156 413.976562 L 215.074219 414.585938 L 215.113281 415.0625 L 215.148438 416.273438 L 215.1875 416.046875 L 215.226562 415.371094 L 215.265625 415.601562 L 215.304688 415.601562 L 215.34375 416.0625 L 215.378906 416.027344 L 215.457031 416.027344 L 215.496094 415.625 L 215.535156 415.96875 L 215.574219 416.1875 L 215.609375 416.535156 L 215.648438 414.355469 L 215.726562 414.355469 L 215.765625 415.316406 L 215.804688 413.066406 L 215.839844 415.910156 L 215.878906 409.386719 L 215.917969 414.628906 L 215.957031 415.117188 L 215.996094 416.308594 L 216.035156 415.511719 L 216.070312 415.0625 L 216.109375 413.863281 L 216.148438 413.449219 L 216.1875 412.804688 L 216.226562 412.804688 L 216.265625 413.257812 L 216.300781 412.925781 L 216.339844 412.773438 L 216.378906 413.191406 L 216.417969 414.007812 L 216.457031 414.007812 L 216.496094 414.011719 L 216.53125 415.105469 L 216.570312 415.105469 L 216.609375 409.480469 L 216.648438 409.480469 L 216.6875 405.929688 L 216.726562 406.195312 L 216.761719 406.195312 L 216.800781 408.835938 L 216.839844 408.835938 L 216.878906 415.476562 L 216.917969 414.761719 L 216.953125 414.726562 L 216.992188 413.804688 L 217.03125 410.808594 L 217.070312 411.375 L 217.109375 411.789062 L 217.148438 410.933594 L 217.183594 415.867188 L 217.222656 412.019531 L 217.261719 413.074219 L 217.300781 411.464844 L 217.339844 405.792969 L 217.378906 405.007812 L 217.414062 412.492188 L 217.453125 415.207031 L 217.492188 415.207031 L 217.53125 416.574219 L 217.570312 416.339844 L 217.609375 415.738281 L 217.644531 416.273438 L 217.683594 416.5 L 217.722656 416.5 L 217.761719 416.234375 L 217.800781 415.664062 L 217.839844 412.625 L 217.875 412.777344 L 217.953125 412.777344 L 217.992188 414.8125 L 218.03125 415.773438 L 218.070312 411.839844 L 218.105469 412.601562 L 218.144531 412.125 L 218.183594 411.917969 L 218.222656 414.835938 L 218.261719 415.78125 L 218.335938 415.78125 L 218.375 416.121094 L 218.414062 416.082031 L 218.453125 415.785156 L 218.492188 415.632812 L 218.53125 416.085938 L 218.566406 416.085938 L 218.605469 414.878906 L 218.644531 414.878906 L 218.683594 414.269531 L 218.722656 416.121094 L 218.761719 416.347656 L 218.796875 414.101562 L 218.835938 413.949219 L 218.875 415.847656 L 218.914062 408.199219 L 218.953125 401.179688 L 218.992188 401.179688 L 219.027344 400.679688 L 219.066406 411.433594 L 219.105469 413.511719 L 219.144531 415.421875 L 219.183594 415.15625 L 219.222656 414.34375 L 219.257812 412.066406 L 219.296875 413.363281 L 219.335938 414.832031 L 219.375 414.832031 L 219.414062 416.648438 L 219.453125 415.007812 L 219.488281 414.277344 L 219.527344 415.433594 L 219.566406 415.433594 L 219.605469 414.972656 L 219.644531 415.171875 L 219.683594 416.328125 L 219.71875 416.328125 L 219.757812 413.546875 L 219.796875 413.457031 L 219.875 415.738281 L 219.914062 416.039062 L 219.949219 413.546875 L 219.988281 414.566406 L 220.027344 413.914062 L 220.066406 416.007812 L 220.105469 416.308594 L 220.140625 415.039062 L 220.179688 415.234375 L 220.21875 415.125 L 220.257812 415.390625 L 220.296875 415.390625 L 220.335938 416.800781 L 220.371094 416.234375 L 220.410156 416.234375 L 220.449219 415.921875 L 220.488281 415.921875 L 220.527344 415.886719 L 220.566406 415.886719 L 220.601562 416.050781 L 220.640625 415.78125 L 220.679688 414.558594 L 220.71875 411.261719 L 220.757812 408.929688 L 220.796875 402.234375 L 220.832031 416.039062 L 220.871094 407.582031 L 220.910156 414.570312 L 220.949219 414.570312 L 220.988281 413.964844 L 221.027344 414.511719 L 221.0625 414.816406 L 221.101562 415.480469 L 221.140625 411.542969 L 221.179688 409.234375 L 221.21875 408.910156 L 221.257812 415.476562 L 221.292969 415.015625 L 221.332031 403.226562 L 221.371094 403.453125 L 221.410156 415.347656 L 221.449219 411.929688 L 221.488281 414.457031 L 221.523438 414.457031 L 221.5625 416.023438 L 221.601562 416.007812 L 221.640625 414.226562 L 221.679688 414.226562 L 221.71875 415.285156 L 221.753906 414.050781 L 221.792969 413.367188 L 221.832031 413.367188 L 221.871094 416.800781 L 221.910156 406.480469 L 221.949219 415.058594 L 221.984375 415.054688 L 222.023438 415.441406 L 222.0625 414.898438 L 222.101562 416.15625 L 222.140625 415.613281 L 222.179688 414.375 L 222.214844 402.605469 L 222.253906 415.585938 L 222.292969 415.359375 L 222.332031 415.1875 L 222.371094 408.53125 L 222.410156 404.027344 L 222.445312 404.027344 L 222.484375 404.527344 L 222.523438 404.839844 L 222.5625 404.6875 L 222.601562 407.921875 L 222.640625 412.367188 L 222.675781 412.960938 L 222.714844 411.566406 L 222.753906 412.027344 L 222.792969 409.507812 L 222.832031 409.507812 L 222.871094 408.902344 L 222.90625 399.851562 L 222.945312 403.175781 L 222.984375 387.84375 L 223.023438 387.878906 L 223.0625 405.628906 L 223.101562 410.289062 L 223.136719 415.488281 L 223.175781 416.308594 L 223.214844 414.761719 L 223.253906 413.703125 L 223.292969 414.277344 L 223.332031 414.277344 L 223.367188 414.246094 L 223.40625 413.296875 L 223.445312 415.53125 L 223.484375 415.886719 L 223.523438 415.359375 L 223.558594 415.660156 L 223.597656 414.046875 L 223.636719 410.929688 L 223.675781 403.890625 L 223.714844 403.902344 L 223.753906 416.339844 L 223.789062 411.160156 L 223.828125 405.761719 L 223.867188 404.402344 L 223.90625 404.878906 L 223.945312 407.800781 L 223.984375 394.910156 L 224.019531 400.816406 L 224.058594 390.507812 L 224.097656 391.363281 L 224.136719 399.90625 L 224.175781 395.699219 L 224.214844 406.480469 L 224.25 408.296875 L 224.289062 408.296875 L 224.328125 411.902344 L 224.367188 411.902344 L 224.40625 414.472656 L 224.445312 414.113281 L 224.480469 410.253906 L 224.519531 404.554688 L 224.558594 404.863281 L 224.597656 404.390625 L 224.636719 406.933594 L 224.675781 406.933594 L 224.710938 407.882812 L 224.75 416.800781 L 224.789062 415.59375 L 224.828125 413.269531 L 224.867188 413.269531 L 224.90625 413.394531 L 224.941406 413.394531 L 224.980469 399.808594 L 225.019531 400.054688 L 225.058594 400.054688 L 225.097656 415.496094 L 225.136719 412.179688 L 225.171875 415.132812 L 225.25 415.132812 L 225.289062 415.910156 L 225.367188 415.910156 L 225.402344 415.875 L 225.441406 412.953125 L 225.480469 412.953125 L 225.519531 412.539062 L 225.558594 409.847656 L 225.597656 412.773438 L 225.632812 413.25 L 225.671875 412.492188 L 225.710938 412.492188 L 225.75 410.96875 L 225.789062 407.074219 L 225.828125 402.976562 L 225.863281 403.277344 L 225.902344 403.277344 L 225.941406 403.699219 L 225.980469 403.699219 L 226.019531 401.609375 L 226.058594 416.195312 L 226.09375 415.808594 L 226.132812 414.804688 L 226.171875 412.808594 L 226.210938 413.269531 L 226.25 412.777344 L 226.289062 412.429688 L 226.324219 414.480469 L 226.363281 416.15625 L 226.402344 402.691406 L 226.441406 403.167969 L 226.480469 410.453125 L 226.519531 413.359375 L 226.554688 415.175781 L 226.59375 415.175781 L 226.632812 415.59375 L 226.671875 415.59375 L 226.710938 395.847656 L 226.746094 409.777344 L 226.785156 409.652344 L 226.824219 414.054688 L 226.863281 414.054688 L 226.902344 413.152344 L 226.941406 415.421875 L 226.976562 415.421875 L 227.015625 416.199219 L 227.054688 412.808594 L 227.09375 409.878906 L 227.171875 409.878906 L 227.207031 416.347656 L 227.246094 416.234375 L 227.285156 415.96875 L 227.324219 415.554688 L 227.402344 415.554688 L 227.4375 415.210938 L 227.476562 415.476562 L 227.515625 415.25 L 227.554688 416.34375 L 227.59375 416.15625 L 227.632812 414.175781 L 227.667969 414.285156 L 227.707031 414.261719 L 227.746094 408.722656 L 227.785156 416.308594 L 227.824219 408.578125 L 227.863281 416.800781 L 227.898438 410.429688 L 227.9375 408.011719 L 227.976562 409.460938 L 228.015625 407.894531 L 228.054688 406.425781 L 228.09375 409.085938 L 228.128906 409.085938 L 228.167969 409.386719 L 228.207031 411.140625 L 228.246094 405.96875 L 228.285156 409.546875 L 228.324219 409.761719 L 228.359375 407.496094 L 228.398438 406.964844 L 228.4375 411.8125 L 228.476562 411.894531 L 228.515625 411.546875 L 228.554688 411.546875 L 228.589844 409.324219 L 228.628906 409.855469 L 228.667969 409.625 L 228.707031 410.722656 L 228.746094 410.988281 L 228.785156 414.742188 L 228.820312 407.292969 L 228.859375 407.558594 L 228.898438 407.558594 L 228.9375 416.074219 L 228.976562 404.566406 L 229.015625 398.871094 L 229.050781 397.632812 L 229.089844 398.277344 L 229.128906 402.53125 L 229.167969 401.125 L 229.207031 406.226562 L 229.246094 409.183594 L 229.28125 409.335938 L 229.320312 406.480469 L 229.359375 406.992188 L 229.398438 396.777344 L 229.4375 395.941406 L 229.476562 389.640625 L 229.511719 395.828125 L 229.550781 387.394531 L 229.589844 386.96875 L 229.628906 403.273438 L 229.667969 402.710938 L 229.707031 402.710938 L 229.742188 400.570312 L 229.78125 404.660156 L 229.820312 404.660156 L 229.859375 409.976562 L 229.898438 411.082031 L 229.9375 412.0625 L 229.972656 409.59375 L 230.011719 409.15625 L 230.050781 408.90625 L 230.089844 403.117188 L 230.128906 403.683594 L 230.164062 406.890625 L 230.203125 406.890625 L 230.242188 409.644531 L 230.28125 406.625 L 230.320312 413.945312 L 230.359375 413.347656 L 230.394531 415.972656 L 230.433594 398.226562 L 230.472656 384.097656 L 230.511719 399.542969 L 230.550781 409.574219 L 230.589844 408.738281 L 230.625 406.617188 L 230.664062 415.695312 L 230.703125 406.421875 L 230.742188 409.691406 L 230.78125 409.839844 L 230.820312 393.765625 L 230.855469 386.066406 L 230.894531 386.066406 L 230.933594 407.121094 L 230.972656 402.167969 L 231.011719 388.246094 L 231.050781 364.234375 L 231.085938 364.234375 L 231.125 379.542969 L 231.164062 378.894531 L 231.203125 401.554688 L 231.242188 408.757812 L 231.28125 408.757812 L 231.316406 412.144531 L 231.394531 412.144531 L 231.433594 403.769531 L 231.472656 406.828125 L 231.546875 406.828125 L 231.585938 415.855469 L 231.625 415.332031 L 231.664062 410.90625 L 231.703125 407.363281 L 231.742188 408.144531 L 231.777344 406.9375 L 231.816406 414.613281 L 231.855469 414.925781 L 231.894531 414.050781 L 231.933594 414.199219 L 231.972656 406.964844 L 232.007812 406.359375 L 232.085938 406.359375 L 232.125 403.117188 L 232.164062 398.382812 L 232.203125 397.59375 L 232.238281 397.859375 L 232.277344 407.90625 L 232.316406 406.851562 L 232.355469 411.292969 L 232.394531 408.863281 L 232.433594 408.636719 L 232.46875 406.847656 L 232.507812 406.699219 L 232.546875 410.421875 L 232.585938 410.027344 L 232.625 410.027344 L 232.664062 409.949219 L 232.699219 409.578125 L 232.738281 412.597656 L 232.777344 412.121094 L 232.816406 412.347656 L 232.855469 412.347656 L 232.894531 412.074219 L 232.929688 412.074219 L 232.96875 416.15625 L 233.007812 415.609375 L 233.046875 406.617188 L 233.085938 406.617188 L 233.125 414.835938 L 233.160156 415.277344 L 233.199219 415.117188 L 233.238281 415.121094 L 233.277344 413.148438 L 233.316406 411.753906 L 233.351562 400.203125 L 233.390625 404.359375 L 233.429688 405.046875 L 233.46875 410.042969 L 233.507812 410.027344 L 233.546875 410.175781 L 233.582031 416.34375 L 233.621094 415.167969 L 233.660156 413.1875 L 233.699219 402.464844 L 233.738281 407.523438 L 233.777344 410.925781 L 233.8125 415.351562 L 233.851562 414.984375 L 233.890625 415.820312 L 233.929688 407.023438 L 233.96875 407.023438 L 234.007812 404.929688 L 234.042969 412.253906 L 234.082031 412.910156 L 234.121094 409.335938 L 234.160156 409.335938 L 234.199219 413.167969 L 234.238281 411.265625 L 234.273438 410.203125 L 234.3125 411.101562 L 234.351562 411.101562 L 234.390625 411.609375 L 234.429688 410.820312 L 234.46875 413.730469 L 234.503906 415.421875 L 234.542969 416.347656 L 234.582031 415.289062 L 234.621094 414.527344 L 234.660156 411.335938 L 234.734375 411.335938 L 234.773438 415.390625 L 234.8125 413.398438 L 234.851562 413.398438 L 234.890625 412.207031 L 234.929688 412.507812 L 234.964844 410.679688 L 235.003906 412.847656 L 235.042969 407.539062 L 235.082031 407.046875 L 235.121094 407.195312 L 235.160156 405.804688 L 235.195312 394.875 L 235.234375 394.855469 L 235.273438 394.855469 L 235.3125 396.085938 L 235.351562 396.386719 L 235.390625 396.386719 L 235.425781 413.957031 L 235.464844 414.222656 L 235.503906 396.039062 L 235.542969 399.503906 L 235.582031 398.074219 L 235.621094 389.902344 L 235.65625 395.976562 L 235.695312 401.242188 L 235.734375 295.085938 L 235.773438 294.820312 L 235.8125 332.011719 L 235.851562 332.011719 L 235.886719 333.03125 L 235.925781 395.917969 L 235.964844 395.15625 L 236.003906 399.085938 L 236.042969 411.035156 L 236.082031 397.382812 L 236.117188 397.613281 L 236.15625 402.585938 L 236.195312 409.941406 L 236.234375 409.941406 L 236.273438 403.046875 L 236.3125 402.78125 L 236.347656 400.0625 L 236.386719 402.730469 L 236.425781 406.617188 L 236.464844 389.597656 L 236.503906 389.597656 L 236.539062 389.898438 L 236.578125 388.515625 L 236.617188 398.53125 L 236.65625 408.316406 L 236.695312 412.144531 L 236.734375 395.730469 L 236.769531 392.980469 L 236.808594 392.980469 L 236.847656 392.507812 L 236.886719 392.507812 L 236.925781 393.78125 L 237 393.78125 L 237.039062 392.15625 L 237.078125 400.683594 L 237.117188 400.386719 L 237.15625 400.386719 L 237.195312 397.722656 L 237.230469 397.191406 L 237.269531 413.5 L 237.308594 415.644531 L 237.347656 407.308594 L 237.386719 397.328125 L 237.425781 396.589844 L 237.5 396.589844 L 237.539062 414.402344 L 237.578125 408.753906 L 237.617188 408.753906 L 237.65625 409.019531 L 237.691406 408.546875 L 237.730469 408.546875 L 237.769531 410.398438 L 237.808594 410.398438 L 237.847656 405.707031 L 237.886719 403.625 L 237.921875 403.625 L 237.960938 411.714844 L 238 411.714844 L 238.039062 413.175781 L 238.078125 413.027344 L 238.117188 409.515625 L 238.152344 409.667969 L 238.191406 405.582031 L 238.230469 405.582031 L 238.269531 405.082031 L 238.308594 404.933594 L 238.347656 404.933594 L 238.382812 415.160156 L 238.421875 412.476562 L 238.5 412.476562 L 238.539062 414.832031 L 238.578125 412.25 L 238.613281 414.238281 L 238.652344 415.589844 L 238.691406 415.589844 L 238.730469 407.515625 L 238.769531 407.777344 L 238.808594 409.4375 L 238.84375 416.308594 L 238.882812 413.042969 L 238.921875 408.242188 L 238.960938 410.144531 L 239 406.984375 L 239.039062 410.585938 L 239.074219 410.585938 L 239.113281 411.558594 L 239.152344 411.46875 L 239.191406 412.546875 L 239.230469 412.726562 L 239.269531 414.199219 L 239.304688 414.199219 L 239.34375 414.785156 L 239.382812 414.753906 L 239.421875 414.453125 L 239.460938 415.007812 L 239.5 415.160156 L 239.535156 415.777344 L 239.574219 414.785156 L 239.613281 415.507812 L 239.652344 416.234375 L 239.691406 415.480469 L 239.730469 413.402344 L 239.765625 414.304688 L 239.804688 414.039062 L 239.84375 414.039062 L 239.882812 411.136719 L 239.921875 411.136719 L 239.957031 407.722656 L 239.996094 407.160156 L 240.035156 406.742188 L 240.074219 414.757812 L 240.113281 414.757812 L 240.152344 413.121094 L 240.1875 411.003906 L 240.226562 412.59375 L 240.265625 414.066406 L 240.304688 413.652344 L 240.34375 413.8125 L 240.382812 414.570312 L 240.417969 415.703125 L 240.457031 415.703125 L 240.496094 415.441406 L 240.535156 415.207031 L 240.574219 415.207031 L 240.613281 413.058594 L 240.648438 412.839844 L 240.6875 411.128906 L 240.726562 411.734375 L 240.765625 412.261719 L 240.804688 415.726562 L 240.84375 409.972656 L 240.878906 409.742188 L 240.917969 409.300781 L 240.957031 410 L 240.996094 404.199219 L 241.035156 404.199219 L 241.074219 397.277344 L 241.109375 403.082031 L 241.148438 403.082031 L 241.1875 412.78125 L 241.265625 412.78125 L 241.304688 410.472656 L 241.339844 410.164062 L 241.378906 411.945312 L 241.417969 411.945312 L 241.457031 408.707031 L 241.496094 407.632812 L 241.535156 407.632812 L 241.570312 407.601562 L 241.609375 413.1875 L 241.648438 411.074219 L 241.6875 412.691406 L 241.726562 412.582031 L 241.765625 412.582031 L 241.800781 412.132812 L 241.839844 412.613281 L 241.878906 413.679688 L 241.917969 413.679688 L 241.957031 413.867188 L 241.996094 414.46875 L 242.03125 411.324219 L 242.070312 411.625 L 242.109375 388.75 L 242.148438 391.691406 L 242.1875 380.921875 L 242.226562 381.488281 L 242.261719 381.488281 L 242.300781 414.894531 L 242.339844 415.328125 L 242.378906 415.632812 L 242.417969 414.886719 L 242.457031 411.09375 L 242.492188 411.773438 L 242.53125 411.851562 L 242.570312 411.699219 L 242.609375 414.351562 L 242.648438 414.085938 L 242.6875 415.082031 L 242.722656 415.496094 L 242.761719 411.902344 L 242.839844 411.902344 L 242.878906 411.371094 L 242.917969 411.925781 L 242.953125 413.820312 L 242.992188 412.960938 L 243.03125 413.492188 L 243.070312 415.910156 L 243.109375 415.910156 L 243.144531 415.648438 L 243.183594 415.648438 L 243.222656 415.566406 L 243.261719 414.265625 L 243.300781 410.921875 L 243.339844 410.207031 L 243.375 410.207031 L 243.414062 411.523438 L 243.453125 411.316406 L 243.492188 410.0625 L 243.53125 410.289062 L 243.570312 410.96875 L 243.605469 411.585938 L 243.644531 412.011719 L 243.722656 412.011719 L 243.761719 415.582031 L 243.835938 415.582031 L 243.875 415.855469 L 243.914062 415.855469 L 243.953125 415.417969 L 243.992188 415.683594 L 244.03125 406.785156 L 244.144531 406.785156 L 244.183594 407.199219 L 244.296875 407.199219 L 244.335938 406.816406 L 244.375 411.410156 L 244.414062 410.695312 L 244.453125 412.769531 L 244.492188 411.847656 L 244.527344 412.445312 L 244.566406 409.011719 L 244.605469 409.011719 L 244.644531 410.652344 L 244.683594 411.570312 L 244.722656 413.90625 L 244.757812 414.058594 L 244.796875 415.59375 L 244.835938 415.59375 L 244.875 415.742188 L 244.914062 415.683594 L 244.953125 415.519531 L 244.988281 415.519531 L 245.027344 414.390625 L 245.066406 414.390625 L 245.105469 413.675781 L 245.144531 412.695312 L 245.183594 412.996094 L 245.257812 412.996094 L 245.296875 413.375 L 245.335938 413.675781 L 245.375 413.675781 L 245.414062 407.832031 L 245.449219 406.324219 L 245.488281 407.050781 L 245.527344 410.089844 L 245.566406 406.847656 L 245.605469 405.039062 L 245.644531 405.417969 L 245.679688 408.804688 L 245.71875 409.921875 L 245.757812 408.425781 L 245.796875 408.921875 L 245.835938 412.960938 L 245.875 410.703125 L 245.910156 410.890625 L 245.949219 414.453125 L 245.988281 410.441406 L 246.027344 411.050781 L 246.066406 413.613281 L 246.105469 410.386719 L 246.140625 411.613281 L 246.179688 411.613281 L 246.21875 412.355469 L 246.257812 413.855469 L 246.296875 414.179688 L 246.335938 413.8125 L 246.371094 413.8125 L 246.410156 415.277344 L 246.449219 414.632812 L 246.488281 412.066406 L 246.527344 412.160156 L 246.5625 407.523438 L 246.601562 407.523438 L 246.640625 405.339844 L 246.679688 412.410156 L 246.71875 409.554688 L 246.757812 410.421875 L 246.792969 403.34375 L 246.832031 415.136719 L 246.871094 415.0625 L 246.910156 383.214844 L 246.949219 383.0625 L 246.988281 392.550781 L 247.0625 392.550781 L 247.101562 392.578125 L 247.140625 398.816406 L 247.179688 404.484375 L 247.21875 401.945312 L 247.253906 401.945312 L 247.292969 396.65625 L 247.332031 389.261719 L 247.371094 390.542969 L 247.410156 393.226562 L 247.449219 393.6875 L 247.484375 393.6875 L 247.523438 396.226562 L 247.5625 402.941406 L 247.601562 401.769531 L 247.640625 409.105469 L 247.679688 409.253906 L 247.714844 408.203125 L 247.753906 407.902344 L 247.792969 409.46875 L 247.832031 409.46875 L 247.871094 408.710938 L 247.910156 410.789062 L 247.945312 414.265625 L 248.023438 414.265625 L 248.0625 402.390625 L 248.101562 403.789062 L 248.140625 403.9375 L 248.175781 408.542969 L 248.214844 408.246094 L 248.253906 408.246094 L 248.292969 414.34375 L 248.332031 414.34375 L 248.371094 410.980469 L 248.40625 411.746094 L 248.445312 412.273438 L 248.484375 412.539062 L 248.523438 412.390625 L 248.5625 416.5 L 248.601562 416.5 L 248.636719 416.15625 L 248.675781 412.160156 L 248.714844 411.554688 L 248.753906 410.386719 L 248.792969 410.992188 L 248.832031 414.492188 L 248.867188 414.246094 L 248.90625 413.40625 L 248.945312 413.492188 L 248.984375 415.421875 L 249.023438 416.328125 L 249.0625 413.730469 L 249.097656 413.101562 L 249.136719 413.101562 L 249.175781 416.5 L 249.214844 416.386719 L 249.253906 414.035156 L 249.292969 414.300781 L 249.328125 415.585938 L 249.367188 415.507812 L 249.40625 410.4375 L 249.445312 409.03125 L 249.484375 410.429688 L 249.523438 410.429688 L 249.558594 411.65625 L 249.597656 408.765625 L 249.636719 409.226562 L 249.675781 411.839844 L 249.714844 410.3125 L 249.75 410.3125 L 249.789062 410.964844 L 249.867188 410.964844 L 249.90625 411.234375 L 249.945312 396.914062 L 249.980469 393.320312 L 250.019531 394.378906 L 250.058594 413.816406 L 250.097656 413.121094 L 250.136719 412.855469 L 250.175781 411.367188 L 250.210938 403.941406 L 250.25 407.304688 L 250.289062 406.71875 L 250.328125 406.71875 L 250.367188 413.941406 L 250.40625 407.46875 L 250.441406 406.695312 L 250.480469 411.945312 L 250.519531 409.25 L 250.558594 409.71875 L 250.597656 407.078125 L 250.636719 408.707031 L 250.671875 410.945312 L 250.710938 410.566406 L 250.75 413.003906 L 250.789062 413.304688 L 250.828125 408.347656 L 250.867188 407.875 L 250.902344 406.289062 L 250.941406 411.058594 L 250.980469 408.171875 L 251.019531 408.585938 L 251.058594 408.585938 L 251.097656 412.320312 L 251.132812 411.632812 L 251.210938 411.632812 L 251.25 414.796875 L 251.289062 416.269531 L 251.328125 413.300781 L 251.363281 413.769531 L 251.402344 414.554688 L 251.441406 414.714844 L 251.480469 413.433594 L 251.519531 413.199219 L 251.558594 414.101562 L 251.59375 412.523438 L 251.632812 414.242188 L 251.671875 414.542969 L 251.710938 411.605469 L 251.75 412.335938 L 251.789062 413.882812 L 251.824219 404.292969 L 251.863281 403.019531 L 251.902344 401.953125 L 251.941406 401.804688 L 251.980469 401.804688 L 252.019531 409.355469 L 252.054688 406.109375 L 252.09375 406.109375 L 252.132812 403.480469 L 252.171875 399.234375 L 252.210938 406.03125 L 252.25 406.03125 L 252.285156 406.964844 L 252.324219 403.945312 L 252.363281 408.253906 L 252.402344 410.445312 L 252.441406 410.445312 L 252.480469 411.296875 L 252.515625 413.382812 L 252.554688 413.082031 L 252.59375 414.183594 L 252.632812 412.941406 L 252.671875 413.039062 L 252.710938 412.832031 L 252.746094 416.234375 L 252.785156 413.03125 L 252.824219 416.039062 L 252.863281 414.449219 L 252.902344 413.097656 L 252.941406 413.9375 L 252.976562 414.664062 L 253.015625 414.1875 L 253.054688 415.285156 L 253.09375 414.390625 L 253.132812 415.972656 L 253.167969 416.800781 L 253.207031 415.5625 L 253.246094 410.464844 L 253.285156 410.878906 L 253.324219 409.96875 L 253.363281 405.082031 L 253.398438 409.851562 L 253.4375 415.164062 L 253.476562 413.824219 L 253.515625 415.214844 L 253.554688 415.199219 L 253.59375 416.347656 L 253.628906 416.234375 L 253.667969 415.242188 L 253.707031 414.988281 L 253.746094 416.347656 L 253.785156 415.972656 L 253.824219 415.335938 L 253.859375 415.246094 L 253.898438 415.246094 L 253.9375 413.664062 L 253.976562 414.101562 L 254.015625 415.234375 L 254.054688 413.394531 L 254.089844 413.542969 L 254.128906 412.023438 L 254.167969 414.597656 L 254.207031 413.832031 L 254.246094 413.832031 L 254.285156 415.933594 L 254.320312 415.277344 L 254.359375 415.554688 L 254.398438 415.335938 L 254.4375 415.25 L 254.476562 413.867188 L 254.515625 415.972656 L 254.550781 416.234375 L 254.589844 415.875 L 254.628906 416.800781 L 254.667969 416.5 L 254.707031 416.5 L 254.746094 416.027344 L 254.78125 416.023438 L 254.820312 415.796875 L 254.859375 413.421875 L 254.898438 413.273438 L 254.976562 413.273438 L 255.011719 414.097656 L 255.050781 412.828125 L 255.089844 413.144531 L 255.128906 415.5625 L 255.167969 415.5625 L 255.207031 415.960938 L 255.242188 415.960938 L 255.28125 415.457031 L 255.320312 414.941406 L 255.359375 415.203125 L 255.398438 412.527344 L 255.4375 412.515625 L 255.472656 410.28125 L 255.511719 414.125 L 255.550781 415.777344 L 255.628906 415.777344 L 255.667969 416.078125 L 255.703125 358.796875 L 255.742188 359.257812 L 255.78125 415.175781 L 255.820312 413.503906 L 255.859375 411.578125 L 255.898438 411.808594 L 255.933594 412.988281 L 255.972656 412.835938 L 256.011719 415.476562 L 256.050781 415.550781 L 256.089844 411.3125 L 256.128906 411.4375 L 256.164062 413.882812 L 256.203125 414.160156 L 256.242188 415.367188 L 256.28125 416.039062 L 256.320312 413.539062 L 256.355469 414.722656 L 256.394531 414.21875 L 256.433594 412.066406 L 256.472656 411.820312 L 256.511719 411.820312 L 256.550781 409.460938 L 256.585938 414.316406 L 256.625 415.167969 L 256.664062 416.5 L 256.703125 416.007812 L 256.742188 416.007812 L 256.78125 414.585938 L 256.816406 413.699219 L 256.855469 413.851562 L 256.894531 414.648438 L 256.933594 416.039062 L 256.972656 413.492188 L 257.011719 414.367188 L 257.046875 410.648438 L 257.085938 410.070312 L 257.125 410.316406 L 257.164062 410.316406 L 257.203125 410.464844 L 257.242188 410.464844 L 257.277344 416.15625 L 257.316406 402.734375 L 257.355469 402.738281 L 257.394531 414.695312 L 257.433594 414.46875 L 257.472656 415.808594 L 257.507812 415.335938 L 257.546875 416.097656 L 257.585938 415.164062 L 257.625 416.199219 L 257.664062 415.664062 L 257.703125 414.0625 L 257.738281 408.886719 L 257.777344 410.15625 L 257.816406 414.851562 L 257.855469 414.820312 L 257.894531 415.328125 L 257.933594 413.128906 L 257.96875 410.5625 L 258.007812 410.710938 L 258.046875 410.640625 L 258.085938 409.5 L 258.125 412.285156 L 258.164062 405.183594 L 258.199219 405.183594 L 258.238281 405.484375 L 258.277344 413.132812 L 258.316406 413.0625 L 258.355469 414.238281 L 258.394531 416.800781 L 258.429688 416.800781 L 258.46875 412.789062 L 258.507812 412.5625 L 258.546875 412.03125 L 258.585938 416.074219 L 258.625 416.800781 L 258.660156 416.800781 L 258.699219 411.703125 L 258.738281 413.164062 L 258.777344 412.257812 L 258.816406 412.257812 L 258.855469 412.488281 L 258.890625 415.402344 L 258.929688 413.816406 L 258.96875 406.292969 L 259.007812 406.226562 L 259.046875 407.160156 L 259.085938 413.472656 L 259.121094 408.246094 L 259.160156 408.097656 L 259.199219 415.96875 L 259.277344 415.96875 L 259.316406 415.855469 L 259.351562 415.703125 L 259.390625 415.289062 L 259.429688 409.976562 L 259.46875 410.394531 L 259.507812 410.660156 L 259.542969 412.261719 L 259.582031 412.261719 L 259.621094 412.015625 L 259.660156 411.867188 L 259.699219 415.761719 L 259.738281 409.25 L 259.773438 400.375 L 259.8125 400.375 L 259.851562 400.789062 L 259.890625 400.789062 L 259.929688 400.679688 L 259.96875 400.679688 L 260.003906 404.035156 L 260.042969 405.277344 L 260.082031 405.242188 L 260.121094 399.929688 L 260.160156 399.46875 L 260.199219 407.691406 L 260.234375 407.542969 L 260.273438 415.1875 L 260.3125 407.421875 L 260.351562 403.582031 L 260.390625 403.582031 L 260.429688 415.136719 L 260.464844 414.191406 L 260.503906 413.121094 L 260.542969 410.90625 L 260.582031 415.855469 L 260.621094 416.121094 L 260.660156 415.929688 L 260.695312 415.589844 L 260.734375 415.667969 L 260.773438 415.363281 L 260.8125 415.660156 L 260.851562 414.589844 L 260.890625 414.738281 L 260.925781 414.589844 L 260.964844 412.535156 L 261.003906 410.828125 L 261.042969 412.847656 L 261.082031 412.777344 L 261.121094 415.042969 L 261.15625 415.042969 L 261.195312 415.054688 L 261.234375 415.054688 L 261.273438 407.375 L 261.3125 406.914062 L 261.351562 413.511719 L 261.386719 416.648438 L 261.425781 416.648438 L 261.464844 415.65625 L 261.503906 411.089844 L 261.542969 409.261719 L 261.582031 403.609375 L 261.617188 404.085938 L 261.65625 407.851562 L 261.695312 402.132812 L 261.734375 407.671875 L 261.773438 406.316406 L 261.8125 407.8125 L 261.847656 411.585938 L 261.886719 411.585938 L 261.925781 406.609375 L 261.964844 413.269531 L 262.003906 399.40625 L 262.042969 399.714844 L 262.078125 409.851562 L 262.117188 395.871094 L 262.15625 396.25 L 262.195312 393.125 L 262.234375 392.824219 L 262.273438 411.660156 L 262.308594 410.3125 L 262.347656 410.3125 L 262.386719 410.320312 L 262.425781 410.257812 L 262.464844 407.617188 L 262.503906 407.753906 L 262.539062 406.847656 L 262.578125 404.140625 L 262.617188 403.566406 L 262.65625 410.351562 L 262.695312 411.738281 L 262.734375 407.339844 L 262.769531 407.339844 L 262.808594 413.851562 L 262.847656 413.851562 L 262.886719 415.402344 L 262.925781 408.566406 L 262.960938 400.359375 L 263 406.03125 L 263.039062 406.386719 L 263.078125 407.261719 L 263.117188 407.261719 L 263.15625 412.617188 L 263.191406 387.398438 L 263.230469 415.242188 L 263.269531 415.4375 L 263.308594 415.585938 L 263.347656 407.90625 L 263.386719 401.191406 L 263.421875 406.921875 L 263.460938 407.1875 L 263.5 414.453125 L 263.539062 410.242188 L 263.578125 409.65625 L 263.617188 410.261719 L 263.652344 400.371094 L 263.691406 406.820312 L 263.730469 401.253906 L 263.769531 401.480469 L 263.808594 395.398438 L 263.847656 384.777344 L 263.882812 401.890625 L 263.921875 400.117188 L 263.960938 400.265625 L 264 394.367188 L 264.039062 391.875 L 264.078125 391.875 L 264.113281 399.734375 L 264.152344 407.921875 L 264.191406 412.558594 L 264.230469 412.558594 L 264.269531 411.15625 L 264.308594 409.984375 L 264.34375 409.835938 L 264.382812 407.628906 L 264.421875 401.929688 L 264.460938 401.929688 L 264.5 402.613281 L 264.539062 403.519531 L 264.574219 403.96875 L 264.613281 403.742188 L 264.652344 403.742188 L 264.691406 403.890625 L 264.730469 404.605469 L 264.769531 400.917969 L 264.804688 380.160156 L 264.84375 393.40625 L 264.882812 393.40625 L 264.921875 364.144531 L 264.960938 391.964844 L 265 386.542969 L 265.035156 408.40625 L 265.074219 413.378906 L 265.113281 399.671875 L 265.152344 390.101562 L 265.191406 390.101562 L 265.230469 387.082031 L 265.265625 387.082031 L 265.304688 402.378906 L 265.34375 401.386719 L 265.382812 401.503906 L 265.421875 389.449219 L 265.460938 399.203125 L 265.496094 401.097656 L 265.535156 411.671875 L 265.574219 403.289062 L 265.613281 405.601562 L 265.652344 401.976562 L 265.691406 410.328125 L 265.726562 398.398438 L 265.765625 397.796875 L 265.804688 403.109375 L 265.84375 392.460938 L 265.882812 391.296875 L 265.921875 381.773438 L 265.957031 394.996094 L 265.996094 394.769531 L 266.035156 377.425781 L 266.074219 361.097656 L 266.113281 355.871094 L 266.148438 359.460938 L 266.1875 369.042969 L 266.226562 384.992188 L 266.34375 384.992188 L 266.378906 385.257812 L 266.417969 391.421875 L 266.457031 406.921875 L 266.496094 402.8125 L 266.535156 400.082031 L 266.574219 402.882812 L 266.609375 402.882812 L 266.648438 406.695312 L 266.6875 408.792969 L 266.726562 408.792969 L 266.765625 389.890625 L 266.804688 389.890625 L 266.839844 390.039062 L 266.878906 403.898438 L 266.917969 388.242188 L 266.957031 391.640625 L 266.996094 370.597656 L 267.035156 383.769531 L 267.070312 394.304688 L 267.109375 394.15625 L 267.148438 394.15625 L 267.1875 411.679688 L 267.226562 402.046875 L 267.265625 393.046875 L 267.300781 402.949219 L 267.339844 405.878906 L 267.378906 403.011719 L 267.417969 408.714844 L 267.457031 403.46875 L 267.496094 398.957031 L 267.53125 398.75 L 267.570312 398.980469 L 267.609375 408.371094 L 267.648438 411.191406 L 267.726562 411.191406 L 267.761719 415.59375 L 267.800781 415.59375 L 267.839844 412.519531 L 267.878906 413.046875 L 267.917969 413.75 L 267.957031 408.402344 L 267.992188 400.132812 L 268.03125 400.132812 L 268.070312 392.675781 L 268.109375 384.601562 L 268.148438 399.371094 L 268.1875 399.371094 L 268.222656 413.609375 L 268.261719 397.613281 L 268.300781 397.464844 L 268.339844 383.632812 L 268.378906 378.035156 L 268.417969 369.914062 L 268.453125 390.074219 L 268.492188 392.519531 L 268.53125 387.507812 L 268.570312 387.242188 L 268.609375 394.835938 L 268.648438 398.8125 L 268.683594 398.8125 L 268.722656 396.171875 L 268.761719 408.519531 L 268.800781 408.40625 L 268.839844 413.261719 L 268.878906 409.808594 L 268.914062 409.808594 L 268.953125 403.644531 L 268.992188 402.363281 L 269.03125 412.71875 L 269.070312 409.5 L 269.109375 409.5 L 269.144531 409.289062 L 269.183594 410.992188 L 269.222656 411.140625 L 269.261719 414.8125 L 269.300781 415.695312 L 269.339844 416.234375 L 269.375 415.910156 L 269.414062 399.152344 L 269.453125 387.007812 L 269.492188 386.78125 L 269.53125 407.257812 L 269.566406 400.742188 L 269.605469 382.519531 L 269.644531 386.785156 L 269.683594 391.179688 L 269.722656 390.914062 L 269.761719 394.097656 L 269.796875 394.097656 L 269.835938 394.164062 L 269.875 412.03125 L 269.914062 397.316406 L 269.953125 397.316406 L 269.992188 388.257812 L 270.027344 395.648438 L 270.066406 388.667969 L 270.144531 388.667969 L 270.183594 412.042969 L 270.222656 412.820312 L 270.257812 413.679688 L 270.296875 412.105469 L 270.335938 412.160156 L 270.375 412.160156 L 270.414062 402.007812 L 270.453125 407.292969 L 270.488281 407.066406 L 270.527344 408.625 L 270.566406 405.796875 L 270.605469 411.085938 L 270.644531 411.628906 L 270.683594 408.421875 L 270.757812 408.421875 L 270.796875 403.050781 L 270.835938 404.125 L 270.875 408.5 L 270.914062 408.734375 L 270.949219 408.734375 L 270.988281 414.527344 L 271.027344 414.675781 L 271.066406 410.988281 L 271.105469 407.496094 L 271.144531 407.761719 L 271.179688 409.371094 L 271.21875 409.636719 L 271.257812 411.535156 L 271.296875 411.234375 L 271.335938 404.535156 L 271.375 407.613281 L 271.410156 407.136719 L 271.449219 400.476562 L 271.488281 400.328125 L 271.527344 403.507812 L 271.566406 413.367188 L 271.605469 413.367188 L 271.640625 411.566406 L 271.679688 413.757812 L 271.71875 412.703125 L 271.757812 412.402344 L 271.796875 412.273438 L 271.835938 412.421875 L 271.871094 410.84375 L 271.910156 411.21875 L 271.949219 407.558594 L 271.988281 407.835938 L 272.027344 410.640625 L 272.066406 416.15625 L 272.101562 416.15625 L 272.140625 414.019531 L 272.179688 412.394531 L 272.21875 413.828125 L 272.257812 413.5625 L 272.296875 414.644531 L 272.332031 414.492188 L 272.371094 413.515625 L 272.410156 413.605469 L 272.449219 409.042969 L 272.488281 413.019531 L 272.527344 413.019531 L 272.5625 413.167969 L 272.601562 410.1875 L 272.640625 410.035156 L 272.679688 411.273438 L 272.71875 415.03125 L 272.753906 413.605469 L 272.792969 412.253906 L 272.832031 411.792969 L 272.871094 411.792969 L 272.910156 410.546875 L 272.949219 410.695312 L 272.984375 406.101562 L 273.023438 406.519531 L 273.0625 407.128906 L 273.101562 409.121094 L 273.140625 400.230469 L 273.179688 401.578125 L 273.214844 398.707031 L 273.253906 398.707031 L 273.292969 407.769531 L 273.332031 402.347656 L 273.371094 405.546875 L 273.410156 407.082031 L 273.445312 404.34375 L 273.484375 409.511719 L 273.523438 409.511719 L 273.5625 409.902344 L 273.601562 410.316406 L 273.640625 414.113281 L 273.675781 407.339844 L 273.714844 410.707031 L 273.753906 410.84375 L 273.792969 411.074219 L 273.832031 411.867188 L 273.871094 414.269531 L 273.90625 408.460938 L 273.945312 408.460938 L 273.984375 415.394531 L 274.023438 415.394531 L 274.0625 415.773438 L 274.101562 415.5 L 274.136719 415.867188 L 274.175781 414.820312 L 274.214844 413.125 L 274.253906 414.875 L 274.292969 414.941406 L 274.332031 416.0625 L 274.367188 415.960938 L 274.40625 416.5 L 274.445312 415.175781 L 274.484375 413.503906 L 274.523438 416.648438 L 274.5625 413.675781 L 274.597656 412.582031 L 274.636719 412.582031 L 274.675781 411.710938 L 274.714844 410.285156 L 274.753906 412.679688 L 274.792969 411.324219 L 274.828125 412.230469 L 274.867188 408.503906 L 274.90625 410.535156 L 274.945312 412.277344 L 274.984375 413.75 L 275.023438 413.75 L 275.058594 413.289062 L 275.097656 409.773438 L 275.136719 409.476562 L 275.175781 404.800781 L 275.214844 407.25 L 275.253906 404.917969 L 275.289062 404.917969 L 275.328125 410.691406 L 275.367188 412.371094 L 275.40625 412.601562 L 275.445312 411.769531 L 275.484375 410.375 L 275.519531 411.457031 L 275.558594 413.136719 L 275.597656 412.484375 L 275.636719 410.4375 L 275.675781 410.4375 L 275.714844 410.171875 L 275.75 414.570312 L 275.828125 414.570312 L 275.867188 413.929688 L 275.90625 415.101562 L 275.941406 410.714844 L 275.980469 411.46875 L 276.019531 413.253906 L 276.058594 412.859375 L 276.097656 413.832031 L 276.136719 414.304688 L 276.171875 415.820312 L 276.210938 415.898438 L 276.25 415.125 L 276.289062 415.089844 L 276.328125 414.886719 L 276.367188 415.09375 L 276.402344 415.414062 L 276.441406 415.894531 L 276.480469 416.175781 L 276.519531 415.855469 L 276.558594 391.984375 L 276.597656 381.503906 L 276.632812 388.722656 L 276.671875 412.820312 L 276.710938 410.984375 L 276.75 410.347656 L 276.789062 407.882812 L 276.828125 416.308594 L 276.863281 416.800781 L 276.902344 415.898438 L 276.941406 415.199219 L 276.980469 413.769531 L 277.019531 414.242188 L 277.058594 415.867188 L 277.09375 413.089844 L 277.132812 413.089844 L 277.171875 399.566406 L 277.210938 398.160156 L 277.25 416.195312 L 277.289062 415.617188 L 277.324219 415.617188 L 277.363281 413.460938 L 277.402344 413.6875 L 277.441406 409.75 L 277.480469 409.523438 L 277.519531 405.214844 L 277.554688 405.21875 L 277.59375 405.21875 L 277.632812 407.734375 L 277.671875 410.5 L 277.710938 414.351562 L 277.75 414.742188 L 277.785156 413.867188 L 277.824219 409.769531 L 277.863281 404.125 L 277.902344 415.761719 L 277.941406 415.800781 L 277.980469 410.480469 L 278.015625 409.042969 L 278.132812 409.042969 L 278.171875 415.292969 L 278.210938 415.292969 L 278.246094 405.453125 L 278.285156 404.367188 L 278.324219 404.367188 L 278.363281 409.316406 L 278.402344 413.117188 L 278.441406 415.617188 L 278.476562 416.117188 L 278.515625 416.339844 L 278.554688 408.539062 L 278.59375 407.746094 L 278.632812 412.265625 L 278.671875 408.160156 L 278.707031 408.160156 L 278.746094 410.050781 L 278.785156 409.132812 L 278.824219 407.96875 L 278.863281 411.222656 L 278.902344 409.636719 L 278.9375 403.5 L 278.976562 411.863281 L 279.015625 414.304688 L 279.054688 410.609375 L 279.09375 409.550781 L 279.132812 407.414062 L 279.167969 406.664062 L 279.207031 408.015625 L 279.246094 411.785156 L 279.285156 414.742188 L 279.324219 400.894531 L 279.359375 400.894531 L 279.398438 401.332031 L 279.4375 401.183594 L 279.476562 401.03125 L 279.515625 403.953125 L 279.554688 401.429688 L 279.589844 394.203125 L 279.628906 410.929688 L 279.667969 412.019531 L 279.707031 412.5 L 279.746094 414.910156 L 279.785156 415.253906 L 279.820312 410.609375 L 279.859375 409 L 279.9375 409 L 279.976562 413.078125 L 280.015625 414.953125 L 280.050781 414.953125 L 280.089844 415.042969 L 280.128906 412.246094 L 280.167969 412.246094 L 280.207031 412.226562 L 280.246094 412.078125 L 280.28125 413.835938 L 280.320312 409.683594 L 280.359375 411.347656 L 280.398438 411.023438 L 280.4375 412.105469 L 280.476562 413.84375 L 280.511719 416.1875 L 280.550781 416.1875 L 280.589844 412.5 L 280.628906 412.5 L 280.667969 412.234375 L 280.707031 412.847656 L 280.742188 412.847656 L 280.78125 416.339844 L 280.820312 413.65625 L 280.859375 415.1875 L 280.898438 415.832031 L 280.9375 415.832031 L 280.972656 416.0625 L 281.011719 415.601562 L 281.050781 415.867188 L 281.089844 415.867188 L 281.128906 413.464844 L 281.167969 412.992188 L 281.242188 412.992188 L 281.28125 412.691406 L 281.320312 415.5625 L 281.359375 412.308594 L 281.398438 410.933594 L 281.433594 411.632812 L 281.472656 411.476562 L 281.511719 412.003906 L 281.550781 412.910156 L 281.589844 412.910156 L 281.628906 407.9375 L 281.664062 407.242188 L 281.703125 407.242188 L 281.742188 409.105469 L 281.78125 405.183594 L 281.820312 406.371094 L 281.859375 413.839844 L 281.894531 414.582031 L 281.933594 414.480469 L 281.972656 415.867188 L 282.011719 411.285156 L 282.089844 411.285156 L 282.125 414.9375 L 282.164062 416.648438 L 282.203125 414.976562 L 282.242188 416.800781 L 282.28125 416.347656 L 282.320312 413.933594 L 282.355469 416.109375 L 282.394531 415.582031 L 282.433594 414.636719 L 282.472656 414.21875 L 282.511719 414.195312 L 282.546875 414.792969 L 282.585938 413.863281 L 282.625 416.648438 L 282.664062 416.421875 L 282.703125 416.421875 L 282.742188 415.167969 L 282.777344 412.671875 L 282.816406 410.238281 L 282.855469 407.992188 L 282.894531 412 L 282.933594 415.253906 L 282.972656 412.867188 L 283.007812 410.6875 L 283.046875 409.820312 L 283.125 409.820312 L 283.164062 410.636719 L 283.203125 412.175781 L 283.238281 412.175781 L 283.277344 414.574219 L 283.316406 414.882812 L 283.355469 405.140625 L 283.394531 404.140625 L 283.433594 401.164062 L 283.46875 405.699219 L 283.507812 409.351562 L 283.546875 409.601562 L 283.585938 415.960938 L 283.625 416.082031 L 283.699219 416.082031 L 283.738281 415.609375 L 283.777344 414.886719 L 283.816406 414.886719 L 283.855469 415.335938 L 283.894531 414.886719 L 283.929688 415.113281 L 283.96875 415.726562 L 284.007812 415.75 L 284.046875 416.027344 L 284.085938 412.171875 L 284.125 412.984375 L 284.160156 411.027344 L 284.199219 414.960938 L 284.238281 412.1875 L 284.277344 408.417969 L 284.316406 405.691406 L 284.355469 409.820312 L 284.390625 412.03125 L 284.429688 415.132812 L 284.46875 416.535156 L 284.507812 416.386719 L 284.546875 401.894531 L 284.585938 411.921875 L 284.621094 411.921875 L 284.660156 406.753906 L 284.699219 410.714844 L 284.738281 416.117188 L 284.777344 416.117188 L 284.816406 412.765625 L 284.851562 415.46875 L 284.890625 416.386719 L 284.929688 415.175781 L 284.96875 415.566406 L 285.007812 414.964844 L 285.046875 416.648438 L 285.082031 416.386719 L 285.121094 414.414062 L 285.199219 414.414062 L 285.238281 413.636719 L 285.277344 413.636719 L 285.3125 411.773438 L 285.351562 410.59375 L 285.390625 410.5625 L 285.429688 412.355469 L 285.46875 412.550781 L 285.507812 415.820312 L 285.542969 416.039062 L 285.582031 415.601562 L 285.621094 414.898438 L 285.660156 415.324219 L 285.699219 415.777344 L 285.738281 416.347656 L 285.773438 414.875 L 285.8125 416.039062 L 285.851562 415.746094 L 285.890625 412.71875 L 285.929688 409.261719 L 285.964844 407.144531 L 286.003906 414.117188 L 286.042969 413.246094 L 286.082031 413.246094 L 286.121094 410.980469 L 286.160156 403.339844 L 286.195312 406.019531 L 286.234375 405.375 L 286.273438 404.898438 L 286.3125 411.878906 L 286.351562 407.578125 L 286.390625 406.632812 L 286.425781 412.355469 L 286.464844 410.839844 L 286.503906 409.371094 L 286.542969 406.347656 L 286.582031 406.84375 L 286.621094 409.042969 L 286.65625 408.367188 L 286.695312 412.460938 L 286.734375 411.867188 L 286.773438 407.667969 L 286.8125 406.964844 L 286.851562 411.371094 L 286.886719 410.410156 L 286.925781 410.636719 L 286.964844 404.167969 L 287.003906 404.546875 L 287.042969 408.035156 L 287.082031 408.035156 L 287.117188 411.867188 L 287.15625 415.195312 L 287.195312 414.582031 L 287.234375 414.378906 L 287.273438 414.527344 L 287.3125 412.8125 L 287.347656 412.964844 L 287.386719 412.433594 L 287.425781 415.898438 L 287.464844 414.945312 L 287.503906 413.425781 L 287.542969 414.375 L 287.578125 414.488281 L 287.617188 414.769531 L 287.65625 414.882812 L 287.695312 414.058594 L 287.734375 413.910156 L 287.773438 410.835938 L 287.808594 410.984375 L 287.847656 411.285156 L 287.886719 411.433594 L 287.925781 410.90625 L 287.964844 405.085938 L 288.003906 403.988281 L 288.039062 412.972656 L 288.078125 412.746094 L 288.117188 411.671875 L 288.15625 405.847656 L 288.195312 406.339844 L 288.234375 408.730469 L 288.269531 408.582031 L 288.308594 415.570312 L 288.347656 415.722656 L 288.386719 415.601562 L 288.425781 412.472656 L 288.464844 410.976562 L 288.5 411.832031 L 288.617188 411.832031 L 288.65625 412.304688 L 288.695312 413.828125 L 288.730469 415.253906 L 288.769531 415.480469 L 288.847656 415.480469 L 288.886719 414.988281 L 288.925781 415.214844 L 288.960938 414.226562 L 289 414.636719 L 289.039062 413.699219 L 289.152344 413.699219 L 289.191406 409.421875 L 289.230469 410.179688 L 289.269531 410.179688 L 289.308594 411.355469 L 289.347656 403.863281 L 289.382812 404.242188 L 289.421875 413.328125 L 289.460938 412.054688 L 289.5 412.636719 L 289.539062 412.371094 L 289.578125 409.828125 L 289.652344 409.828125 L 289.691406 413.175781 L 289.769531 413.175781 L 289.808594 414.746094 L 289.84375 414.746094 L 289.882812 410.277344 L 289.921875 410.277344 L 289.960938 409.976562 L 290 411.339844 L 290.039062 410.441406 L 290.074219 409.800781 L 290.113281 410.703125 L 290.152344 410.667969 L 290.191406 409.5 L 290.230469 410.085938 L 290.269531 410.726562 L 290.304688 413.246094 L 290.34375 413.398438 L 290.382812 412.796875 L 290.421875 412.199219 L 290.460938 414.285156 L 290.5 415.152344 L 290.535156 415.152344 L 290.574219 414.585938 L 290.613281 414.585938 L 290.652344 414.957031 L 290.691406 415.628906 L 290.765625 415.628906 L 290.804688 412 L 290.84375 411.847656 L 290.882812 414.882812 L 290.921875 415.632812 L 290.960938 415.632812 L 290.996094 411.546875 L 291.035156 411.546875 L 291.074219 411.8125 L 291.113281 337.414062 L 291.152344 412.550781 L 291.191406 408.902344 L 291.226562 411.824219 L 291.265625 410.960938 L 291.304688 413.40625 L 291.34375 407.195312 L 291.382812 380.558594 L 291.421875 384.632812 L 291.457031 390.585938 L 291.496094 390.8125 L 291.535156 409.777344 L 291.574219 409.777344 L 291.613281 413.921875 L 291.6875 413.921875 L 291.726562 406.105469 L 291.765625 406.105469 L 291.804688 406.257812 L 291.84375 352.09375 L 291.882812 349.089844 L 291.917969 351.605469 L 291.957031 402.660156 L 291.996094 400.351562 L 292.035156 403.28125 L 292.074219 403.28125 L 292.113281 416.339844 L 292.148438 415.808594 L 292.1875 413.050781 L 292.226562 412.523438 L 292.265625 411.558594 L 292.304688 414.328125 L 292.339844 414.328125 L 292.378906 411.953125 L 292.417969 411.253906 L 292.457031 409.601562 L 292.496094 410.59375 L 292.570312 410.59375 L 292.609375 410.296875 L 292.648438 410.035156 L 292.6875 408.558594 L 292.726562 411.246094 L 292.765625 411.777344 L 292.800781 412.699219 L 292.839844 412.285156 L 292.878906 413.5625 L 292.917969 414.320312 L 292.957031 414.585938 L 292.996094 414.738281 L 293.03125 414.886719 L 293.070312 413.847656 L 293.109375 412.785156 L 293.148438 412.785156 L 293.1875 413.050781 L 293.226562 413.652344 L 293.261719 404.023438 L 293.300781 405.660156 L 293.339844 366.953125 L 293.378906 366.804688 L 293.417969 351.511719 L 293.457031 374.414062 L 293.492188 384.320312 L 293.53125 414.589844 L 293.570312 414.816406 L 293.609375 413.984375 L 293.6875 413.984375 L 293.722656 415.324219 L 293.761719 416.199219 L 293.839844 416.199219 L 293.878906 412.328125 L 293.953125 412.328125 L 293.992188 384.867188 L 294.03125 384.867188 L 294.070312 381.386719 L 294.109375 381.121094 L 294.148438 413.070312 L 294.183594 378.390625 L 294.261719 378.390625 L 294.300781 378.542969 L 294.339844 378.542969 L 294.378906 400.664062 L 294.414062 400.261719 L 294.453125 411.476562 L 294.492188 404.613281 L 294.53125 404.3125 L 294.570312 394.042969 L 294.609375 403.078125 L 294.644531 400.1875 L 294.683594 400.035156 L 294.722656 399.738281 L 294.761719 407.128906 L 294.800781 409.523438 L 294.839844 400.253906 L 294.875 401.644531 L 294.914062 391.753906 L 294.953125 391.453125 L 294.992188 374.621094 L 295.03125 389.59375 L 295.070312 388.355469 L 295.105469 407.949219 L 295.144531 409.34375 L 295.183594 409.011719 L 295.222656 400.746094 L 295.261719 400.894531 L 295.300781 393.664062 L 295.335938 412.679688 L 295.375 407.773438 L 295.414062 407.851562 L 295.453125 407.4375 L 295.492188 410.0625 L 295.53125 405.523438 L 295.566406 404.824219 L 295.605469 376.910156 L 295.644531 383.15625 L 295.683594 362.828125 L 295.722656 352.816406 L 295.757812 397.125 L 295.796875 397.351562 L 295.875 397.351562 L 295.914062 392.390625 L 295.988281 392.390625 L 296.027344 392.125 L 296.066406 401.980469 L 296.105469 410.839844 L 296.144531 410.308594 L 296.183594 393.703125 L 296.21875 386.984375 L 296.257812 385.546875 L 296.335938 385.546875 L 296.375 382.304688 L 296.414062 400.296875 L 296.449219 387.324219 L 296.488281 392.003906 L 296.527344 392.003906 L 296.566406 376.015625 L 296.605469 406.480469 L 296.644531 403.460938 L 296.679688 398.140625 L 296.71875 391.132812 L 296.757812 391.132812 L 296.796875 394.148438 L 296.835938 386.007812 L 296.875 395.652344 L 296.910156 416.199219 L 296.949219 416.199219 L 296.988281 413.554688 L 297.027344 413.394531 L 297.066406 413.996094 L 297.105469 413.617188 L 297.140625 413.511719 L 297.179688 413.265625 L 297.21875 413.554688 L 297.257812 414.71875 L 297.296875 414.261719 L 297.335938 416.046875 L 297.410156 416.046875 L 297.449219 415.742188 L 297.488281 415.707031 L 297.527344 415.707031 L 297.566406 415.796875 L 297.601562 416.273438 L 297.640625 415.714844 L 297.679688 415.378906 L 297.71875 416.023438 L 297.757812 413.523438 L 297.796875 415.335938 L 297.832031 415.335938 L 297.871094 416.039062 L 297.910156 414.015625 L 297.949219 414.015625 L 297.988281 412.566406 L 298.027344 416.1875 L 298.0625 415.738281 L 298.101562 413.230469 L 298.140625 412.886719 L 298.179688 415.035156 L 298.21875 415.046875 L 298.257812 415.195312 L 298.292969 412.957031 L 298.332031 415.898438 L 298.371094 416.023438 L 298.410156 416.023438 L 298.449219 414.964844 L 298.488281 411.660156 L 298.523438 414.886719 L 298.5625 414.453125 L 298.601562 415.144531 L 298.640625 414.199219 L 298.679688 414.199219 L 298.71875 413.898438 L 298.753906 415.867188 L 298.792969 414.824219 L 298.832031 416.5 L 298.871094 415.382812 L 298.910156 415.832031 L 298.945312 415.832031 L 298.984375 415.390625 L 299.023438 415.097656 L 299.0625 415.097656 L 299.101562 414.832031 L 299.140625 414.832031 L 299.175781 416.074219 L 299.214844 414.265625 L 299.253906 414.839844 L 299.292969 414.007812 L 299.332031 414.371094 L 299.371094 414.824219 L 299.40625 414.902344 L 299.445312 413.117188 L 299.484375 412.867188 L 299.523438 405.046875 L 299.5625 405.503906 L 299.601562 404.332031 L 299.636719 404.101562 L 299.675781 407.96875 L 299.714844 405.90625 L 299.753906 411.332031 L 299.792969 412.769531 L 299.832031 414.003906 L 299.867188 413.203125 L 299.90625 413.917969 L 299.945312 414.3125 L 299.984375 415.054688 L 300.023438 411.855469 L 300.0625 413.667969 L 300.097656 415.726562 L 300.136719 415.726562 L 300.175781 416.109375 L 300.214844 415.078125 L 300.253906 415.378906 L 300.292969 415.125 L 300.328125 412.394531 L 300.367188 411.484375 L 300.40625 412.585938 L 300.445312 412.585938 L 300.484375 415.746094 L 300.523438 415.746094 L 300.558594 413.589844 L 300.597656 413.117188 L 300.636719 413.742188 L 300.675781 413.195312 L 300.714844 414.554688 L 300.753906 414.324219 L 300.789062 414.324219 L 300.828125 413.304688 L 300.867188 413.789062 L 300.90625 414.246094 L 300.945312 414.457031 L 300.984375 414.863281 L 301.019531 415.949219 L 301.058594 414.65625 L 301.097656 411.816406 L 301.136719 409.386719 L 301.175781 412.78125 L 301.214844 413.632812 L 301.25 416.328125 L 301.289062 412.523438 L 301.328125 412.523438 L 301.367188 414.042969 L 301.40625 415.390625 L 301.445312 415.390625 L 301.480469 412.859375 L 301.519531 414 L 301.558594 415.726562 L 301.597656 409.179688 L 301.636719 409.328125 L 301.675781 412.1875 L 301.710938 411.960938 L 301.75 416.042969 L 301.789062 415.171875 L 301.828125 415.171875 L 301.867188 415.398438 L 301.90625 415.324219 L 301.941406 415.324219 L 301.980469 414.863281 L 302.019531 412.28125 L 302.097656 412.28125 L 302.136719 414.046875 L 302.171875 414.273438 L 302.210938 414.273438 L 302.25 413.136719 L 302.289062 409.792969 L 302.328125 408.664062 L 302.363281 410.824219 L 302.402344 411.539062 L 302.441406 414.664062 L 302.480469 413.894531 L 302.519531 415.359375 L 302.558594 410.09375 L 302.59375 416.175781 L 302.632812 416.175781 L 302.671875 415.875 L 302.710938 414.976562 L 302.75 415.808594 L 302.789062 416.039062 L 302.824219 416.5 L 302.863281 414.347656 L 302.902344 415.355469 L 302.941406 415.414062 L 302.980469 413.878906 L 303.019531 413.5 L 303.054688 415.550781 L 303.09375 414.648438 L 303.132812 414.054688 L 303.171875 409.640625 L 303.210938 413.027344 L 303.25 411.546875 L 303.285156 411.660156 L 303.324219 396.289062 L 303.363281 414.847656 L 303.402344 414.132812 L 303.441406 414.253906 L 303.480469 415.722656 L 303.515625 415.800781 L 303.554688 415.175781 L 303.59375 415.703125 L 303.632812 415.855469 L 303.671875 415.292969 L 303.710938 414.566406 L 303.746094 414.695312 L 303.785156 414.972656 L 303.824219 416.050781 L 303.863281 415.738281 L 303.902344 415.738281 L 303.941406 415.1875 L 303.976562 415.738281 L 304.015625 414.125 L 304.054688 414.125 L 304.09375 414.585938 L 304.132812 416.027344 L 304.171875 416.234375 L 304.207031 414.257812 L 304.246094 414.257812 L 304.285156 414.640625 L 304.324219 414.621094 L 304.363281 416.328125 L 304.402344 405.667969 L 304.4375 403.242188 L 304.476562 404.550781 L 304.515625 412.566406 L 304.554688 411.820312 L 304.59375 411.367188 L 304.632812 411.367188 L 304.667969 411.101562 L 304.707031 410.421875 L 304.746094 410.421875 L 304.785156 409.515625 L 304.824219 409.515625 L 304.863281 410.53125 L 304.898438 409.769531 L 304.9375 409.621094 L 304.976562 409.621094 L 305.015625 411.796875 L 305.054688 412.742188 L 305.09375 411.664062 L 305.128906 412.929688 L 305.167969 413.878906 L 305.207031 411.644531 L 305.246094 412.894531 L 305.285156 412 L 305.324219 408.777344 L 305.359375 405.855469 L 305.398438 411.070312 L 305.4375 410.148438 L 305.476562 414.898438 L 305.515625 412.308594 L 305.550781 412.535156 L 305.589844 396.441406 L 305.628906 396.746094 L 305.707031 396.746094 L 305.746094 416.574219 L 305.78125 412.875 L 305.820312 392.9375 L 305.859375 392.9375 L 305.898438 407.972656 L 305.9375 386.328125 L 305.976562 386.101562 L 306.011719 357.917969 L 306.050781 406.023438 L 306.089844 410.578125 L 306.128906 400.539062 L 306.167969 400.539062 L 306.207031 398.832031 L 306.242188 405.53125 L 306.28125 416.535156 L 306.320312 402.742188 L 306.359375 414.988281 L 306.398438 402.003906 L 306.4375 381.859375 L 306.472656 391.703125 L 306.511719 385.316406 L 306.589844 385.316406 L 306.628906 414.542969 L 306.667969 407.191406 L 306.703125 407.15625 L 306.742188 406.539062 L 306.78125 395.117188 L 306.820312 395.417969 L 306.859375 401.824219 L 306.898438 414.722656 L 306.933594 413.914062 L 306.972656 414.292969 L 307.011719 412.933594 L 307.050781 414.542969 L 307.089844 352.230469 L 307.128906 352.691406 L 307.164062 338.246094 L 307.203125 338.511719 L 307.242188 358.382812 L 307.28125 375.617188 L 307.320312 389.203125 L 307.359375 404.324219 L 307.394531 395.402344 L 307.433594 395.171875 L 307.472656 400.125 L 307.511719 411.105469 L 307.550781 410.804688 L 307.589844 411.164062 L 307.625 410.535156 L 307.664062 409.601562 L 307.703125 404.65625 L 307.742188 399.589844 L 307.78125 401.488281 L 307.820312 407.078125 L 307.855469 414.347656 L 307.894531 410.546875 L 307.933594 414.898438 L 307.972656 405.019531 L 308.011719 404.144531 L 308.050781 388.207031 L 308.085938 388.207031 L 308.125 388.933594 L 308.164062 387.226562 L 308.203125 402.199219 L 308.242188 391.3125 L 308.28125 403.515625 L 308.316406 411.503906 L 308.355469 410.09375 L 308.394531 411.398438 L 308.433594 412.957031 L 308.472656 396.316406 L 308.511719 395.359375 L 308.546875 405.960938 L 308.585938 405.167969 L 308.625 411.28125 L 308.664062 411.398438 L 308.703125 411.398438 L 308.738281 410.828125 L 308.777344 411.359375 L 308.816406 411.511719 L 308.855469 410.679688 L 308.894531 409.207031 L 308.933594 409.539062 L 308.96875 410.253906 L 309.007812 410.253906 L 309.046875 410.785156 L 309.085938 412.226562 L 309.125 410.980469 L 309.164062 411.847656 L 309.199219 412.980469 L 309.238281 412.679688 L 309.277344 405.355469 L 309.316406 405.621094 L 309.355469 408.867188 L 309.394531 408.867188 L 309.429688 385.128906 L 309.46875 385.355469 L 309.507812 402.265625 L 309.546875 403.746094 L 309.585938 410.925781 L 309.625 410.925781 L 309.660156 409.109375 L 309.699219 409.257812 L 309.738281 413.457031 L 309.777344 408.953125 L 309.816406 408.953125 L 309.855469 409.207031 L 309.890625 404.238281 L 309.929688 398.5 L 309.96875 398.5 L 310.007812 401.558594 L 310.085938 401.558594 L 310.121094 411.109375 L 310.160156 402.316406 L 310.199219 399.328125 L 310.238281 399.027344 L 310.277344 398.082031 L 310.316406 397.25 L 310.351562 401.554688 L 310.390625 399.792969 L 310.429688 382.671875 L 310.46875 384.070312 L 310.507812 386.410156 L 310.546875 398.378906 L 310.582031 401.917969 L 310.621094 396.457031 L 310.660156 375.179688 L 310.699219 374.914062 L 310.738281 374.914062 L 310.777344 351.875 L 310.8125 379.230469 L 310.851562 396.847656 L 310.890625 396.847656 L 310.929688 378.765625 L 310.96875 370.84375 L 311.007812 370.84375 L 311.042969 391.90625 L 311.082031 407.917969 L 311.121094 408.183594 L 311.160156 408.183594 L 311.199219 415.402344 L 311.238281 410.710938 L 311.273438 410.386719 L 311.3125 413.152344 L 311.351562 414.078125 L 311.390625 414.511719 L 311.429688 415.007812 L 311.46875 414.625 L 311.503906 414.261719 L 311.542969 414.261719 L 311.582031 415.167969 L 311.660156 415.167969 L 311.699219 413.988281 L 311.734375 411.917969 L 311.773438 411.917969 L 311.8125 412.066406 L 311.851562 412.121094 L 311.890625 412.121094 L 311.929688 414.152344 L 312.042969 414.152344 L 312.082031 414.300781 L 312.121094 415.027344 L 312.15625 415.480469 L 312.195312 415.308594 L 312.234375 414.894531 L 312.273438 416.347656 L 312.3125 415.726562 L 312.351562 416.648438 L 312.386719 416.039062 L 312.425781 414.503906 L 312.464844 414.503906 L 312.503906 414.761719 L 312.542969 414.671875 L 312.582031 415.605469 L 312.617188 416.421875 L 312.65625 416.421875 L 312.695312 415.027344 L 312.734375 414.226562 L 312.773438 416.269531 L 312.8125 416.574219 L 312.847656 416.574219 L 312.886719 416.195312 L 312.925781 416.195312 L 312.964844 416.078125 L 313.003906 416.308594 L 313.042969 416.308594 L 313.078125 415.96875 L 313.117188 415.96875 L 313.15625 415.855469 L 313.195312 415.855469 L 313.234375 414.996094 L 313.273438 414.039062 L 313.308594 414.039062 L 313.347656 412.894531 L 313.386719 415.808594 L 313.425781 414.675781 L 313.464844 412.984375 L 313.503906 413.285156 L 313.539062 413.535156 L 313.578125 414.335938 L 313.617188 409.957031 L 313.65625 409.730469 L 313.695312 409.730469 L 313.734375 410.902344 L 313.769531 404.375 L 313.808594 406.328125 L 313.847656 408.457031 L 313.886719 413.238281 L 313.925781 412.835938 L 313.964844 414.796875 L 314 412.417969 L 314.039062 412.417969 L 314.078125 415.882812 L 314.117188 416.800781 L 314.15625 415.417969 L 314.195312 414.703125 L 314.230469 414.703125 L 314.269531 414.734375 L 314.308594 415.035156 L 314.347656 415.269531 L 314.386719 415.269531 L 314.425781 416.800781 L 314.460938 416.800781 L 314.5 416.269531 L 314.539062 415.796875 L 314.578125 415.796875 L 314.617188 416.0625 L 314.65625 415.910156 L 314.691406 410.574219 L 314.769531 410.574219 L 314.808594 411.441406 L 314.847656 410.96875 L 314.886719 410.820312 L 314.921875 414.332031 L 314.960938 413.953125 L 315 414.117188 L 315.039062 414.265625 L 315.078125 411.949219 L 315.117188 411.386719 L 315.152344 411.386719 L 315.191406 410.257812 L 315.230469 407.316406 L 315.269531 409.117188 L 315.308594 404.738281 L 315.34375 405.824219 L 315.382812 407 L 315.421875 407.324219 L 315.460938 409.246094 L 315.5 410.601562 L 315.539062 411.734375 L 315.574219 412.636719 L 315.613281 413.050781 L 315.652344 406.042969 L 315.691406 406.042969 L 315.730469 404.933594 L 315.769531 407.699219 L 315.804688 408.03125 L 315.84375 409.332031 L 315.882812 409.332031 L 315.921875 383.265625 L 315.960938 383.265625 L 316 392.84375 L 316.035156 393.144531 L 316.074219 411.089844 L 316.113281 406.28125 L 316.152344 414.1875 L 316.191406 414.1875 L 316.230469 410.570312 L 316.265625 410.417969 L 316.304688 412.128906 L 316.34375 411.863281 L 316.382812 411.863281 L 316.421875 409.101562 L 316.460938 403.800781 L 316.496094 410.824219 L 316.535156 410.570312 L 316.574219 405.671875 L 316.613281 408.933594 L 316.652344 412.421875 L 316.691406 408.183594 L 316.726562 407.617188 L 316.765625 410.726562 L 316.804688 414.136719 L 316.84375 414.121094 L 316.882812 413.171875 L 316.921875 410.667969 L 316.957031 410.816406 L 316.996094 411.632812 L 317.035156 413.335938 L 317.074219 416.195312 L 317.113281 415.519531 L 317.152344 403.914062 L 317.1875 404.214844 L 317.226562 409.878906 L 317.265625 410.019531 L 317.304688 414.675781 L 317.34375 413.808594 L 317.382812 413.808594 L 317.417969 414.195312 L 317.457031 414.566406 L 317.496094 408.011719 L 317.535156 407.863281 L 317.574219 407.386719 L 317.613281 407.386719 L 317.648438 404.09375 L 317.6875 405.792969 L 317.726562 405.792969 L 317.765625 398.386719 L 317.804688 404.832031 L 317.84375 404.683594 L 317.878906 401.457031 L 317.917969 401.457031 L 317.957031 396.085938 L 317.996094 415.097656 L 318.035156 416.039062 L 318.074219 413.292969 L 318.109375 407.503906 L 318.148438 414.269531 L 318.1875 415.199219 L 318.226562 412.90625 L 318.265625 409.402344 L 318.304688 411.507812 L 318.339844 412.441406 L 318.378906 412.441406 L 318.417969 412.589844 L 318.457031 412.082031 L 318.496094 409.28125 L 318.535156 409.507812 L 318.570312 409.734375 L 318.609375 413.726562 L 318.648438 413.726562 L 318.6875 413.003906 L 318.726562 412.722656 L 318.761719 413.140625 L 318.800781 412.496094 L 318.839844 413.066406 L 318.878906 413.214844 L 318.917969 413.5 L 318.957031 413.734375 L 318.992188 413.734375 L 319.03125 413.675781 L 319.070312 409.097656 L 319.109375 409.671875 L 319.148438 409.671875 L 319.1875 409.210938 L 319.222656 409.363281 L 319.261719 409.511719 L 319.300781 411.421875 L 319.339844 411.421875 L 319.378906 415.105469 L 319.417969 414.878906 L 319.453125 413.683594 L 319.492188 413.683594 L 319.53125 415.707031 L 319.570312 416.273438 L 319.609375 415.121094 L 319.648438 404.496094 L 319.683594 404.496094 L 319.722656 398.71875 L 319.761719 398.398438 L 319.800781 409.636719 L 319.839844 405.015625 L 319.878906 404.867188 L 319.914062 402.941406 L 319.953125 404.398438 L 319.992188 404.320312 L 320.03125 372.316406 L 320.070312 372.003906 L 320.109375 372.003906 L 320.144531 372.460938 L 320.183594 397.285156 L 320.222656 397.746094 L 320.261719 393.667969 L 320.300781 390.308594 L 320.339844 390.042969 L 320.375 397.585938 L 320.414062 393.324219 L 320.453125 400.367188 L 320.492188 403.695312 L 320.53125 403.695312 L 320.570312 406.839844 L 320.605469 402.585938 L 320.644531 402.585938 L 320.683594 405.296875 L 320.722656 413.761719 L 320.761719 413.761719 L 320.800781 414.566406 L 320.835938 414.265625 L 320.875 414.1875 L 320.914062 415.277344 L 320.953125 415.277344 L 320.992188 415.867188 L 321.03125 415.796875 L 321.066406 415.636719 L 321.105469 414.582031 L 321.144531 416.5 L 321.183594 415.890625 L 321.222656 416.648438 L 321.261719 416.648438 L 321.296875 416.027344 L 321.335938 416.648438 L 321.375 416.328125 L 321.414062 415.101562 L 321.453125 415.582031 L 321.492188 416.175781 L 321.527344 416.5 L 321.566406 415.21875 L 321.605469 415.21875 L 321.644531 415.519531 L 321.683594 416.175781 L 321.722656 416.039062 L 321.757812 412.515625 L 321.796875 412.871094 L 321.835938 413.871094 L 321.875 415.148438 L 321.914062 415.542969 L 321.949219 413.742188 L 321.988281 414.769531 L 322.027344 396.59375 L 322.066406 414.714844 L 322.105469 413.375 L 322.144531 414.996094 L 322.179688 413.984375 L 322.21875 415.132812 L 322.257812 414.140625 L 322.296875 414.289062 L 322.335938 414.902344 L 322.375 414.585938 L 322.410156 413.1875 L 322.449219 412.667969 L 322.488281 414.636719 L 322.527344 415.742188 L 322.566406 414.675781 L 322.605469 412.449219 L 322.640625 415.5625 L 322.679688 415.300781 L 322.71875 415.3125 L 322.757812 415.265625 L 322.796875 415.636719 L 322.835938 416.109375 L 322.871094 415.117188 L 322.910156 415.410156 L 322.949219 413.875 L 322.988281 414.507812 L 323.027344 412.25 L 323.066406 413.371094 L 323.101562 413.832031 L 323.140625 415.488281 L 323.179688 414.507812 L 323.21875 415.578125 L 323.257812 413.960938 L 323.296875 415.097656 L 323.332031 415.800781 L 323.371094 414.949219 L 323.410156 416.800781 L 323.449219 413.476562 L 323.488281 414.078125 L 323.527344 413.394531 L 323.5625 408.914062 L 323.601562 405.632812 L 323.640625 400.566406 L 323.679688 400.09375 L 323.71875 408.175781 L 323.757812 398.851562 L 323.792969 404.523438 L 323.832031 391.078125 L 323.871094 391.078125 L 323.910156 402.296875 L 323.949219 399.550781 L 323.988281 406.476562 L 324.023438 408.0625 L 324.0625 408.0625 L 324.101562 409.226562 L 324.140625 409.6875 L 324.179688 412.480469 L 324.21875 415.144531 L 324.253906 410.984375 L 324.292969 407.722656 L 324.332031 407.953125 L 324.371094 407.953125 L 324.410156 408.414062 L 324.449219 408.414062 L 324.484375 410.117188 L 324.523438 416.109375 L 324.5625 416.339844 L 324.601562 416.800781 L 324.640625 416.078125 L 324.679688 415.8125 L 324.714844 415.855469 L 324.753906 413.351562 L 324.792969 412.898438 L 324.832031 414.675781 L 324.871094 414.976562 L 324.910156 415.738281 L 324.945312 415.328125 L 324.984375 415.617188 L 325.023438 413.773438 L 325.0625 413.625 L 325.101562 416.121094 L 325.140625 414.226562 L 325.175781 416.15625 L 325.214844 413.195312 L 325.253906 414.945312 L 325.292969 415.777344 L 325.332031 415.777344 L 325.367188 415.34375 L 325.40625 415.714844 L 325.445312 415.796875 L 325.484375 415.5625 L 325.523438 416.800781 L 325.5625 416.535156 L 325.597656 413.082031 L 325.636719 400.273438 L 325.675781 410.671875 L 325.714844 409.609375 L 325.753906 412.097656 L 325.792969 411.636719 L 325.828125 415.195312 L 325.867188 415.046875 L 325.90625 415.886719 L 325.945312 414.246094 L 325.984375 412.53125 L 326.023438 409.886719 L 326.097656 409.886719 L 326.136719 408.953125 L 326.175781 408.476562 L 326.214844 405 L 326.253906 394.632812 L 326.289062 390.570312 L 326.328125 390.570312 L 326.367188 395.9375 L 326.40625 385.367188 L 326.484375 385.367188 L 326.519531 393.796875 L 326.558594 408.925781 L 326.597656 408.660156 L 326.636719 405.085938 L 326.675781 406.640625 L 326.714844 408.378906 L 326.75 412.171875 L 326.789062 412.035156 L 326.828125 412.464844 L 326.867188 413.667969 L 326.90625 413.65625 L 326.945312 413.65625 L 326.980469 412.265625 L 327.019531 409.503906 L 327.058594 407.316406 L 327.097656 407.316406 L 327.136719 407.3125 L 327.175781 407.726562 L 327.210938 408.789062 L 327.25 408.789062 L 327.289062 399.367188 L 327.328125 307.988281 L 327.367188 309.003906 L 327.40625 310.210938 L 327.441406 224.695312 L 327.480469 245.136719 L 327.519531 394.421875 L 327.558594 395.722656 L 327.597656 389.660156 L 327.636719 389.5 L 327.671875 409.753906 L 327.710938 409.984375 L 327.75 406.171875 L 327.789062 412.992188 L 327.828125 412.039062 L 327.867188 411.496094 L 327.902344 409.257812 L 327.941406 408.398438 L 327.980469 408.261719 L 328.019531 408.410156 L 328.058594 409.089844 L 328.097656 410.164062 L 328.132812 409.402344 L 328.171875 408.652344 L 328.210938 409.828125 L 328.25 409.945312 L 328.289062 409.675781 L 328.328125 411.066406 L 328.363281 409.773438 L 328.402344 412.898438 L 328.441406 413.019531 L 328.480469 405.445312 L 328.519531 407.117188 L 328.554688 406.890625 L 328.59375 412.203125 L 328.632812 411.890625 L 328.671875 413.402344 L 328.710938 412.613281 L 328.75 414.6875 L 328.785156 380.164062 L 328.824219 380.164062 L 328.863281 388.398438 L 328.902344 410.792969 L 328.941406 410.941406 L 328.980469 411.09375 L 329.015625 409.410156 L 329.054688 407.59375 L 329.09375 411.917969 L 329.132812 411.917969 L 329.171875 410.824219 L 329.210938 409.304688 L 329.246094 410.460938 L 329.285156 384.359375 L 329.324219 369.277344 L 329.363281 369.277344 L 329.402344 368.976562 L 329.441406 414.523438 L 329.476562 415.726562 L 329.515625 414.207031 L 329.554688 414.808594 L 329.59375 414.808594 L 329.632812 414.859375 L 329.671875 412.808594 L 329.707031 411.980469 L 329.746094 413.863281 L 329.785156 388.105469 L 329.824219 388.636719 L 329.863281 388.636719 L 329.902344 387.019531 L 329.9375 387.246094 L 329.976562 384.671875 L 330.015625 385.5 L 330.054688 400.777344 L 330.09375 416.648438 L 330.132812 408.046875 L 330.167969 409.390625 L 330.207031 413.738281 L 330.246094 413.4375 L 330.285156 412.964844 L 330.324219 410.742188 L 330.363281 410.144531 L 330.398438 409.464844 L 330.4375 409.464844 L 330.476562 413.621094 L 330.554688 413.621094 L 330.59375 413.46875 L 330.628906 410.761719 L 330.667969 411.636719 L 330.707031 411.636719 L 330.746094 412.710938 L 330.785156 412.625 L 330.824219 412.625 L 330.859375 406.925781 L 330.898438 406.925781 L 330.9375 406.773438 L 330.976562 411.761719 L 331.015625 408.589844 L 331.089844 408.589844 L 331.128906 408.511719 L 331.167969 403.105469 L 331.207031 407.398438 L 331.246094 404.285156 L 331.285156 404.132812 L 331.320312 397.738281 L 331.359375 408.140625 L 331.398438 412.625 L 331.4375 412.625 L 331.476562 411.6875 L 331.515625 409.808594 L 331.550781 409.808594 L 331.589844 411.175781 L 331.628906 414.230469 L 331.667969 414.496094 L 331.707031 408.859375 L 331.742188 408.824219 L 331.78125 407.078125 L 331.820312 394.675781 L 331.859375 400.230469 L 331.898438 405.324219 L 331.9375 402.636719 L 331.972656 393.636719 L 332.011719 393.636719 L 332.050781 393.902344 L 332.089844 376.96875 L 332.128906 374.070312 L 332.167969 374.070312 L 332.203125 365.707031 L 332.242188 380.785156 L 332.28125 356.121094 L 332.320312 314.074219 L 332.359375 322.496094 L 332.398438 368.410156 L 332.433594 379.800781 L 332.472656 380.226562 L 332.511719 387.667969 L 332.550781 387.667969 L 332.589844 397.183594 L 332.628906 397.445312 L 332.664062 397.445312 L 332.703125 387.738281 L 332.742188 389.0625 L 332.78125 389.625 L 332.820312 396.847656 L 332.859375 396.847656 L 332.894531 399.902344 L 332.933594 406.078125 L 332.972656 411.757812 L 333.011719 409.527344 L 333.050781 411.429688 L 333.089844 411.695312 L 333.125 411.054688 L 333.164062 403.179688 L 333.203125 378.65625 L 333.28125 378.65625 L 333.320312 388.542969 L 333.355469 383 L 333.394531 402.039062 L 333.433594 400.714844 L 333.472656 400.714844 L 333.511719 407.074219 L 333.550781 407.9375 L 333.585938 407.9375 L 333.625 409.410156 L 333.664062 395.460938 L 333.78125 395.460938 L 333.816406 402.472656 L 333.855469 399.46875 L 333.972656 399.46875 L 334.011719 400.40625 L 334.046875 400.253906 L 334.085938 409.5625 L 334.125 411.890625 L 334.164062 414.609375 L 334.203125 411.511719 L 334.242188 414.390625 L 334.277344 414.390625 L 334.316406 416.648438 L 334.355469 415.886719 L 334.394531 416.648438 L 334.433594 412.957031 L 334.472656 412.957031 L 334.507812 414.214844 L 334.546875 393.332031 L 334.585938 393.332031 L 334.625 393.808594 L 334.664062 390.902344 L 334.703125 399.453125 L 334.738281 362.449219 L 334.816406 362.449219 L 334.855469 346.226562 L 334.894531 366.253906 L 334.933594 400.949219 L 334.96875 410.949219 L 335.007812 411.253906 L 335.046875 402.59375 L 335.085938 402.59375 L 335.125 397.5625 L 335.160156 397.5625 L 335.199219 396.230469 L 335.238281 405.359375 L 335.277344 407.921875 L 335.316406 415.363281 L 335.355469 413.289062 L 335.390625 412.988281 L 335.507812 412.988281 L 335.546875 412.574219 L 335.585938 414.296875 L 335.621094 412.515625 L 335.660156 410.855469 L 335.699219 411.421875 L 335.738281 411.421875 L 335.777344 410.125 L 335.816406 407.152344 L 335.851562 407.566406 L 335.890625 408.050781 L 335.929688 411.96875 L 335.96875 409.898438 L 336.007812 409.234375 L 336.046875 409.160156 L 336.082031 410.199219 L 336.121094 407.675781 L 336.160156 408.238281 L 336.199219 408.390625 L 336.238281 407.914062 L 336.277344 407.683594 L 336.3125 409.996094 L 336.351562 413.9375 L 336.390625 409.296875 L 336.429688 409.296875 L 336.46875 408.507812 L 336.507812 411.03125 L 336.542969 411.269531 L 336.582031 412.75 L 336.660156 412.75 L 336.699219 411.179688 L 336.738281 414.449219 L 336.773438 412.703125 L 336.8125 410.90625 L 336.851562 413.441406 L 336.890625 412.476562 L 336.929688 413.089844 L 336.96875 399.933594 L 337.003906 409.457031 L 337.042969 412.101562 L 337.082031 391.683594 L 337.121094 394.921875 L 337.160156 395.261719 L 337.199219 415.300781 L 337.234375 387.597656 L 337.273438 392.644531 L 337.3125 392.644531 L 337.351562 392.183594 L 337.390625 391.179688 L 337.429688 412.546875 L 337.464844 409.414062 L 337.503906 412.679688 L 337.542969 412.675781 L 337.582031 412.675781 L 337.621094 412.953125 L 337.660156 412.953125 L 337.695312 415.59375 L 337.734375 400.523438 L 337.773438 396.566406 L 337.8125 396.566406 L 337.851562 406.421875 L 337.890625 406.421875 L 337.925781 412.507812 L 337.964844 411.824219 L 338.003906 404.65625 L 338.042969 411.523438 L 338.082031 413.8125 L 338.121094 413.8125 L 338.15625 412.265625 L 338.195312 409.007812 L 338.234375 408.78125 L 338.273438 408.769531 L 338.3125 408.054688 L 338.347656 405.675781 L 338.386719 406.59375 L 338.425781 407.652344 L 338.464844 407.652344 L 338.503906 402.015625 L 338.542969 405.75 L 338.578125 410.207031 L 338.617188 408.714844 L 338.65625 413.980469 L 338.734375 413.980469 L 338.773438 414.28125 L 338.808594 415.171875 L 338.847656 413.109375 L 338.886719 405.621094 L 338.925781 410.015625 L 338.964844 410.261719 L 339.003906 408.277344 L 339.039062 414.667969 L 339.078125 414.402344 L 339.117188 415.847656 L 339.195312 415.847656 L 339.234375 412.894531 L 339.269531 412.894531 L 339.308594 413.121094 L 339.347656 412.59375 L 339.386719 412.445312 L 339.425781 415.054688 L 339.464844 415.054688 L 339.5 414.039062 L 339.539062 414.039062 L 339.578125 412.675781 L 339.617188 411.949219 L 339.65625 409.953125 L 339.695312 410.863281 L 339.730469 412.339844 L 339.769531 412.339844 L 339.808594 390.015625 L 339.847656 397.726562 L 339.886719 397.953125 L 339.925781 414.667969 L 339.960938 415.425781 L 340 416.175781 L 340.039062 414.789062 L 340.078125 382.488281 L 340.117188 397.539062 L 340.15625 410.398438 L 340.191406 413.617188 L 340.230469 412.210938 L 340.269531 410.238281 L 340.308594 411.101562 L 340.347656 411.515625 L 340.386719 410.605469 L 340.421875 414.378906 L 340.460938 414.6875 L 340.5 413.71875 L 340.539062 412.222656 L 340.578125 412.371094 L 340.617188 412.371094 L 340.652344 412.105469 L 340.691406 410.929688 L 340.730469 412.351562 L 340.769531 412.988281 L 340.808594 411.898438 L 340.847656 412.164062 L 340.882812 413.34375 L 340.921875 405.59375 L 340.960938 387.125 L 341 381.386719 L 341.039062 415.949219 L 341.078125 409.277344 L 341.152344 409.277344 L 341.191406 413.617188 L 341.230469 413.617188 L 341.269531 412.996094 L 341.34375 412.996094 L 341.382812 412.535156 L 341.460938 412.535156 L 341.5 412.683594 L 341.539062 409.152344 L 341.574219 407.625 L 341.613281 407.890625 L 341.652344 408.351562 L 341.691406 408.125 L 341.730469 394.835938 L 341.765625 389.246094 L 341.804688 386.953125 L 341.84375 386.253906 L 341.882812 390.964844 L 341.921875 392.625 L 341.960938 406.195312 L 341.996094 404.96875 L 342.035156 409.109375 L 342.074219 412.429688 L 342.113281 412.429688 L 342.152344 411.410156 L 342.191406 412.644531 L 342.226562 411.398438 L 342.265625 411.398438 L 342.304688 412.757812 L 342.34375 409.8125 L 342.382812 411.703125 L 342.421875 411.394531 L 342.457031 410.089844 L 342.496094 404.476562 L 342.535156 403.742188 L 342.574219 410.269531 L 342.613281 410.871094 L 342.652344 404.136719 L 342.6875 407.375 L 342.726562 407.375 L 342.765625 407.015625 L 342.804688 415.414062 L 342.84375 415.414062 L 342.882812 414.921875 L 342.917969 415.070312 L 342.957031 415.621094 L 342.996094 412.78125 L 343.035156 411.792969 L 343.074219 411.492188 L 343.113281 413.167969 L 343.148438 411.171875 L 343.1875 411.921875 L 343.226562 411.242188 L 343.265625 410.078125 L 343.304688 411.074219 L 343.34375 409.789062 L 343.378906 407.277344 L 343.417969 407.542969 L 343.457031 408.371094 L 343.496094 409.347656 L 343.535156 406.566406 L 343.574219 406.117188 L 343.609375 405.585938 L 343.648438 411.140625 L 343.6875 413.980469 L 343.726562 415.371094 L 343.765625 414.746094 L 343.804688 414.746094 L 343.839844 415.113281 L 343.878906 416.386719 L 343.917969 413.828125 L 343.957031 411.535156 L 343.996094 410.886719 L 344.035156 409.6875 L 344.070312 408.382812 L 344.109375 405.8125 L 344.148438 406.570312 L 344.1875 406.867188 L 344.226562 406.21875 L 344.265625 404.578125 L 344.300781 403.792969 L 344.339844 387.238281 L 344.378906 390.828125 L 344.417969 403.074219 L 344.457031 401.011719 L 344.496094 398.886719 L 344.53125 407.113281 L 344.570312 410.695312 L 344.609375 411.203125 L 344.648438 410.207031 L 344.6875 412.355469 L 344.726562 414.039062 L 344.761719 415.042969 L 344.800781 416.574219 L 344.839844 416.574219 L 344.878906 416.109375 L 344.917969 414.410156 L 344.992188 414.410156 L 345.03125 414.257812 L 345.070312 416.351562 L 345.109375 416.273438 L 345.148438 416.421875 L 345.183594 416.421875 L 345.222656 415.683594 L 345.261719 413.320312 L 345.300781 411.898438 L 345.339844 411.78125 L 345.378906 409.226562 L 345.414062 403.066406 L 345.453125 405.589844 L 345.492188 407.40625 L 345.53125 406.910156 L 345.570312 406.613281 L 345.609375 406.613281 L 345.644531 411.804688 L 345.683594 415.253906 L 345.722656 416.046875 L 345.761719 414.699219 L 345.800781 415.347656 L 345.839844 414.53125 L 345.875 415.488281 L 345.914062 415.246094 L 345.953125 412.957031 L 345.992188 415.542969 L 346.03125 415.773438 L 346.070312 416.535156 L 346.105469 415.855469 L 346.144531 415.234375 L 346.183594 415.535156 L 346.222656 414.84375 L 346.261719 415.5 L 346.375 415.5 L 346.414062 416.042969 L 346.453125 416.042969 L 346.492188 413.917969 L 346.53125 413.050781 L 346.566406 410.996094 L 346.605469 416.039062 L 346.644531 415.578125 L 346.683594 415.265625 L 346.722656 414.4375 L 346.761719 414.898438 L 346.796875 415.125 L 346.835938 416.175781 L 346.875 415.589844 L 346.914062 415.738281 L 346.953125 414.339844 L 346.992188 413.886719 L 347.066406 413.886719 L 347.105469 415.109375 L 347.144531 416.800781 L 347.183594 416.339844 L 347.257812 416.339844 L 347.296875 413.859375 L 347.335938 413.710938 L 347.375 402.792969 L 347.414062 402.828125 L 347.453125 412.953125 L 347.488281 412.992188 L 347.527344 413.640625 L 347.566406 412.332031 L 347.644531 412.332031 L 347.683594 413.789062 L 347.71875 413.789062 L 347.757812 415.78125 L 347.796875 415.515625 L 347.835938 413.824219 L 347.875 414.386719 L 347.914062 413.417969 L 347.949219 414.101562 L 347.988281 414.101562 L 348.027344 414.203125 L 348.066406 410.171875 L 348.105469 409.847656 L 348.140625 410.738281 L 348.179688 408.078125 L 348.21875 408.078125 L 348.257812 408.421875 L 348.296875 408.421875 L 348.335938 412.902344 L 348.371094 413.226562 L 348.449219 413.226562 L 348.488281 406.386719 L 348.527344 409.269531 L 348.566406 414.144531 L 348.601562 413.683594 L 348.640625 414.679688 L 348.679688 413.363281 L 348.757812 413.363281 L 348.796875 412.9375 L 348.832031 412.988281 L 348.871094 412.988281 L 348.910156 413.722656 L 348.949219 413.722656 L 348.988281 412.21875 L 349.027344 414.539062 L 349.0625 414.539062 L 349.101562 413.488281 L 349.179688 413.488281 L 349.21875 414.515625 L 349.257812 415.929688 L 349.292969 416.34375 L 349.332031 415.148438 L 349.371094 416.234375 L 349.410156 416.308594 L 349.449219 416.15625 L 349.488281 413.804688 L 349.523438 409.085938 L 349.5625 410.429688 L 349.601562 406.523438 L 349.640625 406.773438 L 349.679688 408.644531 L 349.71875 404.015625 L 349.753906 409.199219 L 349.792969 412.3125 L 349.832031 414.332031 L 349.871094 413.414062 L 349.910156 412.546875 L 349.949219 411.527344 L 349.984375 412.902344 L 350.023438 412.902344 L 350.0625 414.203125 L 350.101562 414.203125 L 350.140625 413.066406 L 350.179688 415.910156 L 350.214844 414.546875 L 350.253906 410.433594 L 350.292969 410.433594 L 350.332031 414.332031 L 350.371094 415.808594 L 350.410156 416.535156 L 350.445312 414.914062 L 350.484375 411.761719 L 350.523438 412.40625 L 350.5625 408.292969 L 350.601562 398.550781 L 350.640625 398.585938 L 350.675781 409.792969 L 350.714844 410.019531 L 350.753906 410.792969 L 350.792969 415.546875 L 350.832031 415.546875 L 350.871094 415.796875 L 350.90625 408.886719 L 350.945312 412.109375 L 350.984375 411.777344 L 351.023438 411.105469 L 351.0625 411.460938 L 351.101562 411.105469 L 351.136719 410.949219 L 351.175781 416.039062 L 351.214844 416.039062 L 351.253906 415.328125 L 351.292969 414.441406 L 351.332031 413.140625 L 351.367188 413.992188 L 351.40625 411.835938 L 351.445312 411.636719 L 351.484375 413.703125 L 351.523438 411.28125 L 351.558594 412.144531 L 351.597656 412.144531 L 351.636719 413.761719 L 351.675781 411.90625 L 351.714844 412.207031 L 351.753906 415.125 L 351.789062 416.199219 L 351.828125 416.1875 L 351.867188 414.804688 L 351.90625 413.546875 L 351.945312 407.609375 L 351.984375 411.917969 L 352.019531 410.859375 L 352.058594 412.546875 L 352.097656 413.117188 L 352.136719 414.671875 L 352.175781 414.671875 L 352.214844 412.429688 L 352.25 413.777344 L 352.289062 413.777344 L 352.328125 414.308594 L 352.367188 414.851562 L 352.40625 415.496094 L 352.445312 413.59375 L 352.480469 412.597656 L 352.519531 412.824219 L 352.558594 413.09375 L 352.597656 414.039062 L 352.636719 413.992188 L 352.675781 410.855469 L 352.710938 406.230469 L 352.75 407.433594 L 352.789062 411.539062 L 352.828125 409.910156 L 352.867188 406.769531 L 352.90625 407.25 L 352.941406 407.25 L 352.980469 408.996094 L 353.019531 411.066406 L 353.058594 412.957031 L 353.210938 412.957031 L 353.25 401.859375 L 353.289062 401.859375 L 353.328125 403.164062 L 353.367188 407.488281 L 353.402344 408.019531 L 353.441406 414.097656 L 353.480469 413.339844 L 353.519531 404.292969 L 353.558594 404.292969 L 353.597656 405.792969 L 353.632812 404.84375 L 353.671875 415.625 L 353.710938 387.792969 L 353.75 387.675781 L 353.789062 393.589844 L 353.828125 411.625 L 353.863281 411.660156 L 353.902344 414.1875 L 353.941406 414.039062 L 353.980469 414.304688 L 354.019531 414.878906 L 354.058594 414.878906 L 354.09375 413.144531 L 354.132812 412.3125 L 354.171875 410.945312 L 354.210938 412.78125 L 354.25 413.195312 L 354.289062 398.199219 L 354.363281 398.199219 L 354.402344 407.996094 L 354.441406 408.882812 L 354.519531 408.882812 L 354.554688 412.410156 L 354.59375 401.675781 L 354.632812 401.222656 L 354.671875 400.808594 L 354.710938 399.550781 L 354.746094 406.308594 L 354.785156 406.308594 L 354.824219 411.089844 L 354.863281 405.621094 L 354.902344 395.425781 L 354.941406 408.652344 L 354.976562 406.066406 L 355.015625 410.402344 L 355.054688 412.886719 L 355.09375 412.886719 L 355.132812 414.007812 L 355.171875 411.554688 L 355.207031 411.707031 L 355.246094 411.855469 L 355.285156 411.820312 L 355.324219 414.046875 L 355.363281 414.660156 L 355.402344 410.757812 L 355.4375 413.710938 L 355.476562 413.035156 L 355.515625 413.136719 L 355.554688 413.136719 L 355.59375 413.632812 L 355.632812 414.105469 L 355.667969 413.425781 L 355.707031 415.046875 L 355.746094 414.78125 L 355.785156 415 L 355.824219 413.429688 L 355.863281 414.359375 L 355.898438 413.496094 L 355.9375 411.167969 L 355.976562 411.167969 L 356.015625 410.707031 L 356.054688 410.707031 L 356.09375 410.710938 L 356.207031 410.710938 L 356.246094 396.445312 L 356.285156 391.089844 L 356.324219 391.703125 L 356.359375 395.113281 L 356.398438 394.808594 L 356.4375 408.382812 L 356.476562 414.210938 L 356.515625 414.210938 L 356.554688 414.519531 L 356.589844 408.011719 L 356.628906 411.15625 L 356.667969 410.695312 L 356.707031 409.632812 L 356.746094 409.632812 L 356.785156 409.828125 L 356.820312 407.390625 L 356.859375 407.851562 L 356.898438 407.390625 L 356.9375 415.773438 L 356.976562 415.933594 L 357.015625 415.933594 L 357.050781 414.40625 L 357.089844 414.558594 L 357.128906 416.15625 L 357.167969 416.078125 L 357.207031 415.726562 L 357.246094 415.050781 L 357.28125 415.050781 L 357.320312 414.164062 L 357.359375 413.800781 L 357.398438 413.773438 L 357.4375 413.84375 L 357.476562 415.046875 L 357.511719 414.976562 L 357.550781 415.578125 L 357.589844 414.3125 L 357.628906 414.132812 L 357.667969 414.546875 L 357.707031 416.308594 L 357.742188 413.820312 L 357.78125 414.453125 L 357.820312 414.496094 L 357.859375 414.496094 L 357.898438 414.648438 L 357.9375 404.226562 L 357.972656 404.226562 L 358.011719 416.648438 L 358.050781 413.847656 L 358.089844 416.121094 L 358.128906 415.472656 L 358.164062 415.855469 L 358.203125 415.855469 L 358.242188 415.625 L 358.28125 413.324219 L 358.320312 409.53125 L 358.359375 409.53125 L 358.394531 414.453125 L 358.433594 416.34375 L 358.472656 414.390625 L 358.511719 413.238281 L 358.550781 403.71875 L 358.589844 403.566406 L 358.625 409.027344 L 358.664062 410.214844 L 358.703125 415.289062 L 358.742188 413.660156 L 358.78125 414.570312 L 358.820312 414.570312 L 358.855469 403.722656 L 358.933594 403.191406 L 358.972656 403.191406 L 359.011719 407.941406 L 359.050781 415.773438 L 359.085938 413.964844 L 359.125 413.964844 L 359.164062 413.433594 L 359.203125 413.285156 L 359.242188 412.535156 L 359.28125 411.058594 L 359.316406 411.726562 L 359.355469 412.460938 L 359.394531 411.761719 L 359.433594 411.613281 L 359.472656 413.550781 L 359.511719 413.402344 L 359.546875 413.367188 L 359.585938 413.644531 L 359.625 413.832031 L 359.664062 413.207031 L 359.703125 413.207031 L 359.742188 414.664062 L 359.777344 414.589844 L 359.816406 415.195312 L 359.855469 415.460938 L 359.894531 415.421875 L 359.933594 415.136719 L 359.972656 407.097656 L 360.007812 407.664062 L 360.046875 408.125 L 360.085938 412.90625 L 360.125 412.789062 L 360.164062 414.933594 L 360.203125 415.199219 L 360.238281 406.351562 L 360.277344 405.117188 L 360.316406 388.515625 L 360.355469 394.386719 L 360.394531 397.496094 L 360.433594 386.710938 L 360.46875 391.550781 L 360.546875 391.550781 L 360.585938 396.851562 L 360.625 408.621094 L 360.664062 395.121094 L 360.699219 398.511719 L 360.738281 399.722656 L 360.777344 398.671875 L 360.816406 393.0625 L 360.855469 392.5 L 360.894531 401.515625 L 360.929688 404.011719 L 360.96875 404.578125 L 361.007812 411.097656 L 361.046875 405.507812 L 361.085938 409.539062 L 361.125 409.539062 L 361.160156 401.660156 L 361.199219 386.609375 L 361.238281 395.972656 L 361.277344 382.289062 L 361.316406 392.914062 L 361.351562 407.636719 L 361.429688 407.636719 L 361.46875 411.671875 L 361.507812 411.40625 L 361.546875 412.824219 L 361.582031 413.316406 L 361.621094 413.316406 L 361.660156 413.464844 L 361.699219 413.960938 L 361.738281 407.992188 L 361.777344 408.882812 L 361.8125 408.730469 L 361.851562 408.582031 L 361.890625 406.246094 L 361.929688 402.96875 L 361.96875 402.96875 L 362.007812 404.457031 L 362.042969 401.261719 L 362.082031 392.59375 L 362.121094 393.308594 L 362.160156 397.722656 L 362.199219 397.871094 L 362.238281 395.296875 L 362.273438 378.371094 L 362.3125 378.222656 L 362.351562 395.65625 L 362.390625 404.410156 L 362.429688 403.21875 L 362.46875 398.324219 L 362.503906 401.800781 L 362.542969 404.300781 L 362.582031 404.300781 L 362.621094 404.152344 L 362.699219 404.152344 L 362.734375 412.207031 L 362.773438 412.207031 L 362.8125 403.167969 L 362.851562 403.167969 L 362.890625 402.753906 L 362.964844 402.753906 L 363.003906 400.320312 L 363.042969 405.246094 L 363.082031 405.75 L 363.121094 403.371094 L 363.160156 402.992188 L 363.195312 399.183594 L 363.234375 404.339844 L 363.273438 401.960938 L 363.3125 409.363281 L 363.351562 393.171875 L 363.390625 392.945312 L 363.425781 401.21875 L 363.464844 401.367188 L 363.503906 399.800781 L 363.542969 414.308594 L 363.582031 403.179688 L 363.621094 407.941406 L 363.65625 407.941406 L 363.695312 376.835938 L 363.773438 376.835938 L 363.8125 398.121094 L 363.851562 396.1875 L 363.886719 393.164062 L 363.925781 388.171875 L 363.964844 397.328125 L 364.003906 403.59375 L 364.042969 390.421875 L 364.082031 390.421875 L 364.117188 390.386719 L 364.15625 399.800781 L 364.195312 397.6875 L 364.234375 397.6875 L 364.273438 405.707031 L 364.3125 405.707031 L 364.347656 409.179688 L 364.386719 414.132812 L 364.425781 411.320312 L 364.464844 390.351562 L 364.578125 390.351562 L 364.617188 391.367188 L 364.65625 391.367188 L 364.695312 389.785156 L 364.734375 400.808594 L 364.769531 409.398438 L 364.808594 409.398438 L 364.847656 390.800781 L 364.886719 390.800781 L 364.925781 387.101562 L 364.964844 390.296875 L 365 407.375 L 365.039062 397.988281 L 365.078125 399.507812 L 365.117188 410.234375 L 365.15625 414.125 L 365.269531 414.125 L 365.308594 413.890625 L 365.347656 413.023438 L 365.386719 415.726562 L 365.425781 415.726562 L 365.460938 415.875 L 365.539062 415.875 L 365.578125 405.535156 L 365.617188 405.234375 L 365.691406 405.234375 L 365.730469 411.730469 L 365.769531 389.304688 L 365.886719 389.304688 L 365.921875 396.433594 L 365.960938 393.9375 L 366 407.339844 L 366.039062 409.15625 L 366.078125 411.652344 L 366.117188 416.199219 L 366.152344 409.417969 L 366.230469 409.417969 L 366.269531 415.363281 L 366.308594 407.3125 L 366.347656 403.15625 L 366.382812 395.085938 L 366.421875 394.140625 L 366.460938 398.820312 L 366.5 395.75 L 366.539062 403.476562 L 366.578125 398.332031 L 366.613281 405.792969 L 366.652344 406.289062 L 366.691406 409.179688 L 366.808594 409.179688 L 366.84375 409.480469 L 366.921875 409.480469 L 366.960938 404.039062 L 367 402.421875 L 367.039062 403.878906 L 367.074219 412.8125 L 367.113281 401.535156 L 367.152344 404.945312 L 367.191406 411.871094 L 367.230469 407.886719 L 367.269531 407.886719 L 367.304688 407.660156 L 367.34375 399.851562 L 367.421875 399.851562 L 367.460938 411.347656 L 367.5 390.308594 L 367.535156 390.308594 L 367.574219 388.835938 L 367.613281 400.832031 L 367.652344 407.652344 L 367.691406 405.996094 L 367.957031 405.996094 L 367.996094 409.074219 L 368.035156 409.074219 L 368.074219 407 L 368.113281 413.542969 L 368.152344 413.882812 L 368.1875 414.089844 L 368.226562 404.683594 L 368.265625 404.683594 L 368.304688 394.980469 L 368.34375 400.835938 L 368.382812 400.988281 L 368.417969 386.09375 L 368.496094 386.09375 L 368.535156 396.066406 L 368.574219 397.164062 L 368.613281 405.785156 L 368.648438 399.007812 L 368.6875 398.707031 L 368.726562 396.894531 L 368.765625 391.046875 L 368.804688 403.9375 L 368.84375 397.644531 L 368.957031 397.644531 L 368.996094 398.105469 L 369.035156 398.105469 L 369.074219 396.835938 L 369.109375 396.617188 L 369.148438 406.011719 L 369.1875 406.242188 L 369.226562 406.917969 L 369.265625 406.917969 L 369.304688 408.046875 L 369.339844 410.101562 L 369.378906 409.800781 L 369.417969 409.800781 L 369.457031 410.800781 L 369.496094 409.757812 L 369.535156 412.582031 L 369.570312 412.8125 L 369.609375 413.242188 L 369.648438 414.371094 L 369.6875 409.738281 L 369.726562 409.898438 L 369.765625 403.617188 L 369.800781 408.078125 L 369.839844 414.988281 L 369.878906 389.828125 L 369.917969 389.367188 L 369.957031 389.445312 L 369.996094 402.65625 L 370.03125 410.734375 L 370.070312 407.875 L 370.109375 410.515625 L 370.148438 410.253906 L 370.1875 409.640625 L 370.226562 405.367188 L 370.261719 404.726562 L 370.300781 405.441406 L 370.339844 395.125 L 370.378906 395.125 L 370.417969 398.929688 L 370.457031 404.339844 L 370.492188 399.519531 L 370.53125 381.542969 L 370.570312 383.75 L 370.609375 384.976562 L 370.648438 409.433594 L 370.6875 409.054688 L 370.761719 409.054688 L 370.800781 411.972656 L 370.839844 408.820312 L 370.878906 408.820312 L 370.917969 408.890625 L 370.953125 408.890625 L 370.992188 400.105469 L 371.03125 400.253906 L 371.109375 400.253906 L 371.144531 400.480469 L 371.183594 400.480469 L 371.222656 414.703125 L 371.261719 415.269531 L 371.300781 415.269531 L 371.339844 413.230469 L 371.375 413.105469 L 371.414062 413.328125 L 371.453125 416.121094 L 371.492188 416.5 L 371.53125 415.320312 L 371.570312 414.921875 L 371.605469 415.394531 L 371.644531 416.347656 L 371.683594 413.355469 L 371.722656 411.789062 L 371.761719 413.417969 L 371.800781 413.652344 L 371.835938 415.628906 L 371.875 415.117188 L 371.914062 415.226562 L 371.953125 414.929688 L 371.992188 415.613281 L 372.03125 413.566406 L 372.066406 414.90625 L 372.105469 416.042969 L 372.144531 416.535156 L 372.183594 416.535156 L 372.222656 416.574219 L 372.261719 416.574219 L 372.296875 416.339844 L 372.335938 414.734375 L 372.375 413.113281 L 372.414062 413.113281 L 372.453125 415.574219 L 372.492188 414.457031 L 372.527344 415.136719 L 372.566406 409.671875 L 372.605469 414.898438 L 372.644531 411.230469 L 372.683594 413.585938 L 372.722656 413.984375 L 372.757812 414.757812 L 372.796875 414.792969 L 372.835938 413.933594 L 372.875 413.703125 L 372.914062 415.574219 L 372.953125 415.1875 L 372.988281 416.109375 L 373.027344 415.3125 L 373.066406 415.414062 L 373.105469 416.121094 L 373.144531 410.96875 L 373.183594 412.117188 L 373.21875 409.421875 L 373.257812 413.238281 L 373.296875 413.328125 L 373.375 413.328125 L 373.414062 415.53125 L 373.449219 413.59375 L 373.488281 414.808594 L 373.527344 412.179688 L 373.566406 411.878906 L 373.605469 415.082031 L 373.644531 414.988281 L 373.679688 414.988281 L 373.71875 416.082031 L 373.757812 415.820312 L 373.796875 414.828125 L 373.835938 414.710938 L 373.875 414.710938 L 373.910156 415.664062 L 373.949219 406.773438 L 373.988281 408.570312 L 374.027344 413.554688 L 374.066406 407.570312 L 374.105469 412.742188 L 374.140625 408.324219 L 374.179688 408.742188 L 374.21875 408.769531 L 374.257812 414.089844 L 374.296875 416.574219 L 374.335938 414.980469 L 374.371094 413.179688 L 374.410156 413.640625 L 374.449219 413.375 L 374.488281 413.375 L 374.527344 411.128906 L 374.5625 411.355469 L 374.601562 406.917969 L 374.640625 404.5 L 374.679688 406.460938 L 374.71875 406.460938 L 374.757812 414.6875 L 374.792969 412.792969 L 374.832031 410.84375 L 374.871094 408.800781 L 374.910156 408.5 L 374.949219 411.898438 L 374.988281 412.335938 L 375.023438 412.070312 L 375.0625 413.472656 L 375.101562 414.191406 L 375.140625 414.191406 L 375.179688 414.710938 L 375.21875 414.710938 L 375.253906 414.148438 L 375.292969 413.851562 L 375.332031 415.550781 L 375.371094 415.023438 L 375.410156 410.3125 L 375.449219 408.554688 L 375.484375 408.921875 L 375.523438 411.53125 L 375.5625 403.667969 L 375.601562 403.667969 L 375.640625 401.738281 L 375.679688 403.300781 L 375.714844 407.589844 L 375.753906 407.589844 L 375.792969 402.234375 L 375.832031 402.265625 L 375.871094 402.265625 L 375.910156 412.191406 L 375.945312 412.191406 L 375.984375 411.964844 L 376.023438 413.699219 L 376.0625 413.660156 L 376.101562 415.894531 L 376.140625 415.703125 L 376.175781 415.402344 L 376.214844 415.402344 L 376.253906 416.199219 L 376.292969 416.15625 L 376.332031 415.171875 L 376.371094 415.324219 L 376.40625 415.324219 L 376.445312 415.171875 L 376.484375 415.171875 L 376.523438 415.667969 L 376.5625 415.3125 L 376.601562 415.195312 L 376.636719 414.96875 L 376.675781 412.136719 L 376.714844 412.402344 L 376.753906 408.785156 L 376.792969 408.3125 L 376.832031 412.769531 L 376.867188 406.09375 L 376.90625 409.933594 L 376.945312 406.046875 L 376.984375 410.375 L 377.023438 413.726562 L 377.0625 413.320312 L 377.097656 413.46875 L 377.136719 413.46875 L 377.175781 414 L 377.214844 413.851562 L 377.253906 415.46875 L 377.292969 404.957031 L 377.328125 404.957031 L 377.367188 409.265625 L 377.40625 408.34375 L 377.445312 406.636719 L 377.484375 407.925781 L 377.523438 408.035156 L 377.558594 406.492188 L 377.597656 409.792969 L 377.636719 409.597656 L 377.675781 409.023438 L 377.714844 407.355469 L 377.75 407.355469 L 377.789062 407.65625 L 377.828125 409.171875 L 377.867188 409.171875 L 377.90625 410.40625 L 377.945312 410.40625 L 377.980469 412.414062 L 378.019531 409.730469 L 378.058594 408.59375 L 378.097656 416.5 L 378.136719 416.800781 L 378.175781 414.667969 L 378.210938 414.890625 L 378.25 416.421875 L 378.289062 412.796875 L 378.328125 412.796875 L 378.367188 415.867188 L 378.40625 415.070312 L 378.441406 416.273438 L 378.480469 414.125 L 378.519531 414.125 L 378.558594 414.03125 L 378.597656 414.03125 L 378.636719 414.226562 L 378.671875 414.226562 L 378.710938 415.742188 L 378.75 415.398438 L 378.789062 416.039062 L 378.828125 416.339844 L 378.867188 416.308594 L 378.902344 416.0625 L 378.941406 415.921875 L 378.980469 415.886719 L 379.019531 415.5625 L 379.058594 415.960938 L 379.097656 416.421875 L 379.171875 416.421875 L 379.210938 415.285156 L 379.25 414.054688 L 379.289062 412.558594 L 379.328125 412.558594 L 379.363281 414.414062 L 379.402344 413.46875 L 379.441406 409.339844 L 379.480469 409.652344 L 379.519531 415.433594 L 379.558594 415.246094 L 379.59375 415.246094 L 379.632812 415.269531 L 379.671875 414.574219 L 379.710938 414.574219 L 379.75 416.234375 L 379.789062 415.660156 L 379.824219 414.9375 L 379.863281 414.621094 L 379.902344 414.363281 L 379.941406 414.515625 L 379.980469 414.339844 L 380.019531 415.027344 L 380.054688 415.5 L 380.09375 412.519531 L 380.132812 410.269531 L 380.171875 409.574219 L 380.210938 414.699219 L 380.25 413.734375 L 380.285156 413.734375 L 380.324219 415.035156 L 380.363281 416.175781 L 380.402344 416.121094 L 380.441406 414.726562 L 380.480469 415.191406 L 380.515625 410.453125 L 380.554688 416.039062 L 380.59375 414.632812 L 380.632812 414.78125 L 380.671875 416.5 L 380.710938 415.777344 L 380.746094 414.339844 L 380.785156 414.628906 L 380.824219 414.628906 L 380.863281 410.515625 L 380.902344 411.21875 L 380.941406 412.882812 L 380.976562 414.03125 L 381.015625 416.1875 L 381.054688 415.425781 L 381.09375 415.425781 L 381.132812 412.964844 L 381.167969 415.796875 L 381.207031 415.890625 L 381.246094 415.890625 L 381.285156 414.597656 L 381.324219 415.476562 L 381.363281 415.476562 L 381.398438 416.347656 L 381.4375 414.542969 L 381.476562 415.015625 L 381.515625 415.242188 L 381.554688 415.242188 L 381.59375 415.664062 L 381.628906 415.320312 L 381.667969 415.625 L 381.707031 415.625 L 381.746094 410.777344 L 381.785156 414.59375 L 381.824219 413.761719 L 381.859375 413.726562 L 381.9375 413.726562 L 381.976562 416.046875 L 382.015625 413.941406 L 382.089844 413.941406 L 382.128906 415.472656 L 382.167969 415.707031 L 382.207031 415.859375 L 382.246094 416.421875 L 382.285156 415.394531 L 382.320312 413.386719 L 382.359375 413.386719 L 382.398438 412.859375 L 382.4375 414.457031 L 382.476562 415.40625 L 382.515625 414.046875 L 382.550781 414.046875 L 382.589844 415.644531 L 382.628906 413.257812 L 382.667969 413.410156 L 382.707031 415.875 L 382.78125 415.875 L 382.820312 414.980469 L 382.898438 414.980469 L 382.9375 414.332031 L 382.976562 414.945312 L 383.011719 414.945312 L 383.050781 414.621094 L 383.128906 414.621094 L 383.167969 415.96875 L 383.207031 415.605469 L 383.242188 415.378906 L 383.28125 415.894531 L 383.320312 415.734375 L 383.359375 415.734375 L 383.398438 415.855469 L 383.4375 413.730469 L 383.472656 407.632812 L 383.511719 398.878906 L 383.550781 416.027344 L 383.589844 416.027344 L 383.628906 414.667969 L 383.667969 414.253906 L 383.703125 414.253906 L 383.742188 414.480469 L 383.78125 414.480469 L 383.820312 414.332031 L 383.859375 415.023438 L 383.898438 415.628906 L 383.933594 416.648438 L 383.972656 416.097656 L 384.011719 416.097656 L 384.050781 413.328125 L 384.089844 412.738281 L 384.128906 412.332031 L 384.164062 415.019531 L 384.203125 415.019531 L 384.242188 414.488281 L 384.28125 414.1875 L 384.320312 415.363281 L 384.355469 415.363281 L 384.394531 415.589844 L 384.433594 415.128906 L 384.472656 414.902344 L 384.550781 414.902344 L 384.585938 416.007812 L 384.625 415.847656 L 384.664062 415.371094 L 384.703125 415.53125 L 384.742188 412.457031 L 384.78125 412.933594 L 384.816406 414.96875 L 384.855469 412.109375 L 384.894531 412.660156 L 384.933594 413.753906 L 384.972656 415.800781 L 385.011719 415.800781 L 385.046875 416.5 L 385.085938 416.574219 L 385.125 416.175781 L 385.164062 414.449219 L 385.203125 415.347656 L 385.242188 414.480469 L 385.277344 414.554688 L 385.316406 414.5625 L 385.355469 415.96875 L 385.394531 414.820312 L 385.433594 415.359375 L 385.472656 415.359375 L 385.507812 415.136719 L 385.546875 415.429688 L 385.585938 415.546875 L 385.625 413.691406 L 385.664062 414.980469 L 385.703125 414.492188 L 385.738281 415.683594 L 385.777344 416.195312 L 385.816406 415.949219 L 385.855469 415.222656 L 385.894531 415.660156 L 386.007812 415.660156 L 386.046875 415.890625 L 386.085938 415.890625 L 386.125 416.800781 L 386.164062 416.082031 L 386.199219 414.617188 L 386.238281 416.800781 L 386.277344 414.183594 L 386.316406 414.375 L 386.355469 414.375 L 386.394531 415.105469 L 386.429688 413.566406 L 386.46875 416.648438 L 386.507812 416.648438 L 386.546875 414.898438 L 386.585938 414.988281 L 386.625 416.1875 L 386.660156 415.402344 L 386.699219 415.550781 L 386.738281 415.390625 L 386.777344 414.929688 L 386.816406 414.929688 L 386.855469 416.039062 L 386.890625 416.082031 L 386.929688 416.121094 L 386.96875 412.363281 L 387.007812 415.460938 L 387.046875 415.460938 L 387.085938 398.210938 L 387.121094 398.210938 L 387.160156 398.371094 L 387.199219 399.617188 L 387.238281 399.617188 L 387.277344 396.148438 L 387.316406 397.207031 L 387.390625 397.207031 L 387.429688 397.683594 L 387.46875 397.683594 L 387.507812 401.578125 L 387.542969 403.425781 L 387.582031 399.125 L 387.621094 398.859375 L 387.660156 412.632812 L 387.699219 403.015625 L 387.738281 403.015625 L 387.773438 359.820312 L 387.8125 344.492188 L 387.851562 338.589844 L 387.890625 390.671875 L 387.929688 406.667969 L 387.96875 407.140625 L 388.003906 408.839844 L 388.042969 408.839844 L 388.082031 403.71875 L 388.121094 403.71875 L 388.160156 403.457031 L 388.199219 405.3125 L 388.234375 405.464844 L 388.273438 402.5 L 388.3125 409.59375 L 388.351562 389.371094 L 388.390625 396.105469 L 388.429688 386.796875 L 388.464844 401.746094 L 388.503906 402.046875 L 388.542969 403.652344 L 388.582031 409.921875 L 388.621094 409.921875 L 388.660156 409.621094 L 388.695312 411.050781 L 388.734375 410.578125 L 388.773438 408.351562 L 388.8125 401.75 L 388.851562 403.679688 L 388.890625 409.460938 L 388.925781 409.460938 L 388.964844 408.175781 L 389.003906 407.96875 L 389.042969 407.816406 L 389.121094 407.816406 L 389.15625 411.328125 L 389.195312 413.710938 L 389.234375 413.710938 L 389.273438 413.410156 L 389.3125 412.960938 L 389.351562 412.960938 L 389.386719 413.375 L 389.425781 414.089844 L 389.464844 414.242188 L 389.503906 410.429688 L 389.542969 410.429688 L 389.582031 409.957031 L 389.617188 410.566406 L 389.65625 412.714844 L 389.695312 415.15625 L 389.734375 414.8125 L 389.773438 414.929688 L 389.8125 414.929688 L 389.847656 414.402344 L 389.886719 414.628906 L 389.925781 414.8125 L 389.964844 415.285156 L 390.003906 415.253906 L 390.042969 415.078125 L 390.078125 415.886719 L 390.117188 416.039062 L 390.15625 416.339844 L 390.195312 416.800781 L 390.308594 416.800781 L 390.347656 415.773438 L 390.386719 416.386719 L 390.464844 416.386719 L 390.503906 414.804688 L 390.539062 415.070312 L 390.578125 415.21875 L 390.617188 409.320312 L 390.65625 410.023438 L 390.695312 393.976562 L 390.734375 390.425781 L 390.769531 404.925781 L 390.808594 415.402344 L 390.925781 415.402344 L 390.960938 416.648438 L 391 416.574219 L 391.039062 416.574219 L 391.078125 416.109375 L 391.117188 416.109375 L 391.15625 415.617188 L 391.191406 415.398438 L 391.230469 415.398438 L 391.269531 374.066406 L 391.308594 416.648438 L 391.347656 393.855469 L 391.386719 384.519531 L 391.421875 383.5625 L 391.460938 408.054688 L 391.5 408.054688 L 391.539062 407.753906 L 391.578125 407.753906 L 391.617188 415.441406 L 391.652344 410.828125 L 391.691406 410.597656 L 391.730469 404.65625 L 391.769531 404.65625 L 391.808594 408.882812 L 391.847656 411.136719 L 391.882812 403.390625 L 391.921875 403.390625 L 391.960938 392.742188 L 392 358.808594 L 392.039062 370.910156 L 392.078125 369.859375 L 392.113281 412.695312 L 392.152344 413.070312 L 392.191406 412.234375 L 392.230469 412.007812 L 392.269531 415.621094 L 392.308594 414.875 L 392.34375 414.875 L 392.382812 413.578125 L 392.460938 413.578125 L 392.5 414.757812 L 392.539062 414.304688 L 392.574219 413.964844 L 392.613281 413.472656 L 392.652344 413 L 392.730469 413 L 392.769531 413.449219 L 392.804688 413.988281 L 392.84375 413.898438 L 392.882812 412.800781 L 392.921875 412.707031 L 392.960938 413.527344 L 393 412.726562 L 393.035156 414.636719 L 393.074219 414.867188 L 393.113281 405.617188 L 393.152344 405.160156 L 393.191406 404.933594 L 393.230469 407.640625 L 393.265625 413.917969 L 393.304688 413.917969 L 393.34375 411.796875 L 393.382812 412.671875 L 393.421875 412.101562 L 393.460938 413.410156 L 393.496094 402.558594 L 393.535156 402.59375 L 393.574219 402.914062 L 393.652344 402.914062 L 393.691406 416.574219 L 393.726562 404.863281 L 393.765625 404.367188 L 393.804688 404.105469 L 393.84375 404.40625 L 393.882812 413.875 L 393.921875 415.417969 L 393.957031 413.5625 L 393.996094 414.796875 L 394.035156 412.613281 L 394.074219 413.9375 L 394.113281 414.054688 L 394.148438 408.921875 L 394.1875 408.921875 L 394.226562 409.070312 L 394.265625 408.921875 L 394.304688 407.167969 L 394.34375 407.167969 L 394.378906 406.21875 L 394.417969 410.078125 L 394.457031 410.078125 L 394.496094 413.230469 L 394.535156 413.003906 L 394.574219 413.003906 L 394.609375 413.765625 L 394.648438 409.617188 L 394.6875 387.617188 L 394.726562 387.386719 L 394.765625 410.179688 L 394.804688 406.339844 L 394.839844 407.328125 L 394.878906 414.296875 L 394.917969 412.980469 L 394.957031 412.714844 L 394.996094 412.875 L 395.035156 413.628906 L 395.070312 413.304688 L 395.109375 413.808594 L 395.148438 414.285156 L 395.1875 413.082031 L 395.226562 413.921875 L 395.265625 412.707031 L 395.300781 412.578125 L 395.339844 415.132812 L 395.378906 414.4375 L 395.417969 412.003906 L 395.457031 407.394531 L 395.496094 392.269531 L 395.53125 399.464844 L 395.570312 397.074219 L 395.609375 397.867188 L 395.6875 397.867188 L 395.726562 411.929688 L 395.761719 408.894531 L 395.800781 412.492188 L 395.839844 411.714844 L 395.878906 411.714844 L 395.917969 414.445312 L 395.957031 413.988281 L 395.992188 414.160156 L 396.03125 414.910156 L 396.070312 414.910156 L 396.109375 414.613281 L 396.148438 411.25 L 396.1875 411.398438 L 396.222656 414.457031 L 396.261719 413.09375 L 396.300781 412.511719 L 396.339844 412.511719 L 396.378906 415.929688 L 396.417969 416.421875 L 396.453125 415.960938 L 396.492188 412.511719 L 396.53125 409.691406 L 396.570312 413.660156 L 396.609375 413.660156 L 396.648438 411.820312 L 396.683594 411.128906 L 396.722656 412.988281 L 396.761719 412.230469 L 396.800781 410.613281 L 396.839844 412.53125 L 396.878906 414.199219 L 396.914062 413.132812 L 396.953125 411.566406 L 396.992188 411.488281 L 397.03125 416.800781 L 397.070312 415.929688 L 397.183594 415.929688 L 397.222656 147.886719 L 397.261719 415.949219 L 397.300781 408.207031 L 397.339844 400.609375 L 397.375 410.695312 L 397.414062 410.695312 L 397.453125 410.230469 L 397.492188 386.738281 L 397.566406 386.738281 L 397.605469 386.625 L 397.644531 340.316406 L 397.683594 406.144531 L 397.722656 406.882812 L 397.761719 389.261719 L 397.796875 386.640625 L 397.835938 386.90625 L 397.875 369.082031 L 397.914062 374.398438 L 397.953125 374.398438 L 397.992188 354.976562 L 398.027344 387.058594 L 398.066406 392.339844 L 398.105469 392.339844 L 398.144531 405.167969 L 398.183594 399.367188 L 398.222656 401.046875 L 398.257812 400.78125 L 398.296875 400.78125 L 398.335938 413.492188 L 398.375 411.835938 L 398.527344 411.835938 L 398.566406 387.617188 L 398.644531 387.617188 L 398.683594 380.113281 L 398.71875 380.113281 L 398.757812 386.757812 L 398.796875 384.496094 L 398.835938 368.425781 L 398.875 366.722656 L 398.914062 341.78125 L 398.949219 351.78125 L 398.988281 345.257812 L 399.027344 381.875 L 399.066406 394.171875 L 399.105469 394.171875 L 399.144531 404.835938 L 399.179688 404.835938 L 399.21875 401.511719 L 399.257812 408.21875 L 399.296875 408.484375 L 399.335938 404.144531 L 399.375 404.605469 L 399.449219 404.605469 L 399.488281 408.796875 L 399.527344 405.546875 L 399.566406 405.546875 L 399.605469 404.539062 L 399.640625 393.894531 L 399.679688 398.953125 L 399.71875 398.503906 L 399.757812 394.476562 L 399.796875 400.757812 L 399.835938 408.695312 L 399.871094 409.191406 L 399.910156 408.148438 L 399.949219 407.996094 L 399.988281 408.457031 L 400.027344 408.191406 L 400.066406 412.710938 L 400.101562 412.710938 L 400.140625 414.253906 L 400.179688 410.824219 L 400.21875 410.972656 L 400.257812 410.824219 L 400.296875 410.640625 L 400.332031 410.488281 L 400.371094 413.257812 L 400.410156 409.167969 L 400.449219 409.851562 L 400.488281 414.199219 L 400.527344 411.859375 L 400.5625 410.15625 L 400.601562 413.058594 L 400.640625 413.917969 L 400.679688 414.128906 L 400.71875 412.6875 L 400.753906 414.738281 L 400.792969 414.585938 L 400.832031 413.421875 L 400.871094 413.421875 L 400.910156 413.15625 L 400.949219 413.15625 L 400.984375 414.371094 L 401.023438 414.371094 L 401.0625 414.464844 L 401.101562 411.820312 L 401.179688 411.820312 L 401.214844 410.109375 L 401.253906 409.808594 L 401.292969 409.808594 L 401.332031 409.957031 L 401.371094 414.234375 L 401.410156 413.097656 L 401.445312 410.953125 L 401.484375 410.273438 L 401.523438 408.246094 L 401.5625 409.644531 L 401.601562 411.640625 L 401.640625 411.640625 L 401.675781 412.421875 L 401.714844 412.421875 L 401.753906 412.929688 L 401.792969 412.929688 L 401.832031 403.671875 L 401.871094 402.953125 L 401.90625 411.785156 L 401.945312 408.308594 L 401.984375 405.839844 L 402.023438 406.859375 L 402.0625 382.835938 L 402.101562 372.042969 L 402.136719 371.625 L 402.175781 410.339844 L 402.214844 410.339844 L 402.253906 409.574219 L 402.292969 395.8125 L 402.332031 395.8125 L 402.367188 398.460938 L 402.40625 400.164062 L 402.445312 400.316406 L 402.484375 406.773438 L 402.523438 402.476562 L 402.5625 402.742188 L 402.597656 406.386719 L 402.636719 406.386719 L 402.675781 407.035156 L 402.714844 407.035156 L 402.753906 404.046875 L 402.792969 403.621094 L 402.828125 404.058594 L 402.867188 404.058594 L 402.90625 402.363281 L 402.945312 402.363281 L 402.984375 397.21875 L 403.023438 400.0625 L 403.058594 407.515625 L 403.097656 407.515625 L 403.136719 404.46875 L 403.175781 404.46875 L 403.214844 398.03125 L 403.253906 397.992188 L 403.289062 410.960938 L 403.328125 408.875 L 403.367188 409.242188 L 403.40625 410.425781 L 403.445312 410.425781 L 403.484375 416.574219 L 403.519531 414.804688 L 403.558594 414.804688 L 403.597656 416.648438 L 403.636719 410.28125 L 403.675781 406.640625 L 403.714844 402.765625 L 403.75 412.316406 L 403.789062 411.730469 L 403.828125 409.355469 L 403.867188 407.019531 L 403.90625 411.035156 L 403.941406 409.90625 L 403.980469 409.90625 L 404.019531 412.4375 L 404.058594 411.179688 L 404.097656 412.535156 L 404.136719 410.441406 L 404.171875 410.171875 L 404.210938 414.605469 L 404.25 411.59375 L 404.289062 411.59375 L 404.328125 415.4375 L 404.367188 415.4375 L 404.402344 413.320312 L 404.441406 413.203125 L 404.480469 408.023438 L 404.519531 406.617188 L 404.558594 407.269531 L 404.597656 407.269531 L 404.632812 415.09375 L 404.671875 415.359375 L 404.710938 411.078125 L 404.75 411.078125 L 404.789062 410.851562 L 404.828125 416.386719 L 404.863281 410.625 L 404.902344 410.890625 L 404.941406 409.269531 L 404.980469 406.828125 L 405.019531 405.699219 L 405.058594 405.925781 L 405.09375 405.925781 L 405.132812 406.640625 L 405.171875 405.847656 L 405.210938 409.085938 L 405.25 410.847656 L 405.289062 407.824219 L 405.324219 409.144531 L 405.363281 408.660156 L 405.402344 390.683594 L 405.441406 393.085938 L 405.480469 393.085938 L 405.519531 390.402344 L 405.554688 405.332031 L 405.59375 400.289062 L 405.632812 395.882812 L 405.671875 407.800781 L 405.710938 408.769531 L 405.75 393.996094 L 405.824219 393.996094 L 405.863281 393.695312 L 405.902344 397.636719 L 405.941406 397.636719 L 405.980469 402.359375 L 406.015625 396.710938 L 406.054688 399.933594 L 406.09375 399.160156 L 406.132812 406.839844 L 406.171875 406.839844 L 406.210938 410.054688 L 406.246094 412.171875 L 406.285156 409.203125 L 406.324219 404.054688 L 406.363281 404.886719 L 406.402344 404.886719 L 406.441406 402.28125 L 406.476562 405.574219 L 406.515625 403.953125 L 406.554688 403.421875 L 406.59375 402.929688 L 406.632812 405.378906 L 406.671875 405.609375 L 406.707031 405.609375 L 406.746094 397.152344 L 406.785156 399.726562 L 406.824219 413.175781 L 406.863281 411.996094 L 406.902344 404.464844 L 406.9375 406.855469 L 406.976562 394.382812 L 407.015625 402.4375 L 407.054688 402.4375 L 407.09375 402.589844 L 407.132812 404.484375 L 407.167969 410.691406 L 407.246094 410.691406 L 407.285156 410.230469 L 407.324219 404.390625 L 407.359375 404.390625 L 407.398438 377.757812 L 407.4375 390.703125 L 407.476562 390.703125 L 407.515625 303.632812 L 407.554688 400.925781 L 407.589844 372.707031 L 407.628906 372.707031 L 407.667969 376.433594 L 407.707031 398.632812 L 407.746094 398.632812 L 407.785156 413.371094 L 407.820312 413.265625 L 407.859375 386.816406 L 407.9375 386.816406 L 407.976562 375.238281 L 408.015625 399.3125 L 408.050781 399.734375 L 408.089844 400.207031 L 408.128906 411.242188 L 408.167969 413.960938 L 408.207031 413.8125 L 408.246094 413.398438 L 408.28125 413.964844 L 408.320312 413.292969 L 408.359375 413.292969 L 408.398438 413.558594 L 408.4375 410.933594 L 408.476562 410.472656 L 408.511719 407.925781 L 408.550781 410.246094 L 408.589844 410.398438 L 408.628906 414.773438 L 408.667969 414.886719 L 408.707031 414.886719 L 408.742188 415.648438 L 408.78125 415.628906 L 408.820312 410.75 L 408.859375 411.242188 L 408.898438 397.929688 L 408.9375 391.1875 L 408.972656 408.40625 L 409.011719 410.460938 L 409.050781 414.957031 L 409.089844 410.386719 L 409.128906 410.652344 L 409.167969 410.652344 L 409.203125 411.679688 L 409.242188 415.714844 L 409.28125 408.636719 L 409.320312 407.25 L 409.359375 415.414062 L 409.398438 415.097656 L 409.433594 415.253906 L 409.472656 416.046875 L 409.511719 415.421875 L 409.550781 415.570312 L 409.589844 416.34375 L 409.628906 416.574219 L 409.664062 415.023438 L 409.742188 415.023438 L 409.78125 415.921875 L 409.820312 415.796875 L 409.859375 412.503906 L 409.894531 412.964844 L 409.933594 414.230469 L 409.972656 414.230469 L 410.011719 413.617188 L 410.050781 414.996094 L 410.089844 413.523438 L 410.125 401.535156 L 410.203125 401.535156 L 410.242188 383.390625 L 410.28125 383.390625 L 410.320312 379.398438 L 410.355469 347.222656 L 410.394531 347.222656 L 410.433594 384.800781 L 410.511719 384.800781 L 410.546875 384.953125 L 410.585938 413.933594 L 410.625 414.082031 L 410.664062 411.75 L 410.703125 358.289062 L 410.742188 346.792969 L 410.777344 346.792969 L 410.816406 409.054688 L 410.855469 404.378906 L 410.894531 402.226562 L 410.933594 401.765625 L 410.972656 410.921875 L 411.007812 410.285156 L 411.046875 411.046875 L 411.085938 409.238281 L 411.125 408.035156 L 411.164062 411.765625 L 411.203125 411.765625 L 411.238281 413.941406 L 411.277344 411.582031 L 411.316406 410.394531 L 411.355469 410.71875 L 411.394531 414.53125 L 411.433594 409.117188 L 411.46875 402.800781 L 411.507812 413.609375 L 411.546875 407.898438 L 411.585938 409.351562 L 411.625 400.113281 L 411.664062 403.460938 L 411.699219 414.933594 L 411.738281 412.402344 L 411.777344 414.960938 L 411.816406 413.648438 L 411.855469 415.871094 L 411.894531 412.484375 L 411.929688 413.320312 L 411.96875 414.996094 L 412.007812 414.996094 L 412.046875 410.90625 L 412.085938 403.296875 L 412.125 406.476562 L 412.160156 414.394531 L 412.199219 414.394531 L 412.238281 412.742188 L 412.277344 401.699219 L 412.316406 405.125 L 412.355469 416.574219 L 412.390625 414.097656 L 412.429688 415.613281 L 412.46875 414.652344 L 412.507812 411.144531 L 412.546875 411.375 L 412.585938 409.898438 L 412.621094 409.898438 L 412.660156 406.089844 L 412.699219 405.941406 L 412.738281 414.785156 L 412.777344 409.625 L 412.816406 399.683594 L 412.851562 405.8125 L 412.890625 414.363281 L 412.929688 409.441406 L 412.96875 402.410156 L 413.007812 413.5 L 413.046875 405.335938 L 413.082031 409.1875 L 413.121094 414.058594 L 413.160156 413.765625 L 413.199219 410.257812 L 413.238281 413.5625 L 413.277344 413.070312 L 413.3125 409.648438 L 413.351562 411.292969 L 413.390625 406.960938 L 413.429688 402.949219 L 413.46875 403.101562 L 413.507812 411.476562 L 413.542969 406.765625 L 413.582031 402.84375 L 413.621094 399.300781 L 413.660156 407.636719 L 413.699219 406.898438 L 413.738281 409.085938 L 413.773438 409.085938 L 413.8125 407.878906 L 413.851562 407.765625 L 413.964844 407.765625 L 414.003906 416.5 L 414.042969 414.953125 L 414.082031 415.21875 L 414.121094 415.140625 L 414.160156 414.578125 L 414.195312 414.578125 L 414.234375 412.902344 L 414.273438 412.222656 L 414.3125 404.285156 L 414.351562 400.226562 L 414.390625 413.359375 L 414.425781 414.992188 L 414.503906 414.992188 L 414.542969 410.554688 L 414.582031 406.320312 L 414.621094 402.648438 L 414.65625 400.40625 L 414.695312 398.789062 L 414.734375 405.347656 L 414.773438 409.339844 L 414.8125 409.328125 L 414.851562 409.554688 L 414.886719 406.632812 L 414.925781 413.203125 L 414.964844 410.542969 L 415.003906 410.542969 L 415.042969 402.289062 L 415.082031 405.238281 L 415.117188 406.019531 L 415.15625 410.761719 L 415.195312 412.625 L 415.234375 412.132812 L 415.273438 409.871094 L 415.3125 410.097656 L 415.347656 413.785156 L 415.386719 415 L 415.425781 414.539062 L 415.503906 414.539062 L 415.542969 416.351562 L 415.578125 415.820312 L 415.65625 415.820312 L 415.695312 414.675781 L 415.734375 414.625 L 415.773438 413.863281 L 415.808594 414.089844 L 415.847656 414.652344 L 415.886719 414.210938 L 415.925781 414.058594 L 415.964844 404.757812 L 416.003906 414.382812 L 416.039062 413.503906 L 416.078125 416.574219 L 416.117188 415.96875 L 416.15625 416.0625 L 416.195312 415.414062 L 416.234375 414.539062 L 416.269531 414.539062 L 416.308594 415.773438 L 416.347656 415.542969 L 416.386719 411.585938 L 416.425781 413.027344 L 416.464844 410.199219 L 416.5 410.464844 L 416.539062 414.496094 L 416.578125 414.117188 L 416.617188 411.085938 L 416.65625 412.257812 L 416.695312 412.964844 L 416.730469 414.359375 L 416.808594 414.65625 L 416.847656 414.65625 L 416.886719 414.210938 L 416.925781 411.117188 L 416.960938 409.800781 L 417.039062 409.800781 L 417.078125 412.902344 L 417.117188 412.902344 L 417.152344 412.488281 L 417.191406 415.320312 L 417.230469 413.441406 L 417.269531 413.140625 L 417.308594 413.828125 L 417.347656 415.554688 L 417.382812 414.988281 L 417.421875 414.988281 L 417.460938 415.519531 L 417.5 412.132812 L 417.539062 411.179688 L 417.578125 408.683594 L 417.613281 405.542969 L 417.652344 407.328125 L 417.691406 407.328125 L 417.730469 410.136719 L 417.769531 409.664062 L 417.808594 409.398438 L 417.84375 412.367188 L 417.882812 407.292969 L 417.921875 407.292969 L 417.960938 407.601562 L 418 412.75 L 418.039062 412.585938 L 418.074219 408.046875 L 418.113281 408.460938 L 418.152344 411.910156 L 418.191406 412.621094 L 418.230469 412.621094 L 418.269531 409.683594 L 418.304688 414.609375 L 418.34375 415.722656 L 418.382812 415.832031 L 418.460938 415.832031 L 418.5 414.753906 L 418.535156 415.019531 L 418.574219 415.019531 L 418.613281 414.792969 L 418.652344 414.980469 L 418.691406 414.53125 L 418.730469 414.089844 L 418.765625 414.054688 L 418.804688 414.167969 L 418.84375 414.800781 L 418.882812 415.367188 L 418.921875 415.671875 L 418.960938 415.96875 L 418.996094 415.96875 L 419.035156 415.246094 L 419.074219 414.074219 L 419.113281 415.5 L 419.152344 394.261719 L 419.191406 402.945312 L 419.226562 402.945312 L 419.265625 410.117188 L 419.34375 410.117188 L 419.382812 410.097656 L 419.421875 407.171875 L 419.457031 407.472656 L 419.496094 410.425781 L 419.535156 412.402344 L 419.574219 404.460938 L 419.613281 404.460938 L 419.652344 403.6875 L 419.6875 410.359375 L 419.726562 412.300781 L 419.765625 407.960938 L 419.804688 407.960938 L 419.84375 398.589844 L 419.882812 398.589844 L 419.917969 398.972656 L 419.957031 409.386719 L 419.996094 408.804688 L 420.035156 408.804688 L 420.074219 408.578125 L 420.113281 410.332031 L 420.148438 410.332031 L 420.1875 403.945312 L 420.226562 403.632812 L 420.265625 403.632812 L 420.304688 403.253906 L 420.339844 403.253906 L 420.378906 406.019531 L 420.417969 415.511719 L 420.457031 404.648438 L 420.496094 407.484375 L 420.535156 414.566406 L 420.570312 414.566406 L 420.609375 414.183594 L 420.648438 414.644531 L 420.6875 414.617188 L 420.765625 414.617188 L 420.800781 413.863281 L 420.878906 414.160156 L 420.917969 415.050781 L 420.957031 411.898438 L 420.996094 411.4375 L 421.03125 411.4375 L 421.070312 412.171875 L 421.109375 412.398438 L 421.148438 407.460938 L 421.1875 408.683594 L 421.226562 402.925781 L 421.261719 402.925781 L 421.300781 407.75 L 421.339844 398.660156 L 421.378906 398.925781 L 421.417969 408.191406 L 421.457031 405.859375 L 421.492188 394.515625 L 421.53125 396.011719 L 421.570312 409.285156 L 421.609375 388.890625 L 421.648438 388.890625 L 421.6875 406.171875 L 421.722656 406.125 L 421.761719 412.136719 L 421.800781 411.910156 L 421.839844 410.953125 L 421.878906 413.648438 L 421.917969 415.894531 L 421.953125 415.273438 L 421.992188 414.8125 L 422.03125 410.65625 L 422.070312 412.851562 L 422.109375 408.820312 L 422.148438 413.117188 L 422.183594 409.984375 L 422.222656 409.984375 L 422.261719 411.652344 L 422.339844 411.652344 L 422.378906 409.976562 L 422.414062 405.789062 L 422.453125 398.160156 L 422.492188 400.207031 L 422.53125 406.558594 L 422.570312 394.433594 L 422.609375 402.402344 L 422.644531 396.871094 L 422.683594 396.210938 L 422.722656 409.015625 L 422.761719 400.375 L 422.800781 400.375 L 422.839844 399.898438 L 422.875 403.277344 L 422.914062 408.910156 L 422.953125 414.484375 L 422.992188 408.277344 L 423.03125 408.429688 L 423.070312 413.855469 L 423.105469 413.554688 L 423.144531 407.820312 L 423.183594 407.820312 L 423.222656 411.304688 L 423.261719 409.558594 L 423.300781 409.558594 L 423.335938 408.023438 L 423.375 405.925781 L 423.414062 406.871094 L 423.453125 411.886719 L 423.492188 410.472656 L 423.53125 410.507812 L 423.566406 410.21875 L 423.605469 410.21875 L 423.644531 410.484375 L 423.683594 410.484375 L 423.722656 411.144531 L 423.757812 410.84375 L 423.796875 411.070312 L 423.835938 409.320312 L 423.875 401.285156 L 423.914062 401.398438 L 423.953125 402.148438 L 424.027344 402.148438 L 424.066406 403.589844 L 424.105469 414.136719 L 424.144531 414.257812 L 424.183594 413.957031 L 424.21875 415.171875 L 424.257812 415.171875 L 424.296875 410.835938 L 424.335938 414.714844 L 424.375 413.910156 L 424.414062 414.070312 L 424.449219 413.019531 L 424.488281 413.476562 L 424.527344 413.476562 L 424.566406 413.179688 L 424.605469 411.566406 L 424.644531 412.078125 L 424.679688 414.84375 L 424.71875 415.257812 L 424.757812 414.785156 L 424.796875 414.160156 L 424.835938 412.246094 L 424.875 411.90625 L 424.949219 411.90625 L 424.988281 412.355469 L 425.027344 416.050781 L 425.066406 414.433594 L 425.105469 409.597656 L 425.140625 410.277344 L 425.21875 410.277344 L 425.257812 411.007812 L 425.296875 410.546875 L 425.335938 410.847656 L 425.371094 404.128906 L 425.410156 404.589844 L 425.449219 402.226562 L 425.488281 396.5625 L 425.527344 398.222656 L 425.566406 414.5 L 425.601562 414.5 L 425.640625 415.734375 L 425.679688 414.558594 L 425.71875 413.765625 L 425.757812 413.996094 L 425.796875 414.457031 L 425.832031 415.820312 L 425.871094 415.359375 L 425.910156 415.695312 L 425.949219 415.46875 L 425.988281 413.808594 L 426.027344 414.496094 L 426.0625 413.375 L 426.101562 413.589844 L 426.140625 413.761719 L 426.179688 414.464844 L 426.21875 407.960938 L 426.257812 409.691406 L 426.292969 409.691406 L 426.332031 413.308594 L 426.371094 413.214844 L 426.410156 413.117188 L 426.488281 413.117188 L 426.523438 412.277344 L 426.5625 412.277344 L 426.601562 406.539062 L 426.640625 406.539062 L 426.679688 415.480469 L 426.71875 404.4375 L 426.753906 392.273438 L 426.792969 395.9375 L 426.832031 397.675781 L 426.871094 396.253906 L 426.910156 391.832031 L 426.945312 404.828125 L 426.984375 398.855469 L 427.023438 403.519531 L 427.0625 389.769531 L 427.101562 388.386719 L 427.140625 398.480469 L 427.175781 395.003906 L 427.214844 395.003906 L 427.253906 395.242188 L 427.292969 404.390625 L 427.332031 406.875 L 427.371094 404.582031 L 427.40625 401.871094 L 427.445312 403.234375 L 427.484375 403.003906 L 427.523438 403.277344 L 427.5625 397.53125 L 427.601562 397.53125 L 427.636719 399.941406 L 427.675781 404.265625 L 427.714844 400.070312 L 427.753906 389.898438 L 427.792969 392.5 L 427.832031 404.617188 L 427.867188 402.730469 L 427.90625 406.214844 L 427.984375 406.214844 L 428.023438 410.269531 L 428.0625 409.65625 L 428.097656 408.449219 L 428.136719 400.816406 L 428.175781 400.816406 L 428.214844 400.644531 L 428.253906 404.007812 L 428.292969 403.183594 L 428.328125 405.300781 L 428.367188 407.109375 L 428.40625 410.730469 L 428.445312 411.171875 L 428.484375 410.03125 L 428.523438 408.683594 L 428.558594 406.945312 L 428.597656 409.644531 L 428.636719 409.625 L 428.675781 409.476562 L 428.714844 409.4375 L 428.753906 409.738281 L 428.789062 411.75 L 428.828125 408.519531 L 428.867188 403.046875 L 428.90625 404.390625 L 428.945312 406.574219 L 428.984375 406.625 L 429.019531 406.074219 L 429.058594 406.753906 L 429.097656 405.660156 L 429.136719 404.148438 L 429.175781 409.996094 L 429.214844 411.246094 L 429.25 410.382812 L 429.289062 411.625 L 429.328125 411.890625 L 429.367188 412.765625 L 429.40625 409.8125 L 429.445312 408.628906 L 429.480469 409.609375 L 429.519531 412.28125 L 429.558594 412.28125 L 429.597656 405.835938 L 429.636719 405.109375 L 429.675781 404.878906 L 429.710938 410.585938 L 429.75 409.214844 L 429.789062 409.441406 L 429.828125 409.441406 L 429.867188 400.582031 L 429.90625 400.429688 L 429.941406 400.28125 L 429.980469 400.28125 L 430.019531 373.753906 L 430.058594 373.753906 L 430.097656 377.824219 L 430.136719 377.804688 L 430.171875 385.902344 L 430.25 385.902344 L 430.289062 389.132812 L 430.328125 392.894531 L 430.363281 411.207031 L 430.402344 410.617188 L 430.441406 409.636719 L 430.480469 409.816406 L 430.519531 411.398438 L 430.558594 410.082031 L 430.59375 410.351562 L 430.632812 412.015625 L 430.671875 412.28125 L 430.710938 412.28125 L 430.75 411.363281 L 430.789062 413.804688 L 430.824219 391.617188 L 430.863281 391.617188 L 430.902344 381.121094 L 430.941406 382.039062 L 430.980469 382.039062 L 431.019531 382.265625 L 431.054688 385.738281 L 431.09375 385.589844 L 431.132812 412.734375 L 431.171875 412.734375 L 431.210938 410.152344 L 431.25 409.449219 L 431.285156 409.449219 L 431.324219 411.257812 L 431.363281 411.257812 L 431.402344 413.402344 L 431.441406 413.402344 L 431.480469 411.085938 L 431.515625 411.519531 L 431.554688 408.59375 L 431.59375 411.230469 L 431.632812 408.757812 L 431.671875 408.609375 L 431.710938 403.507812 L 431.746094 407.023438 L 431.785156 407.25 L 431.824219 407.25 L 431.863281 406.523438 L 431.902344 407.90625 L 431.941406 400.839844 L 431.976562 401.300781 L 432.015625 400.550781 L 432.054688 399.382812 L 432.09375 400.632812 L 432.132812 397.351562 L 432.171875 389.230469 L 432.207031 401.007812 L 432.246094 400.890625 L 432.285156 400.890625 L 432.324219 368.179688 L 432.363281 346.246094 L 432.402344 357.898438 L 432.4375 399.597656 L 432.476562 276.359375 L 432.515625 300.140625 L 432.554688 394.191406 L 432.59375 394.191406 L 432.632812 394.710938 L 432.667969 407.28125 L 432.707031 403.3125 L 432.746094 403.105469 L 432.785156 405.671875 L 432.824219 405.898438 L 432.863281 405.816406 L 432.898438 405.59375 L 432.9375 383.21875 L 432.976562 386.242188 L 433.015625 386.242188 L 433.054688 385.78125 L 433.09375 399.949219 L 433.128906 390.792969 L 433.167969 390.066406 L 433.207031 388.328125 L 433.246094 387.796875 L 433.285156 400.765625 L 433.324219 396.207031 L 433.359375 397.980469 L 433.398438 398.394531 L 433.4375 398.382812 L 433.476562 414.140625 L 433.515625 413.839844 L 433.550781 413.839844 L 433.589844 413.957031 L 433.628906 414.417969 L 433.667969 412.378906 L 433.707031 413.703125 L 433.746094 413.703125 L 433.78125 410.125 L 433.820312 410.585938 L 433.859375 414.445312 L 433.898438 411.738281 L 433.9375 411.738281 L 433.976562 412.199219 L 434.011719 408.847656 L 434.050781 408.699219 L 434.089844 403.128906 L 434.128906 398.71875 L 434.167969 400.800781 L 434.242188 400.800781 L 434.28125 400.570312 L 434.320312 401.070312 L 434.359375 401.070312 L 434.398438 401.53125 L 434.4375 394.578125 L 434.472656 404.769531 L 434.511719 402.816406 L 434.550781 402.816406 L 434.589844 409.058594 L 434.628906 408.21875 L 434.667969 412.933594 L 434.703125 409.519531 L 434.742188 409.519531 L 434.78125 404.914062 L 434.820312 404.914062 L 434.859375 399.667969 L 434.898438 399.667969 L 434.933594 399.355469 L 434.972656 402.074219 L 435.011719 401.921875 L 435.050781 402.398438 L 435.089844 406.144531 L 435.128906 408.277344 L 435.164062 408.277344 L 435.203125 415.433594 L 435.242188 412.789062 L 435.28125 412.789062 L 435.320312 412.472656 L 435.359375 414.636719 L 435.394531 414.484375 L 435.433594 414.449219 L 435.472656 414.941406 L 435.511719 412.359375 L 435.550781 413.464844 L 435.589844 403.796875 L 435.625 403.945312 L 435.664062 406.027344 L 435.703125 406.027344 L 435.742188 405 L 435.78125 416.535156 L 435.820312 413.089844 L 435.855469 411.285156 L 435.894531 411.285156 L 435.933594 411.191406 L 435.972656 410.925781 L 436.011719 410.714844 L 436.050781 413.550781 L 436.085938 413.003906 L 436.125 413.152344 L 436.164062 413.152344 L 436.203125 413.628906 L 436.242188 412.433594 L 436.28125 412.015625 L 436.316406 411.789062 L 436.355469 411.328125 L 436.394531 410.886719 L 436.433594 412.519531 L 436.472656 412.667969 L 436.511719 415.898438 L 436.546875 400.921875 L 436.585938 408.195312 L 436.625 392.910156 L 436.664062 393.703125 L 436.703125 377.632812 L 436.738281 377.390625 L 436.816406 377.390625 L 436.855469 392.699219 L 436.894531 413.097656 L 436.933594 403.527344 L 436.96875 410.410156 L 437.085938 410.410156 L 437.125 413.65625 L 437.199219 413.65625 L 437.238281 413.882812 L 437.277344 413.882812 L 437.316406 415.292969 L 437.355469 413.777344 L 437.394531 404.714844 L 437.429688 401.324219 L 437.46875 397.136719 L 437.507812 402.597656 L 437.546875 402.597656 L 437.585938 402.03125 L 437.625 411.40625 L 437.660156 416.269531 L 437.699219 408.164062 L 437.738281 406.84375 L 437.777344 403.859375 L 437.816406 399.496094 L 437.855469 408.527344 L 437.890625 415.636719 L 437.929688 415.636719 L 437.96875 415.488281 L 438.007812 414.128906 L 438.046875 414.277344 L 438.085938 414.277344 L 438.121094 413.238281 L 438.160156 413.121094 L 438.199219 410.167969 L 438.238281 406.078125 L 438.277344 408.449219 L 438.316406 408.148438 L 438.351562 406.40625 L 438.390625 406.597656 L 438.429688 410.261719 L 438.46875 410.597656 L 438.507812 410.597656 L 438.546875 409.105469 L 438.582031 408.660156 L 438.621094 410.871094 L 438.660156 408.808594 L 438.699219 409.234375 L 438.738281 409.234375 L 438.777344 412.253906 L 438.8125 411.535156 L 438.851562 411.71875 L 438.890625 411.738281 L 438.929688 414.140625 L 438.96875 414.140625 L 439.007812 407.570312 L 439.042969 408.46875 L 439.082031 415.566406 L 439.121094 415.195312 L 439.160156 415.96875 L 439.199219 415.695312 L 439.238281 392.816406 L 439.273438 401.246094 L 439.3125 400.449219 L 439.351562 414.328125 L 439.390625 408.753906 L 439.429688 404.460938 L 439.46875 401.800781 L 439.503906 402.066406 L 439.542969 409.984375 L 439.582031 409.984375 L 439.621094 411.914062 L 439.660156 413.746094 L 439.699219 413.746094 L 439.734375 413.136719 L 439.773438 411.597656 L 439.8125 411.597656 L 439.851562 409.921875 L 439.890625 412.082031 L 439.929688 408.308594 L 439.964844 407.621094 L 440.003906 404.640625 L 440.042969 411.957031 L 440.082031 411.960938 L 440.121094 411.960938 L 440.15625 411.207031 L 440.195312 405.816406 L 440.234375 407.519531 L 440.273438 410.8125 L 440.3125 410.191406 L 440.351562 408.117188 L 440.386719 407.835938 L 440.425781 395.832031 L 440.464844 398.695312 L 440.503906 402.476562 L 440.542969 395.566406 L 440.582031 384.28125 L 440.617188 398.328125 L 440.65625 398.328125 L 440.695312 398.019531 L 440.734375 413.265625 L 440.773438 413.578125 L 440.8125 410.085938 L 440.847656 411.605469 L 440.886719 414.410156 L 440.925781 414.871094 L 440.964844 415.554688 L 441.003906 412.75 L 441.042969 412.75 L 441.078125 414.953125 L 441.117188 414.800781 L 441.15625 414.800781 L 441.195312 415.554688 L 441.234375 413.878906 L 441.273438 413.386719 L 441.308594 408.792969 L 441.347656 409.136719 L 441.386719 410.449219 L 441.425781 410.84375 L 441.464844 410.003906 L 441.503906 412.066406 L 441.617188 412.066406 L 441.65625 394.914062 L 441.695312 405.933594 L 441.734375 393.402344 L 441.769531 393.402344 L 441.808594 407.886719 L 441.847656 407.886719 L 441.886719 412.65625 L 441.925781 416.039062 L 441.964844 415.796875 L 442 415.496094 L 442.039062 413.445312 L 442.078125 411.882812 L 442.117188 412.648438 L 442.15625 411.21875 L 442.195312 413.085938 L 442.230469 414.949219 L 442.269531 414.269531 L 442.308594 416.273438 L 442.347656 410.386719 L 442.386719 410.386719 L 442.425781 412.976562 L 442.460938 411.710938 L 442.5 411.351562 L 442.539062 416.269531 L 442.578125 415.148438 L 442.617188 415.855469 L 442.65625 416.5 L 442.691406 416.339844 L 442.730469 416.339844 L 442.769531 414.996094 L 442.808594 415.867188 L 442.847656 415.265625 L 442.886719 415.089844 L 442.921875 413.945312 L 442.960938 414.175781 L 443 415.054688 L 443.039062 413.363281 L 443.078125 413.511719 L 443.117188 408.425781 L 443.152344 409.136719 L 443.191406 415.324219 L 443.230469 412.953125 L 443.269531 412.492188 L 443.308594 415.253906 L 443.34375 415.402344 L 443.382812 412.515625 L 443.421875 415.410156 L 443.460938 415.65625 L 443.5 409.722656 L 443.539062 411.832031 L 443.574219 414.980469 L 443.652344 414.980469 L 443.691406 416.082031 L 443.730469 413.265625 L 443.769531 415.636719 L 443.804688 415.035156 L 443.84375 411.5 L 443.960938 411.5 L 444 406.183594 L 444.035156 412.871094 L 444.074219 412.535156 L 444.113281 412.679688 L 444.152344 409.4375 L 444.191406 413.015625 L 444.230469 413.378906 L 444.265625 410.871094 L 444.304688 406.527344 L 444.34375 400.320312 L 444.382812 400.320312 L 444.421875 404.066406 L 444.460938 409.84375 L 444.496094 399.914062 L 444.535156 399.914062 L 444.574219 402.0625 L 444.613281 403.972656 L 444.652344 401.332031 L 444.691406 406.089844 L 444.726562 406.089844 L 444.765625 406.242188 L 444.804688 408.882812 L 444.84375 415.039062 L 444.882812 414.953125 L 444.921875 415.253906 L 444.957031 415.648438 L 444.996094 416.535156 L 445.035156 415.742188 L 445.074219 416.308594 L 445.113281 413.117188 L 445.152344 412.558594 L 445.1875 411.726562 L 445.226562 411.460938 L 445.265625 410.800781 L 445.304688 413.203125 L 445.34375 414.382812 L 445.382812 414.382812 L 445.417969 413.859375 L 445.457031 412.496094 L 445.496094 411.375 L 445.535156 413.195312 L 445.574219 414.714844 L 445.613281 416.097656 L 445.648438 413.9375 L 445.6875 415.726562 L 445.726562 416.574219 L 445.765625 414.117188 L 445.804688 416.5 L 445.84375 415.554688 L 445.878906 413.546875 L 445.917969 414.171875 L 445.957031 414.496094 L 445.996094 412.496094 L 446.035156 413.019531 L 446.074219 415.347656 L 446.109375 415.347656 L 446.148438 416.800781 L 446.1875 415.53125 L 446.226562 414.644531 L 446.265625 414.296875 L 446.304688 414.929688 L 446.339844 415.554688 L 446.378906 410.152344 L 446.417969 411.617188 L 446.457031 414.894531 L 446.496094 415.101562 L 446.535156 413.644531 L 446.570312 416.007812 L 446.609375 416.007812 L 446.648438 414.734375 L 446.6875 414.960938 L 446.726562 415.285156 L 446.761719 415.285156 L 446.800781 415.726562 L 446.839844 414.515625 L 446.878906 415.761719 L 446.917969 415.191406 L 446.957031 414.851562 L 446.992188 415.363281 L 447.03125 415.523438 L 447.070312 415.523438 L 447.109375 415.746094 L 447.148438 415.746094 L 447.1875 415.59375 L 447.222656 414.667969 L 447.261719 414.820312 L 447.300781 414.820312 L 447.339844 415.28125 L 447.417969 415.28125 L 447.453125 415.851562 L 447.492188 416.574219 L 447.53125 416.574219 L 447.570312 416.121094 L 447.609375 414.371094 L 447.648438 415.089844 L 447.683594 412.859375 L 447.722656 414.074219 L 447.761719 415.015625 L 447.800781 414.976562 L 447.839844 415.046875 L 447.878906 416.097656 L 447.914062 414.976562 L 447.953125 415.300781 L 447.992188 411.003906 L 448.03125 411.628906 L 448.070312 410.378906 L 448.109375 408.828125 L 448.144531 411.617188 L 448.183594 413.238281 L 448.222656 410.273438 L 448.261719 409.800781 L 448.300781 415.042969 L 448.339844 414.300781 L 448.375 414.261719 L 448.414062 414.261719 L 448.453125 415.289062 L 448.492188 413.253906 L 448.53125 413.253906 L 448.570312 413.519531 L 448.605469 413.667969 L 448.644531 413.667969 L 448.683594 413.109375 L 448.722656 411.789062 L 448.761719 411.789062 L 448.800781 410.144531 L 448.835938 407.367188 L 448.875 406.445312 L 448.914062 409.644531 L 448.953125 405.378906 L 448.992188 404.453125 L 449.03125 400.113281 L 449.066406 402.828125 L 449.105469 403.503906 L 449.144531 405.339844 L 449.183594 403.441406 L 449.222656 404.65625 L 449.261719 402.0625 L 449.296875 394.355469 L 449.335938 394.355469 L 449.375 396.957031 L 449.414062 397.484375 L 449.453125 404.476562 L 449.527344 404.476562 L 449.566406 399.183594 L 449.605469 410.28125 L 449.644531 415.132812 L 449.683594 410.125 L 449.722656 412.84375 L 449.757812 414.121094 L 449.796875 416.039062 L 449.835938 415.160156 L 449.875 416.078125 L 449.914062 415.164062 L 449.949219 415.582031 L 449.988281 412.605469 L 450.027344 416.042969 L 450.066406 413.515625 L 450.105469 416.5 L 450.144531 416.648438 L 450.179688 416.082031 L 450.21875 415.234375 L 450.257812 415.4375 L 450.296875 413.773438 L 450.335938 412.414062 L 450.375 389.625 L 450.410156 389.851562 L 450.449219 389.734375 L 450.488281 312.925781 L 450.527344 312.464844 L 450.566406 312.613281 L 450.605469 312.347656 L 450.640625 410.320312 L 450.679688 411.242188 L 450.71875 407.941406 L 450.757812 414.320312 L 450.796875 408.542969 L 450.835938 406.398438 L 450.871094 409.90625 L 450.910156 407.078125 L 450.949219 407.804688 L 450.988281 407.113281 L 451.027344 406.972656 L 451.066406 402.925781 L 451.101562 403.457031 L 451.140625 403.917969 L 451.179688 413.65625 L 451.21875 413.957031 L 451.257812 413.957031 L 451.296875 413.492188 L 451.332031 402.296875 L 451.371094 390.296875 L 451.410156 391.140625 L 451.449219 398.976562 L 451.488281 398.976562 L 451.527344 414.726562 L 451.5625 410.730469 L 451.601562 398.6875 L 451.640625 398.6875 L 451.679688 411.550781 L 451.71875 402.320312 L 451.757812 409.53125 L 451.792969 410.023438 L 451.832031 412.863281 L 451.871094 412.925781 L 451.910156 414.15625 L 451.949219 414.953125 L 451.988281 414.574219 L 452.023438 413.851562 L 452.0625 413.851562 L 452.101562 415.097656 L 452.140625 415.097656 L 452.179688 405.246094 L 452.21875 402.296875 L 452.253906 402.296875 L 452.292969 409.199219 L 452.332031 415.355469 L 452.371094 413.617188 L 452.410156 414.847656 L 452.449219 412.601562 L 452.484375 415.351562 L 452.5625 415.351562 L 452.601562 415.960938 L 452.640625 415.339844 L 452.679688 414.453125 L 452.714844 416.308594 L 452.753906 415.230469 L 452.792969 415.230469 L 452.832031 415.25 L 452.871094 412.382812 L 452.910156 415.195312 L 452.945312 414.003906 L 452.984375 412.414062 L 453.023438 411.605469 L 453.0625 412.214844 L 453.101562 415.382812 L 453.140625 405.53125 L 453.175781 412.5625 L 453.214844 410.292969 L 453.253906 411.433594 L 453.292969 410.222656 L 453.332031 414.136719 L 453.367188 413.664062 L 453.40625 413.664062 L 453.445312 412.910156 L 453.484375 415.867188 L 453.523438 412.132812 L 453.5625 410.972656 L 453.597656 409.179688 L 453.675781 409.179688 L 453.714844 412.585938 L 453.753906 409.015625 L 453.90625 409.015625 L 453.945312 408.703125 L 453.984375 405.425781 L 454.023438 404.964844 L 454.058594 407.601562 L 454.097656 407.601562 L 454.136719 414.328125 L 454.175781 408.929688 L 454.214844 409.160156 L 454.253906 410.628906 L 454.289062 410.628906 L 454.328125 393.074219 L 454.367188 403.28125 L 454.40625 408.429688 L 454.445312 408.429688 L 454.484375 406.921875 L 454.519531 406.921875 L 454.558594 409.433594 L 454.597656 409.433594 L 454.636719 413.707031 L 454.675781 412.109375 L 454.714844 413.945312 L 454.75 410.925781 L 454.789062 410.925781 L 454.828125 401.980469 L 454.867188 387.054688 L 454.90625 386.789062 L 454.945312 409.433594 L 454.980469 409.167969 L 455.019531 406.3125 L 455.058594 370.246094 L 455.097656 397.332031 L 455.136719 397.332031 L 455.175781 397.066406 L 455.210938 413.148438 L 455.25 413.148438 L 455.289062 412.550781 L 455.328125 412.550781 L 455.367188 416.5 L 455.40625 411.039062 L 455.441406 403.664062 L 455.480469 402.980469 L 455.519531 412.734375 L 455.558594 411.1875 L 455.597656 407.484375 L 455.636719 407.484375 L 455.671875 410.226562 L 455.710938 410.28125 L 455.75 415.359375 L 455.789062 411.539062 L 455.828125 403.945312 L 455.867188 403.324219 L 455.902344 386.730469 L 455.941406 392.765625 L 455.980469 398.875 L 456.019531 393.457031 L 456.058594 389.6875 L 456.097656 396.234375 L 456.132812 397.097656 L 456.171875 408.78125 L 456.210938 405.296875 L 456.25 405.296875 L 456.289062 404.835938 L 456.328125 409.144531 L 456.363281 392.058594 L 456.402344 374.152344 L 456.441406 374.152344 L 456.480469 386.242188 L 456.519531 407.917969 L 456.554688 404.183594 L 456.59375 402.773438 L 456.632812 405.8125 L 456.671875 407.164062 L 456.710938 407.21875 L 456.75 413.046875 L 456.785156 413.277344 L 456.824219 410.652344 L 456.863281 401.8125 L 456.902344 404.859375 L 456.941406 404.859375 L 456.980469 390.960938 L 457.015625 373.949219 L 457.054688 398.625 L 457.09375 408.59375 L 457.132812 408.59375 L 457.171875 409.761719 L 457.210938 413.816406 L 457.246094 397.992188 L 457.285156 309.628906 L 457.324219 348.90625 L 457.363281 348.148438 L 457.402344 300.269531 L 457.476562 300.269531 L 457.515625 390.488281 L 457.554688 390.472656 L 457.59375 404.289062 L 457.632812 404.289062 L 457.671875 409.101562 L 457.707031 408.644531 L 457.746094 393.378906 L 457.785156 393.378906 L 457.824219 390.875 L 457.863281 399.574219 L 457.902344 401.652344 L 457.9375 401.40625 L 457.976562 401.40625 L 458.015625 403.25 L 458.054688 402.867188 L 458.09375 410.671875 L 458.132812 412.402344 L 458.167969 408.730469 L 458.207031 410.050781 L 458.246094 397.253906 L 458.285156 397.253906 L 458.324219 400.960938 L 458.363281 404.222656 L 458.398438 404.222656 \"/>\n",
       "<path style=\"fill:none;stroke-width:0.75;stroke-linecap:round;stroke-linejoin:round;stroke:rgb(0%,0%,0%);stroke-opacity:1;stroke-miterlimit:10;\" d=\"M 74.363281 430.558594 L 458.398438 430.558594 \"/>\n",
       "<path style=\"fill:none;stroke-width:0.75;stroke-linecap:round;stroke-linejoin:round;stroke:rgb(0%,0%,0%);stroke-opacity:1;stroke-miterlimit:10;\" d=\"M 74.363281 430.558594 L 74.363281 437.761719 \"/>\n",
       "<path style=\"fill:none;stroke-width:0.75;stroke-linecap:round;stroke-linejoin:round;stroke:rgb(0%,0%,0%);stroke-opacity:1;stroke-miterlimit:10;\" d=\"M 151.167969 430.558594 L 151.167969 437.761719 \"/>\n",
       "<path style=\"fill:none;stroke-width:0.75;stroke-linecap:round;stroke-linejoin:round;stroke:rgb(0%,0%,0%);stroke-opacity:1;stroke-miterlimit:10;\" d=\"M 227.976562 430.558594 L 227.976562 437.761719 \"/>\n",
       "<path style=\"fill:none;stroke-width:0.75;stroke-linecap:round;stroke-linejoin:round;stroke:rgb(0%,0%,0%);stroke-opacity:1;stroke-miterlimit:10;\" d=\"M 304.785156 430.558594 L 304.785156 437.761719 \"/>\n",
       "<path style=\"fill:none;stroke-width:0.75;stroke-linecap:round;stroke-linejoin:round;stroke:rgb(0%,0%,0%);stroke-opacity:1;stroke-miterlimit:10;\" d=\"M 381.59375 430.558594 L 381.59375 437.761719 \"/>\n",
       "<path style=\"fill:none;stroke-width:0.75;stroke-linecap:round;stroke-linejoin:round;stroke:rgb(0%,0%,0%);stroke-opacity:1;stroke-miterlimit:10;\" d=\"M 458.398438 430.558594 L 458.398438 437.761719 \"/>\n",
       "<g style=\"fill:rgb(0%,0%,0%);fill-opacity:1;\">\n",
       "  <use xlink:href=\"#glyph0-1\" x=\"71.027344\" y=\"456.480469\"/>\n",
       "</g>\n",
       "<g style=\"fill:rgb(0%,0%,0%);fill-opacity:1;\">\n",
       "  <use xlink:href=\"#glyph0-2\" x=\"137.820312\" y=\"456.480469\"/>\n",
       "  <use xlink:href=\"#glyph0-1\" x=\"144.494141\" y=\"456.480469\"/>\n",
       "  <use xlink:href=\"#glyph0-1\" x=\"151.167969\" y=\"456.480469\"/>\n",
       "  <use xlink:href=\"#glyph0-1\" x=\"157.841797\" y=\"456.480469\"/>\n",
       "</g>\n",
       "<g style=\"fill:rgb(0%,0%,0%);fill-opacity:1;\">\n",
       "  <use xlink:href=\"#glyph0-3\" x=\"214.628906\" y=\"456.480469\"/>\n",
       "  <use xlink:href=\"#glyph0-1\" x=\"221.302734\" y=\"456.480469\"/>\n",
       "  <use xlink:href=\"#glyph0-1\" x=\"227.976562\" y=\"456.480469\"/>\n",
       "  <use xlink:href=\"#glyph0-1\" x=\"234.650391\" y=\"456.480469\"/>\n",
       "</g>\n",
       "<g style=\"fill:rgb(0%,0%,0%);fill-opacity:1;\">\n",
       "  <use xlink:href=\"#glyph0-4\" x=\"291.4375\" y=\"456.480469\"/>\n",
       "  <use xlink:href=\"#glyph0-1\" x=\"298.111328\" y=\"456.480469\"/>\n",
       "  <use xlink:href=\"#glyph0-1\" x=\"304.785156\" y=\"456.480469\"/>\n",
       "  <use xlink:href=\"#glyph0-1\" x=\"311.458984\" y=\"456.480469\"/>\n",
       "</g>\n",
       "<g style=\"fill:rgb(0%,0%,0%);fill-opacity:1;\">\n",
       "  <use xlink:href=\"#glyph0-5\" x=\"368.246094\" y=\"456.480469\"/>\n",
       "  <use xlink:href=\"#glyph0-1\" x=\"374.919922\" y=\"456.480469\"/>\n",
       "  <use xlink:href=\"#glyph0-1\" x=\"381.59375\" y=\"456.480469\"/>\n",
       "  <use xlink:href=\"#glyph0-1\" x=\"388.267578\" y=\"456.480469\"/>\n",
       "</g>\n",
       "<g style=\"fill:rgb(0%,0%,0%);fill-opacity:1;\">\n",
       "  <use xlink:href=\"#glyph0-6\" x=\"441.714844\" y=\"456.480469\"/>\n",
       "  <use xlink:href=\"#glyph0-1\" x=\"448.388672\" y=\"456.480469\"/>\n",
       "  <use xlink:href=\"#glyph0-1\" x=\"455.0625\" y=\"456.480469\"/>\n",
       "  <use xlink:href=\"#glyph0-1\" x=\"461.736328\" y=\"456.480469\"/>\n",
       "  <use xlink:href=\"#glyph0-1\" x=\"468.410156\" y=\"456.480469\"/>\n",
       "</g>\n",
       "<path style=\"fill:none;stroke-width:0.75;stroke-linecap:round;stroke-linejoin:round;stroke:rgb(0%,0%,0%);stroke-opacity:1;stroke-miterlimit:10;\" d=\"M 59.039062 416.800781 L 59.039062 148.238281 \"/>\n",
       "<path style=\"fill:none;stroke-width:0.75;stroke-linecap:round;stroke-linejoin:round;stroke:rgb(0%,0%,0%);stroke-opacity:1;stroke-miterlimit:10;\" d=\"M 59.039062 416.800781 L 51.839844 416.800781 \"/>\n",
       "<path style=\"fill:none;stroke-width:0.75;stroke-linecap:round;stroke-linejoin:round;stroke:rgb(0%,0%,0%);stroke-opacity:1;stroke-miterlimit:10;\" d=\"M 59.039062 327.28125 L 51.839844 327.28125 \"/>\n",
       "<path style=\"fill:none;stroke-width:0.75;stroke-linecap:round;stroke-linejoin:round;stroke:rgb(0%,0%,0%);stroke-opacity:1;stroke-miterlimit:10;\" d=\"M 59.039062 237.757812 L 51.839844 237.757812 \"/>\n",
       "<path style=\"fill:none;stroke-width:0.75;stroke-linecap:round;stroke-linejoin:round;stroke:rgb(0%,0%,0%);stroke-opacity:1;stroke-miterlimit:10;\" d=\"M 59.039062 148.238281 L 51.839844 148.238281 \"/>\n",
       "<g style=\"fill:rgb(0%,0%,0%);fill-opacity:1;\">\n",
       "  <use xlink:href=\"#glyph1-1\" x=\"41.761719\" y=\"420.136719\"/>\n",
       "</g>\n",
       "<g style=\"fill:rgb(0%,0%,0%);fill-opacity:1;\">\n",
       "  <use xlink:href=\"#glyph1-2\" x=\"41.761719\" y=\"333.953125\"/>\n",
       "  <use xlink:href=\"#glyph1-1\" x=\"41.761719\" y=\"327.279297\"/>\n",
       "</g>\n",
       "<g style=\"fill:rgb(0%,0%,0%);fill-opacity:1;\">\n",
       "  <use xlink:href=\"#glyph1-3\" x=\"41.761719\" y=\"247.769531\"/>\n",
       "  <use xlink:href=\"#glyph1-1\" x=\"41.761719\" y=\"241.095703\"/>\n",
       "  <use xlink:href=\"#glyph1-1\" x=\"41.761719\" y=\"234.421875\"/>\n",
       "</g>\n",
       "<g style=\"fill:rgb(0%,0%,0%);fill-opacity:1;\">\n",
       "  <use xlink:href=\"#glyph1-3\" x=\"41.761719\" y=\"158.25\"/>\n",
       "  <use xlink:href=\"#glyph1-2\" x=\"41.761719\" y=\"151.576172\"/>\n",
       "  <use xlink:href=\"#glyph1-1\" x=\"41.761719\" y=\"144.902344\"/>\n",
       "</g>\n",
       "<path style=\"fill:none;stroke-width:0.75;stroke-linecap:round;stroke-linejoin:round;stroke:rgb(0%,0%,0%);stroke-opacity:1;stroke-miterlimit:10;\" d=\"M 59.039062 430.558594 L 473.761719 430.558594 L 473.761719 59.039062 L 59.039062 59.039062 L 59.039062 430.558594 \"/>\n",
       "<g style=\"fill:rgb(0%,0%,0%);fill-opacity:1;\">\n",
       "  <use xlink:href=\"#glyph0-7\" x=\"251.71875\" y=\"485.28125\"/>\n",
       "  <use xlink:href=\"#glyph0-8\" x=\"255.052734\" y=\"485.28125\"/>\n",
       "  <use xlink:href=\"#glyph0-9\" x=\"261.726562\" y=\"485.28125\"/>\n",
       "  <use xlink:href=\"#glyph0-10\" x=\"268.400391\" y=\"485.28125\"/>\n",
       "  <use xlink:href=\"#glyph0-11\" x=\"275.074219\" y=\"485.28125\"/>\n",
       "</g>\n",
       "<g style=\"fill:rgb(0%,0%,0%);fill-opacity:1;\">\n",
       "  <use xlink:href=\"#glyph1-4\" x=\"12.960938\" y=\"346.871094\"/>\n",
       "  <use xlink:href=\"#glyph1-5\" x=\"12.960938\" y=\"342.875\"/>\n",
       "  <use xlink:href=\"#glyph1-6\" x=\"12.960938\" y=\"336.201172\"/>\n",
       "  <use xlink:href=\"#glyph1-7\" x=\"12.960938\" y=\"330.201172\"/>\n",
       "  <use xlink:href=\"#glyph1-8\" x=\"12.960938\" y=\"326.867188\"/>\n",
       "  <use xlink:href=\"#glyph1-8\" x=\"12.960938\" y=\"320.193359\"/>\n",
       "  <use xlink:href=\"#glyph1-6\" x=\"12.960938\" y=\"313.519531\"/>\n",
       "  <use xlink:href=\"#glyph1-9\" x=\"12.960938\" y=\"307.519531\"/>\n",
       "  <use xlink:href=\"#glyph1-10\" x=\"12.960938\" y=\"298.853516\"/>\n",
       "  <use xlink:href=\"#glyph1-11\" x=\"12.960938\" y=\"292.179688\"/>\n",
       "  <use xlink:href=\"#glyph1-12\" x=\"12.960938\" y=\"285.505859\"/>\n",
       "  <use xlink:href=\"#glyph1-13\" x=\"12.960938\" y=\"275.509766\"/>\n",
       "  <use xlink:href=\"#glyph1-14\" x=\"12.960938\" y=\"268.835938\"/>\n",
       "  <use xlink:href=\"#glyph1-15\" x=\"12.960938\" y=\"262.162109\"/>\n",
       "  <use xlink:href=\"#glyph1-16\" x=\"12.960938\" y=\"255.488281\"/>\n",
       "  <use xlink:href=\"#glyph1-17\" x=\"12.960938\" y=\"248.814453\"/>\n",
       "  <use xlink:href=\"#glyph1-11\" x=\"12.960938\" y=\"242.140625\"/>\n",
       "  <use xlink:href=\"#glyph1-6\" x=\"12.960938\" y=\"235.466797\"/>\n",
       "  <use xlink:href=\"#glyph1-5\" x=\"12.960938\" y=\"229.466797\"/>\n",
       "  <use xlink:href=\"#glyph1-18\" x=\"12.960938\" y=\"222.792969\"/>\n",
       "  <use xlink:href=\"#glyph1-5\" x=\"12.960938\" y=\"212.796875\"/>\n",
       "  <use xlink:href=\"#glyph1-11\" x=\"12.960938\" y=\"206.123047\"/>\n",
       "  <use xlink:href=\"#glyph1-19\" x=\"12.960938\" y=\"199.449219\"/>\n",
       "  <use xlink:href=\"#glyph1-20\" x=\"12.960938\" y=\"192.775391\"/>\n",
       "  <use xlink:href=\"#glyph1-3\" x=\"12.960938\" y=\"189.441406\"/>\n",
       "  <use xlink:href=\"#glyph1-21\" x=\"12.960938\" y=\"182.767578\"/>\n",
       "  <use xlink:href=\"#glyph1-3\" x=\"12.960938\" y=\"179.433594\"/>\n",
       "  <use xlink:href=\"#glyph1-1\" x=\"12.960938\" y=\"172.759766\"/>\n",
       "  <use xlink:href=\"#glyph1-1\" x=\"12.960938\" y=\"166.085938\"/>\n",
       "  <use xlink:href=\"#glyph1-1\" x=\"12.960938\" y=\"159.412109\"/>\n",
       "  <use xlink:href=\"#glyph1-1\" x=\"12.960938\" y=\"152.738281\"/>\n",
       "  <use xlink:href=\"#glyph1-22\" x=\"12.960938\" y=\"146.064453\"/>\n",
       "</g>\n",
       "</g>\n",
       "</svg>\n"
      ],
      "text/plain": [
       "plot without title"
      ]
     },
     "metadata": {
      "image/svg+xml": {
       "isolated": true
      }
     },
     "output_type": "display_data"
    }
   ],
   "source": [
    "plot(res.ddsCLam238$baseMean[1:10000], type=\"l\")"
   ]
  },
  {
   "cell_type": "code",
   "execution_count": 43,
   "metadata": {
    "collapsed": false
   },
   "outputs": [],
   "source": [
    "write.csv(res.ddsCLam238$log2FoldChange, file=\"Log2Fold_CLam238\")\n",
    "write.csv(res.ddsCLam238$baseMean, file=\"baseMean_CLam238\")\n",
    "write.csv(res.ddsCLam238, file=\"results_CLam238\")\n"
   ]
  },
  {
   "cell_type": "code",
   "execution_count": 41,
   "metadata": {
    "collapsed": false
   },
   "outputs": [
    {
     "name": "stderr",
     "output_type": "stream",
     "text": [
      "factor levels were dropped which had no samples\n",
      "estimating size factors\n",
      "estimating dispersions\n",
      "gene-wise dispersion estimates\n",
      "mean-dispersion relationship\n",
      "final dispersion estimates\n",
      "fitting model and testing\n"
     ]
    }
   ],
   "source": [
    "datasetCLam257 <- DESeqDataSetFromMatrix(countData = damid[,colsCLam257],\n",
    "                                   colData = metadataCLam257,\n",
    "                                   design = ~Protein)\n",
    "suppressWarnings(ddsCLam257<-DESeq(datasetCLam257))\n",
    "\n",
    "res.ddsCLam257<-results(ddsCLam257)"
   ]
  },
  {
   "cell_type": "code",
   "execution_count": 44,
   "metadata": {
    "collapsed": true
   },
   "outputs": [],
   "source": [
    "#write.csv(res.ddsCLam257$log2FoldChange, file=\"Log2Fold_CLam257\")\n",
    "#write.csv(res.ddsCLam257$baseMean, file=\"baseMean_CLam257\")\n",
    "write.csv(res.ddsCLam257, file=\"results_CLam257\")\n"
   ]
  },
  {
   "cell_type": "code",
   "execution_count": 47,
   "metadata": {
    "collapsed": false
   },
   "outputs": [
    {
     "name": "stderr",
     "output_type": "stream",
     "text": [
      "factor levels were dropped which had no samples\n",
      "estimating size factors\n",
      "estimating dispersions\n",
      "gene-wise dispersion estimates\n",
      "mean-dispersion relationship\n",
      "final dispersion estimates\n",
      "fitting model and testing\n"
     ]
    },
    {
     "ename": "ERROR",
     "evalue": "Error in is.data.frame(x): object 'res.ddsCLam188' not found\n",
     "output_type": "error",
     "traceback": [
      "Error in is.data.frame(x): object 'res.ddsCLam188' not found\n"
     ]
    }
   ],
   "source": [
    "datasetCLam188 <- DESeqDataSetFromMatrix(countData = damid[,colsCLam188],\n",
    "                                   colData = metadataCLam188,\n",
    "                                   design = ~Protein)\n",
    "suppressWarnings(ddsCLam188<-DESeq(datasetCLam188))\n",
    "\n",
    "res.ddsCLam2188<-results(ddsCLam188)\n",
    "\n",
    "write.csv(res.ddsCLam188, file=\"results_CLam188\")\n",
    "\n"
   ]
  },
  {
   "cell_type": "code",
   "execution_count": null,
   "metadata": {
    "collapsed": true
   },
   "outputs": [],
   "source": []
  }
 ],
 "metadata": {
  "kernelspec": {
   "display_name": "R",
   "language": "R",
   "name": "ir"
  },
  "language_info": {
   "codemirror_mode": "r",
   "file_extension": ".r",
   "mimetype": "text/x-r-source",
   "name": "R",
   "pygments_lexer": "r",
   "version": "3.2.2"
  }
 },
 "nbformat": 4,
 "nbformat_minor": 0
}
