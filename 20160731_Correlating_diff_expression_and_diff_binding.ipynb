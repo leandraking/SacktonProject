{
 "cells": [
  {
   "cell_type": "code",
   "execution_count": 1,
   "metadata": {
    "collapsed": false
   },
   "outputs": [
    {
     "name": "stderr",
     "output_type": "stream",
     "text": [
      "//anaconda/lib/python2.7/site-packages/matplotlib/__init__.py:872: UserWarning: axes.color_cycle is deprecated and replaced with axes.prop_cycle; please use the latter.\n",
      "  warnings.warn(self.msg_depr % (key, alt_key))\n"
     ]
    }
   ],
   "source": [
    "%matplotlib inline\n",
    "\n",
    "import glob\n",
    "from string import letters\n",
    "import numpy as np\n",
    "import pandas as pd\n",
    "import seaborn as sns\n",
    "import matplotlib.pyplot as plt\n",
    "\n",
    "from scipy import signal\n",
    "from sklearn.decomposition import PCA"
   ]
  },
  {
   "cell_type": "markdown",
   "metadata": {},
   "source": [
    "The first step is to find which rows of the locations df correspond to differentially bound regions. \n",
    "\n",
    "We start by loading the locations dataset"
   ]
  },
  {
   "cell_type": "code",
   "execution_count": 2,
   "metadata": {
    "collapsed": false
   },
   "outputs": [
    {
     "data": {
      "text/html": [
       "<div>\n",
       "<table border=\"1\" class=\"dataframe\">\n",
       "  <thead>\n",
       "    <tr style=\"text-align: right;\">\n",
       "      <th></th>\n",
       "      <th>chr</th>\n",
       "      <th>start</th>\n",
       "      <th>end</th>\n",
       "      <th>chromatin_state</th>\n",
       "    </tr>\n",
       "  </thead>\n",
       "  <tbody>\n",
       "    <tr>\n",
       "      <th>0</th>\n",
       "      <td>211000022278049</td>\n",
       "      <td>390</td>\n",
       "      <td>394</td>\n",
       "      <td>NaN</td>\n",
       "    </tr>\n",
       "    <tr>\n",
       "      <th>1</th>\n",
       "      <td>211000022278049</td>\n",
       "      <td>537</td>\n",
       "      <td>541</td>\n",
       "      <td>NaN</td>\n",
       "    </tr>\n",
       "    <tr>\n",
       "      <th>2</th>\n",
       "      <td>211000022278049</td>\n",
       "      <td>573</td>\n",
       "      <td>577</td>\n",
       "      <td>NaN</td>\n",
       "    </tr>\n",
       "    <tr>\n",
       "      <th>3</th>\n",
       "      <td>211000022278049</td>\n",
       "      <td>837</td>\n",
       "      <td>841</td>\n",
       "      <td>NaN</td>\n",
       "    </tr>\n",
       "    <tr>\n",
       "      <th>4</th>\n",
       "      <td>211000022278049</td>\n",
       "      <td>1613</td>\n",
       "      <td>1617</td>\n",
       "      <td>NaN</td>\n",
       "    </tr>\n",
       "  </tbody>\n",
       "</table>\n",
       "</div>"
      ],
      "text/plain": [
       "               chr  start   end chromatin_state\n",
       "0  211000022278049    390   394             NaN\n",
       "1  211000022278049    537   541             NaN\n",
       "2  211000022278049    573   577             NaN\n",
       "3  211000022278049    837   841             NaN\n",
       "4  211000022278049   1613  1617             NaN"
      ]
     },
     "execution_count": 2,
     "metadata": {},
     "output_type": "execute_result"
    }
   ],
   "source": [
    "locations_df=pd.read_csv(\"20160804LocationsWithChromatinState\")\n",
    "locations_df.columns = [\"a\", \"chr\",\"start\",\"end\",\"chromatin_state\"]\n",
    "del locations_df[\"a\"]\n",
    "locations_df.head()"
   ]
  },
  {
   "cell_type": "markdown",
   "metadata": {},
   "source": [
    "The following dataframe of differentially expressed genes for carcass was created in 20160731_Including_heterochromatic_state.ipynb"
   ]
  },
  {
   "cell_type": "code",
   "execution_count": 4,
   "metadata": {
    "collapsed": false
   },
   "outputs": [
    {
     "data": {
      "text/html": [
       "<div>\n",
       "<table border=\"1\" class=\"dataframe\">\n",
       "  <thead>\n",
       "    <tr style=\"text-align: right;\">\n",
       "      <th></th>\n",
       "      <th>Unnamed: 0</th>\n",
       "      <th>chr</th>\n",
       "      <th>start</th>\n",
       "      <th>end</th>\n",
       "    </tr>\n",
       "  </thead>\n",
       "  <tbody>\n",
       "    <tr>\n",
       "      <th>0</th>\n",
       "      <td>0</td>\n",
       "      <td>X</td>\n",
       "      <td>245978</td>\n",
       "      <td>254650</td>\n",
       "    </tr>\n",
       "    <tr>\n",
       "      <th>1</th>\n",
       "      <td>1</td>\n",
       "      <td>X</td>\n",
       "      <td>585081</td>\n",
       "      <td>620195</td>\n",
       "    </tr>\n",
       "    <tr>\n",
       "      <th>2</th>\n",
       "      <td>2</td>\n",
       "      <td>X</td>\n",
       "      <td>946662</td>\n",
       "      <td>947500</td>\n",
       "    </tr>\n",
       "    <tr>\n",
       "      <th>3</th>\n",
       "      <td>3</td>\n",
       "      <td>X</td>\n",
       "      <td>2278031</td>\n",
       "      <td>2293411</td>\n",
       "    </tr>\n",
       "    <tr>\n",
       "      <th>4</th>\n",
       "      <td>4</td>\n",
       "      <td>X</td>\n",
       "      <td>2622069</td>\n",
       "      <td>2624575</td>\n",
       "    </tr>\n",
       "  </tbody>\n",
       "</table>\n",
       "</div>"
      ],
      "text/plain": [
       "   Unnamed: 0 chr    start      end\n",
       "0           0   X   245978   254650\n",
       "1           1   X   585081   620195\n",
       "2           2   X   946662   947500\n",
       "3           3   X  2278031  2293411\n",
       "4           4   X  2622069  2624575"
      ]
     },
     "execution_count": 4,
     "metadata": {},
     "output_type": "execute_result"
    }
   ],
   "source": [
    "diff_expression_df=pd.read_csv(\"Differentially_expressed_genes_carcass_df\")\n",
    "diff_expression_df.head()"
   ]
  },
  {
   "cell_type": "markdown",
   "metadata": {},
   "source": [
    "Now we want to find which locations are differentially expressed"
   ]
  },
  {
   "cell_type": "code",
   "execution_count": null,
   "metadata": {
    "collapsed": false
   },
   "outputs": [
    {
     "name": "stdout",
     "output_type": "stream",
     "text": [
      "0 1 "
     ]
    }
   ],
   "source": [
    "locations_df[\"contains_diff_expressed\"]=[0 for ele in locations_df['chr']]\n",
    "for i,row1 in enumerate(diff_expression_df.iterrows()):\n",
    "    print i,\n",
    "    key = str(row1[1]['chr'])     \n",
    "    subset_chrom_df=locations_df[locations_df.chr == key]\n",
    "    len_subset_chrom_df = subset_chrom_df.shape[0]\n",
    "    for j in range(len_subset_chrom_df):\n",
    "        try:\n",
    "            if float(row1[1]['end']) >= float(subset_chrom_df.loc[subset_chrom_df.index[j],'end']) and float(row1[1]['start']) <= float(subset_chrom_df.loc[subset_chrom_df.index[j],'start']) :\n",
    "                #print list(row1[1]), subset_chrom_df.index[j]\n",
    "                \n",
    "                locations_df.ix[subset_chrom_df.index[j], 'contains_diff_expressed']=str(list(row1[1]))\n",
    "                    #diff_expression_df.ix[i,'chromatin_state'] = subset_chrom_df.ix[subset_chrom_df.index[j],'chromatin']\n",
    "        except:\n",
    "            pass"
   ]
  },
  {
   "cell_type": "code",
   "execution_count": 33,
   "metadata": {
    "collapsed": false
   },
   "outputs": [
    {
     "data": {
      "text/plain": [
       "chr                                               X\n",
       "start                                        250162\n",
       "end                                          250166\n",
       "contains_diff_expressed    [0, 'X', 245978, 254650]\n",
       "Name: 310020, dtype: object"
      ]
     },
     "execution_count": 33,
     "metadata": {},
     "output_type": "execute_result"
    }
   ],
   "source": [
    "locations_df.ix[310020,]"
   ]
  },
  {
   "cell_type": "code",
   "execution_count": 7,
   "metadata": {
    "collapsed": false
   },
   "outputs": [
    {
     "data": {
      "text/html": [
       "<div>\n",
       "<table border=\"1\" class=\"dataframe\">\n",
       "  <thead>\n",
       "    <tr style=\"text-align: right;\">\n",
       "      <th></th>\n",
       "      <th>chr</th>\n",
       "      <th>start</th>\n",
       "      <th>end</th>\n",
       "      <th>contains_diff_expressed</th>\n",
       "    </tr>\n",
       "  </thead>\n",
       "  <tbody>\n",
       "    <tr>\n",
       "      <th>373894</th>\n",
       "      <td>X</td>\n",
       "      <td>22534746</td>\n",
       "      <td>22534750</td>\n",
       "      <td>[298, 'X', 22529964, 22536371]</td>\n",
       "    </tr>\n",
       "    <tr>\n",
       "      <th>373895</th>\n",
       "      <td>X</td>\n",
       "      <td>22535316</td>\n",
       "      <td>22535320</td>\n",
       "      <td>[298, 'X', 22529964, 22536371]</td>\n",
       "    </tr>\n",
       "    <tr>\n",
       "      <th>373896</th>\n",
       "      <td>X</td>\n",
       "      <td>22535972</td>\n",
       "      <td>22535976</td>\n",
       "      <td>[298, 'X', 22529964, 22536371]</td>\n",
       "    </tr>\n",
       "    <tr>\n",
       "      <th>373897</th>\n",
       "      <td>X</td>\n",
       "      <td>22536070</td>\n",
       "      <td>22536074</td>\n",
       "      <td>[298, 'X', 22529964, 22536371]</td>\n",
       "    </tr>\n",
       "    <tr>\n",
       "      <th>373898</th>\n",
       "      <td>X</td>\n",
       "      <td>22536273</td>\n",
       "      <td>22536277</td>\n",
       "      <td>[298, 'X', 22529964, 22536371]</td>\n",
       "    </tr>\n",
       "  </tbody>\n",
       "</table>\n",
       "</div>"
      ],
      "text/plain": [
       "       chr     start       end         contains_diff_expressed\n",
       "373894   X  22534746  22534750  [298, 'X', 22529964, 22536371]\n",
       "373895   X  22535316  22535320  [298, 'X', 22529964, 22536371]\n",
       "373896   X  22535972  22535976  [298, 'X', 22529964, 22536371]\n",
       "373897   X  22536070  22536074  [298, 'X', 22529964, 22536371]\n",
       "373898   X  22536273  22536277  [298, 'X', 22529964, 22536371]"
      ]
     },
     "execution_count": 7,
     "metadata": {},
     "output_type": "execute_result"
    }
   ],
   "source": [
    "locations_df[locations_df.contains_diff_expressed!=0].tail()"
   ]
  },
  {
   "cell_type": "code",
   "execution_count": 8,
   "metadata": {
    "collapsed": true
   },
   "outputs": [],
   "source": [
    "#locations_df.to_csv(\"locations_df_with_diff_expressed\", sep=\";\")"
   ]
  },
  {
   "cell_type": "code",
   "execution_count": 4,
   "metadata": {
    "collapsed": true
   },
   "outputs": [],
   "source": [
    "locations_df=pd.read_csv(\"locations_df_with_diff_expressed\",sep=';')"
   ]
  },
  {
   "cell_type": "code",
   "execution_count": 5,
   "metadata": {
    "collapsed": false
   },
   "outputs": [
    {
     "data": {
      "text/html": [
       "<div>\n",
       "<table border=\"1\" class=\"dataframe\">\n",
       "  <thead>\n",
       "    <tr style=\"text-align: right;\">\n",
       "      <th></th>\n",
       "      <th>Unnamed: 0</th>\n",
       "      <th>chr</th>\n",
       "      <th>start</th>\n",
       "      <th>end</th>\n",
       "      <th>contains_diff_expressed</th>\n",
       "    </tr>\n",
       "  </thead>\n",
       "  <tbody>\n",
       "    <tr>\n",
       "      <th>0</th>\n",
       "      <td>0</td>\n",
       "      <td>211000022278049</td>\n",
       "      <td>390</td>\n",
       "      <td>394</td>\n",
       "      <td>0</td>\n",
       "    </tr>\n",
       "    <tr>\n",
       "      <th>1</th>\n",
       "      <td>1</td>\n",
       "      <td>211000022278049</td>\n",
       "      <td>537</td>\n",
       "      <td>541</td>\n",
       "      <td>0</td>\n",
       "    </tr>\n",
       "    <tr>\n",
       "      <th>2</th>\n",
       "      <td>2</td>\n",
       "      <td>211000022278049</td>\n",
       "      <td>573</td>\n",
       "      <td>577</td>\n",
       "      <td>0</td>\n",
       "    </tr>\n",
       "    <tr>\n",
       "      <th>3</th>\n",
       "      <td>3</td>\n",
       "      <td>211000022278049</td>\n",
       "      <td>837</td>\n",
       "      <td>841</td>\n",
       "      <td>0</td>\n",
       "    </tr>\n",
       "    <tr>\n",
       "      <th>4</th>\n",
       "      <td>4</td>\n",
       "      <td>211000022278049</td>\n",
       "      <td>1613</td>\n",
       "      <td>1617</td>\n",
       "      <td>0</td>\n",
       "    </tr>\n",
       "  </tbody>\n",
       "</table>\n",
       "</div>"
      ],
      "text/plain": [
       "   Unnamed: 0              chr  start   end contains_diff_expressed\n",
       "0           0  211000022278049    390   394                       0\n",
       "1           1  211000022278049    537   541                       0\n",
       "2           2  211000022278049    573   577                       0\n",
       "3           3  211000022278049    837   841                       0\n",
       "4           4  211000022278049   1613  1617                       0"
      ]
     },
     "execution_count": 5,
     "metadata": {},
     "output_type": "execute_result"
    }
   ],
   "source": [
    "locations_df.head()\n",
    "len(locations_df)"
   ]
  },
  {
   "cell_type": "code",
   "execution_count": 13,
   "metadata": {
    "collapsed": false
   },
   "outputs": [
    {
     "data": {
      "text/html": [
       "<div>\n",
       "<table border=\"1\" class=\"dataframe\">\n",
       "  <thead>\n",
       "    <tr style=\"text-align: right;\">\n",
       "      <th></th>\n",
       "      <th>Unnamed: 0</th>\n",
       "      <th>start</th>\n",
       "      <th>end</th>\n",
       "      <th>contains_diff_expressed</th>\n",
       "    </tr>\n",
       "    <tr>\n",
       "      <th>chr</th>\n",
       "      <th></th>\n",
       "      <th></th>\n",
       "      <th></th>\n",
       "      <th></th>\n",
       "    </tr>\n",
       "  </thead>\n",
       "  <tbody>\n",
       "    <tr>\n",
       "      <th>2L</th>\n",
       "      <td>2016</td>\n",
       "      <td>2016</td>\n",
       "      <td>2016</td>\n",
       "      <td>2016</td>\n",
       "    </tr>\n",
       "    <tr>\n",
       "      <th>2R</th>\n",
       "      <td>2437</td>\n",
       "      <td>2437</td>\n",
       "      <td>2437</td>\n",
       "      <td>2437</td>\n",
       "    </tr>\n",
       "    <tr>\n",
       "      <th>3L</th>\n",
       "      <td>3404</td>\n",
       "      <td>3404</td>\n",
       "      <td>3404</td>\n",
       "      <td>3404</td>\n",
       "    </tr>\n",
       "    <tr>\n",
       "      <th>3R</th>\n",
       "      <td>2572</td>\n",
       "      <td>2572</td>\n",
       "      <td>2572</td>\n",
       "      <td>2572</td>\n",
       "    </tr>\n",
       "    <tr>\n",
       "      <th>4</th>\n",
       "      <td>63</td>\n",
       "      <td>63</td>\n",
       "      <td>63</td>\n",
       "      <td>63</td>\n",
       "    </tr>\n",
       "    <tr>\n",
       "      <th>X</th>\n",
       "      <td>3128</td>\n",
       "      <td>3128</td>\n",
       "      <td>3128</td>\n",
       "      <td>3128</td>\n",
       "    </tr>\n",
       "  </tbody>\n",
       "</table>\n",
       "</div>"
      ],
      "text/plain": [
       "     Unnamed: 0  start   end  contains_diff_expressed\n",
       "chr                                                  \n",
       "2L         2016   2016  2016                     2016\n",
       "2R         2437   2437  2437                     2437\n",
       "3L         3404   3404  3404                     3404\n",
       "3R         2572   2572  2572                     2572\n",
       "4            63     63    63                       63\n",
       "X          3128   3128  3128                     3128"
      ]
     },
     "execution_count": 13,
     "metadata": {},
     "output_type": "execute_result"
    }
   ],
   "source": [
    "locations_df[locations_df.contains_diff_expressed!='0'].groupby(\"chr\").count()"
   ]
  },
  {
   "cell_type": "markdown",
   "metadata": {},
   "source": [
    "Restricting locations to avoid various scaffolding chromos"
   ]
  },
  {
   "cell_type": "code",
   "execution_count": 14,
   "metadata": {
    "collapsed": true
   },
   "outputs": [],
   "source": [
    "locations_df_restricted=locations_df[locations_df[\"chr\"].isin([\"X\", \"2L\",\"2R\",\"3L\",\"3R\",\"4\"])]"
   ]
  },
  {
   "cell_type": "markdown",
   "metadata": {},
   "source": [
    "Now we want to find which locations are differentially bound"
   ]
  },
  {
   "cell_type": "code",
   "execution_count": 6,
   "metadata": {
    "collapsed": false
   },
   "outputs": [
    {
     "data": {
      "text/html": [
       "<div>\n",
       "<table border=\"1\" class=\"dataframe\">\n",
       "  <thead>\n",
       "    <tr style=\"text-align: right;\">\n",
       "      <th></th>\n",
       "      <th>C_D1</th>\n",
       "      <th>C_Lam</th>\n",
       "      <th>T_D1</th>\n",
       "      <th>T_Lam</th>\n",
       "      <th>W_D1</th>\n",
       "      <th>W_Lam</th>\n",
       "    </tr>\n",
       "  </thead>\n",
       "  <tbody>\n",
       "    <tr>\n",
       "      <th>0</th>\n",
       "      <td>NaN</td>\n",
       "      <td>NaN</td>\n",
       "      <td>NaN</td>\n",
       "      <td>NaN</td>\n",
       "      <td>NaN</td>\n",
       "      <td>NaN</td>\n",
       "    </tr>\n",
       "    <tr>\n",
       "      <th>1</th>\n",
       "      <td>NaN</td>\n",
       "      <td>NaN</td>\n",
       "      <td>NaN</td>\n",
       "      <td>NaN</td>\n",
       "      <td>NaN</td>\n",
       "      <td>NaN</td>\n",
       "    </tr>\n",
       "    <tr>\n",
       "      <th>2</th>\n",
       "      <td>NaN</td>\n",
       "      <td>NaN</td>\n",
       "      <td>NaN</td>\n",
       "      <td>NaN</td>\n",
       "      <td>NaN</td>\n",
       "      <td>NaN</td>\n",
       "    </tr>\n",
       "    <tr>\n",
       "      <th>3</th>\n",
       "      <td>NaN</td>\n",
       "      <td>NaN</td>\n",
       "      <td>NaN</td>\n",
       "      <td>NaN</td>\n",
       "      <td>NaN</td>\n",
       "      <td>NaN</td>\n",
       "    </tr>\n",
       "    <tr>\n",
       "      <th>4</th>\n",
       "      <td>NaN</td>\n",
       "      <td>NaN</td>\n",
       "      <td>NaN</td>\n",
       "      <td>NaN</td>\n",
       "      <td>NaN</td>\n",
       "      <td>NaN</td>\n",
       "    </tr>\n",
       "  </tbody>\n",
       "</table>\n",
       "</div>"
      ],
      "text/plain": [
       "   C_D1  C_Lam  T_D1  T_Lam  W_D1  W_Lam\n",
       "0   NaN    NaN   NaN    NaN   NaN    NaN\n",
       "1   NaN    NaN   NaN    NaN   NaN    NaN\n",
       "2   NaN    NaN   NaN    NaN   NaN    NaN\n",
       "3   NaN    NaN   NaN    NaN   NaN    NaN\n",
       "4   NaN    NaN   NaN    NaN   NaN    NaN"
      ]
     },
     "execution_count": 6,
     "metadata": {},
     "output_type": "execute_result"
    }
   ],
   "source": [
    "lpadj=[]\n",
    "lpval=[]\n",
    "for f1 in glob.glob(\"nbin*\"):\n",
    "    df_padj = pd.read_csv(f1).padj\n",
    "    df_pval = pd.read_csv(f1).pvalue\n",
    "    lpadj.append(df_padj)\n",
    "    lpval.append(df_pval)\n",
    "pval = pd.concat(lpval, axis = 1)\n",
    "padj = pd.concat(lpadj, axis = 1)\n",
    "\n",
    "pval.columns= map(lambda x: x[25:], glob.glob(\"nbin*\"))\n",
    "pval.head()\n",
    "\n",
    "padj.columns= map(lambda x: x[25:], glob.glob(\"nbin*\"))\n",
    "padj.head()"
   ]
  },
  {
   "cell_type": "code",
   "execution_count": 11,
   "metadata": {
    "collapsed": false
   },
   "outputs": [
    {
     "data": {
      "text/plain": [
       "388464"
      ]
     },
     "execution_count": 11,
     "metadata": {},
     "output_type": "execute_result"
    }
   ],
   "source": [
    "len(pval)"
   ]
  },
  {
   "cell_type": "code",
   "execution_count": 17,
   "metadata": {
    "collapsed": false
   },
   "outputs": [
    {
     "data": {
      "text/plain": [
       "373635"
      ]
     },
     "execution_count": 17,
     "metadata": {},
     "output_type": "execute_result"
    }
   ],
   "source": [
    "pval_restricted=pval[locations_df[\"chr\"].isin([\"X\", \"2L\",\"2R\",\"3L\",\"3R\",\"4\"])]\n",
    "padj_restricted=padj[locations_df[\"chr\"].isin([\"X\", \"2L\",\"2R\",\"3L\",\"3R\",\"4\"])]\n",
    "len(pval_restricted)                                   "
   ]
  },
  {
   "cell_type": "code",
   "execution_count": 24,
   "metadata": {
    "collapsed": false
   },
   "outputs": [
    {
     "name": "stdout",
     "output_type": "stream",
     "text": [
      "Mean adjusted p-vals for differential binding conditioning on non diff expressed gene locations\n",
      "C_D1     0.596065\n",
      "C_Lam    0.407058\n",
      "T_D1     0.381600\n",
      "T_Lam    0.493401\n",
      "W_D1     0.985435\n",
      "W_Lam    0.936127\n",
      "dtype: float64\n",
      "conditioning on diff expressed gene locations\n",
      "C_D1     0.610274\n",
      "C_Lam    0.386429\n",
      "T_D1     0.416556\n",
      "T_Lam    0.490505\n",
      "W_D1     0.986447\n",
      "W_Lam    0.946208\n",
      "dtype: float64\n"
     ]
    }
   ],
   "source": [
    "print \"Mean adjusted p-vals for differential binding conditioning on non diff expressed gene locations\"\n",
    "print padj_restricted[locations_df_restricted.contains_diff_expressed=='0'].mean()\n",
    "print \"conditioning on diff expressed gene locations\"\n",
    "print padj_restricted[locations_df_restricted.contains_diff_expressed!='0'].mean()"
   ]
  },
  {
   "cell_type": "code",
   "execution_count": 23,
   "metadata": {
    "collapsed": false
   },
   "outputs": [
    {
     "name": "stdout",
     "output_type": "stream",
     "text": [
      "Mean p-vals for differential binding conditioning on non diff expressed gene locations\n",
      "C_D1     0.509445\n",
      "C_Lam    0.341489\n",
      "T_D1     0.599716\n",
      "T_Lam    0.436740\n",
      "W_D1     0.544637\n",
      "W_Lam    0.547987\n",
      "dtype: float64\n",
      "conditioning on diff expressed gene locations\n",
      "C_D1     0.490584\n",
      "C_Lam    0.299476\n",
      "T_D1     0.573320\n",
      "T_Lam    0.409605\n",
      "W_D1     0.544514\n",
      "W_Lam    0.550403\n",
      "dtype: float64\n"
     ]
    }
   ],
   "source": [
    "print \"Mean p-vals for differential binding conditioning on non diff expressed gene locations\"\n",
    "print pval_restricted[locations_df_restricted.contains_diff_expressed=='0'].mean()\n",
    "print \"conditioning on diff expressed gene locations\"\n",
    "print pval_restricted[locations_df_restricted.contains_diff_expressed!='0'].mean()"
   ]
  },
  {
   "cell_type": "code",
   "execution_count": 22,
   "metadata": {
    "collapsed": false
   },
   "outputs": [
    {
     "name": "stdout",
     "output_type": "stream",
     "text": [
      "plots of the p-vals (testing differential binding in different protein by tissue combos)\n"
     ]
    },
    {
     "data": {
      "image/png": "[encoded data removed]",
      "text/plain": [
       "<matplotlib.figure.Figure at 0x109c14cd0>"
      ]
     },
     "metadata": {},
     "output_type": "display_data"
    },
    {
     "name": "stdout",
     "output_type": "stream",
     "text": [
      "plots of the p-adj (testing differential binding in different protein by tissue combos)\n"
     ]
    },
    {
     "data": {
      "image/png": "[encoded data removed]",
      "text/plain": [
       "<matplotlib.figure.Figure at 0x123e0cc50>"
      ]
     },
     "metadata": {},
     "output_type": "display_data"
    }
   ],
   "source": [
    "print \"plots of the p-vals (testing differential binding in different protein by tissue combos)\"\n",
    "_=pval_restricted.hist()\n",
    "plt.show()\n",
    "print \"plots of the p-adj (testing differential binding in different protein by tissue combos)\"\n",
    "_=padj_restricted.hist()"
   ]
  },
  {
   "cell_type": "markdown",
   "metadata": {},
   "source": [
    "The hist of the p-adj look very different from the plots of the pvals.  Tim: which should I be looking at?"
   ]
  },
  {
   "cell_type": "code",
   "execution_count": 26,
   "metadata": {
    "collapsed": false
   },
   "outputs": [
    {
     "name": "stdout",
     "output_type": "stream",
     "text": [
      "p-adj (testing differential binding in different protein by tissue combos) for non diff expressed genes\n"
     ]
    },
    {
     "data": {
      "image/png": "[encoded data removed]",
      "text/plain": [
       "<matplotlib.figure.Figure at 0x129cf15d0>"
      ]
     },
     "metadata": {},
     "output_type": "display_data"
    },
    {
     "name": "stdout",
     "output_type": "stream",
     "text": [
      "p-adj (testing differential binding in different protein by tissue combos) for diff expressed genes\n"
     ]
    },
    {
     "data": {
      "image/png": "[encoded data removed]",
      "text/plain": [
       "<matplotlib.figure.Figure at 0x123c8ad90>"
      ]
     },
     "metadata": {},
     "output_type": "display_data"
    }
   ],
   "source": [
    "print \"p-adj (testing differential binding in different protein by tissue combos) for non diff expressed genes\"\n",
    "_=padj_restricted[locations_df_restricted.contains_diff_expressed=='0'].hist()\n",
    "plt.show()\n",
    "print \"p-adj (testing differential binding in different protein by tissue combos) for diff expressed genes\"\n",
    "_=padj_restricted[locations_df_restricted.contains_diff_expressed!='0'].hist()\n"
   ]
  },
  {
   "cell_type": "markdown",
   "metadata": {},
   "source": [
    "you can't really see a difference between the shapes of these distributions"
   ]
  },
  {
   "cell_type": "code",
   "execution_count": 28,
   "metadata": {
    "collapsed": false
   },
   "outputs": [
    {
     "name": "stdout",
     "output_type": "stream",
     "text": [
      "p-val (testing differential binding in different protein by tissue combos) for non diff expressed genes\n"
     ]
    },
    {
     "data": {
      "image/png": "[encoded data removed]",
      "text/plain": [
       "<matplotlib.figure.Figure at 0x12b696110>"
      ]
     },
     "metadata": {},
     "output_type": "display_data"
    },
    {
     "name": "stdout",
     "output_type": "stream",
     "text": [
      "p-val (testing differential binding in different protein by tissue combos) for diff expressed genes\n"
     ]
    },
    {
     "data": {
      "image/png": "[encoded data removed]",
      "text/plain": [
       "<matplotlib.figure.Figure at 0x12ab456d0>"
      ]
     },
     "metadata": {},
     "output_type": "display_data"
    }
   ],
   "source": [
    "print \"p-val (testing differential binding in different protein by tissue combos) for non diff expressed genes\"\n",
    "_=pval_restricted[locations_df_restricted.contains_diff_expressed=='0'].hist()\n",
    "plt.show()\n",
    "print \"p-val (testing differential binding in different protein by tissue combos) for diff expressed genes\"\n",
    "_=pval_restricted[locations_df_restricted.contains_diff_expressed!='0'].hist()\n",
    "\n"
   ]
  },
  {
   "cell_type": "markdown",
   "metadata": {},
   "source": [
    "shapes are pretty consistent.  We're going to run a 2-sample Kolmogorov-Smirnov test though to test whether they are actually different (mean p-values look lower for the significant binding, which is what we would expect)."
   ]
  },
  {
   "cell_type": "code",
   "execution_count": 30,
   "metadata": {
    "collapsed": false
   },
   "outputs": [
    {
     "name": "stdout",
     "output_type": "stream",
     "text": [
      "tissue_protein, not diff expressed mean diff binding p-val, diff expressed mean diff binding p-val\n",
      "C_D1 0.509444529537 0.490583554236\n",
      "Larger p-val for diff expressed? False\n",
      "Ks_2sampResult(statistic=0.03001952745361014, pvalue=1.016061203738003e-10)\n",
      "C_Lam 0.341488764429 0.299476024508\n",
      "Larger p-val for diff expressed? False\n",
      "Ks_2sampResult(statistic=0.069123992080359298, pvalue=5.2526274971516148e-55)\n",
      "T_D1 0.599716162993 0.573319928554\n",
      "Larger p-val for diff expressed? False\n",
      "Ks_2sampResult(statistic=0.040387352925395192, pvalue=4.6611981349547103e-19)\n",
      "T_Lam 0.436740128113 0.409604729781\n",
      "Larger p-val for diff expressed? False\n",
      "Ks_2sampResult(statistic=0.046379048327709782, pvalue=5.369331217454405e-25)\n",
      "W_D1 0.544637058793 0.54451354959\n",
      "Larger p-val for diff expressed? False\n",
      "Ks_2sampResult(statistic=0.0072042978385445378, pvalue=0.50219235211644964)\n",
      "W_Lam 0.547986807346 0.550403251711\n",
      "Larger p-val for diff expressed? True\n",
      "Ks_2sampResult(statistic=0.012166324934698936, pvalue=0.040756452959817856)\n"
     ]
    }
   ],
   "source": [
    "import scipy.stats\n",
    "print \"tissue_protein, not diff expressed mean diff binding p-val, diff expressed mean diff binding p-val\"\n",
    "for col in pval.columns:\n",
    "    print col, pval_restricted[locations_df_restricted.contains_diff_expressed=='0'][col].mean(), pval_restricted[locations_df_restricted.contains_diff_expressed!='0'][col].mean()\n",
    "    print \"Larger p-val for diff expressed?\", pval_restricted[locations_df_restricted.contains_diff_expressed=='0'][col].mean() < pval_restricted[locations_df_restricted.contains_diff_expressed!='0'][col].mean()\n",
    "    print scipy.stats.ks_2samp(pval_restricted[locations_df_restricted.contains_diff_expressed=='0'][col], pval_restricted[locations_df_restricted.contains_diff_expressed!='0'][col])"
   ]
  },
  {
   "cell_type": "code",
   "execution_count": 31,
   "metadata": {
    "collapsed": false
   },
   "outputs": [
    {
     "name": "stdout",
     "output_type": "stream",
     "text": [
      "C_D1 0.596065180058 0.610274157102\n",
      "Larger p-val for diff expressed? True\n",
      "Ks_2sampResult(statistic=0.052326080882214826, pvalue=1.0582175140088814e-31)\n",
      "C_Lam 0.407058137543 0.386429452048\n",
      "Larger p-val for diff expressed? False\n",
      "Ks_2sampResult(statistic=0.12168098600394839, pvalue=1.4747992967610224e-169)\n",
      "T_D1 0.381599511679 0.416555969511\n",
      "Larger p-val for diff expressed? True\n",
      "Ks_2sampResult(statistic=0.020815456722587611, pvalue=2.247113259694364e-05)\n",
      "T_Lam 0.493401218217 0.490504942035\n",
      "Larger p-val for diff expressed? False\n",
      "Ks_2sampResult(statistic=0.05302011094618489, pvalue=1.5466730252145288e-32)\n",
      "W_D1 0.985435204619 0.986447351386\n",
      "Larger p-val for diff expressed? True\n",
      "Ks_2sampResult(statistic=0.072029087016136917, pvalue=1.0869656872474462e-59)\n",
      "W_Lam 0.936126934545 0.946208175356\n",
      "Larger p-val for diff expressed? True\n",
      "Ks_2sampResult(statistic=0.024636990468030542, pvalue=2.3306001249824555e-07)\n"
     ]
    }
   ],
   "source": [
    "for col in padj.columns:\n",
    "    print col, \n",
    "    print padj_restricted[locations_df.contains_diff_expressed=='0'][col].mean(), padj_restricted[locations_df.contains_diff_expressed!='0'][col].mean()\n",
    "    print \"Larger p-val for diff expressed?\", padj_restricted[locations_df.contains_diff_expressed=='0'][col].mean() < padj_restricted[locations_df.contains_diff_expressed!='0'][col].mean()\n",
    "    print scipy.stats.ks_2samp(padj_restricted[locations_df.contains_diff_expressed=='0'][col], padj_restricted[locations_df.contains_diff_expressed!='0'][col])"
   ]
  },
  {
   "cell_type": "markdown",
   "metadata": {},
   "source": [
    "The p-val results are consistent with what we would expect.  the adjusted p-val results are not"
   ]
  },
  {
   "cell_type": "code",
   "execution_count": 26,
   "metadata": {
    "collapsed": false
   },
   "outputs": [
    {
     "data": {
      "text/html": [
       "<div>\n",
       "<table border=\"1\" class=\"dataframe\">\n",
       "  <thead>\n",
       "    <tr style=\"text-align: right;\">\n",
       "      <th></th>\n",
       "      <th>chr</th>\n",
       "      <th>start</th>\n",
       "      <th>end</th>\n",
       "      <th>contains_diff_expressed</th>\n",
       "    </tr>\n",
       "  </thead>\n",
       "  <tbody>\n",
       "    <tr>\n",
       "      <th>373889</th>\n",
       "      <td>X</td>\n",
       "      <td>22533068</td>\n",
       "      <td>22533072</td>\n",
       "      <td>[298, 'X', 22529964, 22536371]</td>\n",
       "    </tr>\n",
       "    <tr>\n",
       "      <th>373890</th>\n",
       "      <td>X</td>\n",
       "      <td>22533108</td>\n",
       "      <td>22533112</td>\n",
       "      <td>[298, 'X', 22529964, 22536371]</td>\n",
       "    </tr>\n",
       "    <tr>\n",
       "      <th>373891</th>\n",
       "      <td>X</td>\n",
       "      <td>22533257</td>\n",
       "      <td>22533261</td>\n",
       "      <td>[298, 'X', 22529964, 22536371]</td>\n",
       "    </tr>\n",
       "    <tr>\n",
       "      <th>373892</th>\n",
       "      <td>X</td>\n",
       "      <td>22533415</td>\n",
       "      <td>22533419</td>\n",
       "      <td>[298, 'X', 22529964, 22536371]</td>\n",
       "    </tr>\n",
       "    <tr>\n",
       "      <th>373893</th>\n",
       "      <td>X</td>\n",
       "      <td>22533864</td>\n",
       "      <td>22533868</td>\n",
       "      <td>[298, 'X', 22529964, 22536371]</td>\n",
       "    </tr>\n",
       "    <tr>\n",
       "      <th>373894</th>\n",
       "      <td>X</td>\n",
       "      <td>22534746</td>\n",
       "      <td>22534750</td>\n",
       "      <td>[298, 'X', 22529964, 22536371]</td>\n",
       "    </tr>\n",
       "    <tr>\n",
       "      <th>373895</th>\n",
       "      <td>X</td>\n",
       "      <td>22535316</td>\n",
       "      <td>22535320</td>\n",
       "      <td>[298, 'X', 22529964, 22536371]</td>\n",
       "    </tr>\n",
       "    <tr>\n",
       "      <th>373896</th>\n",
       "      <td>X</td>\n",
       "      <td>22535972</td>\n",
       "      <td>22535976</td>\n",
       "      <td>[298, 'X', 22529964, 22536371]</td>\n",
       "    </tr>\n",
       "    <tr>\n",
       "      <th>373897</th>\n",
       "      <td>X</td>\n",
       "      <td>22536070</td>\n",
       "      <td>22536074</td>\n",
       "      <td>[298, 'X', 22529964, 22536371]</td>\n",
       "    </tr>\n",
       "    <tr>\n",
       "      <th>373898</th>\n",
       "      <td>X</td>\n",
       "      <td>22536273</td>\n",
       "      <td>22536277</td>\n",
       "      <td>[298, 'X', 22529964, 22536371]</td>\n",
       "    </tr>\n",
       "  </tbody>\n",
       "</table>\n",
       "</div>"
      ],
      "text/plain": [
       "       chr     start       end         contains_diff_expressed\n",
       "373889   X  22533068  22533072  [298, 'X', 22529964, 22536371]\n",
       "373890   X  22533108  22533112  [298, 'X', 22529964, 22536371]\n",
       "373891   X  22533257  22533261  [298, 'X', 22529964, 22536371]\n",
       "373892   X  22533415  22533419  [298, 'X', 22529964, 22536371]\n",
       "373893   X  22533864  22533868  [298, 'X', 22529964, 22536371]\n",
       "373894   X  22534746  22534750  [298, 'X', 22529964, 22536371]\n",
       "373895   X  22535316  22535320  [298, 'X', 22529964, 22536371]\n",
       "373896   X  22535972  22535976  [298, 'X', 22529964, 22536371]\n",
       "373897   X  22536070  22536074  [298, 'X', 22529964, 22536371]\n",
       "373898   X  22536273  22536277  [298, 'X', 22529964, 22536371]"
      ]
     },
     "execution_count": 26,
     "metadata": {},
     "output_type": "execute_result"
    }
   ],
   "source": [
    "locations_df[locations_df.contains_diff_expressed!=0].tail(n=10)"
   ]
  },
  {
   "cell_type": "markdown",
   "metadata": {
    "collapsed": true
   },
   "source": [
    "The KS test tells us that the distribution of the bindings in the populations (conditioning on whether or not region contains differentially expressed genes) is different.  This means that location and shape are different, but we don't actually care about shape.  So we're going to do a Mann-Whitney test, to test whether or not just the location is different."
   ]
  },
  {
   "cell_type": "code",
   "execution_count": 39,
   "metadata": {
    "collapsed": false
   },
   "outputs": [
    {
     "name": "stdout",
     "output_type": "stream",
     "text": [
      "P-Adj\n",
      "\n",
      "C_D1 0.596065180058 0.610274157102\n",
      "Larger p-val for diff expressed? True\n",
      "Ks_2sampResult(statistic=0.052326080882214826, pvalue=1.0582175140088814e-31)\n",
      "MannwhitneyuResult(statistic=1569632299.5, pvalue=0.0)\n",
      "\n",
      "C_Lam 0.407058137543 0.386429452048\n",
      "Larger p-val for diff expressed? False\n",
      "Ks_2sampResult(statistic=0.12168098600394839, pvalue=1.4747992967610224e-169)\n",
      "MannwhitneyuResult(statistic=2034017993.0, pvalue=8.6738146785913039e-251)\n",
      "\n",
      "T_D1 0.381599511679 0.416555969511\n",
      "Larger p-val for diff expressed? True\n",
      "Ks_2sampResult(statistic=0.020815456722587611, pvalue=2.247113259694364e-05)\n",
      "MannwhitneyuResult(statistic=1575247142.5, pvalue=0.0)\n",
      "\n",
      "T_Lam 0.493401218217 0.490504942035\n",
      "Larger p-val for diff expressed? False\n",
      "Ks_2sampResult(statistic=0.05302011094618489, pvalue=1.5466730252145288e-32)\n",
      "MannwhitneyuResult(statistic=1236009705.0, pvalue=0.0)\n",
      "\n",
      "W_D1 0.985435204619 0.986447351386\n",
      "Larger p-val for diff expressed? True\n",
      "Ks_2sampResult(statistic=0.072029087016136917, pvalue=1.0869656872474462e-59)\n",
      "MannwhitneyuResult(statistic=1463439182.5, pvalue=0.0)\n",
      "\n",
      "W_Lam 0.936126934545 0.946208175356\n",
      "Larger p-val for diff expressed? True\n",
      "Ks_2sampResult(statistic=0.024636990468030542, pvalue=2.3306001249824555e-07)\n",
      "MannwhitneyuResult(statistic=1584055400.0, pvalue=0.0)\n",
      "\n"
     ]
    }
   ],
   "source": [
    "print \"P-Adj\"\n",
    "print\n",
    "for col in padj_restricted.columns:\n",
    "    print col, \n",
    "    print padj_restricted[locations_df.contains_diff_expressed=='0'][col].mean(), padj_restricted[locations_df.contains_diff_expressed!='0'][col].mean()\n",
    "    print \"Larger p-val for diff expressed?\", padj_restricted[locations_df.contains_diff_expressed=='0'][col].mean() < padj_restricted[locations_df.contains_diff_expressed!='0'][col].mean()\n",
    "    print scipy.stats.ks_2samp(padj_restricted[locations_df.contains_diff_expressed=='0'][col], padj_restricted[locations_df.contains_diff_expressed!='0'][col])\n",
    "    print scipy.stats.mannwhitneyu(padj_restricted[locations_df.contains_diff_expressed=='0'][col], padj_restricted[locations_df.contains_diff_expressed!='0'][col], use_continuity=True,)\n",
    "    print "
   ]
  },
  {
   "cell_type": "code",
   "execution_count": 40,
   "metadata": {
    "collapsed": false
   },
   "outputs": [
    {
     "name": "stdout",
     "output_type": "stream",
     "text": [
      "Pval\n",
      "\n",
      "C_D1 0.509444529537 0.490583554236\n",
      "Larger p-val for diff expressed? False\n",
      "Ks_2sampResult(statistic=0.03001952745361014, pvalue=1.016061203738003e-10)\n",
      "MannwhitneyuResult(statistic=2358751954.0, pvalue=2.6849640515284523e-14)\n",
      "\n",
      "C_Lam 0.341488764429 0.299476024508\n",
      "Larger p-val for diff expressed? False\n",
      "Ks_2sampResult(statistic=0.069123992080359298, pvalue=5.2526274971516148e-55)\n",
      "MannwhitneyuResult(statistic=2234225095.5, pvalue=1.2156960697723128e-69)\n",
      "\n",
      "T_D1 0.599716162993 0.573319928554\n",
      "Larger p-val for diff expressed? False\n",
      "Ks_2sampResult(statistic=0.040387352925395192, pvalue=4.6611981349547103e-19)\n",
      "MannwhitneyuResult(statistic=2323787090.5, pvalue=2.0416161370001593e-25)\n",
      "\n",
      "T_Lam 0.436740128113 0.409604729781\n",
      "Larger p-val for diff expressed? False\n",
      "Ks_2sampResult(statistic=0.046379048327709782, pvalue=5.369331217454405e-25)\n",
      "MannwhitneyuResult(statistic=2312900429.5, pvalue=1.3971331308569726e-29)\n",
      "\n",
      "W_D1 0.544637058793 0.54451354959\n",
      "Larger p-val for diff expressed? False\n",
      "Ks_2sampResult(statistic=0.0072042978385445378, pvalue=0.50219235211644964)\n",
      "MannwhitneyuResult(statistic=2450687703.5, pvalue=0.46728335670557608)\n",
      "\n",
      "W_Lam 0.547986807346 0.550403251711\n",
      "Larger p-val for diff expressed? True\n",
      "Ks_2sampResult(statistic=0.012166324934698936, pvalue=0.040756452959817856)\n",
      "MannwhitneyuResult(statistic=2438589895.0, pvalue=0.14430087367038685)\n",
      "\n"
     ]
    }
   ],
   "source": [
    "print \"Pval\"\n",
    "print\n",
    "for col in pval_restricted.columns:\n",
    "    print col, \n",
    "    print pval_restricted[locations_df.contains_diff_expressed=='0'][col].mean(), pval_restricted[locations_df.contains_diff_expressed!='0'][col].mean()\n",
    "    print \"Larger p-val for diff expressed?\", pval_restricted[locations_df.contains_diff_expressed=='0'][col].mean() < pval_restricted[locations_df.contains_diff_expressed!='0'][col].mean()\n",
    "    print scipy.stats.ks_2samp(pval_restricted[locations_df.contains_diff_expressed=='0'][col], pval_restricted[locations_df.contains_diff_expressed!='0'][col])\n",
    "    print scipy.stats.mannwhitneyu(pval_restricted[locations_df.contains_diff_expressed=='0'][col], pval_restricted[locations_df.contains_diff_expressed!='0'][col], use_continuity=True,)\n",
    "    print "
   ]
  },
  {
   "cell_type": "markdown",
   "metadata": {},
   "source": [
    "MannWhitney tests behave about as you would expect for pval (not really for p-adj)"
   ]
  },
  {
   "cell_type": "markdown",
   "metadata": {},
   "source": [
    "## Things to do "
   ]
  },
  {
   "cell_type": "markdown",
   "metadata": {},
   "source": [
    "Look at some measure of effect size.  Instead of treating differential expression as binary expressed and not expressed, do actual correlation of p-values.  Correlation of p-values against p-values.\n",
    "\n",
    "Is higher binding associated with lower expression.  \n",
    "\n",
    "There are a set of genes that have TATA boxes, particular element in core promoter.  Supposedly genes that have TATA boxes are particularly sensitive to environmental perturbations.\n",
    "\n",
    "Are genes with TATA boxes particularly sensitive to local chromatin state.  Genes with TATA boxes-- are they more likely to be YRV genes?  Are they more likely to be near regions of differential binding.\n",
    "\n",
    "Same Mann-Whitney test as above, but now question is does have TATA box or not have TATA box? Find list of Drosophila genes with TATA box info.\n",
    "\n",
    "\n",
    "1) Correlation of p-values\n",
    "2) Look up TATA box situation."
   ]
  },
  {
   "cell_type": "code",
   "execution_count": null,
   "metadata": {
    "collapsed": true
   },
   "outputs": [],
   "source": []
  }
 ],
 "metadata": {
  "kernelspec": {
   "display_name": "Python 2",
   "language": "python",
   "name": "python2"
  },
  "language_info": {
   "codemirror_mode": {
    "name": "ipython",
    "version": 2
   },
   "file_extension": ".py",
   "mimetype": "text/x-python",
   "name": "python",
   "nbconvert_exporter": "python",
   "pygments_lexer": "ipython2",
   "version": "2.7.11"
  }
 },
 "nbformat": 4,
 "nbformat_minor": 0
}
