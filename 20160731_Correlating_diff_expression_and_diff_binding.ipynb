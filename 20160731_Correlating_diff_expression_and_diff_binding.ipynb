{
 "cells": [
  {
   "cell_type": "code",
   "execution_count": 1,
   "metadata": {
    "collapsed": false
   },
   "outputs": [
    {
     "name": "stderr",
     "output_type": "stream",
     "text": [
      "//anaconda/lib/python2.7/site-packages/matplotlib/__init__.py:872: UserWarning: axes.color_cycle is deprecated and replaced with axes.prop_cycle; please use the latter.\n",
      "  warnings.warn(self.msg_depr % (key, alt_key))\n"
     ]
    }
   ],
   "source": [
    "%matplotlib inline\n",
    "\n",
    "import glob\n",
    "from string import letters\n",
    "import numpy as np\n",
    "import pandas as pd\n",
    "import seaborn as sns\n",
    "import matplotlib.pyplot as plt\n",
    "\n",
    "from scipy import signal\n",
    "from sklearn.decomposition import PCA"
   ]
  },
  {
   "cell_type": "markdown",
   "metadata": {},
   "source": [
    "The first step is to find which rows of the locations df correspond to differentially bound regions. \n",
    "\n",
    "We start by loading the locations dataset"
   ]
  },
  {
   "cell_type": "code",
   "execution_count": 2,
   "metadata": {
    "collapsed": false
   },
   "outputs": [
    {
     "data": {
      "text/html": [
       "<div>\n",
       "<table border=\"1\" class=\"dataframe\">\n",
       "  <thead>\n",
       "    <tr style=\"text-align: right;\">\n",
       "      <th></th>\n",
       "      <th>chr</th>\n",
       "      <th>start</th>\n",
       "      <th>end</th>\n",
       "    </tr>\n",
       "  </thead>\n",
       "  <tbody>\n",
       "    <tr>\n",
       "      <th>0</th>\n",
       "      <td>211000022278049</td>\n",
       "      <td>390</td>\n",
       "      <td>394</td>\n",
       "    </tr>\n",
       "    <tr>\n",
       "      <th>1</th>\n",
       "      <td>211000022278049</td>\n",
       "      <td>537</td>\n",
       "      <td>541</td>\n",
       "    </tr>\n",
       "    <tr>\n",
       "      <th>2</th>\n",
       "      <td>211000022278049</td>\n",
       "      <td>573</td>\n",
       "      <td>577</td>\n",
       "    </tr>\n",
       "    <tr>\n",
       "      <th>3</th>\n",
       "      <td>211000022278049</td>\n",
       "      <td>837</td>\n",
       "      <td>841</td>\n",
       "    </tr>\n",
       "    <tr>\n",
       "      <th>4</th>\n",
       "      <td>211000022278049</td>\n",
       "      <td>1613</td>\n",
       "      <td>1617</td>\n",
       "    </tr>\n",
       "  </tbody>\n",
       "</table>\n",
       "</div>"
      ],
      "text/plain": [
       "               chr  start   end\n",
       "0  211000022278049    390   394\n",
       "1  211000022278049    537   541\n",
       "2  211000022278049    573   577\n",
       "3  211000022278049    837   841\n",
       "4  211000022278049   1613  1617"
      ]
     },
     "execution_count": 2,
     "metadata": {},
     "output_type": "execute_result"
    }
   ],
   "source": [
    "locations_df=pd.read_csv(\"Locations\")\n",
    "locations_df.columns = [\"a\", \"chr\",\"start\",\"end\"]\n",
    "del locations_df[\"a\"]\n",
    "locations_df.head()"
   ]
  },
  {
   "cell_type": "markdown",
   "metadata": {},
   "source": [
    "The following dataframe of differentially expressed genes for carcass was created in 20160731_Including_heterochromatic_state.ipynb"
   ]
  },
  {
   "cell_type": "code",
   "execution_count": 3,
   "metadata": {
    "collapsed": false
   },
   "outputs": [
    {
     "data": {
      "text/html": [
       "<div>\n",
       "<table border=\"1\" class=\"dataframe\">\n",
       "  <thead>\n",
       "    <tr style=\"text-align: right;\">\n",
       "      <th></th>\n",
       "      <th>Unnamed: 0</th>\n",
       "      <th>chr</th>\n",
       "      <th>start</th>\n",
       "      <th>end</th>\n",
       "    </tr>\n",
       "  </thead>\n",
       "  <tbody>\n",
       "    <tr>\n",
       "      <th>0</th>\n",
       "      <td>0</td>\n",
       "      <td>X</td>\n",
       "      <td>245978</td>\n",
       "      <td>254650</td>\n",
       "    </tr>\n",
       "    <tr>\n",
       "      <th>1</th>\n",
       "      <td>1</td>\n",
       "      <td>X</td>\n",
       "      <td>585081</td>\n",
       "      <td>620195</td>\n",
       "    </tr>\n",
       "    <tr>\n",
       "      <th>2</th>\n",
       "      <td>2</td>\n",
       "      <td>X</td>\n",
       "      <td>946662</td>\n",
       "      <td>947500</td>\n",
       "    </tr>\n",
       "    <tr>\n",
       "      <th>3</th>\n",
       "      <td>3</td>\n",
       "      <td>X</td>\n",
       "      <td>2278031</td>\n",
       "      <td>2293411</td>\n",
       "    </tr>\n",
       "    <tr>\n",
       "      <th>4</th>\n",
       "      <td>4</td>\n",
       "      <td>X</td>\n",
       "      <td>2622069</td>\n",
       "      <td>2624575</td>\n",
       "    </tr>\n",
       "  </tbody>\n",
       "</table>\n",
       "</div>"
      ],
      "text/plain": [
       "   Unnamed: 0 chr    start      end\n",
       "0           0   X   245978   254650\n",
       "1           1   X   585081   620195\n",
       "2           2   X   946662   947500\n",
       "3           3   X  2278031  2293411\n",
       "4           4   X  2622069  2624575"
      ]
     },
     "execution_count": 3,
     "metadata": {},
     "output_type": "execute_result"
    }
   ],
   "source": [
    "diff_expression_df=pd.read_csv(\"Differentially_expressed_genes_carcass_df\")\n",
    "diff_expression_df.head()"
   ]
  },
  {
   "cell_type": "markdown",
   "metadata": {},
   "source": [
    "Now we want to find which locations are differentially expressed"
   ]
  },
  {
   "cell_type": "code",
   "execution_count": 4,
   "metadata": {
    "collapsed": false
   },
   "outputs": [
    {
     "name": "stdout",
     "output_type": "stream",
     "text": [
      "0 1 2 3 4 5 6 7 8 9 10 11 12 13 14 15 16 17 18 19 20 21 22 23 24 25 26 27 28 29 30 31 32 33 34 35 36 37 38 39 40 41 42 43 44 45 46 47 48 49 50 51 52 53 54 55 56 57 58 59 60 61 62 63 64 65 66 67 68 69 70 71 72 73 74 75 76 77 78 79 80 81 82 83 84 85 86 87 88 89 90 91 92 93 94 95 96 97 98 99 100 101 102 103 104 105 106 107 108 109 110 111 112 113 114 115 116 117 118 119 120 121 122 123 124 125 126 127 128 129 130 131 132 133 134 135 136 137 138 139 140 141 142 143 144 145 146 147 148 149 150 151 152 153 154 155 156 157 158 159 160 161 162 163 164 165 166 167 168 169 170 171 172 173 174 175 176 177 178 179 180 181 182 183 184 185 186 187 188 189 190 191 192 193 194 195 196 197 198 199 200 201 202 203 204 205 206 207 208 209 210 211 212 213 214 215 216 217 218 219 220 221 222 223 224 225 226 227 228 229 230 231 232 233 234 235 236 237 238 239 240 241 242 243 244 245 246 247 248 249 250 251 252 253 254 255 256 257 258 259 260 261 262 263 264 265 266 267 268 269 270 271 272 273 274 275 276 277 278 279 280 281 282 283 284 285 286 287 288 289 290 291 292 293 294 295 296 297 298 299 300 301 302 303 304 305 306 307 308 309 310 311 312 313 314 315 316 317 318 319 320 321 322 323 324 325 326 327 328 329 330 331 332 333 334 335 336 337 338 339 340 341 342 343 344 345 346 347 348 349 350 351 352 353 354 355 356 357 358 359 360 361 362 363 364 365 366 367 368 369 370 371 372 373 374 375 376 377 378 379 380 381 382 383 384 385 386 387 388 389 390 391 392 393 394 395 396 397 398 399 400 401 402 403 404 405 406 407 408 409 410 411 412 413 414 415 416 417 418 419 420 421 422 423 424 425 426 427 428 429 430 431 432 433 434 435 436 437 438 439 440 441 442\n"
     ]
    }
   ],
   "source": [
    "locations_df[\"contains_diff_expressed\"]=[0 for ele in locations_df['chr']]\n",
    "for i,row1 in enumerate(diff_expression_df.iterrows()):\n",
    "    print i,\n",
    "    key = str(row1[1]['chr'])     \n",
    "    subset_chrom_df=locations_df[locations_df.chr == key]\n",
    "    len_subset_chrom_df = subset_chrom_df.shape[0]\n",
    "    for j in range(len_subset_chrom_df):\n",
    "        try:\n",
    "            if float(row1[1]['end']) >= float(subset_chrom_df.loc[subset_chrom_df.index[j],'end']) and float(row1[1]['start']) <= float(subset_chrom_df.loc[subset_chrom_df.index[j],'start']) :\n",
    "                #print list(row1[1]), subset_chrom_df.index[j]\n",
    "                \n",
    "                locations_df.ix[subset_chrom_df.index[j], 'contains_diff_expressed']=str(list(row1[1]))\n",
    "                    #diff_expression_df.ix[i,'chromatin_state'] = subset_chrom_df.ix[subset_chrom_df.index[j],'chromatin']\n",
    "        except:\n",
    "            pass"
   ]
  },
  {
   "cell_type": "code",
   "execution_count": 33,
   "metadata": {
    "collapsed": false
   },
   "outputs": [
    {
     "data": {
      "text/plain": [
       "chr                                               X\n",
       "start                                        250162\n",
       "end                                          250166\n",
       "contains_diff_expressed    [0, 'X', 245978, 254650]\n",
       "Name: 310020, dtype: object"
      ]
     },
     "execution_count": 33,
     "metadata": {},
     "output_type": "execute_result"
    }
   ],
   "source": [
    "locations_df.ix[310020,]"
   ]
  },
  {
   "cell_type": "code",
   "execution_count": 7,
   "metadata": {
    "collapsed": false
   },
   "outputs": [
    {
     "data": {
      "text/html": [
       "<div>\n",
       "<table border=\"1\" class=\"dataframe\">\n",
       "  <thead>\n",
       "    <tr style=\"text-align: right;\">\n",
       "      <th></th>\n",
       "      <th>chr</th>\n",
       "      <th>start</th>\n",
       "      <th>end</th>\n",
       "      <th>contains_diff_expressed</th>\n",
       "    </tr>\n",
       "  </thead>\n",
       "  <tbody>\n",
       "    <tr>\n",
       "      <th>373894</th>\n",
       "      <td>X</td>\n",
       "      <td>22534746</td>\n",
       "      <td>22534750</td>\n",
       "      <td>[298, 'X', 22529964, 22536371]</td>\n",
       "    </tr>\n",
       "    <tr>\n",
       "      <th>373895</th>\n",
       "      <td>X</td>\n",
       "      <td>22535316</td>\n",
       "      <td>22535320</td>\n",
       "      <td>[298, 'X', 22529964, 22536371]</td>\n",
       "    </tr>\n",
       "    <tr>\n",
       "      <th>373896</th>\n",
       "      <td>X</td>\n",
       "      <td>22535972</td>\n",
       "      <td>22535976</td>\n",
       "      <td>[298, 'X', 22529964, 22536371]</td>\n",
       "    </tr>\n",
       "    <tr>\n",
       "      <th>373897</th>\n",
       "      <td>X</td>\n",
       "      <td>22536070</td>\n",
       "      <td>22536074</td>\n",
       "      <td>[298, 'X', 22529964, 22536371]</td>\n",
       "    </tr>\n",
       "    <tr>\n",
       "      <th>373898</th>\n",
       "      <td>X</td>\n",
       "      <td>22536273</td>\n",
       "      <td>22536277</td>\n",
       "      <td>[298, 'X', 22529964, 22536371]</td>\n",
       "    </tr>\n",
       "  </tbody>\n",
       "</table>\n",
       "</div>"
      ],
      "text/plain": [
       "       chr     start       end         contains_diff_expressed\n",
       "373894   X  22534746  22534750  [298, 'X', 22529964, 22536371]\n",
       "373895   X  22535316  22535320  [298, 'X', 22529964, 22536371]\n",
       "373896   X  22535972  22535976  [298, 'X', 22529964, 22536371]\n",
       "373897   X  22536070  22536074  [298, 'X', 22529964, 22536371]\n",
       "373898   X  22536273  22536277  [298, 'X', 22529964, 22536371]"
      ]
     },
     "execution_count": 7,
     "metadata": {},
     "output_type": "execute_result"
    }
   ],
   "source": [
    "locations_df[locations_df.contains_diff_expressed!=0].tail()"
   ]
  },
  {
   "cell_type": "code",
   "execution_count": 8,
   "metadata": {
    "collapsed": true
   },
   "outputs": [],
   "source": [
    "#locations_df.to_csv(\"locations_df_with_diff_expressed\", sep=\";\")"
   ]
  },
  {
   "cell_type": "markdown",
   "metadata": {},
   "source": [
    "Now we want to find which locations are differentially bound"
   ]
  },
  {
   "cell_type": "code",
   "execution_count": 10,
   "metadata": {
    "collapsed": false
   },
   "outputs": [
    {
     "data": {
      "text/html": [
       "<div>\n",
       "<table border=\"1\" class=\"dataframe\">\n",
       "  <thead>\n",
       "    <tr style=\"text-align: right;\">\n",
       "      <th></th>\n",
       "      <th>C_D1</th>\n",
       "      <th>C_Lam</th>\n",
       "      <th>T_D1</th>\n",
       "      <th>T_Lam</th>\n",
       "      <th>W_D1</th>\n",
       "      <th>W_Lam</th>\n",
       "    </tr>\n",
       "  </thead>\n",
       "  <tbody>\n",
       "    <tr>\n",
       "      <th>0</th>\n",
       "      <td>NaN</td>\n",
       "      <td>NaN</td>\n",
       "      <td>NaN</td>\n",
       "      <td>NaN</td>\n",
       "      <td>NaN</td>\n",
       "      <td>NaN</td>\n",
       "    </tr>\n",
       "    <tr>\n",
       "      <th>1</th>\n",
       "      <td>NaN</td>\n",
       "      <td>NaN</td>\n",
       "      <td>NaN</td>\n",
       "      <td>NaN</td>\n",
       "      <td>NaN</td>\n",
       "      <td>NaN</td>\n",
       "    </tr>\n",
       "    <tr>\n",
       "      <th>2</th>\n",
       "      <td>NaN</td>\n",
       "      <td>NaN</td>\n",
       "      <td>NaN</td>\n",
       "      <td>NaN</td>\n",
       "      <td>NaN</td>\n",
       "      <td>NaN</td>\n",
       "    </tr>\n",
       "    <tr>\n",
       "      <th>3</th>\n",
       "      <td>NaN</td>\n",
       "      <td>NaN</td>\n",
       "      <td>NaN</td>\n",
       "      <td>NaN</td>\n",
       "      <td>NaN</td>\n",
       "      <td>NaN</td>\n",
       "    </tr>\n",
       "    <tr>\n",
       "      <th>4</th>\n",
       "      <td>NaN</td>\n",
       "      <td>NaN</td>\n",
       "      <td>NaN</td>\n",
       "      <td>NaN</td>\n",
       "      <td>NaN</td>\n",
       "      <td>NaN</td>\n",
       "    </tr>\n",
       "  </tbody>\n",
       "</table>\n",
       "</div>"
      ],
      "text/plain": [
       "   C_D1  C_Lam  T_D1  T_Lam  W_D1  W_Lam\n",
       "0   NaN    NaN   NaN    NaN   NaN    NaN\n",
       "1   NaN    NaN   NaN    NaN   NaN    NaN\n",
       "2   NaN    NaN   NaN    NaN   NaN    NaN\n",
       "3   NaN    NaN   NaN    NaN   NaN    NaN\n",
       "4   NaN    NaN   NaN    NaN   NaN    NaN"
      ]
     },
     "execution_count": 10,
     "metadata": {},
     "output_type": "execute_result"
    }
   ],
   "source": [
    "lpadj=[]\n",
    "lpval=[]\n",
    "for f1 in glob.glob(\"nbin*\"):\n",
    "    df_padj = pd.read_csv(f1).padj\n",
    "    df_pval = pd.read_csv(f1).pvalue\n",
    "    lpadj.append(df_padj)\n",
    "    lpval.append(df_pval)\n",
    "pval = pd.concat(lpval, axis = 1)\n",
    "padj = pd.concat(lpadj, axis = 1)\n",
    "\n",
    "pval.columns= map(lambda x: x[25:], glob.glob(\"nbin*\"))\n",
    "pval.head()\n",
    "\n",
    "padj.columns= map(lambda x: x[25:], glob.glob(\"nbin*\"))\n",
    "padj.head()"
   ]
  },
  {
   "cell_type": "code",
   "execution_count": 11,
   "metadata": {
    "collapsed": false
   },
   "outputs": [
    {
     "data": {
      "text/plain": [
       "388464"
      ]
     },
     "execution_count": 11,
     "metadata": {},
     "output_type": "execute_result"
    }
   ],
   "source": [
    "len(pval)"
   ]
  },
  {
   "cell_type": "code",
   "execution_count": 12,
   "metadata": {
    "collapsed": false
   },
   "outputs": [
    {
     "data": {
      "text/plain": [
       "388464"
      ]
     },
     "execution_count": 12,
     "metadata": {},
     "output_type": "execute_result"
    }
   ],
   "source": [
    "len(locations_df)"
   ]
  },
  {
   "cell_type": "code",
   "execution_count": 31,
   "metadata": {
    "collapsed": false
   },
   "outputs": [
    {
     "name": "stdout",
     "output_type": "stream",
     "text": [
      "Mean adjusted p-vals for differential binding conditioning on non diff expressed gene locations\n",
      "C_D1     0.595955\n",
      "C_Lam    0.408171\n",
      "T_D1     0.382093\n",
      "T_Lam    0.493926\n",
      "W_D1     0.985443\n",
      "W_Lam    0.935777\n",
      "dtype: float64\n",
      "conditioning on diff expressed gene locations\n",
      "C_D1     0.610274\n",
      "C_Lam    0.386429\n",
      "T_D1     0.416556\n",
      "T_Lam    0.490505\n",
      "W_D1     0.986447\n",
      "W_Lam    0.946208\n",
      "dtype: float64\n"
     ]
    }
   ],
   "source": [
    "print \"Mean adjusted p-vals for differential binding conditioning on non diff expressed gene locations\"\n",
    "print padj[locations_df.contains_diff_expressed==0].mean()\n",
    "print \"conditioning on diff expressed gene locations\"\n",
    "print padj[locations_df.contains_diff_expressed!=0].mean()"
   ]
  },
  {
   "cell_type": "code",
   "execution_count": 32,
   "metadata": {
    "collapsed": false
   },
   "outputs": [
    {
     "name": "stdout",
     "output_type": "stream",
     "text": [
      "Mean p-vals for differential binding conditioning on non diff expressed gene locations\n",
      "C_D1     0.513809\n",
      "C_Lam    0.348400\n",
      "T_D1     0.603628\n",
      "T_Lam    0.441822\n",
      "W_D1     0.545073\n",
      "W_Lam    0.547549\n",
      "dtype: float64\n",
      "conditioning on diff expressed gene locations\n",
      "C_D1     0.490584\n",
      "C_Lam    0.299476\n",
      "T_D1     0.573320\n",
      "T_Lam    0.409605\n",
      "W_D1     0.544514\n",
      "W_Lam    0.550403\n",
      "dtype: float64\n"
     ]
    }
   ],
   "source": [
    "print \"Mean p-vals for differential binding conditioning on non diff expressed gene locations\"\n",
    "print pval[locations_df.contains_diff_expressed==0].mean()\n",
    "print \"conditioning on diff expressed gene locations\"\n",
    "print pval[locations_df.contains_diff_expressed!=0].mean()"
   ]
  },
  {
   "cell_type": "code",
   "execution_count": 24,
   "metadata": {
    "collapsed": false
   },
   "outputs": [
    {
     "name": "stdout",
     "output_type": "stream",
     "text": [
      "plots of the p-vals (testing differential binding in different protein by tissue combos)\n"
     ]
    },
    {
     "data": {
      "image/png": "[encoded data removed]",
      "text/plain": [
       "<matplotlib.figure.Figure at 0x125bb3b10>"
      ]
     },
     "metadata": {},
     "output_type": "display_data"
    },
    {
     "name": "stdout",
     "output_type": "stream",
     "text": [
      "plots of the p-adj (testing differential binding in different protein by tissue combos)\n"
     ]
    },
    {
     "data": {
      "image/png": "[encoded data removed]",
      "text/plain": [
       "<matplotlib.figure.Figure at 0x1260efa90>"
      ]
     },
     "metadata": {},
     "output_type": "display_data"
    }
   ],
   "source": [
    "print \"plots of the p-vals (testing differential binding in different protein by tissue combos)\"\n",
    "_=pval.hist()\n",
    "plt.show()\n",
    "print \"plots of the p-adj (testing differential binding in different protein by tissue combos)\"\n",
    "_=padj.hist()"
   ]
  },
  {
   "cell_type": "markdown",
   "metadata": {},
   "source": [
    "The hist of the p-adj look very different from the plots of the pvals.  Tim: which should I be looking at?"
   ]
  },
  {
   "cell_type": "code",
   "execution_count": 25,
   "metadata": {
    "collapsed": false
   },
   "outputs": [
    {
     "name": "stdout",
     "output_type": "stream",
     "text": [
      "p-adj (testing differential binding in different protein by tissue combos) for non diff expressed genes\n"
     ]
    },
    {
     "data": {
      "image/png": "[encoded data removed]",
      "text/plain": [
       "<matplotlib.figure.Figure at 0x1260ee350>"
      ]
     },
     "metadata": {},
     "output_type": "display_data"
    },
    {
     "name": "stdout",
     "output_type": "stream",
     "text": [
      "p-adj (testing differential binding in different protein by tissue combos) for diff expressed genes\n"
     ]
    },
    {
     "data": {
      "image/png": "[encoded data removed]",
      "text/plain": [
       "<matplotlib.figure.Figure at 0x126d61c50>"
      ]
     },
     "metadata": {},
     "output_type": "display_data"
    }
   ],
   "source": [
    "print \"p-adj (testing differential binding in different protein by tissue combos) for non diff expressed genes\"\n",
    "_=padj[locations_df.contains_diff_expressed==0].hist()\n",
    "plt.show()\n",
    "print \"p-adj (testing differential binding in different protein by tissue combos) for diff expressed genes\"\n",
    "_=padj[locations_df.contains_diff_expressed!=0].hist()\n"
   ]
  },
  {
   "cell_type": "markdown",
   "metadata": {},
   "source": [
    "you can't really see a difference between the shapes of these distributions"
   ]
  },
  {
   "cell_type": "code",
   "execution_count": 27,
   "metadata": {
    "collapsed": false
   },
   "outputs": [
    {
     "name": "stdout",
     "output_type": "stream",
     "text": [
      "p-val (testing differential binding in different protein by tissue combos) for non diff expressed genes\n"
     ]
    },
    {
     "data": {
      "image/png": "[encoded data removed]",
      "text/plain": [
       "<matplotlib.figure.Figure at 0x1277c6850>"
      ]
     },
     "metadata": {},
     "output_type": "display_data"
    },
    {
     "name": "stdout",
     "output_type": "stream",
     "text": [
      "p-val (testing differential binding in different protein by tissue combos) for diff expressed genes\n"
     ]
    },
    {
     "data": {
      "image/png": "[encoded data removed]",
      "text/plain": [
       "<matplotlib.figure.Figure at 0x1252a3590>"
      ]
     },
     "metadata": {},
     "output_type": "display_data"
    }
   ],
   "source": [
    "print \"p-val (testing differential binding in different protein by tissue combos) for non diff expressed genes\"\n",
    "_=pval[locations_df.contains_diff_expressed==0].hist()\n",
    "plt.show()\n",
    "print \"p-val (testing differential binding in different protein by tissue combos) for diff expressed genes\"\n",
    "_=pval[locations_df.contains_diff_expressed!=0].hist()\n",
    "\n"
   ]
  },
  {
   "cell_type": "markdown",
   "metadata": {},
   "source": [
    "shapes are pretty consistent.  We're going to run a 2-sample Kolmogorov-Smirnov test though to test whether they are actually different (mean p-values look lower for the significant binding, which is what we would expect)."
   ]
  },
  {
   "cell_type": "code",
   "execution_count": 45,
   "metadata": {
    "collapsed": false
   },
   "outputs": [
    {
     "name": "stdout",
     "output_type": "stream",
     "text": [
      "tissue_protein, not diff expressed mean diff binding p-val, diff expressed mean diff binding p-val\n",
      "C_D1 0.513808761405 0.490583554236\n",
      "Larger p-val for diff expressed? False\n",
      "Ks_2sampResult(statistic=0.035773902207635544, pvalue=4.5821846623597786e-15)\n",
      "C_Lam 0.348400121508 0.299476024508\n",
      "Larger p-val for diff expressed? False\n",
      "Ks_2sampResult(statistic=0.079648311377415459, pvalue=5.3764360012101313e-73)\n",
      "T_D1 0.603628449082 0.573319928554\n",
      "Larger p-val for diff expressed? False\n",
      "Ks_2sampResult(statistic=0.046090586312393489, pvalue=9.9910283913075999e-25)\n",
      "T_Lam 0.441822032408 0.409604729781\n",
      "Larger p-val for diff expressed? False\n",
      "Ks_2sampResult(statistic=0.053126288494897866, pvalue=1.0331083641262233e-32)\n",
      "W_D1 0.545073050612 0.54451354959\n",
      "Larger p-val for diff expressed? False\n",
      "Ks_2sampResult(statistic=0.0084562590666205084, pvalue=0.30302689128402893)\n",
      "W_Lam 0.547548680377 0.550403251711\n",
      "Larger p-val for diff expressed? True\n",
      "Ks_2sampResult(statistic=0.012832277434461248, pvalue=0.026140647248220496)\n"
     ]
    }
   ],
   "source": [
    "import scipy.stats\n",
    "print \"tissue_protein, not diff expressed mean diff binding p-val, diff expressed mean diff binding p-val\"\n",
    "for col in pval.columns:\n",
    "    print col, pval[locations_df.contains_diff_expressed==0][col].mean(), pval[locations_df.contains_diff_expressed!=0][col].mean()\n",
    "    print \"Larger p-val for diff expressed?\", pval[locations_df.contains_diff_expressed==0][col].mean() < pval[locations_df.contains_diff_expressed!=0][col].mean()\n",
    "    print scipy.stats.ks_2samp(pval[locations_df.contains_diff_expressed==0][col], pval[locations_df.contains_diff_expressed!=0][col])"
   ]
  },
  {
   "cell_type": "code",
   "execution_count": 46,
   "metadata": {
    "collapsed": false
   },
   "outputs": [
    {
     "name": "stdout",
     "output_type": "stream",
     "text": [
      "C_D1 0.595954959072 0.610274157102\n",
      "Larger p-val for diff expressed? True\n",
      "Ks_2sampResult(statistic=0.058628367080588051, pvalue=9.5541204383529632e-40)\n",
      "C_Lam 0.408171042867 0.386429452048\n",
      "Larger p-val for diff expressed? False\n",
      "Ks_2sampResult(statistic=0.14236942127396368, pvalue=2.7110264886046745e-232)\n",
      "T_D1 0.382093457776 0.416555969511\n",
      "Larger p-val for diff expressed? True\n",
      "Ks_2sampResult(statistic=0.022952963410752439, pvalue=1.8804366232326215e-06)\n",
      "T_Lam 0.493926135818 0.490504942035\n",
      "Larger p-val for diff expressed? False\n",
      "Ks_2sampResult(statistic=0.059681680442500218, pvalue=3.5861441715314506e-41)\n",
      "W_D1 0.985442776192 0.986447351386\n",
      "Larger p-val for diff expressed? True\n",
      "Ks_2sampResult(statistic=0.083634061079247424, pvalue=1.9303451687610417e-80)\n",
      "W_Lam 0.935776632146 0.946208175356\n",
      "Larger p-val for diff expressed? True\n",
      "Ks_2sampResult(statistic=0.028191148369410363, pvalue=1.6202765973385386e-09)\n"
     ]
    }
   ],
   "source": [
    "for col in padj.columns:\n",
    "    print col, \n",
    "    print padj[locations_df.contains_diff_expressed==0][col].mean(), padj[locations_df.contains_diff_expressed!=0][col].mean()\n",
    "    print \"Larger p-val for diff expressed?\", padj[locations_df.contains_diff_expressed==0][col].mean() < padj[locations_df.contains_diff_expressed!=0][col].mean()\n",
    "    print scipy.stats.ks_2samp(padj[locations_df.contains_diff_expressed==0][col], padj[locations_df.contains_diff_expressed!=0][col])"
   ]
  },
  {
   "cell_type": "markdown",
   "metadata": {},
   "source": [
    "The p-val results are consistent with what we would expect.  the adjusted p-val results are not"
   ]
  },
  {
   "cell_type": "code",
   "execution_count": 26,
   "metadata": {
    "collapsed": false
   },
   "outputs": [
    {
     "data": {
      "text/html": [
       "<div>\n",
       "<table border=\"1\" class=\"dataframe\">\n",
       "  <thead>\n",
       "    <tr style=\"text-align: right;\">\n",
       "      <th></th>\n",
       "      <th>chr</th>\n",
       "      <th>start</th>\n",
       "      <th>end</th>\n",
       "      <th>contains_diff_expressed</th>\n",
       "    </tr>\n",
       "  </thead>\n",
       "  <tbody>\n",
       "    <tr>\n",
       "      <th>373889</th>\n",
       "      <td>X</td>\n",
       "      <td>22533068</td>\n",
       "      <td>22533072</td>\n",
       "      <td>[298, 'X', 22529964, 22536371]</td>\n",
       "    </tr>\n",
       "    <tr>\n",
       "      <th>373890</th>\n",
       "      <td>X</td>\n",
       "      <td>22533108</td>\n",
       "      <td>22533112</td>\n",
       "      <td>[298, 'X', 22529964, 22536371]</td>\n",
       "    </tr>\n",
       "    <tr>\n",
       "      <th>373891</th>\n",
       "      <td>X</td>\n",
       "      <td>22533257</td>\n",
       "      <td>22533261</td>\n",
       "      <td>[298, 'X', 22529964, 22536371]</td>\n",
       "    </tr>\n",
       "    <tr>\n",
       "      <th>373892</th>\n",
       "      <td>X</td>\n",
       "      <td>22533415</td>\n",
       "      <td>22533419</td>\n",
       "      <td>[298, 'X', 22529964, 22536371]</td>\n",
       "    </tr>\n",
       "    <tr>\n",
       "      <th>373893</th>\n",
       "      <td>X</td>\n",
       "      <td>22533864</td>\n",
       "      <td>22533868</td>\n",
       "      <td>[298, 'X', 22529964, 22536371]</td>\n",
       "    </tr>\n",
       "    <tr>\n",
       "      <th>373894</th>\n",
       "      <td>X</td>\n",
       "      <td>22534746</td>\n",
       "      <td>22534750</td>\n",
       "      <td>[298, 'X', 22529964, 22536371]</td>\n",
       "    </tr>\n",
       "    <tr>\n",
       "      <th>373895</th>\n",
       "      <td>X</td>\n",
       "      <td>22535316</td>\n",
       "      <td>22535320</td>\n",
       "      <td>[298, 'X', 22529964, 22536371]</td>\n",
       "    </tr>\n",
       "    <tr>\n",
       "      <th>373896</th>\n",
       "      <td>X</td>\n",
       "      <td>22535972</td>\n",
       "      <td>22535976</td>\n",
       "      <td>[298, 'X', 22529964, 22536371]</td>\n",
       "    </tr>\n",
       "    <tr>\n",
       "      <th>373897</th>\n",
       "      <td>X</td>\n",
       "      <td>22536070</td>\n",
       "      <td>22536074</td>\n",
       "      <td>[298, 'X', 22529964, 22536371]</td>\n",
       "    </tr>\n",
       "    <tr>\n",
       "      <th>373898</th>\n",
       "      <td>X</td>\n",
       "      <td>22536273</td>\n",
       "      <td>22536277</td>\n",
       "      <td>[298, 'X', 22529964, 22536371]</td>\n",
       "    </tr>\n",
       "  </tbody>\n",
       "</table>\n",
       "</div>"
      ],
      "text/plain": [
       "       chr     start       end         contains_diff_expressed\n",
       "373889   X  22533068  22533072  [298, 'X', 22529964, 22536371]\n",
       "373890   X  22533108  22533112  [298, 'X', 22529964, 22536371]\n",
       "373891   X  22533257  22533261  [298, 'X', 22529964, 22536371]\n",
       "373892   X  22533415  22533419  [298, 'X', 22529964, 22536371]\n",
       "373893   X  22533864  22533868  [298, 'X', 22529964, 22536371]\n",
       "373894   X  22534746  22534750  [298, 'X', 22529964, 22536371]\n",
       "373895   X  22535316  22535320  [298, 'X', 22529964, 22536371]\n",
       "373896   X  22535972  22535976  [298, 'X', 22529964, 22536371]\n",
       "373897   X  22536070  22536074  [298, 'X', 22529964, 22536371]\n",
       "373898   X  22536273  22536277  [298, 'X', 22529964, 22536371]"
      ]
     },
     "execution_count": 26,
     "metadata": {},
     "output_type": "execute_result"
    }
   ],
   "source": [
    "locations_df[locations_df.contains_diff_expressed!=0].tail(n=10)"
   ]
  },
  {
   "cell_type": "code",
   "execution_count": null,
   "metadata": {
    "collapsed": true
   },
   "outputs": [],
   "source": []
  }
 ],
 "metadata": {
  "kernelspec": {
   "display_name": "Python 2",
   "language": "python",
   "name": "python2"
  },
  "language_info": {
   "codemirror_mode": {
    "name": "ipython",
    "version": 2
   },
   "file_extension": ".py",
   "mimetype": "text/x-python",
   "name": "python",
   "nbconvert_exporter": "python",
   "pygments_lexer": "ipython2",
   "version": "2.7.11"
  }
 },
 "nbformat": 4,
 "nbformat_minor": 0
}
