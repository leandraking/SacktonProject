{
 "cells": [
  {
   "cell_type": "code",
   "execution_count": 1,
   "metadata": {
    "collapsed": false
   },
   "outputs": [
    {
     "name": "stderr",
     "output_type": "stream",
     "text": [
      "//anaconda/lib/python2.7/site-packages/matplotlib/__init__.py:872: UserWarning: axes.color_cycle is deprecated and replaced with axes.prop_cycle; please use the latter.\n",
      "  warnings.warn(self.msg_depr % (key, alt_key))\n"
     ]
    }
   ],
   "source": [
    "%matplotlib inline\n",
    "\n",
    "import glob\n",
    "from string import letters\n",
    "import numpy as np\n",
    "import pandas as pd\n",
    "import seaborn as sns\n",
    "import matplotlib.pyplot as plt\n",
    "\n",
    "from scipy import signal\n",
    "from sklearn.decomposition import PCA"
   ]
  },
  {
   "cell_type": "markdown",
   "metadata": {},
   "source": [
    "The first step is to find which rows of the locations df correspond to differentially bound regions. \n",
    "\n",
    "We start by loading the locations dataset"
   ]
  },
  {
   "cell_type": "code",
   "execution_count": 2,
   "metadata": {
    "collapsed": false
   },
   "outputs": [
    {
     "data": {
      "text/html": [
       "<div>\n",
       "<table border=\"1\" class=\"dataframe\">\n",
       "  <thead>\n",
       "    <tr style=\"text-align: right;\">\n",
       "      <th></th>\n",
       "      <th>chr</th>\n",
       "      <th>start</th>\n",
       "      <th>end</th>\n",
       "    </tr>\n",
       "  </thead>\n",
       "  <tbody>\n",
       "    <tr>\n",
       "      <th>0</th>\n",
       "      <td>211000022278049</td>\n",
       "      <td>390</td>\n",
       "      <td>394</td>\n",
       "    </tr>\n",
       "    <tr>\n",
       "      <th>1</th>\n",
       "      <td>211000022278049</td>\n",
       "      <td>537</td>\n",
       "      <td>541</td>\n",
       "    </tr>\n",
       "    <tr>\n",
       "      <th>2</th>\n",
       "      <td>211000022278049</td>\n",
       "      <td>573</td>\n",
       "      <td>577</td>\n",
       "    </tr>\n",
       "    <tr>\n",
       "      <th>3</th>\n",
       "      <td>211000022278049</td>\n",
       "      <td>837</td>\n",
       "      <td>841</td>\n",
       "    </tr>\n",
       "    <tr>\n",
       "      <th>4</th>\n",
       "      <td>211000022278049</td>\n",
       "      <td>1613</td>\n",
       "      <td>1617</td>\n",
       "    </tr>\n",
       "  </tbody>\n",
       "</table>\n",
       "</div>"
      ],
      "text/plain": [
       "               chr  start   end\n",
       "0  211000022278049    390   394\n",
       "1  211000022278049    537   541\n",
       "2  211000022278049    573   577\n",
       "3  211000022278049    837   841\n",
       "4  211000022278049   1613  1617"
      ]
     },
     "execution_count": 2,
     "metadata": {},
     "output_type": "execute_result"
    }
   ],
   "source": [
    "locations_df=pd.read_csv(\"Locations\")\n",
    "locations_df.columns = [\"a\", \"chr\",\"start\",\"end\"]\n",
    "del locations_df[\"a\"]\n",
    "locations_df.head()"
   ]
  },
  {
   "cell_type": "markdown",
   "metadata": {},
   "source": [
    "The following dataframe of differentially expressed genes for carcass was created in 20160731_Including_heterochromatic_state.ipynb"
   ]
  },
  {
   "cell_type": "code",
   "execution_count": 3,
   "metadata": {
    "collapsed": false
   },
   "outputs": [
    {
     "data": {
      "text/html": [
       "<div>\n",
       "<table border=\"1\" class=\"dataframe\">\n",
       "  <thead>\n",
       "    <tr style=\"text-align: right;\">\n",
       "      <th></th>\n",
       "      <th>Unnamed: 0</th>\n",
       "      <th>chr</th>\n",
       "      <th>start</th>\n",
       "      <th>end</th>\n",
       "    </tr>\n",
       "  </thead>\n",
       "  <tbody>\n",
       "    <tr>\n",
       "      <th>0</th>\n",
       "      <td>0</td>\n",
       "      <td>X</td>\n",
       "      <td>245978</td>\n",
       "      <td>254650</td>\n",
       "    </tr>\n",
       "    <tr>\n",
       "      <th>1</th>\n",
       "      <td>1</td>\n",
       "      <td>X</td>\n",
       "      <td>585081</td>\n",
       "      <td>620195</td>\n",
       "    </tr>\n",
       "    <tr>\n",
       "      <th>2</th>\n",
       "      <td>2</td>\n",
       "      <td>X</td>\n",
       "      <td>946662</td>\n",
       "      <td>947500</td>\n",
       "    </tr>\n",
       "    <tr>\n",
       "      <th>3</th>\n",
       "      <td>3</td>\n",
       "      <td>X</td>\n",
       "      <td>2278031</td>\n",
       "      <td>2293411</td>\n",
       "    </tr>\n",
       "    <tr>\n",
       "      <th>4</th>\n",
       "      <td>4</td>\n",
       "      <td>X</td>\n",
       "      <td>2622069</td>\n",
       "      <td>2624575</td>\n",
       "    </tr>\n",
       "  </tbody>\n",
       "</table>\n",
       "</div>"
      ],
      "text/plain": [
       "   Unnamed: 0 chr    start      end\n",
       "0           0   X   245978   254650\n",
       "1           1   X   585081   620195\n",
       "2           2   X   946662   947500\n",
       "3           3   X  2278031  2293411\n",
       "4           4   X  2622069  2624575"
      ]
     },
     "execution_count": 3,
     "metadata": {},
     "output_type": "execute_result"
    }
   ],
   "source": [
    "diff_expression_df=pd.read_csv(\"Differentially_expressed_genes_carcass_df\")\n",
    "diff_expression_df.head()"
   ]
  },
  {
   "cell_type": "markdown",
   "metadata": {},
   "source": [
    "Now we want to find which locations are differentially expressed"
   ]
  },
  {
   "cell_type": "code",
   "execution_count": 4,
   "metadata": {
    "collapsed": false
   },
   "outputs": [
    {
     "name": "stdout",
     "output_type": "stream",
     "text": [
      "0 1 2 3 4 5 6 7 8 9 10 11 12 13 14 15 16 17 18 19 20 21 22 23 24 25 26 27 28 29 30 31 32 33 34 35 36 37 38 39 40 41 42 43 44 45 46 47 48 49 50 51 52 53 54 55 56 57 58 59 60 61 62 63 64 65 66 67 68 69 70 71 72 73 74 75 76 77 78 79 80 81 82 83 84 85 86 87 88 89 90 91 92 93 94 95 96 97 98 99 100 101 102 103 104 105 106 107 108 109 110 111 112 113 114 115 116 117 118 119 120 121 122 123 124 125 126 127 128 129 130 131 132 133 134 135 136 137 138 139 140 141 142 143 144 145 146 147 148 149 150 151 152 153 154 155 156 157 158 159 160 161 162 163 164 165 166 167 168 169 170 171 172 173 174 175 176 177 178 179 180 181 182 183 184 185 186 187 188 189 190 191 192 193 194 195 196 197 198 199 200 201 202 203 204 205 206 207 208 209 210 211 212 213 214 215 216 217 218 219 220 221 222 223 224 225 226 227 228 229 230 231 232 233 234 235 236 237 238 239 240 241 242 243 244 245 246 247 248 249 250 251 252 253 254 255 256 257 258 259 260 261 262 263 264 265 266 267 268 269 270 271 272 273 274 275 276 277 278 279 280 281 282 283 284 285 286 287 288 289 290 291 292 293 294 295 296 297 298 299 300 301 302 303 304 305 306 307 308 309 310 311 312 313 314 315 316 317 318 319 320 321 322 323 324 325 326 327 328 329 330 331 332 333 334 335 336 337 338 339 340 341 342 343 344 345 346 347 348 349 350 351 352 353 354 355 356 357 358 359 360 361 362 363 364 365 366 367 368 369 370 371 372 373 374 375 376 377 378 379 380 381 382 383 384 385 386 387 388 389 390 391 392 393 394 395 396 397 398 399 400 401 402 403 404 405 406 407 408 409 410 411 412 413 414 415 416 417 418 419 420 421 422 423 424 425 426 427 428 429 430 431 432 433 434 435 436 437 438 439 440 441 442\n"
     ]
    }
   ],
   "source": [
    "locations_df[\"contains_diff_expressed\"]=[0 for ele in locations_df['chr']]\n",
    "for i,row1 in enumerate(diff_expression_df.iterrows()):\n",
    "    print i,\n",
    "    key = str(row1[1]['chr'])     \n",
    "    subset_chrom_df=locations_df[locations_df.chr == key]\n",
    "    len_subset_chrom_df = subset_chrom_df.shape[0]\n",
    "    for j in range(len_subset_chrom_df):\n",
    "        try:\n",
    "            if float(row1[1]['end']) >= float(subset_chrom_df.loc[subset_chrom_df.index[j],'end']) and float(row1[1]['start']) <= float(subset_chrom_df.loc[subset_chrom_df.index[j],'start']) :\n",
    "                #print list(row1[1]), subset_chrom_df.index[j]\n",
    "                \n",
    "                locations_df.ix[subset_chrom_df.index[j], 'contains_diff_expressed']=str(list(row1[1]))\n",
    "                    #diff_expression_df.ix[i,'chromatin_state'] = subset_chrom_df.ix[subset_chrom_df.index[j],'chromatin']\n",
    "        except:\n",
    "            pass"
   ]
  },
  {
   "cell_type": "code",
   "execution_count": 33,
   "metadata": {
    "collapsed": false
   },
   "outputs": [
    {
     "data": {
      "text/plain": [
       "chr                                               X\n",
       "start                                        250162\n",
       "end                                          250166\n",
       "contains_diff_expressed    [0, 'X', 245978, 254650]\n",
       "Name: 310020, dtype: object"
      ]
     },
     "execution_count": 33,
     "metadata": {},
     "output_type": "execute_result"
    }
   ],
   "source": [
    "locations_df.ix[310020,]"
   ]
  },
  {
   "cell_type": "code",
   "execution_count": 7,
   "metadata": {
    "collapsed": false
   },
   "outputs": [
    {
     "data": {
      "text/html": [
       "<div>\n",
       "<table border=\"1\" class=\"dataframe\">\n",
       "  <thead>\n",
       "    <tr style=\"text-align: right;\">\n",
       "      <th></th>\n",
       "      <th>chr</th>\n",
       "      <th>start</th>\n",
       "      <th>end</th>\n",
       "      <th>contains_diff_expressed</th>\n",
       "    </tr>\n",
       "  </thead>\n",
       "  <tbody>\n",
       "    <tr>\n",
       "      <th>373894</th>\n",
       "      <td>X</td>\n",
       "      <td>22534746</td>\n",
       "      <td>22534750</td>\n",
       "      <td>[298, 'X', 22529964, 22536371]</td>\n",
       "    </tr>\n",
       "    <tr>\n",
       "      <th>373895</th>\n",
       "      <td>X</td>\n",
       "      <td>22535316</td>\n",
       "      <td>22535320</td>\n",
       "      <td>[298, 'X', 22529964, 22536371]</td>\n",
       "    </tr>\n",
       "    <tr>\n",
       "      <th>373896</th>\n",
       "      <td>X</td>\n",
       "      <td>22535972</td>\n",
       "      <td>22535976</td>\n",
       "      <td>[298, 'X', 22529964, 22536371]</td>\n",
       "    </tr>\n",
       "    <tr>\n",
       "      <th>373897</th>\n",
       "      <td>X</td>\n",
       "      <td>22536070</td>\n",
       "      <td>22536074</td>\n",
       "      <td>[298, 'X', 22529964, 22536371]</td>\n",
       "    </tr>\n",
       "    <tr>\n",
       "      <th>373898</th>\n",
       "      <td>X</td>\n",
       "      <td>22536273</td>\n",
       "      <td>22536277</td>\n",
       "      <td>[298, 'X', 22529964, 22536371]</td>\n",
       "    </tr>\n",
       "  </tbody>\n",
       "</table>\n",
       "</div>"
      ],
      "text/plain": [
       "       chr     start       end         contains_diff_expressed\n",
       "373894   X  22534746  22534750  [298, 'X', 22529964, 22536371]\n",
       "373895   X  22535316  22535320  [298, 'X', 22529964, 22536371]\n",
       "373896   X  22535972  22535976  [298, 'X', 22529964, 22536371]\n",
       "373897   X  22536070  22536074  [298, 'X', 22529964, 22536371]\n",
       "373898   X  22536273  22536277  [298, 'X', 22529964, 22536371]"
      ]
     },
     "execution_count": 7,
     "metadata": {},
     "output_type": "execute_result"
    }
   ],
   "source": [
    "locations_df[locations_df.contains_diff_expressed!=0].tail()"
   ]
  },
  {
   "cell_type": "code",
   "execution_count": 8,
   "metadata": {
    "collapsed": true
   },
   "outputs": [],
   "source": [
    "#locations_df.to_csv(\"locations_df_with_diff_expressed\", sep=\";\")"
   ]
  },
  {
   "cell_type": "markdown",
   "metadata": {},
   "source": [
    "Now we want to find which locations are differentially bound"
   ]
  },
  {
   "cell_type": "code",
   "execution_count": 10,
   "metadata": {
    "collapsed": false
   },
   "outputs": [
    {
     "data": {
      "text/html": [
       "<div>\n",
       "<table border=\"1\" class=\"dataframe\">\n",
       "  <thead>\n",
       "    <tr style=\"text-align: right;\">\n",
       "      <th></th>\n",
       "      <th>C_D1</th>\n",
       "      <th>C_Lam</th>\n",
       "      <th>T_D1</th>\n",
       "      <th>T_Lam</th>\n",
       "      <th>W_D1</th>\n",
       "      <th>W_Lam</th>\n",
       "    </tr>\n",
       "  </thead>\n",
       "  <tbody>\n",
       "    <tr>\n",
       "      <th>0</th>\n",
       "      <td>NaN</td>\n",
       "      <td>NaN</td>\n",
       "      <td>NaN</td>\n",
       "      <td>NaN</td>\n",
       "      <td>NaN</td>\n",
       "      <td>NaN</td>\n",
       "    </tr>\n",
       "    <tr>\n",
       "      <th>1</th>\n",
       "      <td>NaN</td>\n",
       "      <td>NaN</td>\n",
       "      <td>NaN</td>\n",
       "      <td>NaN</td>\n",
       "      <td>NaN</td>\n",
       "      <td>NaN</td>\n",
       "    </tr>\n",
       "    <tr>\n",
       "      <th>2</th>\n",
       "      <td>NaN</td>\n",
       "      <td>NaN</td>\n",
       "      <td>NaN</td>\n",
       "      <td>NaN</td>\n",
       "      <td>NaN</td>\n",
       "      <td>NaN</td>\n",
       "    </tr>\n",
       "    <tr>\n",
       "      <th>3</th>\n",
       "      <td>NaN</td>\n",
       "      <td>NaN</td>\n",
       "      <td>NaN</td>\n",
       "      <td>NaN</td>\n",
       "      <td>NaN</td>\n",
       "      <td>NaN</td>\n",
       "    </tr>\n",
       "    <tr>\n",
       "      <th>4</th>\n",
       "      <td>NaN</td>\n",
       "      <td>NaN</td>\n",
       "      <td>NaN</td>\n",
       "      <td>NaN</td>\n",
       "      <td>NaN</td>\n",
       "      <td>NaN</td>\n",
       "    </tr>\n",
       "  </tbody>\n",
       "</table>\n",
       "</div>"
      ],
      "text/plain": [
       "   C_D1  C_Lam  T_D1  T_Lam  W_D1  W_Lam\n",
       "0   NaN    NaN   NaN    NaN   NaN    NaN\n",
       "1   NaN    NaN   NaN    NaN   NaN    NaN\n",
       "2   NaN    NaN   NaN    NaN   NaN    NaN\n",
       "3   NaN    NaN   NaN    NaN   NaN    NaN\n",
       "4   NaN    NaN   NaN    NaN   NaN    NaN"
      ]
     },
     "execution_count": 10,
     "metadata": {},
     "output_type": "execute_result"
    }
   ],
   "source": [
    "lpadj=[]\n",
    "lpval=[]\n",
    "for f1 in glob.glob(\"nbin*\"):\n",
    "    df_padj = pd.read_csv(f1).padj\n",
    "    df_pval = pd.read_csv(f1).pvalue\n",
    "    lpadj.append(df_padj)\n",
    "    lpval.append(df_pval)\n",
    "pval = pd.concat(lpval, axis = 1)\n",
    "padj = pd.concat(lpadj, axis = 1)\n",
    "\n",
    "pval.columns= map(lambda x: x[25:], glob.glob(\"nbin*\"))\n",
    "pval.head()\n",
    "\n",
    "padj.columns= map(lambda x: x[25:], glob.glob(\"nbin*\"))\n",
    "padj.head()"
   ]
  },
  {
   "cell_type": "code",
   "execution_count": 11,
   "metadata": {
    "collapsed": false
   },
   "outputs": [
    {
     "data": {
      "text/plain": [
       "388464"
      ]
     },
     "execution_count": 11,
     "metadata": {},
     "output_type": "execute_result"
    }
   ],
   "source": [
    "len(pval)"
   ]
  },
  {
   "cell_type": "code",
   "execution_count": 12,
   "metadata": {
    "collapsed": false
   },
   "outputs": [
    {
     "data": {
      "text/plain": [
       "388464"
      ]
     },
     "execution_count": 12,
     "metadata": {},
     "output_type": "execute_result"
    }
   ],
   "source": [
    "len(locations_df)"
   ]
  },
  {
   "cell_type": "code",
   "execution_count": 13,
   "metadata": {
    "collapsed": false
   },
   "outputs": [
    {
     "data": {
      "text/plain": [
       "C_D1     0.595955\n",
       "C_Lam    0.408171\n",
       "T_D1     0.382093\n",
       "T_Lam    0.493926\n",
       "W_D1     0.985443\n",
       "W_Lam    0.935777\n",
       "dtype: float64"
      ]
     },
     "execution_count": 13,
     "metadata": {},
     "output_type": "execute_result"
    }
   ],
   "source": [
    "padj[locations_df.contains_diff_expressed==0].mean()"
   ]
  },
  {
   "cell_type": "code",
   "execution_count": 14,
   "metadata": {
    "collapsed": false
   },
   "outputs": [
    {
     "data": {
      "text/plain": [
       "C_D1     0.610274\n",
       "C_Lam    0.386429\n",
       "T_D1     0.416556\n",
       "T_Lam    0.490505\n",
       "W_D1     0.986447\n",
       "W_Lam    0.946208\n",
       "dtype: float64"
      ]
     },
     "execution_count": 14,
     "metadata": {},
     "output_type": "execute_result"
    }
   ],
   "source": [
    "padj[locations_df.contains_diff_expressed!=0].mean()"
   ]
  },
  {
   "cell_type": "code",
   "execution_count": 16,
   "metadata": {
    "collapsed": false
   },
   "outputs": [
    {
     "data": {
      "text/plain": [
       "array([[<matplotlib.axes._subplots.AxesSubplot object at 0x10e3fccd0>,\n",
       "        <matplotlib.axes._subplots.AxesSubplot object at 0x10f0934d0>],\n",
       "       [<matplotlib.axes._subplots.AxesSubplot object at 0x10f2454d0>,\n",
       "        <matplotlib.axes._subplots.AxesSubplot object at 0x10f2c5390>],\n",
       "       [<matplotlib.axes._subplots.AxesSubplot object at 0x10bf10c10>,\n",
       "        <matplotlib.axes._subplots.AxesSubplot object at 0x10f372310>]], dtype=object)"
      ]
     },
     "execution_count": 16,
     "metadata": {},
     "output_type": "execute_result"
    },
    {
     "data": {
      "image/png": "[encoded data removed]",
      "text/plain": [
       "<matplotlib.figure.Figure at 0x10a391390>"
      ]
     },
     "metadata": {},
     "output_type": "display_data"
    },
    {
     "data": {
      "image/png": "[encoded data removed]",
      "text/plain": [
       "<matplotlib.figure.Figure at 0x10e3c87d0>"
      ]
     },
     "metadata": {},
     "output_type": "display_data"
    }
   ],
   "source": [
    "padj[locations_df.contains_diff_expressed==0].hist()\n",
    "padj[locations_df.contains_diff_expressed!=0].hist()"
   ]
  },
  {
   "cell_type": "code",
   "execution_count": null,
   "metadata": {
    "collapsed": true
   },
   "outputs": [],
   "source": []
  }
 ],
 "metadata": {
  "kernelspec": {
   "display_name": "Python 2",
   "language": "python",
   "name": "python2"
  },
  "language_info": {
   "codemirror_mode": {
    "name": "ipython",
    "version": 2
   },
   "file_extension": ".py",
   "mimetype": "text/x-python",
   "name": "python",
   "nbconvert_exporter": "python",
   "pygments_lexer": "ipython2",
   "version": "2.7.11"
  }
 },
 "nbformat": 4,
 "nbformat_minor": 0
}
