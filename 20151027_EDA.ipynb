{
 "cells": [
  {
   "cell_type": "markdown",
   "metadata": {},
   "source": [
    "# Exploratory data analysis\n",
    "\n",
    "##Kallisto\n",
    "transcripts per million output was obtained from cluster"
   ]
  },
  {
   "cell_type": "code",
   "execution_count": 8,
   "metadata": {
    "collapsed": true
   },
   "outputs": [],
   "source": [
    "%matplotlib inline\n",
    "import numpy as np\n",
    "import scipy as sp\n",
    "import matplotlib as mpl\n",
    "import matplotlib.cm as cm\n",
    "import matplotlib.pyplot as plt\n",
    "import pandas as pd\n",
    "pd.set_option('display.width', 500)\n",
    "pd.set_option('display.max_columns', 100)\n",
    "pd.set_option('display.notebook_repr_html', True)\n",
    "import seaborn as sns\n",
    "sns.set_style(\"whitegrid\")\n",
    "sns.set_context(\"poster\")\n",
    "from PIL import Image"
   ]
  },
  {
   "cell_type": "code",
   "execution_count": 65,
   "metadata": {
    "collapsed": true
   },
   "outputs": [],
   "source": [
    "c0=sns.color_palette()[0]\n",
    "c1=sns.color_palette()[1]\n",
    "c2=sns.color_palette()[2]"
   ]
  },
  {
   "cell_type": "code",
   "execution_count": 66,
   "metadata": {
    "collapsed": true
   },
   "outputs": [],
   "source": [
    "from matplotlib.colors import ListedColormap\n",
    "cmap_light = ListedColormap(['#FFAAAA', '#AAFFAA', '#AAAAFF'])\n",
    "cmap_bold = ListedColormap(['#FF0000', '#00FF00', '#0000FF'])\n",
    "cm = plt.cm.RdBu\n",
    "cm_bright = ListedColormap(['#FF0000', '#0000FF'])\n",
    "\n",
    "def points_plot(ax, Xtr, Xte, ytr, yte, clf, mesh=True, colorscale=cmap_light, cdiscrete=cmap_bold, alpha=0.1, psize=10, zfunc=False, predicted=False):\n",
    "    h = .02\n",
    "    X=np.concatenate((Xtr, Xte))\n",
    "    x_min, x_max = X[:, 0].min() - .5, X[:, 0].max() + .5\n",
    "    y_min, y_max = X[:, 1].min() - .5, X[:, 1].max() + .5\n",
    "    xx, yy = np.meshgrid(np.linspace(x_min, x_max, 100),\n",
    "                         np.linspace(y_min, y_max, 100))\n",
    "\n",
    "    #plt.figure(figsize=(10,6))\n",
    "    if zfunc:\n",
    "        p0 = clf.predict_proba(np.c_[xx.ravel(), yy.ravel()])[:, 0]\n",
    "        p1 = clf.predict_proba(np.c_[xx.ravel(), yy.ravel()])[:, 1]\n",
    "        Z=zfunc(p0, p1)\n",
    "    else:\n",
    "        Z = clf.predict(np.c_[xx.ravel(), yy.ravel()])\n",
    "    ZZ = Z.reshape(xx.shape)\n",
    "    if mesh:\n",
    "        plt.pcolormesh(xx, yy, ZZ, cmap=cmap_light, alpha=alpha, axes=ax)\n",
    "    if predicted:\n",
    "        showtr = clf.predict(Xtr)\n",
    "        showte = clf.predict(Xte)\n",
    "    else:\n",
    "        showtr = ytr\n",
    "        showte = yte\n",
    "    ax.scatter(Xtr[:, 0], Xtr[:, 1], c=showtr-1, cmap=cmap_bold, s=psize, alpha=alpha,edgecolor=\"k\")\n",
    "    # and testing points\n",
    "    ax.scatter(Xte[:, 0], Xte[:, 1], c=showte-1, cmap=cmap_bold, alpha=alpha, marker=\"s\", s=psize+10)\n",
    "    ax.set_xlim(xx.min(), xx.max())\n",
    "    ax.set_ylim(yy.min(), yy.max())\n",
    "    return ax,xx,yy"
   ]
  },
  {
   "cell_type": "code",
   "execution_count": 67,
   "metadata": {
    "collapsed": false
   },
   "outputs": [],
   "source": [
    "def points_plot_prob(ax, Xtr, Xte, ytr, yte, clf, colorscale=cmap_light, cdiscrete=cmap_bold, ccolor=cm, psize=10, alpha=0.1):\n",
    "    ax,xx,yy = points_plot(ax, Xtr, Xte, ytr, yte, clf, mesh=False, colorscale=colorscale, cdiscrete=cdiscrete, psize=psize, alpha=alpha, predicted=True) \n",
    "    Z = clf.predict_proba(np.c_[xx.ravel(), yy.ravel()])[:, 1]\n",
    "    Z = Z.reshape(xx.shape)\n",
    "    plt.contourf(xx, yy, Z, cmap=ccolor, alpha=.2, axes=ax)\n",
    "    cs2 = plt.contour(xx, yy, Z, cmap=ccolor, alpha=.6, axes=ax)\n",
    "    plt.clabel(cs2, fmt = '%2.1f', colors = 'k', fontsize=14, axes=ax)\n",
    "    return ax "
   ]
  },
  {
   "cell_type": "markdown",
   "metadata": {},
   "source": [
    "###Looking at a single file"
   ]
  },
  {
   "cell_type": "code",
   "execution_count": 10,
   "metadata": {
    "collapsed": false
   },
   "outputs": [],
   "source": [
    "Fr188_C1=pd.read_csv(\"/Users/leandraking/Desktop/SacktonProject/KallistoFiles/Fr188_C1_TTAGGC/abundance.tsv\",sep=\"\\t\")\n"
   ]
  },
  {
   "cell_type": "code",
   "execution_count": 11,
   "metadata": {
    "collapsed": false
   },
   "outputs": [
    {
     "data": {
      "text/html": [
       "<div>\n",
       "<table border=\"1\" class=\"dataframe\">\n",
       "  <thead>\n",
       "    <tr style=\"text-align: right;\">\n",
       "      <th></th>\n",
       "      <th>target_id</th>\n",
       "      <th>length</th>\n",
       "      <th>eff_length</th>\n",
       "      <th>est_counts</th>\n",
       "      <th>tpm</th>\n",
       "    </tr>\n",
       "  </thead>\n",
       "  <tbody>\n",
       "    <tr>\n",
       "      <th>0</th>\n",
       "      <td>FBtr0071764</td>\n",
       "      <td>5173</td>\n",
       "      <td>4974</td>\n",
       "      <td>33.8472</td>\n",
       "      <td>0.504464</td>\n",
       "    </tr>\n",
       "    <tr>\n",
       "      <th>1</th>\n",
       "      <td>FBtr0100521</td>\n",
       "      <td>4665</td>\n",
       "      <td>4466</td>\n",
       "      <td>179.1580</td>\n",
       "      <td>2.973920</td>\n",
       "    </tr>\n",
       "    <tr>\n",
       "      <th>2</th>\n",
       "      <td>FBtr0071763</td>\n",
       "      <td>4847</td>\n",
       "      <td>4648</td>\n",
       "      <td>142.0220</td>\n",
       "      <td>2.265180</td>\n",
       "    </tr>\n",
       "    <tr>\n",
       "      <th>3</th>\n",
       "      <td>FBtr0342981</td>\n",
       "      <td>3897</td>\n",
       "      <td>3698</td>\n",
       "      <td>36.9729</td>\n",
       "      <td>0.741191</td>\n",
       "    </tr>\n",
       "    <tr>\n",
       "      <th>4</th>\n",
       "      <td>FBtr0083388</td>\n",
       "      <td>3935</td>\n",
       "      <td>3736</td>\n",
       "      <td>103.4280</td>\n",
       "      <td>2.052320</td>\n",
       "    </tr>\n",
       "  </tbody>\n",
       "</table>\n",
       "</div>"
      ],
      "text/plain": [
       "     target_id  length  eff_length  est_counts       tpm\n",
       "0  FBtr0071764    5173        4974     33.8472  0.504464\n",
       "1  FBtr0100521    4665        4466    179.1580  2.973920\n",
       "2  FBtr0071763    4847        4648    142.0220  2.265180\n",
       "3  FBtr0342981    3897        3698     36.9729  0.741191\n",
       "4  FBtr0083388    3935        3736    103.4280  2.052320"
      ]
     },
     "execution_count": 11,
     "metadata": {},
     "output_type": "execute_result"
    }
   ],
   "source": [
    "Fr188_C1.head()"
   ]
  },
  {
   "cell_type": "markdown",
   "metadata": {},
   "source": [
    "Checking that tpm sum up to 1000000"
   ]
  },
  {
   "cell_type": "code",
   "execution_count": 25,
   "metadata": {
    "collapsed": false
   },
   "outputs": [
    {
     "data": {
      "text/plain": [
       "(999999.92981562519, 30446)"
      ]
     },
     "execution_count": 25,
     "metadata": {},
     "output_type": "execute_result"
    }
   ],
   "source": [
    "sum(Fr188_C1.tpm) , len(Fr188_C1)"
   ]
  },
  {
   "cell_type": "code",
   "execution_count": 28,
   "metadata": {
    "collapsed": false
   },
   "outputs": [
    {
     "data": {
      "image/png": "[encoded data removed]",
      "text/plain": [
       "<matplotlib.figure.Figure at 0x10cbd45d0>"
      ]
     },
     "metadata": {},
     "output_type": "display_data"
    }
   ],
   "source": [
    "plt.hist(np.log(Fr188_C1[Fr188_C1.tpm>0].tpm), bins=100)\n",
    "plt.title(\"Hist of log transcripts per million Fr188_C1 (all zeros dropped)\")\n",
    "plt.show()"
   ]
  },
  {
   "cell_type": "markdown",
   "metadata": {},
   "source": [
    "###Looking at the output of all Fr files"
   ]
  },
  {
   "cell_type": "code",
   "execution_count": 93,
   "metadata": {
    "collapsed": false
   },
   "outputs": [],
   "source": [
    "#Create a dataframe with tpm data from all files\n",
    "import glob\n",
    "import string\n",
    "files_dict={}\n",
    "for fl in glob.glob(\"./KallistoFiles/*\"):\n",
    "    a= string.join(fl.split('/')[2].split('_')[:2], sep=\"_\")\n",
    "    if a:\n",
    "        files_dict[a]=pd.read_csv(fl+\"/abundance.tsv\", sep=\"\\t\").tpm\n",
    "\n",
    "df=pd.DataFrame(files_dict)"
   ]
  },
  {
   "cell_type": "code",
   "execution_count": 63,
   "metadata": {
    "collapsed": false
   },
   "outputs": [
    {
     "data": {
      "text/html": [
       "<div>\n",
       "<table border=\"1\" class=\"dataframe\">\n",
       "  <thead>\n",
       "    <tr style=\"text-align: right;\">\n",
       "      <th></th>\n",
       "      <th>Fr188_C1</th>\n",
       "      <th>Fr188_C2</th>\n",
       "      <th>Fr188_C3</th>\n",
       "      <th>Fr188_T3</th>\n",
       "      <th>Fr188_T5</th>\n",
       "      <th>Fr188_T6</th>\n",
       "      <th>Fr89_C1</th>\n",
       "      <th>Fr89_C2</th>\n",
       "      <th>Fr89_C4</th>\n",
       "      <th>Fr89_T3</th>\n",
       "      <th>Fr89_T4</th>\n",
       "      <th>Fr89_T5</th>\n",
       "    </tr>\n",
       "  </thead>\n",
       "  <tbody>\n",
       "    <tr>\n",
       "      <th>0</th>\n",
       "      <td>0.504464</td>\n",
       "      <td>1.284890</td>\n",
       "      <td>0.614044</td>\n",
       "      <td>0.00000</td>\n",
       "      <td>0.000000</td>\n",
       "      <td>0.000000</td>\n",
       "      <td>0.440369</td>\n",
       "      <td>0.691164</td>\n",
       "      <td>0.262204</td>\n",
       "      <td>0.000000</td>\n",
       "      <td>0.147861</td>\n",
       "      <td>0.00000</td>\n",
       "    </tr>\n",
       "    <tr>\n",
       "      <th>1</th>\n",
       "      <td>2.973920</td>\n",
       "      <td>4.151500</td>\n",
       "      <td>5.322480</td>\n",
       "      <td>3.70415</td>\n",
       "      <td>5.352650</td>\n",
       "      <td>3.635080</td>\n",
       "      <td>10.496100</td>\n",
       "      <td>8.771190</td>\n",
       "      <td>1.165150</td>\n",
       "      <td>4.027210</td>\n",
       "      <td>3.819260</td>\n",
       "      <td>5.20589</td>\n",
       "    </tr>\n",
       "    <tr>\n",
       "      <th>2</th>\n",
       "      <td>2.265180</td>\n",
       "      <td>1.434560</td>\n",
       "      <td>0.000000</td>\n",
       "      <td>0.00000</td>\n",
       "      <td>0.000000</td>\n",
       "      <td>0.461069</td>\n",
       "      <td>1.724620</td>\n",
       "      <td>0.563522</td>\n",
       "      <td>5.122970</td>\n",
       "      <td>0.000000</td>\n",
       "      <td>0.000000</td>\n",
       "      <td>0.00000</td>\n",
       "    </tr>\n",
       "    <tr>\n",
       "      <th>3</th>\n",
       "      <td>0.741191</td>\n",
       "      <td>0.350953</td>\n",
       "      <td>0.000484</td>\n",
       "      <td>0.00000</td>\n",
       "      <td>0.445147</td>\n",
       "      <td>0.000000</td>\n",
       "      <td>0.923483</td>\n",
       "      <td>0.000000</td>\n",
       "      <td>1.166280</td>\n",
       "      <td>0.158618</td>\n",
       "      <td>0.428323</td>\n",
       "      <td>0.00000</td>\n",
       "    </tr>\n",
       "    <tr>\n",
       "      <th>4</th>\n",
       "      <td>2.052320</td>\n",
       "      <td>0.690347</td>\n",
       "      <td>1.806490</td>\n",
       "      <td>3.43484</td>\n",
       "      <td>4.507330</td>\n",
       "      <td>4.265000</td>\n",
       "      <td>2.172480</td>\n",
       "      <td>0.869259</td>\n",
       "      <td>1.108070</td>\n",
       "      <td>3.678080</td>\n",
       "      <td>3.580640</td>\n",
       "      <td>3.87075</td>\n",
       "    </tr>\n",
       "  </tbody>\n",
       "</table>\n",
       "</div>"
      ],
      "text/plain": [
       "   Fr188_C1  Fr188_C2  Fr188_C3  Fr188_T3  Fr188_T5  Fr188_T6    Fr89_C1   Fr89_C2   Fr89_C4   Fr89_T3   Fr89_T4  Fr89_T5\n",
       "0  0.504464  1.284890  0.614044   0.00000  0.000000  0.000000   0.440369  0.691164  0.262204  0.000000  0.147861  0.00000\n",
       "1  2.973920  4.151500  5.322480   3.70415  5.352650  3.635080  10.496100  8.771190  1.165150  4.027210  3.819260  5.20589\n",
       "2  2.265180  1.434560  0.000000   0.00000  0.000000  0.461069   1.724620  0.563522  5.122970  0.000000  0.000000  0.00000\n",
       "3  0.741191  0.350953  0.000484   0.00000  0.445147  0.000000   0.923483  0.000000  1.166280  0.158618  0.428323  0.00000\n",
       "4  2.052320  0.690347  1.806490   3.43484  4.507330  4.265000   2.172480  0.869259  1.108070  3.678080  3.580640  3.87075"
      ]
     },
     "execution_count": 63,
     "metadata": {},
     "output_type": "execute_result"
    }
   ],
   "source": [
    "df.head()"
   ]
  },
  {
   "cell_type": "markdown",
   "metadata": {},
   "source": [
    "###Do a PCA"
   ]
  },
  {
   "cell_type": "code",
   "execution_count": 83,
   "metadata": {
    "collapsed": false
   },
   "outputs": [],
   "source": [
    "from sklearn.decomposition import PCA\n",
    "pca = PCA(n_components=20)\n",
    "X = pca.fit_transform(df.transpose())"
   ]
  },
  {
   "cell_type": "code",
   "execution_count": 84,
   "metadata": {
    "collapsed": false
   },
   "outputs": [
    {
     "name": "stdout",
     "output_type": "stream",
     "text": [
      "1.0\n"
     ]
    }
   ],
   "source": [
    "print pca.explained_variance_ratio_.sum()"
   ]
  },
  {
   "cell_type": "code",
   "execution_count": 85,
   "metadata": {
    "collapsed": false
   },
   "outputs": [
    {
     "data": {
      "text/plain": [
       "array([  8.72014067e+01,   1.02350068e+01,   1.25948217e+00,\n",
       "         5.18700313e-01,   3.06651380e-01,   1.96562562e-01,\n",
       "         1.01826493e-01,   8.15627742e-02,   4.48768320e-02,\n",
       "         3.33743556e-02,   2.05496063e-02,   5.04811927e-28])"
      ]
     },
     "execution_count": 85,
     "metadata": {},
     "output_type": "execute_result"
    }
   ],
   "source": [
    "pca.explained_variance_ratio_*100"
   ]
  },
  {
   "cell_type": "code",
   "execution_count": 104,
   "metadata": {
    "collapsed": false
   },
   "outputs": [
    {
     "data": {
      "text/html": [
       "<div>\n",
       "<table border=\"1\" class=\"dataframe\">\n",
       "  <thead>\n",
       "    <tr style=\"text-align: right;\">\n",
       "      <th></th>\n",
       "      <th>TorC</th>\n",
       "      <th>lines</th>\n",
       "      <th>pc1</th>\n",
       "      <th>pc2</th>\n",
       "      <th>pc3</th>\n",
       "      <th>pc4</th>\n",
       "      <th>pc5</th>\n",
       "      <th>pc6</th>\n",
       "      <th>pc7</th>\n",
       "      <th>pc8</th>\n",
       "      <th>pc9</th>\n",
       "      <th>pc10</th>\n",
       "      <th>pc11</th>\n",
       "      <th>pc12</th>\n",
       "    </tr>\n",
       "  </thead>\n",
       "  <tbody>\n",
       "    <tr>\n",
       "      <th>0</th>\n",
       "      <td>C</td>\n",
       "      <td>188</td>\n",
       "      <td>-79193.214693</td>\n",
       "      <td>-1869.039073</td>\n",
       "      <td>-20198.279205</td>\n",
       "      <td>-4840.038031</td>\n",
       "      <td>-1502.600734</td>\n",
       "      <td>-1314.666847</td>\n",
       "      <td>-5620.984049</td>\n",
       "      <td>-1962.825696</td>\n",
       "      <td>756.620789</td>\n",
       "      <td>-220.857138</td>\n",
       "      <td>-70.815825</td>\n",
       "      <td>1.951069e-10</td>\n",
       "    </tr>\n",
       "    <tr>\n",
       "      <th>1</th>\n",
       "      <td>C</td>\n",
       "      <td>188</td>\n",
       "      <td>-80787.556631</td>\n",
       "      <td>-3632.448600</td>\n",
       "      <td>-6525.944989</td>\n",
       "      <td>5666.852563</td>\n",
       "      <td>219.639371</td>\n",
       "      <td>948.966603</td>\n",
       "      <td>1601.991159</td>\n",
       "      <td>1519.193875</td>\n",
       "      <td>-3372.870582</td>\n",
       "      <td>426.330815</td>\n",
       "      <td>2644.981454</td>\n",
       "      <td>1.951069e-10</td>\n",
       "    </tr>\n",
       "    <tr>\n",
       "      <th>2</th>\n",
       "      <td>C</td>\n",
       "      <td>188</td>\n",
       "      <td>-78364.267835</td>\n",
       "      <td>845.358007</td>\n",
       "      <td>17108.301469</td>\n",
       "      <td>5460.000206</td>\n",
       "      <td>3062.235393</td>\n",
       "      <td>2966.580651</td>\n",
       "      <td>-4244.781432</td>\n",
       "      <td>-304.071936</td>\n",
       "      <td>-1952.804660</td>\n",
       "      <td>93.070667</td>\n",
       "      <td>-1637.316743</td>\n",
       "      <td>1.951069e-10</td>\n",
       "    </tr>\n",
       "    <tr>\n",
       "      <th>3</th>\n",
       "      <td>T</td>\n",
       "      <td>188</td>\n",
       "      <td>64447.225289</td>\n",
       "      <td>86787.400869</td>\n",
       "      <td>110.692736</td>\n",
       "      <td>212.107206</td>\n",
       "      <td>-2118.874915</td>\n",
       "      <td>1034.572296</td>\n",
       "      <td>-201.047499</td>\n",
       "      <td>824.567402</td>\n",
       "      <td>247.963358</td>\n",
       "      <td>-679.196498</td>\n",
       "      <td>194.208515</td>\n",
       "      <td>1.951069e-10</td>\n",
       "    </tr>\n",
       "    <tr>\n",
       "      <th>4</th>\n",
       "      <td>T</td>\n",
       "      <td>188</td>\n",
       "      <td>77914.303259</td>\n",
       "      <td>-18276.520058</td>\n",
       "      <td>2337.500160</td>\n",
       "      <td>3090.391919</td>\n",
       "      <td>-5488.546355</td>\n",
       "      <td>-7004.134496</td>\n",
       "      <td>846.154945</td>\n",
       "      <td>-1763.628345</td>\n",
       "      <td>-1842.991786</td>\n",
       "      <td>-2696.553199</td>\n",
       "      <td>-607.159028</td>\n",
       "      <td>1.951069e-10</td>\n",
       "    </tr>\n",
       "  </tbody>\n",
       "</table>\n",
       "</div>"
      ],
      "text/plain": [
       "  TorC lines           pc1           pc2           pc3          pc4          pc5          pc6          pc7          pc8          pc9         pc10         pc11          pc12\n",
       "0    C   188 -79193.214693  -1869.039073 -20198.279205 -4840.038031 -1502.600734 -1314.666847 -5620.984049 -1962.825696   756.620789  -220.857138   -70.815825  1.951069e-10\n",
       "1    C   188 -80787.556631  -3632.448600  -6525.944989  5666.852563   219.639371   948.966603  1601.991159  1519.193875 -3372.870582   426.330815  2644.981454  1.951069e-10\n",
       "2    C   188 -78364.267835    845.358007  17108.301469  5460.000206  3062.235393  2966.580651 -4244.781432  -304.071936 -1952.804660    93.070667 -1637.316743  1.951069e-10\n",
       "3    T   188  64447.225289  86787.400869    110.692736   212.107206 -2118.874915  1034.572296  -201.047499   824.567402   247.963358  -679.196498   194.208515  1.951069e-10\n",
       "4    T   188  77914.303259 -18276.520058   2337.500160  3090.391919 -5488.546355 -7004.134496   846.154945 -1763.628345 -1842.991786 -2696.553199  -607.159028  1.951069e-10"
      ]
     },
     "execution_count": 104,
     "metadata": {},
     "output_type": "execute_result"
    }
   ],
   "source": [
    "#Labeling with either a C or T\n",
    "TorClabels=[a.split('_')[1][0] for a in df.columns]\n",
    "lineLabels=[filter(str.isdigit,a.split('_')[0]) for a in df.columns]\n",
    "df2 = pd.DataFrame({\"TorC\":TorClabels, \"lines\":lineLabels})\n",
    "for i in range(pca.explained_variance_ratio_.shape[0]):\n",
    "    df2[\"pc%i\" % (i+1)] = X[:,i]\n",
    "df2.head()\n"
   ]
  },
  {
   "cell_type": "code",
   "execution_count": 108,
   "metadata": {
    "collapsed": false
   },
   "outputs": [
    {
     "data": {
      "image/png": "[encoded data removed]",
      "text/plain": [
       "<matplotlib.figure.Figure at 0x10e21db10>"
      ]
     },
     "metadata": {},
     "output_type": "display_data"
    },
    {
     "data": {
      "image/png": "[encoded data removed]",
      "text/plain": [
       "<matplotlib.figure.Figure at 0x1073800d0>"
      ]
     },
     "metadata": {},
     "output_type": "display_data"
    }
   ],
   "source": [
    "colors = [c0, c2]\n",
    "for label, color in zip(df2['TorC'].unique(), colors):\n",
    "    mask = df2['TorC']==label\n",
    "    plt.scatter(df2[mask]['pc1'], df2[mask]['pc2'], c=color, label=label)\n",
    "plt.legend()\n",
    "plt.title(\"Carcass versus Testes PCA plot for French line\")\n",
    "plt.xlabel(\"PCA 1\")\n",
    "plt.ylabel(\"PCA 2\")\n",
    "plt.show()\n",
    "\n",
    "plt.figure()\n",
    "for label, color in zip(df2['lines'].unique(), colors):\n",
    "    mask = df2['lines']==label\n",
    "    plt.scatter(df2[mask]['pc1'], df2[mask]['pc2'], c=color, label=label)\n",
    "plt.legend()\n",
    "plt.title(\"Different Y lines PCA plot for French line\")\n",
    "plt.xlabel(\"PCA 1\")\n",
    "plt.ylabel(\"PCA 2\")\n",
    "plt.show()"
   ]
  },
  {
   "cell_type": "markdown",
   "metadata": {},
   "source": [
    "Good news!  Carcass points cluster together.  Lines do not cluster together"
   ]
  },
  {
   "cell_type": "code",
   "execution_count": null,
   "metadata": {
    "collapsed": true
   },
   "outputs": [],
   "source": []
  }
 ],
 "metadata": {
  "kernelspec": {
   "display_name": "Python 2",
   "language": "python",
   "name": "python2"
  },
  "language_info": {
   "codemirror_mode": {
    "name": "ipython",
    "version": 2
   },
   "file_extension": ".py",
   "mimetype": "text/x-python",
   "name": "python",
   "nbconvert_exporter": "python",
   "pygments_lexer": "ipython2",
   "version": "2.7.10"
  }
 },
 "nbformat": 4,
 "nbformat_minor": 0
}
