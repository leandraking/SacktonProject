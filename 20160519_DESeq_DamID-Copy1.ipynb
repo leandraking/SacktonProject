{
 "cells": [
  {
   "cell_type": "markdown",
   "metadata": {},
   "source": [
    "DESeq analysis of DamID data, to see what sites are differentially methylated."
   ]
  },
  {
   "cell_type": "code",
   "execution_count": 49,
   "metadata": {
    "collapsed": false
   },
   "outputs": [],
   "source": [
    "library(DESeq2)"
   ]
  },
  {
   "cell_type": "markdown",
   "metadata": {},
   "source": [
    "Load the files, see what they look like"
   ]
  },
  {
   "cell_type": "code",
   "execution_count": 62,
   "metadata": {
    "collapsed": true
   },
   "outputs": [],
   "source": [
    "#This file is the AdRp file, with columns with counts less than 500000 removed, and with rows with rDNA or MtDNA removed\n",
    "damid<-read.csv(\"AdRp_noMtDNA\")\n",
    "loc<-read.csv(\"Locations\")\n",
    "metadata<-read.csv(\"file_names\")"
   ]
  },
  {
   "cell_type": "code",
   "execution_count": 51,
   "metadata": {
    "collapsed": false
   },
   "outputs": [
    {
     "data": {
      "text/html": [
       "<table>\n",
       "<thead><tr><th></th><th scope=col>X</th><th scope=col>X0</th><th scope=col>X1</th><th scope=col>X2</th></tr></thead>\n",
       "<tbody>\n",
       "\t<tr><th scope=row>1</th><td>0</td><td>211000022278049</td><td>390</td><td>394</td></tr>\n",
       "\t<tr><th scope=row>2</th><td>1</td><td>211000022278049</td><td>537</td><td>541</td></tr>\n",
       "\t<tr><th scope=row>3</th><td>2</td><td>211000022278049</td><td>573</td><td>577</td></tr>\n",
       "\t<tr><th scope=row>4</th><td>3</td><td>211000022278049</td><td>837</td><td>841</td></tr>\n",
       "\t<tr><th scope=row>5</th><td>4</td><td>211000022278049</td><td>1613</td><td>1617</td></tr>\n",
       "\t<tr><th scope=row>6</th><td>5</td><td>211000022278049</td><td>1618</td><td>1622</td></tr>\n",
       "</tbody>\n",
       "</table>\n"
      ],
      "text/latex": [
       "\\begin{tabular}{r|llll}\n",
       "  & X & X0 & X1 & X2\\\\\n",
       "\\hline\n",
       "\t1 & 0 & 211000022278049 & 390 & 394\\\\\n",
       "\t2 & 1 & 211000022278049 & 537 & 541\\\\\n",
       "\t3 & 2 & 211000022278049 & 573 & 577\\\\\n",
       "\t4 & 3 & 211000022278049 & 837 & 841\\\\\n",
       "\t5 & 4 & 211000022278049 & 1613 & 1617\\\\\n",
       "\t6 & 5 & 211000022278049 & 1618 & 1622\\\\\n",
       "\\end{tabular}\n"
      ],
      "text/plain": [
       "  X              X0   X1   X2\n",
       "1 0 211000022278049  390  394\n",
       "2 1 211000022278049  537  541\n",
       "3 2 211000022278049  573  577\n",
       "4 3 211000022278049  837  841\n",
       "5 4 211000022278049 1613 1617\n",
       "6 5 211000022278049 1618 1622"
      ]
     },
     "execution_count": 51,
     "metadata": {},
     "output_type": "execute_result"
    },
    {
     "data": {
      "text/html": [
       "4"
      ],
      "text/latex": [
       "4"
      ],
      "text/markdown": [
       "4"
      ],
      "text/plain": [
       "[1] 4"
      ]
     },
     "execution_count": 51,
     "metadata": {},
     "output_type": "execute_result"
    }
   ],
   "source": [
    "head(loc)\n",
    "length(loc)"
   ]
  },
  {
   "cell_type": "markdown",
   "metadata": {},
   "source": [
    "have new locations list"
   ]
  },
  {
   "cell_type": "code",
   "execution_count": 52,
   "metadata": {
    "collapsed": false
   },
   "outputs": [],
   "source": [
    "loc=paste(loc$X0, \":\", loc$X1, \"-\", loc$X2, sep=\"\")"
   ]
  },
  {
   "cell_type": "code",
   "execution_count": 53,
   "metadata": {
    "collapsed": false
   },
   "outputs": [
    {
     "data": {
      "text/html": [
       "<ol class=list-inline>\n",
       "\t<li>'211000022278049:390-394'</li>\n",
       "\t<li>'211000022278049:537-541'</li>\n",
       "\t<li>'211000022278049:573-577'</li>\n",
       "\t<li>'211000022278049:837-841'</li>\n",
       "\t<li>'211000022278049:1613-1617'</li>\n",
       "\t<li>'211000022278049:1618-1622'</li>\n",
       "</ol>\n"
      ],
      "text/latex": [
       "\\begin{enumerate*}\n",
       "\\item '211000022278049:390-394'\n",
       "\\item '211000022278049:537-541'\n",
       "\\item '211000022278049:573-577'\n",
       "\\item '211000022278049:837-841'\n",
       "\\item '211000022278049:1613-1617'\n",
       "\\item '211000022278049:1618-1622'\n",
       "\\end{enumerate*}\n"
      ],
      "text/markdown": [
       "1. '211000022278049:390-394'\n",
       "2. '211000022278049:537-541'\n",
       "3. '211000022278049:573-577'\n",
       "4. '211000022278049:837-841'\n",
       "5. '211000022278049:1613-1617'\n",
       "6. '211000022278049:1618-1622'\n",
       "\n",
       "\n"
      ],
      "text/plain": [
       "[1] \"211000022278049:390-394\"   \"211000022278049:537-541\"  \n",
       "[3] \"211000022278049:573-577\"   \"211000022278049:837-841\"  \n",
       "[5] \"211000022278049:1613-1617\" \"211000022278049:1618-1622\""
      ]
     },
     "execution_count": 53,
     "metadata": {},
     "output_type": "execute_result"
    }
   ],
   "source": [
    "head(loc)"
   ]
  },
  {
   "cell_type": "code",
   "execution_count": 54,
   "metadata": {
    "collapsed": false
   },
   "outputs": [
    {
     "data": {
      "text/html": [
       "<table>\n",
       "<thead><tr><th></th><th scope=col>X</th><th scope=col>Rep</th><th scope=col>Tissue</th><th scope=col>Country</th><th scope=col>Line</th><th scope=col>NotSureProtein</th><th scope=col>protein</th></tr></thead>\n",
       "<tbody>\n",
       "\t<tr><th scope=row>1</th><td>damID-Dam_Fr188_C1</td><td>1</td><td>C</td><td>Fr</td><td>188</td><td>damID</td><td>Dam</td></tr>\n",
       "\t<tr><th scope=row>2</th><td>damID-Dam_Fr188_C2</td><td>2</td><td>C</td><td>Fr</td><td>188</td><td>damID</td><td>Dam</td></tr>\n",
       "\t<tr><th scope=row>3</th><td>damID-Dam_Fr188_C3</td><td>3</td><td>C</td><td>Fr</td><td>188</td><td>damID</td><td>Dam</td></tr>\n",
       "\t<tr><th scope=row>4</th><td>damID-Dam_Fr188_C4</td><td>4</td><td>C</td><td>Fr</td><td>188</td><td>damID</td><td>Dam</td></tr>\n",
       "\t<tr><th scope=row>5</th><td>damID-Dam_Fr188_T3</td><td>3</td><td>T</td><td>Fr</td><td>188</td><td>damID</td><td>Dam</td></tr>\n",
       "\t<tr><th scope=row>6</th><td>damID-Dam_Fr188_T4</td><td>4</td><td>T</td><td>Fr</td><td>188</td><td>damID</td><td>Dam</td></tr>\n",
       "</tbody>\n",
       "</table>\n"
      ],
      "text/latex": [
       "\\begin{tabular}{r|lllllll}\n",
       "  & X & Rep & Tissue & Country & Line & NotSureProtein & protein\\\\\n",
       "\\hline\n",
       "\t1 & damID-Dam_Fr188_C1 & 1 & C & Fr & 188 & damID & Dam\\\\\n",
       "\t2 & damID-Dam_Fr188_C2 & 2 & C & Fr & 188 & damID & Dam\\\\\n",
       "\t3 & damID-Dam_Fr188_C3 & 3 & C & Fr & 188 & damID & Dam\\\\\n",
       "\t4 & damID-Dam_Fr188_C4 & 4 & C & Fr & 188 & damID & Dam\\\\\n",
       "\t5 & damID-Dam_Fr188_T3 & 3 & T & Fr & 188 & damID & Dam\\\\\n",
       "\t6 & damID-Dam_Fr188_T4 & 4 & T & Fr & 188 & damID & Dam\\\\\n",
       "\\end{tabular}\n"
      ],
      "text/plain": [
       "                   X Rep Tissue Country Line NotSureProtein protein\n",
       "1 damID-Dam_Fr188_C1   1      C      Fr  188          damID     Dam\n",
       "2 damID-Dam_Fr188_C2   2      C      Fr  188          damID     Dam\n",
       "3 damID-Dam_Fr188_C3   3      C      Fr  188          damID     Dam\n",
       "4 damID-Dam_Fr188_C4   4      C      Fr  188          damID     Dam\n",
       "5 damID-Dam_Fr188_T3   3      T      Fr  188          damID     Dam\n",
       "6 damID-Dam_Fr188_T4   4      T      Fr  188          damID     Dam"
      ]
     },
     "execution_count": 54,
     "metadata": {},
     "output_type": "execute_result"
    }
   ],
   "source": [
    "head(metadata)"
   ]
  },
  {
   "cell_type": "code",
   "execution_count": 55,
   "metadata": {
    "collapsed": false
   },
   "outputs": [
    {
     "data": {
      "text/html": [
       "<ol class=list-inline>\n",
       "\t<li>1</li>\n",
       "\t<li>2</li>\n",
       "\t<li>3</li>\n",
       "\t<li>4</li>\n",
       "\t<li>NA</li>\n",
       "</ol>\n"
      ],
      "text/latex": [
       "\\begin{enumerate*}\n",
       "\\item 1\n",
       "\\item 2\n",
       "\\item 3\n",
       "\\item 4\n",
       "\\item NA\n",
       "\\end{enumerate*}\n"
      ],
      "text/markdown": [
       "1. 1\n",
       "2. 2\n",
       "3. 3\n",
       "4. 4\n",
       "5. NA\n",
       "\n",
       "\n"
      ],
      "text/plain": [
       "[1]  1  2  3  4 NA"
      ]
     },
     "execution_count": 55,
     "metadata": {},
     "output_type": "execute_result"
    },
    {
     "data": {
      "text/html": [
       "<ol class=list-inline>\n",
       "\t<li>C</li>\n",
       "\t<li>T</li>\n",
       "\t<li>W</li>\n",
       "\t<li>w</li>\n",
       "</ol>\n"
      ],
      "text/latex": [
       "\\begin{enumerate*}\n",
       "\\item C\n",
       "\\item T\n",
       "\\item W\n",
       "\\item w\n",
       "\\end{enumerate*}\n"
      ],
      "text/markdown": [
       "1. C\n",
       "2. T\n",
       "3. W\n",
       "4. w\n",
       "\n",
       "\n"
      ],
      "text/plain": [
       "[1] C T W w\n",
       "Levels: C T w W"
      ]
     },
     "execution_count": 55,
     "metadata": {},
     "output_type": "execute_result"
    },
    {
     "data": {
      "text/html": [
       "<ol class=list-inline>\n",
       "\t<li>Fr</li>\n",
       "\t<li>Zi</li>\n",
       "</ol>\n"
      ],
      "text/latex": [
       "\\begin{enumerate*}\n",
       "\\item Fr\n",
       "\\item Zi\n",
       "\\end{enumerate*}\n"
      ],
      "text/markdown": [
       "1. Fr\n",
       "2. Zi\n",
       "\n",
       "\n"
      ],
      "text/plain": [
       "[1] Fr Zi\n",
       "Levels: Fr Zi"
      ]
     },
     "execution_count": 55,
     "metadata": {},
     "output_type": "execute_result"
    },
    {
     "data": {
      "text/html": [
       "<ol class=list-inline>\n",
       "\t<li>188</li>\n",
       "\t<li>257</li>\n",
       "\t<li>275</li>\n",
       "\t<li>89</li>\n",
       "\t<li>238</li>\n",
       "</ol>\n"
      ],
      "text/latex": [
       "\\begin{enumerate*}\n",
       "\\item 188\n",
       "\\item 257\n",
       "\\item 275\n",
       "\\item 89\n",
       "\\item 238\n",
       "\\end{enumerate*}\n"
      ],
      "text/markdown": [
       "1. 188\n",
       "2. 257\n",
       "3. 275\n",
       "4. 89\n",
       "5. 238\n",
       "\n",
       "\n"
      ],
      "text/plain": [
       "[1] 188 257 275  89 238"
      ]
     },
     "execution_count": 55,
     "metadata": {},
     "output_type": "execute_result"
    },
    {
     "data": {
      "text/html": [
       "<ol class=list-inline>\n",
       "\t<li>damID</li>\n",
       "\t<li>damID2</li>\n",
       "\t<li>damID3</li>\n",
       "</ol>\n"
      ],
      "text/latex": [
       "\\begin{enumerate*}\n",
       "\\item damID\n",
       "\\item damID2\n",
       "\\item damID3\n",
       "\\end{enumerate*}\n"
      ],
      "text/markdown": [
       "1. damID\n",
       "2. damID2\n",
       "3. damID3\n",
       "\n",
       "\n"
      ],
      "text/plain": [
       "[1] damID  damID2 damID3\n",
       "Levels: damID damID2 damID3"
      ]
     },
     "execution_count": 55,
     "metadata": {},
     "output_type": "execute_result"
    },
    {
     "data": {
      "text/html": [
       "<ol class=list-inline>\n",
       "\t<li>Dam</li>\n",
       "\t<li>Lam</li>\n",
       "\t<li>D1</li>\n",
       "</ol>\n"
      ],
      "text/latex": [
       "\\begin{enumerate*}\n",
       "\\item Dam\n",
       "\\item Lam\n",
       "\\item D1\n",
       "\\end{enumerate*}\n"
      ],
      "text/markdown": [
       "1. Dam\n",
       "2. Lam\n",
       "3. D1\n",
       "\n",
       "\n"
      ],
      "text/plain": [
       "[1] Dam Lam D1 \n",
       "Levels: D1 Dam Lam"
      ]
     },
     "execution_count": 55,
     "metadata": {},
     "output_type": "execute_result"
    }
   ],
   "source": [
    "unique(metadata$Rep)\n",
    "unique(metadata$Tissue)\n",
    "unique(metadata$Country)\n",
    "unique(metadata$Line)\n",
    "unique(metadata$NotSureProtein) #this is batch\n",
    "unique(metadata$protein)"
   ]
  },
  {
   "cell_type": "markdown",
   "metadata": {},
   "source": [
    "What is line 275?  It's probably just a typo, and means 257.  There is already a replicate 1 for Dam Zi 257 though.  In doubt, we delete it."
   ]
  },
  {
   "cell_type": "code",
   "execution_count": 63,
   "metadata": {
    "collapsed": false
   },
   "outputs": [
    {
     "data": {
      "text/html": [
       "<table>\n",
       "<thead><tr><th></th><th scope=col>X</th><th scope=col>Rep</th><th scope=col>Tissue</th><th scope=col>Country</th><th scope=col>Line</th><th scope=col>NotSureProtein</th><th scope=col>protein</th></tr></thead>\n",
       "<tbody>\n",
       "\t<tr><th scope=row>11</th><td>damID-Dam_Zi275_T1</td><td>1</td><td>T</td><td>Zi</td><td>275</td><td>damID</td><td>Dam</td></tr>\n",
       "</tbody>\n",
       "</table>\n"
      ],
      "text/latex": [
       "\\begin{tabular}{r|lllllll}\n",
       "  & X & Rep & Tissue & Country & Line & NotSureProtein & protein\\\\\n",
       "\\hline\n",
       "\t11 & damID-Dam_Zi275_T1 & 1 & T & Zi & 275 & damID & Dam\\\\\n",
       "\\end{tabular}\n"
      ],
      "text/plain": [
       "                    X Rep Tissue Country Line NotSureProtein protein\n",
       "11 damID-Dam_Zi275_T1   1      T      Zi  275          damID     Dam"
      ]
     },
     "execution_count": 63,
     "metadata": {},
     "output_type": "execute_result"
    },
    {
     "data": {
      "text/html": [
       "<ol class=list-inline>\n",
       "\t<li>188</li>\n",
       "\t<li>257</li>\n",
       "\t<li>89</li>\n",
       "\t<li>238</li>\n",
       "</ol>\n"
      ],
      "text/latex": [
       "\\begin{enumerate*}\n",
       "\\item 188\n",
       "\\item 257\n",
       "\\item 89\n",
       "\\item 238\n",
       "\\end{enumerate*}\n"
      ],
      "text/markdown": [
       "1. 188\n",
       "2. 257\n",
       "3. 89\n",
       "4. 238\n",
       "\n",
       "\n"
      ],
      "text/plain": [
       "[1] 188 257  89 238"
      ]
     },
     "execution_count": 63,
     "metadata": {},
     "output_type": "execute_result"
    }
   ],
   "source": [
    "metadata[metadata$Line == '275',]\n",
    "metadata<-metadata[!(metadata$Line == '275'),]\n",
    "unique(metadata$Line)"
   ]
  },
  {
   "cell_type": "code",
   "execution_count": 64,
   "metadata": {
    "collapsed": false
   },
   "outputs": [
    {
     "data": {
      "text/html": [
       "<ol class=list-inline>\n",
       "\t<li>1</li>\n",
       "\t<li>2</li>\n",
       "\t<li>3</li>\n",
       "\t<li>4</li>\n",
       "\t<li>0</li>\n",
       "</ol>\n"
      ],
      "text/latex": [
       "\\begin{enumerate*}\n",
       "\\item 1\n",
       "\\item 2\n",
       "\\item 3\n",
       "\\item 4\n",
       "\\item 0\n",
       "\\end{enumerate*}\n"
      ],
      "text/markdown": [
       "1. 1\n",
       "2. 2\n",
       "3. 3\n",
       "4. 4\n",
       "5. 0\n",
       "\n",
       "\n"
      ],
      "text/plain": [
       "[1] 1 2 3 4 0"
      ]
     },
     "execution_count": 64,
     "metadata": {},
     "output_type": "execute_result"
    },
    {
     "data": {
      "text/html": [
       "<ol class=list-inline>\n",
       "\t<li>'C'</li>\n",
       "\t<li>'T'</li>\n",
       "\t<li>'W'</li>\n",
       "</ol>\n"
      ],
      "text/latex": [
       "\\begin{enumerate*}\n",
       "\\item 'C'\n",
       "\\item 'T'\n",
       "\\item 'W'\n",
       "\\end{enumerate*}\n"
      ],
      "text/markdown": [
       "1. 'C'\n",
       "2. 'T'\n",
       "3. 'W'\n",
       "\n",
       "\n"
      ],
      "text/plain": [
       "[1] \"C\" \"T\" \"W\""
      ]
     },
     "execution_count": 64,
     "metadata": {},
     "output_type": "execute_result"
    },
    {
     "data": {
      "text/html": [
       "<table>\n",
       "<thead><tr><th></th><th scope=col>Rep</th><th scope=col>Tissue</th><th scope=col>Country</th><th scope=col>Line</th><th scope=col>Protein</th><th scope=col>Batch</th></tr></thead>\n",
       "<tbody>\n",
       "\t<tr><th scope=row>damID.Dam_Fr188_C1</th><td>1</td><td>C</td><td>Fr</td><td>188</td><td>Dam</td><td>damID</td></tr>\n",
       "\t<tr><th scope=row>damID.Dam_Fr188_C2</th><td>2</td><td>C</td><td>Fr</td><td>188</td><td>Dam</td><td>damID</td></tr>\n",
       "\t<tr><th scope=row>damID.Dam_Fr188_C3</th><td>3</td><td>C</td><td>Fr</td><td>188</td><td>Dam</td><td>damID</td></tr>\n",
       "\t<tr><th scope=row>damID.Dam_Fr188_C4</th><td>4</td><td>C</td><td>Fr</td><td>188</td><td>Dam</td><td>damID</td></tr>\n",
       "\t<tr><th scope=row>damID.Dam_Fr188_T3</th><td>3</td><td>T</td><td>Fr</td><td>188</td><td>Dam</td><td>damID</td></tr>\n",
       "\t<tr><th scope=row>damID.Dam_Fr188_T4</th><td>4</td><td>T</td><td>Fr</td><td>188</td><td>Dam</td><td>damID</td></tr>\n",
       "</tbody>\n",
       "</table>\n"
      ],
      "text/latex": [
       "\\begin{tabular}{r|llllll}\n",
       "  & Rep & Tissue & Country & Line & Protein & Batch\\\\\n",
       "\\hline\n",
       "\tdamID.Dam_Fr188_C1 & 1 & C & Fr & 188 & Dam & damID\\\\\n",
       "\tdamID.Dam_Fr188_C2 & 2 & C & Fr & 188 & Dam & damID\\\\\n",
       "\tdamID.Dam_Fr188_C3 & 3 & C & Fr & 188 & Dam & damID\\\\\n",
       "\tdamID.Dam_Fr188_C4 & 4 & C & Fr & 188 & Dam & damID\\\\\n",
       "\tdamID.Dam_Fr188_T3 & 3 & T & Fr & 188 & Dam & damID\\\\\n",
       "\tdamID.Dam_Fr188_T4 & 4 & T & Fr & 188 & Dam & damID\\\\\n",
       "\\end{tabular}\n"
      ],
      "text/plain": [
       "                   Rep Tissue Country Line Protein Batch\n",
       "damID.Dam_Fr188_C1   1      C      Fr  188     Dam damID\n",
       "damID.Dam_Fr188_C2   2      C      Fr  188     Dam damID\n",
       "damID.Dam_Fr188_C3   3      C      Fr  188     Dam damID\n",
       "damID.Dam_Fr188_C4   4      C      Fr  188     Dam damID\n",
       "damID.Dam_Fr188_T3   3      T      Fr  188     Dam damID\n",
       "damID.Dam_Fr188_T4   4      T      Fr  188     Dam damID"
      ]
     },
     "execution_count": 64,
     "metadata": {},
     "output_type": "execute_result"
    }
   ],
   "source": [
    "#Replace the Na reps with 0\n",
    "metadata[is.na(metadata)] <- 0\n",
    "unique(metadata$Rep)\n",
    "\n",
    "#Replace 'w' with 'W'\n",
    "metadata$Tissue <- toupper(metadata$Tissue)\n",
    "unique(metadata$Tissue)\n",
    "\n",
    "#Replace metadata row names to conform to column names in damid (introduced in next cell)\n",
    "rownames(metadata)=gsub('-', '.', metadata$X)\n",
    "metadata$X = NULL\n",
    "\n",
    "#Change to factors\n",
    "metadata$Country<-factor(metadata$Country)\n",
    "metadata$Line<-factor(metadata$Line)\n",
    "metadata$Protein<-factor(metadata$protein)\n",
    "metadata$Batch<-factor(metadata$NotSureProtein)\n",
    "\n",
    "#Clean up names\n",
    "metadata$protein<-NULL\n",
    "metadata$NotSureProtein<-NULL\n",
    "\n",
    "head(metadata)"
   ]
  },
  {
   "cell_type": "markdown",
   "metadata": {},
   "source": [
    "damid dataframe has no mitochondrial genome or rDNA, and we only use columns with sum of counts > 500000."
   ]
  },
  {
   "cell_type": "code",
   "execution_count": 69,
   "metadata": {
    "collapsed": false
   },
   "outputs": [
    {
     "data": {
      "text/html": [
       "<ol class=list-inline>\n",
       "\t<li>'X'</li>\n",
       "\t<li>'damID.Dam_Fr188_C1'</li>\n",
       "\t<li>'damID.Dam_Fr188_C2'</li>\n",
       "\t<li>'damID.Dam_Fr188_C3'</li>\n",
       "\t<li>'damID.Dam_Fr188_C4'</li>\n",
       "\t<li>'damID.Dam_Fr188_T3'</li>\n",
       "\t<li>'damID.Dam_Fr188_T4'</li>\n",
       "\t<li>'damID.Dam_Zi257_C1'</li>\n",
       "\t<li>'damID.Dam_Zi257_C2'</li>\n",
       "\t<li>'damID.Dam_Zi257_C3'</li>\n",
       "\t<li>'damID.Dam_Zi257_W'</li>\n",
       "\t<li>'damID.Lam_Fr188_C1'</li>\n",
       "\t<li>'damID.Lam_Fr188_C2'</li>\n",
       "\t<li>'damID.Lam_Fr188_C3'</li>\n",
       "\t<li>'damID.Lam_Fr188_C'</li>\n",
       "\t<li>'damID.Lam_Fr188_T2'</li>\n",
       "\t<li>'damID.Lam_Fr188_T3'</li>\n",
       "\t<li>'damID.Lam_Zi257_C1'</li>\n",
       "\t<li>'damID.Lam_Zi257_C2'</li>\n",
       "\t<li>'damID.Lam_Zi257_C3'</li>\n",
       "\t<li>'damID.Lam_Zi257_T1'</li>\n",
       "\t<li>'damID.Lam_Zi257_T2'</li>\n",
       "\t<li>'damID.Lam_Zi257_T3'</li>\n",
       "\t<li>'damID2.D1_Fr188_C3'</li>\n",
       "\t<li>'damID2.D1_Fr188_T3'</li>\n",
       "\t<li>'damID2.D1_Fr89_C2'</li>\n",
       "\t<li>'damID2.D1_Fr89_C3'</li>\n",
       "\t<li>'damID2.D1_Fr89_T3'</li>\n",
       "\t<li>'damID2.D1_Zi238_C1'</li>\n",
       "\t<li>'damID2.D1_Zi238_C3'</li>\n",
       "\t<li>'damID2.D1_Zi238_T3'</li>\n",
       "\t<li>'damID2.D1_Zi257_C1'</li>\n",
       "\t<li>'damID2.D1_Zi257_C2'</li>\n",
       "\t<li>'damID2.D1_Zi257_C3'</li>\n",
       "\t<li>'damID2.D1_Zi257_T2'</li>\n",
       "\t<li>'damID2.D1_Zi257_T3'</li>\n",
       "\t<li>'damID2.Dam_Fr188_W'</li>\n",
       "\t<li>'damID2.Dam_Fr89_C1'</li>\n",
       "\t<li>'damID2.Dam_Fr89_C3'</li>\n",
       "\t<li>'damID2.Dam_Fr89_T1'</li>\n",
       "\t<li>'damID2.Dam_Fr89_T2'</li>\n",
       "\t<li>'damID2.Dam_Zi238_C1'</li>\n",
       "\t<li>'damID2.Dam_Zi238_C2'</li>\n",
       "\t<li>'damID2.Dam_Zi238_C3'</li>\n",
       "\t<li>'damID2.Dam_Zi257_W'</li>\n",
       "\t<li>'damID2.Lam_Fr89_C1'</li>\n",
       "\t<li>'damID2.Lam_Fr89_C2'</li>\n",
       "\t<li>'damID2.Lam_Zi238_C1'</li>\n",
       "\t<li>'damID2.Lam_Zi238_C2'</li>\n",
       "\t<li>'damID2.Lam_Zi238_C3'</li>\n",
       "\t<li>'damID2.Lam_Zi257_C4'</li>\n",
       "\t<li>'damID3.D1_Fr188_T'</li>\n",
       "\t<li>'damID3.D1_Fr188_W1'</li>\n",
       "\t<li>'damID3.D1_Fr188_W2'</li>\n",
       "\t<li>'damID3.D1_Fr188_W3'</li>\n",
       "\t<li>'damID3.D1_Fr89_W1'</li>\n",
       "\t<li>'damID3.D1_Fr89_W2'</li>\n",
       "\t<li>'damID3.D1_Fr89_W3'</li>\n",
       "\t<li>'damID3.D1_Zi238_T'</li>\n",
       "\t<li>'damID3.D1_Zi238_W1'</li>\n",
       "\t<li>'damID3.D1_Zi238_W2'</li>\n",
       "\t<li>'damID3.D1_Zi238_W3'</li>\n",
       "\t<li>'damID3.D1_Zi257_T'</li>\n",
       "\t<li>'damID3.D1_Zi257_W1'</li>\n",
       "\t<li>'damID3.D1_Zi257_W2'</li>\n",
       "\t<li>'damID3.D1_Zi257_W3'</li>\n",
       "\t<li>'damID3.Dam_Fr188_T2'</li>\n",
       "\t<li>'damID3.Dam_Fr188_W1'</li>\n",
       "\t<li>'damID3.Dam_Fr188_W2'</li>\n",
       "\t<li>'damID3.Dam_Fr188_W3'</li>\n",
       "\t<li>'damID3.Dam_Fr89_W1'</li>\n",
       "\t<li>'damID3.Dam_Fr89_W2'</li>\n",
       "\t<li>'damID3.Dam_Fr89_W3'</li>\n",
       "\t<li>'damID3.Dam_Zi238_T1'</li>\n",
       "\t<li>'damID3.Dam_Zi238_T2'</li>\n",
       "\t<li>'damID3.Dam_Zi238_W1'</li>\n",
       "\t<li>'damID3.Dam_Zi238_W2'</li>\n",
       "\t<li>'damID3.Dam_Zi238_W3'</li>\n",
       "\t<li>'damID3.Dam_Zi257_T1'</li>\n",
       "\t<li>'damID3.Dam_Zi257_T2'</li>\n",
       "\t<li>'damID3.Dam_Zi257_W1'</li>\n",
       "\t<li>'damID3.Dam_Zi257_W2'</li>\n",
       "\t<li>'damID3.Dam_Zi257_W3'</li>\n",
       "\t<li>'damID3.Lam_Fr188_T1'</li>\n",
       "\t<li>'damID3.Lam_Fr188_T4'</li>\n",
       "\t<li>'damID3.Lam_Fr188_W1'</li>\n",
       "\t<li>'damID3.Lam_Fr188_W2'</li>\n",
       "\t<li>'damID3.Lam_Fr188_W3'</li>\n",
       "\t<li>'damID3.Lam_Fr89_T1'</li>\n",
       "\t<li>'damID3.Lam_Fr89_T2'</li>\n",
       "\t<li>'damID3.Lam_Fr89_W1'</li>\n",
       "\t<li>'damID3.Lam_Fr89_W2'</li>\n",
       "\t<li>'damID3.Lam_Fr89_W3'</li>\n",
       "\t<li>'damID3.Lam_Zi238_W1'</li>\n",
       "\t<li>'damID3.Lam_Zi238_W2'</li>\n",
       "\t<li>'damID3.Lam_Zi238_W3'</li>\n",
       "\t<li>'damID3.Lam_Zi257_W1'</li>\n",
       "\t<li>'damID3.Lam_Zi257_W2'</li>\n",
       "\t<li>'damID3.Lam_Zi257_W3'</li>\n",
       "</ol>\n"
      ],
      "text/latex": [
       "\\begin{enumerate*}\n",
       "\\item 'X'\n",
       "\\item 'damID.Dam_Fr188_C1'\n",
       "\\item 'damID.Dam_Fr188_C2'\n",
       "\\item 'damID.Dam_Fr188_C3'\n",
       "\\item 'damID.Dam_Fr188_C4'\n",
       "\\item 'damID.Dam_Fr188_T3'\n",
       "\\item 'damID.Dam_Fr188_T4'\n",
       "\\item 'damID.Dam_Zi257_C1'\n",
       "\\item 'damID.Dam_Zi257_C2'\n",
       "\\item 'damID.Dam_Zi257_C3'\n",
       "\\item 'damID.Dam_Zi257_W'\n",
       "\\item 'damID.Lam_Fr188_C1'\n",
       "\\item 'damID.Lam_Fr188_C2'\n",
       "\\item 'damID.Lam_Fr188_C3'\n",
       "\\item 'damID.Lam_Fr188_C'\n",
       "\\item 'damID.Lam_Fr188_T2'\n",
       "\\item 'damID.Lam_Fr188_T3'\n",
       "\\item 'damID.Lam_Zi257_C1'\n",
       "\\item 'damID.Lam_Zi257_C2'\n",
       "\\item 'damID.Lam_Zi257_C3'\n",
       "\\item 'damID.Lam_Zi257_T1'\n",
       "\\item 'damID.Lam_Zi257_T2'\n",
       "\\item 'damID.Lam_Zi257_T3'\n",
       "\\item 'damID2.D1_Fr188_C3'\n",
       "\\item 'damID2.D1_Fr188_T3'\n",
       "\\item 'damID2.D1_Fr89_C2'\n",
       "\\item 'damID2.D1_Fr89_C3'\n",
       "\\item 'damID2.D1_Fr89_T3'\n",
       "\\item 'damID2.D1_Zi238_C1'\n",
       "\\item 'damID2.D1_Zi238_C3'\n",
       "\\item 'damID2.D1_Zi238_T3'\n",
       "\\item 'damID2.D1_Zi257_C1'\n",
       "\\item 'damID2.D1_Zi257_C2'\n",
       "\\item 'damID2.D1_Zi257_C3'\n",
       "\\item 'damID2.D1_Zi257_T2'\n",
       "\\item 'damID2.D1_Zi257_T3'\n",
       "\\item 'damID2.Dam_Fr188_W'\n",
       "\\item 'damID2.Dam_Fr89_C1'\n",
       "\\item 'damID2.Dam_Fr89_C3'\n",
       "\\item 'damID2.Dam_Fr89_T1'\n",
       "\\item 'damID2.Dam_Fr89_T2'\n",
       "\\item 'damID2.Dam_Zi238_C1'\n",
       "\\item 'damID2.Dam_Zi238_C2'\n",
       "\\item 'damID2.Dam_Zi238_C3'\n",
       "\\item 'damID2.Dam_Zi257_W'\n",
       "\\item 'damID2.Lam_Fr89_C1'\n",
       "\\item 'damID2.Lam_Fr89_C2'\n",
       "\\item 'damID2.Lam_Zi238_C1'\n",
       "\\item 'damID2.Lam_Zi238_C2'\n",
       "\\item 'damID2.Lam_Zi238_C3'\n",
       "\\item 'damID2.Lam_Zi257_C4'\n",
       "\\item 'damID3.D1_Fr188_T'\n",
       "\\item 'damID3.D1_Fr188_W1'\n",
       "\\item 'damID3.D1_Fr188_W2'\n",
       "\\item 'damID3.D1_Fr188_W3'\n",
       "\\item 'damID3.D1_Fr89_W1'\n",
       "\\item 'damID3.D1_Fr89_W2'\n",
       "\\item 'damID3.D1_Fr89_W3'\n",
       "\\item 'damID3.D1_Zi238_T'\n",
       "\\item 'damID3.D1_Zi238_W1'\n",
       "\\item 'damID3.D1_Zi238_W2'\n",
       "\\item 'damID3.D1_Zi238_W3'\n",
       "\\item 'damID3.D1_Zi257_T'\n",
       "\\item 'damID3.D1_Zi257_W1'\n",
       "\\item 'damID3.D1_Zi257_W2'\n",
       "\\item 'damID3.D1_Zi257_W3'\n",
       "\\item 'damID3.Dam_Fr188_T2'\n",
       "\\item 'damID3.Dam_Fr188_W1'\n",
       "\\item 'damID3.Dam_Fr188_W2'\n",
       "\\item 'damID3.Dam_Fr188_W3'\n",
       "\\item 'damID3.Dam_Fr89_W1'\n",
       "\\item 'damID3.Dam_Fr89_W2'\n",
       "\\item 'damID3.Dam_Fr89_W3'\n",
       "\\item 'damID3.Dam_Zi238_T1'\n",
       "\\item 'damID3.Dam_Zi238_T2'\n",
       "\\item 'damID3.Dam_Zi238_W1'\n",
       "\\item 'damID3.Dam_Zi238_W2'\n",
       "\\item 'damID3.Dam_Zi238_W3'\n",
       "\\item 'damID3.Dam_Zi257_T1'\n",
       "\\item 'damID3.Dam_Zi257_T2'\n",
       "\\item 'damID3.Dam_Zi257_W1'\n",
       "\\item 'damID3.Dam_Zi257_W2'\n",
       "\\item 'damID3.Dam_Zi257_W3'\n",
       "\\item 'damID3.Lam_Fr188_T1'\n",
       "\\item 'damID3.Lam_Fr188_T4'\n",
       "\\item 'damID3.Lam_Fr188_W1'\n",
       "\\item 'damID3.Lam_Fr188_W2'\n",
       "\\item 'damID3.Lam_Fr188_W3'\n",
       "\\item 'damID3.Lam_Fr89_T1'\n",
       "\\item 'damID3.Lam_Fr89_T2'\n",
       "\\item 'damID3.Lam_Fr89_W1'\n",
       "\\item 'damID3.Lam_Fr89_W2'\n",
       "\\item 'damID3.Lam_Fr89_W3'\n",
       "\\item 'damID3.Lam_Zi238_W1'\n",
       "\\item 'damID3.Lam_Zi238_W2'\n",
       "\\item 'damID3.Lam_Zi238_W3'\n",
       "\\item 'damID3.Lam_Zi257_W1'\n",
       "\\item 'damID3.Lam_Zi257_W2'\n",
       "\\item 'damID3.Lam_Zi257_W3'\n",
       "\\end{enumerate*}\n"
      ],
      "text/markdown": [
       "1. 'X'\n",
       "2. 'damID.Dam_Fr188_C1'\n",
       "3. 'damID.Dam_Fr188_C2'\n",
       "4. 'damID.Dam_Fr188_C3'\n",
       "5. 'damID.Dam_Fr188_C4'\n",
       "6. 'damID.Dam_Fr188_T3'\n",
       "7. 'damID.Dam_Fr188_T4'\n",
       "8. 'damID.Dam_Zi257_C1'\n",
       "9. 'damID.Dam_Zi257_C2'\n",
       "10. 'damID.Dam_Zi257_C3'\n",
       "11. 'damID.Dam_Zi257_W'\n",
       "12. 'damID.Lam_Fr188_C1'\n",
       "13. 'damID.Lam_Fr188_C2'\n",
       "14. 'damID.Lam_Fr188_C3'\n",
       "15. 'damID.Lam_Fr188_C'\n",
       "16. 'damID.Lam_Fr188_T2'\n",
       "17. 'damID.Lam_Fr188_T3'\n",
       "18. 'damID.Lam_Zi257_C1'\n",
       "19. 'damID.Lam_Zi257_C2'\n",
       "20. 'damID.Lam_Zi257_C3'\n",
       "21. 'damID.Lam_Zi257_T1'\n",
       "22. 'damID.Lam_Zi257_T2'\n",
       "23. 'damID.Lam_Zi257_T3'\n",
       "24. 'damID2.D1_Fr188_C3'\n",
       "25. 'damID2.D1_Fr188_T3'\n",
       "26. 'damID2.D1_Fr89_C2'\n",
       "27. 'damID2.D1_Fr89_C3'\n",
       "28. 'damID2.D1_Fr89_T3'\n",
       "29. 'damID2.D1_Zi238_C1'\n",
       "30. 'damID2.D1_Zi238_C3'\n",
       "31. 'damID2.D1_Zi238_T3'\n",
       "32. 'damID2.D1_Zi257_C1'\n",
       "33. 'damID2.D1_Zi257_C2'\n",
       "34. 'damID2.D1_Zi257_C3'\n",
       "35. 'damID2.D1_Zi257_T2'\n",
       "36. 'damID2.D1_Zi257_T3'\n",
       "37. 'damID2.Dam_Fr188_W'\n",
       "38. 'damID2.Dam_Fr89_C1'\n",
       "39. 'damID2.Dam_Fr89_C3'\n",
       "40. 'damID2.Dam_Fr89_T1'\n",
       "41. 'damID2.Dam_Fr89_T2'\n",
       "42. 'damID2.Dam_Zi238_C1'\n",
       "43. 'damID2.Dam_Zi238_C2'\n",
       "44. 'damID2.Dam_Zi238_C3'\n",
       "45. 'damID2.Dam_Zi257_W'\n",
       "46. 'damID2.Lam_Fr89_C1'\n",
       "47. 'damID2.Lam_Fr89_C2'\n",
       "48. 'damID2.Lam_Zi238_C1'\n",
       "49. 'damID2.Lam_Zi238_C2'\n",
       "50. 'damID2.Lam_Zi238_C3'\n",
       "51. 'damID2.Lam_Zi257_C4'\n",
       "52. 'damID3.D1_Fr188_T'\n",
       "53. 'damID3.D1_Fr188_W1'\n",
       "54. 'damID3.D1_Fr188_W2'\n",
       "55. 'damID3.D1_Fr188_W3'\n",
       "56. 'damID3.D1_Fr89_W1'\n",
       "57. 'damID3.D1_Fr89_W2'\n",
       "58. 'damID3.D1_Fr89_W3'\n",
       "59. 'damID3.D1_Zi238_T'\n",
       "60. 'damID3.D1_Zi238_W1'\n",
       "61. 'damID3.D1_Zi238_W2'\n",
       "62. 'damID3.D1_Zi238_W3'\n",
       "63. 'damID3.D1_Zi257_T'\n",
       "64. 'damID3.D1_Zi257_W1'\n",
       "65. 'damID3.D1_Zi257_W2'\n",
       "66. 'damID3.D1_Zi257_W3'\n",
       "67. 'damID3.Dam_Fr188_T2'\n",
       "68. 'damID3.Dam_Fr188_W1'\n",
       "69. 'damID3.Dam_Fr188_W2'\n",
       "70. 'damID3.Dam_Fr188_W3'\n",
       "71. 'damID3.Dam_Fr89_W1'\n",
       "72. 'damID3.Dam_Fr89_W2'\n",
       "73. 'damID3.Dam_Fr89_W3'\n",
       "74. 'damID3.Dam_Zi238_T1'\n",
       "75. 'damID3.Dam_Zi238_T2'\n",
       "76. 'damID3.Dam_Zi238_W1'\n",
       "77. 'damID3.Dam_Zi238_W2'\n",
       "78. 'damID3.Dam_Zi238_W3'\n",
       "79. 'damID3.Dam_Zi257_T1'\n",
       "80. 'damID3.Dam_Zi257_T2'\n",
       "81. 'damID3.Dam_Zi257_W1'\n",
       "82. 'damID3.Dam_Zi257_W2'\n",
       "83. 'damID3.Dam_Zi257_W3'\n",
       "84. 'damID3.Lam_Fr188_T1'\n",
       "85. 'damID3.Lam_Fr188_T4'\n",
       "86. 'damID3.Lam_Fr188_W1'\n",
       "87. 'damID3.Lam_Fr188_W2'\n",
       "88. 'damID3.Lam_Fr188_W3'\n",
       "89. 'damID3.Lam_Fr89_T1'\n",
       "90. 'damID3.Lam_Fr89_T2'\n",
       "91. 'damID3.Lam_Fr89_W1'\n",
       "92. 'damID3.Lam_Fr89_W2'\n",
       "93. 'damID3.Lam_Fr89_W3'\n",
       "94. 'damID3.Lam_Zi238_W1'\n",
       "95. 'damID3.Lam_Zi238_W2'\n",
       "96. 'damID3.Lam_Zi238_W3'\n",
       "97. 'damID3.Lam_Zi257_W1'\n",
       "98. 'damID3.Lam_Zi257_W2'\n",
       "99. 'damID3.Lam_Zi257_W3'\n",
       "\n",
       "\n"
      ],
      "text/plain": [
       " [1] \"X\"                   \"damID.Dam_Fr188_C1\"  \"damID.Dam_Fr188_C2\" \n",
       " [4] \"damID.Dam_Fr188_C3\"  \"damID.Dam_Fr188_C4\"  \"damID.Dam_Fr188_T3\" \n",
       " [7] \"damID.Dam_Fr188_T4\"  \"damID.Dam_Zi257_C1\"  \"damID.Dam_Zi257_C2\" \n",
       "[10] \"damID.Dam_Zi257_C3\"  \"damID.Dam_Zi257_W\"   \"damID.Lam_Fr188_C1\" \n",
       "[13] \"damID.Lam_Fr188_C2\"  \"damID.Lam_Fr188_C3\"  \"damID.Lam_Fr188_C\"  \n",
       "[16] \"damID.Lam_Fr188_T2\"  \"damID.Lam_Fr188_T3\"  \"damID.Lam_Zi257_C1\" \n",
       "[19] \"damID.Lam_Zi257_C2\"  \"damID.Lam_Zi257_C3\"  \"damID.Lam_Zi257_T1\" \n",
       "[22] \"damID.Lam_Zi257_T2\"  \"damID.Lam_Zi257_T3\"  \"damID2.D1_Fr188_C3\" \n",
       "[25] \"damID2.D1_Fr188_T3\"  \"damID2.D1_Fr89_C2\"   \"damID2.D1_Fr89_C3\"  \n",
       "[28] \"damID2.D1_Fr89_T3\"   \"damID2.D1_Zi238_C1\"  \"damID2.D1_Zi238_C3\" \n",
       "[31] \"damID2.D1_Zi238_T3\"  \"damID2.D1_Zi257_C1\"  \"damID2.D1_Zi257_C2\" \n",
       "[34] \"damID2.D1_Zi257_C3\"  \"damID2.D1_Zi257_T2\"  \"damID2.D1_Zi257_T3\" \n",
       "[37] \"damID2.Dam_Fr188_W\"  \"damID2.Dam_Fr89_C1\"  \"damID2.Dam_Fr89_C3\" \n",
       "[40] \"damID2.Dam_Fr89_T1\"  \"damID2.Dam_Fr89_T2\"  \"damID2.Dam_Zi238_C1\"\n",
       "[43] \"damID2.Dam_Zi238_C2\" \"damID2.Dam_Zi238_C3\" \"damID2.Dam_Zi257_W\" \n",
       "[46] \"damID2.Lam_Fr89_C1\"  \"damID2.Lam_Fr89_C2\"  \"damID2.Lam_Zi238_C1\"\n",
       "[49] \"damID2.Lam_Zi238_C2\" \"damID2.Lam_Zi238_C3\" \"damID2.Lam_Zi257_C4\"\n",
       "[52] \"damID3.D1_Fr188_T\"   \"damID3.D1_Fr188_W1\"  \"damID3.D1_Fr188_W2\" \n",
       "[55] \"damID3.D1_Fr188_W3\"  \"damID3.D1_Fr89_W1\"   \"damID3.D1_Fr89_W2\"  \n",
       "[58] \"damID3.D1_Fr89_W3\"   \"damID3.D1_Zi238_T\"   \"damID3.D1_Zi238_W1\" \n",
       "[61] \"damID3.D1_Zi238_W2\"  \"damID3.D1_Zi238_W3\"  \"damID3.D1_Zi257_T\"  \n",
       "[64] \"damID3.D1_Zi257_W1\"  \"damID3.D1_Zi257_W2\"  \"damID3.D1_Zi257_W3\" \n",
       "[67] \"damID3.Dam_Fr188_T2\" \"damID3.Dam_Fr188_W1\" \"damID3.Dam_Fr188_W2\"\n",
       "[70] \"damID3.Dam_Fr188_W3\" \"damID3.Dam_Fr89_W1\"  \"damID3.Dam_Fr89_W2\" \n",
       "[73] \"damID3.Dam_Fr89_W3\"  \"damID3.Dam_Zi238_T1\" \"damID3.Dam_Zi238_T2\"\n",
       "[76] \"damID3.Dam_Zi238_W1\" \"damID3.Dam_Zi238_W2\" \"damID3.Dam_Zi238_W3\"\n",
       "[79] \"damID3.Dam_Zi257_T1\" \"damID3.Dam_Zi257_T2\" \"damID3.Dam_Zi257_W1\"\n",
       "[82] \"damID3.Dam_Zi257_W2\" \"damID3.Dam_Zi257_W3\" \"damID3.Lam_Fr188_T1\"\n",
       "[85] \"damID3.Lam_Fr188_T4\" \"damID3.Lam_Fr188_W1\" \"damID3.Lam_Fr188_W2\"\n",
       "[88] \"damID3.Lam_Fr188_W3\" \"damID3.Lam_Fr89_T1\"  \"damID3.Lam_Fr89_T2\" \n",
       "[91] \"damID3.Lam_Fr89_W1\"  \"damID3.Lam_Fr89_W2\"  \"damID3.Lam_Fr89_W3\" \n",
       "[94] \"damID3.Lam_Zi238_W1\" \"damID3.Lam_Zi238_W2\" \"damID3.Lam_Zi238_W3\"\n",
       "[97] \"damID3.Lam_Zi257_W1\" \"damID3.Lam_Zi257_W2\" \"damID3.Lam_Zi257_W3\""
      ]
     },
     "execution_count": 69,
     "metadata": {},
     "output_type": "execute_result"
    },
    {
     "data": {
      "text/html": [
       "<table>\n",
       "<thead><tr><th></th><th scope=col>X</th><th scope=col>damID.Dam_Fr188_C1</th><th scope=col>damID.Dam_Fr188_C2</th><th scope=col>damID.Dam_Fr188_C3</th><th scope=col>damID.Dam_Fr188_C4</th><th scope=col>damID.Dam_Fr188_T3</th><th scope=col>damID.Dam_Fr188_T4</th><th scope=col>damID.Dam_Zi257_C1</th><th scope=col>damID.Dam_Zi257_C2</th><th scope=col>damID.Dam_Zi257_C3</th><th scope=col>ellip.h</th><th scope=col>damID3.Lam_Fr89_T2</th><th scope=col>damID3.Lam_Fr89_W1</th><th scope=col>damID3.Lam_Fr89_W2</th><th scope=col>damID3.Lam_Fr89_W3</th><th scope=col>damID3.Lam_Zi238_W1</th><th scope=col>damID3.Lam_Zi238_W2</th><th scope=col>damID3.Lam_Zi238_W3</th><th scope=col>damID3.Lam_Zi257_W1</th><th scope=col>damID3.Lam_Zi257_W2</th><th scope=col>damID3.Lam_Zi257_W3</th></tr></thead>\n",
       "<tbody>\n",
       "\t<tr><th scope=row>1</th><td>0</td><td>3</td><td>1</td><td>0</td><td>0</td><td>3</td><td>3</td><td>1</td><td>2</td><td>0</td><td>⋯</td><td>1</td><td>0</td><td>1</td><td>2</td><td>1</td><td>0</td><td>0</td><td>0</td><td>1</td><td>0</td></tr>\n",
       "\t<tr><th scope=row>2</th><td>1</td><td>3</td><td>0</td><td>0</td><td>0</td><td>2</td><td>3</td><td>1</td><td>1</td><td>0</td><td>⋯</td><td>1</td><td>0</td><td>0</td><td>1</td><td>0</td><td>1</td><td>0</td><td>1</td><td>0</td><td>0</td></tr>\n",
       "\t<tr><th scope=row>3</th><td>2</td><td>3</td><td>0</td><td>0</td><td>0</td><td>2</td><td>3</td><td>1</td><td>1</td><td>0</td><td>⋯</td><td>1</td><td>0</td><td>0</td><td>1</td><td>0</td><td>1</td><td>1</td><td>1</td><td>0</td><td>0</td></tr>\n",
       "\t<tr><th scope=row>4</th><td>3</td><td>1</td><td>0</td><td>0</td><td>0</td><td>2</td><td>1</td><td>2</td><td>1</td><td>1</td><td>⋯</td><td>1</td><td>0</td><td>2</td><td>0</td><td>0</td><td>1</td><td>1</td><td>1</td><td>0</td><td>0</td></tr>\n",
       "\t<tr><th scope=row>5</th><td>4</td><td>0</td><td>2</td><td>2</td><td>2</td><td>0</td><td>1</td><td>1</td><td>2</td><td>0</td><td>⋯</td><td>1</td><td>1</td><td>1</td><td>1</td><td>0</td><td>0</td><td>1</td><td>0</td><td>1</td><td>2</td></tr>\n",
       "\t<tr><th scope=row>6</th><td>5</td><td>0</td><td>2</td><td>2</td><td>2</td><td>0</td><td>1</td><td>1</td><td>2</td><td>0</td><td>⋯</td><td>1</td><td>1</td><td>1</td><td>1</td><td>0</td><td>0</td><td>1</td><td>0</td><td>1</td><td>2</td></tr>\n",
       "</tbody>\n",
       "</table>\n"
      ],
      "text/latex": [
       "\\begin{tabular}{r|lllllllllllllllllllllllllllllllllllllllllllllllllllllllllllllllllllllllllllllllllllllllllllllllllll}\n",
       "  & X & damID.Dam_Fr188_C1 & damID.Dam_Fr188_C2 & damID.Dam_Fr188_C3 & damID.Dam_Fr188_C4 & damID.Dam_Fr188_T3 & damID.Dam_Fr188_T4 & damID.Dam_Zi257_C1 & damID.Dam_Zi257_C2 & damID.Dam_Zi257_C3 & ellip.h & damID3.Lam_Fr89_T2 & damID3.Lam_Fr89_W1 & damID3.Lam_Fr89_W2 & damID3.Lam_Fr89_W3 & damID3.Lam_Zi238_W1 & damID3.Lam_Zi238_W2 & damID3.Lam_Zi238_W3 & damID3.Lam_Zi257_W1 & damID3.Lam_Zi257_W2 & damID3.Lam_Zi257_W3\\\\\n",
       "\\hline\n",
       "\t1 & 0 & 3 & 1 & 0 & 0 & 3 & 3 & 1 & 2 & 0 & ⋯ & 1 & 0 & 1 & 2 & 1 & 0 & 0 & 0 & 1 & 0\\\\\n",
       "\t2 & 1 & 3 & 0 & 0 & 0 & 2 & 3 & 1 & 1 & 0 & ⋯ & 1 & 0 & 0 & 1 & 0 & 1 & 0 & 1 & 0 & 0\\\\\n",
       "\t3 & 2 & 3 & 0 & 0 & 0 & 2 & 3 & 1 & 1 & 0 & ⋯ & 1 & 0 & 0 & 1 & 0 & 1 & 1 & 1 & 0 & 0\\\\\n",
       "\t4 & 3 & 1 & 0 & 0 & 0 & 2 & 1 & 2 & 1 & 1 & ⋯ & 1 & 0 & 2 & 0 & 0 & 1 & 1 & 1 & 0 & 0\\\\\n",
       "\t5 & 4 & 0 & 2 & 2 & 2 & 0 & 1 & 1 & 2 & 0 & ⋯ & 1 & 1 & 1 & 1 & 0 & 0 & 1 & 0 & 1 & 2\\\\\n",
       "\t6 & 5 & 0 & 2 & 2 & 2 & 0 & 1 & 1 & 2 & 0 & ⋯ & 1 & 1 & 1 & 1 & 0 & 0 & 1 & 0 & 1 & 2\\\\\n",
       "\\end{tabular}\n"
      ],
      "text/plain": [
       "  X damID.Dam_Fr188_C1 damID.Dam_Fr188_C2 damID.Dam_Fr188_C3 damID.Dam_Fr188_C4\n",
       "1 0                  3                  1                  0                  0\n",
       "2 1                  3                  0                  0                  0\n",
       "3 2                  3                  0                  0                  0\n",
       "4 3                  1                  0                  0                  0\n",
       "5 4                  0                  2                  2                  2\n",
       "6 5                  0                  2                  2                  2\n",
       "  damID.Dam_Fr188_T3 damID.Dam_Fr188_T4 damID.Dam_Zi257_C1 damID.Dam_Zi257_C2\n",
       "1                  3                  3                  1                  2\n",
       "2                  2                  3                  1                  1\n",
       "3                  2                  3                  1                  1\n",
       "4                  2                  1                  2                  1\n",
       "5                  0                  1                  1                  2\n",
       "6                  0                  1                  1                  2\n",
       "  damID.Dam_Zi257_C3 damID.Dam_Zi257_W damID.Lam_Fr188_C1 damID.Lam_Fr188_C2\n",
       "1                  0                 0                  3                  3\n",
       "2                  0                 0                  2                  3\n",
       "3                  0                 0                  2                  3\n",
       "4                  1                 0                  0                  1\n",
       "5                  0                 3                  0                  1\n",
       "6                  0                 3                  0                  1\n",
       "  damID.Lam_Fr188_C3 damID.Lam_Fr188_C damID.Lam_Fr188_T2 damID.Lam_Fr188_T3\n",
       "1                  0                 2                  3                  2\n",
       "2                  0                 1                  3                  2\n",
       "3                  0                 1                  3                  2\n",
       "4                  2                 0                  1                  0\n",
       "5                  1                 3                  4                  0\n",
       "6                  1                 3                  4                  0\n",
       "  damID.Lam_Zi257_C1 damID.Lam_Zi257_C2 damID.Lam_Zi257_C3 damID.Lam_Zi257_T1\n",
       "1                  4                  1                  0                  3\n",
       "2                  3                  1                  0                  3\n",
       "3                  2                  0                  0                  3\n",
       "4                  0                  0                  0                  0\n",
       "5                  3                  0                  0                  1\n",
       "6                  3                  0                  0                  1\n",
       "  damID.Lam_Zi257_T2 damID.Lam_Zi257_T3 damID2.D1_Fr188_C3 damID2.D1_Fr188_T3\n",
       "1                  2                  1                  0                  0\n",
       "2                  2                  1                  0                  0\n",
       "3                  2                  1                  0                  0\n",
       "4                  1                  0                  1                  0\n",
       "5                  1                  0                  0                  0\n",
       "6                  1                  0                  0                  0\n",
       "  damID2.D1_Fr89_C2 damID2.D1_Fr89_C3 damID2.D1_Fr89_T3 damID2.D1_Zi238_C1\n",
       "1                 0                 1                 0                  0\n",
       "2                 0                 0                 0                  0\n",
       "3                 0                 0                 0                  0\n",
       "4                 0                 0                 1                  0\n",
       "5                 1                 0                 0                  0\n",
       "6                 1                 0                 0                  0\n",
       "  damID2.D1_Zi238_C3 damID2.D1_Zi238_T3 damID2.D1_Zi257_C1 damID2.D1_Zi257_C2\n",
       "1                  0                  2                  0                  1\n",
       "2                  0                  0                  0                  1\n",
       "3                  0                  0                  0                  1\n",
       "4                  0                  0                  0                  1\n",
       "5                  0                  0                  0                  0\n",
       "6                  0                  0                  0                  0\n",
       "  damID2.D1_Zi257_C3 damID2.D1_Zi257_T2 damID2.D1_Zi257_T3 damID2.Dam_Fr188_W\n",
       "1                  0                  9                  1                  3\n",
       "2                  0                  9                  1                  2\n",
       "3                  0                  9                  1                  2\n",
       "4                  0                  0                  0                  1\n",
       "5                  1                  1                  0                  0\n",
       "6                  1                  1                  0                  0\n",
       "  damID2.Dam_Fr89_C1 damID2.Dam_Fr89_C3 damID2.Dam_Fr89_T1 damID2.Dam_Fr89_T2\n",
       "1                  0                  0                  0                  0\n",
       "2                  1                  0                  0                  0\n",
       "3                  1                  0                  0                  0\n",
       "4                  1                  0                  0                  0\n",
       "5                  0                  1                  0                  0\n",
       "6                  0                  1                  0                  0\n",
       "  damID2.Dam_Zi238_C1 damID2.Dam_Zi238_C2 damID2.Dam_Zi238_C3\n",
       "1                   1                   0                   0\n",
       "2                   1                   0                   0\n",
       "3                   1                   1                   0\n",
       "4                   0                   2                   2\n",
       "5                   0                   1                   0\n",
       "6                   0                   1                   0\n",
       "  damID2.Dam_Zi257_W damID2.Lam_Fr89_C1 damID2.Lam_Fr89_C2 damID2.Lam_Zi238_C1\n",
       "1                  2                  0                  1                   0\n",
       "2                  2                  0                  1                   0\n",
       "3                  4                  0                  1                   0\n",
       "4                  2                  0                  0                   1\n",
       "5                  1                  2                  2                   0\n",
       "6                  0                  2                  2                   0\n",
       "  damID2.Lam_Zi238_C2 damID2.Lam_Zi238_C3 damID2.Lam_Zi257_C4 damID3.D1_Fr188_T\n",
       "1                   2                   2                   1                 0\n",
       "2                   2                   2                   1                 0\n",
       "3                   2                   2                   1                 0\n",
       "4                   0                   1                   0                 0\n",
       "5                   0                   0                   0                 0\n",
       "6                   0                   0                   0                 0\n",
       "  damID3.D1_Fr188_W1 damID3.D1_Fr188_W2 damID3.D1_Fr188_W3 damID3.D1_Fr89_W1\n",
       "1                  1                  0                  0                 1\n",
       "2                  1                  0                  0                 1\n",
       "3                  1                  0                  0                 1\n",
       "4                  1                  1                  0                 0\n",
       "5                  0                  0                  0                 0\n",
       "6                  0                  0                  0                 0\n",
       "  damID3.D1_Fr89_W2 damID3.D1_Fr89_W3 damID3.D1_Zi238_T damID3.D1_Zi238_W1\n",
       "1                 1                 1                 1                  0\n",
       "2                 1                 0                 0                  0\n",
       "3                 1                 0                 0                  0\n",
       "4                 0                 0                 0                  1\n",
       "5                 0                 0                 1                  0\n",
       "6                 0                 0                 1                  0\n",
       "  damID3.D1_Zi238_W2 damID3.D1_Zi238_W3 damID3.D1_Zi257_T damID3.D1_Zi257_W1\n",
       "1                  0                  1                 1                  0\n",
       "2                  0                  1                 1                  0\n",
       "3                  0                  1                 1                  0\n",
       "4                  0                  1                 1                  1\n",
       "5                  0                  0                 0                  1\n",
       "6                  0                  0                 0                  1\n",
       "  damID3.D1_Zi257_W2 damID3.D1_Zi257_W3 damID3.Dam_Fr188_T2 damID3.Dam_Fr188_W1\n",
       "1                  1                  1                   1                   1\n",
       "2                  0                  0                   1                   1\n",
       "3                  0                  0                   2                   1\n",
       "4                  0                  2                   1                   0\n",
       "5                  0                  0                   1                   1\n",
       "6                  0                  0                   1                   1\n",
       "  damID3.Dam_Fr188_W2 damID3.Dam_Fr188_W3 damID3.Dam_Fr89_W1 damID3.Dam_Fr89_W2\n",
       "1                   0                   2                  0                  2\n",
       "2                   0                   3                  0                  2\n",
       "3                   0                   3                  0                  2\n",
       "4                   1                   1                  1                  0\n",
       "5                   1                   0                  1                  0\n",
       "6                   1                   0                  1                  0\n",
       "  damID3.Dam_Fr89_W3 damID3.Dam_Zi238_T1 damID3.Dam_Zi238_T2\n",
       "1                  0                   0                   1\n",
       "2                  1                   0                   1\n",
       "3                  1                   0                   1\n",
       "4                  2                   0                   0\n",
       "5                  1                   0                   0\n",
       "6                  1                   0                   0\n",
       "  damID3.Dam_Zi238_W1 damID3.Dam_Zi238_W2 damID3.Dam_Zi238_W3\n",
       "1                   0                   0                   0\n",
       "2                   0                   0                   0\n",
       "3                   0                   0                   0\n",
       "4                   1                   0                   0\n",
       "5                   0                   0                   0\n",
       "6                   0                   0                   0\n",
       "  damID3.Dam_Zi257_T1 damID3.Dam_Zi257_T2 damID3.Dam_Zi257_W1\n",
       "1                   0                   0                   0\n",
       "2                   0                   0                   0\n",
       "3                   0                   0                   0\n",
       "4                   0                   0                   0\n",
       "5                   1                   0                   0\n",
       "6                   1                   0                   0\n",
       "  damID3.Dam_Zi257_W2 damID3.Dam_Zi257_W3 damID3.Lam_Fr188_T1\n",
       "1                   2                   0                   0\n",
       "2                   2                   0                   0\n",
       "3                   2                   0                   0\n",
       "4                   1                   0                   0\n",
       "5                   1                   0                   0\n",
       "6                   1                   0                   0\n",
       "  damID3.Lam_Fr188_T4 damID3.Lam_Fr188_W1 damID3.Lam_Fr188_W2\n",
       "1                   0                   1                   0\n",
       "2                   0                   1                   0\n",
       "3                   0                   1                   0\n",
       "4                   0                   0                   0\n",
       "5                   0                   0                   0\n",
       "6                   0                   0                   0\n",
       "  damID3.Lam_Fr188_W3 damID3.Lam_Fr89_T1 damID3.Lam_Fr89_T2 damID3.Lam_Fr89_W1\n",
       "1                   0                  0                  1                  0\n",
       "2                   0                  0                  1                  0\n",
       "3                   0                  0                  1                  0\n",
       "4                   0                  0                  1                  0\n",
       "5                   0                  0                  1                  1\n",
       "6                   0                  0                  1                  1\n",
       "  damID3.Lam_Fr89_W2 damID3.Lam_Fr89_W3 damID3.Lam_Zi238_W1 damID3.Lam_Zi238_W2\n",
       "1                  1                  2                   1                   0\n",
       "2                  0                  1                   0                   1\n",
       "3                  0                  1                   0                   1\n",
       "4                  2                  0                   0                   1\n",
       "5                  1                  1                   0                   0\n",
       "6                  1                  1                   0                   0\n",
       "  damID3.Lam_Zi238_W3 damID3.Lam_Zi257_W1 damID3.Lam_Zi257_W2\n",
       "1                   0                   0                   1\n",
       "2                   0                   1                   0\n",
       "3                   1                   1                   0\n",
       "4                   1                   1                   0\n",
       "5                   1                   0                   1\n",
       "6                   1                   0                   1\n",
       "  damID3.Lam_Zi257_W3\n",
       "1                   0\n",
       "2                   0\n",
       "3                   0\n",
       "4                   0\n",
       "5                   2\n",
       "6                   2"
      ]
     },
     "execution_count": 69,
     "metadata": {},
     "output_type": "execute_result"
    },
    {
     "data": {
      "text/html": [
       "'dimensions of damid'"
      ],
      "text/latex": [
       "'dimensions of damid'"
      ],
      "text/markdown": [
       "'dimensions of damid'"
      ],
      "text/plain": [
       "[1] \"dimensions of damid\""
      ]
     },
     "execution_count": 69,
     "metadata": {},
     "output_type": "execute_result"
    },
    {
     "data": {
      "text/html": [
       "<ol class=list-inline>\n",
       "\t<li>388464</li>\n",
       "\t<li>99</li>\n",
       "</ol>\n"
      ],
      "text/latex": [
       "\\begin{enumerate*}\n",
       "\\item 388464\n",
       "\\item 99\n",
       "\\end{enumerate*}\n"
      ],
      "text/markdown": [
       "1. 388464\n",
       "2. 99\n",
       "\n",
       "\n"
      ],
      "text/plain": [
       "[1] 388464     99"
      ]
     },
     "execution_count": 69,
     "metadata": {},
     "output_type": "execute_result"
    }
   ],
   "source": [
    "colnames(damid)\n",
    "#there is a mix of uppercase and lower case W in the colnames, we make them all uppercase\n",
    "colnames(damid)=gsub('w', 'W', colnames(damid))\n",
    "\n",
    "#Remove the column with 275: \n",
    "damid$damID.Dam_Zi275_T1<-NULL\n",
    "\n",
    "head(damid)\n",
    "\"dimensions of damid\"\n",
    "dim(damid)"
   ]
  },
  {
   "cell_type": "markdown",
   "metadata": {},
   "source": [
    "### Extracting information for each line by protein by line combination in DESeq"
   ]
  },
  {
   "cell_type": "markdown",
   "metadata": {},
   "source": [
    "We want to separate tissues, because that's what we did in our analysis of gene expression data.\n",
    "\n",
    "The reason we run DESeq independently for each line is because we want the shrinkages used in the log2FoldChange calculation to be independent.  (Because of shrinkage, the log2foldchange might be more trustworthy than baseMean (ie. mean(D1)/mean(DAM) (or is it the inverse?)).\n",
    "\n",
    "The following cell returns a list of files of the form:\n",
    "paste(\"results_\", tissue, \"_\", protein,\"_\", line, sep=\"\")\n",
    "which has all the information \"baseMean\",\"log2FoldChange\",\"lfcSE\",\"stat\",\"pvalue\",\"padj\".\n",
    "\n",
    "There are some combinations, like T 238 that can't be used for this analysis (no Lam or D1 entries for T 238, just Dam).\n"
   ]
  },
  {
   "cell_type": "code",
   "execution_count": 30,
   "metadata": {
    "collapsed": false
   },
   "outputs": [
    {
     "name": "stdout",
     "output_type": "stream",
     "text": [
      "[1] 75 76\n",
      "                    Rep Tissue Country Line Protein  Batch\n",
      "damID3.Dam_Zi238_T1   1      T      Zi  238     Dam damID3\n",
      "damID3.Dam_Zi238_T2   2      T      Zi  238     Dam damID3\n",
      "[1] 32 60 75 76\n",
      "                    Rep Tissue Country Line Protein  Batch\n",
      "damID2.D1_Zi238_T3    3      T      Zi  238      D1 damID2\n",
      "damID3.D1_Zi238_T     0      T      Zi  238      D1 damID3\n",
      "damID3.Dam_Zi238_T1   1      T      Zi  238     Dam damID3\n",
      "damID3.Dam_Zi238_T2   2      T      Zi  238     Dam damID3\n"
     ]
    },
    {
     "name": "stderr",
     "output_type": "stream",
     "text": [
      "factor levels were dropped which had no samples\n",
      "estimating size factors\n",
      "estimating dispersions\n",
      "gene-wise dispersion estimates\n",
      "mean-dispersion relationship\n",
      "final dispersion estimates\n",
      "fitting model and testing\n"
     ]
    },
    {
     "name": "stdout",
     "output_type": "stream",
     "text": [
      "[1] 22 23 24 80 81\n",
      "                    Rep Tissue Country Line Protein  Batch\n",
      "damID.Lam_Zi257_T1    1      T      Zi  257     Lam  damID\n",
      "damID.Lam_Zi257_T2    2      T      Zi  257     Lam  damID\n",
      "damID.Lam_Zi257_T3    3      T      Zi  257     Lam  damID\n",
      "damID3.Dam_Zi257_T1   1      T      Zi  257     Dam damID3\n",
      "damID3.Dam_Zi257_T2   2      T      Zi  257     Dam damID3\n"
     ]
    },
    {
     "name": "stderr",
     "output_type": "stream",
     "text": [
      "factor levels were dropped which had no samples\n",
      "estimating size factors\n",
      "estimating dispersions\n",
      "gene-wise dispersion estimates\n",
      "mean-dispersion relationship\n",
      "final dispersion estimates\n",
      "fitting model and testing\n"
     ]
    },
    {
     "name": "stdout",
     "output_type": "stream",
     "text": [
      "[1] 36 37 64 80 81\n",
      "                    Rep Tissue Country Line Protein  Batch\n",
      "damID2.D1_Zi257_T2    2      T      Zi  257      D1 damID2\n",
      "damID2.D1_Zi257_T3    3      T      Zi  257      D1 damID2\n",
      "damID3.D1_Zi257_T     0      T      Zi  257      D1 damID3\n",
      "damID3.Dam_Zi257_T1   1      T      Zi  257     Dam damID3\n",
      "damID3.Dam_Zi257_T2   2      T      Zi  257     Dam damID3\n"
     ]
    },
    {
     "name": "stderr",
     "output_type": "stream",
     "text": [
      "factor levels were dropped which had no samples\n",
      "estimating size factors\n",
      "estimating dispersions\n",
      "gene-wise dispersion estimates\n",
      "mean-dispersion relationship\n",
      "final dispersion estimates\n",
      "fitting model and testing\n"
     ]
    },
    {
     "name": "stdout",
     "output_type": "stream",
     "text": [
      "[1] 41 42 90 91\n",
      "                   Rep Tissue Country Line Protein  Batch\n",
      "damID2.Dam_Fr89_T1   1      T      Fr   89     Dam damID2\n",
      "damID2.Dam_Fr89_T2   2      T      Fr   89     Dam damID2\n",
      "damID3.Lam_Fr89_T1   1      T      Fr   89     Lam damID3\n",
      "damID3.Lam_Fr89_T2   2      T      Fr   89     Lam damID3\n"
     ]
    },
    {
     "name": "stderr",
     "output_type": "stream",
     "text": [
      "factor levels were dropped which had no samples\n",
      "estimating size factors\n",
      "estimating dispersions\n",
      "gene-wise dispersion estimates\n",
      "mean-dispersion relationship\n",
      "final dispersion estimates\n",
      "fitting model and testing\n"
     ]
    },
    {
     "name": "stdout",
     "output_type": "stream",
     "text": [
      "[1] 29 41 42\n",
      "                   Rep Tissue Country Line Protein  Batch\n",
      "damID2.D1_Fr89_T3    3      T      Fr   89      D1 damID2\n",
      "damID2.Dam_Fr89_T1   1      T      Fr   89     Dam damID2\n",
      "damID2.Dam_Fr89_T2   2      T      Fr   89     Dam damID2\n"
     ]
    },
    {
     "name": "stderr",
     "output_type": "stream",
     "text": [
      "factor levels were dropped which had no samples\n",
      "estimating size factors\n",
      "estimating dispersions\n",
      "gene-wise dispersion estimates\n",
      "mean-dispersion relationship\n",
      "final dispersion estimates\n",
      "fitting model and testing\n"
     ]
    },
    {
     "name": "stdout",
     "output_type": "stream",
     "text": [
      "[1]  6  7 17 18 68 85 86\n",
      "                    Rep Tissue Country Line Protein  Batch\n",
      "damID.Dam_Fr188_T3    3      T      Fr  188     Dam  damID\n",
      "damID.Dam_Fr188_T4    4      T      Fr  188     Dam  damID\n",
      "damID.Lam_Fr188_T2    2      T      Fr  188     Lam  damID\n",
      "damID.Lam_Fr188_T3    3      T      Fr  188     Lam  damID\n",
      "damID3.Dam_Fr188_T2   2      T      Fr  188     Dam damID3\n",
      "damID3.Lam_Fr188_T1   1      T      Fr  188     Lam damID3\n",
      "damID3.Lam_Fr188_T4   4      T      Fr  188     Lam damID3\n"
     ]
    },
    {
     "name": "stderr",
     "output_type": "stream",
     "text": [
      "factor levels were dropped which had no samples\n",
      "estimating size factors\n",
      "estimating dispersions\n",
      "gene-wise dispersion estimates\n",
      "mean-dispersion relationship\n",
      "final dispersion estimates\n",
      "fitting model and testing\n"
     ]
    },
    {
     "name": "stdout",
     "output_type": "stream",
     "text": [
      "[1]  6  7 26 53 68\n",
      "                    Rep Tissue Country Line Protein  Batch\n",
      "damID.Dam_Fr188_T3    3      T      Fr  188     Dam  damID\n",
      "damID.Dam_Fr188_T4    4      T      Fr  188     Dam  damID\n",
      "damID2.D1_Fr188_T3    3      T      Fr  188      D1 damID2\n",
      "damID3.D1_Fr188_T     0      T      Fr  188      D1 damID3\n",
      "damID3.Dam_Fr188_T2   2      T      Fr  188     Dam damID3\n"
     ]
    },
    {
     "name": "stderr",
     "output_type": "stream",
     "text": [
      "factor levels were dropped which had no samples\n",
      "estimating size factors\n",
      "estimating dispersions\n",
      "gene-wise dispersion estimates\n",
      "mean-dispersion relationship\n",
      "final dispersion estimates\n",
      "fitting model and testing\n"
     ]
    }
   ],
   "source": [
    "return_dataset_for_plot<-function(tissue,protein,line, damid, metadata){\n",
    "    colsTissue<-c(grep(paste(\"_\", tissue, sep=''), names(damid)))\n",
    "    colsProtein<-c(grep(paste(protein, \"_\",sep=''), names(damid)))\n",
    "    colsDam<-c(grep(\"Dam_\", names(damid)))\n",
    "    colsLine<-c(grep(line, names(damid)))\n",
    "    \n",
    "    cols<-intersect(intersect(colsTissue,colsLine),union(colsDam,colsProtein))\n",
    "    \n",
    "    print(cols)\n",
    "\n",
    "    metadata<-metadata[metadata$Tissue==tissue & (metadata$Protein==protein | metadata$Protein==\"Dam\") & metadata$Line==line,]\n",
    "\n",
    "    print(metadata)\n",
    "    dataset <- DESeqDataSetFromMatrix(countData = damid[,cols], colData = metadata, design = ~Protein)\n",
    "    suppressWarnings(dds<-DESeq(dataset))\n",
    "    res.dds<-results(dds)\n",
    "    write.csv(res.dds, file=paste(\"results_\", tissue, \"_\", protein,\"_\", line, sep=\"\"))\n",
    "}\n",
    "\n",
    "\n",
    "#There are some combinations, like T 238 that can't be used for this analysis (no Lam or D1 entries)\n",
    "for (tissue in c(\"C\", \"W\",\"T\")) {\n",
    "    for (line in c(\"238\",\"257\",\"89\",\"188\")) {\n",
    "        for (protein in c(\"Lam\", \"D1\")) {\n",
    "            try(return_dataset_for_plot(tissue, protein, line, damid, metadata))\n",
    "        }\n",
    "    }\n",
    "}\n"
   ]
  },
  {
   "cell_type": "markdown",
   "metadata": {},
   "source": [
    "## Extracting main effects info (also info about batch and interactions)"
   ]
  },
  {
   "cell_type": "markdown",
   "metadata": {},
   "source": [
    "Here we don't separate information by line.  These give us general results on D1 and Lam, and tell us about the effect of Batch.  \n",
    "\n",
    "The conclusion we get from doing a binomial test for carcass and D1: (full = ~Line*Protein; reduced= ~Line + Protein)  and (full = ~Line + Protein; reduced= ~Protein):\n",
    "D1 protein binds to few places. We don't see a main effect for D1, so we also don’t predict to be able to see an interaction of line:protein (and we don't). However, the fact that there isn't a high percentage of LFC >0 and LFC <0  doesn’t mean there isn’t differential binding of D1. (Low counts= 83%).  If the (few) sites at which we see differential binding do  have differential gene expression by line, then this would point to a possible mechanism by which the Y chromosome can affect gene expression across the autosomes.  This is because we know that D1 binds to several Y chromosome satellites.  So this would be consistent with the hypothesis that the Y chromosome acts as a protein sink.\n",
    "We can't test Batch for D1 because not enough variety of Batch for D1 protein.\n",
    "\n",
    "\n",
    "The conclusion we get from doing a binomial test for carcass and Lam: (full = ~Line*Protein; reduced= ~Line + Protein) and (full = ~Line + Protein; reduced= ~Protein) and (full = ~Line*Protein + Batch; reduced= ~Line*Protein):\n",
    "1. We see more binding of the Lam protein than D1 protein (this is expected).  Specifically, more main effects of D1, and we also see evidence for the interaction Line:protein.  We might be able to conclude from this that there is a link between variation in expression and variation in chromatin state (once we do that analysis), but unlike in the D1 case we can't draw conclusions about the mechanism.  We can simply conclude that some underlying genetic mechanism on Y chromosome affects both changes in expression and changes in chromatin.  It could be for example Y chromo affects expression which in turn affects chromatin state, or Y chromo affects chromatin state which in turn affects gene expression.  It could also be structural (different sites are near the nuclear envelope depending on the size of the Y chromosome).\n",
    "2.  Batch doesn't seem to have much of an effect, at least in the carcass and Lam case.\n",
    "\n",
    "Whar do we make of the fact that we dont see diff expression for W?\n",
    "\n"
   ]
  },
  {
   "cell_type": "markdown",
   "metadata": {},
   "source": [
    "Here we test interactions"
   ]
  },
  {
   "cell_type": "code",
   "execution_count": 42,
   "metadata": {
    "collapsed": false
   },
   "outputs": [
    {
     "name": "stdout",
     "output_type": "stream",
     "text": [
      "[1] \"C\"   \"Lam\"\n"
     ]
    },
    {
     "name": "stderr",
     "output_type": "stream",
     "text": [
      "factor levels were dropped which had no samples\n",
      "estimating size factors\n",
      "estimating dispersions\n",
      "gene-wise dispersion estimates\n",
      "mean-dispersion relationship\n",
      "final dispersion estimates\n",
      "fitting model and testing\n",
      "found results columns, replacing these\n"
     ]
    },
    {
     "name": "stdout",
     "output_type": "stream",
     "text": [
      "[1] \"summary LRT\"\n",
      "\n",
      "out of 388464 with nonzero total read count\n",
      "adjusted p-value < 0.1\n",
      "LFC > 0 (up)     : 24281, 6.3% \n",
      "LFC < 0 (down)   : 28593, 7.4% \n",
      "outliers [1]     : 887, 0.23% \n",
      "low counts [2]   : 120500, 31% \n",
      "(mean count < 2)\n",
      "[1] see 'cooksCutoff' argument of ?results\n",
      "[2] see 'independentFiltering' argument of ?results\n",
      "\n",
      "[1] \"C\"  \"D1\"\n"
     ]
    },
    {
     "name": "stderr",
     "output_type": "stream",
     "text": [
      "factor levels were dropped which had no samples\n",
      "estimating size factors\n",
      "estimating dispersions\n",
      "gene-wise dispersion estimates\n",
      "mean-dispersion relationship\n",
      "final dispersion estimates\n",
      "fitting model and testing\n",
      "found results columns, replacing these\n"
     ]
    },
    {
     "name": "stdout",
     "output_type": "stream",
     "text": [
      "[1] \"summary LRT\"\n",
      "\n",
      "out of 388463 with nonzero total read count\n",
      "adjusted p-value < 0.1\n",
      "LFC > 0 (up)     : 2485, 0.64% \n",
      "LFC < 0 (down)   : 1628, 0.42% \n",
      "outliers [1]     : 14, 0.0036% \n",
      "low counts [2]   : 323851, 83% \n",
      "(mean count < 5)\n",
      "[1] see 'cooksCutoff' argument of ?results\n",
      "[2] see 'independentFiltering' argument of ?results\n",
      "\n",
      "[1] \"W\"   \"Lam\"\n"
     ]
    },
    {
     "name": "stderr",
     "output_type": "stream",
     "text": [
      "factor levels were dropped which had no samples\n",
      "estimating size factors\n",
      "estimating dispersions\n",
      "gene-wise dispersion estimates\n",
      "mean-dispersion relationship\n",
      "final dispersion estimates\n",
      "fitting model and testing\n",
      "found results columns, replacing these\n"
     ]
    },
    {
     "name": "stdout",
     "output_type": "stream",
     "text": [
      "[1] \"summary LRT\"\n",
      "\n",
      "out of 388464 with nonzero total read count\n",
      "adjusted p-value < 0.1\n",
      "LFC > 0 (up)     : 68, 0.018% \n",
      "LFC < 0 (down)   : 42, 0.011% \n",
      "outliers [1]     : 458, 0.12% \n",
      "low counts [2]   : 75315, 19% \n",
      "(mean count < 2)\n",
      "[1] see 'cooksCutoff' argument of ?results\n",
      "[2] see 'independentFiltering' argument of ?results\n",
      "\n",
      "[1] \"W\"  \"D1\"\n"
     ]
    },
    {
     "name": "stderr",
     "output_type": "stream",
     "text": [
      "factor levels were dropped which had no samples\n",
      "estimating size factors\n",
      "estimating dispersions\n",
      "gene-wise dispersion estimates\n",
      "mean-dispersion relationship\n",
      "final dispersion estimates\n",
      "fitting model and testing\n",
      "found results columns, replacing these\n"
     ]
    },
    {
     "name": "stdout",
     "output_type": "stream",
     "text": [
      "[1] \"summary LRT\"\n",
      "\n",
      "out of 388464 with nonzero total read count\n",
      "adjusted p-value < 0.1\n",
      "LFC > 0 (up)     : 13, 0.0033% \n",
      "LFC < 0 (down)   : 8, 0.0021% \n",
      "outliers [1]     : 431, 0.11% \n",
      "low counts [2]   : 248499, 64% \n",
      "(mean count < 5)\n",
      "[1] see 'cooksCutoff' argument of ?results\n",
      "[2] see 'independentFiltering' argument of ?results\n",
      "\n",
      "[1] \"T\"   \"Lam\"\n"
     ]
    },
    {
     "name": "stderr",
     "output_type": "stream",
     "text": [
      "factor levels were dropped which had no samples\n"
     ]
    },
    {
     "ename": "ERROR",
     "evalue": "Error in checkFullRank(modelMatrix): the model matrix is not full rank, so the model cannot be fit as specified.\n  Levels or combinations of levels without any samples have resulted in\n  column(s) of zeros in the model matrix.\n\n  Please read the vignette section 'Model matrix not full rank':\n\n  vignette('DESeq2')\n",
     "output_type": "error",
     "traceback": [
      "Error in checkFullRank(modelMatrix): the model matrix is not full rank, so the model cannot be fit as specified.\n  Levels or combinations of levels without any samples have resulted in\n  column(s) of zeros in the model matrix.\n\n  Please read the vignette section 'Model matrix not full rank':\n\n  vignette('DESeq2')\n"
     ]
    }
   ],
   "source": [
    "return_dataset_for_plot2_interaction<-function(tissue,protein, damid, metadata){\n",
    "    colsTissue<-c(grep(paste(\"_\", tissue, sep=''), names(damid)))\n",
    "    colsProtein<-c(grep(paste(protein, \"_\",sep=''), names(damid)))\n",
    "    colsDam<-c(grep(\"Dam_\", names(damid)))\n",
    "\n",
    "    cols<-intersect(colsTissue,union(colsDam,colsProtein))\n",
    "\n",
    "    metadata<-metadata[metadata$Tissue==tissue & (metadata$Protein==protein | metadata$Protein==\"Dam\"),]\n",
    "\n",
    "    dataset <- DESeqDataSetFromMatrix(countData = damid[,cols], colData = metadata, design = ~Protein + Line + Line:Protein)\n",
    "    suppressWarnings(dds<-DESeq(dataset))\n",
    "    \n",
    "    ddsLRT<-nbinomLRT(dds, reduced= ~Line + Protein)\n",
    "    res.ddsLRT<-results(ddsLRT)\n",
    "\n",
    "    print(\"summary LRT\")\n",
    "    summary(res.ddsLRT)\n",
    "    #write.csv(res.dds, file=paste(\"results_\", tissue, \"_\", protein, sep=\"\"))\n",
    "}\n",
    "\n",
    "for (tissue in c(\"C\", \"W\",\"T\")) {\n",
    "    for (protein in c(\"Lam\", \"D1\")) {\n",
    "        print(c(tissue, protein))\n",
    "        #try(return_dataset_for_plot2_interaction(tissue, protein, line, damid, metadata))\n",
    "        return_dataset_for_plot2_interaction(tissue, protein, damid, metadata)\n",
    "    }\n",
    "}\n"
   ]
  },
  {
   "cell_type": "code",
   "execution_count": 75,
   "metadata": {
    "collapsed": false
   },
   "outputs": [
    {
     "name": "stdout",
     "output_type": "stream",
     "text": [
      "[1] \"T\"  \"D1\"\n",
      "[1] 388464     17\n",
      "                    Rep Tissue Country Line Protein  Batch\n",
      "damID.Dam_Fr188_T3    3      T      Fr  188     Dam  damID\n",
      "damID.Dam_Fr188_T4    4      T      Fr  188     Dam  damID\n",
      "damID2.D1_Fr188_T3    3      T      Fr  188      D1 damID2\n",
      "damID2.D1_Fr89_T3     3      T      Fr   89      D1 damID2\n",
      "damID2.D1_Zi238_T3    3      T      Zi  238      D1 damID2\n",
      "damID2.D1_Zi257_T2    2      T      Zi  257      D1 damID2\n",
      "damID2.D1_Zi257_T3    3      T      Zi  257      D1 damID2\n",
      "damID2.Dam_Fr89_T1    1      T      Fr   89     Dam damID2\n",
      "damID2.Dam_Fr89_T2    2      T      Fr   89     Dam damID2\n",
      "damID3.D1_Fr188_T     0      T      Fr  188      D1 damID3\n",
      "damID3.D1_Zi238_T     0      T      Zi  238      D1 damID3\n",
      "damID3.D1_Zi257_T     0      T      Zi  257      D1 damID3\n",
      "damID3.Dam_Fr188_T2   2      T      Fr  188     Dam damID3\n",
      "damID3.Dam_Zi238_T1   1      T      Zi  238     Dam damID3\n",
      "damID3.Dam_Zi238_T2   2      T      Zi  238     Dam damID3\n",
      "damID3.Dam_Zi257_T1   1      T      Zi  257     Dam damID3\n",
      "damID3.Dam_Zi257_T2   2      T      Zi  257     Dam damID3\n",
      "[1] 17  6\n"
     ]
    },
    {
     "name": "stderr",
     "output_type": "stream",
     "text": [
      "factor levels were dropped which had no samples\n",
      "estimating size factors\n",
      "estimating dispersions\n",
      "gene-wise dispersion estimates\n",
      "mean-dispersion relationship\n",
      "final dispersion estimates\n",
      "fitting model and testing\n",
      "found results columns, replacing these\n"
     ]
    },
    {
     "name": "stdout",
     "output_type": "stream",
     "text": [
      "[1] \"summary LRT\"\n",
      "\n",
      "out of 388359 with nonzero total read count\n",
      "adjusted p-value < 0.1\n",
      "LFC > 0 (up)     : 1888, 0.49% \n",
      "LFC < 0 (down)   : 1527, 0.39% \n",
      "outliers [1]     : 2485, 0.64% \n",
      "low counts [2]   : 368648, 95% \n",
      "(mean count < 13)\n",
      "[1] see 'cooksCutoff' argument of ?results\n",
      "[2] see 'independentFiltering' argument of ?results\n",
      "\n"
     ]
    }
   ],
   "source": [
    "#Same as above (we handled the mistake, which was that there was a single line == 275 in our dataset)\n",
    "#Also, there are no 238/Lam columns, so the matrix model is not full rank. \n",
    "#For now, we just consider T and D1\n",
    "\n",
    "return_dataset_for_plot2_interaction<-function(tissue,protein, damid, metadata){\n",
    "    colsTissue<-c(grep(paste(\"_\", tissue, sep=''), names(damid)))\n",
    "    colsProtein<-c(grep(paste(protein, \"_\",sep=''), names(damid)))\n",
    "    colsDam<-c(grep(\"Dam_\", names(damid)))\n",
    "\n",
    "    cols<-intersect(colsTissue,union(colsDam,colsProtein))\n",
    "    print(dim(damid[,cols]))\n",
    "    \n",
    "    metadata<-metadata[metadata$Tissue==tissue & (metadata$Protein==protein | metadata$Protein==\"Dam\"),]\n",
    "    print(metadata)\n",
    "    print(dim(metadata))\n",
    "    \n",
    "    dataset <- DESeqDataSetFromMatrix(countData = damid[,cols], colData = metadata, design = ~Protein + Line + Line:Protein)\n",
    "    suppressWarnings(dds<-DESeq(dataset))\n",
    "    \n",
    "    ddsLRT<-nbinomLRT(dds, reduced= ~Line + Protein)\n",
    "    res.ddsLRT<-results(ddsLRT)\n",
    "\n",
    "    print(\"summary LRT\")\n",
    "    summary(res.ddsLRT)\n",
    "    #write.csv(res.dds, file=paste(\"results_\", tissue, \"_\", protein, sep=\"\"))\n",
    "}\n",
    "\n",
    "for (tissue in c(\"T\")) {\n",
    "    for (protein in c(\"D1\")) {\n",
    "        print(c(tissue, protein))\n",
    "        #try(return_dataset_for_plot2_interaction(tissue, protein, line, damid, metadata))\n",
    "        return_dataset_for_plot2_interaction(tissue, protein, damid, metadata)\n",
    "    }\n",
    "}\n",
    "\n",
    "\n",
    "\n"
   ]
  },
  {
   "cell_type": "markdown",
   "metadata": {},
   "source": [
    "Here we test main effects"
   ]
  },
  {
   "cell_type": "code",
   "execution_count": 43,
   "metadata": {
    "collapsed": false
   },
   "outputs": [
    {
     "name": "stdout",
     "output_type": "stream",
     "text": [
      "[1] \"C\"   \"Lam\"\n"
     ]
    },
    {
     "name": "stderr",
     "output_type": "stream",
     "text": [
      "factor levels were dropped which had no samples\n",
      "estimating size factors\n",
      "estimating dispersions\n",
      "gene-wise dispersion estimates\n",
      "mean-dispersion relationship\n",
      "final dispersion estimates\n",
      "fitting model and testing\n",
      "found results columns, replacing these\n"
     ]
    },
    {
     "name": "stdout",
     "output_type": "stream",
     "text": [
      "[1] \"summary LRT\"\n",
      "\n",
      "out of 388464 with nonzero total read count\n",
      "adjusted p-value < 0.1\n",
      "LFC > 0 (up)     : 72152, 19% \n",
      "LFC < 0 (down)   : 65362, 17% \n",
      "outliers [1]     : 3574, 0.92% \n",
      "low counts [2]   : 37656, 9.7% \n",
      "(mean count < 1)\n",
      "[1] see 'cooksCutoff' argument of ?results\n",
      "[2] see 'independentFiltering' argument of ?results\n",
      "\n",
      "[1] \"C\"  \"D1\"\n"
     ]
    },
    {
     "name": "stderr",
     "output_type": "stream",
     "text": [
      "factor levels were dropped which had no samples\n",
      "estimating size factors\n",
      "estimating dispersions\n",
      "gene-wise dispersion estimates\n",
      "mean-dispersion relationship\n",
      "final dispersion estimates\n",
      "fitting model and testing\n",
      "found results columns, replacing these\n"
     ]
    },
    {
     "name": "stdout",
     "output_type": "stream",
     "text": [
      "[1] \"summary LRT\"\n",
      "\n",
      "out of 388463 with nonzero total read count\n",
      "adjusted p-value < 0.1\n",
      "LFC > 0 (up)     : 2789, 0.72% \n",
      "LFC < 0 (down)   : 4433, 1.1% \n",
      "outliers [1]     : 68, 0.018% \n",
      "low counts [2]   : 248531, 64% \n",
      "(mean count < 2)\n",
      "[1] see 'cooksCutoff' argument of ?results\n",
      "[2] see 'independentFiltering' argument of ?results\n",
      "\n",
      "[1] \"W\"   \"Lam\"\n"
     ]
    },
    {
     "name": "stderr",
     "output_type": "stream",
     "text": [
      "factor levels were dropped which had no samples\n",
      "estimating size factors\n",
      "estimating dispersions\n",
      "gene-wise dispersion estimates\n",
      "mean-dispersion relationship\n",
      "final dispersion estimates\n",
      "fitting model and testing\n",
      "found results columns, replacing these\n"
     ]
    },
    {
     "name": "stdout",
     "output_type": "stream",
     "text": [
      "[1] \"summary LRT\"\n",
      "\n",
      "out of 388464 with nonzero total read count\n",
      "adjusted p-value < 0.1\n",
      "LFC > 0 (up)     : 90048, 23% \n",
      "LFC < 0 (down)   : 92284, 24% \n",
      "outliers [1]     : 746, 0.19% \n",
      "low counts [2]   : 7532, 1.9% \n",
      "(mean count < 1)\n",
      "[1] see 'cooksCutoff' argument of ?results\n",
      "[2] see 'independentFiltering' argument of ?results\n",
      "\n",
      "[1] \"W\"  \"D1\"\n"
     ]
    },
    {
     "name": "stderr",
     "output_type": "stream",
     "text": [
      "factor levels were dropped which had no samples\n",
      "estimating size factors\n",
      "estimating dispersions\n",
      "gene-wise dispersion estimates\n",
      "mean-dispersion relationship\n",
      "final dispersion estimates\n",
      "fitting model and testing\n",
      "found results columns, replacing these\n"
     ]
    },
    {
     "name": "stdout",
     "output_type": "stream",
     "text": [
      "[1] \"summary LRT\"\n",
      "\n",
      "out of 388464 with nonzero total read count\n",
      "adjusted p-value < 0.1\n",
      "LFC > 0 (up)     : 19550, 5% \n",
      "LFC < 0 (down)   : 20629, 5.3% \n",
      "outliers [1]     : 673, 0.17% \n",
      "low counts [2]   : 105440, 27% \n",
      "(mean count < 2)\n",
      "[1] see 'cooksCutoff' argument of ?results\n",
      "[2] see 'independentFiltering' argument of ?results\n",
      "\n",
      "[1] \"T\"   \"Lam\"\n"
     ]
    },
    {
     "name": "stderr",
     "output_type": "stream",
     "text": [
      "factor levels were dropped which had no samples\n",
      "estimating size factors\n",
      "estimating dispersions\n",
      "gene-wise dispersion estimates\n",
      "mean-dispersion relationship\n",
      "final dispersion estimates\n",
      "fitting model and testing\n",
      "found results columns, replacing these\n"
     ]
    },
    {
     "name": "stdout",
     "output_type": "stream",
     "text": [
      "[1] \"summary LRT\"\n",
      "\n",
      "out of 388456 with nonzero total read count\n",
      "adjusted p-value < 0.1\n",
      "LFC > 0 (up)     : 56168, 14% \n",
      "LFC < 0 (down)   : 62316, 16% \n",
      "outliers [1]     : 1282, 0.33% \n",
      "low counts [2]   : 67780, 17% \n",
      "(mean count < 1)\n",
      "[1] see 'cooksCutoff' argument of ?results\n",
      "[2] see 'independentFiltering' argument of ?results\n",
      "\n",
      "[1] \"T\"  \"D1\"\n"
     ]
    },
    {
     "name": "stderr",
     "output_type": "stream",
     "text": [
      "factor levels were dropped which had no samples\n",
      "estimating size factors\n",
      "estimating dispersions\n",
      "gene-wise dispersion estimates\n",
      "mean-dispersion relationship\n",
      "final dispersion estimates\n",
      "fitting model and testing\n",
      "found results columns, replacing these\n"
     ]
    },
    {
     "name": "stdout",
     "output_type": "stream",
     "text": [
      "[1] \"summary LRT\"\n",
      "\n",
      "out of 388404 with nonzero total read count\n",
      "adjusted p-value < 0.1\n",
      "LFC > 0 (up)     : 141, 0.036% \n",
      "LFC < 0 (down)   : 195, 0.05% \n",
      "outliers [1]     : 6433, 1.7% \n",
      "low counts [2]   : 0, 0% \n",
      "(mean count < 0)\n",
      "[1] see 'cooksCutoff' argument of ?results\n",
      "[2] see 'independentFiltering' argument of ?results\n",
      "\n"
     ]
    }
   ],
   "source": [
    "return_dataset_for_plot2_mainEffect<-function(tissue,protein, damid, metadata){\n",
    "    colsTissue<-c(grep(paste(\"_\", tissue, sep=''), names(damid)))\n",
    "    colsProtein<-c(grep(paste(protein, \"_\",sep=''), names(damid)))\n",
    "    colsDam<-c(grep(\"Dam_\", names(damid)))\n",
    "\n",
    "    cols<-intersect(colsTissue,union(colsDam,colsProtein))\n",
    "\n",
    "    metadata<-metadata[metadata$Tissue==tissue & (metadata$Protein==protein | metadata$Protein==\"Dam\"),]\n",
    "\n",
    "    dataset <- DESeqDataSetFromMatrix(countData = damid[,cols], colData = metadata, design = ~Protein + Line)\n",
    "    suppressWarnings(dds<-DESeq(dataset))\n",
    "\n",
    "    ddsLRT<-nbinomLRT(dds, reduced= ~Line)\n",
    "    res.ddsLRT<-results(ddsLRT)\n",
    "\n",
    "    print(\"summary LRT\")\n",
    "    summary(res.ddsLRT)\n",
    "    #write.csv(res.dds, file=paste(\"results_\", tissue, \"_\", protein, sep=\"\"))\n",
    "}\n",
    "\n",
    "for (tissue in c(\"C\", \"W\",\"T\")) {\n",
    "    for (protein in c(\"Lam\", \"D1\")) {\n",
    "        print(c(tissue, protein))\n",
    "        #try(return_dataset_for_plot2_interaction(tissue, protein, line, damid, metadata))\n",
    "        return_dataset_for_plot2_mainEffect(tissue, protein, damid, metadata)\n",
    "    }\n",
    "}\n",
    "\n"
   ]
  },
  {
   "cell_type": "markdown",
   "metadata": {},
   "source": [
    "Testing batch"
   ]
  },
  {
   "cell_type": "code",
   "execution_count": 77,
   "metadata": {
    "collapsed": false
   },
   "outputs": [
    {
     "name": "stdout",
     "output_type": "stream",
     "text": [
      "[1] \"C\"   \"Lam\"\n"
     ]
    },
    {
     "name": "stderr",
     "output_type": "stream",
     "text": [
      "factor levels were dropped which had no samples\n",
      "estimating size factors\n",
      "estimating dispersions\n",
      "gene-wise dispersion estimates\n",
      "mean-dispersion relationship\n",
      "final dispersion estimates\n",
      "fitting model and testing\n",
      "found results columns, replacing these\n"
     ]
    },
    {
     "name": "stdout",
     "output_type": "stream",
     "text": [
      "[1] \"summary LRT\"\n",
      "\n",
      "out of 388464 with nonzero total read count\n",
      "adjusted p-value < 0.1\n",
      "LFC > 0 (up)     : 1688, 0.43% \n",
      "LFC < 0 (down)   : 6433, 1.7% \n",
      "outliers [1]     : 703, 0.18% \n",
      "low counts [2]   : 218409, 56% \n",
      "(mean count < 4)\n",
      "[1] see 'cooksCutoff' argument of ?results\n",
      "[2] see 'independentFiltering' argument of ?results\n",
      "\n",
      "[1] \"C\"  \"D1\"\n"
     ]
    },
    {
     "name": "stderr",
     "output_type": "stream",
     "text": [
      "factor levels were dropped which had no samples\n"
     ]
    },
    {
     "name": "stdout",
     "output_type": "stream",
     "text": [
      "[1] \"W\"   \"Lam\"\n"
     ]
    },
    {
     "name": "stderr",
     "output_type": "stream",
     "text": [
      "factor levels were dropped which had no samples\n",
      "estimating size factors\n",
      "estimating dispersions\n",
      "gene-wise dispersion estimates\n",
      "mean-dispersion relationship\n",
      "final dispersion estimates\n",
      "fitting model and testing\n",
      "4 rows did not converge in beta, labelled in mcols(object)$betaConv. Use larger maxit argument with nbinomWaldTest\n",
      "found results columns, replacing these\n",
      "4 rows did not converge in beta, labelled in mcols(object)$fullBetaConv. Use larger maxit argument with nbinomLRT\n"
     ]
    },
    {
     "name": "stdout",
     "output_type": "stream",
     "text": [
      "[1] \"summary LRT\"\n",
      "\n",
      "out of 388464 with nonzero total read count\n",
      "adjusted p-value < 0.1\n",
      "LFC > 0 (up)     : 50424, 13% \n",
      "LFC < 0 (down)   : 47804, 12% \n",
      "outliers [1]     : 0, 0% \n",
      "low counts [2]   : 90378, 23% \n",
      "(mean count < 2)\n",
      "[1] see 'cooksCutoff' argument of ?results\n",
      "[2] see 'independentFiltering' argument of ?results\n",
      "\n",
      "[1] \"W\"  \"D1\"\n"
     ]
    },
    {
     "name": "stderr",
     "output_type": "stream",
     "text": [
      "factor levels were dropped which had no samples\n",
      "estimating size factors\n",
      "estimating dispersions\n",
      "gene-wise dispersion estimates\n",
      "mean-dispersion relationship\n",
      "final dispersion estimates\n",
      "fitting model and testing\n",
      "3 rows did not converge in beta, labelled in mcols(object)$betaConv. Use larger maxit argument with nbinomWaldTest\n",
      "found results columns, replacing these\n",
      "3 rows did not converge in beta, labelled in mcols(object)$fullBetaConv. Use larger maxit argument with nbinomLRT\n"
     ]
    },
    {
     "name": "stdout",
     "output_type": "stream",
     "text": [
      "[1] \"summary LRT\"\n",
      "\n",
      "out of 388464 with nonzero total read count\n",
      "adjusted p-value < 0.1\n",
      "LFC > 0 (up)     : 41357, 11% \n",
      "LFC < 0 (down)   : 35821, 9.2% \n",
      "outliers [1]     : 0, 0% \n",
      "low counts [2]   : 135566, 35% \n",
      "(mean count < 2)\n",
      "[1] see 'cooksCutoff' argument of ?results\n",
      "[2] see 'independentFiltering' argument of ?results\n",
      "\n",
      "[1] \"T\"   \"Lam\"\n"
     ]
    },
    {
     "name": "stderr",
     "output_type": "stream",
     "text": [
      "factor levels were dropped which had no samples\n"
     ]
    },
    {
     "name": "stdout",
     "output_type": "stream",
     "text": [
      "[1] \"T\"  \"D1\"\n"
     ]
    },
    {
     "name": "stderr",
     "output_type": "stream",
     "text": [
      "factor levels were dropped which had no samples\n",
      "estimating size factors\n",
      "estimating dispersions\n",
      "gene-wise dispersion estimates\n",
      "mean-dispersion relationship\n",
      "final dispersion estimates\n",
      "fitting model and testing\n",
      "633 rows did not converge in beta, labelled in mcols(object)$betaConv. Use larger maxit argument with nbinomWaldTest\n",
      "found results columns, replacing these\n",
      "633 rows did not converge in beta, labelled in mcols(object)$fullBetaConv. Use larger maxit argument with nbinomLRT\n"
     ]
    },
    {
     "name": "stdout",
     "output_type": "stream",
     "text": [
      "[1] \"summary LRT\"\n",
      "\n",
      "out of 388359 with nonzero total read count\n",
      "adjusted p-value < 0.1\n",
      "LFC > 0 (up)     : 1901, 0.49% \n",
      "LFC < 0 (down)   : 5077, 1.3% \n",
      "outliers [1]     : 0, 0% \n",
      "low counts [2]   : 323760, 83% \n",
      "(mean count < 4)\n",
      "[1] see 'cooksCutoff' argument of ?results\n",
      "[2] see 'independentFiltering' argument of ?results\n",
      "\n"
     ]
    }
   ],
   "source": [
    "#C/D1 might not have enough diversity in batch to test batch effect\n",
    "\n",
    "return_dataset_for_plot2_batch<-function(tissue,protein, damid, metadata){\n",
    "    colsTissue<-c(grep(paste(\"_\", tissue, sep=''), names(damid)))\n",
    "    colsProtein<-c(grep(paste(protein, \"_\",sep=''), names(damid)))\n",
    "    colsDam<-c(grep(\"Dam_\", names(damid)))\n",
    "\n",
    "    cols<-intersect(colsTissue,union(colsDam,colsProtein))\n",
    "\n",
    "    metadata<-metadata[metadata$Tissue==tissue & (metadata$Protein==protein | metadata$Protein==\"Dam\"),]\n",
    "\n",
    "    dataset <- DESeqDataSetFromMatrix(countData = damid[,cols], colData = metadata, design = ~Protein + Line + Line:Protein + Batch)\n",
    "    suppressWarnings(dds<-DESeq(dataset))\n",
    "    \n",
    "    ddsLRT<-nbinomLRT(dds, reduced= ~Line + Protein + Line:Protein)\n",
    "    res.ddsLRT<-results(ddsLRT)\n",
    "\n",
    "    print(\"summary LRT\")\n",
    "    summary(res.ddsLRT)\n",
    "    #write.csv(res.dds, file=paste(\"results_\", tissue, \"_\", protein, sep=\"\"))\n",
    "}\n",
    "\n",
    "for (tissue in c(\"C\", \"W\",\"T\")) {\n",
    "    for (protein in c(\"Lam\", \"D1\")) {\n",
    "        print(c(tissue, protein))\n",
    "        #try(return_dataset_for_plot2_interaction(tissue, protein, line, damid, metadata))\n",
    "        try(return_dataset_for_plot2_batch(tissue, protein, damid, metadata))\n",
    "    }\n",
    "}\n",
    "\n"
   ]
  },
  {
   "cell_type": "markdown",
   "metadata": {},
   "source": [
    "find the regions with differential expression.  correlate to gene expression regions"
   ]
  },
  {
   "cell_type": "code",
   "execution_count": null,
   "metadata": {
    "collapsed": true
   },
   "outputs": [],
   "source": []
  }
 ],
 "metadata": {
  "kernelspec": {
   "display_name": "R",
   "language": "R",
   "name": "ir"
  },
  "language_info": {
   "codemirror_mode": "r",
   "file_extension": ".r",
   "mimetype": "text/x-r-source",
   "name": "R",
   "pygments_lexer": "r",
   "version": "3.2.2"
  }
 },
 "nbformat": 4,
 "nbformat_minor": 0
}
