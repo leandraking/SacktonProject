{
 "cells": [
  {
   "cell_type": "markdown",
   "metadata": {},
   "source": [
    "DESeq analysis of DamID data, to see what sites are differentially methylated."
   ]
  },
  {
   "cell_type": "markdown",
   "metadata": {},
   "source": [
    "From prelim analysis, we know that there are regions that are differentially bound.  What do they look like?  They can be big regions, or small regions, or can be clustered or dispersed, or they the same across tissues.\n",
    "\n",
    "remove all W's that are not Batch3\n",
    "TLam interaction analysis with missing line removed, just to make sense of the W issue (W issue is that protein line interaction not significant in W, whereas signicant in C)\n",
    "\n",
    "Do correlation between different datasets of BaseMean and Log2Change value, to answer the question: are areas of high binding the same across protein-line combos?\n",
    "\n",
    "Line effect hypotheses:\n",
    "1) If you imagine a simple binary model where the protein either binds or doesn't.  The base mean if the protein doesn't bind is low.  The peaks of the non-NA regions generally speaking are non-overlapping.  \n",
    "2) Alternatively, some degree of binding.  Regions of binding relatively fixed.\n",
    "(Most likely a mix of these two things.)\n",
    "(Depending on this, we might want to reduce our binding data 1's and 0's when comparing to gene expression.  This might also impact whether we ultimately try to build an HMM, if on/off an HMM is easy)\n",
    "\n",
    "Simplify data to just non-NA rows and plot log2 fold change across genome.  When you look at the difference between lines if you wnat to plot log2fold change across genome.  Send to png.   \n",
    "\n",
    "We tested whether an interaction was significant by doing a NBLRT test.  Pull the regions that are significant from the created dataframes.\n",
    "Write a function that take a row number as input, makes a plot.\n",
    "1) I write to file significant Line by Protein regions (only keep pvalue, padj)\n",
    "2) I can select regions with significant line by protein interaction, and draw a plot of the log2change from my individual analysis (across the dfiferent lines)\n",
    "\n",
    "Make a Manhattan plot of p-values across genomes (on raw pvalues).  color those with padj<.05 in diff color.  Do these significant interactions tend to be clustered or dispersed?\n",
    "\n",
    "Do ACF for these log2fold change for one line by protein tissue combination, or for the main effect of protein across pooled data.\n",
    "\n",
    "\n"
   ]
  },
  {
   "cell_type": "code",
   "execution_count": 1,
   "metadata": {
    "collapsed": false
   },
   "outputs": [
    {
     "name": "stderr",
     "output_type": "stream",
     "text": [
      "Loading required package: S4Vectors\n",
      "Loading required package: stats4\n",
      "Loading required package: BiocGenerics\n",
      "Loading required package: parallel\n",
      "\n",
      "Attaching package: ‘BiocGenerics’\n",
      "\n",
      "The following objects are masked from ‘package:parallel’:\n",
      "\n",
      "    clusterApply, clusterApplyLB, clusterCall, clusterEvalQ,\n",
      "    clusterExport, clusterMap, parApply, parCapply, parLapply,\n",
      "    parLapplyLB, parRapply, parSapply, parSapplyLB\n",
      "\n",
      "The following objects are masked from ‘package:stats’:\n",
      "\n",
      "    IQR, mad, xtabs\n",
      "\n",
      "The following objects are masked from ‘package:base’:\n",
      "\n",
      "    anyDuplicated, append, as.data.frame, as.vector, cbind, colnames,\n",
      "    do.call, duplicated, eval, evalq, Filter, Find, get, grep, grepl,\n",
      "    intersect, is.unsorted, lapply, lengths, Map, mapply, match, mget,\n",
      "    order, paste, pmax, pmax.int, pmin, pmin.int, Position, rank,\n",
      "    rbind, Reduce, rownames, sapply, setdiff, sort, table, tapply,\n",
      "    union, unique, unlist, unsplit\n",
      "\n",
      "Loading required package: IRanges\n",
      "Loading required package: GenomicRanges\n",
      "Loading required package: GenomeInfoDb\n",
      "Loading required package: SummarizedExperiment\n",
      "Loading required package: Biobase\n",
      "Welcome to Bioconductor\n",
      "\n",
      "    Vignettes contain introductory material; view with\n",
      "    'browseVignettes()'. To cite Bioconductor, see\n",
      "    'citation(\"Biobase\")', and for packages 'citation(\"pkgname\")'.\n",
      "\n",
      "Loading required package: Rcpp\n",
      "Loading required package: RcppArmadillo\n",
      "Warning message:\n",
      ": package ‘RcppArmadillo’ was built under R version 3.2.3Warning message:\n",
      ": replacing previous import by ‘ggplot2::Position’ when loading ‘DESeq2’"
     ]
    }
   ],
   "source": [
    "library(DESeq2)"
   ]
  },
  {
   "cell_type": "markdown",
   "metadata": {},
   "source": [
    "Load the files, see what they look like"
   ]
  },
  {
   "cell_type": "code",
   "execution_count": 2,
   "metadata": {
    "collapsed": true
   },
   "outputs": [],
   "source": [
    "#This file is the AdRp file, with columns with counts less than 500000 removed, and with rows with rDNA or MtDNA removed\n",
    "damid<-read.csv(\"AdRp_noMtDNA\")\n",
    "loc<-read.csv(\"Locations\")\n",
    "metadata<-read.csv(\"file_names\")"
   ]
  },
  {
   "cell_type": "code",
   "execution_count": 3,
   "metadata": {
    "collapsed": false
   },
   "outputs": [
    {
     "data": {
      "text/html": [
       "<table>\n",
       "<thead><tr><th></th><th scope=col>X</th><th scope=col>X0</th><th scope=col>X1</th><th scope=col>X2</th></tr></thead>\n",
       "<tbody>\n",
       "\t<tr><th scope=row>1</th><td>0</td><td>211000022278049</td><td>390</td><td>394</td></tr>\n",
       "\t<tr><th scope=row>2</th><td>1</td><td>211000022278049</td><td>537</td><td>541</td></tr>\n",
       "\t<tr><th scope=row>3</th><td>2</td><td>211000022278049</td><td>573</td><td>577</td></tr>\n",
       "\t<tr><th scope=row>4</th><td>3</td><td>211000022278049</td><td>837</td><td>841</td></tr>\n",
       "\t<tr><th scope=row>5</th><td>4</td><td>211000022278049</td><td>1613</td><td>1617</td></tr>\n",
       "\t<tr><th scope=row>6</th><td>5</td><td>211000022278049</td><td>1618</td><td>1622</td></tr>\n",
       "</tbody>\n",
       "</table>\n"
      ],
      "text/latex": [
       "\\begin{tabular}{r|llll}\n",
       "  & X & X0 & X1 & X2\\\\\n",
       "\\hline\n",
       "\t1 & 0 & 211000022278049 & 390 & 394\\\\\n",
       "\t2 & 1 & 211000022278049 & 537 & 541\\\\\n",
       "\t3 & 2 & 211000022278049 & 573 & 577\\\\\n",
       "\t4 & 3 & 211000022278049 & 837 & 841\\\\\n",
       "\t5 & 4 & 211000022278049 & 1613 & 1617\\\\\n",
       "\t6 & 5 & 211000022278049 & 1618 & 1622\\\\\n",
       "\\end{tabular}\n"
      ],
      "text/plain": [
       "  X              X0   X1   X2\n",
       "1 0 211000022278049  390  394\n",
       "2 1 211000022278049  537  541\n",
       "3 2 211000022278049  573  577\n",
       "4 3 211000022278049  837  841\n",
       "5 4 211000022278049 1613 1617\n",
       "6 5 211000022278049 1618 1622"
      ]
     },
     "execution_count": 3,
     "metadata": {},
     "output_type": "execute_result"
    },
    {
     "data": {
      "text/html": [
       "4"
      ],
      "text/latex": [
       "4"
      ],
      "text/markdown": [
       "4"
      ],
      "text/plain": [
       "[1] 4"
      ]
     },
     "execution_count": 3,
     "metadata": {},
     "output_type": "execute_result"
    }
   ],
   "source": [
    "head(loc)\n",
    "length(loc)"
   ]
  },
  {
   "cell_type": "markdown",
   "metadata": {},
   "source": [
    "have new locations list"
   ]
  },
  {
   "cell_type": "code",
   "execution_count": 4,
   "metadata": {
    "collapsed": false
   },
   "outputs": [],
   "source": [
    "loc=paste(loc$X0, \":\", loc$X1, \"-\", loc$X2, sep=\"\")"
   ]
  },
  {
   "cell_type": "code",
   "execution_count": 5,
   "metadata": {
    "collapsed": false
   },
   "outputs": [
    {
     "data": {
      "text/html": [
       "<ol class=list-inline>\n",
       "\t<li>'211000022278049:390-394'</li>\n",
       "\t<li>'211000022278049:537-541'</li>\n",
       "\t<li>'211000022278049:573-577'</li>\n",
       "\t<li>'211000022278049:837-841'</li>\n",
       "\t<li>'211000022278049:1613-1617'</li>\n",
       "\t<li>'211000022278049:1618-1622'</li>\n",
       "</ol>\n"
      ],
      "text/latex": [
       "\\begin{enumerate*}\n",
       "\\item '211000022278049:390-394'\n",
       "\\item '211000022278049:537-541'\n",
       "\\item '211000022278049:573-577'\n",
       "\\item '211000022278049:837-841'\n",
       "\\item '211000022278049:1613-1617'\n",
       "\\item '211000022278049:1618-1622'\n",
       "\\end{enumerate*}\n"
      ],
      "text/markdown": [
       "1. '211000022278049:390-394'\n",
       "2. '211000022278049:537-541'\n",
       "3. '211000022278049:573-577'\n",
       "4. '211000022278049:837-841'\n",
       "5. '211000022278049:1613-1617'\n",
       "6. '211000022278049:1618-1622'\n",
       "\n",
       "\n"
      ],
      "text/plain": [
       "[1] \"211000022278049:390-394\"   \"211000022278049:537-541\"  \n",
       "[3] \"211000022278049:573-577\"   \"211000022278049:837-841\"  \n",
       "[5] \"211000022278049:1613-1617\" \"211000022278049:1618-1622\""
      ]
     },
     "execution_count": 5,
     "metadata": {},
     "output_type": "execute_result"
    }
   ],
   "source": [
    "head(loc)"
   ]
  },
  {
   "cell_type": "code",
   "execution_count": 6,
   "metadata": {
    "collapsed": false
   },
   "outputs": [
    {
     "data": {
      "text/html": [
       "<table>\n",
       "<thead><tr><th></th><th scope=col>X</th><th scope=col>Rep</th><th scope=col>Tissue</th><th scope=col>Country</th><th scope=col>Line</th><th scope=col>NotSureProtein</th><th scope=col>protein</th></tr></thead>\n",
       "<tbody>\n",
       "\t<tr><th scope=row>1</th><td>damID-Dam_Fr188_C1</td><td>1</td><td>C</td><td>Fr</td><td>188</td><td>damID</td><td>Dam</td></tr>\n",
       "\t<tr><th scope=row>2</th><td>damID-Dam_Fr188_C2</td><td>2</td><td>C</td><td>Fr</td><td>188</td><td>damID</td><td>Dam</td></tr>\n",
       "\t<tr><th scope=row>3</th><td>damID-Dam_Fr188_C3</td><td>3</td><td>C</td><td>Fr</td><td>188</td><td>damID</td><td>Dam</td></tr>\n",
       "\t<tr><th scope=row>4</th><td>damID-Dam_Fr188_C4</td><td>4</td><td>C</td><td>Fr</td><td>188</td><td>damID</td><td>Dam</td></tr>\n",
       "\t<tr><th scope=row>5</th><td>damID-Dam_Fr188_T3</td><td>3</td><td>T</td><td>Fr</td><td>188</td><td>damID</td><td>Dam</td></tr>\n",
       "\t<tr><th scope=row>6</th><td>damID-Dam_Fr188_T4</td><td>4</td><td>T</td><td>Fr</td><td>188</td><td>damID</td><td>Dam</td></tr>\n",
       "</tbody>\n",
       "</table>\n"
      ],
      "text/latex": [
       "\\begin{tabular}{r|lllllll}\n",
       "  & X & Rep & Tissue & Country & Line & NotSureProtein & protein\\\\\n",
       "\\hline\n",
       "\t1 & damID-Dam_Fr188_C1 & 1 & C & Fr & 188 & damID & Dam\\\\\n",
       "\t2 & damID-Dam_Fr188_C2 & 2 & C & Fr & 188 & damID & Dam\\\\\n",
       "\t3 & damID-Dam_Fr188_C3 & 3 & C & Fr & 188 & damID & Dam\\\\\n",
       "\t4 & damID-Dam_Fr188_C4 & 4 & C & Fr & 188 & damID & Dam\\\\\n",
       "\t5 & damID-Dam_Fr188_T3 & 3 & T & Fr & 188 & damID & Dam\\\\\n",
       "\t6 & damID-Dam_Fr188_T4 & 4 & T & Fr & 188 & damID & Dam\\\\\n",
       "\\end{tabular}\n"
      ],
      "text/plain": [
       "                   X Rep Tissue Country Line NotSureProtein protein\n",
       "1 damID-Dam_Fr188_C1   1      C      Fr  188          damID     Dam\n",
       "2 damID-Dam_Fr188_C2   2      C      Fr  188          damID     Dam\n",
       "3 damID-Dam_Fr188_C3   3      C      Fr  188          damID     Dam\n",
       "4 damID-Dam_Fr188_C4   4      C      Fr  188          damID     Dam\n",
       "5 damID-Dam_Fr188_T3   3      T      Fr  188          damID     Dam\n",
       "6 damID-Dam_Fr188_T4   4      T      Fr  188          damID     Dam"
      ]
     },
     "execution_count": 6,
     "metadata": {},
     "output_type": "execute_result"
    }
   ],
   "source": [
    "head(metadata)"
   ]
  },
  {
   "cell_type": "code",
   "execution_count": 7,
   "metadata": {
    "collapsed": false
   },
   "outputs": [
    {
     "data": {
      "text/html": [
       "<ol class=list-inline>\n",
       "\t<li>1</li>\n",
       "\t<li>2</li>\n",
       "\t<li>3</li>\n",
       "\t<li>4</li>\n",
       "\t<li>NA</li>\n",
       "</ol>\n"
      ],
      "text/latex": [
       "\\begin{enumerate*}\n",
       "\\item 1\n",
       "\\item 2\n",
       "\\item 3\n",
       "\\item 4\n",
       "\\item NA\n",
       "\\end{enumerate*}\n"
      ],
      "text/markdown": [
       "1. 1\n",
       "2. 2\n",
       "3. 3\n",
       "4. 4\n",
       "5. NA\n",
       "\n",
       "\n"
      ],
      "text/plain": [
       "[1]  1  2  3  4 NA"
      ]
     },
     "execution_count": 7,
     "metadata": {},
     "output_type": "execute_result"
    },
    {
     "data": {
      "text/html": [
       "<ol class=list-inline>\n",
       "\t<li>C</li>\n",
       "\t<li>T</li>\n",
       "\t<li>W</li>\n",
       "\t<li>w</li>\n",
       "</ol>\n"
      ],
      "text/latex": [
       "\\begin{enumerate*}\n",
       "\\item C\n",
       "\\item T\n",
       "\\item W\n",
       "\\item w\n",
       "\\end{enumerate*}\n"
      ],
      "text/markdown": [
       "1. C\n",
       "2. T\n",
       "3. W\n",
       "4. w\n",
       "\n",
       "\n"
      ],
      "text/plain": [
       "[1] C T W w\n",
       "Levels: C T w W"
      ]
     },
     "execution_count": 7,
     "metadata": {},
     "output_type": "execute_result"
    },
    {
     "data": {
      "text/html": [
       "<ol class=list-inline>\n",
       "\t<li>Fr</li>\n",
       "\t<li>Zi</li>\n",
       "</ol>\n"
      ],
      "text/latex": [
       "\\begin{enumerate*}\n",
       "\\item Fr\n",
       "\\item Zi\n",
       "\\end{enumerate*}\n"
      ],
      "text/markdown": [
       "1. Fr\n",
       "2. Zi\n",
       "\n",
       "\n"
      ],
      "text/plain": [
       "[1] Fr Zi\n",
       "Levels: Fr Zi"
      ]
     },
     "execution_count": 7,
     "metadata": {},
     "output_type": "execute_result"
    },
    {
     "data": {
      "text/html": [
       "<ol class=list-inline>\n",
       "\t<li>188</li>\n",
       "\t<li>257</li>\n",
       "\t<li>275</li>\n",
       "\t<li>89</li>\n",
       "\t<li>238</li>\n",
       "</ol>\n"
      ],
      "text/latex": [
       "\\begin{enumerate*}\n",
       "\\item 188\n",
       "\\item 257\n",
       "\\item 275\n",
       "\\item 89\n",
       "\\item 238\n",
       "\\end{enumerate*}\n"
      ],
      "text/markdown": [
       "1. 188\n",
       "2. 257\n",
       "3. 275\n",
       "4. 89\n",
       "5. 238\n",
       "\n",
       "\n"
      ],
      "text/plain": [
       "[1] 188 257 275  89 238"
      ]
     },
     "execution_count": 7,
     "metadata": {},
     "output_type": "execute_result"
    },
    {
     "data": {
      "text/html": [
       "<ol class=list-inline>\n",
       "\t<li>damID</li>\n",
       "\t<li>damID2</li>\n",
       "\t<li>damID3</li>\n",
       "</ol>\n"
      ],
      "text/latex": [
       "\\begin{enumerate*}\n",
       "\\item damID\n",
       "\\item damID2\n",
       "\\item damID3\n",
       "\\end{enumerate*}\n"
      ],
      "text/markdown": [
       "1. damID\n",
       "2. damID2\n",
       "3. damID3\n",
       "\n",
       "\n"
      ],
      "text/plain": [
       "[1] damID  damID2 damID3\n",
       "Levels: damID damID2 damID3"
      ]
     },
     "execution_count": 7,
     "metadata": {},
     "output_type": "execute_result"
    },
    {
     "data": {
      "text/html": [
       "<ol class=list-inline>\n",
       "\t<li>Dam</li>\n",
       "\t<li>Lam</li>\n",
       "\t<li>D1</li>\n",
       "</ol>\n"
      ],
      "text/latex": [
       "\\begin{enumerate*}\n",
       "\\item Dam\n",
       "\\item Lam\n",
       "\\item D1\n",
       "\\end{enumerate*}\n"
      ],
      "text/markdown": [
       "1. Dam\n",
       "2. Lam\n",
       "3. D1\n",
       "\n",
       "\n"
      ],
      "text/plain": [
       "[1] Dam Lam D1 \n",
       "Levels: D1 Dam Lam"
      ]
     },
     "execution_count": 7,
     "metadata": {},
     "output_type": "execute_result"
    }
   ],
   "source": [
    "unique(metadata$Rep)\n",
    "unique(metadata$Tissue)\n",
    "unique(metadata$Country)\n",
    "unique(metadata$Line)\n",
    "unique(metadata$NotSureProtein) #this is batch\n",
    "unique(metadata$protein)"
   ]
  },
  {
   "cell_type": "markdown",
   "metadata": {},
   "source": [
    "What is line 275?  It is: 'damID-Dam_Zi257_T1'.  Confirmed that it's just a typo, and means 257.  There is already a replicate 1 for Dam Zi 257, so we change the value to 'damID-Dam_Zi257_T3'"
   ]
  },
  {
   "cell_type": "code",
   "execution_count": 8,
   "metadata": {
    "collapsed": false
   },
   "outputs": [
    {
     "data": {
      "text/html": [
       "<table>\n",
       "<thead><tr><th></th><th scope=col>X</th><th scope=col>Rep</th><th scope=col>Tissue</th><th scope=col>Country</th><th scope=col>Line</th><th scope=col>NotSureProtein</th><th scope=col>protein</th></tr></thead>\n",
       "<tbody>\n",
       "\t<tr><th scope=row>11</th><td>damID-Dam_Zi275_T1</td><td>1</td><td>T</td><td>Zi</td><td>275</td><td>damID</td><td>Dam</td></tr>\n",
       "</tbody>\n",
       "</table>\n"
      ],
      "text/latex": [
       "\\begin{tabular}{r|lllllll}\n",
       "  & X & Rep & Tissue & Country & Line & NotSureProtein & protein\\\\\n",
       "\\hline\n",
       "\t11 & damID-Dam_Zi275_T1 & 1 & T & Zi & 275 & damID & Dam\\\\\n",
       "\\end{tabular}\n"
      ],
      "text/plain": [
       "                    X Rep Tissue Country Line NotSureProtein protein\n",
       "11 damID-Dam_Zi275_T1   1      T      Zi  275          damID     Dam"
      ]
     },
     "execution_count": 8,
     "metadata": {},
     "output_type": "execute_result"
    },
    {
     "data": {
      "text/html": [
       "<table>\n",
       "<thead><tr><th></th><th scope=col>X</th><th scope=col>Rep</th><th scope=col>Tissue</th><th scope=col>Country</th><th scope=col>Line</th><th scope=col>NotSureProtein</th><th scope=col>protein</th></tr></thead>\n",
       "<tbody>\n",
       "\t<tr><th scope=row>79</th><td>damID3-Dam_Zi257_T1</td><td>1</td><td>T</td><td>Zi</td><td>257</td><td>damID3</td><td>Dam</td></tr>\n",
       "\t<tr><th scope=row>80</th><td>damID3-Dam_Zi257_T2</td><td>2</td><td>T</td><td>Zi</td><td>257</td><td>damID3</td><td>Dam</td></tr>\n",
       "</tbody>\n",
       "</table>\n"
      ],
      "text/latex": [
       "\\begin{tabular}{r|lllllll}\n",
       "  & X & Rep & Tissue & Country & Line & NotSureProtein & protein\\\\\n",
       "\\hline\n",
       "\t79 & damID3-Dam_Zi257_T1 & 1 & T & Zi & 257 & damID3 & Dam\\\\\n",
       "\t80 & damID3-Dam_Zi257_T2 & 2 & T & Zi & 257 & damID3 & Dam\\\\\n",
       "\\end{tabular}\n"
      ],
      "text/plain": [
       "                     X Rep Tissue Country Line NotSureProtein protein\n",
       "79 damID3-Dam_Zi257_T1   1      T      Zi  257         damID3     Dam\n",
       "80 damID3-Dam_Zi257_T2   2      T      Zi  257         damID3     Dam"
      ]
     },
     "execution_count": 8,
     "metadata": {},
     "output_type": "execute_result"
    },
    {
     "data": {
      "text/html": [
       "<table>\n",
       "<thead><tr><th></th><th scope=col>X</th><th scope=col>Rep</th><th scope=col>Tissue</th><th scope=col>Country</th><th scope=col>Line</th><th scope=col>NotSureProtein</th><th scope=col>protein</th></tr></thead>\n",
       "<tbody>\n",
       "\t<tr><th scope=row>11</th><td>damID-Dam_Zi257_T3</td><td>3</td><td>T</td><td>Zi</td><td>257</td><td>damID</td><td>Dam</td></tr>\n",
       "</tbody>\n",
       "</table>\n"
      ],
      "text/latex": [
       "\\begin{tabular}{r|lllllll}\n",
       "  & X & Rep & Tissue & Country & Line & NotSureProtein & protein\\\\\n",
       "\\hline\n",
       "\t11 & damID-Dam_Zi257_T3 & 3 & T & Zi & 257 & damID & Dam\\\\\n",
       "\\end{tabular}\n"
      ],
      "text/plain": [
       "                    X Rep Tissue Country Line NotSureProtein protein\n",
       "11 damID-Dam_Zi257_T3   3      T      Zi  257          damID     Dam"
      ]
     },
     "execution_count": 8,
     "metadata": {},
     "output_type": "execute_result"
    }
   ],
   "source": [
    "metadata$X <- as.character(metadata$X)\n",
    "metadata[metadata$Line == '275',]\n",
    "metadata[metadata$Line == '257' & metadata$Tissue == 'T' & metadata$protein == 'Dam',]\n",
    "metadata[11,1]<-'damID-Dam_Zi257_T3'\n",
    "metadata[11,]$Line<-257\n",
    "metadata[11,]$Rep<-3\n",
    "metadata[11,]"
   ]
  },
  {
   "cell_type": "code",
   "execution_count": 9,
   "metadata": {
    "collapsed": false
   },
   "outputs": [
    {
     "data": {
      "text/html": [
       "<ol class=list-inline>\n",
       "\t<li>1</li>\n",
       "\t<li>2</li>\n",
       "\t<li>3</li>\n",
       "\t<li>4</li>\n",
       "\t<li>0</li>\n",
       "</ol>\n"
      ],
      "text/latex": [
       "\\begin{enumerate*}\n",
       "\\item 1\n",
       "\\item 2\n",
       "\\item 3\n",
       "\\item 4\n",
       "\\item 0\n",
       "\\end{enumerate*}\n"
      ],
      "text/markdown": [
       "1. 1\n",
       "2. 2\n",
       "3. 3\n",
       "4. 4\n",
       "5. 0\n",
       "\n",
       "\n"
      ],
      "text/plain": [
       "[1] 1 2 3 4 0"
      ]
     },
     "execution_count": 9,
     "metadata": {},
     "output_type": "execute_result"
    },
    {
     "data": {
      "text/html": [
       "<ol class=list-inline>\n",
       "\t<li>'C'</li>\n",
       "\t<li>'T'</li>\n",
       "\t<li>'W'</li>\n",
       "</ol>\n"
      ],
      "text/latex": [
       "\\begin{enumerate*}\n",
       "\\item 'C'\n",
       "\\item 'T'\n",
       "\\item 'W'\n",
       "\\end{enumerate*}\n"
      ],
      "text/markdown": [
       "1. 'C'\n",
       "2. 'T'\n",
       "3. 'W'\n",
       "\n",
       "\n"
      ],
      "text/plain": [
       "[1] \"C\" \"T\" \"W\""
      ]
     },
     "execution_count": 9,
     "metadata": {},
     "output_type": "execute_result"
    },
    {
     "data": {
      "text/html": [
       "<table>\n",
       "<thead><tr><th></th><th scope=col>Rep</th><th scope=col>Tissue</th><th scope=col>Country</th><th scope=col>Line</th><th scope=col>Protein</th><th scope=col>Batch</th></tr></thead>\n",
       "<tbody>\n",
       "\t<tr><th scope=row>damID.Dam_Fr188_C1</th><td>1</td><td>C</td><td>Fr</td><td>188</td><td>Dam</td><td>damID</td></tr>\n",
       "\t<tr><th scope=row>damID.Dam_Fr188_C2</th><td>2</td><td>C</td><td>Fr</td><td>188</td><td>Dam</td><td>damID</td></tr>\n",
       "\t<tr><th scope=row>damID.Dam_Fr188_C3</th><td>3</td><td>C</td><td>Fr</td><td>188</td><td>Dam</td><td>damID</td></tr>\n",
       "\t<tr><th scope=row>damID.Dam_Fr188_C4</th><td>4</td><td>C</td><td>Fr</td><td>188</td><td>Dam</td><td>damID</td></tr>\n",
       "\t<tr><th scope=row>damID.Dam_Fr188_T3</th><td>3</td><td>T</td><td>Fr</td><td>188</td><td>Dam</td><td>damID</td></tr>\n",
       "\t<tr><th scope=row>damID.Dam_Fr188_T4</th><td>4</td><td>T</td><td>Fr</td><td>188</td><td>Dam</td><td>damID</td></tr>\n",
       "</tbody>\n",
       "</table>\n"
      ],
      "text/latex": [
       "\\begin{tabular}{r|llllll}\n",
       "  & Rep & Tissue & Country & Line & Protein & Batch\\\\\n",
       "\\hline\n",
       "\tdamID.Dam_Fr188_C1 & 1 & C & Fr & 188 & Dam & damID\\\\\n",
       "\tdamID.Dam_Fr188_C2 & 2 & C & Fr & 188 & Dam & damID\\\\\n",
       "\tdamID.Dam_Fr188_C3 & 3 & C & Fr & 188 & Dam & damID\\\\\n",
       "\tdamID.Dam_Fr188_C4 & 4 & C & Fr & 188 & Dam & damID\\\\\n",
       "\tdamID.Dam_Fr188_T3 & 3 & T & Fr & 188 & Dam & damID\\\\\n",
       "\tdamID.Dam_Fr188_T4 & 4 & T & Fr & 188 & Dam & damID\\\\\n",
       "\\end{tabular}\n"
      ],
      "text/plain": [
       "                   Rep Tissue Country Line Protein Batch\n",
       "damID.Dam_Fr188_C1   1      C      Fr  188     Dam damID\n",
       "damID.Dam_Fr188_C2   2      C      Fr  188     Dam damID\n",
       "damID.Dam_Fr188_C3   3      C      Fr  188     Dam damID\n",
       "damID.Dam_Fr188_C4   4      C      Fr  188     Dam damID\n",
       "damID.Dam_Fr188_T3   3      T      Fr  188     Dam damID\n",
       "damID.Dam_Fr188_T4   4      T      Fr  188     Dam damID"
      ]
     },
     "execution_count": 9,
     "metadata": {},
     "output_type": "execute_result"
    }
   ],
   "source": [
    "#Replace the Na reps with 0\n",
    "metadata[is.na(metadata)] <- 0\n",
    "unique(metadata$Rep)\n",
    "\n",
    "#Replace 'w' with 'W'\n",
    "metadata$Tissue <- toupper(metadata$Tissue)\n",
    "unique(metadata$Tissue)\n",
    "\n",
    "#Replace metadata row names to conform to column names in damid (introduced in next cell)\n",
    "rownames(metadata)=gsub('-', '.', metadata$X)\n",
    "metadata$X = NULL\n",
    "\n",
    "#Change to factors\n",
    "metadata$Country<-factor(metadata$Country)\n",
    "metadata$Line<-factor(metadata$Line)\n",
    "metadata$Protein<-factor(metadata$protein)\n",
    "metadata$Batch<-factor(metadata$NotSureProtein)\n",
    "\n",
    "#Clean up names\n",
    "metadata$protein<-NULL\n",
    "metadata$NotSureProtein<-NULL\n",
    "\n",
    "head(metadata)"
   ]
  },
  {
   "cell_type": "markdown",
   "metadata": {},
   "source": [
    "Remove row names that are not batch3 for 'W'"
   ]
  },
  {
   "cell_type": "code",
   "execution_count": 10,
   "metadata": {
    "collapsed": false
   },
   "outputs": [
    {
     "data": {
      "text/html": [
       "<table>\n",
       "<thead><tr><th></th><th scope=col>Rep</th><th scope=col>Tissue</th><th scope=col>Country</th><th scope=col>Line</th><th scope=col>Protein</th><th scope=col>Batch</th></tr></thead>\n",
       "<tbody>\n",
       "\t<tr><th scope=row>damID.Dam_Zi257_W</th><td>0</td><td>W</td><td>Zi</td><td>257</td><td>Dam</td><td>damID</td></tr>\n",
       "\t<tr><th scope=row>damID2.Dam_Fr188_w</th><td>0</td><td>W</td><td>Fr</td><td>188</td><td>Dam</td><td>damID2</td></tr>\n",
       "\t<tr><th scope=row>damID2.Dam_Zi257_w</th><td>0</td><td>W</td><td>Zi</td><td>257</td><td>Dam</td><td>damID2</td></tr>\n",
       "</tbody>\n",
       "</table>\n"
      ],
      "text/latex": [
       "\\begin{tabular}{r|llllll}\n",
       "  & Rep & Tissue & Country & Line & Protein & Batch\\\\\n",
       "\\hline\n",
       "\tdamID.Dam_Zi257_W & 0 & W & Zi & 257 & Dam & damID\\\\\n",
       "\tdamID2.Dam_Fr188_w & 0 & W & Fr & 188 & Dam & damID2\\\\\n",
       "\tdamID2.Dam_Zi257_w & 0 & W & Zi & 257 & Dam & damID2\\\\\n",
       "\\end{tabular}\n"
      ],
      "text/plain": [
       "                   Rep Tissue Country Line Protein  Batch\n",
       "damID.Dam_Zi257_W    0      W      Zi  257     Dam  damID\n",
       "damID2.Dam_Fr188_w   0      W      Fr  188     Dam damID2\n",
       "damID2.Dam_Zi257_w   0      W      Zi  257     Dam damID2"
      ]
     },
     "execution_count": 10,
     "metadata": {},
     "output_type": "execute_result"
    }
   ],
   "source": [
    "metadata[(metadata$Batch != 'damID3'& metadata$Tissue == 'W'),]\n",
    "removeWNotBatch3<-c('damID.Dam_Zi257_W','damID2.Dam_Fr188_w','damID2.Dam_Zi257_w')\n",
    "metadata<-metadata[-which(rownames(metadata) %in% removeWNotBatch3), ]\n"
   ]
  },
  {
   "cell_type": "markdown",
   "metadata": {},
   "source": [
    "damid dataframe has no mitochondrial genome or rDNA, and we only use columns with sum of counts > 500000."
   ]
  },
  {
   "cell_type": "code",
   "execution_count": 11,
   "metadata": {
    "collapsed": false
   },
   "outputs": [
    {
     "data": {
      "text/html": [
       "<ol class=list-inline>\n",
       "\t<li>'X'</li>\n",
       "\t<li>'damID.Dam_Fr188_C1'</li>\n",
       "\t<li>'damID.Dam_Fr188_C2'</li>\n",
       "\t<li>'damID.Dam_Fr188_C3'</li>\n",
       "\t<li>'damID.Dam_Fr188_C4'</li>\n",
       "\t<li>'damID.Dam_Fr188_T3'</li>\n",
       "\t<li>'damID.Dam_Fr188_T4'</li>\n",
       "\t<li>'damID.Dam_Zi257_C1'</li>\n",
       "\t<li>'damID.Dam_Zi257_C2'</li>\n",
       "\t<li>'damID.Dam_Zi257_C3'</li>\n",
       "\t<li>'damID.Dam_Zi257_W'</li>\n",
       "\t<li>'damID.Dam_Zi275_T1'</li>\n",
       "\t<li>'damID.Lam_Fr188_C1'</li>\n",
       "\t<li>'damID.Lam_Fr188_C2'</li>\n",
       "\t<li>'damID.Lam_Fr188_C3'</li>\n",
       "\t<li>'damID.Lam_Fr188_C'</li>\n",
       "\t<li>'damID.Lam_Fr188_T2'</li>\n",
       "\t<li>'damID.Lam_Fr188_T3'</li>\n",
       "\t<li>'damID.Lam_Zi257_C1'</li>\n",
       "\t<li>'damID.Lam_Zi257_C2'</li>\n",
       "\t<li>'damID.Lam_Zi257_C3'</li>\n",
       "\t<li>'damID.Lam_Zi257_T1'</li>\n",
       "\t<li>'damID.Lam_Zi257_T2'</li>\n",
       "\t<li>'damID.Lam_Zi257_T3'</li>\n",
       "\t<li>'damID2.D1_Fr188_C3'</li>\n",
       "\t<li>'damID2.D1_Fr188_T3'</li>\n",
       "\t<li>'damID2.D1_Fr89_C2'</li>\n",
       "\t<li>'damID2.D1_Fr89_C3'</li>\n",
       "\t<li>'damID2.D1_Fr89_T3'</li>\n",
       "\t<li>'damID2.D1_Zi238_C1'</li>\n",
       "\t<li>'damID2.D1_Zi238_C3'</li>\n",
       "\t<li>'damID2.D1_Zi238_T3'</li>\n",
       "\t<li>'damID2.D1_Zi257_C1'</li>\n",
       "\t<li>'damID2.D1_Zi257_C2'</li>\n",
       "\t<li>'damID2.D1_Zi257_C3'</li>\n",
       "\t<li>'damID2.D1_Zi257_T2'</li>\n",
       "\t<li>'damID2.D1_Zi257_T3'</li>\n",
       "\t<li>'damID2.Dam_Fr188_w'</li>\n",
       "\t<li>'damID2.Dam_Fr89_C1'</li>\n",
       "\t<li>'damID2.Dam_Fr89_C3'</li>\n",
       "\t<li>'damID2.Dam_Fr89_T1'</li>\n",
       "\t<li>'damID2.Dam_Fr89_T2'</li>\n",
       "\t<li>'damID2.Dam_Zi238_C1'</li>\n",
       "\t<li>'damID2.Dam_Zi238_C2'</li>\n",
       "\t<li>'damID2.Dam_Zi238_C3'</li>\n",
       "\t<li>'damID2.Dam_Zi257_w'</li>\n",
       "\t<li>'damID2.Lam_Fr89_C1'</li>\n",
       "\t<li>'damID2.Lam_Fr89_C2'</li>\n",
       "\t<li>'damID2.Lam_Zi238_C1'</li>\n",
       "\t<li>'damID2.Lam_Zi238_C2'</li>\n",
       "\t<li>'damID2.Lam_Zi238_C3'</li>\n",
       "\t<li>'damID2.Lam_Zi257_C4'</li>\n",
       "\t<li>'damID3.D1_Fr188_T'</li>\n",
       "\t<li>'damID3.D1_Fr188_w1'</li>\n",
       "\t<li>'damID3.D1_Fr188_w2'</li>\n",
       "\t<li>'damID3.D1_Fr188_w3'</li>\n",
       "\t<li>'damID3.D1_Fr89_w1'</li>\n",
       "\t<li>'damID3.D1_Fr89_w2'</li>\n",
       "\t<li>'damID3.D1_Fr89_w3'</li>\n",
       "\t<li>'damID3.D1_Zi238_T'</li>\n",
       "\t<li>'damID3.D1_Zi238_w1'</li>\n",
       "\t<li>'damID3.D1_Zi238_w2'</li>\n",
       "\t<li>'damID3.D1_Zi238_w3'</li>\n",
       "\t<li>'damID3.D1_Zi257_T'</li>\n",
       "\t<li>'damID3.D1_Zi257_w1'</li>\n",
       "\t<li>'damID3.D1_Zi257_w2'</li>\n",
       "\t<li>'damID3.D1_Zi257_w3'</li>\n",
       "\t<li>'damID3.Dam_Fr188_T2'</li>\n",
       "\t<li>'damID3.Dam_Fr188_w1'</li>\n",
       "\t<li>'damID3.Dam_Fr188_w2'</li>\n",
       "\t<li>'damID3.Dam_Fr188_w3'</li>\n",
       "\t<li>'damID3.Dam_Fr89_w1'</li>\n",
       "\t<li>'damID3.Dam_Fr89_w2'</li>\n",
       "\t<li>'damID3.Dam_Fr89_w3'</li>\n",
       "\t<li>'damID3.Dam_Zi238_T1'</li>\n",
       "\t<li>'damID3.Dam_Zi238_T2'</li>\n",
       "\t<li>'damID3.Dam_Zi238_w1'</li>\n",
       "\t<li>'damID3.Dam_Zi238_w2'</li>\n",
       "\t<li>'damID3.Dam_Zi238_w3'</li>\n",
       "\t<li>'damID3.Dam_Zi257_T1'</li>\n",
       "\t<li>'damID3.Dam_Zi257_T2'</li>\n",
       "\t<li>'damID3.Dam_Zi257_w1'</li>\n",
       "\t<li>'damID3.Dam_Zi257_w2'</li>\n",
       "\t<li>'damID3.Dam_Zi257_w3'</li>\n",
       "\t<li>'damID3.Lam_Fr188_T1'</li>\n",
       "\t<li>'damID3.Lam_Fr188_T4'</li>\n",
       "\t<li>'damID3.Lam_Fr188_w1'</li>\n",
       "\t<li>'damID3.Lam_Fr188_w2'</li>\n",
       "\t<li>'damID3.Lam_Fr188_w3'</li>\n",
       "\t<li>'damID3.Lam_Fr89_T1'</li>\n",
       "\t<li>'damID3.Lam_Fr89_T2'</li>\n",
       "\t<li>'damID3.Lam_Fr89_w1'</li>\n",
       "\t<li>'damID3.Lam_Fr89_w2'</li>\n",
       "\t<li>'damID3.Lam_Fr89_w3'</li>\n",
       "\t<li>'damID3.Lam_Zi238_w1'</li>\n",
       "\t<li>'damID3.Lam_Zi238_w2'</li>\n",
       "\t<li>'damID3.Lam_Zi238_w3'</li>\n",
       "\t<li>'damID3.Lam_Zi257_w1'</li>\n",
       "\t<li>'damID3.Lam_Zi257_w2'</li>\n",
       "\t<li>'damID3.Lam_Zi257_w3'</li>\n",
       "</ol>\n"
      ],
      "text/latex": [
       "\\begin{enumerate*}\n",
       "\\item 'X'\n",
       "\\item 'damID.Dam_Fr188_C1'\n",
       "\\item 'damID.Dam_Fr188_C2'\n",
       "\\item 'damID.Dam_Fr188_C3'\n",
       "\\item 'damID.Dam_Fr188_C4'\n",
       "\\item 'damID.Dam_Fr188_T3'\n",
       "\\item 'damID.Dam_Fr188_T4'\n",
       "\\item 'damID.Dam_Zi257_C1'\n",
       "\\item 'damID.Dam_Zi257_C2'\n",
       "\\item 'damID.Dam_Zi257_C3'\n",
       "\\item 'damID.Dam_Zi257_W'\n",
       "\\item 'damID.Dam_Zi275_T1'\n",
       "\\item 'damID.Lam_Fr188_C1'\n",
       "\\item 'damID.Lam_Fr188_C2'\n",
       "\\item 'damID.Lam_Fr188_C3'\n",
       "\\item 'damID.Lam_Fr188_C'\n",
       "\\item 'damID.Lam_Fr188_T2'\n",
       "\\item 'damID.Lam_Fr188_T3'\n",
       "\\item 'damID.Lam_Zi257_C1'\n",
       "\\item 'damID.Lam_Zi257_C2'\n",
       "\\item 'damID.Lam_Zi257_C3'\n",
       "\\item 'damID.Lam_Zi257_T1'\n",
       "\\item 'damID.Lam_Zi257_T2'\n",
       "\\item 'damID.Lam_Zi257_T3'\n",
       "\\item 'damID2.D1_Fr188_C3'\n",
       "\\item 'damID2.D1_Fr188_T3'\n",
       "\\item 'damID2.D1_Fr89_C2'\n",
       "\\item 'damID2.D1_Fr89_C3'\n",
       "\\item 'damID2.D1_Fr89_T3'\n",
       "\\item 'damID2.D1_Zi238_C1'\n",
       "\\item 'damID2.D1_Zi238_C3'\n",
       "\\item 'damID2.D1_Zi238_T3'\n",
       "\\item 'damID2.D1_Zi257_C1'\n",
       "\\item 'damID2.D1_Zi257_C2'\n",
       "\\item 'damID2.D1_Zi257_C3'\n",
       "\\item 'damID2.D1_Zi257_T2'\n",
       "\\item 'damID2.D1_Zi257_T3'\n",
       "\\item 'damID2.Dam_Fr188_w'\n",
       "\\item 'damID2.Dam_Fr89_C1'\n",
       "\\item 'damID2.Dam_Fr89_C3'\n",
       "\\item 'damID2.Dam_Fr89_T1'\n",
       "\\item 'damID2.Dam_Fr89_T2'\n",
       "\\item 'damID2.Dam_Zi238_C1'\n",
       "\\item 'damID2.Dam_Zi238_C2'\n",
       "\\item 'damID2.Dam_Zi238_C3'\n",
       "\\item 'damID2.Dam_Zi257_w'\n",
       "\\item 'damID2.Lam_Fr89_C1'\n",
       "\\item 'damID2.Lam_Fr89_C2'\n",
       "\\item 'damID2.Lam_Zi238_C1'\n",
       "\\item 'damID2.Lam_Zi238_C2'\n",
       "\\item 'damID2.Lam_Zi238_C3'\n",
       "\\item 'damID2.Lam_Zi257_C4'\n",
       "\\item 'damID3.D1_Fr188_T'\n",
       "\\item 'damID3.D1_Fr188_w1'\n",
       "\\item 'damID3.D1_Fr188_w2'\n",
       "\\item 'damID3.D1_Fr188_w3'\n",
       "\\item 'damID3.D1_Fr89_w1'\n",
       "\\item 'damID3.D1_Fr89_w2'\n",
       "\\item 'damID3.D1_Fr89_w3'\n",
       "\\item 'damID3.D1_Zi238_T'\n",
       "\\item 'damID3.D1_Zi238_w1'\n",
       "\\item 'damID3.D1_Zi238_w2'\n",
       "\\item 'damID3.D1_Zi238_w3'\n",
       "\\item 'damID3.D1_Zi257_T'\n",
       "\\item 'damID3.D1_Zi257_w1'\n",
       "\\item 'damID3.D1_Zi257_w2'\n",
       "\\item 'damID3.D1_Zi257_w3'\n",
       "\\item 'damID3.Dam_Fr188_T2'\n",
       "\\item 'damID3.Dam_Fr188_w1'\n",
       "\\item 'damID3.Dam_Fr188_w2'\n",
       "\\item 'damID3.Dam_Fr188_w3'\n",
       "\\item 'damID3.Dam_Fr89_w1'\n",
       "\\item 'damID3.Dam_Fr89_w2'\n",
       "\\item 'damID3.Dam_Fr89_w3'\n",
       "\\item 'damID3.Dam_Zi238_T1'\n",
       "\\item 'damID3.Dam_Zi238_T2'\n",
       "\\item 'damID3.Dam_Zi238_w1'\n",
       "\\item 'damID3.Dam_Zi238_w2'\n",
       "\\item 'damID3.Dam_Zi238_w3'\n",
       "\\item 'damID3.Dam_Zi257_T1'\n",
       "\\item 'damID3.Dam_Zi257_T2'\n",
       "\\item 'damID3.Dam_Zi257_w1'\n",
       "\\item 'damID3.Dam_Zi257_w2'\n",
       "\\item 'damID3.Dam_Zi257_w3'\n",
       "\\item 'damID3.Lam_Fr188_T1'\n",
       "\\item 'damID3.Lam_Fr188_T4'\n",
       "\\item 'damID3.Lam_Fr188_w1'\n",
       "\\item 'damID3.Lam_Fr188_w2'\n",
       "\\item 'damID3.Lam_Fr188_w3'\n",
       "\\item 'damID3.Lam_Fr89_T1'\n",
       "\\item 'damID3.Lam_Fr89_T2'\n",
       "\\item 'damID3.Lam_Fr89_w1'\n",
       "\\item 'damID3.Lam_Fr89_w2'\n",
       "\\item 'damID3.Lam_Fr89_w3'\n",
       "\\item 'damID3.Lam_Zi238_w1'\n",
       "\\item 'damID3.Lam_Zi238_w2'\n",
       "\\item 'damID3.Lam_Zi238_w3'\n",
       "\\item 'damID3.Lam_Zi257_w1'\n",
       "\\item 'damID3.Lam_Zi257_w2'\n",
       "\\item 'damID3.Lam_Zi257_w3'\n",
       "\\end{enumerate*}\n"
      ],
      "text/markdown": [
       "1. 'X'\n",
       "2. 'damID.Dam_Fr188_C1'\n",
       "3. 'damID.Dam_Fr188_C2'\n",
       "4. 'damID.Dam_Fr188_C3'\n",
       "5. 'damID.Dam_Fr188_C4'\n",
       "6. 'damID.Dam_Fr188_T3'\n",
       "7. 'damID.Dam_Fr188_T4'\n",
       "8. 'damID.Dam_Zi257_C1'\n",
       "9. 'damID.Dam_Zi257_C2'\n",
       "10. 'damID.Dam_Zi257_C3'\n",
       "11. 'damID.Dam_Zi257_W'\n",
       "12. 'damID.Dam_Zi275_T1'\n",
       "13. 'damID.Lam_Fr188_C1'\n",
       "14. 'damID.Lam_Fr188_C2'\n",
       "15. 'damID.Lam_Fr188_C3'\n",
       "16. 'damID.Lam_Fr188_C'\n",
       "17. 'damID.Lam_Fr188_T2'\n",
       "18. 'damID.Lam_Fr188_T3'\n",
       "19. 'damID.Lam_Zi257_C1'\n",
       "20. 'damID.Lam_Zi257_C2'\n",
       "21. 'damID.Lam_Zi257_C3'\n",
       "22. 'damID.Lam_Zi257_T1'\n",
       "23. 'damID.Lam_Zi257_T2'\n",
       "24. 'damID.Lam_Zi257_T3'\n",
       "25. 'damID2.D1_Fr188_C3'\n",
       "26. 'damID2.D1_Fr188_T3'\n",
       "27. 'damID2.D1_Fr89_C2'\n",
       "28. 'damID2.D1_Fr89_C3'\n",
       "29. 'damID2.D1_Fr89_T3'\n",
       "30. 'damID2.D1_Zi238_C1'\n",
       "31. 'damID2.D1_Zi238_C3'\n",
       "32. 'damID2.D1_Zi238_T3'\n",
       "33. 'damID2.D1_Zi257_C1'\n",
       "34. 'damID2.D1_Zi257_C2'\n",
       "35. 'damID2.D1_Zi257_C3'\n",
       "36. 'damID2.D1_Zi257_T2'\n",
       "37. 'damID2.D1_Zi257_T3'\n",
       "38. 'damID2.Dam_Fr188_w'\n",
       "39. 'damID2.Dam_Fr89_C1'\n",
       "40. 'damID2.Dam_Fr89_C3'\n",
       "41. 'damID2.Dam_Fr89_T1'\n",
       "42. 'damID2.Dam_Fr89_T2'\n",
       "43. 'damID2.Dam_Zi238_C1'\n",
       "44. 'damID2.Dam_Zi238_C2'\n",
       "45. 'damID2.Dam_Zi238_C3'\n",
       "46. 'damID2.Dam_Zi257_w'\n",
       "47. 'damID2.Lam_Fr89_C1'\n",
       "48. 'damID2.Lam_Fr89_C2'\n",
       "49. 'damID2.Lam_Zi238_C1'\n",
       "50. 'damID2.Lam_Zi238_C2'\n",
       "51. 'damID2.Lam_Zi238_C3'\n",
       "52. 'damID2.Lam_Zi257_C4'\n",
       "53. 'damID3.D1_Fr188_T'\n",
       "54. 'damID3.D1_Fr188_w1'\n",
       "55. 'damID3.D1_Fr188_w2'\n",
       "56. 'damID3.D1_Fr188_w3'\n",
       "57. 'damID3.D1_Fr89_w1'\n",
       "58. 'damID3.D1_Fr89_w2'\n",
       "59. 'damID3.D1_Fr89_w3'\n",
       "60. 'damID3.D1_Zi238_T'\n",
       "61. 'damID3.D1_Zi238_w1'\n",
       "62. 'damID3.D1_Zi238_w2'\n",
       "63. 'damID3.D1_Zi238_w3'\n",
       "64. 'damID3.D1_Zi257_T'\n",
       "65. 'damID3.D1_Zi257_w1'\n",
       "66. 'damID3.D1_Zi257_w2'\n",
       "67. 'damID3.D1_Zi257_w3'\n",
       "68. 'damID3.Dam_Fr188_T2'\n",
       "69. 'damID3.Dam_Fr188_w1'\n",
       "70. 'damID3.Dam_Fr188_w2'\n",
       "71. 'damID3.Dam_Fr188_w3'\n",
       "72. 'damID3.Dam_Fr89_w1'\n",
       "73. 'damID3.Dam_Fr89_w2'\n",
       "74. 'damID3.Dam_Fr89_w3'\n",
       "75. 'damID3.Dam_Zi238_T1'\n",
       "76. 'damID3.Dam_Zi238_T2'\n",
       "77. 'damID3.Dam_Zi238_w1'\n",
       "78. 'damID3.Dam_Zi238_w2'\n",
       "79. 'damID3.Dam_Zi238_w3'\n",
       "80. 'damID3.Dam_Zi257_T1'\n",
       "81. 'damID3.Dam_Zi257_T2'\n",
       "82. 'damID3.Dam_Zi257_w1'\n",
       "83. 'damID3.Dam_Zi257_w2'\n",
       "84. 'damID3.Dam_Zi257_w3'\n",
       "85. 'damID3.Lam_Fr188_T1'\n",
       "86. 'damID3.Lam_Fr188_T4'\n",
       "87. 'damID3.Lam_Fr188_w1'\n",
       "88. 'damID3.Lam_Fr188_w2'\n",
       "89. 'damID3.Lam_Fr188_w3'\n",
       "90. 'damID3.Lam_Fr89_T1'\n",
       "91. 'damID3.Lam_Fr89_T2'\n",
       "92. 'damID3.Lam_Fr89_w1'\n",
       "93. 'damID3.Lam_Fr89_w2'\n",
       "94. 'damID3.Lam_Fr89_w3'\n",
       "95. 'damID3.Lam_Zi238_w1'\n",
       "96. 'damID3.Lam_Zi238_w2'\n",
       "97. 'damID3.Lam_Zi238_w3'\n",
       "98. 'damID3.Lam_Zi257_w1'\n",
       "99. 'damID3.Lam_Zi257_w2'\n",
       "100. 'damID3.Lam_Zi257_w3'\n",
       "\n",
       "\n"
      ],
      "text/plain": [
       "  [1] \"X\"                   \"damID.Dam_Fr188_C1\"  \"damID.Dam_Fr188_C2\" \n",
       "  [4] \"damID.Dam_Fr188_C3\"  \"damID.Dam_Fr188_C4\"  \"damID.Dam_Fr188_T3\" \n",
       "  [7] \"damID.Dam_Fr188_T4\"  \"damID.Dam_Zi257_C1\"  \"damID.Dam_Zi257_C2\" \n",
       " [10] \"damID.Dam_Zi257_C3\"  \"damID.Dam_Zi257_W\"   \"damID.Dam_Zi275_T1\" \n",
       " [13] \"damID.Lam_Fr188_C1\"  \"damID.Lam_Fr188_C2\"  \"damID.Lam_Fr188_C3\" \n",
       " [16] \"damID.Lam_Fr188_C\"   \"damID.Lam_Fr188_T2\"  \"damID.Lam_Fr188_T3\" \n",
       " [19] \"damID.Lam_Zi257_C1\"  \"damID.Lam_Zi257_C2\"  \"damID.Lam_Zi257_C3\" \n",
       " [22] \"damID.Lam_Zi257_T1\"  \"damID.Lam_Zi257_T2\"  \"damID.Lam_Zi257_T3\" \n",
       " [25] \"damID2.D1_Fr188_C3\"  \"damID2.D1_Fr188_T3\"  \"damID2.D1_Fr89_C2\"  \n",
       " [28] \"damID2.D1_Fr89_C3\"   \"damID2.D1_Fr89_T3\"   \"damID2.D1_Zi238_C1\" \n",
       " [31] \"damID2.D1_Zi238_C3\"  \"damID2.D1_Zi238_T3\"  \"damID2.D1_Zi257_C1\" \n",
       " [34] \"damID2.D1_Zi257_C2\"  \"damID2.D1_Zi257_C3\"  \"damID2.D1_Zi257_T2\" \n",
       " [37] \"damID2.D1_Zi257_T3\"  \"damID2.Dam_Fr188_w\"  \"damID2.Dam_Fr89_C1\" \n",
       " [40] \"damID2.Dam_Fr89_C3\"  \"damID2.Dam_Fr89_T1\"  \"damID2.Dam_Fr89_T2\" \n",
       " [43] \"damID2.Dam_Zi238_C1\" \"damID2.Dam_Zi238_C2\" \"damID2.Dam_Zi238_C3\"\n",
       " [46] \"damID2.Dam_Zi257_w\"  \"damID2.Lam_Fr89_C1\"  \"damID2.Lam_Fr89_C2\" \n",
       " [49] \"damID2.Lam_Zi238_C1\" \"damID2.Lam_Zi238_C2\" \"damID2.Lam_Zi238_C3\"\n",
       " [52] \"damID2.Lam_Zi257_C4\" \"damID3.D1_Fr188_T\"   \"damID3.D1_Fr188_w1\" \n",
       " [55] \"damID3.D1_Fr188_w2\"  \"damID3.D1_Fr188_w3\"  \"damID3.D1_Fr89_w1\"  \n",
       " [58] \"damID3.D1_Fr89_w2\"   \"damID3.D1_Fr89_w3\"   \"damID3.D1_Zi238_T\"  \n",
       " [61] \"damID3.D1_Zi238_w1\"  \"damID3.D1_Zi238_w2\"  \"damID3.D1_Zi238_w3\" \n",
       " [64] \"damID3.D1_Zi257_T\"   \"damID3.D1_Zi257_w1\"  \"damID3.D1_Zi257_w2\" \n",
       " [67] \"damID3.D1_Zi257_w3\"  \"damID3.Dam_Fr188_T2\" \"damID3.Dam_Fr188_w1\"\n",
       " [70] \"damID3.Dam_Fr188_w2\" \"damID3.Dam_Fr188_w3\" \"damID3.Dam_Fr89_w1\" \n",
       " [73] \"damID3.Dam_Fr89_w2\"  \"damID3.Dam_Fr89_w3\"  \"damID3.Dam_Zi238_T1\"\n",
       " [76] \"damID3.Dam_Zi238_T2\" \"damID3.Dam_Zi238_w1\" \"damID3.Dam_Zi238_w2\"\n",
       " [79] \"damID3.Dam_Zi238_w3\" \"damID3.Dam_Zi257_T1\" \"damID3.Dam_Zi257_T2\"\n",
       " [82] \"damID3.Dam_Zi257_w1\" \"damID3.Dam_Zi257_w2\" \"damID3.Dam_Zi257_w3\"\n",
       " [85] \"damID3.Lam_Fr188_T1\" \"damID3.Lam_Fr188_T4\" \"damID3.Lam_Fr188_w1\"\n",
       " [88] \"damID3.Lam_Fr188_w2\" \"damID3.Lam_Fr188_w3\" \"damID3.Lam_Fr89_T1\" \n",
       " [91] \"damID3.Lam_Fr89_T2\"  \"damID3.Lam_Fr89_w1\"  \"damID3.Lam_Fr89_w2\" \n",
       " [94] \"damID3.Lam_Fr89_w3\"  \"damID3.Lam_Zi238_w1\" \"damID3.Lam_Zi238_w2\"\n",
       " [97] \"damID3.Lam_Zi238_w3\" \"damID3.Lam_Zi257_w1\" \"damID3.Lam_Zi257_w2\"\n",
       "[100] \"damID3.Lam_Zi257_w3\""
      ]
     },
     "execution_count": 11,
     "metadata": {},
     "output_type": "execute_result"
    },
    {
     "data": {
      "text/html": [
       "<table>\n",
       "<thead><tr><th></th><th scope=col>X</th><th scope=col>damID.Dam_Fr188_C1</th><th scope=col>damID.Dam_Fr188_C2</th><th scope=col>damID.Dam_Fr188_C3</th><th scope=col>damID.Dam_Fr188_C4</th><th scope=col>damID.Dam_Fr188_T3</th><th scope=col>damID.Dam_Fr188_T4</th><th scope=col>damID.Dam_Zi257_C1</th><th scope=col>damID.Dam_Zi257_C2</th><th scope=col>damID.Dam_Zi257_C3</th><th scope=col>ellip.h</th><th scope=col>damID3.Lam_Fr89_T2</th><th scope=col>damID3.Lam_Fr89_W1</th><th scope=col>damID3.Lam_Fr89_W2</th><th scope=col>damID3.Lam_Fr89_W3</th><th scope=col>damID3.Lam_Zi238_W1</th><th scope=col>damID3.Lam_Zi238_W2</th><th scope=col>damID3.Lam_Zi238_W3</th><th scope=col>damID3.Lam_Zi257_W1</th><th scope=col>damID3.Lam_Zi257_W2</th><th scope=col>damID3.Lam_Zi257_W3</th></tr></thead>\n",
       "<tbody>\n",
       "\t<tr><th scope=row>1</th><td>0</td><td>3</td><td>1</td><td>0</td><td>0</td><td>3</td><td>3</td><td>1</td><td>2</td><td>0</td><td>⋯</td><td>1</td><td>0</td><td>1</td><td>2</td><td>1</td><td>0</td><td>0</td><td>0</td><td>1</td><td>0</td></tr>\n",
       "\t<tr><th scope=row>2</th><td>1</td><td>3</td><td>0</td><td>0</td><td>0</td><td>2</td><td>3</td><td>1</td><td>1</td><td>0</td><td>⋯</td><td>1</td><td>0</td><td>0</td><td>1</td><td>0</td><td>1</td><td>0</td><td>1</td><td>0</td><td>0</td></tr>\n",
       "\t<tr><th scope=row>3</th><td>2</td><td>3</td><td>0</td><td>0</td><td>0</td><td>2</td><td>3</td><td>1</td><td>1</td><td>0</td><td>⋯</td><td>1</td><td>0</td><td>0</td><td>1</td><td>0</td><td>1</td><td>1</td><td>1</td><td>0</td><td>0</td></tr>\n",
       "\t<tr><th scope=row>4</th><td>3</td><td>1</td><td>0</td><td>0</td><td>0</td><td>2</td><td>1</td><td>2</td><td>1</td><td>1</td><td>⋯</td><td>1</td><td>0</td><td>2</td><td>0</td><td>0</td><td>1</td><td>1</td><td>1</td><td>0</td><td>0</td></tr>\n",
       "\t<tr><th scope=row>5</th><td>4</td><td>0</td><td>2</td><td>2</td><td>2</td><td>0</td><td>1</td><td>1</td><td>2</td><td>0</td><td>⋯</td><td>1</td><td>1</td><td>1</td><td>1</td><td>0</td><td>0</td><td>1</td><td>0</td><td>1</td><td>2</td></tr>\n",
       "\t<tr><th scope=row>6</th><td>5</td><td>0</td><td>2</td><td>2</td><td>2</td><td>0</td><td>1</td><td>1</td><td>2</td><td>0</td><td>⋯</td><td>1</td><td>1</td><td>1</td><td>1</td><td>0</td><td>0</td><td>1</td><td>0</td><td>1</td><td>2</td></tr>\n",
       "</tbody>\n",
       "</table>\n"
      ],
      "text/latex": [
       "\\begin{tabular}{r|lllllllllllllllllllllllllllllllllllllllllllllllllllllllllllllllllllllllllllllllllllllllllllllllll}\n",
       "  & X & damID.Dam_Fr188_C1 & damID.Dam_Fr188_C2 & damID.Dam_Fr188_C3 & damID.Dam_Fr188_C4 & damID.Dam_Fr188_T3 & damID.Dam_Fr188_T4 & damID.Dam_Zi257_C1 & damID.Dam_Zi257_C2 & damID.Dam_Zi257_C3 & ellip.h & damID3.Lam_Fr89_T2 & damID3.Lam_Fr89_W1 & damID3.Lam_Fr89_W2 & damID3.Lam_Fr89_W3 & damID3.Lam_Zi238_W1 & damID3.Lam_Zi238_W2 & damID3.Lam_Zi238_W3 & damID3.Lam_Zi257_W1 & damID3.Lam_Zi257_W2 & damID3.Lam_Zi257_W3\\\\\n",
       "\\hline\n",
       "\t1 & 0 & 3 & 1 & 0 & 0 & 3 & 3 & 1 & 2 & 0 & ⋯ & 1 & 0 & 1 & 2 & 1 & 0 & 0 & 0 & 1 & 0\\\\\n",
       "\t2 & 1 & 3 & 0 & 0 & 0 & 2 & 3 & 1 & 1 & 0 & ⋯ & 1 & 0 & 0 & 1 & 0 & 1 & 0 & 1 & 0 & 0\\\\\n",
       "\t3 & 2 & 3 & 0 & 0 & 0 & 2 & 3 & 1 & 1 & 0 & ⋯ & 1 & 0 & 0 & 1 & 0 & 1 & 1 & 1 & 0 & 0\\\\\n",
       "\t4 & 3 & 1 & 0 & 0 & 0 & 2 & 1 & 2 & 1 & 1 & ⋯ & 1 & 0 & 2 & 0 & 0 & 1 & 1 & 1 & 0 & 0\\\\\n",
       "\t5 & 4 & 0 & 2 & 2 & 2 & 0 & 1 & 1 & 2 & 0 & ⋯ & 1 & 1 & 1 & 1 & 0 & 0 & 1 & 0 & 1 & 2\\\\\n",
       "\t6 & 5 & 0 & 2 & 2 & 2 & 0 & 1 & 1 & 2 & 0 & ⋯ & 1 & 1 & 1 & 1 & 0 & 0 & 1 & 0 & 1 & 2\\\\\n",
       "\\end{tabular}\n"
      ],
      "text/plain": [
       "  X damID.Dam_Fr188_C1 damID.Dam_Fr188_C2 damID.Dam_Fr188_C3 damID.Dam_Fr188_C4\n",
       "1 0                  3                  1                  0                  0\n",
       "2 1                  3                  0                  0                  0\n",
       "3 2                  3                  0                  0                  0\n",
       "4 3                  1                  0                  0                  0\n",
       "5 4                  0                  2                  2                  2\n",
       "6 5                  0                  2                  2                  2\n",
       "  damID.Dam_Fr188_T3 damID.Dam_Fr188_T4 damID.Dam_Zi257_C1 damID.Dam_Zi257_C2\n",
       "1                  3                  3                  1                  2\n",
       "2                  2                  3                  1                  1\n",
       "3                  2                  3                  1                  1\n",
       "4                  2                  1                  2                  1\n",
       "5                  0                  1                  1                  2\n",
       "6                  0                  1                  1                  2\n",
       "  damID.Dam_Zi257_C3 damID.Dam_Zi257_T3 damID.Lam_Fr188_C1 damID.Lam_Fr188_C2\n",
       "1                  0                  1                  3                  3\n",
       "2                  0                  0                  2                  3\n",
       "3                  0                  0                  2                  3\n",
       "4                  1                  0                  0                  1\n",
       "5                  0                  1                  0                  1\n",
       "6                  0                  1                  0                  1\n",
       "  damID.Lam_Fr188_C3 damID.Lam_Fr188_C damID.Lam_Fr188_T2 damID.Lam_Fr188_T3\n",
       "1                  0                 2                  3                  2\n",
       "2                  0                 1                  3                  2\n",
       "3                  0                 1                  3                  2\n",
       "4                  2                 0                  1                  0\n",
       "5                  1                 3                  4                  0\n",
       "6                  1                 3                  4                  0\n",
       "  damID.Lam_Zi257_C1 damID.Lam_Zi257_C2 damID.Lam_Zi257_C3 damID.Lam_Zi257_T1\n",
       "1                  4                  1                  0                  3\n",
       "2                  3                  1                  0                  3\n",
       "3                  2                  0                  0                  3\n",
       "4                  0                  0                  0                  0\n",
       "5                  3                  0                  0                  1\n",
       "6                  3                  0                  0                  1\n",
       "  damID.Lam_Zi257_T2 damID.Lam_Zi257_T3 damID2.D1_Fr188_C3 damID2.D1_Fr188_T3\n",
       "1                  2                  1                  0                  0\n",
       "2                  2                  1                  0                  0\n",
       "3                  2                  1                  0                  0\n",
       "4                  1                  0                  1                  0\n",
       "5                  1                  0                  0                  0\n",
       "6                  1                  0                  0                  0\n",
       "  damID2.D1_Fr89_C2 damID2.D1_Fr89_C3 damID2.D1_Fr89_T3 damID2.D1_Zi238_C1\n",
       "1                 0                 1                 0                  0\n",
       "2                 0                 0                 0                  0\n",
       "3                 0                 0                 0                  0\n",
       "4                 0                 0                 1                  0\n",
       "5                 1                 0                 0                  0\n",
       "6                 1                 0                 0                  0\n",
       "  damID2.D1_Zi238_C3 damID2.D1_Zi238_T3 damID2.D1_Zi257_C1 damID2.D1_Zi257_C2\n",
       "1                  0                  2                  0                  1\n",
       "2                  0                  0                  0                  1\n",
       "3                  0                  0                  0                  1\n",
       "4                  0                  0                  0                  1\n",
       "5                  0                  0                  0                  0\n",
       "6                  0                  0                  0                  0\n",
       "  damID2.D1_Zi257_C3 damID2.D1_Zi257_T2 damID2.D1_Zi257_T3 damID2.Dam_Fr89_C1\n",
       "1                  0                  9                  1                  0\n",
       "2                  0                  9                  1                  1\n",
       "3                  0                  9                  1                  1\n",
       "4                  0                  0                  0                  1\n",
       "5                  1                  1                  0                  0\n",
       "6                  1                  1                  0                  0\n",
       "  damID2.Dam_Fr89_C3 damID2.Dam_Fr89_T1 damID2.Dam_Fr89_T2 damID2.Dam_Zi238_C1\n",
       "1                  0                  0                  0                   1\n",
       "2                  0                  0                  0                   1\n",
       "3                  0                  0                  0                   1\n",
       "4                  0                  0                  0                   0\n",
       "5                  1                  0                  0                   0\n",
       "6                  1                  0                  0                   0\n",
       "  damID2.Dam_Zi238_C2 damID2.Dam_Zi238_C3 damID2.Lam_Fr89_C1 damID2.Lam_Fr89_C2\n",
       "1                   0                   0                  0                  1\n",
       "2                   0                   0                  0                  1\n",
       "3                   1                   0                  0                  1\n",
       "4                   2                   2                  0                  0\n",
       "5                   1                   0                  2                  2\n",
       "6                   1                   0                  2                  2\n",
       "  damID2.Lam_Zi238_C1 damID2.Lam_Zi238_C2 damID2.Lam_Zi238_C3\n",
       "1                   0                   2                   2\n",
       "2                   0                   2                   2\n",
       "3                   0                   2                   2\n",
       "4                   1                   0                   1\n",
       "5                   0                   0                   0\n",
       "6                   0                   0                   0\n",
       "  damID2.Lam_Zi257_C4 damID3.D1_Fr188_T damID3.D1_Fr188_W1 damID3.D1_Fr188_W2\n",
       "1                   1                 0                  1                  0\n",
       "2                   1                 0                  1                  0\n",
       "3                   1                 0                  1                  0\n",
       "4                   0                 0                  1                  1\n",
       "5                   0                 0                  0                  0\n",
       "6                   0                 0                  0                  0\n",
       "  damID3.D1_Fr188_W3 damID3.D1_Fr89_W1 damID3.D1_Fr89_W2 damID3.D1_Fr89_W3\n",
       "1                  0                 1                 1                 1\n",
       "2                  0                 1                 1                 0\n",
       "3                  0                 1                 1                 0\n",
       "4                  0                 0                 0                 0\n",
       "5                  0                 0                 0                 0\n",
       "6                  0                 0                 0                 0\n",
       "  damID3.D1_Zi238_T damID3.D1_Zi238_W1 damID3.D1_Zi238_W2 damID3.D1_Zi238_W3\n",
       "1                 1                  0                  0                  1\n",
       "2                 0                  0                  0                  1\n",
       "3                 0                  0                  0                  1\n",
       "4                 0                  1                  0                  1\n",
       "5                 1                  0                  0                  0\n",
       "6                 1                  0                  0                  0\n",
       "  damID3.D1_Zi257_T damID3.D1_Zi257_W1 damID3.D1_Zi257_W2 damID3.D1_Zi257_W3\n",
       "1                 1                  0                  1                  1\n",
       "2                 1                  0                  0                  0\n",
       "3                 1                  0                  0                  0\n",
       "4                 1                  1                  0                  2\n",
       "5                 0                  1                  0                  0\n",
       "6                 0                  1                  0                  0\n",
       "  damID3.Dam_Fr188_T2 damID3.Dam_Fr188_W1 damID3.Dam_Fr188_W2\n",
       "1                   1                   1                   0\n",
       "2                   1                   1                   0\n",
       "3                   2                   1                   0\n",
       "4                   1                   0                   1\n",
       "5                   1                   1                   1\n",
       "6                   1                   1                   1\n",
       "  damID3.Dam_Fr188_W3 damID3.Dam_Fr89_W1 damID3.Dam_Fr89_W2 damID3.Dam_Fr89_W3\n",
       "1                   2                  0                  2                  0\n",
       "2                   3                  0                  2                  1\n",
       "3                   3                  0                  2                  1\n",
       "4                   1                  1                  0                  2\n",
       "5                   0                  1                  0                  1\n",
       "6                   0                  1                  0                  1\n",
       "  damID3.Dam_Zi238_T1 damID3.Dam_Zi238_T2 damID3.Dam_Zi238_W1\n",
       "1                   0                   1                   0\n",
       "2                   0                   1                   0\n",
       "3                   0                   1                   0\n",
       "4                   0                   0                   1\n",
       "5                   0                   0                   0\n",
       "6                   0                   0                   0\n",
       "  damID3.Dam_Zi238_W2 damID3.Dam_Zi238_W3 damID3.Dam_Zi257_T1\n",
       "1                   0                   0                   0\n",
       "2                   0                   0                   0\n",
       "3                   0                   0                   0\n",
       "4                   0                   0                   0\n",
       "5                   0                   0                   1\n",
       "6                   0                   0                   1\n",
       "  damID3.Dam_Zi257_T2 damID3.Dam_Zi257_W1 damID3.Dam_Zi257_W2\n",
       "1                   0                   0                   2\n",
       "2                   0                   0                   2\n",
       "3                   0                   0                   2\n",
       "4                   0                   0                   1\n",
       "5                   0                   0                   1\n",
       "6                   0                   0                   1\n",
       "  damID3.Dam_Zi257_W3 damID3.Lam_Fr188_T1 damID3.Lam_Fr188_T4\n",
       "1                   0                   0                   0\n",
       "2                   0                   0                   0\n",
       "3                   0                   0                   0\n",
       "4                   0                   0                   0\n",
       "5                   0                   0                   0\n",
       "6                   0                   0                   0\n",
       "  damID3.Lam_Fr188_W1 damID3.Lam_Fr188_W2 damID3.Lam_Fr188_W3\n",
       "1                   1                   0                   0\n",
       "2                   1                   0                   0\n",
       "3                   1                   0                   0\n",
       "4                   0                   0                   0\n",
       "5                   0                   0                   0\n",
       "6                   0                   0                   0\n",
       "  damID3.Lam_Fr89_T1 damID3.Lam_Fr89_T2 damID3.Lam_Fr89_W1 damID3.Lam_Fr89_W2\n",
       "1                  0                  1                  0                  1\n",
       "2                  0                  1                  0                  0\n",
       "3                  0                  1                  0                  0\n",
       "4                  0                  1                  0                  2\n",
       "5                  0                  1                  1                  1\n",
       "6                  0                  1                  1                  1\n",
       "  damID3.Lam_Fr89_W3 damID3.Lam_Zi238_W1 damID3.Lam_Zi238_W2\n",
       "1                  2                   1                   0\n",
       "2                  1                   0                   1\n",
       "3                  1                   0                   1\n",
       "4                  0                   0                   1\n",
       "5                  1                   0                   0\n",
       "6                  1                   0                   0\n",
       "  damID3.Lam_Zi238_W3 damID3.Lam_Zi257_W1 damID3.Lam_Zi257_W2\n",
       "1                   0                   0                   1\n",
       "2                   0                   1                   0\n",
       "3                   1                   1                   0\n",
       "4                   1                   1                   0\n",
       "5                   1                   0                   1\n",
       "6                   1                   0                   1\n",
       "  damID3.Lam_Zi257_W3\n",
       "1                   0\n",
       "2                   0\n",
       "3                   0\n",
       "4                   0\n",
       "5                   2\n",
       "6                   2"
      ]
     },
     "execution_count": 11,
     "metadata": {},
     "output_type": "execute_result"
    },
    {
     "data": {
      "text/html": [
       "'dimensions of damid'"
      ],
      "text/latex": [
       "'dimensions of damid'"
      ],
      "text/markdown": [
       "'dimensions of damid'"
      ],
      "text/plain": [
       "[1] \"dimensions of damid\""
      ]
     },
     "execution_count": 11,
     "metadata": {},
     "output_type": "execute_result"
    },
    {
     "data": {
      "text/html": [
       "<ol class=list-inline>\n",
       "\t<li>388464</li>\n",
       "\t<li>97</li>\n",
       "</ol>\n"
      ],
      "text/latex": [
       "\\begin{enumerate*}\n",
       "\\item 388464\n",
       "\\item 97\n",
       "\\end{enumerate*}\n"
      ],
      "text/markdown": [
       "1. 388464\n",
       "2. 97\n",
       "\n",
       "\n"
      ],
      "text/plain": [
       "[1] 388464     97"
      ]
     },
     "execution_count": 11,
     "metadata": {},
     "output_type": "execute_result"
    }
   ],
   "source": [
    "colnames(damid)\n",
    "#there is a mix of uppercase and lower case W in the colnames, we make them all uppercase\n",
    "colnames(damid)=gsub('w', 'W', colnames(damid))\n",
    "\n",
    "#Remove the column with 275: \n",
    "#damid$damID.Dam_Zi275_T1<-NULL\n",
    "colnames(damid)[colnames(damid) == 'damID.Dam_Zi275_T1'] <- 'damID.Dam_Zi257_T3'\n",
    "\n",
    "#Remove the W's that aren't batch3\n",
    "damid$damID.Dam_Zi257_W<-NULL\n",
    "damid$damID2.Dam_Fr188_W<-NULL\n",
    "damid$damID2.Dam_Zi257_W<-NULL\n",
    "\n",
    "head(damid)\n",
    "\"dimensions of damid\"\n",
    "dim(damid)"
   ]
  },
  {
   "cell_type": "markdown",
   "metadata": {},
   "source": [
    "### Extracting information for each line by protein by line combination in DESeq"
   ]
  },
  {
   "cell_type": "markdown",
   "metadata": {},
   "source": [
    "We want to separate tissues, because that's what we did in our analysis of gene expression data.\n",
    "\n",
    "The reason we run DESeq independently for each line is because we want the shrinkages used in the log2FoldChange calculation to be independent.  (Because of shrinkage, the log2foldchange might be more trustworthy than baseMean (ie. mean(D1)/mean(DAM) (or is it the inverse?)).\n",
    "\n",
    "The following cell returns a list of files of the form:\n",
    "paste(\"results_\", tissue, \"_\", protein,\"_\", line, sep=\"\")\n",
    "which has all the information \"baseMean\",\"log2FoldChange\",\"lfcSE\",\"stat\",\"pvalue\",\"padj\".\n",
    "\n",
    "There are some combinations, like T 238 that can't be used for this analysis (no Lam or D1 entries for T 238, just Dam).\n"
   ]
  },
  {
   "cell_type": "code",
   "execution_count": 14,
   "metadata": {
    "collapsed": false
   },
   "outputs": [
    {
     "name": "stdout",
     "output_type": "stream",
     "text": [
      "[1] 41 42 43 46 47 48\n",
      "                    Rep Tissue Country Line Protein  Batch\n",
      "damID2.Dam_Zi238_C1   1      C      Zi  238     Dam damID2\n",
      "damID2.Dam_Zi238_C2   2      C      Zi  238     Dam damID2\n",
      "damID2.Dam_Zi238_C3   3      C      Zi  238     Dam damID2\n",
      "damID2.Lam_Zi238_C1   1      C      Zi  238     Lam damID2\n",
      "damID2.Lam_Zi238_C2   2      C      Zi  238     Lam damID2\n",
      "damID2.Lam_Zi238_C3   3      C      Zi  238     Lam damID2\n"
     ]
    },
    {
     "name": "stderr",
     "output_type": "stream",
     "text": [
      "factor levels were dropped which had no samples\n",
      "estimating size factors\n",
      "estimating dispersions\n",
      "gene-wise dispersion estimates\n",
      "mean-dispersion relationship\n",
      "final dispersion estimates\n",
      "fitting model and testing\n"
     ]
    },
    {
     "name": "stdout",
     "output_type": "stream",
     "text": [
      "[1] 29 30 41 42 43\n",
      "                    Rep Tissue Country Line Protein  Batch\n",
      "damID2.D1_Zi238_C1    1      C      Zi  238      D1 damID2\n",
      "damID2.D1_Zi238_C3    3      C      Zi  238      D1 damID2\n",
      "damID2.Dam_Zi238_C1   1      C      Zi  238     Dam damID2\n",
      "damID2.Dam_Zi238_C2   2      C      Zi  238     Dam damID2\n",
      "damID2.Dam_Zi238_C3   3      C      Zi  238     Dam damID2\n"
     ]
    },
    {
     "name": "stderr",
     "output_type": "stream",
     "text": [
      "factor levels were dropped which had no samples\n",
      "estimating size factors\n",
      "estimating dispersions\n",
      "gene-wise dispersion estimates\n",
      "mean-dispersion relationship\n",
      "final dispersion estimates\n",
      "fitting model and testing\n"
     ]
    },
    {
     "name": "stdout",
     "output_type": "stream",
     "text": [
      "[1]  8  9 10 18 19 20 49\n",
      "                    Rep Tissue Country Line Protein  Batch\n",
      "damID.Dam_Zi257_C1    1      C      Zi  257     Dam  damID\n",
      "damID.Dam_Zi257_C2    2      C      Zi  257     Dam  damID\n",
      "damID.Dam_Zi257_C3    3      C      Zi  257     Dam  damID\n",
      "damID.Lam_Zi257_C1    1      C      Zi  257     Lam  damID\n",
      "damID.Lam_Zi257_C2    2      C      Zi  257     Lam  damID\n",
      "damID.Lam_Zi257_C3    3      C      Zi  257     Lam  damID\n",
      "damID2.Lam_Zi257_C4   4      C      Zi  257     Lam damID2\n"
     ]
    },
    {
     "name": "stderr",
     "output_type": "stream",
     "text": [
      "factor levels were dropped which had no samples\n",
      "estimating size factors\n",
      "estimating dispersions\n",
      "gene-wise dispersion estimates\n",
      "mean-dispersion relationship\n",
      "final dispersion estimates\n",
      "fitting model and testing\n"
     ]
    },
    {
     "name": "stdout",
     "output_type": "stream",
     "text": [
      "[1]  8  9 10 32 33 34\n",
      "                   Rep Tissue Country Line Protein  Batch\n",
      "damID.Dam_Zi257_C1   1      C      Zi  257     Dam  damID\n",
      "damID.Dam_Zi257_C2   2      C      Zi  257     Dam  damID\n",
      "damID.Dam_Zi257_C3   3      C      Zi  257     Dam  damID\n",
      "damID2.D1_Zi257_C1   1      C      Zi  257      D1 damID2\n",
      "damID2.D1_Zi257_C2   2      C      Zi  257      D1 damID2\n",
      "damID2.D1_Zi257_C3   3      C      Zi  257      D1 damID2\n"
     ]
    },
    {
     "name": "stderr",
     "output_type": "stream",
     "text": [
      "factor levels were dropped which had no samples\n",
      "estimating size factors\n",
      "estimating dispersions\n",
      "gene-wise dispersion estimates\n",
      "mean-dispersion relationship\n",
      "final dispersion estimates\n",
      "fitting model and testing\n"
     ]
    },
    {
     "name": "stdout",
     "output_type": "stream",
     "text": [
      "[1] 37 38 44 45\n",
      "                   Rep Tissue Country Line Protein  Batch\n",
      "damID2.Dam_Fr89_C1   1      C      Fr   89     Dam damID2\n",
      "damID2.Dam_Fr89_C3   3      C      Fr   89     Dam damID2\n",
      "damID2.Lam_Fr89_C1   1      C      Fr   89     Lam damID2\n",
      "damID2.Lam_Fr89_C2   2      C      Fr   89     Lam damID2\n"
     ]
    },
    {
     "name": "stderr",
     "output_type": "stream",
     "text": [
      "factor levels were dropped which had no samples\n",
      "estimating size factors\n",
      "estimating dispersions\n",
      "gene-wise dispersion estimates\n",
      "mean-dispersion relationship\n",
      "final dispersion estimates\n",
      "fitting model and testing\n"
     ]
    },
    {
     "name": "stdout",
     "output_type": "stream",
     "text": [
      "[1] 26 27 37 38\n",
      "                   Rep Tissue Country Line Protein  Batch\n",
      "damID2.D1_Fr89_C2    2      C      Fr   89      D1 damID2\n",
      "damID2.D1_Fr89_C3    3      C      Fr   89      D1 damID2\n",
      "damID2.Dam_Fr89_C1   1      C      Fr   89     Dam damID2\n",
      "damID2.Dam_Fr89_C3   3      C      Fr   89     Dam damID2\n"
     ]
    },
    {
     "name": "stderr",
     "output_type": "stream",
     "text": [
      "factor levels were dropped which had no samples\n",
      "estimating size factors\n",
      "estimating dispersions\n",
      "gene-wise dispersion estimates\n",
      "mean-dispersion relationship\n",
      "final dispersion estimates\n",
      "fitting model and testing\n"
     ]
    },
    {
     "name": "stdout",
     "output_type": "stream",
     "text": [
      "[1]  2  3  4  5 12 13 14 15\n",
      "                   Rep Tissue Country Line Protein Batch\n",
      "damID.Dam_Fr188_C1   1      C      Fr  188     Dam damID\n",
      "damID.Dam_Fr188_C2   2      C      Fr  188     Dam damID\n",
      "damID.Dam_Fr188_C3   3      C      Fr  188     Dam damID\n",
      "damID.Dam_Fr188_C4   4      C      Fr  188     Dam damID\n",
      "damID.Lam_Fr188_C1   1      C      Fr  188     Lam damID\n",
      "damID.Lam_Fr188_C2   2      C      Fr  188     Lam damID\n",
      "damID.Lam_Fr188_C3   3      C      Fr  188     Lam damID\n",
      "damID.Lam_Fr188_C    0      C      Fr  188     Lam damID\n"
     ]
    },
    {
     "name": "stderr",
     "output_type": "stream",
     "text": [
      "factor levels were dropped which had no samples\n",
      "estimating size factors\n",
      "estimating dispersions\n",
      "gene-wise dispersion estimates\n",
      "mean-dispersion relationship\n",
      "final dispersion estimates\n",
      "fitting model and testing\n"
     ]
    },
    {
     "name": "stdout",
     "output_type": "stream",
     "text": [
      "[1]  2  3  4  5 24\n",
      "                   Rep Tissue Country Line Protein  Batch\n",
      "damID.Dam_Fr188_C1   1      C      Fr  188     Dam  damID\n",
      "damID.Dam_Fr188_C2   2      C      Fr  188     Dam  damID\n",
      "damID.Dam_Fr188_C3   3      C      Fr  188     Dam  damID\n",
      "damID.Dam_Fr188_C4   4      C      Fr  188     Dam  damID\n",
      "damID2.D1_Fr188_C3   3      C      Fr  188      D1 damID2\n"
     ]
    },
    {
     "name": "stderr",
     "output_type": "stream",
     "text": [
      "factor levels were dropped which had no samples\n",
      "estimating size factors\n",
      "estimating dispersions\n",
      "gene-wise dispersion estimates\n",
      "mean-dispersion relationship\n",
      "final dispersion estimates\n",
      "fitting model and testing\n"
     ]
    },
    {
     "name": "stdout",
     "output_type": "stream",
     "text": [
      "[1] 74 75 76 92 93 94\n",
      "                    Rep Tissue Country Line Protein  Batch\n",
      "damID3.Dam_Zi238_w1   1      W      Zi  238     Dam damID3\n",
      "damID3.Dam_Zi238_w2   2      W      Zi  238     Dam damID3\n",
      "damID3.Dam_Zi238_w3   3      W      Zi  238     Dam damID3\n",
      "damID3.Lam_Zi238_w1   1      W      Zi  238     Lam damID3\n",
      "damID3.Lam_Zi238_w2   2      W      Zi  238     Lam damID3\n",
      "damID3.Lam_Zi238_w3   3      W      Zi  238     Lam damID3\n"
     ]
    },
    {
     "name": "stderr",
     "output_type": "stream",
     "text": [
      "factor levels were dropped which had no samples\n",
      "estimating size factors\n",
      "estimating dispersions\n",
      "gene-wise dispersion estimates\n",
      "mean-dispersion relationship\n",
      "final dispersion estimates\n",
      "fitting model and testing\n"
     ]
    },
    {
     "name": "stdout",
     "output_type": "stream",
     "text": [
      "[1] 58 59 60 74 75 76\n",
      "                    Rep Tissue Country Line Protein  Batch\n",
      "damID3.D1_Zi238_w1    1      W      Zi  238      D1 damID3\n",
      "damID3.D1_Zi238_w2    2      W      Zi  238      D1 damID3\n",
      "damID3.D1_Zi238_w3    3      W      Zi  238      D1 damID3\n",
      "damID3.Dam_Zi238_w1   1      W      Zi  238     Dam damID3\n",
      "damID3.Dam_Zi238_w2   2      W      Zi  238     Dam damID3\n",
      "damID3.Dam_Zi238_w3   3      W      Zi  238     Dam damID3\n"
     ]
    },
    {
     "name": "stderr",
     "output_type": "stream",
     "text": [
      "factor levels were dropped which had no samples\n",
      "estimating size factors\n",
      "estimating dispersions\n",
      "gene-wise dispersion estimates\n",
      "mean-dispersion relationship\n",
      "-- note: fitType='parametric', but the dispersion trend was not well captured by the\n",
      "   function: y = a/x + b, and a local regression fit was automatically substituted.\n",
      "   specify fitType='local' or 'mean' to avoid this message next time.\n",
      "final dispersion estimates\n",
      "fitting model and testing\n"
     ]
    },
    {
     "name": "stdout",
     "output_type": "stream",
     "text": [
      "[1] 79 80 81 95 96 97\n",
      "                    Rep Tissue Country Line Protein  Batch\n",
      "damID3.Dam_Zi257_w1   1      W      Zi  257     Dam damID3\n",
      "damID3.Dam_Zi257_w2   2      W      Zi  257     Dam damID3\n",
      "damID3.Dam_Zi257_w3   3      W      Zi  257     Dam damID3\n",
      "damID3.Lam_Zi257_w1   1      W      Zi  257     Lam damID3\n",
      "damID3.Lam_Zi257_w2   2      W      Zi  257     Lam damID3\n",
      "damID3.Lam_Zi257_w3   3      W      Zi  257     Lam damID3\n"
     ]
    },
    {
     "name": "stderr",
     "output_type": "stream",
     "text": [
      "factor levels were dropped which had no samples\n",
      "estimating size factors\n",
      "estimating dispersions\n",
      "gene-wise dispersion estimates\n",
      "mean-dispersion relationship\n",
      "final dispersion estimates\n",
      "fitting model and testing\n"
     ]
    },
    {
     "name": "stdout",
     "output_type": "stream",
     "text": [
      "[1] 62 63 64 79 80 81\n",
      "                    Rep Tissue Country Line Protein  Batch\n",
      "damID3.D1_Zi257_w1    1      W      Zi  257      D1 damID3\n",
      "damID3.D1_Zi257_w2    2      W      Zi  257      D1 damID3\n",
      "damID3.D1_Zi257_w3    3      W      Zi  257      D1 damID3\n",
      "damID3.Dam_Zi257_w1   1      W      Zi  257     Dam damID3\n",
      "damID3.Dam_Zi257_w2   2      W      Zi  257     Dam damID3\n",
      "damID3.Dam_Zi257_w3   3      W      Zi  257     Dam damID3\n"
     ]
    },
    {
     "name": "stderr",
     "output_type": "stream",
     "text": [
      "factor levels were dropped which had no samples\n",
      "estimating size factors\n",
      "estimating dispersions\n",
      "gene-wise dispersion estimates\n",
      "mean-dispersion relationship\n",
      "final dispersion estimates\n",
      "fitting model and testing\n"
     ]
    },
    {
     "name": "stdout",
     "output_type": "stream",
     "text": [
      "[1] 69 70 71 89 90 91\n",
      "                   Rep Tissue Country Line Protein  Batch\n",
      "damID3.Dam_Fr89_w1   1      W      Fr   89     Dam damID3\n",
      "damID3.Dam_Fr89_w2   2      W      Fr   89     Dam damID3\n",
      "damID3.Dam_Fr89_w3   3      W      Fr   89     Dam damID3\n",
      "damID3.Lam_Fr89_w1   1      W      Fr   89     Lam damID3\n",
      "damID3.Lam_Fr89_w2   2      W      Fr   89     Lam damID3\n",
      "damID3.Lam_Fr89_w3   3      W      Fr   89     Lam damID3\n"
     ]
    },
    {
     "name": "stderr",
     "output_type": "stream",
     "text": [
      "factor levels were dropped which had no samples\n",
      "estimating size factors\n",
      "estimating dispersions\n",
      "gene-wise dispersion estimates\n",
      "mean-dispersion relationship\n",
      "final dispersion estimates\n",
      "fitting model and testing\n"
     ]
    },
    {
     "name": "stdout",
     "output_type": "stream",
     "text": [
      "[1] 54 55 56 69 70 71\n",
      "                   Rep Tissue Country Line Protein  Batch\n",
      "damID3.D1_Fr89_w1    1      W      Fr   89      D1 damID3\n",
      "damID3.D1_Fr89_w2    2      W      Fr   89      D1 damID3\n",
      "damID3.D1_Fr89_w3    3      W      Fr   89      D1 damID3\n",
      "damID3.Dam_Fr89_w1   1      W      Fr   89     Dam damID3\n",
      "damID3.Dam_Fr89_w2   2      W      Fr   89     Dam damID3\n",
      "damID3.Dam_Fr89_w3   3      W      Fr   89     Dam damID3\n"
     ]
    },
    {
     "name": "stderr",
     "output_type": "stream",
     "text": [
      "factor levels were dropped which had no samples\n",
      "estimating size factors\n",
      "estimating dispersions\n",
      "gene-wise dispersion estimates\n",
      "mean-dispersion relationship\n",
      "final dispersion estimates\n",
      "fitting model and testing\n"
     ]
    },
    {
     "name": "stdout",
     "output_type": "stream",
     "text": [
      "[1] 66 67 68 84 85 86\n",
      "                    Rep Tissue Country Line Protein  Batch\n",
      "damID3.Dam_Fr188_w1   1      W      Fr  188     Dam damID3\n",
      "damID3.Dam_Fr188_w2   2      W      Fr  188     Dam damID3\n",
      "damID3.Dam_Fr188_w3   3      W      Fr  188     Dam damID3\n",
      "damID3.Lam_Fr188_w1   1      W      Fr  188     Lam damID3\n",
      "damID3.Lam_Fr188_w2   2      W      Fr  188     Lam damID3\n",
      "damID3.Lam_Fr188_w3   3      W      Fr  188     Lam damID3\n"
     ]
    },
    {
     "name": "stderr",
     "output_type": "stream",
     "text": [
      "factor levels were dropped which had no samples\n",
      "estimating size factors\n",
      "estimating dispersions\n",
      "gene-wise dispersion estimates\n",
      "mean-dispersion relationship\n",
      "final dispersion estimates\n",
      "fitting model and testing\n"
     ]
    },
    {
     "name": "stdout",
     "output_type": "stream",
     "text": [
      "[1] 51 52 53 66 67 68\n",
      "                    Rep Tissue Country Line Protein  Batch\n",
      "damID3.D1_Fr188_w1    1      W      Fr  188      D1 damID3\n",
      "damID3.D1_Fr188_w2    2      W      Fr  188      D1 damID3\n",
      "damID3.D1_Fr188_w3    3      W      Fr  188      D1 damID3\n",
      "damID3.Dam_Fr188_w1   1      W      Fr  188     Dam damID3\n",
      "damID3.Dam_Fr188_w2   2      W      Fr  188     Dam damID3\n",
      "damID3.Dam_Fr188_w3   3      W      Fr  188     Dam damID3\n"
     ]
    },
    {
     "name": "stderr",
     "output_type": "stream",
     "text": [
      "factor levels were dropped which had no samples\n",
      "estimating size factors\n",
      "estimating dispersions\n",
      "gene-wise dispersion estimates\n",
      "mean-dispersion relationship\n",
      "final dispersion estimates\n",
      "fitting model and testing\n"
     ]
    },
    {
     "name": "stdout",
     "output_type": "stream",
     "text": [
      "[1] 72 73\n",
      "                    Rep Tissue Country Line Protein  Batch\n",
      "damID3.Dam_Zi238_T1   1      T      Zi  238     Dam damID3\n",
      "damID3.Dam_Zi238_T2   2      T      Zi  238     Dam damID3\n",
      "[1] 31 57 72 73\n",
      "                    Rep Tissue Country Line Protein  Batch\n",
      "damID2.D1_Zi238_T3    3      T      Zi  238      D1 damID2\n",
      "damID3.D1_Zi238_T     0      T      Zi  238      D1 damID3\n",
      "damID3.Dam_Zi238_T1   1      T      Zi  238     Dam damID3\n",
      "damID3.Dam_Zi238_T2   2      T      Zi  238     Dam damID3\n"
     ]
    },
    {
     "name": "stderr",
     "output_type": "stream",
     "text": [
      "factor levels were dropped which had no samples\n",
      "estimating size factors\n",
      "estimating dispersions\n",
      "gene-wise dispersion estimates\n",
      "mean-dispersion relationship\n",
      "final dispersion estimates\n",
      "fitting model and testing\n"
     ]
    },
    {
     "name": "stdout",
     "output_type": "stream",
     "text": [
      "[1] 11 21 22 23 77 78\n",
      "                    Rep Tissue Country Line Protein  Batch\n",
      "damID.Dam_Zi257_T3    3      T      Zi  257     Dam  damID\n",
      "damID.Lam_Zi257_T1    1      T      Zi  257     Lam  damID\n",
      "damID.Lam_Zi257_T2    2      T      Zi  257     Lam  damID\n",
      "damID.Lam_Zi257_T3    3      T      Zi  257     Lam  damID\n",
      "damID3.Dam_Zi257_T1   1      T      Zi  257     Dam damID3\n",
      "damID3.Dam_Zi257_T2   2      T      Zi  257     Dam damID3\n"
     ]
    },
    {
     "name": "stderr",
     "output_type": "stream",
     "text": [
      "factor levels were dropped which had no samples\n",
      "estimating size factors\n",
      "estimating dispersions\n",
      "gene-wise dispersion estimates\n",
      "mean-dispersion relationship\n",
      "final dispersion estimates\n",
      "fitting model and testing\n"
     ]
    },
    {
     "name": "stdout",
     "output_type": "stream",
     "text": [
      "[1] 11 35 36 61 77 78\n",
      "                    Rep Tissue Country Line Protein  Batch\n",
      "damID.Dam_Zi257_T3    3      T      Zi  257     Dam  damID\n",
      "damID2.D1_Zi257_T2    2      T      Zi  257      D1 damID2\n",
      "damID2.D1_Zi257_T3    3      T      Zi  257      D1 damID2\n",
      "damID3.D1_Zi257_T     0      T      Zi  257      D1 damID3\n",
      "damID3.Dam_Zi257_T1   1      T      Zi  257     Dam damID3\n",
      "damID3.Dam_Zi257_T2   2      T      Zi  257     Dam damID3\n"
     ]
    },
    {
     "name": "stderr",
     "output_type": "stream",
     "text": [
      "factor levels were dropped which had no samples\n",
      "estimating size factors\n",
      "estimating dispersions\n",
      "gene-wise dispersion estimates\n",
      "mean-dispersion relationship\n",
      "final dispersion estimates\n",
      "fitting model and testing\n"
     ]
    },
    {
     "name": "stdout",
     "output_type": "stream",
     "text": [
      "[1] 39 40 87 88\n",
      "                   Rep Tissue Country Line Protein  Batch\n",
      "damID2.Dam_Fr89_T1   1      T      Fr   89     Dam damID2\n",
      "damID2.Dam_Fr89_T2   2      T      Fr   89     Dam damID2\n",
      "damID3.Lam_Fr89_T1   1      T      Fr   89     Lam damID3\n",
      "damID3.Lam_Fr89_T2   2      T      Fr   89     Lam damID3\n"
     ]
    },
    {
     "name": "stderr",
     "output_type": "stream",
     "text": [
      "factor levels were dropped which had no samples\n",
      "estimating size factors\n",
      "estimating dispersions\n",
      "gene-wise dispersion estimates\n",
      "mean-dispersion relationship\n",
      "final dispersion estimates\n",
      "fitting model and testing\n"
     ]
    },
    {
     "name": "stdout",
     "output_type": "stream",
     "text": [
      "[1] 28 39 40\n",
      "                   Rep Tissue Country Line Protein  Batch\n",
      "damID2.D1_Fr89_T3    3      T      Fr   89      D1 damID2\n",
      "damID2.Dam_Fr89_T1   1      T      Fr   89     Dam damID2\n",
      "damID2.Dam_Fr89_T2   2      T      Fr   89     Dam damID2\n"
     ]
    },
    {
     "name": "stderr",
     "output_type": "stream",
     "text": [
      "factor levels were dropped which had no samples\n",
      "estimating size factors\n",
      "estimating dispersions\n",
      "gene-wise dispersion estimates\n",
      "mean-dispersion relationship\n",
      "final dispersion estimates\n",
      "fitting model and testing\n"
     ]
    },
    {
     "name": "stdout",
     "output_type": "stream",
     "text": [
      "[1]  6  7 16 17 65 82 83\n",
      "                    Rep Tissue Country Line Protein  Batch\n",
      "damID.Dam_Fr188_T3    3      T      Fr  188     Dam  damID\n",
      "damID.Dam_Fr188_T4    4      T      Fr  188     Dam  damID\n",
      "damID.Lam_Fr188_T2    2      T      Fr  188     Lam  damID\n",
      "damID.Lam_Fr188_T3    3      T      Fr  188     Lam  damID\n",
      "damID3.Dam_Fr188_T2   2      T      Fr  188     Dam damID3\n",
      "damID3.Lam_Fr188_T1   1      T      Fr  188     Lam damID3\n",
      "damID3.Lam_Fr188_T4   4      T      Fr  188     Lam damID3\n"
     ]
    },
    {
     "name": "stderr",
     "output_type": "stream",
     "text": [
      "factor levels were dropped which had no samples\n",
      "estimating size factors\n",
      "estimating dispersions\n",
      "gene-wise dispersion estimates\n",
      "mean-dispersion relationship\n",
      "final dispersion estimates\n",
      "fitting model and testing\n"
     ]
    },
    {
     "name": "stdout",
     "output_type": "stream",
     "text": [
      "[1]  6  7 25 50 65\n",
      "                    Rep Tissue Country Line Protein  Batch\n",
      "damID.Dam_Fr188_T3    3      T      Fr  188     Dam  damID\n",
      "damID.Dam_Fr188_T4    4      T      Fr  188     Dam  damID\n",
      "damID2.D1_Fr188_T3    3      T      Fr  188      D1 damID2\n",
      "damID3.D1_Fr188_T     0      T      Fr  188      D1 damID3\n",
      "damID3.Dam_Fr188_T2   2      T      Fr  188     Dam damID3\n"
     ]
    },
    {
     "name": "stderr",
     "output_type": "stream",
     "text": [
      "factor levels were dropped which had no samples\n",
      "estimating size factors\n",
      "estimating dispersions\n",
      "gene-wise dispersion estimates\n",
      "mean-dispersion relationship\n",
      "final dispersion estimates\n",
      "fitting model and testing\n"
     ]
    }
   ],
   "source": [
    "return_dataset_for_plot<-function(tissue,protein,line, damid, metadata){\n",
    "    colsTissue<-c(grep(paste(\"_\", tissue, sep=''), names(damid)))\n",
    "    colsProtein<-c(grep(paste(protein, \"_\",sep=''), names(damid)))\n",
    "    colsDam<-c(grep(\"Dam_\", names(damid)))\n",
    "    colsLine<-c(grep(line, names(damid)))\n",
    "    \n",
    "    cols<-intersect(intersect(colsTissue,colsLine),union(colsDam,colsProtein))\n",
    "    \n",
    "    print(cols)\n",
    "\n",
    "    metadata<-metadata[metadata$Tissue==tissue & (metadata$Protein==protein | metadata$Protein==\"Dam\") & metadata$Line==line,]\n",
    "\n",
    "    print(metadata)\n",
    "    dataset <- DESeqDataSetFromMatrix(countData = damid[,cols], colData = metadata, design = ~Protein)\n",
    "    suppressWarnings(dds<-DESeq(dataset))\n",
    "    res.dds<-results(dds)\n",
    "    write.csv(res.dds, file=paste(\"results_\", tissue, \"_\", protein,\"_\", line, sep=\"\"))\n",
    "}\n",
    "\n",
    "\n",
    "#There are some combinations, like T 238 that can't be used for this analysis (no Lam or D1 entries)\n",
    "for (tissue in c(\"C\", \"W\",\"T\")) {\n",
    "    for (line in c(\"238\",\"257\",\"89\",\"188\")) {\n",
    "        for (protein in c(\"Lam\", \"D1\")) {\n",
    "            try(return_dataset_for_plot(tissue, protein, line, damid, metadata))\n",
    "        }\n",
    "    }\n",
    "}\n"
   ]
  },
  {
   "cell_type": "markdown",
   "metadata": {},
   "source": [
    "## Extracting main effects info (also info about batch and interactions)"
   ]
  },
  {
   "cell_type": "markdown",
   "metadata": {},
   "source": [
    "Here we don't separate information by line.  These give us general results on D1 and Lam, and tell us about the effect of Batch.  \n",
    "\n",
    "The conclusion we get from doing a binomial test for carcass and D1: (full = ~Line*Protein; reduced= ~Line + Protein)  and (full = ~Line + Protein; reduced= ~Protein):\n",
    "D1 protein binds to few places. We don't see a main effect for D1, so we also don’t predict to be able to see an interaction of line:protein (and we don't). However, the fact that there isn't a high percentage of LFC >0 and LFC <0  doesn’t mean there isn’t differential binding of D1. (Low counts= 83%).  If the (few) sites at which we see differential binding do  have differential gene expression by line, then this would point to a possible mechanism by which the Y chromosome can affect gene expression across the autosomes.  This is because we know that D1 binds to several Y chromosome satellites.  So this would be consistent with the hypothesis that the Y chromosome acts as a protein sink.\n",
    "We can't test Batch for D1 because not enough variety of Batch for D1 protein.\n",
    "\n",
    "\n",
    "The conclusion we get from doing a binomial test for carcass and Lam: (full = ~Line*Protein; reduced= ~Line + Protein) and (full = ~Line + Protein; reduced= ~Protein) and (full = ~Line*Protein + Batch; reduced= ~Line*Protein):\n",
    "1. We see more binding of the Lam protein than D1 protein (this is expected).  Specifically, more main effects of D1, and we also see evidence for the interaction Line:protein.  We might be able to conclude from this that there is a link between variation in expression and variation in chromatin state (once we do that analysis), but unlike in the D1 case we can't draw conclusions about the mechanism.  We can simply conclude that some underlying genetic mechanism on Y chromosome affects both changes in expression and changes in chromatin.  It could be for example Y chromo affects expression which in turn affects chromatin state, or Y chromo affects chromatin state which in turn affects gene expression.  It could also be structural (different sites are near the nuclear envelope depending on the size of the Y chromosome).\n",
    "2.  Batch doesn't seem to have much of an effect, at least in the carcass and Lam case.\n",
    "\n",
    "Whar do we make of the fact that we dont see diff expression for W?\n",
    "\n"
   ]
  },
  {
   "cell_type": "markdown",
   "metadata": {},
   "source": [
    "We first run a control: we restrict ourselves to Dam-only data, and check to see if an LRT prefers full model: ~Line over reduced model: ~1.  Then answer is that for carcass data, there does seem to be a line effect.  Not sure what to make of it."
   ]
  },
  {
   "cell_type": "code",
   "execution_count": 15,
   "metadata": {
    "collapsed": false
   },
   "outputs": [
    {
     "name": "stdout",
     "output_type": "stream",
     "text": [
      "[1] \"C\"\n",
      " [1]  2  3  4  5  8  9 10 37 38 41 42 43\n"
     ]
    },
    {
     "name": "stderr",
     "output_type": "stream",
     "text": [
      "estimating size factors\n",
      "estimating dispersions\n",
      "gene-wise dispersion estimates\n",
      "mean-dispersion relationship\n",
      "final dispersion estimates\n",
      "fitting model and testing\n",
      "found results columns, replacing these\n"
     ]
    },
    {
     "name": "stdout",
     "output_type": "stream",
     "text": [
      "[1] \"summary LRT\"\n",
      "\n",
      "out of 388415 with nonzero total read count\n",
      "adjusted p-value < 0.1\n",
      "LFC > 0 (up)     : 3906, 1% \n",
      "LFC < 0 (down)   : 3888, 1% \n",
      "outliers [1]     : 17, 0.0044% \n",
      "low counts [2]   : 278626, 72% \n",
      "(mean count < 4)\n",
      "[1] see 'cooksCutoff' argument of ?results\n",
      "[2] see 'independentFiltering' argument of ?results\n",
      "\n",
      "[1] \"W\"\n",
      " [1] 66 67 68 69 70 71 74 75 76 79 80 81\n"
     ]
    },
    {
     "name": "stderr",
     "output_type": "stream",
     "text": [
      "estimating size factors\n",
      "estimating dispersions\n",
      "gene-wise dispersion estimates\n",
      "mean-dispersion relationship\n",
      "final dispersion estimates\n",
      "fitting model and testing\n",
      "found results columns, replacing these\n"
     ]
    },
    {
     "name": "stdout",
     "output_type": "stream",
     "text": [
      "[1] \"summary LRT\"\n",
      "\n",
      "out of 388376 with nonzero total read count\n",
      "adjusted p-value < 0.1\n",
      "LFC > 0 (up)     : 8, 0.0021% \n",
      "LFC < 0 (down)   : 56, 0.014% \n",
      "outliers [1]     : 0, 0% \n",
      "low counts [2]   : 301186, 78% \n",
      "(mean count < 7)\n",
      "[1] see 'cooksCutoff' argument of ?results\n",
      "[2] see 'independentFiltering' argument of ?results\n",
      "\n",
      "[1] \"T\"\n",
      " [1]  6  7 11 39 40 65 72 73 77 78\n"
     ]
    },
    {
     "name": "stderr",
     "output_type": "stream",
     "text": [
      "estimating size factors\n",
      "estimating dispersions\n",
      "gene-wise dispersion estimates\n",
      "mean-dispersion relationship\n",
      "final dispersion estimates\n",
      "fitting model and testing\n",
      "found results columns, replacing these\n"
     ]
    },
    {
     "name": "stdout",
     "output_type": "stream",
     "text": [
      "[1] \"summary LRT\"\n",
      "\n",
      "out of 387327 with nonzero total read count\n",
      "adjusted p-value < 0.1\n",
      "LFC > 0 (up)     : 3474, 0.9% \n",
      "LFC < 0 (down)   : 3580, 0.92% \n",
      "outliers [1]     : 59, 0.015% \n",
      "low counts [2]   : 322853, 83% \n",
      "(mean count < 5)\n",
      "[1] see 'cooksCutoff' argument of ?results\n",
      "[2] see 'independentFiltering' argument of ?results\n",
      "\n"
     ]
    }
   ],
   "source": [
    "interaction_Dam_control<-function(tissue, damid, metadata){\n",
    "    colsTissue<-c(grep(paste(\"_\", tissue, sep=''), names(damid)))\n",
    "    colsDam<-c(grep(\"Dam_\", names(damid)))\n",
    "\n",
    "    cols<-intersect(colsTissue,colsDam)\n",
    "    print(cols)\n",
    "\n",
    "    protein=\"Dam\"\n",
    "    metadata<-metadata[metadata$Tissue==tissue & (metadata$Protein==protein | metadata$Protein==\"Dam\"),]\n",
    "\n",
    "    dataset <- DESeqDataSetFromMatrix(countData = damid[,cols], colData = metadata, design = ~Line)\n",
    "    suppressWarnings(dds<-DESeq(dataset))\n",
    "    \n",
    "    ddsLRT<-nbinomLRT(dds, reduced= ~1)\n",
    "    res.ddsLRT<-results(ddsLRT)\n",
    "\n",
    "    print(\"summary LRT\")\n",
    "    summary(res.ddsLRT)\n",
    "    \n",
    "    #write.csv(res.ddsLRT, file=paste(\"nbin_interaction_results_\", tissue, \"_\", protein, sep=\"\"))\n",
    "    \n",
    "    #res.dds<-results(dds)\n",
    "    #write.csv(res.dds, file=paste(\"interaction_results_\", tissue, \"_\", protein, sep=\"\"))\n",
    "}\n",
    "\n",
    "for (tissue in c(\"C\", \"W\",\"T\")) {\n",
    "    print(tissue)\n",
    "    interaction_Dam_control(tissue, damid, metadata)\n",
    "}\n",
    "\n"
   ]
  },
  {
   "cell_type": "markdown",
   "metadata": {},
   "source": [
    "These values for the control are quite high in testes and carcass, especially in comparison to whole-fly tissue.  We do the same analysis with Lam and D1, ignoring Dam."
   ]
  },
  {
   "cell_type": "code",
   "execution_count": 12,
   "metadata": {
    "collapsed": false
   },
   "outputs": [
    {
     "name": "stdout",
     "output_type": "stream",
     "text": [
      "[1] \"C\"\n",
      " [1] 12 13 14 15 18 19 20 44 45 46 47 48 49\n"
     ]
    },
    {
     "name": "stderr",
     "output_type": "stream",
     "text": [
      "estimating size factors\n",
      "estimating dispersions\n",
      "gene-wise dispersion estimates\n",
      "mean-dispersion relationship\n",
      "final dispersion estimates\n",
      "fitting model and testing\n",
      "found results columns, replacing these\n"
     ]
    },
    {
     "name": "stdout",
     "output_type": "stream",
     "text": [
      "[1] \"summary LRT\"\n",
      "\n",
      "out of 388446 with nonzero total read count\n",
      "adjusted p-value < 0.1\n",
      "LFC > 0 (up)     : 23333, 6% \n",
      "LFC < 0 (down)   : 29712, 7.6% \n",
      "outliers [1]     : 2701, 0.7% \n",
      "low counts [2]   : 97904, 25% \n",
      "(mean count < 2)\n",
      "[1] see 'cooksCutoff' argument of ?results\n",
      "[2] see 'independentFiltering' argument of ?results\n",
      "\n",
      "[1] \"W\"\n",
      " [1] 84 85 86 89 90 91 92 93 94 95 96 97\n"
     ]
    },
    {
     "name": "stderr",
     "output_type": "stream",
     "text": [
      "estimating size factors\n",
      "estimating dispersions\n",
      "gene-wise dispersion estimates\n",
      "mean-dispersion relationship\n",
      "final dispersion estimates\n",
      "fitting model and testing\n",
      "found results columns, replacing these\n"
     ]
    },
    {
     "name": "stdout",
     "output_type": "stream",
     "text": [
      "[1] \"summary LRT\"\n",
      "\n",
      "out of 388427 with nonzero total read count\n",
      "adjusted p-value < 0.1\n",
      "LFC > 0 (up)     : 255, 0.066% \n",
      "LFC < 0 (down)   : 1148, 0.3% \n",
      "outliers [1]     : 0, 0% \n",
      "low counts [2]   : 369003, 95% \n",
      "(mean count < 22)\n",
      "[1] see 'cooksCutoff' argument of ?results\n",
      "[2] see 'independentFiltering' argument of ?results\n",
      "\n",
      "[1] \"T\"\n",
      "[1] 16 17 21 22 23 82 83 87 88\n"
     ]
    },
    {
     "name": "stderr",
     "output_type": "stream",
     "text": [
      "factor levels were dropped which had no samples\n",
      "estimating size factors\n",
      "estimating dispersions\n",
      "gene-wise dispersion estimates\n",
      "mean-dispersion relationship\n",
      "final dispersion estimates\n",
      "fitting model and testing\n",
      "found results columns, replacing these\n"
     ]
    },
    {
     "name": "stdout",
     "output_type": "stream",
     "text": [
      "[1] \"summary LRT\"\n",
      "\n",
      "out of 388382 with nonzero total read count\n",
      "adjusted p-value < 0.1\n",
      "LFC > 0 (up)     : 65, 0.017% \n",
      "LFC < 0 (down)   : 11, 0.0028% \n",
      "outliers [1]     : 988, 0.25% \n",
      "low counts [2]   : 218348, 56% \n",
      "(mean count < 6)\n",
      "[1] see 'cooksCutoff' argument of ?results\n",
      "[2] see 'independentFiltering' argument of ?results\n",
      "\n"
     ]
    }
   ],
   "source": [
    "#Here we do control with Lam\n",
    "interaction_Dam_control<-function(tissue, damid, metadata){\n",
    "    colsTissue<-c(grep(paste(\"_\", tissue, sep=''), names(damid)))\n",
    "    colsLam<-c(grep(\"Lam_\", names(damid)))\n",
    "\n",
    "    cols<-intersect(colsTissue,colsLam)\n",
    "    print(cols)\n",
    "\n",
    "    protein=\"Lam\"\n",
    "    metadata<-metadata[metadata$Tissue==tissue & (metadata$Protein==protein | metadata$Protein==\"Lam\"),]\n",
    "\n",
    "    dataset <- DESeqDataSetFromMatrix(countData = damid[,cols], colData = metadata, design = ~Line)\n",
    "    suppressWarnings(dds<-DESeq(dataset))\n",
    "    \n",
    "    ddsLRT<-nbinomLRT(dds, reduced= ~1)\n",
    "    res.ddsLRT<-results(ddsLRT)\n",
    "\n",
    "    print(\"summary LRT\")\n",
    "    summary(res.ddsLRT)\n",
    "    \n",
    "    #write.csv(res.ddsLRT, file=paste(\"nbin_interaction_results_\", tissue, \"_\", protein, sep=\"\"))\n",
    "    \n",
    "    #res.dds<-results(dds)\n",
    "    #write.csv(res.dds, file=paste(\"interaction_results_\", tissue, \"_\", protein, sep=\"\"))\n",
    "}\n",
    "\n",
    "for (tissue in c(\"C\", \"W\",\"T\")) {\n",
    "    print(tissue)\n",
    "    interaction_Dam_control(tissue, damid, metadata)\n",
    "}\n",
    "\n"
   ]
  },
  {
   "cell_type": "code",
   "execution_count": 13,
   "metadata": {
    "collapsed": false
   },
   "outputs": [
    {
     "name": "stdout",
     "output_type": "stream",
     "text": [
      "[1] \"C\"\n",
      "[1] 24 26 27 29 30 32 33 34\n"
     ]
    },
    {
     "name": "stderr",
     "output_type": "stream",
     "text": [
      "estimating size factors\n",
      "estimating dispersions\n",
      "gene-wise dispersion estimates\n",
      "mean-dispersion relationship\n",
      "final dispersion estimates\n",
      "fitting model and testing\n",
      "found results columns, replacing these\n"
     ]
    },
    {
     "name": "stdout",
     "output_type": "stream",
     "text": [
      "[1] \"summary LRT\"\n",
      "\n",
      "out of 384975 with nonzero total read count\n",
      "adjusted p-value < 0.1\n",
      "LFC > 0 (up)     : 235, 0.061% \n",
      "LFC < 0 (down)   : 1512, 0.39% \n",
      "outliers [1]     : 0, 0% \n",
      "low counts [2]   : 350631, 91% \n",
      "(mean count < 6)\n",
      "[1] see 'cooksCutoff' argument of ?results\n",
      "[2] see 'independentFiltering' argument of ?results\n",
      "\n",
      "[1] \"W\"\n",
      " [1] 51 52 53 54 55 56 58 59 60 62 63 64\n"
     ]
    },
    {
     "name": "stderr",
     "output_type": "stream",
     "text": [
      "estimating size factors\n",
      "estimating dispersions\n",
      "gene-wise dispersion estimates\n",
      "mean-dispersion relationship\n",
      "final dispersion estimates\n",
      "fitting model and testing\n",
      "found results columns, replacing these\n"
     ]
    },
    {
     "name": "stdout",
     "output_type": "stream",
     "text": [
      "[1] \"summary LRT\"\n",
      "\n",
      "out of 388341 with nonzero total read count\n",
      "adjusted p-value < 0.1\n",
      "LFC > 0 (up)     : 3, 0.00077% \n",
      "LFC < 0 (down)   : 6, 0.0015% \n",
      "outliers [1]     : 1, 0.00026% \n",
      "low counts [2]   : 0, 0% \n",
      "(mean count < 0)\n",
      "[1] see 'cooksCutoff' argument of ?results\n",
      "[2] see 'independentFiltering' argument of ?results\n",
      "\n",
      "[1] \"T\"\n",
      "[1] 25 28 31 35 36 50 57 61\n"
     ]
    },
    {
     "name": "stderr",
     "output_type": "stream",
     "text": [
      "estimating size factors\n",
      "estimating dispersions\n",
      "gene-wise dispersion estimates\n",
      "mean-dispersion relationship\n",
      "final dispersion estimates\n",
      "fitting model and testing\n",
      "found results columns, replacing these\n"
     ]
    },
    {
     "name": "stdout",
     "output_type": "stream",
     "text": [
      "[1] \"summary LRT\"\n",
      "\n",
      "out of 383232 with nonzero total read count\n",
      "adjusted p-value < 0.1\n",
      "LFC > 0 (up)     : 1921, 0.5% \n",
      "LFC < 0 (down)   : 2457, 0.64% \n",
      "outliers [1]     : 766, 0.2% \n",
      "low counts [2]   : 363808, 95% \n",
      "(mean count < 11)\n",
      "[1] see 'cooksCutoff' argument of ?results\n",
      "[2] see 'independentFiltering' argument of ?results\n",
      "\n"
     ]
    }
   ],
   "source": [
    "#Here we do control with D1\n",
    "interaction_Dam_control<-function(tissue, damid, metadata){\n",
    "    colsTissue<-c(grep(paste(\"_\", tissue, sep=''), names(damid)))\n",
    "    colsD1<-c(grep(\"D1_\", names(damid)))\n",
    "\n",
    "    cols<-intersect(colsTissue,colsD1)\n",
    "    print(cols)\n",
    "\n",
    "    protein=\"D1\"\n",
    "    metadata<-metadata[metadata$Tissue==tissue & (metadata$Protein==protein | metadata$Protein==\"D1\"),]\n",
    "\n",
    "    dataset <- DESeqDataSetFromMatrix(countData = damid[,cols], colData = metadata, design = ~Line)\n",
    "    suppressWarnings(dds<-DESeq(dataset))\n",
    "    \n",
    "    ddsLRT<-nbinomLRT(dds, reduced= ~1)\n",
    "    res.ddsLRT<-results(ddsLRT)\n",
    "\n",
    "    print(\"summary LRT\")\n",
    "    summary(res.ddsLRT)\n",
    "    \n",
    "    #write.csv(res.ddsLRT, file=paste(\"nbin_interaction_results_\", tissue, \"_\", protein, sep=\"\"))\n",
    "    \n",
    "    #res.dds<-results(dds)\n",
    "    #write.csv(res.dds, file=paste(\"interaction_results_\", tissue, \"_\", protein, sep=\"\"))\n",
    "}\n",
    "\n",
    "for (tissue in c(\"C\", \"W\",\"T\")) {\n",
    "    print(tissue)\n",
    "    interaction_Dam_control(tissue, damid, metadata)\n",
    "}\n",
    "\n",
    "\n"
   ]
  },
  {
   "cell_type": "markdown",
   "metadata": {},
   "source": [
    "Here we test interactions, ie full model :~Protein + Line + Protein:Line, and reduced model : ~Protein + Line."
   ]
  },
  {
   "cell_type": "code",
   "execution_count": 12,
   "metadata": {
    "collapsed": false
   },
   "outputs": [
    {
     "name": "stdout",
     "output_type": "stream",
     "text": [
      "[1] \"C\"  \"D1\"\n"
     ]
    },
    {
     "name": "stderr",
     "output_type": "stream",
     "text": [
      "factor levels were dropped which had no samples\n",
      "estimating size factors\n",
      "estimating dispersions\n",
      "gene-wise dispersion estimates\n",
      "mean-dispersion relationship\n",
      "final dispersion estimates\n",
      "fitting model and testing\n",
      "found results columns, replacing these\n"
     ]
    },
    {
     "name": "stdout",
     "output_type": "stream",
     "text": [
      "[1] \"summary LRT\"\n",
      "\n",
      "out of 388463 with nonzero total read count\n",
      "adjusted p-value < 0.1\n",
      "LFC > 0 (up)     : 2485, 0.64% \n",
      "LFC < 0 (down)   : 1628, 0.42% \n",
      "outliers [1]     : 14, 0.0036% \n",
      "low counts [2]   : 323851, 83% \n",
      "(mean count < 5)\n",
      "[1] see 'cooksCutoff' argument of ?results\n",
      "[2] see 'independentFiltering' argument of ?results\n",
      "\n",
      "[1] \"C\"   \"Lam\"\n"
     ]
    },
    {
     "name": "stderr",
     "output_type": "stream",
     "text": [
      "factor levels were dropped which had no samples\n",
      "estimating size factors\n",
      "estimating dispersions\n",
      "gene-wise dispersion estimates\n",
      "mean-dispersion relationship\n",
      "final dispersion estimates\n",
      "fitting model and testing\n",
      "found results columns, replacing these\n"
     ]
    },
    {
     "name": "stdout",
     "output_type": "stream",
     "text": [
      "[1] \"summary LRT\"\n",
      "\n",
      "out of 388464 with nonzero total read count\n",
      "adjusted p-value < 0.1\n",
      "LFC > 0 (up)     : 24281, 6.3% \n",
      "LFC < 0 (down)   : 28593, 7.4% \n",
      "outliers [1]     : 887, 0.23% \n",
      "low counts [2]   : 120500, 31% \n",
      "(mean count < 2)\n",
      "[1] see 'cooksCutoff' argument of ?results\n",
      "[2] see 'independentFiltering' argument of ?results\n",
      "\n",
      "[1] \"W\"  \"D1\"\n"
     ]
    },
    {
     "name": "stderr",
     "output_type": "stream",
     "text": [
      "factor levels were dropped which had no samples\n",
      "estimating size factors\n",
      "estimating dispersions\n",
      "gene-wise dispersion estimates\n",
      "mean-dispersion relationship\n",
      "final dispersion estimates\n",
      "fitting model and testing\n",
      "found results columns, replacing these\n"
     ]
    },
    {
     "name": "stdout",
     "output_type": "stream",
     "text": [
      "[1] \"summary LRT\"\n",
      "\n",
      "out of 388463 with nonzero total read count\n",
      "adjusted p-value < 0.1\n",
      "LFC > 0 (up)     : 21, 0.0054% \n",
      "LFC < 0 (down)   : 24, 0.0062% \n",
      "outliers [1]     : 0, 0% \n",
      "low counts [2]   : 263600, 68% \n",
      "(mean count < 5)\n",
      "[1] see 'cooksCutoff' argument of ?results\n",
      "[2] see 'independentFiltering' argument of ?results\n",
      "\n",
      "[1] \"W\"   \"Lam\"\n"
     ]
    },
    {
     "name": "stderr",
     "output_type": "stream",
     "text": [
      "factor levels were dropped which had no samples\n",
      "estimating size factors\n",
      "estimating dispersions\n",
      "gene-wise dispersion estimates\n",
      "mean-dispersion relationship\n",
      "final dispersion estimates\n",
      "fitting model and testing\n",
      "found results columns, replacing these\n"
     ]
    },
    {
     "name": "stdout",
     "output_type": "stream",
     "text": [
      "[1] \"summary LRT\"\n",
      "\n",
      "out of 388463 with nonzero total read count\n",
      "adjusted p-value < 0.1\n",
      "LFC > 0 (up)     : 120, 0.031% \n",
      "LFC < 0 (down)   : 148, 0.038% \n",
      "outliers [1]     : 0, 0% \n",
      "low counts [2]   : 346444, 89% \n",
      "(mean count < 13)\n",
      "[1] see 'cooksCutoff' argument of ?results\n",
      "[2] see 'independentFiltering' argument of ?results\n",
      "\n",
      "[1] \"T\"  \"D1\"\n"
     ]
    },
    {
     "name": "stderr",
     "output_type": "stream",
     "text": [
      "factor levels were dropped which had no samples\n",
      "estimating size factors\n",
      "estimating dispersions\n",
      "gene-wise dispersion estimates\n",
      "mean-dispersion relationship\n",
      "final dispersion estimates\n",
      "fitting model and testing\n",
      "1 rows did not converge in beta, labelled in mcols(object)$betaConv. Use larger maxit argument with nbinomWaldTest\n",
      "found results columns, replacing these\n",
      "1 rows did not converge in beta, labelled in mcols(object)$fullBetaConv. Use larger maxit argument with nbinomLRT\n"
     ]
    },
    {
     "name": "stdout",
     "output_type": "stream",
     "text": [
      "[1] \"summary LRT\"\n",
      "\n",
      "out of 388404 with nonzero total read count\n",
      "adjusted p-value < 0.1\n",
      "LFC > 0 (up)     : 2330, 0.6% \n",
      "LFC < 0 (down)   : 2021, 0.52% \n",
      "outliers [1]     : 2816, 0.73% \n",
      "low counts [2]   : 361295, 93% \n",
      "(mean count < 10)\n",
      "[1] see 'cooksCutoff' argument of ?results\n",
      "[2] see 'independentFiltering' argument of ?results\n",
      "\n",
      "[1] \"T\"   \"Lam\"\n"
     ]
    },
    {
     "name": "stderr",
     "output_type": "stream",
     "text": [
      "factor levels were dropped which had no samples\n"
     ]
    }
   ],
   "source": [
    "return_dataset_for_plot2_interaction<-function(tissue,protein, damid, metadata){\n",
    "    colsTissue<-c(grep(paste(\"_\", tissue, sep=''), names(damid)))\n",
    "    colsProtein<-c(grep(paste(protein, \"_\",sep=''), names(damid)))\n",
    "    colsDam<-c(grep(\"Dam_\", names(damid)))\n",
    "\n",
    "    cols<-intersect(colsTissue,union(colsDam,colsProtein))\n",
    "\n",
    "    metadata<-metadata[metadata$Tissue==tissue & (metadata$Protein==protein | metadata$Protein==\"Dam\"),]\n",
    "\n",
    "    dataset <- DESeqDataSetFromMatrix(countData = damid[,cols], colData = metadata, design = ~Protein + Line + Line:Protein)\n",
    "    suppressWarnings(dds<-DESeq(dataset))\n",
    "    \n",
    "    ddsLRT<-nbinomLRT(dds, reduced= ~Line + Protein)\n",
    "    res.ddsLRT<-results(ddsLRT)\n",
    "\n",
    "    print(\"summary LRT\")\n",
    "    summary(res.ddsLRT)\n",
    "    \n",
    "    write.csv(res.ddsLRT, file=paste(\"nbin_interaction_results_\", tissue, \"_\", protein, sep=\"\"))\n",
    "    \n",
    "    #res.dds<-results(dds)\n",
    "    #write.csv(res.dds, file=paste(\"interaction_results_\", tissue, \"_\", protein, sep=\"\"))\n",
    "}\n",
    "\n",
    "for (tissue in c(\"C\", \"W\",\"T\")) {\n",
    "    for (protein in c( \"D1\", \"Lam\")) {\n",
    "        print(c(tissue, protein))\n",
    "        try(return_dataset_for_plot2_interaction(tissue, protein, damid, metadata))\n",
    "        #return_dataset_for_plot2_interaction(tissue, protein, damid, metadata)\n",
    "    }\n",
    "}\n"
   ]
  },
  {
   "cell_type": "code",
   "execution_count": 13,
   "metadata": {
    "collapsed": false
   },
   "outputs": [
    {
     "name": "stdout",
     "output_type": "stream",
     "text": [
      "[1] 388464     17\n",
      "[1] 17  6\n",
      "                    Rep Tissue Country Line Protein  Batch\n",
      "damID.Dam_Fr188_T3    3      T      Fr  188     Dam  damID\n",
      "damID.Dam_Fr188_T4    4      T      Fr  188     Dam  damID\n",
      "damID.Dam_Zi257_T3    3      T      Zi  257     Dam  damID\n",
      "damID.Lam_Fr188_T2    2      T      Fr  188     Lam  damID\n",
      "damID.Lam_Fr188_T3    3      T      Fr  188     Lam  damID\n",
      "damID.Lam_Zi257_T1    1      T      Zi  257     Lam  damID\n",
      "damID.Lam_Zi257_T2    2      T      Zi  257     Lam  damID\n",
      "damID.Lam_Zi257_T3    3      T      Zi  257     Lam  damID\n",
      "damID2.Dam_Fr89_T1    1      T      Fr   89     Dam damID2\n",
      "damID2.Dam_Fr89_T2    2      T      Fr   89     Dam damID2\n",
      "damID3.Dam_Fr188_T2   2      T      Fr  188     Dam damID3\n",
      "damID3.Dam_Zi257_T1   1      T      Zi  257     Dam damID3\n",
      "damID3.Dam_Zi257_T2   2      T      Zi  257     Dam damID3\n",
      "damID3.Lam_Fr188_T1   1      T      Fr  188     Lam damID3\n",
      "damID3.Lam_Fr188_T4   4      T      Fr  188     Lam damID3\n",
      "damID3.Lam_Fr89_T1    1      T      Fr   89     Lam damID3\n",
      "damID3.Lam_Fr89_T2    2      T      Fr   89     Lam damID3\n"
     ]
    },
    {
     "name": "stderr",
     "output_type": "stream",
     "text": [
      "factor levels were dropped which had no samples\n",
      "estimating size factors\n",
      "estimating dispersions\n",
      "gene-wise dispersion estimates\n",
      "mean-dispersion relationship\n",
      "final dispersion estimates\n",
      "fitting model and testing\n",
      "found results columns, replacing these\n"
     ]
    },
    {
     "name": "stdout",
     "output_type": "stream",
     "text": [
      "[1] \"summary LRT\"\n",
      "\n",
      "out of 388456 with nonzero total read count\n",
      "adjusted p-value < 0.1\n",
      "LFC > 0 (up)     : 1211, 0.31% \n",
      "LFC < 0 (down)   : 1763, 0.45% \n",
      "outliers [1]     : 368, 0.095% \n",
      "low counts [2]   : 316110, 81% \n",
      "(mean count < 8)\n",
      "[1] see 'cooksCutoff' argument of ?results\n",
      "[2] see 'independentFiltering' argument of ?results\n",
      "\n"
     ]
    }
   ],
   "source": [
    "#We couldn't run T Lam, because there are no 238/Lam columns, so the matrix model is not full rank. \n",
    "#Here we run T Lam\n",
    "\n",
    "return_dataset_for_plot2_interaction_TLam<-function(tissue,protein, damid, metadata){\n",
    "    colsTissue<-c(grep(paste(\"_\", tissue, sep=''), names(damid)))\n",
    "    colsProtein<-c(grep(paste(protein, \"_\",sep=''), names(damid)))\n",
    "    colsDam<-c(grep(\"Dam_\", names(damid)))\n",
    "    \n",
    "    #all lines but not 238\n",
    "    colsLine<-c(grep(\"257\", names(damid)), grep(\"188\", names(damid)),grep(\"89\", names(damid)))\n",
    "\n",
    "    cols<-intersect(intersect(colsTissue, colsLine),union(colsDam,colsProtein))\n",
    "    \n",
    "    #also remove 238\n",
    "    metadata<-metadata[metadata$Tissue==tissue & (metadata$Protein==protein | metadata$Protein==\"Dam\") & metadata$Line!='238',]\n",
    "    \n",
    "    print(dim(damid[,cols]))\n",
    "    print(dim(metadata))\n",
    "    print(metadata)\n",
    "    \n",
    "    dataset <- DESeqDataSetFromMatrix(countData = damid[,cols], colData = metadata, design = ~Protein + Line + Line:Protein)\n",
    "    \n",
    "    suppressWarnings(dds<-DESeq(dataset))\n",
    "    \n",
    "    ddsLRT<-nbinomLRT(dds, reduced= ~Line + Protein)\n",
    "    res.ddsLRT<-results(ddsLRT)\n",
    "\n",
    "    print(\"summary LRT\")\n",
    "    summary(res.ddsLRT)\n",
    "    \n",
    "    write.csv(res.ddsLRT, file=paste(\"nbin_interaction_results_\", tissue, \"_\", protein, sep=\"\"))\n",
    "    \n",
    "    #res.dds<-results(dds)\n",
    "    #write.csv(res.dds, file=paste(\"interaction_results_\", tissue, \"_\", protein, sep=\"\"))\n",
    "}\n",
    "\n",
    "\n",
    "return_dataset_for_plot2_interaction_TLam('T', 'Lam', damid, metadata)\n",
    "\n",
    "\n",
    "\n",
    "\n"
   ]
  },
  {
   "cell_type": "markdown",
   "metadata": {},
   "source": [
    "1) It was confusing to see Dam control behave so different in C/T vs W, but if we look at Lam only and D1 only, they behave proportionally to when we test the protein:line interaction, which is good because it means that we aren't attributing differential binding to only variatino in Dam.  \n",
    "2) Also, generally we see a bit fewer significant interactions then in the protein-only case, which is what we would expect to observe, because some of the variability is being normalized out by the Dam control.\n",
    "\n",
    "Weirdness in Dam control could be due to general variation in accessibility in different lines.  But it's at least not creating false positives, it's not inflating the number of differential binding regions that we observe, which would be the biggest concern."
   ]
  },
  {
   "cell_type": "markdown",
   "metadata": {},
   "source": [
    "Here we test main effects"
   ]
  },
  {
   "cell_type": "code",
   "execution_count": 43,
   "metadata": {
    "collapsed": false
   },
   "outputs": [
    {
     "name": "stdout",
     "output_type": "stream",
     "text": [
      "[1] \"C\"   \"Lam\"\n"
     ]
    },
    {
     "name": "stderr",
     "output_type": "stream",
     "text": [
      "factor levels were dropped which had no samples\n",
      "estimating size factors\n",
      "estimating dispersions\n",
      "gene-wise dispersion estimates\n",
      "mean-dispersion relationship\n",
      "final dispersion estimates\n",
      "fitting model and testing\n",
      "found results columns, replacing these\n"
     ]
    },
    {
     "name": "stdout",
     "output_type": "stream",
     "text": [
      "[1] \"summary LRT\"\n",
      "\n",
      "out of 388464 with nonzero total read count\n",
      "adjusted p-value < 0.1\n",
      "LFC > 0 (up)     : 72152, 19% \n",
      "LFC < 0 (down)   : 65362, 17% \n",
      "outliers [1]     : 3574, 0.92% \n",
      "low counts [2]   : 37656, 9.7% \n",
      "(mean count < 1)\n",
      "[1] see 'cooksCutoff' argument of ?results\n",
      "[2] see 'independentFiltering' argument of ?results\n",
      "\n",
      "[1] \"C\"  \"D1\"\n"
     ]
    },
    {
     "name": "stderr",
     "output_type": "stream",
     "text": [
      "factor levels were dropped which had no samples\n",
      "estimating size factors\n",
      "estimating dispersions\n",
      "gene-wise dispersion estimates\n",
      "mean-dispersion relationship\n",
      "final dispersion estimates\n",
      "fitting model and testing\n",
      "found results columns, replacing these\n"
     ]
    },
    {
     "name": "stdout",
     "output_type": "stream",
     "text": [
      "[1] \"summary LRT\"\n",
      "\n",
      "out of 388463 with nonzero total read count\n",
      "adjusted p-value < 0.1\n",
      "LFC > 0 (up)     : 2789, 0.72% \n",
      "LFC < 0 (down)   : 4433, 1.1% \n",
      "outliers [1]     : 68, 0.018% \n",
      "low counts [2]   : 248531, 64% \n",
      "(mean count < 2)\n",
      "[1] see 'cooksCutoff' argument of ?results\n",
      "[2] see 'independentFiltering' argument of ?results\n",
      "\n",
      "[1] \"W\"   \"Lam\"\n"
     ]
    },
    {
     "name": "stderr",
     "output_type": "stream",
     "text": [
      "factor levels were dropped which had no samples\n",
      "estimating size factors\n",
      "estimating dispersions\n",
      "gene-wise dispersion estimates\n",
      "mean-dispersion relationship\n",
      "final dispersion estimates\n",
      "fitting model and testing\n",
      "found results columns, replacing these\n"
     ]
    },
    {
     "name": "stdout",
     "output_type": "stream",
     "text": [
      "[1] \"summary LRT\"\n",
      "\n",
      "out of 388464 with nonzero total read count\n",
      "adjusted p-value < 0.1\n",
      "LFC > 0 (up)     : 90048, 23% \n",
      "LFC < 0 (down)   : 92284, 24% \n",
      "outliers [1]     : 746, 0.19% \n",
      "low counts [2]   : 7532, 1.9% \n",
      "(mean count < 1)\n",
      "[1] see 'cooksCutoff' argument of ?results\n",
      "[2] see 'independentFiltering' argument of ?results\n",
      "\n",
      "[1] \"W\"  \"D1\"\n"
     ]
    },
    {
     "name": "stderr",
     "output_type": "stream",
     "text": [
      "factor levels were dropped which had no samples\n",
      "estimating size factors\n",
      "estimating dispersions\n",
      "gene-wise dispersion estimates\n",
      "mean-dispersion relationship\n",
      "final dispersion estimates\n",
      "fitting model and testing\n",
      "found results columns, replacing these\n"
     ]
    },
    {
     "name": "stdout",
     "output_type": "stream",
     "text": [
      "[1] \"summary LRT\"\n",
      "\n",
      "out of 388464 with nonzero total read count\n",
      "adjusted p-value < 0.1\n",
      "LFC > 0 (up)     : 19550, 5% \n",
      "LFC < 0 (down)   : 20629, 5.3% \n",
      "outliers [1]     : 673, 0.17% \n",
      "low counts [2]   : 105440, 27% \n",
      "(mean count < 2)\n",
      "[1] see 'cooksCutoff' argument of ?results\n",
      "[2] see 'independentFiltering' argument of ?results\n",
      "\n",
      "[1] \"T\"   \"Lam\"\n"
     ]
    },
    {
     "name": "stderr",
     "output_type": "stream",
     "text": [
      "factor levels were dropped which had no samples\n",
      "estimating size factors\n",
      "estimating dispersions\n",
      "gene-wise dispersion estimates\n",
      "mean-dispersion relationship\n",
      "final dispersion estimates\n",
      "fitting model and testing\n",
      "found results columns, replacing these\n"
     ]
    },
    {
     "name": "stdout",
     "output_type": "stream",
     "text": [
      "[1] \"summary LRT\"\n",
      "\n",
      "out of 388456 with nonzero total read count\n",
      "adjusted p-value < 0.1\n",
      "LFC > 0 (up)     : 56168, 14% \n",
      "LFC < 0 (down)   : 62316, 16% \n",
      "outliers [1]     : 1282, 0.33% \n",
      "low counts [2]   : 67780, 17% \n",
      "(mean count < 1)\n",
      "[1] see 'cooksCutoff' argument of ?results\n",
      "[2] see 'independentFiltering' argument of ?results\n",
      "\n",
      "[1] \"T\"  \"D1\"\n"
     ]
    },
    {
     "name": "stderr",
     "output_type": "stream",
     "text": [
      "factor levels were dropped which had no samples\n",
      "estimating size factors\n",
      "estimating dispersions\n",
      "gene-wise dispersion estimates\n",
      "mean-dispersion relationship\n",
      "final dispersion estimates\n",
      "fitting model and testing\n",
      "found results columns, replacing these\n"
     ]
    },
    {
     "name": "stdout",
     "output_type": "stream",
     "text": [
      "[1] \"summary LRT\"\n",
      "\n",
      "out of 388404 with nonzero total read count\n",
      "adjusted p-value < 0.1\n",
      "LFC > 0 (up)     : 141, 0.036% \n",
      "LFC < 0 (down)   : 195, 0.05% \n",
      "outliers [1]     : 6433, 1.7% \n",
      "low counts [2]   : 0, 0% \n",
      "(mean count < 0)\n",
      "[1] see 'cooksCutoff' argument of ?results\n",
      "[2] see 'independentFiltering' argument of ?results\n",
      "\n"
     ]
    }
   ],
   "source": [
    "return_dataset_for_plot2_mainEffect<-function(tissue,protein, damid, metadata){\n",
    "    colsTissue<-c(grep(paste(\"_\", tissue, sep=''), names(damid)))\n",
    "    colsProtein<-c(grep(paste(protein, \"_\",sep=''), names(damid)))\n",
    "    colsDam<-c(grep(\"Dam_\", names(damid)))\n",
    "\n",
    "    cols<-intersect(colsTissue,union(colsDam,colsProtein))\n",
    "\n",
    "    metadata<-metadata[metadata$Tissue==tissue & (metadata$Protein==protein | metadata$Protein==\"Dam\"),]\n",
    "\n",
    "    dataset <- DESeqDataSetFromMatrix(countData = damid[,cols], colData = metadata, design = ~Protein + Line)\n",
    "    suppressWarnings(dds<-DESeq(dataset))\n",
    "\n",
    "    ddsLRT<-nbinomLRT(dds, reduced= ~Line)\n",
    "    res.ddsLRT<-results(ddsLRT)\n",
    "\n",
    "    print(\"summary LRT\")\n",
    "    summary(res.ddsLRT)\n",
    "    #write.csv(res.dds, file=paste(\"results_\", tissue, \"_\", protein, sep=\"\"))\n",
    "}\n",
    "\n",
    "for (tissue in c(\"C\", \"W\",\"T\")) {\n",
    "    for (protein in c(\"Lam\", \"D1\")) {\n",
    "        print(c(tissue, protein))\n",
    "        #try(return_dataset_for_plot2_interaction(tissue, protein, line, damid, metadata))\n",
    "        return_dataset_for_plot2_mainEffect(tissue, protein, damid, metadata)\n",
    "    }\n",
    "}\n",
    "\n"
   ]
  },
  {
   "cell_type": "markdown",
   "metadata": {},
   "source": [
    "Testing batch"
   ]
  },
  {
   "cell_type": "code",
   "execution_count": 77,
   "metadata": {
    "collapsed": false
   },
   "outputs": [
    {
     "name": "stdout",
     "output_type": "stream",
     "text": [
      "[1] \"C\"   \"Lam\"\n"
     ]
    },
    {
     "name": "stderr",
     "output_type": "stream",
     "text": [
      "factor levels were dropped which had no samples\n",
      "estimating size factors\n",
      "estimating dispersions\n",
      "gene-wise dispersion estimates\n",
      "mean-dispersion relationship\n",
      "final dispersion estimates\n",
      "fitting model and testing\n",
      "found results columns, replacing these\n"
     ]
    },
    {
     "name": "stdout",
     "output_type": "stream",
     "text": [
      "[1] \"summary LRT\"\n",
      "\n",
      "out of 388464 with nonzero total read count\n",
      "adjusted p-value < 0.1\n",
      "LFC > 0 (up)     : 1688, 0.43% \n",
      "LFC < 0 (down)   : 6433, 1.7% \n",
      "outliers [1]     : 703, 0.18% \n",
      "low counts [2]   : 218409, 56% \n",
      "(mean count < 4)\n",
      "[1] see 'cooksCutoff' argument of ?results\n",
      "[2] see 'independentFiltering' argument of ?results\n",
      "\n",
      "[1] \"C\"  \"D1\"\n"
     ]
    },
    {
     "name": "stderr",
     "output_type": "stream",
     "text": [
      "factor levels were dropped which had no samples\n"
     ]
    },
    {
     "name": "stdout",
     "output_type": "stream",
     "text": [
      "[1] \"W\"   \"Lam\"\n"
     ]
    },
    {
     "name": "stderr",
     "output_type": "stream",
     "text": [
      "factor levels were dropped which had no samples\n",
      "estimating size factors\n",
      "estimating dispersions\n",
      "gene-wise dispersion estimates\n",
      "mean-dispersion relationship\n",
      "final dispersion estimates\n",
      "fitting model and testing\n",
      "4 rows did not converge in beta, labelled in mcols(object)$betaConv. Use larger maxit argument with nbinomWaldTest\n",
      "found results columns, replacing these\n",
      "4 rows did not converge in beta, labelled in mcols(object)$fullBetaConv. Use larger maxit argument with nbinomLRT\n"
     ]
    },
    {
     "name": "stdout",
     "output_type": "stream",
     "text": [
      "[1] \"summary LRT\"\n",
      "\n",
      "out of 388464 with nonzero total read count\n",
      "adjusted p-value < 0.1\n",
      "LFC > 0 (up)     : 50424, 13% \n",
      "LFC < 0 (down)   : 47804, 12% \n",
      "outliers [1]     : 0, 0% \n",
      "low counts [2]   : 90378, 23% \n",
      "(mean count < 2)\n",
      "[1] see 'cooksCutoff' argument of ?results\n",
      "[2] see 'independentFiltering' argument of ?results\n",
      "\n",
      "[1] \"W\"  \"D1\"\n"
     ]
    },
    {
     "name": "stderr",
     "output_type": "stream",
     "text": [
      "factor levels were dropped which had no samples\n",
      "estimating size factors\n",
      "estimating dispersions\n",
      "gene-wise dispersion estimates\n",
      "mean-dispersion relationship\n",
      "final dispersion estimates\n",
      "fitting model and testing\n",
      "3 rows did not converge in beta, labelled in mcols(object)$betaConv. Use larger maxit argument with nbinomWaldTest\n",
      "found results columns, replacing these\n",
      "3 rows did not converge in beta, labelled in mcols(object)$fullBetaConv. Use larger maxit argument with nbinomLRT\n"
     ]
    },
    {
     "name": "stdout",
     "output_type": "stream",
     "text": [
      "[1] \"summary LRT\"\n",
      "\n",
      "out of 388464 with nonzero total read count\n",
      "adjusted p-value < 0.1\n",
      "LFC > 0 (up)     : 41357, 11% \n",
      "LFC < 0 (down)   : 35821, 9.2% \n",
      "outliers [1]     : 0, 0% \n",
      "low counts [2]   : 135566, 35% \n",
      "(mean count < 2)\n",
      "[1] see 'cooksCutoff' argument of ?results\n",
      "[2] see 'independentFiltering' argument of ?results\n",
      "\n",
      "[1] \"T\"   \"Lam\"\n"
     ]
    },
    {
     "name": "stderr",
     "output_type": "stream",
     "text": [
      "factor levels were dropped which had no samples\n"
     ]
    },
    {
     "name": "stdout",
     "output_type": "stream",
     "text": [
      "[1] \"T\"  \"D1\"\n"
     ]
    },
    {
     "name": "stderr",
     "output_type": "stream",
     "text": [
      "factor levels were dropped which had no samples\n",
      "estimating size factors\n",
      "estimating dispersions\n",
      "gene-wise dispersion estimates\n",
      "mean-dispersion relationship\n",
      "final dispersion estimates\n",
      "fitting model and testing\n",
      "633 rows did not converge in beta, labelled in mcols(object)$betaConv. Use larger maxit argument with nbinomWaldTest\n",
      "found results columns, replacing these\n",
      "633 rows did not converge in beta, labelled in mcols(object)$fullBetaConv. Use larger maxit argument with nbinomLRT\n"
     ]
    },
    {
     "name": "stdout",
     "output_type": "stream",
     "text": [
      "[1] \"summary LRT\"\n",
      "\n",
      "out of 388359 with nonzero total read count\n",
      "adjusted p-value < 0.1\n",
      "LFC > 0 (up)     : 1901, 0.49% \n",
      "LFC < 0 (down)   : 5077, 1.3% \n",
      "outliers [1]     : 0, 0% \n",
      "low counts [2]   : 323760, 83% \n",
      "(mean count < 4)\n",
      "[1] see 'cooksCutoff' argument of ?results\n",
      "[2] see 'independentFiltering' argument of ?results\n",
      "\n"
     ]
    }
   ],
   "source": [
    "#C/D1 might not have enough diversity in batch to test batch effect\n",
    "\n",
    "return_dataset_for_plot2_batch<-function(tissue,protein, damid, metadata){\n",
    "    colsTissue<-c(grep(paste(\"_\", tissue, sep=''), names(damid)))\n",
    "    colsProtein<-c(grep(paste(protein, \"_\",sep=''), names(damid)))\n",
    "    colsDam<-c(grep(\"Dam_\", names(damid)))\n",
    "\n",
    "    cols<-intersect(colsTissue,union(colsDam,colsProtein))\n",
    "\n",
    "    metadata<-metadata[metadata$Tissue==tissue & (metadata$Protein==protein | metadata$Protein==\"Dam\"),]\n",
    "\n",
    "    dataset <- DESeqDataSetFromMatrix(countData = damid[,cols], colData = metadata, design = ~Protein + Line + Line:Protein + Batch)\n",
    "    suppressWarnings(dds<-DESeq(dataset))\n",
    "    \n",
    "    ddsLRT<-nbinomLRT(dds, reduced= ~Line + Protein + Line:Protein)\n",
    "    res.ddsLRT<-results(ddsLRT)\n",
    "\n",
    "    print(\"summary LRT\")\n",
    "    summary(res.ddsLRT)\n",
    "    #write.csv(res.dds, file=paste(\"results_\", tissue, \"_\", protein, sep=\"\"))\n",
    "}\n",
    "\n",
    "#We do not test 'W' because there is only one batch, batch3 (we removed 'W' rows that were batch1 and batch2 because batch was significant for these)\n",
    "for (tissue in c(\"C\", \"T\")) {\n",
    "    for (protein in c(\"Lam\", \"D1\")) {\n",
    "        print(c(tissue, protein))\n",
    "        #try(return_dataset_for_plot2_interaction(tissue, protein, line, damid, metadata))\n",
    "        try(return_dataset_for_plot2_batch(tissue, protein, damid, metadata))\n",
    "    }\n",
    "}\n",
    "\n"
   ]
  },
  {
   "cell_type": "code",
   "execution_count": null,
   "metadata": {
    "collapsed": true
   },
   "outputs": [],
   "source": []
  }
 ],
 "metadata": {
  "kernelspec": {
   "display_name": "R",
   "language": "R",
   "name": "ir"
  },
  "language_info": {
   "codemirror_mode": "r",
   "file_extension": ".r",
   "mimetype": "text/x-r-source",
   "name": "R",
   "pygments_lexer": "r",
   "version": "3.2.2"
  }
 },
 "nbformat": 4,
 "nbformat_minor": 0
}
