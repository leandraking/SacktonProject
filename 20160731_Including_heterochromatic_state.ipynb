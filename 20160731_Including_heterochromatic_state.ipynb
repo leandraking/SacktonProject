{
 "cells": [
  {
   "cell_type": "code",
   "execution_count": 1,
   "metadata": {
    "collapsed": false
   },
   "outputs": [
    {
     "name": "stderr",
     "output_type": "stream",
     "text": [
      "//anaconda/lib/python2.7/site-packages/matplotlib/__init__.py:872: UserWarning: axes.color_cycle is deprecated and replaced with axes.prop_cycle; please use the latter.\n",
      "  warnings.warn(self.msg_depr % (key, alt_key))\n"
     ]
    }
   ],
   "source": [
    "%matplotlib inline\n",
    "\n",
    "import glob\n",
    "from string import letters\n",
    "import numpy as np\n",
    "import pandas as pd\n",
    "import seaborn as sns\n",
    "import matplotlib.pyplot as plt\n",
    "\n",
    "from scipy import signal\n",
    "from sklearn.decomposition import PCA"
   ]
  },
  {
   "cell_type": "markdown",
   "metadata": {},
   "source": [
    "We want to create a locations dataframe with heterochromatic state."
   ]
  },
  {
   "cell_type": "markdown",
   "metadata": {},
   "source": [
    "### Updating chromatin state model to right version"
   ]
  },
  {
   "cell_type": "markdown",
   "metadata": {},
   "source": [
    "First we load chromatin state file (this is for an old drosophila genome version).  We're going to want to update it to the right version."
   ]
  },
  {
   "cell_type": "code",
   "execution_count": 2,
   "metadata": {
    "collapsed": false
   },
   "outputs": [
    {
     "data": {
      "text/html": [
       "<div>\n",
       "<table border=\"1\" class=\"dataframe\">\n",
       "  <thead>\n",
       "    <tr style=\"text-align: right;\">\n",
       "      <th></th>\n",
       "      <th>seqname</th>\n",
       "      <th>start</th>\n",
       "      <th>end</th>\n",
       "      <th>chromatin</th>\n",
       "    </tr>\n",
       "  </thead>\n",
       "  <tbody>\n",
       "    <tr>\n",
       "      <th>0</th>\n",
       "      <td>chr2L</td>\n",
       "      <td>5301</td>\n",
       "      <td>58754</td>\n",
       "      <td>BLACK</td>\n",
       "    </tr>\n",
       "    <tr>\n",
       "      <th>1</th>\n",
       "      <td>chr2L</td>\n",
       "      <td>58763</td>\n",
       "      <td>65319</td>\n",
       "      <td>BLUE</td>\n",
       "    </tr>\n",
       "    <tr>\n",
       "      <th>2</th>\n",
       "      <td>chr2L</td>\n",
       "      <td>65316</td>\n",
       "      <td>76559</td>\n",
       "      <td>RED</td>\n",
       "    </tr>\n",
       "    <tr>\n",
       "      <th>3</th>\n",
       "      <td>chr2L</td>\n",
       "      <td>76693</td>\n",
       "      <td>84511</td>\n",
       "      <td>BLUE</td>\n",
       "    </tr>\n",
       "    <tr>\n",
       "      <th>4</th>\n",
       "      <td>chr2L</td>\n",
       "      <td>84650</td>\n",
       "      <td>89599</td>\n",
       "      <td>RED</td>\n",
       "    </tr>\n",
       "  </tbody>\n",
       "</table>\n",
       "</div>"
      ],
      "text/plain": [
       "  seqname  start    end chromatin\n",
       "0   chr2L   5301  58754     BLACK\n",
       "1   chr2L  58763  65319      BLUE\n",
       "2   chr2L  65316  76559       RED\n",
       "3   chr2L  76693  84511      BLUE\n",
       "4   chr2L  84650  89599       RED"
      ]
     },
     "execution_count": 2,
     "metadata": {},
     "output_type": "execute_result"
    }
   ],
   "source": [
    "chromatin_df=pd.read_csv(\"GSE22069_Drosophila_chromatin_domains.txt\", sep='\\t')\n",
    "chromatin_df.head()"
   ]
  },
  {
   "cell_type": "markdown",
   "metadata": {},
   "source": [
    "Then we create a column that formats the information such that it can be inputted in http://flybase.org/static_pages/downloads/COORD.html .  We write this column to 20160625_Chromatin_state_v4_to_v6 "
   ]
  },
  {
   "cell_type": "code",
   "execution_count": 3,
   "metadata": {
    "collapsed": false
   },
   "outputs": [],
   "source": [
    "#chromatin_df[\"ForUpdate\"]=chromatin_df.seqname[3:] + ':' + str(chromatin_df.start) + '..' + str(chromatin_df.end)\n",
    "#chromatin_df[\"ForUpdate\"]=chromatin_df.seqname.astype(str).apply(lambda x: x[3:]) + ':' +chromatin_df.start.astype(str)+ '..' + chromatin_df.end.astype(str)\n",
    "#chromatin_df.head()\n",
    "#chromatin_df.ForUpdate.to_csv(\"20160625_Chromatin_state_v4_to_v6\", index=False)"
   ]
  },
  {
   "cell_type": "markdown",
   "metadata": {},
   "source": [
    "We update this file to the right version (version 6) using  http://flybase.org/static_pages/downloads/COORD.html.  We write the new version 6 results to the following file:\n",
    "\"FlyBase_Converted_Coordinates.txt\".  \n",
    "\n",
    "In the next block, we format the new updated chromatin_df dataframe."
   ]
  },
  {
   "cell_type": "code",
   "execution_count": 4,
   "metadata": {
    "collapsed": false
   },
   "outputs": [
    {
     "data": {
      "text/html": [
       "<div>\n",
       "<table border=\"1\" class=\"dataframe\">\n",
       "  <thead>\n",
       "    <tr style=\"text-align: right;\">\n",
       "      <th></th>\n",
       "      <th>seqname</th>\n",
       "      <th>start</th>\n",
       "      <th>end</th>\n",
       "      <th>chromatin</th>\n",
       "    </tr>\n",
       "  </thead>\n",
       "  <tbody>\n",
       "    <tr>\n",
       "      <th>0</th>\n",
       "      <td>2L</td>\n",
       "      <td>5301</td>\n",
       "      <td>58754</td>\n",
       "      <td>BLACK</td>\n",
       "    </tr>\n",
       "    <tr>\n",
       "      <th>1</th>\n",
       "      <td>2L</td>\n",
       "      <td>58763</td>\n",
       "      <td>65319</td>\n",
       "      <td>BLUE</td>\n",
       "    </tr>\n",
       "    <tr>\n",
       "      <th>2</th>\n",
       "      <td>2L</td>\n",
       "      <td>65316</td>\n",
       "      <td>76559</td>\n",
       "      <td>RED</td>\n",
       "    </tr>\n",
       "    <tr>\n",
       "      <th>3</th>\n",
       "      <td>2L</td>\n",
       "      <td>76693</td>\n",
       "      <td>84511</td>\n",
       "      <td>BLUE</td>\n",
       "    </tr>\n",
       "    <tr>\n",
       "      <th>4</th>\n",
       "      <td>2L</td>\n",
       "      <td>84650</td>\n",
       "      <td>89599</td>\n",
       "      <td>RED</td>\n",
       "    </tr>\n",
       "  </tbody>\n",
       "</table>\n",
       "</div>"
      ],
      "text/plain": [
       "  seqname  start    end chromatin\n",
       "0      2L   5301  58754     BLACK\n",
       "1      2L  58763  65319      BLUE\n",
       "2      2L  65316  76559       RED\n",
       "3      2L  76693  84511      BLUE\n",
       "4      2L  84650  89599       RED"
      ]
     },
     "execution_count": 4,
     "metadata": {},
     "output_type": "execute_result"
    }
   ],
   "source": [
    "Updated_chromatin_df = pd.read_csv(\"FlyBase_Converted_Coordinates.txt\", sep=\"\\t\")\n",
    "Updated_chromatin_df[\"seqname\"] = Updated_chromatin_df.Converted.astype(str).apply(lambda x: x.split(':')[0])\n",
    "Updated_chromatin_df[\"start\"] = Updated_chromatin_df.Converted.astype(str).apply(lambda x: x.split(':')[1].split('..')[0])\n",
    "Updated_chromatin_df[\"end\"] = Updated_chromatin_df.Converted.astype(str).apply(lambda x: x.split(':')[1].split('..')[1])\n",
    "del Updated_chromatin_df[\"Converted\"]\n",
    "\n",
    "Updated_chromatin_df.index = range(Updated_chromatin_df.shape[0])\n",
    "Updated_chromatin_df[\"chromatin\"] = chromatin_df.chromatin\n",
    "Updated_chromatin_df.head()"
   ]
  },
  {
   "cell_type": "code",
   "execution_count": 5,
   "metadata": {
    "collapsed": true
   },
   "outputs": [],
   "source": [
    "del chromatin_df "
   ]
  },
  {
   "cell_type": "markdown",
   "metadata": {},
   "source": [
    "### Adding state to locations df"
   ]
  },
  {
   "cell_type": "markdown",
   "metadata": {},
   "source": [
    "First we load the locations_df"
   ]
  },
  {
   "cell_type": "code",
   "execution_count": 6,
   "metadata": {
    "collapsed": false
   },
   "outputs": [
    {
     "data": {
      "text/html": [
       "<div>\n",
       "<table border=\"1\" class=\"dataframe\">\n",
       "  <thead>\n",
       "    <tr style=\"text-align: right;\">\n",
       "      <th></th>\n",
       "      <th>chr</th>\n",
       "      <th>start</th>\n",
       "      <th>end</th>\n",
       "    </tr>\n",
       "  </thead>\n",
       "  <tbody>\n",
       "    <tr>\n",
       "      <th>0</th>\n",
       "      <td>211000022278049</td>\n",
       "      <td>390</td>\n",
       "      <td>394</td>\n",
       "    </tr>\n",
       "    <tr>\n",
       "      <th>1</th>\n",
       "      <td>211000022278049</td>\n",
       "      <td>537</td>\n",
       "      <td>541</td>\n",
       "    </tr>\n",
       "    <tr>\n",
       "      <th>2</th>\n",
       "      <td>211000022278049</td>\n",
       "      <td>573</td>\n",
       "      <td>577</td>\n",
       "    </tr>\n",
       "    <tr>\n",
       "      <th>3</th>\n",
       "      <td>211000022278049</td>\n",
       "      <td>837</td>\n",
       "      <td>841</td>\n",
       "    </tr>\n",
       "    <tr>\n",
       "      <th>4</th>\n",
       "      <td>211000022278049</td>\n",
       "      <td>1613</td>\n",
       "      <td>1617</td>\n",
       "    </tr>\n",
       "  </tbody>\n",
       "</table>\n",
       "</div>"
      ],
      "text/plain": [
       "               chr  start   end\n",
       "0  211000022278049    390   394\n",
       "1  211000022278049    537   541\n",
       "2  211000022278049    573   577\n",
       "3  211000022278049    837   841\n",
       "4  211000022278049   1613  1617"
      ]
     },
     "execution_count": 6,
     "metadata": {},
     "output_type": "execute_result"
    }
   ],
   "source": [
    "locations_df=pd.read_csv(\"Locations\")\n",
    "locations_df.columns = [\"a\", \"chr\",\"start\",\"end\"]\n",
    "del locations_df[\"a\"]\n",
    "locations_df.head()"
   ]
  },
  {
   "cell_type": "code",
   "execution_count": null,
   "metadata": {
    "collapsed": false
   },
   "outputs": [
    {
     "name": "stdout",
     "output_type": "stream",
     "text": [
      "0 1 2 3 4 5 6 7 8 "
     ]
    }
   ],
   "source": [
    "locations_df[\"chromatin_state\"]=[np.nan for ele in locations_df['chr']]\n",
    "for i,row1 in enumerate(locations_df.iterrows()):\n",
    "    if not i%1000:\n",
    "        print i/1000,\n",
    "    key = str(row1[1]['chr'])\n",
    "    #print row1\n",
    "    subset_chrom_df=Updated_chromatin_df[Updated_chromatin_df['seqname'] == key]\n",
    "    len_subset_chrom_df = subset_chrom_df.shape[0]\n",
    "    #print len_subset_chrom_df\n",
    "    for j in range(len_subset_chrom_df):\n",
    "        try:\n",
    "            if float(row1[1]['end']) <= float(subset_chrom_df.loc[subset_chrom_df.index[j],'end']) and float(row1[1]['start']) >= float(subset_chrom_df.loc[subset_chrom_df.index[j],'start']):\n",
    "                    #print subset_chrom_df.loc[subset_chrom_df.index[j],\"chromatin\"]\n",
    "                    locations_df.ix[i,'chromatin_state'] = subset_chrom_df.ix[subset_chrom_df.index[j],'chromatin']\n",
    "                    break\n",
    "        except:\n",
    "            pass\n",
    "            #print j,\n",
    "            #print subset_chrom_df.loc[subset_chrom_df.index[j]]\n",
    "\n",
    "locations_df.head(n=20)"
   ]
  },
  {
   "cell_type": "markdown",
   "metadata": {},
   "source": [
    "Do some exploratory analysis"
   ]
  },
  {
   "cell_type": "code",
   "execution_count": 17,
   "metadata": {
    "collapsed": false
   },
   "outputs": [
    {
     "data": {
      "text/plain": [
       "388464"
      ]
     },
     "execution_count": 17,
     "metadata": {},
     "output_type": "execute_result"
    }
   ],
   "source": [
    "len(locations_df)"
   ]
  },
  {
   "cell_type": "code",
   "execution_count": null,
   "metadata": {
    "collapsed": true
   },
   "outputs": [],
   "source": []
  },
  {
   "cell_type": "code",
   "execution_count": null,
   "metadata": {
    "collapsed": true
   },
   "outputs": [],
   "source": []
  },
  {
   "cell_type": "code",
   "execution_count": null,
   "metadata": {
    "collapsed": true
   },
   "outputs": [],
   "source": []
  },
  {
   "cell_type": "code",
   "execution_count": null,
   "metadata": {
    "collapsed": true
   },
   "outputs": [],
   "source": []
  },
  {
   "cell_type": "markdown",
   "metadata": {},
   "source": [
    "### In what chromatin state are differentially expressed genes?"
   ]
  },
  {
   "cell_type": "markdown",
   "metadata": {},
   "source": [
    "First we load a list of the regions of differentially expressed genes (for carcass data).  [You need to specify where you got this list from]"
   ]
  },
  {
   "cell_type": "code",
   "execution_count": 10,
   "metadata": {
    "collapsed": false
   },
   "outputs": [
    {
     "name": "stdout",
     "output_type": "stream",
     "text": [
      "443\n"
     ]
    }
   ],
   "source": [
    "diff_expression_locations=[]\n",
    "fp=open(\"FlyBase_FastA_differentially_expressed_carcass.txt\", \"r\")\n",
    "for line in fp:\n",
    "    if line[0]=='>':\n",
    "        diff_expression_locations.append(line.split(\";\")[1])\n",
    "fp.close()\n",
    "print len(diff_expression_locations)"
   ]
  },
  {
   "cell_type": "code",
   "execution_count": 11,
   "metadata": {
    "collapsed": false
   },
   "outputs": [
    {
     "data": {
      "text/plain": [
       "[' loc=X:245978..254650',\n",
       " ' loc=X:complement(585081..620195)',\n",
       " ' loc=X:complement(946662..947500)',\n",
       " ' loc=X:complement(2278031..2293411)',\n",
       " ' loc=X:complement(2622069..2624575)',\n",
       " ' loc=X:2948034..2949120',\n",
       " ' loc=X:complement(2885186..2885914)',\n",
       " ' loc=X:4939128..4955916',\n",
       " ' loc=X:5421533..5427219',\n",
       " ' loc=X:complement(6349016..6350401)']"
      ]
     },
     "execution_count": 11,
     "metadata": {},
     "output_type": "execute_result"
    }
   ],
   "source": [
    "diff_expression_locations[:10]"
   ]
  },
  {
   "cell_type": "markdown",
   "metadata": {},
   "source": [
    "We remove the word complement, and create a dataframe of these values."
   ]
  },
  {
   "cell_type": "code",
   "execution_count": 49,
   "metadata": {
    "collapsed": false
   },
   "outputs": [
    {
     "data": {
      "text/html": [
       "<div>\n",
       "<table border=\"1\" class=\"dataframe\">\n",
       "  <thead>\n",
       "    <tr style=\"text-align: right;\">\n",
       "      <th></th>\n",
       "      <th>chr</th>\n",
       "      <th>start</th>\n",
       "      <th>end</th>\n",
       "    </tr>\n",
       "  </thead>\n",
       "  <tbody>\n",
       "    <tr>\n",
       "      <th>0</th>\n",
       "      <td>X</td>\n",
       "      <td>245978</td>\n",
       "      <td>254650</td>\n",
       "    </tr>\n",
       "    <tr>\n",
       "      <th>1</th>\n",
       "      <td>X</td>\n",
       "      <td>585081</td>\n",
       "      <td>620195</td>\n",
       "    </tr>\n",
       "    <tr>\n",
       "      <th>2</th>\n",
       "      <td>X</td>\n",
       "      <td>946662</td>\n",
       "      <td>947500</td>\n",
       "    </tr>\n",
       "    <tr>\n",
       "      <th>3</th>\n",
       "      <td>X</td>\n",
       "      <td>2278031</td>\n",
       "      <td>2293411</td>\n",
       "    </tr>\n",
       "    <tr>\n",
       "      <th>4</th>\n",
       "      <td>X</td>\n",
       "      <td>2622069</td>\n",
       "      <td>2624575</td>\n",
       "    </tr>\n",
       "  </tbody>\n",
       "</table>\n",
       "</div>"
      ],
      "text/plain": [
       "  chr    start      end\n",
       "0   X   245978   254650\n",
       "1   X   585081   620195\n",
       "2   X   946662   947500\n",
       "3   X  2278031  2293411\n",
       "4   X  2622069  2624575"
      ]
     },
     "execution_count": 49,
     "metadata": {},
     "output_type": "execute_result"
    }
   ],
   "source": [
    "diff_expression_locations =[ele.replace('complement(','') for ele in diff_expression_locations]\n",
    "diff_expression_locations = [ele.strip(')') for ele in diff_expression_locations]\n",
    "\n",
    "diff_expression_df=pd.DataFrame()\n",
    "diff_expression_df[\"chr\"]=[ele.split(\":\")[0].split(\"=\")[1] for ele in diff_expression_locations]\n",
    "diff_expression_df[\"start\"]=[ele.split(\":\")[1].split(\"..\")[0] for ele in diff_expression_locations]\n",
    "diff_expression_df[\"end\"]=[ele.split(\"..\")[1] for ele in diff_expression_locations]\n",
    "\n",
    "\n",
    "diff_expression_df.to_csv(\"Differentially_expressed_genes_carcass_df\")\n",
    "\n",
    "diff_expression_df.head()"
   ]
  },
  {
   "cell_type": "markdown",
   "metadata": {},
   "source": [
    "Now, we use the same process as before to find the chromatin state of each of these differentially bound regions"
   ]
  },
  {
   "cell_type": "code",
   "execution_count": 23,
   "metadata": {
    "collapsed": false
   },
   "outputs": [
    {
     "name": "stdout",
     "output_type": "stream",
     "text": [
      "0 1 2 3 4 5 6 7 8 9 10 11 12 13 14 15 16 17 18 19 20 21 22 23 24 25 26 27 28 29 30 31 32 33 34 35 36 37 38 39 40 41 42 43 44 45 46 47 48 49 50 51 52 53 54 55 56 57 58 59 60 61 62 63 64 65 66 67 68 69 70 71 72 73 74 75 76 77 78 79 80 81 82 83 84 85 86 87 88 89 90 91 92 93 94 95 96 97 98 99 100 101 102 103 104 105 106 107 108 109 110 111 112 113 114 115 116 117 118 119 120 121 122 123 124 125 126 127 128 129 130 131 132 133 134 135 136 137 138 139 140 141 142 143 144 145 146 147 148 149 150 151 152 153 154 155 156 157 158 159 160 161 162 163 164 165 166 167 168 169 170 171 172 173 174 175 176 177 178 179 180 181 182 183 184 185 186 187 188 189 190 191 192 193 194 195 196 197 198 199 200 201 202 203 204 205 206 207 208 209 210 211 212 213 214 215 216 217 218 219 220 221 222 223 224 225 226 227 228 229 230 231 232 233 234 235 236 237 238 239 240 241 242 243 244 245 246 247 248 249 250 251 252 253 254 255 256 257 258 259 260 261 262 263 264 265 266 267 268 269 270 271 272 273 274 275 276 277 278 279 280 281 282 283 284 285 286 287 288 289 290 291 292 293 294 295 296 297 298 299 300 301 302 303 304 305 306 307 308 309 310 311 312 313 314 315 316 317 318 319 320 321 322 323 324 325 326 327 328 329 330 331 332 333 334 335 336 337 338 339 340 341 342 343 344 345 346 347 348 349 350 351 352 353 354 355 356 357 358 359 360 361 362 363 364 365 366 367 368 369 370 371 372 373 374 375 376 377 378 379 380 381 382 383 384 385 386 387 388 389 390 391 392 393 394 395 396 397 398 399 400 401 402 403 404 405 406 407 408 409 410 411 412 413 414 415 416 417 418 419 420 421 422 423 424 425 426 427 428 429 430 431 432 433 434 435 436 437 438 439 440 441 442"
     ]
    },
    {
     "data": {
      "text/html": [
       "<div>\n",
       "<table border=\"1\" class=\"dataframe\">\n",
       "  <thead>\n",
       "    <tr style=\"text-align: right;\">\n",
       "      <th></th>\n",
       "      <th>chr</th>\n",
       "      <th>start</th>\n",
       "      <th>end</th>\n",
       "      <th>chromatin_state</th>\n",
       "    </tr>\n",
       "  </thead>\n",
       "  <tbody>\n",
       "    <tr>\n",
       "      <th>0</th>\n",
       "      <td>X</td>\n",
       "      <td>245978</td>\n",
       "      <td>254650</td>\n",
       "      <td>BLACK</td>\n",
       "    </tr>\n",
       "    <tr>\n",
       "      <th>1</th>\n",
       "      <td>X</td>\n",
       "      <td>585081</td>\n",
       "      <td>620195</td>\n",
       "      <td>NaN</td>\n",
       "    </tr>\n",
       "    <tr>\n",
       "      <th>2</th>\n",
       "      <td>X</td>\n",
       "      <td>946662</td>\n",
       "      <td>947500</td>\n",
       "      <td>NaN</td>\n",
       "    </tr>\n",
       "    <tr>\n",
       "      <th>3</th>\n",
       "      <td>X</td>\n",
       "      <td>2278031</td>\n",
       "      <td>2293411</td>\n",
       "      <td>NaN</td>\n",
       "    </tr>\n",
       "    <tr>\n",
       "      <th>4</th>\n",
       "      <td>X</td>\n",
       "      <td>2622069</td>\n",
       "      <td>2624575</td>\n",
       "      <td>YELLOW</td>\n",
       "    </tr>\n",
       "    <tr>\n",
       "      <th>5</th>\n",
       "      <td>X</td>\n",
       "      <td>2948034</td>\n",
       "      <td>2949120</td>\n",
       "      <td>BLACK</td>\n",
       "    </tr>\n",
       "    <tr>\n",
       "      <th>6</th>\n",
       "      <td>X</td>\n",
       "      <td>2885186</td>\n",
       "      <td>2885914</td>\n",
       "      <td>BLACK</td>\n",
       "    </tr>\n",
       "    <tr>\n",
       "      <th>7</th>\n",
       "      <td>X</td>\n",
       "      <td>4939128</td>\n",
       "      <td>4955916</td>\n",
       "      <td>NaN</td>\n",
       "    </tr>\n",
       "    <tr>\n",
       "      <th>8</th>\n",
       "      <td>X</td>\n",
       "      <td>5421533</td>\n",
       "      <td>5427219</td>\n",
       "      <td>BLACK</td>\n",
       "    </tr>\n",
       "    <tr>\n",
       "      <th>9</th>\n",
       "      <td>X</td>\n",
       "      <td>6349016</td>\n",
       "      <td>6350401</td>\n",
       "      <td>YELLOW</td>\n",
       "    </tr>\n",
       "    <tr>\n",
       "      <th>10</th>\n",
       "      <td>2L</td>\n",
       "      <td>728362</td>\n",
       "      <td>730564</td>\n",
       "      <td>BLACK</td>\n",
       "    </tr>\n",
       "    <tr>\n",
       "      <th>11</th>\n",
       "      <td>2L</td>\n",
       "      <td>25402</td>\n",
       "      <td>65404</td>\n",
       "      <td>NaN</td>\n",
       "    </tr>\n",
       "    <tr>\n",
       "      <th>12</th>\n",
       "      <td>3L</td>\n",
       "      <td>20438166</td>\n",
       "      <td>20439872</td>\n",
       "      <td>YELLOW</td>\n",
       "    </tr>\n",
       "    <tr>\n",
       "      <th>13</th>\n",
       "      <td>3L</td>\n",
       "      <td>21198261</td>\n",
       "      <td>21203232</td>\n",
       "      <td>BLACK</td>\n",
       "    </tr>\n",
       "    <tr>\n",
       "      <th>14</th>\n",
       "      <td>3L</td>\n",
       "      <td>21136447</td>\n",
       "      <td>21171930</td>\n",
       "      <td>NaN</td>\n",
       "    </tr>\n",
       "    <tr>\n",
       "      <th>15</th>\n",
       "      <td>3L</td>\n",
       "      <td>22026230</td>\n",
       "      <td>22028325</td>\n",
       "      <td>BLACK</td>\n",
       "    </tr>\n",
       "    <tr>\n",
       "      <th>16</th>\n",
       "      <td>3R</td>\n",
       "      <td>5633627</td>\n",
       "      <td>5634640</td>\n",
       "      <td>YELLOW</td>\n",
       "    </tr>\n",
       "    <tr>\n",
       "      <th>17</th>\n",
       "      <td>3R</td>\n",
       "      <td>5478390</td>\n",
       "      <td>5483906</td>\n",
       "      <td>GREEN</td>\n",
       "    </tr>\n",
       "    <tr>\n",
       "      <th>18</th>\n",
       "      <td>3R</td>\n",
       "      <td>4465421</td>\n",
       "      <td>4479207</td>\n",
       "      <td>NaN</td>\n",
       "    </tr>\n",
       "    <tr>\n",
       "      <th>19</th>\n",
       "      <td>2L</td>\n",
       "      <td>5264001</td>\n",
       "      <td>5265899</td>\n",
       "      <td>BLUE</td>\n",
       "    </tr>\n",
       "  </tbody>\n",
       "</table>\n",
       "</div>"
      ],
      "text/plain": [
       "   chr     start       end chromatin_state\n",
       "0    X    245978    254650           BLACK\n",
       "1    X    585081    620195             NaN\n",
       "2    X    946662    947500             NaN\n",
       "3    X   2278031   2293411             NaN\n",
       "4    X   2622069   2624575          YELLOW\n",
       "5    X   2948034   2949120           BLACK\n",
       "6    X   2885186   2885914           BLACK\n",
       "7    X   4939128   4955916             NaN\n",
       "8    X   5421533   5427219           BLACK\n",
       "9    X   6349016   6350401          YELLOW\n",
       "10  2L    728362    730564           BLACK\n",
       "11  2L     25402     65404             NaN\n",
       "12  3L  20438166  20439872          YELLOW\n",
       "13  3L  21198261  21203232           BLACK\n",
       "14  3L  21136447  21171930             NaN\n",
       "15  3L  22026230  22028325           BLACK\n",
       "16  3R   5633627   5634640          YELLOW\n",
       "17  3R   5478390   5483906           GREEN\n",
       "18  3R   4465421   4479207             NaN\n",
       "19  2L   5264001   5265899            BLUE"
      ]
     },
     "execution_count": 23,
     "metadata": {},
     "output_type": "execute_result"
    },
    {
     "name": "stdout",
     "output_type": "stream",
     "text": [
      "\n"
     ]
    }
   ],
   "source": [
    "diff_expression_df[\"chromatin_state\"]=[np.nan for ele in diff_expression_df['chr']]\n",
    "for i,row1 in enumerate(diff_expression_df.iterrows()):\n",
    "    print i,\n",
    "    key = str(row1[1]['chr'])     \n",
    "    subset_chrom_df=Updated_chromatin_df[Updated_chromatin_df.seqname == key]\n",
    "    len_subset_chrom_df = subset_chrom_df.shape[0]\n",
    "    for j in range(len_subset_chrom_df):\n",
    "        try:\n",
    "            if float(row1[1]['end']) <= float(subset_chrom_df.loc[subset_chrom_df.index[j],'end']) and float(row1[1]['start']) >= float(subset_chrom_df.loc[subset_chrom_df.index[j],'start']) :\n",
    "                    diff_expression_df.ix[i,'chromatin_state'] = subset_chrom_df.ix[subset_chrom_df.index[j],'chromatin']\n",
    "                    break\n",
    "        except:\n",
    "            pass\n",
    "\n",
    "\n",
    "diff_expression_df.head(n=20)"
   ]
  },
  {
   "cell_type": "code",
   "execution_count": 24,
   "metadata": {
    "collapsed": false
   },
   "outputs": [
    {
     "data": {
      "text/html": [
       "<div>\n",
       "<table border=\"1\" class=\"dataframe\">\n",
       "  <thead>\n",
       "    <tr style=\"text-align: right;\">\n",
       "      <th></th>\n",
       "      <th>chr</th>\n",
       "      <th>start</th>\n",
       "      <th>end</th>\n",
       "    </tr>\n",
       "    <tr>\n",
       "      <th>chromatin_state</th>\n",
       "      <th></th>\n",
       "      <th></th>\n",
       "      <th></th>\n",
       "    </tr>\n",
       "  </thead>\n",
       "  <tbody>\n",
       "    <tr>\n",
       "      <th>BLACK</th>\n",
       "      <td>128</td>\n",
       "      <td>128</td>\n",
       "      <td>128</td>\n",
       "    </tr>\n",
       "    <tr>\n",
       "      <th>BLUE</th>\n",
       "      <td>43</td>\n",
       "      <td>43</td>\n",
       "      <td>43</td>\n",
       "    </tr>\n",
       "    <tr>\n",
       "      <th>GREEN</th>\n",
       "      <td>9</td>\n",
       "      <td>9</td>\n",
       "      <td>9</td>\n",
       "    </tr>\n",
       "    <tr>\n",
       "      <th>RED</th>\n",
       "      <td>10</td>\n",
       "      <td>10</td>\n",
       "      <td>10</td>\n",
       "    </tr>\n",
       "    <tr>\n",
       "      <th>YELLOW</th>\n",
       "      <td>84</td>\n",
       "      <td>84</td>\n",
       "      <td>84</td>\n",
       "    </tr>\n",
       "  </tbody>\n",
       "</table>\n",
       "</div>"
      ],
      "text/plain": [
       "                 chr  start  end\n",
       "chromatin_state                 \n",
       "BLACK            128    128  128\n",
       "BLUE              43     43   43\n",
       "GREEN              9      9    9\n",
       "RED               10     10   10\n",
       "YELLOW            84     84   84"
      ]
     },
     "execution_count": 24,
     "metadata": {},
     "output_type": "execute_result"
    }
   ],
   "source": [
    "diff_expression_df.groupby(\"chromatin_state\").count()"
   ]
  },
  {
   "cell_type": "code",
   "execution_count": 47,
   "metadata": {
    "collapsed": false
   },
   "outputs": [
    {
     "data": {
      "text/plain": [
       "169"
      ]
     },
     "execution_count": 47,
     "metadata": {},
     "output_type": "execute_result"
    }
   ],
   "source": [
    "sum([1 for ele in diff_expression_df[\"chromatin_state\"] if str(ele)==\"nan\"])"
   ]
  },
  {
   "cell_type": "markdown",
   "metadata": {},
   "source": [
    "Interesting as well to think of the number of NaN, because this gives you the guys in between chromatin states, which might be reminiscent of PEV.  You need to do some more analysis.  \n",
    "\n",
    "a large number of differentially expressed genes are between chromatin states"
   ]
  },
  {
   "cell_type": "code",
   "execution_count": null,
   "metadata": {
    "collapsed": true
   },
   "outputs": [],
   "source": []
  },
  {
   "cell_type": "code",
   "execution_count": null,
   "metadata": {
    "collapsed": true
   },
   "outputs": [],
   "source": []
  },
  {
   "cell_type": "markdown",
   "metadata": {},
   "source": []
  },
  {
   "cell_type": "code",
   "execution_count": null,
   "metadata": {
    "collapsed": true
   },
   "outputs": [],
   "source": []
  },
  {
   "cell_type": "code",
   "execution_count": null,
   "metadata": {
    "collapsed": true
   },
   "outputs": [],
   "source": []
  },
  {
   "cell_type": "code",
   "execution_count": null,
   "metadata": {
    "collapsed": true
   },
   "outputs": [],
   "source": []
  }
 ],
 "metadata": {
  "kernelspec": {
   "display_name": "Python 2",
   "language": "python",
   "name": "python2"
  },
  "language_info": {
   "codemirror_mode": {
    "name": "ipython",
    "version": 2
   },
   "file_extension": ".py",
   "mimetype": "text/x-python",
   "name": "python",
   "nbconvert_exporter": "python",
   "pygments_lexer": "ipython2",
   "version": "2.7.11"
  }
 },
 "nbformat": 4,
 "nbformat_minor": 0
}
